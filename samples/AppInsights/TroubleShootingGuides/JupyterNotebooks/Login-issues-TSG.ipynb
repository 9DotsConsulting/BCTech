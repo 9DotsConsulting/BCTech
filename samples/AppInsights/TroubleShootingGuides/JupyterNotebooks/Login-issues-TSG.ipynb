{
    "metadata": {
        "kernelspec": {
            "name": "python3",
            "display_name": "Python 3"
        },
        "language_info": {
            "name": "python",
            "version": "3.6.6",
            "mimetype": "text/x-python",
            "codemirror_mode": {
                "name": "ipython",
                "version": 3
            },
            "pygments_lexer": "ipython3",
            "nbconvert_exporter": "python",
            "file_extension": ".py"
        }
    },
    "nbformat_minor": 2,
    "nbformat": 4,
    "cells": [
        {
            "cell_type": "markdown",
            "source": [
                "# Dynamics 365 Business Central Trouble Shooting Guide (TSG) - Login issues (SaaS)\r\n",
                "\r\n",
                "This notebook contains Kusto queries that can help getting to the root cause of a login issue for an environment in the online version of Business Central (SaaS). Each section in the notebook contains links to the TSG part of the authorization telemetry documentation in [aka.ms/bctelemetry](aka.ms/bctelemetry), as well as Kusto queries that help dive into a specific area. \r\n",
                "\r\n",
                "NB! The signal used in this notebook is only available in version 16.2 (or newer) of Business Central online, so check the version of your environment."
            ],
            "metadata": {
                "azdata_cell_guid": "1f608a1d-2436-4b48-80d4-5c4d2f8ca7d0"
            }
        },
        {
            "cell_type": "markdown",
            "source": [
                "## 1\\. Get setup: Load up Python libraries and connect to Application Insights\n",
                "\n",
                "First you need to set the notebook Kernel to Python3, load the KQLmagic module (did you install it?) and connect to your Application Insights resource (get appid and appkey from the API access page in the Application Insights portal)"
            ],
            "metadata": {
                "azdata_cell_guid": "f103fae9-cf6d-40f7-9062-11ce50691046"
            }
        },
        {
            "cell_type": "code",
            "source": [
                "# load the KQLmagic module\r\n",
                "%reload_ext Kqlmagic"
            ],
            "metadata": {
                "azdata_cell_guid": "a253fa8e-6ac2-4722-a00a-1c52aedab4ed",
                "tags": []
            },
            "outputs": [],
            "execution_count": 10
        },
        {
            "cell_type": "code",
            "source": [
                "# Connect to the Application Insights API\r\n",
                "%kql appinsights://appid='<add app id from the Application Insights portal>';appkey='<add API key from the Application Insights portal>'"
            ],
            "metadata": {
                "azdata_cell_guid": "76c5fa02-b403-4c57-8c7d-3150e9d4270a"
            },
            "outputs": [],
            "execution_count": 11
        },
        {
            "cell_type": "markdown",
            "source": [
                "## 2\\. Define filters\n",
                "\n",
                "This workbook is designed for troubleshooting a single environment. Please provide values for aadTenantId and environmentName (or use a config file)."
            ],
            "metadata": {
                "azdata_cell_guid": "9ef1220c-d9cc-4552-9297-1428efcafb32"
            }
        },
        {
            "cell_type": "code",
            "source": [
                "# Add values for AAD tenant id, environment name, and date range.\r\n",
                "# It is possible to leave the value for environment name blank (if you want to analyze across all values of the parameter)\r\n",
                "\r\n",
                "# You can either use configuration file (INI file format) or set filters directly. \r\n",
                "\r\n",
                "# If you specify a config file, then variables set here takes precedence over manually set filter variables\r\n",
                "# config file name and directory (full path)\r\n",
                "configFile = \"c:/tmp/notebook.ini\"\r\n",
                "\r\n",
                "\r\n",
                "# Add AAD tenant id and environment name here\r\n",
                "aadTenantId = \"MyaaDtenantId\"\r\n",
                "environmentName = \"\"\r\n",
                "extensionId = \"MyExtensionId\"\r\n",
                "\r\n",
                "# date filters for the analysis\r\n",
                "# use YYYY-MM-DD format for the dates (ISO 8601)\r\n",
                "startDate = \"2020-11-20\"\r\n",
                "endDate = \"2020-11-24\"\r\n",
                "\r\n",
                "\r\n",
                "\r\n",
                "\r\n",
                "# Do not edit this code section\r\n",
                "import configparser\r\n",
                "config = configparser.ConfigParser()\r\n",
                "\r\n",
                "config.read(configFile)\r\n",
                "\r\n",
                "if bool(config.defaults()):\r\n",
                "    if config.has_option('DEFAULT', 'aadTenantId'):\r\n",
                "        aadTenantId = config['DEFAULT']['aadTenantId']\r\n",
                "    if config.has_option('DEFAULT', 'environmentName'):\r\n",
                "        environmentName = config['DEFAULT']['environmentName']\r\n",
                "    if config.has_option('DEFAULT', 'extensionId'):\r\n",
                "        extensionId = config['DEFAULT']['extensionId']\r\n",
                "    if config.has_option('DEFAULT', 'startDate'):    \r\n",
                "        startDate = config['DEFAULT']['startDate']\r\n",
                "    if config.has_option('DEFAULT', 'endDate'):\r\n",
                "        endDate = config['DEFAULT']['endDate']\r\n",
                "\r\n",
                "print(\"Using these parameters for the analysis:\")\r\n",
                "print(\"----------------------------------------\")\r\n",
                "print(\"aadTenantId         \" + aadTenantId)\r\n",
                "print(\"environmentName     \" + environmentName)\r\n",
                "print(\"startDate           \" + startDate)\r\n",
                "print(\"endDate             \" + endDate)"
            ],
            "metadata": {
                "azdata_cell_guid": "0a0785f7-a85e-4ccf-9020-732e1d4c058a",
                "tags": []
            },
            "outputs": [
                {
                    "name": "stdout",
                    "text": "Using these parameters for the analysis:\n----------------------------------------\naadTenantId         0f3ec54f-5f3e-432a-8c80-0eae667293e7\nenvironmentName     \nstartDate           2020-11-01\nendDate             2020-12-01\n",
                    "output_type": "stream"
                }
            ],
            "execution_count": 12
        },
        {
            "cell_type": "markdown",
            "source": [
                "# Analyze the login flow\r\n",
                "Now you can run Kusto queries to look for possible root causes for login issues.\r\n",
                "\r\n",
                "Either click **Run All** above to run all sections, or scroll down to the type of analysis you want to do and manually run queries\r\n",
                "\r\n",
                "Documentation of the authentication and authorization flow: https://docs.microsoft.com/en-us/dynamics365/business-central/dev-itpro/security/security-application\r\n",
                "\r\n",
                "Kusto sample: https://github.com/microsoft/BCTech/blob/master/samples/AppInsights/KQL/RawData/Authorization.kql"
            ],
            "metadata": {
                "azdata_cell_guid": "5f9b698d-8a7e-4757-b27d-02f219d6c589"
            }
        },
        {
            "cell_type": "markdown",
            "source": [
                "## Authentication\r\n",
                "\r\n",
                "Authentication in the online version of Business Central happens strictly in Azure Active Directory (AAD). Only when a user is authenticated in AAD, a session is attempted to be created in the Business Central server (NST). When dealing with login issues, check for *absense* of signal in eventIds for Authorization in the pre-open company of opening a session in the NST (eventIds RT0001 and RT0003) to determine if the issue is related to AAD (e.g. user is disabled, wrong password, failed MFA) or maybe something happening in the customer network (could be a DNS issue, or a changed firewall rule). \r\n",
                "\r\n",
                "**If you do not see any signal for eventIds RT0001 and RT0003, then start troubleshooting network issues first.**\r\n",
                "\r\n",
                "Read more in the Security Guide here: https://docs.microsoft.com/en-us/dynamics365/business-central/dev-itpro/security/security-application#authentication"
            ],
            "metadata": {
                "azdata_cell_guid": "810235a1-c202-47a2-b9dc-4d4d1ffd123c"
            }
        },
        {
            "cell_type": "code",
            "source": [
                "%%kql\r\n",
                "let _aadTenantId = aadTenantId;\r\n",
                "let _environmentName = environmentName;\r\n",
                "let _startDate = startDate;\r\n",
                "let _endDate = endDate;\r\n",
                "traces\r\n",
                "| where 1==1 \r\n",
                "    and timestamp >= todatetime(_startDate)\r\n",
                "    and timestamp <= todatetime(_endDate) + totimespan(24h) - totimespan(1ms)   \r\n",
                "    and customDimensions.aadTenantId == _aadTenantId\r\n",
                "    and (_environmentName == '' or customDimensions.environmentName == _environmentName )\r\n",
                "    and customDimensions.eventId in ('RT0001', 'RT0003' )\r\n",
                "| summarize request_count=count() by bin(timestamp, 1h) | render timechart title= 'Number of pre-open company authorization attempts in the last day'"
            ],
            "metadata": {
                "azdata_cell_guid": "6426410c-182a-486c-8466-228cb9ce3228",
                "tags": []
            },
            "outputs": [
                {
                    "data": {
                        "text/plain": "<IPython.core.display.HTML object>",
                        "text/html": "<html>\n        <head>\n            \n            \n        </head>\n        <body>\n            <div><p style='padding: 10px; color: #3a87ad; background-color: #d9edf7; border-color: #bce9f1'>&nbsp;*&nbsp;962fbf96-f15e-4d37-8f91-13cae96f4b3e@applicationinsights</p></div>\n        </body>\n        </html>"
                    },
                    "metadata": {},
                    "output_type": "display_data"
                },
                {
                    "data": {
                        "application/vnd.plotly.v1+json": {
                            "config": {
                                "plotlyServerURL": "https://plot.ly"
                            },
                            "data": [
                                {
                                    "line": {
                                        "color": "rgb(31, 118, 179)",
                                        "width": 1
                                    },
                                    "name": "request_count",
                                    "opacity": 0.8,
                                    "type": "scatter",
                                    "x": [
                                        "2020-11-30T08:00:00+00:00",
                                        "2020-11-30T10:00:00+00:00",
                                        "2020-11-30T11:00:00+00:00",
                                        "2020-11-30T16:00:00+00:00",
                                        "2020-11-30T18:00:00+00:00",
                                        "2020-11-30T19:00:00+00:00",
                                        "2020-11-30T20:00:00+00:00",
                                        "2020-11-30T21:00:00+00:00",
                                        "2020-11-30T22:00:00+00:00",
                                        "2020-11-30T23:00:00+00:00",
                                        "2020-12-01T00:00:00+00:00",
                                        "2020-12-01T01:00:00+00:00",
                                        "2020-12-01T02:00:00+00:00",
                                        "2020-12-01T03:00:00+00:00",
                                        "2020-12-01T04:00:00+00:00",
                                        "2020-12-01T05:00:00+00:00",
                                        "2020-12-01T06:00:00+00:00",
                                        "2020-12-01T07:00:00+00:00",
                                        "2020-12-01T08:00:00+00:00",
                                        "2020-12-01T09:00:00+00:00",
                                        "2020-12-01T10:00:00+00:00",
                                        "2020-12-01T11:00:00+00:00",
                                        "2020-12-01T12:00:00+00:00",
                                        "2020-12-01T13:00:00+00:00",
                                        "2020-12-01T14:00:00+00:00",
                                        "2020-12-01T15:00:00+00:00",
                                        "2020-12-01T16:00:00+00:00",
                                        "2020-12-01T17:00:00+00:00",
                                        "2020-12-01T18:00:00+00:00",
                                        "2020-12-01T19:00:00+00:00",
                                        "2020-12-01T20:00:00+00:00",
                                        "2020-12-01T21:00:00+00:00",
                                        "2020-12-01T22:00:00+00:00",
                                        "2020-12-01T23:00:00+00:00"
                                    ],
                                    "y": [
                                        3,
                                        1,
                                        2,
                                        2,
                                        2994,
                                        10101,
                                        9806,
                                        9728,
                                        9686,
                                        9616,
                                        9473,
                                        9333,
                                        9582,
                                        9467,
                                        9607,
                                        9723,
                                        9690,
                                        9741,
                                        9823,
                                        9687,
                                        9725,
                                        9720,
                                        9810,
                                        9731,
                                        9747,
                                        9660,
                                        9393,
                                        9612,
                                        9557,
                                        9553,
                                        9309,
                                        9965,
                                        9583,
                                        4612
                                    ]
                                }
                            ],
                            "layout": {
                                "showlegend": true,
                                "template": {
                                    "data": {
                                        "bar": [
                                            {
                                                "error_x": {
                                                    "color": "#2a3f5f"
                                                },
                                                "error_y": {
                                                    "color": "#2a3f5f"
                                                },
                                                "marker": {
                                                    "line": {
                                                        "color": "#E5ECF6",
                                                        "width": 0.5
                                                    }
                                                },
                                                "type": "bar"
                                            }
                                        ],
                                        "barpolar": [
                                            {
                                                "marker": {
                                                    "line": {
                                                        "color": "#E5ECF6",
                                                        "width": 0.5
                                                    }
                                                },
                                                "type": "barpolar"
                                            }
                                        ],
                                        "carpet": [
                                            {
                                                "aaxis": {
                                                    "endlinecolor": "#2a3f5f",
                                                    "gridcolor": "white",
                                                    "linecolor": "white",
                                                    "minorgridcolor": "white",
                                                    "startlinecolor": "#2a3f5f"
                                                },
                                                "baxis": {
                                                    "endlinecolor": "#2a3f5f",
                                                    "gridcolor": "white",
                                                    "linecolor": "white",
                                                    "minorgridcolor": "white",
                                                    "startlinecolor": "#2a3f5f"
                                                },
                                                "type": "carpet"
                                            }
                                        ],
                                        "choropleth": [
                                            {
                                                "colorbar": {
                                                    "outlinewidth": 0,
                                                    "ticks": ""
                                                },
                                                "type": "choropleth"
                                            }
                                        ],
                                        "contour": [
                                            {
                                                "colorbar": {
                                                    "outlinewidth": 0,
                                                    "ticks": ""
                                                },
                                                "colorscale": [
                                                    [
                                                        0,
                                                        "#0d0887"
                                                    ],
                                                    [
                                                        0.1111111111111111,
                                                        "#46039f"
                                                    ],
                                                    [
                                                        0.2222222222222222,
                                                        "#7201a8"
                                                    ],
                                                    [
                                                        0.3333333333333333,
                                                        "#9c179e"
                                                    ],
                                                    [
                                                        0.4444444444444444,
                                                        "#bd3786"
                                                    ],
                                                    [
                                                        0.5555555555555556,
                                                        "#d8576b"
                                                    ],
                                                    [
                                                        0.6666666666666666,
                                                        "#ed7953"
                                                    ],
                                                    [
                                                        0.7777777777777778,
                                                        "#fb9f3a"
                                                    ],
                                                    [
                                                        0.8888888888888888,
                                                        "#fdca26"
                                                    ],
                                                    [
                                                        1,
                                                        "#f0f921"
                                                    ]
                                                ],
                                                "type": "contour"
                                            }
                                        ],
                                        "contourcarpet": [
                                            {
                                                "colorbar": {
                                                    "outlinewidth": 0,
                                                    "ticks": ""
                                                },
                                                "type": "contourcarpet"
                                            }
                                        ],
                                        "heatmap": [
                                            {
                                                "colorbar": {
                                                    "outlinewidth": 0,
                                                    "ticks": ""
                                                },
                                                "colorscale": [
                                                    [
                                                        0,
                                                        "#0d0887"
                                                    ],
                                                    [
                                                        0.1111111111111111,
                                                        "#46039f"
                                                    ],
                                                    [
                                                        0.2222222222222222,
                                                        "#7201a8"
                                                    ],
                                                    [
                                                        0.3333333333333333,
                                                        "#9c179e"
                                                    ],
                                                    [
                                                        0.4444444444444444,
                                                        "#bd3786"
                                                    ],
                                                    [
                                                        0.5555555555555556,
                                                        "#d8576b"
                                                    ],
                                                    [
                                                        0.6666666666666666,
                                                        "#ed7953"
                                                    ],
                                                    [
                                                        0.7777777777777778,
                                                        "#fb9f3a"
                                                    ],
                                                    [
                                                        0.8888888888888888,
                                                        "#fdca26"
                                                    ],
                                                    [
                                                        1,
                                                        "#f0f921"
                                                    ]
                                                ],
                                                "type": "heatmap"
                                            }
                                        ],
                                        "heatmapgl": [
                                            {
                                                "colorbar": {
                                                    "outlinewidth": 0,
                                                    "ticks": ""
                                                },
                                                "colorscale": [
                                                    [
                                                        0,
                                                        "#0d0887"
                                                    ],
                                                    [
                                                        0.1111111111111111,
                                                        "#46039f"
                                                    ],
                                                    [
                                                        0.2222222222222222,
                                                        "#7201a8"
                                                    ],
                                                    [
                                                        0.3333333333333333,
                                                        "#9c179e"
                                                    ],
                                                    [
                                                        0.4444444444444444,
                                                        "#bd3786"
                                                    ],
                                                    [
                                                        0.5555555555555556,
                                                        "#d8576b"
                                                    ],
                                                    [
                                                        0.6666666666666666,
                                                        "#ed7953"
                                                    ],
                                                    [
                                                        0.7777777777777778,
                                                        "#fb9f3a"
                                                    ],
                                                    [
                                                        0.8888888888888888,
                                                        "#fdca26"
                                                    ],
                                                    [
                                                        1,
                                                        "#f0f921"
                                                    ]
                                                ],
                                                "type": "heatmapgl"
                                            }
                                        ],
                                        "histogram": [
                                            {
                                                "marker": {
                                                    "colorbar": {
                                                        "outlinewidth": 0,
                                                        "ticks": ""
                                                    }
                                                },
                                                "type": "histogram"
                                            }
                                        ],
                                        "histogram2d": [
                                            {
                                                "colorbar": {
                                                    "outlinewidth": 0,
                                                    "ticks": ""
                                                },
                                                "colorscale": [
                                                    [
                                                        0,
                                                        "#0d0887"
                                                    ],
                                                    [
                                                        0.1111111111111111,
                                                        "#46039f"
                                                    ],
                                                    [
                                                        0.2222222222222222,
                                                        "#7201a8"
                                                    ],
                                                    [
                                                        0.3333333333333333,
                                                        "#9c179e"
                                                    ],
                                                    [
                                                        0.4444444444444444,
                                                        "#bd3786"
                                                    ],
                                                    [
                                                        0.5555555555555556,
                                                        "#d8576b"
                                                    ],
                                                    [
                                                        0.6666666666666666,
                                                        "#ed7953"
                                                    ],
                                                    [
                                                        0.7777777777777778,
                                                        "#fb9f3a"
                                                    ],
                                                    [
                                                        0.8888888888888888,
                                                        "#fdca26"
                                                    ],
                                                    [
                                                        1,
                                                        "#f0f921"
                                                    ]
                                                ],
                                                "type": "histogram2d"
                                            }
                                        ],
                                        "histogram2dcontour": [
                                            {
                                                "colorbar": {
                                                    "outlinewidth": 0,
                                                    "ticks": ""
                                                },
                                                "colorscale": [
                                                    [
                                                        0,
                                                        "#0d0887"
                                                    ],
                                                    [
                                                        0.1111111111111111,
                                                        "#46039f"
                                                    ],
                                                    [
                                                        0.2222222222222222,
                                                        "#7201a8"
                                                    ],
                                                    [
                                                        0.3333333333333333,
                                                        "#9c179e"
                                                    ],
                                                    [
                                                        0.4444444444444444,
                                                        "#bd3786"
                                                    ],
                                                    [
                                                        0.5555555555555556,
                                                        "#d8576b"
                                                    ],
                                                    [
                                                        0.6666666666666666,
                                                        "#ed7953"
                                                    ],
                                                    [
                                                        0.7777777777777778,
                                                        "#fb9f3a"
                                                    ],
                                                    [
                                                        0.8888888888888888,
                                                        "#fdca26"
                                                    ],
                                                    [
                                                        1,
                                                        "#f0f921"
                                                    ]
                                                ],
                                                "type": "histogram2dcontour"
                                            }
                                        ],
                                        "mesh3d": [
                                            {
                                                "colorbar": {
                                                    "outlinewidth": 0,
                                                    "ticks": ""
                                                },
                                                "type": "mesh3d"
                                            }
                                        ],
                                        "parcoords": [
                                            {
                                                "line": {
                                                    "colorbar": {
                                                        "outlinewidth": 0,
                                                        "ticks": ""
                                                    }
                                                },
                                                "type": "parcoords"
                                            }
                                        ],
                                        "pie": [
                                            {
                                                "automargin": true,
                                                "type": "pie"
                                            }
                                        ],
                                        "scatter": [
                                            {
                                                "marker": {
                                                    "colorbar": {
                                                        "outlinewidth": 0,
                                                        "ticks": ""
                                                    }
                                                },
                                                "type": "scatter"
                                            }
                                        ],
                                        "scatter3d": [
                                            {
                                                "line": {
                                                    "colorbar": {
                                                        "outlinewidth": 0,
                                                        "ticks": ""
                                                    }
                                                },
                                                "marker": {
                                                    "colorbar": {
                                                        "outlinewidth": 0,
                                                        "ticks": ""
                                                    }
                                                },
                                                "type": "scatter3d"
                                            }
                                        ],
                                        "scattercarpet": [
                                            {
                                                "marker": {
                                                    "colorbar": {
                                                        "outlinewidth": 0,
                                                        "ticks": ""
                                                    }
                                                },
                                                "type": "scattercarpet"
                                            }
                                        ],
                                        "scattergeo": [
                                            {
                                                "marker": {
                                                    "colorbar": {
                                                        "outlinewidth": 0,
                                                        "ticks": ""
                                                    }
                                                },
                                                "type": "scattergeo"
                                            }
                                        ],
                                        "scattergl": [
                                            {
                                                "marker": {
                                                    "colorbar": {
                                                        "outlinewidth": 0,
                                                        "ticks": ""
                                                    }
                                                },
                                                "type": "scattergl"
                                            }
                                        ],
                                        "scattermapbox": [
                                            {
                                                "marker": {
                                                    "colorbar": {
                                                        "outlinewidth": 0,
                                                        "ticks": ""
                                                    }
                                                },
                                                "type": "scattermapbox"
                                            }
                                        ],
                                        "scatterpolar": [
                                            {
                                                "marker": {
                                                    "colorbar": {
                                                        "outlinewidth": 0,
                                                        "ticks": ""
                                                    }
                                                },
                                                "type": "scatterpolar"
                                            }
                                        ],
                                        "scatterpolargl": [
                                            {
                                                "marker": {
                                                    "colorbar": {
                                                        "outlinewidth": 0,
                                                        "ticks": ""
                                                    }
                                                },
                                                "type": "scatterpolargl"
                                            }
                                        ],
                                        "scatterternary": [
                                            {
                                                "marker": {
                                                    "colorbar": {
                                                        "outlinewidth": 0,
                                                        "ticks": ""
                                                    }
                                                },
                                                "type": "scatterternary"
                                            }
                                        ],
                                        "surface": [
                                            {
                                                "colorbar": {
                                                    "outlinewidth": 0,
                                                    "ticks": ""
                                                },
                                                "colorscale": [
                                                    [
                                                        0,
                                                        "#0d0887"
                                                    ],
                                                    [
                                                        0.1111111111111111,
                                                        "#46039f"
                                                    ],
                                                    [
                                                        0.2222222222222222,
                                                        "#7201a8"
                                                    ],
                                                    [
                                                        0.3333333333333333,
                                                        "#9c179e"
                                                    ],
                                                    [
                                                        0.4444444444444444,
                                                        "#bd3786"
                                                    ],
                                                    [
                                                        0.5555555555555556,
                                                        "#d8576b"
                                                    ],
                                                    [
                                                        0.6666666666666666,
                                                        "#ed7953"
                                                    ],
                                                    [
                                                        0.7777777777777778,
                                                        "#fb9f3a"
                                                    ],
                                                    [
                                                        0.8888888888888888,
                                                        "#fdca26"
                                                    ],
                                                    [
                                                        1,
                                                        "#f0f921"
                                                    ]
                                                ],
                                                "type": "surface"
                                            }
                                        ],
                                        "table": [
                                            {
                                                "cells": {
                                                    "fill": {
                                                        "color": "#EBF0F8"
                                                    },
                                                    "line": {
                                                        "color": "white"
                                                    }
                                                },
                                                "header": {
                                                    "fill": {
                                                        "color": "#C8D4E3"
                                                    },
                                                    "line": {
                                                        "color": "white"
                                                    }
                                                },
                                                "type": "table"
                                            }
                                        ]
                                    },
                                    "layout": {
                                        "annotationdefaults": {
                                            "arrowcolor": "#2a3f5f",
                                            "arrowhead": 0,
                                            "arrowwidth": 1
                                        },
                                        "coloraxis": {
                                            "colorbar": {
                                                "outlinewidth": 0,
                                                "ticks": ""
                                            }
                                        },
                                        "colorscale": {
                                            "diverging": [
                                                [
                                                    0,
                                                    "#8e0152"
                                                ],
                                                [
                                                    0.1,
                                                    "#c51b7d"
                                                ],
                                                [
                                                    0.2,
                                                    "#de77ae"
                                                ],
                                                [
                                                    0.3,
                                                    "#f1b6da"
                                                ],
                                                [
                                                    0.4,
                                                    "#fde0ef"
                                                ],
                                                [
                                                    0.5,
                                                    "#f7f7f7"
                                                ],
                                                [
                                                    0.6,
                                                    "#e6f5d0"
                                                ],
                                                [
                                                    0.7,
                                                    "#b8e186"
                                                ],
                                                [
                                                    0.8,
                                                    "#7fbc41"
                                                ],
                                                [
                                                    0.9,
                                                    "#4d9221"
                                                ],
                                                [
                                                    1,
                                                    "#276419"
                                                ]
                                            ],
                                            "sequential": [
                                                [
                                                    0,
                                                    "#0d0887"
                                                ],
                                                [
                                                    0.1111111111111111,
                                                    "#46039f"
                                                ],
                                                [
                                                    0.2222222222222222,
                                                    "#7201a8"
                                                ],
                                                [
                                                    0.3333333333333333,
                                                    "#9c179e"
                                                ],
                                                [
                                                    0.4444444444444444,
                                                    "#bd3786"
                                                ],
                                                [
                                                    0.5555555555555556,
                                                    "#d8576b"
                                                ],
                                                [
                                                    0.6666666666666666,
                                                    "#ed7953"
                                                ],
                                                [
                                                    0.7777777777777778,
                                                    "#fb9f3a"
                                                ],
                                                [
                                                    0.8888888888888888,
                                                    "#fdca26"
                                                ],
                                                [
                                                    1,
                                                    "#f0f921"
                                                ]
                                            ],
                                            "sequentialminus": [
                                                [
                                                    0,
                                                    "#0d0887"
                                                ],
                                                [
                                                    0.1111111111111111,
                                                    "#46039f"
                                                ],
                                                [
                                                    0.2222222222222222,
                                                    "#7201a8"
                                                ],
                                                [
                                                    0.3333333333333333,
                                                    "#9c179e"
                                                ],
                                                [
                                                    0.4444444444444444,
                                                    "#bd3786"
                                                ],
                                                [
                                                    0.5555555555555556,
                                                    "#d8576b"
                                                ],
                                                [
                                                    0.6666666666666666,
                                                    "#ed7953"
                                                ],
                                                [
                                                    0.7777777777777778,
                                                    "#fb9f3a"
                                                ],
                                                [
                                                    0.8888888888888888,
                                                    "#fdca26"
                                                ],
                                                [
                                                    1,
                                                    "#f0f921"
                                                ]
                                            ]
                                        },
                                        "colorway": [
                                            "#636efa",
                                            "#EF553B",
                                            "#00cc96",
                                            "#ab63fa",
                                            "#FFA15A",
                                            "#19d3f3",
                                            "#FF6692",
                                            "#B6E880",
                                            "#FF97FF",
                                            "#FECB52"
                                        ],
                                        "font": {
                                            "color": "#2a3f5f"
                                        },
                                        "geo": {
                                            "bgcolor": "white",
                                            "lakecolor": "white",
                                            "landcolor": "#E5ECF6",
                                            "showlakes": true,
                                            "showland": true,
                                            "subunitcolor": "white"
                                        },
                                        "hoverlabel": {
                                            "align": "left"
                                        },
                                        "hovermode": "closest",
                                        "mapbox": {
                                            "style": "light"
                                        },
                                        "paper_bgcolor": "white",
                                        "plot_bgcolor": "#E5ECF6",
                                        "polar": {
                                            "angularaxis": {
                                                "gridcolor": "white",
                                                "linecolor": "white",
                                                "ticks": ""
                                            },
                                            "bgcolor": "#E5ECF6",
                                            "radialaxis": {
                                                "gridcolor": "white",
                                                "linecolor": "white",
                                                "ticks": ""
                                            }
                                        },
                                        "scene": {
                                            "xaxis": {
                                                "backgroundcolor": "#E5ECF6",
                                                "gridcolor": "white",
                                                "gridwidth": 2,
                                                "linecolor": "white",
                                                "showbackground": true,
                                                "ticks": "",
                                                "zerolinecolor": "white"
                                            },
                                            "yaxis": {
                                                "backgroundcolor": "#E5ECF6",
                                                "gridcolor": "white",
                                                "gridwidth": 2,
                                                "linecolor": "white",
                                                "showbackground": true,
                                                "ticks": "",
                                                "zerolinecolor": "white"
                                            },
                                            "zaxis": {
                                                "backgroundcolor": "#E5ECF6",
                                                "gridcolor": "white",
                                                "gridwidth": 2,
                                                "linecolor": "white",
                                                "showbackground": true,
                                                "ticks": "",
                                                "zerolinecolor": "white"
                                            }
                                        },
                                        "shapedefaults": {
                                            "line": {
                                                "color": "#2a3f5f"
                                            }
                                        },
                                        "ternary": {
                                            "aaxis": {
                                                "gridcolor": "white",
                                                "linecolor": "white",
                                                "ticks": ""
                                            },
                                            "baxis": {
                                                "gridcolor": "white",
                                                "linecolor": "white",
                                                "ticks": ""
                                            },
                                            "bgcolor": "#E5ECF6",
                                            "caxis": {
                                                "gridcolor": "white",
                                                "linecolor": "white",
                                                "ticks": ""
                                            }
                                        },
                                        "title": {
                                            "x": 0.05
                                        },
                                        "xaxis": {
                                            "automargin": true,
                                            "gridcolor": "white",
                                            "linecolor": "white",
                                            "ticks": "",
                                            "title": {
                                                "standoff": 15
                                            },
                                            "zerolinecolor": "white",
                                            "zerolinewidth": 2
                                        },
                                        "yaxis": {
                                            "automargin": true,
                                            "gridcolor": "white",
                                            "linecolor": "white",
                                            "ticks": "",
                                            "title": {
                                                "standoff": 15
                                            },
                                            "zerolinecolor": "white",
                                            "zerolinewidth": 2
                                        }
                                    }
                                },
                                "title": {
                                    "text": "Number of pre-open company authorization attempts in the last day"
                                },
                                "xaxis": {
                                    "autorange": true,
                                    "title": {
                                        "text": "timestamp"
                                    },
                                    "type": "date"
                                },
                                "yaxis": {
                                    "ticksuffix": "",
                                    "title": {
                                        "text": "request_count"
                                    },
                                    "type": "linear"
                                }
                            }
                        }
                    },
                    "metadata": {},
                    "output_type": "display_data"
                },
                {
                    "data": {
                        "text/plain": "<IPython.core.display.HTML object>",
                        "text/html": "<html>\n        <head>\n            \n            \n        </head>\n        <body>\n            <div><p style='padding: 10px; color: #3a87ad; background-color: #d9edf7; border-color: #bce9f1'>Done&nbsp;(00:02.221):&nbsp;34&nbsp;records</p></div>\n        </body>\n        </html>"
                    },
                    "metadata": {},
                    "output_type": "display_data"
                },
                {
                    "data": {
                        "text/plain": "[{'timestamp': datetime.datetime(2020, 11, 30, 8, 0, tzinfo=tzutc()), 'request_count': 3},\n {'timestamp': datetime.datetime(2020, 12, 1, 2, 0, tzinfo=tzutc()), 'request_count': 9582},\n {'timestamp': datetime.datetime(2020, 12, 1, 21, 0, tzinfo=tzutc()), 'request_count': 9965},\n {'timestamp': datetime.datetime(2020, 12, 1, 22, 0, tzinfo=tzutc()), 'request_count': 9583},\n {'timestamp': datetime.datetime(2020, 12, 1, 23, 0, tzinfo=tzutc()), 'request_count': 4612},\n {'timestamp': datetime.datetime(2020, 12, 1, 19, 0, tzinfo=tzutc()), 'request_count': 9553},\n {'timestamp': datetime.datetime(2020, 12, 1, 20, 0, tzinfo=tzutc()), 'request_count': 9309},\n {'timestamp': datetime.datetime(2020, 11, 30, 20, 0, tzinfo=tzutc()), 'request_count': 9806},\n {'timestamp': datetime.datetime(2020, 11, 30, 21, 0, tzinfo=tzutc()), 'request_count': 9728},\n {'timestamp': datetime.datetime(2020, 11, 30, 22, 0, tzinfo=tzutc()), 'request_count': 9686},\n {'timestamp': datetime.datetime(2020, 11, 30, 23, 0, tzinfo=tzutc()), 'request_count': 9616},\n {'timestamp': datetime.datetime(2020, 12, 1, 0, 0, tzinfo=tzutc()), 'request_count': 9473},\n {'timestamp': datetime.datetime(2020, 12, 1, 12, 0, tzinfo=tzutc()), 'request_count': 9810},\n {'timestamp': datetime.datetime(2020, 12, 1, 13, 0, tzinfo=tzutc()), 'request_count': 9731},\n {'timestamp': datetime.datetime(2020, 12, 1, 11, 0, tzinfo=tzutc()), 'request_count': 9720},\n {'timestamp': datetime.datetime(2020, 11, 30, 19, 0, tzinfo=tzutc()), 'request_count': 10101},\n {'timestamp': datetime.datetime(2020, 12, 1, 3, 0, tzinfo=tzutc()), 'request_count': 9467},\n {'timestamp': datetime.datetime(2020, 12, 1, 4, 0, tzinfo=tzutc()), 'request_count': 9607},\n {'timestamp': datetime.datetime(2020, 12, 1, 8, 0, tzinfo=tzutc()), 'request_count': 9823},\n {'timestamp': datetime.datetime(2020, 12, 1, 9, 0, tzinfo=tzutc()), 'request_count': 9687},\n {'timestamp': datetime.datetime(2020, 12, 1, 10, 0, tzinfo=tzutc()), 'request_count': 9725},\n {'timestamp': datetime.datetime(2020, 12, 1, 14, 0, tzinfo=tzutc()), 'request_count': 9747},\n {'timestamp': datetime.datetime(2020, 12, 1, 18, 0, tzinfo=tzutc()), 'request_count': 9557},\n {'timestamp': datetime.datetime(2020, 12, 1, 5, 0, tzinfo=tzutc()), 'request_count': 9723},\n {'timestamp': datetime.datetime(2020, 12, 1, 6, 0, tzinfo=tzutc()), 'request_count': 9690},\n {'timestamp': datetime.datetime(2020, 12, 1, 15, 0, tzinfo=tzutc()), 'request_count': 9660},\n {'timestamp': datetime.datetime(2020, 12, 1, 7, 0, tzinfo=tzutc()), 'request_count': 9741},\n {'timestamp': datetime.datetime(2020, 11, 30, 18, 0, tzinfo=tzutc()), 'request_count': 2994},\n {'timestamp': datetime.datetime(2020, 12, 1, 1, 0, tzinfo=tzutc()), 'request_count': 9333},\n {'timestamp': datetime.datetime(2020, 12, 1, 16, 0, tzinfo=tzutc()), 'request_count': 9393},\n {'timestamp': datetime.datetime(2020, 12, 1, 17, 0, tzinfo=tzutc()), 'request_count': 9612},\n {'timestamp': datetime.datetime(2020, 11, 30, 10, 0, tzinfo=tzutc()), 'request_count': 1},\n {'timestamp': datetime.datetime(2020, 11, 30, 16, 0, tzinfo=tzutc()), 'request_count': 2},\n {'timestamp': datetime.datetime(2020, 11, 30, 11, 0, tzinfo=tzutc()), 'request_count': 2}]",
                        "text/html": ""
                    },
                    "metadata": {},
                    "execution_count": 13,
                    "output_type": "execute_result"
                }
            ],
            "execution_count": 13
        },
        {
            "cell_type": "markdown",
            "source": [
                "## Authorization failures (pre-open company)\r\n",
                "\r\n",
                "A user can fail authorization before the open company trigger is executed for a number of different reasons:\r\n",
                "* The user was successfully authenticated in Azure Active Directory but the user account is disabled in Business Central.\r\n",
                "* A user successfully authenticated in Azure Active Directory but the user does not have any entitlements in Business Central (license issue)\r\n",
                "\r\n",
                "Read more about these types of failures in the authorization signal docs here: https://docs.microsoft.com/en-us/dynamics365/business-central/dev-itpro/administration/telemetry-authorization-trace#authorizationfailedpreopencompany\r\n",
                "\r\n",
                "Kusto query: https://github.com/microsoft/BCTech/blob/master/samples/AppInsights/KQL/RawData/Authorization.kql"
            ],
            "metadata": {
                "azdata_cell_guid": "2f9c2d0d-df3c-482b-af58-48416a517117"
            }
        },
        {
            "cell_type": "code",
            "source": [
                "%%kql\r\n",
                "let _aadTenantId = aadTenantId;\r\n",
                "let _environmentName = environmentName;\r\n",
                "let _startDate = startDate;\r\n",
                "let _endDate = endDate;\r\n",
                "traces\r\n",
                "| where 1==1 \r\n",
                "    and timestamp >= todatetime(_startDate)\r\n",
                "    and timestamp <= todatetime(_endDate) + totimespan(24h) - totimespan(1ms)   \r\n",
                "    and customDimensions.aadTenantId == _aadTenantId\r\n",
                "    and (_environmentName == '' or customDimensions.environmentName == _environmentName )\r\n",
                "    and customDimensions.eventId == 'RT0001'\r\n",
                "| project timestamp\r\n",
                ", guestUser = customDimensions.guestUser\r\n",
                ", userType = customDimensions.userType\r\n",
                ", failureReason = customDimensions.failureReason\r\n",
                ", entitlementSetIds = customDimensions.entitlementSetIds\r\n",
                "| order by timestamp desc\r\n",
                "| limit 100"
            ],
            "metadata": {
                "azdata_cell_guid": "a9e923e9-1d05-4acf-a230-4c5142bc3582",
                "tags": []
            },
            "outputs": [
                {
                    "data": {
                        "text/plain": "<IPython.core.display.HTML object>",
                        "text/html": "<html>\n        <head>\n            \n            \n        </head>\n        <body>\n            <div><p style='padding: 10px; color: #3a87ad; background-color: #d9edf7; border-color: #bce9f1'>&nbsp;*&nbsp;962fbf96-f15e-4d37-8f91-13cae96f4b3e@applicationinsights</p></div>\n        </body>\n        </html>"
                    },
                    "metadata": {},
                    "output_type": "display_data"
                },
                {
                    "data": {
                        "text/plain": "Empty DataFrame\nColumns: [timestamp, guestUser, userType, failureReason, entitlementSetIds]\nIndex: []",
                        "text/html": "<div>\n<style scoped>\n    .dataframe tbody tr th:only-of-type {\n        vertical-align: middle;\n    }\n\n    .dataframe tbody tr th {\n        vertical-align: top;\n    }\n\n    .dataframe thead th {\n        text-align: right;\n    }\n</style>\n<table border=\"1\" class=\"dataframe\">\n  <thead>\n    <tr style=\"text-align: right;\">\n      <th></th>\n      <th>timestamp</th>\n      <th>guestUser</th>\n      <th>userType</th>\n      <th>failureReason</th>\n      <th>entitlementSetIds</th>\n    </tr>\n  </thead>\n  <tbody>\n  </tbody>\n</table>\n</div>",
                        "application/vnd.dataresource+json": {
                            "schema": {
                                "fields": [
                                    {
                                        "name": "timestamp",
                                        "type": "datetime"
                                    },
                                    {
                                        "name": "guestUser",
                                        "type": "string"
                                    },
                                    {
                                        "name": "userType",
                                        "type": "string"
                                    },
                                    {
                                        "name": "failureReason",
                                        "type": "string"
                                    },
                                    {
                                        "name": "entitlementSetIds",
                                        "type": "string"
                                    }
                                ],
                                "kqmagic_version": "0.1.113"
                            },
                            "data": []
                        }
                    },
                    "metadata": {},
                    "output_type": "display_data"
                },
                {
                    "data": {
                        "text/plain": "<IPython.core.display.HTML object>",
                        "text/html": "<html>\n        <head>\n            \n            \n        </head>\n        <body>\n            <div><p style='padding: 10px; color: #3a87ad; background-color: #d9edf7; border-color: #bce9f1'>Done&nbsp;(00:00.635):&nbsp;0&nbsp;records</p></div>\n        </body>\n        </html>"
                    },
                    "metadata": {},
                    "output_type": "display_data"
                },
                {
                    "data": {
                        "text/plain": "[]",
                        "text/html": ""
                    },
                    "metadata": {},
                    "execution_count": 14,
                    "output_type": "execute_result"
                }
            ],
            "execution_count": 14
        },
        {
            "cell_type": "markdown",
            "source": [
                "## Authorization failures (in the open company process)\r\n",
                "\r\n",
                "Events show up here for a number of different reasons\r\n",
                "* The company name is invalid\r\n",
                "* User has no permission to access the company\r\n",
                "* The environment is locked\r\n",
                "* The license has expired or the trial period has ended\r\n",
                "* The user's license is not valid for use on production companies\r\n",
                "\r\n",
                "Read more in the authorization signal docs here: https://docs.microsoft.com/en-us/dynamics365/business-central/dev-itpro/administration/telemetry-authorization-trace#authorization-failed-open-company\r\n",
                "\r\n",
                "Kusto query: https://github.com/microsoft/BCTech/blob/master/samples/AppInsights/KQL/RawData/Authorization.kql\r\n",
                ""
            ],
            "metadata": {
                "azdata_cell_guid": "2f7e604a-0d02-484e-9bcb-a6aa148d5f0b"
            }
        },
        {
            "cell_type": "code",
            "source": [
                "%%kql\r\n",
                "let _aadTenantId = aadTenantId;\r\n",
                "let _environmentName = environmentName;\r\n",
                "let _startDate = startDate;\r\n",
                "let _endDate = endDate;\r\n",
                "traces\r\n",
                "| where 1==1 \r\n",
                "    and timestamp >= todatetime(_startDate)\r\n",
                "    and timestamp <= todatetime(_endDate) + totimespan(24h) - totimespan(1ms)   \r\n",
                "    and customDimensions.aadTenantId == _aadTenantId\r\n",
                "    and (_environmentName == '' or customDimensions.environmentName == _environmentName )\r\n",
                "    and customDimensions.eventId == 'RT0002'\r\n",
                "| project timestamp\r\n",
                ", clientType = customDimensions.clientType\r\n",
                ", companyName = customDimensions.companyName\r\n",
                ", failureReason = customDimensions.failureReason\r\n",
                "| order by timestamp desc\r\n",
                "| limit 100"
            ],
            "metadata": {
                "azdata_cell_guid": "9ec9b678-7d66-4758-9101-4e9e5025dfcf",
                "tags": []
            },
            "outputs": [
                {
                    "data": {
                        "text/plain": "<IPython.core.display.HTML object>",
                        "text/html": "<html>\n        <head>\n            \n            \n        </head>\n        <body>\n            <div><p style='padding: 10px; color: #3a87ad; background-color: #d9edf7; border-color: #bce9f1'>&nbsp;*&nbsp;962fbf96-f15e-4d37-8f91-13cae96f4b3e@applicationinsights</p></div>\n        </body>\n        </html>"
                    },
                    "metadata": {},
                    "output_type": "display_data"
                },
                {
                    "data": {
                        "text/plain": "Empty DataFrame\nColumns: [timestamp, clientType, companyName, failureReason]\nIndex: []",
                        "text/html": "<div>\n<style scoped>\n    .dataframe tbody tr th:only-of-type {\n        vertical-align: middle;\n    }\n\n    .dataframe tbody tr th {\n        vertical-align: top;\n    }\n\n    .dataframe thead th {\n        text-align: right;\n    }\n</style>\n<table border=\"1\" class=\"dataframe\">\n  <thead>\n    <tr style=\"text-align: right;\">\n      <th></th>\n      <th>timestamp</th>\n      <th>clientType</th>\n      <th>companyName</th>\n      <th>failureReason</th>\n    </tr>\n  </thead>\n  <tbody>\n  </tbody>\n</table>\n</div>",
                        "application/vnd.dataresource+json": {
                            "schema": {
                                "fields": [
                                    {
                                        "name": "timestamp",
                                        "type": "datetime"
                                    },
                                    {
                                        "name": "clientType",
                                        "type": "string"
                                    },
                                    {
                                        "name": "companyName",
                                        "type": "string"
                                    },
                                    {
                                        "name": "failureReason",
                                        "type": "string"
                                    }
                                ],
                                "kqmagic_version": "0.1.113"
                            },
                            "data": []
                        }
                    },
                    "metadata": {},
                    "output_type": "display_data"
                },
                {
                    "data": {
                        "text/plain": "<IPython.core.display.HTML object>",
                        "text/html": "<html>\n        <head>\n            \n            \n        </head>\n        <body>\n            <div><p style='padding: 10px; color: #3a87ad; background-color: #d9edf7; border-color: #bce9f1'>Done&nbsp;(00:01.543):&nbsp;0&nbsp;records</p></div>\n        </body>\n        </html>"
                    },
                    "metadata": {},
                    "output_type": "display_data"
                },
                {
                    "data": {
                        "text/plain": "[]",
                        "text/html": ""
                    },
                    "metadata": {},
                    "execution_count": 15,
                    "output_type": "execute_result"
                }
            ],
            "execution_count": 15
        },
        {
            "cell_type": "markdown",
            "source": [
                "## Successful logins (authentication in AAD succeded, authorization in the Business Central server succeeded)\r\n",
                "\r\n",
                "If the user can authenticate against AAD and the two authorization steps inside the Business Central server succeeds, then a session is created and the user has successfully logged in.\r\n",
                "\r\n",
                "Read more about application security in the Security Guide here:  https://docs.microsoft.com/en-us/dynamics365/business-central/dev-itpro/security/security-application#authentication\r\n",
                "\r\n",
                "Kusto query: https://github.com/microsoft/BCTech/blob/master/samples/AppInsights/KQL/RawData/Authorization.kql"
            ],
            "metadata": {
                "azdata_cell_guid": "7ed10cbf-6380-4591-ad66-8dc6b886ba48"
            }
        },
        {
            "cell_type": "code",
            "source": [
                "%%kql\r\n",
                "let _aadTenantId = aadTenantId;\r\n",
                "let _environmentName = environmentName;\r\n",
                "let _startDate = startDate;\r\n",
                "let _endDate = endDate;\r\n",
                "traces\r\n",
                "| where 1==1 \r\n",
                "    and timestamp >= todatetime(_startDate)\r\n",
                "    and timestamp <= todatetime(_endDate) + totimespan(24h) - totimespan(1ms)   \r\n",
                "    and customDimensions.aadTenantId == _aadTenantId\r\n",
                "    and (_environmentName == '' or customDimensions.environmentName == _environmentName )\r\n",
                "    and customDimensions.eventId == 'RT0004'\r\n",
                "| project timestamp\r\n",
                ", clientType = customDimensions.clientType\r\n",
                ", companyName = customDimensions.companyName\r\n",
                ", totalTimeInMS = toreal(totimespan(customDimensions.totalTime))/10000 // totalTime is measured in ticks, divide by 10000 to get milliseconds\r\n",
                "| order by timestamp desc\r\n",
                "| limit 100"
            ],
            "metadata": {
                "azdata_cell_guid": "f8e7955e-2b86-410b-98ad-f4979d85e879"
            },
            "outputs": [
                {
                    "data": {
                        "text/plain": "<IPython.core.display.HTML object>",
                        "text/html": "<html>\n        <head>\n            \n            \n        </head>\n        <body>\n            <div><p style='padding: 10px; color: #3a87ad; background-color: #d9edf7; border-color: #bce9f1'>&nbsp;*&nbsp;962fbf96-f15e-4d37-8f91-13cae96f4b3e@applicationinsights</p></div>\n        </body>\n        </html>"
                    },
                    "metadata": {},
                    "output_type": "display_data"
                },
                {
                    "data": {
                        "text/plain": "                             timestamp  clientType       companyName  \\\n0  2020-12-01 23:59:59.024293100+00:00  Background  CRONUS USA, Inc.   \n1  2020-12-01 23:59:58.974290400+00:00  Background  CRONUS USA, Inc.   \n2  2020-12-01 23:59:58.884285500+00:00  Background  CRONUS USA, Inc.   \n3  2020-12-01 23:59:57.868352900+00:00  Background  CRONUS USA, Inc.   \n4  2020-12-01 23:59:57.833351100+00:00  Background  CRONUS USA, Inc.   \n5  2020-12-01 23:59:57.723346300+00:00  Background  CRONUS USA, Inc.   \n6  2020-12-01 23:59:57.633347500+00:00  Background  CRONUS USA, Inc.   \n7  2020-12-01 23:59:56.529267500+00:00  Background  CRONUS USA, Inc.   \n8  2020-12-01 23:59:56.507955100+00:00  Background  CRONUS USA, Inc.   \n9  2020-12-01 23:59:56.422947400+00:00  Background  CRONUS USA, Inc.   \n10 2020-12-01 23:59:55.267880100+00:00  Background  CRONUS USA, Inc.   \n11    2020-12-01 23:59:55.122877+00:00  Background  CRONUS USA, Inc.   \n12 2020-12-01 23:59:54.092241200+00:00  Background  CRONUS USA, Inc.   \n13 2020-12-01 23:59:54.022233800+00:00  Background  CRONUS USA, Inc.   \n14 2020-12-01 23:59:53.932236200+00:00  Background  CRONUS USA, Inc.   \n15 2020-12-01 23:59:53.812228200+00:00  Background  CRONUS USA, Inc.   \n16 2020-12-01 23:59:52.784140500+00:00  Background  CRONUS USA, Inc.   \n17 2020-12-01 23:59:52.739138200+00:00  Background  CRONUS USA, Inc.   \n18 2020-12-01 23:59:52.649134300+00:00  Background  CRONUS USA, Inc.   \n19 2020-12-01 23:59:52.429126700+00:00  Background  CRONUS USA, Inc.   \n20 2020-12-01 23:59:52.294119900+00:00  Background  CRONUS USA, Inc.   \n21 2020-12-01 23:59:51.231416400+00:00  Background  CRONUS USA, Inc.   \n22 2020-12-01 23:59:51.186416400+00:00  Background  CRONUS USA, Inc.   \n23    2020-12-01 23:59:51.076407+00:00  Background  CRONUS USA, Inc.   \n24 2020-12-01 23:59:50.876404400+00:00  Background  CRONUS USA, Inc.   \n25 2020-12-01 23:59:50.756401700+00:00  Background  CRONUS USA, Inc.   \n26 2020-12-01 23:59:49.674598600+00:00  Background  CRONUS USA, Inc.   \n27 2020-12-01 23:59:49.644595300+00:00  Background  CRONUS USA, Inc.   \n28 2020-12-01 23:59:49.539594600+00:00  Background  CRONUS USA, Inc.   \n29 2020-12-01 23:59:49.448065800+00:00  Background  CRONUS USA, Inc.   \n30 2020-12-01 23:59:49.258055300+00:00  Background  CRONUS USA, Inc.   \n31 2020-12-01 23:59:49.143053500+00:00  Background  CRONUS USA, Inc.   \n32 2020-12-01 23:59:48.122316300+00:00  Background  CRONUS USA, Inc.   \n33 2020-12-01 23:59:48.002313600+00:00  Background  CRONUS USA, Inc.   \n34 2020-12-01 23:59:47.977312200+00:00  Background  CRONUS USA, Inc.   \n35 2020-12-01 23:59:47.812365900+00:00  Background  CRONUS USA, Inc.   \n36 2020-12-01 23:59:46.764741600+00:00  Background  CRONUS USA, Inc.   \n37 2020-12-01 23:59:46.689747900+00:00  Background  CRONUS USA, Inc.   \n38 2020-12-01 23:59:46.569735400+00:00  Background  CRONUS USA, Inc.   \n39 2020-12-01 23:59:45.482945800+00:00  Background  CRONUS USA, Inc.   \n40 2020-12-01 23:59:45.367933500+00:00  Background  CRONUS USA, Inc.   \n41 2020-12-01 23:59:45.262928900+00:00  Background  CRONUS USA, Inc.   \n42 2020-12-01 23:59:44.222781200+00:00  Background  CRONUS USA, Inc.   \n43 2020-12-01 23:59:44.147777800+00:00  Background  CRONUS USA, Inc.   \n44 2020-12-01 23:59:44.037774400+00:00  Background  CRONUS USA, Inc.   \n45 2020-12-01 23:59:43.882769600+00:00  Background  CRONUS USA, Inc.   \n46 2020-12-01 23:59:42.736430500+00:00  Background  CRONUS USA, Inc.   \n47 2020-12-01 23:59:42.451416100+00:00  Background  CRONUS USA, Inc.   \n48 2020-12-01 23:59:41.437026200+00:00  Background  CRONUS USA, Inc.   \n49 2020-12-01 23:59:41.364957400+00:00  Background  CRONUS USA, Inc.   \n50 2020-12-01 23:59:41.251638600+00:00  Background  CRONUS USA, Inc.   \n51 2020-12-01 23:59:41.061633300+00:00  Background  CRONUS USA, Inc.   \n52 2020-12-01 23:59:40.911627600+00:00  Background  CRONUS USA, Inc.   \n53    2020-12-01 23:59:39.892437+00:00  Background  CRONUS USA, Inc.   \n54    2020-12-01 23:59:39.852435+00:00  Background  CRONUS USA, Inc.   \n55 2020-12-01 23:59:39.762432700+00:00  Background  CRONUS USA, Inc.   \n56 2020-12-01 23:59:39.652426300+00:00  Background  CRONUS USA, Inc.   \n57    2020-12-01 23:59:39.532425+00:00  Background  CRONUS USA, Inc.   \n58 2020-12-01 23:59:39.319924600+00:00  Background  CRONUS USA, Inc.   \n59 2020-12-01 23:59:38.304834900+00:00  Background  CRONUS USA, Inc.   \n60 2020-12-01 23:59:38.269835300+00:00  Background  CRONUS USA, Inc.   \n61 2020-12-01 23:59:38.169832600+00:00  Background  CRONUS USA, Inc.   \n62 2020-12-01 23:59:37.964823600+00:00  Background  CRONUS USA, Inc.   \n63 2020-12-01 23:59:37.849818800+00:00  Background  CRONUS USA, Inc.   \n64 2020-12-01 23:59:36.820578200+00:00  Background  CRONUS USA, Inc.   \n65 2020-12-01 23:59:36.810580100+00:00  Background  CRONUS USA, Inc.   \n66 2020-12-01 23:59:36.695585800+00:00  Background  CRONUS USA, Inc.   \n67 2020-12-01 23:59:36.533636500+00:00  Background  CRONUS USA, Inc.   \n68 2020-12-01 23:59:36.354553400+00:00  Background  CRONUS USA, Inc.   \n69 2020-12-01 23:59:35.039970400+00:00  Background  CRONUS USA, Inc.   \n70 2020-12-01 23:59:34.006481900+00:00  Background  CRONUS USA, Inc.   \n71 2020-12-01 23:59:34.006481900+00:00  Background  CRONUS USA, Inc.   \n72 2020-12-01 23:59:33.906477100+00:00  Background  CRONUS USA, Inc.   \n73 2020-12-01 23:59:33.726468100+00:00  Background  CRONUS USA, Inc.   \n74 2020-12-01 23:59:33.581464700+00:00  Background  CRONUS USA, Inc.   \n75 2020-12-01 23:59:33.445314100+00:00  Background  CRONUS USA, Inc.   \n76 2020-12-01 23:59:32.418708400+00:00  Background  CRONUS USA, Inc.   \n77 2020-12-01 23:59:32.373705900+00:00  Background  CRONUS USA, Inc.   \n78 2020-12-01 23:59:32.208700400+00:00  Background  CRONUS USA, Inc.   \n79 2020-12-01 23:59:32.028691500+00:00  Background  CRONUS USA, Inc.   \n80 2020-12-01 23:59:31.006281900+00:00  Background  CRONUS USA, Inc.   \n81 2020-12-01 23:59:30.991284400+00:00  Background  CRONUS USA, Inc.   \n82 2020-12-01 23:59:30.846277800+00:00  Background  CRONUS USA, Inc.   \n83 2020-12-01 23:59:30.696270900+00:00  Background  CRONUS USA, Inc.   \n84 2020-12-01 23:59:29.579328200+00:00  Background  CRONUS USA, Inc.   \n85 2020-12-01 23:59:29.447725200+00:00  Background  CRONUS USA, Inc.   \n86 2020-12-01 23:59:28.445773400+00:00  Background  CRONUS USA, Inc.   \n87 2020-12-01 23:59:28.423572900+00:00  Background  CRONUS USA, Inc.   \n88    2020-12-01 23:59:28.344434+00:00  Background  CRONUS USA, Inc.   \n89 2020-12-01 23:59:28.219429400+00:00  Background  CRONUS USA, Inc.   \n90 2020-12-01 23:59:27.077332800+00:00  Background  CRONUS USA, Inc.   \n91 2020-12-01 23:59:25.917730200+00:00  Background  CRONUS USA, Inc.   \n92 2020-12-01 23:59:25.817727200+00:00  Background  CRONUS USA, Inc.   \n93 2020-12-01 23:59:25.672719500+00:00  Background  CRONUS USA, Inc.   \n94    2020-12-01 23:59:24.650153+00:00  Background  CRONUS USA, Inc.   \n95 2020-12-01 23:59:24.635153400+00:00  Background  CRONUS USA, Inc.   \n96 2020-12-01 23:59:24.520150100+00:00  Background  CRONUS USA, Inc.   \n97 2020-12-01 23:59:24.440144800+00:00  Background  CRONUS USA, Inc.   \n98 2020-12-01 23:59:23.426104900+00:00  Background  CRONUS USA, Inc.   \n99 2020-12-01 23:59:23.331104300+00:00  Background  CRONUS USA, Inc.   \n\n    totalTimeInMS  \n0         10.0700  \n1          5.4789  \n2          5.2953  \n3          5.0337  \n4          5.4034  \n5          4.8321  \n6          5.3238  \n7          6.1617  \n8          4.9661  \n9          5.7938  \n10         4.7948  \n11         5.8274  \n12         6.0697  \n13         5.4595  \n14         5.1787  \n15         4.9876  \n16         5.6289  \n17         5.4829  \n18         5.6695  \n19         5.0338  \n20         5.0705  \n21         5.7937  \n22         5.1743  \n23        10.0774  \n24        10.0103  \n25         6.4059  \n26         5.8613  \n27         5.1324  \n28         5.2404  \n29         5.7247  \n30         5.3086  \n31         5.4578  \n32         6.5841  \n33         4.8573  \n34        10.1828  \n35         9.9347  \n36         5.2579  \n37         5.8290  \n38         9.8202  \n39         5.7957  \n40         5.6038  \n41         9.9106  \n42        10.3422  \n43         6.6393  \n44        10.0006  \n45         5.4963  \n46         5.5717  \n47         6.1652  \n48         5.9114  \n49        10.7994  \n50         8.3357  \n51        11.6520  \n52        10.7287  \n53         7.0863  \n54         5.2567  \n55         5.0264  \n56         5.0982  \n57         5.5304  \n58         5.4960  \n59         4.8735  \n60         5.3603  \n61         9.9583  \n62         5.4223  \n63        10.2049  \n64         5.0285  \n65         7.6859  \n66         5.6822  \n67        10.2742  \n68         8.8765  \n69         5.3245  \n70         4.9779  \n71         9.5696  \n72         4.9754  \n73        10.7678  \n74         9.6323  \n75        10.6597  \n76         5.0794  \n77         4.9438  \n78         5.8850  \n79         5.6990  \n80         4.7489  \n81         9.8858  \n82         4.7514  \n83         5.0194  \n84         4.8294  \n85         5.2501  \n86         5.5343  \n87         5.2637  \n88         5.0175  \n89         4.9421  \n90         7.3376  \n91         4.6140  \n92         5.2469  \n93         5.1929  \n94         5.0198  \n95         5.2735  \n96         6.1613  \n97         4.9150  \n98         4.8342  \n99         4.4092  ",
                        "text/html": "<div>\n<style scoped>\n    .dataframe tbody tr th:only-of-type {\n        vertical-align: middle;\n    }\n\n    .dataframe tbody tr th {\n        vertical-align: top;\n    }\n\n    .dataframe thead th {\n        text-align: right;\n    }\n</style>\n<table border=\"1\" class=\"dataframe\">\n  <thead>\n    <tr style=\"text-align: right;\">\n      <th></th>\n      <th>timestamp</th>\n      <th>clientType</th>\n      <th>companyName</th>\n      <th>totalTimeInMS</th>\n    </tr>\n  </thead>\n  <tbody>\n    <tr>\n      <th>0</th>\n      <td>2020-12-01 23:59:59.024293100+00:00</td>\n      <td>Background</td>\n      <td>CRONUS USA, Inc.</td>\n      <td>10.0700</td>\n    </tr>\n    <tr>\n      <th>1</th>\n      <td>2020-12-01 23:59:58.974290400+00:00</td>\n      <td>Background</td>\n      <td>CRONUS USA, Inc.</td>\n      <td>5.4789</td>\n    </tr>\n    <tr>\n      <th>2</th>\n      <td>2020-12-01 23:59:58.884285500+00:00</td>\n      <td>Background</td>\n      <td>CRONUS USA, Inc.</td>\n      <td>5.2953</td>\n    </tr>\n    <tr>\n      <th>3</th>\n      <td>2020-12-01 23:59:57.868352900+00:00</td>\n      <td>Background</td>\n      <td>CRONUS USA, Inc.</td>\n      <td>5.0337</td>\n    </tr>\n    <tr>\n      <th>4</th>\n      <td>2020-12-01 23:59:57.833351100+00:00</td>\n      <td>Background</td>\n      <td>CRONUS USA, Inc.</td>\n      <td>5.4034</td>\n    </tr>\n    <tr>\n      <th>5</th>\n      <td>2020-12-01 23:59:57.723346300+00:00</td>\n      <td>Background</td>\n      <td>CRONUS USA, Inc.</td>\n      <td>4.8321</td>\n    </tr>\n    <tr>\n      <th>6</th>\n      <td>2020-12-01 23:59:57.633347500+00:00</td>\n      <td>Background</td>\n      <td>CRONUS USA, Inc.</td>\n      <td>5.3238</td>\n    </tr>\n    <tr>\n      <th>7</th>\n      <td>2020-12-01 23:59:56.529267500+00:00</td>\n      <td>Background</td>\n      <td>CRONUS USA, Inc.</td>\n      <td>6.1617</td>\n    </tr>\n    <tr>\n      <th>8</th>\n      <td>2020-12-01 23:59:56.507955100+00:00</td>\n      <td>Background</td>\n      <td>CRONUS USA, Inc.</td>\n      <td>4.9661</td>\n    </tr>\n    <tr>\n      <th>9</th>\n      <td>2020-12-01 23:59:56.422947400+00:00</td>\n      <td>Background</td>\n      <td>CRONUS USA, Inc.</td>\n      <td>5.7938</td>\n    </tr>\n    <tr>\n      <th>10</th>\n      <td>2020-12-01 23:59:55.267880100+00:00</td>\n      <td>Background</td>\n      <td>CRONUS USA, Inc.</td>\n      <td>4.7948</td>\n    </tr>\n    <tr>\n      <th>11</th>\n      <td>2020-12-01 23:59:55.122877+00:00</td>\n      <td>Background</td>\n      <td>CRONUS USA, Inc.</td>\n      <td>5.8274</td>\n    </tr>\n    <tr>\n      <th>12</th>\n      <td>2020-12-01 23:59:54.092241200+00:00</td>\n      <td>Background</td>\n      <td>CRONUS USA, Inc.</td>\n      <td>6.0697</td>\n    </tr>\n    <tr>\n      <th>13</th>\n      <td>2020-12-01 23:59:54.022233800+00:00</td>\n      <td>Background</td>\n      <td>CRONUS USA, Inc.</td>\n      <td>5.4595</td>\n    </tr>\n    <tr>\n      <th>14</th>\n      <td>2020-12-01 23:59:53.932236200+00:00</td>\n      <td>Background</td>\n      <td>CRONUS USA, Inc.</td>\n      <td>5.1787</td>\n    </tr>\n    <tr>\n      <th>15</th>\n      <td>2020-12-01 23:59:53.812228200+00:00</td>\n      <td>Background</td>\n      <td>CRONUS USA, Inc.</td>\n      <td>4.9876</td>\n    </tr>\n    <tr>\n      <th>16</th>\n      <td>2020-12-01 23:59:52.784140500+00:00</td>\n      <td>Background</td>\n      <td>CRONUS USA, Inc.</td>\n      <td>5.6289</td>\n    </tr>\n    <tr>\n      <th>17</th>\n      <td>2020-12-01 23:59:52.739138200+00:00</td>\n      <td>Background</td>\n      <td>CRONUS USA, Inc.</td>\n      <td>5.4829</td>\n    </tr>\n    <tr>\n      <th>18</th>\n      <td>2020-12-01 23:59:52.649134300+00:00</td>\n      <td>Background</td>\n      <td>CRONUS USA, Inc.</td>\n      <td>5.6695</td>\n    </tr>\n    <tr>\n      <th>19</th>\n      <td>2020-12-01 23:59:52.429126700+00:00</td>\n      <td>Background</td>\n      <td>CRONUS USA, Inc.</td>\n      <td>5.0338</td>\n    </tr>\n    <tr>\n      <th>20</th>\n      <td>2020-12-01 23:59:52.294119900+00:00</td>\n      <td>Background</td>\n      <td>CRONUS USA, Inc.</td>\n      <td>5.0705</td>\n    </tr>\n    <tr>\n      <th>21</th>\n      <td>2020-12-01 23:59:51.231416400+00:00</td>\n      <td>Background</td>\n      <td>CRONUS USA, Inc.</td>\n      <td>5.7937</td>\n    </tr>\n    <tr>\n      <th>22</th>\n      <td>2020-12-01 23:59:51.186416400+00:00</td>\n      <td>Background</td>\n      <td>CRONUS USA, Inc.</td>\n      <td>5.1743</td>\n    </tr>\n    <tr>\n      <th>23</th>\n      <td>2020-12-01 23:59:51.076407+00:00</td>\n      <td>Background</td>\n      <td>CRONUS USA, Inc.</td>\n      <td>10.0774</td>\n    </tr>\n    <tr>\n      <th>24</th>\n      <td>2020-12-01 23:59:50.876404400+00:00</td>\n      <td>Background</td>\n      <td>CRONUS USA, Inc.</td>\n      <td>10.0103</td>\n    </tr>\n    <tr>\n      <th>25</th>\n      <td>2020-12-01 23:59:50.756401700+00:00</td>\n      <td>Background</td>\n      <td>CRONUS USA, Inc.</td>\n      <td>6.4059</td>\n    </tr>\n    <tr>\n      <th>26</th>\n      <td>2020-12-01 23:59:49.674598600+00:00</td>\n      <td>Background</td>\n      <td>CRONUS USA, Inc.</td>\n      <td>5.8613</td>\n    </tr>\n    <tr>\n      <th>27</th>\n      <td>2020-12-01 23:59:49.644595300+00:00</td>\n      <td>Background</td>\n      <td>CRONUS USA, Inc.</td>\n      <td>5.1324</td>\n    </tr>\n    <tr>\n      <th>28</th>\n      <td>2020-12-01 23:59:49.539594600+00:00</td>\n      <td>Background</td>\n      <td>CRONUS USA, Inc.</td>\n      <td>5.2404</td>\n    </tr>\n    <tr>\n      <th>29</th>\n      <td>2020-12-01 23:59:49.448065800+00:00</td>\n      <td>Background</td>\n      <td>CRONUS USA, Inc.</td>\n      <td>5.7247</td>\n    </tr>\n    <tr>\n      <th>30</th>\n      <td>2020-12-01 23:59:49.258055300+00:00</td>\n      <td>Background</td>\n      <td>CRONUS USA, Inc.</td>\n      <td>5.3086</td>\n    </tr>\n    <tr>\n      <th>31</th>\n      <td>2020-12-01 23:59:49.143053500+00:00</td>\n      <td>Background</td>\n      <td>CRONUS USA, Inc.</td>\n      <td>5.4578</td>\n    </tr>\n    <tr>\n      <th>32</th>\n      <td>2020-12-01 23:59:48.122316300+00:00</td>\n      <td>Background</td>\n      <td>CRONUS USA, Inc.</td>\n      <td>6.5841</td>\n    </tr>\n    <tr>\n      <th>33</th>\n      <td>2020-12-01 23:59:48.002313600+00:00</td>\n      <td>Background</td>\n      <td>CRONUS USA, Inc.</td>\n      <td>4.8573</td>\n    </tr>\n    <tr>\n      <th>34</th>\n      <td>2020-12-01 23:59:47.977312200+00:00</td>\n      <td>Background</td>\n      <td>CRONUS USA, Inc.</td>\n      <td>10.1828</td>\n    </tr>\n    <tr>\n      <th>35</th>\n      <td>2020-12-01 23:59:47.812365900+00:00</td>\n      <td>Background</td>\n      <td>CRONUS USA, Inc.</td>\n      <td>9.9347</td>\n    </tr>\n    <tr>\n      <th>36</th>\n      <td>2020-12-01 23:59:46.764741600+00:00</td>\n      <td>Background</td>\n      <td>CRONUS USA, Inc.</td>\n      <td>5.2579</td>\n    </tr>\n    <tr>\n      <th>37</th>\n      <td>2020-12-01 23:59:46.689747900+00:00</td>\n      <td>Background</td>\n      <td>CRONUS USA, Inc.</td>\n      <td>5.8290</td>\n    </tr>\n    <tr>\n      <th>38</th>\n      <td>2020-12-01 23:59:46.569735400+00:00</td>\n      <td>Background</td>\n      <td>CRONUS USA, Inc.</td>\n      <td>9.8202</td>\n    </tr>\n    <tr>\n      <th>39</th>\n      <td>2020-12-01 23:59:45.482945800+00:00</td>\n      <td>Background</td>\n      <td>CRONUS USA, Inc.</td>\n      <td>5.7957</td>\n    </tr>\n    <tr>\n      <th>40</th>\n      <td>2020-12-01 23:59:45.367933500+00:00</td>\n      <td>Background</td>\n      <td>CRONUS USA, Inc.</td>\n      <td>5.6038</td>\n    </tr>\n    <tr>\n      <th>41</th>\n      <td>2020-12-01 23:59:45.262928900+00:00</td>\n      <td>Background</td>\n      <td>CRONUS USA, Inc.</td>\n      <td>9.9106</td>\n    </tr>\n    <tr>\n      <th>42</th>\n      <td>2020-12-01 23:59:44.222781200+00:00</td>\n      <td>Background</td>\n      <td>CRONUS USA, Inc.</td>\n      <td>10.3422</td>\n    </tr>\n    <tr>\n      <th>43</th>\n      <td>2020-12-01 23:59:44.147777800+00:00</td>\n      <td>Background</td>\n      <td>CRONUS USA, Inc.</td>\n      <td>6.6393</td>\n    </tr>\n    <tr>\n      <th>44</th>\n      <td>2020-12-01 23:59:44.037774400+00:00</td>\n      <td>Background</td>\n      <td>CRONUS USA, Inc.</td>\n      <td>10.0006</td>\n    </tr>\n    <tr>\n      <th>45</th>\n      <td>2020-12-01 23:59:43.882769600+00:00</td>\n      <td>Background</td>\n      <td>CRONUS USA, Inc.</td>\n      <td>5.4963</td>\n    </tr>\n    <tr>\n      <th>46</th>\n      <td>2020-12-01 23:59:42.736430500+00:00</td>\n      <td>Background</td>\n      <td>CRONUS USA, Inc.</td>\n      <td>5.5717</td>\n    </tr>\n    <tr>\n      <th>47</th>\n      <td>2020-12-01 23:59:42.451416100+00:00</td>\n      <td>Background</td>\n      <td>CRONUS USA, Inc.</td>\n      <td>6.1652</td>\n    </tr>\n    <tr>\n      <th>48</th>\n      <td>2020-12-01 23:59:41.437026200+00:00</td>\n      <td>Background</td>\n      <td>CRONUS USA, Inc.</td>\n      <td>5.9114</td>\n    </tr>\n    <tr>\n      <th>49</th>\n      <td>2020-12-01 23:59:41.364957400+00:00</td>\n      <td>Background</td>\n      <td>CRONUS USA, Inc.</td>\n      <td>10.7994</td>\n    </tr>\n    <tr>\n      <th>50</th>\n      <td>2020-12-01 23:59:41.251638600+00:00</td>\n      <td>Background</td>\n      <td>CRONUS USA, Inc.</td>\n      <td>8.3357</td>\n    </tr>\n    <tr>\n      <th>51</th>\n      <td>2020-12-01 23:59:41.061633300+00:00</td>\n      <td>Background</td>\n      <td>CRONUS USA, Inc.</td>\n      <td>11.6520</td>\n    </tr>\n    <tr>\n      <th>52</th>\n      <td>2020-12-01 23:59:40.911627600+00:00</td>\n      <td>Background</td>\n      <td>CRONUS USA, Inc.</td>\n      <td>10.7287</td>\n    </tr>\n    <tr>\n      <th>53</th>\n      <td>2020-12-01 23:59:39.892437+00:00</td>\n      <td>Background</td>\n      <td>CRONUS USA, Inc.</td>\n      <td>7.0863</td>\n    </tr>\n    <tr>\n      <th>54</th>\n      <td>2020-12-01 23:59:39.852435+00:00</td>\n      <td>Background</td>\n      <td>CRONUS USA, Inc.</td>\n      <td>5.2567</td>\n    </tr>\n    <tr>\n      <th>55</th>\n      <td>2020-12-01 23:59:39.762432700+00:00</td>\n      <td>Background</td>\n      <td>CRONUS USA, Inc.</td>\n      <td>5.0264</td>\n    </tr>\n    <tr>\n      <th>56</th>\n      <td>2020-12-01 23:59:39.652426300+00:00</td>\n      <td>Background</td>\n      <td>CRONUS USA, Inc.</td>\n      <td>5.0982</td>\n    </tr>\n    <tr>\n      <th>57</th>\n      <td>2020-12-01 23:59:39.532425+00:00</td>\n      <td>Background</td>\n      <td>CRONUS USA, Inc.</td>\n      <td>5.5304</td>\n    </tr>\n    <tr>\n      <th>58</th>\n      <td>2020-12-01 23:59:39.319924600+00:00</td>\n      <td>Background</td>\n      <td>CRONUS USA, Inc.</td>\n      <td>5.4960</td>\n    </tr>\n    <tr>\n      <th>59</th>\n      <td>2020-12-01 23:59:38.304834900+00:00</td>\n      <td>Background</td>\n      <td>CRONUS USA, Inc.</td>\n      <td>4.8735</td>\n    </tr>\n    <tr>\n      <th>60</th>\n      <td>2020-12-01 23:59:38.269835300+00:00</td>\n      <td>Background</td>\n      <td>CRONUS USA, Inc.</td>\n      <td>5.3603</td>\n    </tr>\n    <tr>\n      <th>61</th>\n      <td>2020-12-01 23:59:38.169832600+00:00</td>\n      <td>Background</td>\n      <td>CRONUS USA, Inc.</td>\n      <td>9.9583</td>\n    </tr>\n    <tr>\n      <th>62</th>\n      <td>2020-12-01 23:59:37.964823600+00:00</td>\n      <td>Background</td>\n      <td>CRONUS USA, Inc.</td>\n      <td>5.4223</td>\n    </tr>\n    <tr>\n      <th>63</th>\n      <td>2020-12-01 23:59:37.849818800+00:00</td>\n      <td>Background</td>\n      <td>CRONUS USA, Inc.</td>\n      <td>10.2049</td>\n    </tr>\n    <tr>\n      <th>64</th>\n      <td>2020-12-01 23:59:36.820578200+00:00</td>\n      <td>Background</td>\n      <td>CRONUS USA, Inc.</td>\n      <td>5.0285</td>\n    </tr>\n    <tr>\n      <th>65</th>\n      <td>2020-12-01 23:59:36.810580100+00:00</td>\n      <td>Background</td>\n      <td>CRONUS USA, Inc.</td>\n      <td>7.6859</td>\n    </tr>\n    <tr>\n      <th>66</th>\n      <td>2020-12-01 23:59:36.695585800+00:00</td>\n      <td>Background</td>\n      <td>CRONUS USA, Inc.</td>\n      <td>5.6822</td>\n    </tr>\n    <tr>\n      <th>67</th>\n      <td>2020-12-01 23:59:36.533636500+00:00</td>\n      <td>Background</td>\n      <td>CRONUS USA, Inc.</td>\n      <td>10.2742</td>\n    </tr>\n    <tr>\n      <th>68</th>\n      <td>2020-12-01 23:59:36.354553400+00:00</td>\n      <td>Background</td>\n      <td>CRONUS USA, Inc.</td>\n      <td>8.8765</td>\n    </tr>\n    <tr>\n      <th>69</th>\n      <td>2020-12-01 23:59:35.039970400+00:00</td>\n      <td>Background</td>\n      <td>CRONUS USA, Inc.</td>\n      <td>5.3245</td>\n    </tr>\n    <tr>\n      <th>70</th>\n      <td>2020-12-01 23:59:34.006481900+00:00</td>\n      <td>Background</td>\n      <td>CRONUS USA, Inc.</td>\n      <td>4.9779</td>\n    </tr>\n    <tr>\n      <th>71</th>\n      <td>2020-12-01 23:59:34.006481900+00:00</td>\n      <td>Background</td>\n      <td>CRONUS USA, Inc.</td>\n      <td>9.5696</td>\n    </tr>\n    <tr>\n      <th>72</th>\n      <td>2020-12-01 23:59:33.906477100+00:00</td>\n      <td>Background</td>\n      <td>CRONUS USA, Inc.</td>\n      <td>4.9754</td>\n    </tr>\n    <tr>\n      <th>73</th>\n      <td>2020-12-01 23:59:33.726468100+00:00</td>\n      <td>Background</td>\n      <td>CRONUS USA, Inc.</td>\n      <td>10.7678</td>\n    </tr>\n    <tr>\n      <th>74</th>\n      <td>2020-12-01 23:59:33.581464700+00:00</td>\n      <td>Background</td>\n      <td>CRONUS USA, Inc.</td>\n      <td>9.6323</td>\n    </tr>\n    <tr>\n      <th>75</th>\n      <td>2020-12-01 23:59:33.445314100+00:00</td>\n      <td>Background</td>\n      <td>CRONUS USA, Inc.</td>\n      <td>10.6597</td>\n    </tr>\n    <tr>\n      <th>76</th>\n      <td>2020-12-01 23:59:32.418708400+00:00</td>\n      <td>Background</td>\n      <td>CRONUS USA, Inc.</td>\n      <td>5.0794</td>\n    </tr>\n    <tr>\n      <th>77</th>\n      <td>2020-12-01 23:59:32.373705900+00:00</td>\n      <td>Background</td>\n      <td>CRONUS USA, Inc.</td>\n      <td>4.9438</td>\n    </tr>\n    <tr>\n      <th>78</th>\n      <td>2020-12-01 23:59:32.208700400+00:00</td>\n      <td>Background</td>\n      <td>CRONUS USA, Inc.</td>\n      <td>5.8850</td>\n    </tr>\n    <tr>\n      <th>79</th>\n      <td>2020-12-01 23:59:32.028691500+00:00</td>\n      <td>Background</td>\n      <td>CRONUS USA, Inc.</td>\n      <td>5.6990</td>\n    </tr>\n    <tr>\n      <th>80</th>\n      <td>2020-12-01 23:59:31.006281900+00:00</td>\n      <td>Background</td>\n      <td>CRONUS USA, Inc.</td>\n      <td>4.7489</td>\n    </tr>\n    <tr>\n      <th>81</th>\n      <td>2020-12-01 23:59:30.991284400+00:00</td>\n      <td>Background</td>\n      <td>CRONUS USA, Inc.</td>\n      <td>9.8858</td>\n    </tr>\n    <tr>\n      <th>82</th>\n      <td>2020-12-01 23:59:30.846277800+00:00</td>\n      <td>Background</td>\n      <td>CRONUS USA, Inc.</td>\n      <td>4.7514</td>\n    </tr>\n    <tr>\n      <th>83</th>\n      <td>2020-12-01 23:59:30.696270900+00:00</td>\n      <td>Background</td>\n      <td>CRONUS USA, Inc.</td>\n      <td>5.0194</td>\n    </tr>\n    <tr>\n      <th>84</th>\n      <td>2020-12-01 23:59:29.579328200+00:00</td>\n      <td>Background</td>\n      <td>CRONUS USA, Inc.</td>\n      <td>4.8294</td>\n    </tr>\n    <tr>\n      <th>85</th>\n      <td>2020-12-01 23:59:29.447725200+00:00</td>\n      <td>Background</td>\n      <td>CRONUS USA, Inc.</td>\n      <td>5.2501</td>\n    </tr>\n    <tr>\n      <th>86</th>\n      <td>2020-12-01 23:59:28.445773400+00:00</td>\n      <td>Background</td>\n      <td>CRONUS USA, Inc.</td>\n      <td>5.5343</td>\n    </tr>\n    <tr>\n      <th>87</th>\n      <td>2020-12-01 23:59:28.423572900+00:00</td>\n      <td>Background</td>\n      <td>CRONUS USA, Inc.</td>\n      <td>5.2637</td>\n    </tr>\n    <tr>\n      <th>88</th>\n      <td>2020-12-01 23:59:28.344434+00:00</td>\n      <td>Background</td>\n      <td>CRONUS USA, Inc.</td>\n      <td>5.0175</td>\n    </tr>\n    <tr>\n      <th>89</th>\n      <td>2020-12-01 23:59:28.219429400+00:00</td>\n      <td>Background</td>\n      <td>CRONUS USA, Inc.</td>\n      <td>4.9421</td>\n    </tr>\n    <tr>\n      <th>90</th>\n      <td>2020-12-01 23:59:27.077332800+00:00</td>\n      <td>Background</td>\n      <td>CRONUS USA, Inc.</td>\n      <td>7.3376</td>\n    </tr>\n    <tr>\n      <th>91</th>\n      <td>2020-12-01 23:59:25.917730200+00:00</td>\n      <td>Background</td>\n      <td>CRONUS USA, Inc.</td>\n      <td>4.6140</td>\n    </tr>\n    <tr>\n      <th>92</th>\n      <td>2020-12-01 23:59:25.817727200+00:00</td>\n      <td>Background</td>\n      <td>CRONUS USA, Inc.</td>\n      <td>5.2469</td>\n    </tr>\n    <tr>\n      <th>93</th>\n      <td>2020-12-01 23:59:25.672719500+00:00</td>\n      <td>Background</td>\n      <td>CRONUS USA, Inc.</td>\n      <td>5.1929</td>\n    </tr>\n    <tr>\n      <th>94</th>\n      <td>2020-12-01 23:59:24.650153+00:00</td>\n      <td>Background</td>\n      <td>CRONUS USA, Inc.</td>\n      <td>5.0198</td>\n    </tr>\n    <tr>\n      <th>95</th>\n      <td>2020-12-01 23:59:24.635153400+00:00</td>\n      <td>Background</td>\n      <td>CRONUS USA, Inc.</td>\n      <td>5.2735</td>\n    </tr>\n    <tr>\n      <th>96</th>\n      <td>2020-12-01 23:59:24.520150100+00:00</td>\n      <td>Background</td>\n      <td>CRONUS USA, Inc.</td>\n      <td>6.1613</td>\n    </tr>\n    <tr>\n      <th>97</th>\n      <td>2020-12-01 23:59:24.440144800+00:00</td>\n      <td>Background</td>\n      <td>CRONUS USA, Inc.</td>\n      <td>4.9150</td>\n    </tr>\n    <tr>\n      <th>98</th>\n      <td>2020-12-01 23:59:23.426104900+00:00</td>\n      <td>Background</td>\n      <td>CRONUS USA, Inc.</td>\n      <td>4.8342</td>\n    </tr>\n    <tr>\n      <th>99</th>\n      <td>2020-12-01 23:59:23.331104300+00:00</td>\n      <td>Background</td>\n      <td>CRONUS USA, Inc.</td>\n      <td>4.4092</td>\n    </tr>\n  </tbody>\n</table>\n</div>",
                        "application/vnd.dataresource+json": {
                            "schema": {
                                "fields": [
                                    {
                                        "name": "timestamp",
                                        "type": "datetime",
                                        "tz": "UTC"
                                    },
                                    {
                                        "name": "clientType",
                                        "type": "string"
                                    },
                                    {
                                        "name": "companyName",
                                        "type": "string"
                                    },
                                    {
                                        "name": "totalTimeInMS",
                                        "type": "number"
                                    }
                                ],
                                "kqmagic_version": "0.1.113"
                            },
                            "data": [
                                {
                                    "timestamp": "2020-12-01T23:59:59.024Z",
                                    "clientType": "Background",
                                    "companyName": "CRONUS USA, Inc.",
                                    "totalTimeInMS": 10.07
                                },
                                {
                                    "timestamp": "2020-12-01T23:59:58.974Z",
                                    "clientType": "Background",
                                    "companyName": "CRONUS USA, Inc.",
                                    "totalTimeInMS": 5.4789
                                },
                                {
                                    "timestamp": "2020-12-01T23:59:58.884Z",
                                    "clientType": "Background",
                                    "companyName": "CRONUS USA, Inc.",
                                    "totalTimeInMS": 5.2953
                                },
                                {
                                    "timestamp": "2020-12-01T23:59:57.868Z",
                                    "clientType": "Background",
                                    "companyName": "CRONUS USA, Inc.",
                                    "totalTimeInMS": 5.0337
                                },
                                {
                                    "timestamp": "2020-12-01T23:59:57.833Z",
                                    "clientType": "Background",
                                    "companyName": "CRONUS USA, Inc.",
                                    "totalTimeInMS": 5.4034
                                },
                                {
                                    "timestamp": "2020-12-01T23:59:57.723Z",
                                    "clientType": "Background",
                                    "companyName": "CRONUS USA, Inc.",
                                    "totalTimeInMS": 4.8321
                                },
                                {
                                    "timestamp": "2020-12-01T23:59:57.633Z",
                                    "clientType": "Background",
                                    "companyName": "CRONUS USA, Inc.",
                                    "totalTimeInMS": 5.3238
                                },
                                {
                                    "timestamp": "2020-12-01T23:59:56.529Z",
                                    "clientType": "Background",
                                    "companyName": "CRONUS USA, Inc.",
                                    "totalTimeInMS": 6.1617
                                },
                                {
                                    "timestamp": "2020-12-01T23:59:56.507Z",
                                    "clientType": "Background",
                                    "companyName": "CRONUS USA, Inc.",
                                    "totalTimeInMS": 4.9661
                                },
                                {
                                    "timestamp": "2020-12-01T23:59:56.422Z",
                                    "clientType": "Background",
                                    "companyName": "CRONUS USA, Inc.",
                                    "totalTimeInMS": 5.7938
                                },
                                {
                                    "timestamp": "2020-12-01T23:59:55.267Z",
                                    "clientType": "Background",
                                    "companyName": "CRONUS USA, Inc.",
                                    "totalTimeInMS": 4.7948
                                },
                                {
                                    "timestamp": "2020-12-01T23:59:55.122Z",
                                    "clientType": "Background",
                                    "companyName": "CRONUS USA, Inc.",
                                    "totalTimeInMS": 5.8274
                                },
                                {
                                    "timestamp": "2020-12-01T23:59:54.092Z",
                                    "clientType": "Background",
                                    "companyName": "CRONUS USA, Inc.",
                                    "totalTimeInMS": 6.0697
                                },
                                {
                                    "timestamp": "2020-12-01T23:59:54.022Z",
                                    "clientType": "Background",
                                    "companyName": "CRONUS USA, Inc.",
                                    "totalTimeInMS": 5.4595
                                },
                                {
                                    "timestamp": "2020-12-01T23:59:53.932Z",
                                    "clientType": "Background",
                                    "companyName": "CRONUS USA, Inc.",
                                    "totalTimeInMS": 5.1787
                                },
                                {
                                    "timestamp": "2020-12-01T23:59:53.812Z",
                                    "clientType": "Background",
                                    "companyName": "CRONUS USA, Inc.",
                                    "totalTimeInMS": 4.9876
                                },
                                {
                                    "timestamp": "2020-12-01T23:59:52.784Z",
                                    "clientType": "Background",
                                    "companyName": "CRONUS USA, Inc.",
                                    "totalTimeInMS": 5.6289
                                },
                                {
                                    "timestamp": "2020-12-01T23:59:52.739Z",
                                    "clientType": "Background",
                                    "companyName": "CRONUS USA, Inc.",
                                    "totalTimeInMS": 5.4829
                                },
                                {
                                    "timestamp": "2020-12-01T23:59:52.649Z",
                                    "clientType": "Background",
                                    "companyName": "CRONUS USA, Inc.",
                                    "totalTimeInMS": 5.6695
                                },
                                {
                                    "timestamp": "2020-12-01T23:59:52.429Z",
                                    "clientType": "Background",
                                    "companyName": "CRONUS USA, Inc.",
                                    "totalTimeInMS": 5.0338
                                },
                                {
                                    "timestamp": "2020-12-01T23:59:52.294Z",
                                    "clientType": "Background",
                                    "companyName": "CRONUS USA, Inc.",
                                    "totalTimeInMS": 5.0705
                                },
                                {
                                    "timestamp": "2020-12-01T23:59:51.231Z",
                                    "clientType": "Background",
                                    "companyName": "CRONUS USA, Inc.",
                                    "totalTimeInMS": 5.7937
                                },
                                {
                                    "timestamp": "2020-12-01T23:59:51.186Z",
                                    "clientType": "Background",
                                    "companyName": "CRONUS USA, Inc.",
                                    "totalTimeInMS": 5.1743
                                },
                                {
                                    "timestamp": "2020-12-01T23:59:51.076Z",
                                    "clientType": "Background",
                                    "companyName": "CRONUS USA, Inc.",
                                    "totalTimeInMS": 10.0774
                                },
                                {
                                    "timestamp": "2020-12-01T23:59:50.876Z",
                                    "clientType": "Background",
                                    "companyName": "CRONUS USA, Inc.",
                                    "totalTimeInMS": 10.0103
                                },
                                {
                                    "timestamp": "2020-12-01T23:59:50.756Z",
                                    "clientType": "Background",
                                    "companyName": "CRONUS USA, Inc.",
                                    "totalTimeInMS": 6.4059
                                },
                                {
                                    "timestamp": "2020-12-01T23:59:49.674Z",
                                    "clientType": "Background",
                                    "companyName": "CRONUS USA, Inc.",
                                    "totalTimeInMS": 5.8613
                                },
                                {
                                    "timestamp": "2020-12-01T23:59:49.644Z",
                                    "clientType": "Background",
                                    "companyName": "CRONUS USA, Inc.",
                                    "totalTimeInMS": 5.1324
                                },
                                {
                                    "timestamp": "2020-12-01T23:59:49.539Z",
                                    "clientType": "Background",
                                    "companyName": "CRONUS USA, Inc.",
                                    "totalTimeInMS": 5.2404
                                },
                                {
                                    "timestamp": "2020-12-01T23:59:49.448Z",
                                    "clientType": "Background",
                                    "companyName": "CRONUS USA, Inc.",
                                    "totalTimeInMS": 5.7247
                                },
                                {
                                    "timestamp": "2020-12-01T23:59:49.258Z",
                                    "clientType": "Background",
                                    "companyName": "CRONUS USA, Inc.",
                                    "totalTimeInMS": 5.3086
                                },
                                {
                                    "timestamp": "2020-12-01T23:59:49.143Z",
                                    "clientType": "Background",
                                    "companyName": "CRONUS USA, Inc.",
                                    "totalTimeInMS": 5.4578
                                },
                                {
                                    "timestamp": "2020-12-01T23:59:48.122Z",
                                    "clientType": "Background",
                                    "companyName": "CRONUS USA, Inc.",
                                    "totalTimeInMS": 6.5841
                                },
                                {
                                    "timestamp": "2020-12-01T23:59:48.002Z",
                                    "clientType": "Background",
                                    "companyName": "CRONUS USA, Inc.",
                                    "totalTimeInMS": 4.8573
                                },
                                {
                                    "timestamp": "2020-12-01T23:59:47.977Z",
                                    "clientType": "Background",
                                    "companyName": "CRONUS USA, Inc.",
                                    "totalTimeInMS": 10.1828
                                },
                                {
                                    "timestamp": "2020-12-01T23:59:47.812Z",
                                    "clientType": "Background",
                                    "companyName": "CRONUS USA, Inc.",
                                    "totalTimeInMS": 9.9347
                                },
                                {
                                    "timestamp": "2020-12-01T23:59:46.764Z",
                                    "clientType": "Background",
                                    "companyName": "CRONUS USA, Inc.",
                                    "totalTimeInMS": 5.2579
                                },
                                {
                                    "timestamp": "2020-12-01T23:59:46.689Z",
                                    "clientType": "Background",
                                    "companyName": "CRONUS USA, Inc.",
                                    "totalTimeInMS": 5.829
                                },
                                {
                                    "timestamp": "2020-12-01T23:59:46.569Z",
                                    "clientType": "Background",
                                    "companyName": "CRONUS USA, Inc.",
                                    "totalTimeInMS": 9.8202
                                },
                                {
                                    "timestamp": "2020-12-01T23:59:45.482Z",
                                    "clientType": "Background",
                                    "companyName": "CRONUS USA, Inc.",
                                    "totalTimeInMS": 5.7957
                                },
                                {
                                    "timestamp": "2020-12-01T23:59:45.367Z",
                                    "clientType": "Background",
                                    "companyName": "CRONUS USA, Inc.",
                                    "totalTimeInMS": 5.6038
                                },
                                {
                                    "timestamp": "2020-12-01T23:59:45.262Z",
                                    "clientType": "Background",
                                    "companyName": "CRONUS USA, Inc.",
                                    "totalTimeInMS": 9.9106
                                },
                                {
                                    "timestamp": "2020-12-01T23:59:44.222Z",
                                    "clientType": "Background",
                                    "companyName": "CRONUS USA, Inc.",
                                    "totalTimeInMS": 10.3422
                                },
                                {
                                    "timestamp": "2020-12-01T23:59:44.147Z",
                                    "clientType": "Background",
                                    "companyName": "CRONUS USA, Inc.",
                                    "totalTimeInMS": 6.6393
                                },
                                {
                                    "timestamp": "2020-12-01T23:59:44.037Z",
                                    "clientType": "Background",
                                    "companyName": "CRONUS USA, Inc.",
                                    "totalTimeInMS": 10.0006
                                },
                                {
                                    "timestamp": "2020-12-01T23:59:43.882Z",
                                    "clientType": "Background",
                                    "companyName": "CRONUS USA, Inc.",
                                    "totalTimeInMS": 5.4963
                                },
                                {
                                    "timestamp": "2020-12-01T23:59:42.736Z",
                                    "clientType": "Background",
                                    "companyName": "CRONUS USA, Inc.",
                                    "totalTimeInMS": 5.5717
                                },
                                {
                                    "timestamp": "2020-12-01T23:59:42.451Z",
                                    "clientType": "Background",
                                    "companyName": "CRONUS USA, Inc.",
                                    "totalTimeInMS": 6.1652
                                },
                                {
                                    "timestamp": "2020-12-01T23:59:41.437Z",
                                    "clientType": "Background",
                                    "companyName": "CRONUS USA, Inc.",
                                    "totalTimeInMS": 5.9114
                                },
                                {
                                    "timestamp": "2020-12-01T23:59:41.364Z",
                                    "clientType": "Background",
                                    "companyName": "CRONUS USA, Inc.",
                                    "totalTimeInMS": 10.7994
                                },
                                {
                                    "timestamp": "2020-12-01T23:59:41.251Z",
                                    "clientType": "Background",
                                    "companyName": "CRONUS USA, Inc.",
                                    "totalTimeInMS": 8.3357
                                },
                                {
                                    "timestamp": "2020-12-01T23:59:41.061Z",
                                    "clientType": "Background",
                                    "companyName": "CRONUS USA, Inc.",
                                    "totalTimeInMS": 11.652
                                },
                                {
                                    "timestamp": "2020-12-01T23:59:40.911Z",
                                    "clientType": "Background",
                                    "companyName": "CRONUS USA, Inc.",
                                    "totalTimeInMS": 10.7287
                                },
                                {
                                    "timestamp": "2020-12-01T23:59:39.892Z",
                                    "clientType": "Background",
                                    "companyName": "CRONUS USA, Inc.",
                                    "totalTimeInMS": 7.0863
                                },
                                {
                                    "timestamp": "2020-12-01T23:59:39.852Z",
                                    "clientType": "Background",
                                    "companyName": "CRONUS USA, Inc.",
                                    "totalTimeInMS": 5.2567
                                },
                                {
                                    "timestamp": "2020-12-01T23:59:39.762Z",
                                    "clientType": "Background",
                                    "companyName": "CRONUS USA, Inc.",
                                    "totalTimeInMS": 5.0264
                                },
                                {
                                    "timestamp": "2020-12-01T23:59:39.652Z",
                                    "clientType": "Background",
                                    "companyName": "CRONUS USA, Inc.",
                                    "totalTimeInMS": 5.0982
                                },
                                {
                                    "timestamp": "2020-12-01T23:59:39.532Z",
                                    "clientType": "Background",
                                    "companyName": "CRONUS USA, Inc.",
                                    "totalTimeInMS": 5.5304
                                },
                                {
                                    "timestamp": "2020-12-01T23:59:39.319Z",
                                    "clientType": "Background",
                                    "companyName": "CRONUS USA, Inc.",
                                    "totalTimeInMS": 5.496
                                },
                                {
                                    "timestamp": "2020-12-01T23:59:38.304Z",
                                    "clientType": "Background",
                                    "companyName": "CRONUS USA, Inc.",
                                    "totalTimeInMS": 4.8735
                                },
                                {
                                    "timestamp": "2020-12-01T23:59:38.269Z",
                                    "clientType": "Background",
                                    "companyName": "CRONUS USA, Inc.",
                                    "totalTimeInMS": 5.3603
                                },
                                {
                                    "timestamp": "2020-12-01T23:59:38.169Z",
                                    "clientType": "Background",
                                    "companyName": "CRONUS USA, Inc.",
                                    "totalTimeInMS": 9.9583
                                },
                                {
                                    "timestamp": "2020-12-01T23:59:37.964Z",
                                    "clientType": "Background",
                                    "companyName": "CRONUS USA, Inc.",
                                    "totalTimeInMS": 5.4223
                                },
                                {
                                    "timestamp": "2020-12-01T23:59:37.849Z",
                                    "clientType": "Background",
                                    "companyName": "CRONUS USA, Inc.",
                                    "totalTimeInMS": 10.2049
                                },
                                {
                                    "timestamp": "2020-12-01T23:59:36.820Z",
                                    "clientType": "Background",
                                    "companyName": "CRONUS USA, Inc.",
                                    "totalTimeInMS": 5.0285
                                },
                                {
                                    "timestamp": "2020-12-01T23:59:36.810Z",
                                    "clientType": "Background",
                                    "companyName": "CRONUS USA, Inc.",
                                    "totalTimeInMS": 7.6859
                                },
                                {
                                    "timestamp": "2020-12-01T23:59:36.695Z",
                                    "clientType": "Background",
                                    "companyName": "CRONUS USA, Inc.",
                                    "totalTimeInMS": 5.6822
                                },
                                {
                                    "timestamp": "2020-12-01T23:59:36.533Z",
                                    "clientType": "Background",
                                    "companyName": "CRONUS USA, Inc.",
                                    "totalTimeInMS": 10.2742
                                },
                                {
                                    "timestamp": "2020-12-01T23:59:36.354Z",
                                    "clientType": "Background",
                                    "companyName": "CRONUS USA, Inc.",
                                    "totalTimeInMS": 8.8765
                                },
                                {
                                    "timestamp": "2020-12-01T23:59:35.039Z",
                                    "clientType": "Background",
                                    "companyName": "CRONUS USA, Inc.",
                                    "totalTimeInMS": 5.3245
                                },
                                {
                                    "timestamp": "2020-12-01T23:59:34.006Z",
                                    "clientType": "Background",
                                    "companyName": "CRONUS USA, Inc.",
                                    "totalTimeInMS": 4.9779
                                },
                                {
                                    "timestamp": "2020-12-01T23:59:34.006Z",
                                    "clientType": "Background",
                                    "companyName": "CRONUS USA, Inc.",
                                    "totalTimeInMS": 9.5696
                                },
                                {
                                    "timestamp": "2020-12-01T23:59:33.906Z",
                                    "clientType": "Background",
                                    "companyName": "CRONUS USA, Inc.",
                                    "totalTimeInMS": 4.9754
                                },
                                {
                                    "timestamp": "2020-12-01T23:59:33.726Z",
                                    "clientType": "Background",
                                    "companyName": "CRONUS USA, Inc.",
                                    "totalTimeInMS": 10.7678
                                },
                                {
                                    "timestamp": "2020-12-01T23:59:33.581Z",
                                    "clientType": "Background",
                                    "companyName": "CRONUS USA, Inc.",
                                    "totalTimeInMS": 9.6323
                                },
                                {
                                    "timestamp": "2020-12-01T23:59:33.445Z",
                                    "clientType": "Background",
                                    "companyName": "CRONUS USA, Inc.",
                                    "totalTimeInMS": 10.6597
                                },
                                {
                                    "timestamp": "2020-12-01T23:59:32.418Z",
                                    "clientType": "Background",
                                    "companyName": "CRONUS USA, Inc.",
                                    "totalTimeInMS": 5.0794
                                },
                                {
                                    "timestamp": "2020-12-01T23:59:32.373Z",
                                    "clientType": "Background",
                                    "companyName": "CRONUS USA, Inc.",
                                    "totalTimeInMS": 4.9438
                                },
                                {
                                    "timestamp": "2020-12-01T23:59:32.208Z",
                                    "clientType": "Background",
                                    "companyName": "CRONUS USA, Inc.",
                                    "totalTimeInMS": 5.885
                                },
                                {
                                    "timestamp": "2020-12-01T23:59:32.028Z",
                                    "clientType": "Background",
                                    "companyName": "CRONUS USA, Inc.",
                                    "totalTimeInMS": 5.699
                                },
                                {
                                    "timestamp": "2020-12-01T23:59:31.006Z",
                                    "clientType": "Background",
                                    "companyName": "CRONUS USA, Inc.",
                                    "totalTimeInMS": 4.7489
                                },
                                {
                                    "timestamp": "2020-12-01T23:59:30.991Z",
                                    "clientType": "Background",
                                    "companyName": "CRONUS USA, Inc.",
                                    "totalTimeInMS": 9.8858
                                },
                                {
                                    "timestamp": "2020-12-01T23:59:30.846Z",
                                    "clientType": "Background",
                                    "companyName": "CRONUS USA, Inc.",
                                    "totalTimeInMS": 4.7514
                                },
                                {
                                    "timestamp": "2020-12-01T23:59:30.696Z",
                                    "clientType": "Background",
                                    "companyName": "CRONUS USA, Inc.",
                                    "totalTimeInMS": 5.0194
                                },
                                {
                                    "timestamp": "2020-12-01T23:59:29.579Z",
                                    "clientType": "Background",
                                    "companyName": "CRONUS USA, Inc.",
                                    "totalTimeInMS": 4.8294
                                },
                                {
                                    "timestamp": "2020-12-01T23:59:29.447Z",
                                    "clientType": "Background",
                                    "companyName": "CRONUS USA, Inc.",
                                    "totalTimeInMS": 5.2501
                                },
                                {
                                    "timestamp": "2020-12-01T23:59:28.445Z",
                                    "clientType": "Background",
                                    "companyName": "CRONUS USA, Inc.",
                                    "totalTimeInMS": 5.5343
                                },
                                {
                                    "timestamp": "2020-12-01T23:59:28.423Z",
                                    "clientType": "Background",
                                    "companyName": "CRONUS USA, Inc.",
                                    "totalTimeInMS": 5.2637
                                },
                                {
                                    "timestamp": "2020-12-01T23:59:28.344Z",
                                    "clientType": "Background",
                                    "companyName": "CRONUS USA, Inc.",
                                    "totalTimeInMS": 5.0175
                                },
                                {
                                    "timestamp": "2020-12-01T23:59:28.219Z",
                                    "clientType": "Background",
                                    "companyName": "CRONUS USA, Inc.",
                                    "totalTimeInMS": 4.9421
                                },
                                {
                                    "timestamp": "2020-12-01T23:59:27.077Z",
                                    "clientType": "Background",
                                    "companyName": "CRONUS USA, Inc.",
                                    "totalTimeInMS": 7.3376
                                },
                                {
                                    "timestamp": "2020-12-01T23:59:25.917Z",
                                    "clientType": "Background",
                                    "companyName": "CRONUS USA, Inc.",
                                    "totalTimeInMS": 4.614
                                },
                                {
                                    "timestamp": "2020-12-01T23:59:25.817Z",
                                    "clientType": "Background",
                                    "companyName": "CRONUS USA, Inc.",
                                    "totalTimeInMS": 5.2469
                                },
                                {
                                    "timestamp": "2020-12-01T23:59:25.672Z",
                                    "clientType": "Background",
                                    "companyName": "CRONUS USA, Inc.",
                                    "totalTimeInMS": 5.1929
                                },
                                {
                                    "timestamp": "2020-12-01T23:59:24.650Z",
                                    "clientType": "Background",
                                    "companyName": "CRONUS USA, Inc.",
                                    "totalTimeInMS": 5.0198
                                },
                                {
                                    "timestamp": "2020-12-01T23:59:24.635Z",
                                    "clientType": "Background",
                                    "companyName": "CRONUS USA, Inc.",
                                    "totalTimeInMS": 5.2735
                                },
                                {
                                    "timestamp": "2020-12-01T23:59:24.520Z",
                                    "clientType": "Background",
                                    "companyName": "CRONUS USA, Inc.",
                                    "totalTimeInMS": 6.1613
                                },
                                {
                                    "timestamp": "2020-12-01T23:59:24.440Z",
                                    "clientType": "Background",
                                    "companyName": "CRONUS USA, Inc.",
                                    "totalTimeInMS": 4.915
                                },
                                {
                                    "timestamp": "2020-12-01T23:59:23.426Z",
                                    "clientType": "Background",
                                    "companyName": "CRONUS USA, Inc.",
                                    "totalTimeInMS": 4.8342
                                },
                                {
                                    "timestamp": "2020-12-01T23:59:23.331Z",
                                    "clientType": "Background",
                                    "companyName": "CRONUS USA, Inc.",
                                    "totalTimeInMS": 4.4092
                                }
                            ]
                        }
                    },
                    "metadata": {},
                    "output_type": "display_data"
                },
                {
                    "data": {
                        "text/plain": "<IPython.core.display.HTML object>",
                        "text/html": "<html>\n        <head>\n            \n            \n        </head>\n        <body>\n            <div><p style='padding: 10px; color: #3a87ad; background-color: #d9edf7; border-color: #bce9f1'>Done&nbsp;(00:02.566):&nbsp;100&nbsp;records</p></div>\n        </body>\n        </html>"
                    },
                    "metadata": {},
                    "output_type": "display_data"
                },
                {
                    "data": {
                        "text/plain": "[{'timestamp': datetime.datetime(2020, 12, 1, 23, 59, 59, 24293, tzinfo=tzutc()), 'clientType': 'Background', 'companyName': 'CRONUS USA, Inc.', 'totalTimeInMS': 10.07},\n {'timestamp': datetime.datetime(2020, 12, 1, 23, 59, 58, 974290, tzinfo=tzutc()), 'clientType': 'Background', 'companyName': 'CRONUS USA, Inc.', 'totalTimeInMS': 5.4789},\n {'timestamp': datetime.datetime(2020, 12, 1, 23, 59, 58, 884285, tzinfo=tzutc()), 'clientType': 'Background', 'companyName': 'CRONUS USA, Inc.', 'totalTimeInMS': 5.2953},\n {'timestamp': datetime.datetime(2020, 12, 1, 23, 59, 57, 868352, tzinfo=tzutc()), 'clientType': 'Background', 'companyName': 'CRONUS USA, Inc.', 'totalTimeInMS': 5.0337},\n {'timestamp': datetime.datetime(2020, 12, 1, 23, 59, 57, 833351, tzinfo=tzutc()), 'clientType': 'Background', 'companyName': 'CRONUS USA, Inc.', 'totalTimeInMS': 5.4034},\n {'timestamp': datetime.datetime(2020, 12, 1, 23, 59, 57, 723346, tzinfo=tzutc()), 'clientType': 'Background', 'companyName': 'CRONUS USA, Inc.', 'totalTimeInMS': 4.8321},\n {'timestamp': datetime.datetime(2020, 12, 1, 23, 59, 57, 633347, tzinfo=tzutc()), 'clientType': 'Background', 'companyName': 'CRONUS USA, Inc.', 'totalTimeInMS': 5.3238},\n {'timestamp': datetime.datetime(2020, 12, 1, 23, 59, 56, 529267, tzinfo=tzutc()), 'clientType': 'Background', 'companyName': 'CRONUS USA, Inc.', 'totalTimeInMS': 6.1617},\n {'timestamp': datetime.datetime(2020, 12, 1, 23, 59, 56, 507955, tzinfo=tzutc()), 'clientType': 'Background', 'companyName': 'CRONUS USA, Inc.', 'totalTimeInMS': 4.9661},\n {'timestamp': datetime.datetime(2020, 12, 1, 23, 59, 56, 422947, tzinfo=tzutc()), 'clientType': 'Background', 'companyName': 'CRONUS USA, Inc.', 'totalTimeInMS': 5.7938},\n {'timestamp': datetime.datetime(2020, 12, 1, 23, 59, 55, 267880, tzinfo=tzutc()), 'clientType': 'Background', 'companyName': 'CRONUS USA, Inc.', 'totalTimeInMS': 4.7948},\n {'timestamp': datetime.datetime(2020, 12, 1, 23, 59, 55, 122877, tzinfo=tzutc()), 'clientType': 'Background', 'companyName': 'CRONUS USA, Inc.', 'totalTimeInMS': 5.8274},\n {'timestamp': datetime.datetime(2020, 12, 1, 23, 59, 54, 92241, tzinfo=tzutc()), 'clientType': 'Background', 'companyName': 'CRONUS USA, Inc.', 'totalTimeInMS': 6.0697},\n {'timestamp': datetime.datetime(2020, 12, 1, 23, 59, 54, 22233, tzinfo=tzutc()), 'clientType': 'Background', 'companyName': 'CRONUS USA, Inc.', 'totalTimeInMS': 5.4595},\n {'timestamp': datetime.datetime(2020, 12, 1, 23, 59, 53, 932236, tzinfo=tzutc()), 'clientType': 'Background', 'companyName': 'CRONUS USA, Inc.', 'totalTimeInMS': 5.1787},\n {'timestamp': datetime.datetime(2020, 12, 1, 23, 59, 53, 812228, tzinfo=tzutc()), 'clientType': 'Background', 'companyName': 'CRONUS USA, Inc.', 'totalTimeInMS': 4.9876},\n {'timestamp': datetime.datetime(2020, 12, 1, 23, 59, 52, 784140, tzinfo=tzutc()), 'clientType': 'Background', 'companyName': 'CRONUS USA, Inc.', 'totalTimeInMS': 5.6289},\n {'timestamp': datetime.datetime(2020, 12, 1, 23, 59, 52, 739138, tzinfo=tzutc()), 'clientType': 'Background', 'companyName': 'CRONUS USA, Inc.', 'totalTimeInMS': 5.4829},\n {'timestamp': datetime.datetime(2020, 12, 1, 23, 59, 52, 649134, tzinfo=tzutc()), 'clientType': 'Background', 'companyName': 'CRONUS USA, Inc.', 'totalTimeInMS': 5.6695},\n {'timestamp': datetime.datetime(2020, 12, 1, 23, 59, 52, 429126, tzinfo=tzutc()), 'clientType': 'Background', 'companyName': 'CRONUS USA, Inc.', 'totalTimeInMS': 5.0338},\n {'timestamp': datetime.datetime(2020, 12, 1, 23, 59, 52, 294119, tzinfo=tzutc()), 'clientType': 'Background', 'companyName': 'CRONUS USA, Inc.', 'totalTimeInMS': 5.0705},\n {'timestamp': datetime.datetime(2020, 12, 1, 23, 59, 51, 231416, tzinfo=tzutc()), 'clientType': 'Background', 'companyName': 'CRONUS USA, Inc.', 'totalTimeInMS': 5.7937},\n {'timestamp': datetime.datetime(2020, 12, 1, 23, 59, 51, 186416, tzinfo=tzutc()), 'clientType': 'Background', 'companyName': 'CRONUS USA, Inc.', 'totalTimeInMS': 5.1743},\n {'timestamp': datetime.datetime(2020, 12, 1, 23, 59, 51, 76407, tzinfo=tzutc()), 'clientType': 'Background', 'companyName': 'CRONUS USA, Inc.', 'totalTimeInMS': 10.0774},\n {'timestamp': datetime.datetime(2020, 12, 1, 23, 59, 50, 876404, tzinfo=tzutc()), 'clientType': 'Background', 'companyName': 'CRONUS USA, Inc.', 'totalTimeInMS': 10.0103},\n {'timestamp': datetime.datetime(2020, 12, 1, 23, 59, 50, 756401, tzinfo=tzutc()), 'clientType': 'Background', 'companyName': 'CRONUS USA, Inc.', 'totalTimeInMS': 6.4059},\n {'timestamp': datetime.datetime(2020, 12, 1, 23, 59, 49, 674598, tzinfo=tzutc()), 'clientType': 'Background', 'companyName': 'CRONUS USA, Inc.', 'totalTimeInMS': 5.8613},\n {'timestamp': datetime.datetime(2020, 12, 1, 23, 59, 49, 644595, tzinfo=tzutc()), 'clientType': 'Background', 'companyName': 'CRONUS USA, Inc.', 'totalTimeInMS': 5.1324},\n {'timestamp': datetime.datetime(2020, 12, 1, 23, 59, 49, 539594, tzinfo=tzutc()), 'clientType': 'Background', 'companyName': 'CRONUS USA, Inc.', 'totalTimeInMS': 5.2404},\n {'timestamp': datetime.datetime(2020, 12, 1, 23, 59, 49, 448065, tzinfo=tzutc()), 'clientType': 'Background', 'companyName': 'CRONUS USA, Inc.', 'totalTimeInMS': 5.7247},\n {'timestamp': datetime.datetime(2020, 12, 1, 23, 59, 49, 258055, tzinfo=tzutc()), 'clientType': 'Background', 'companyName': 'CRONUS USA, Inc.', 'totalTimeInMS': 5.3086},\n {'timestamp': datetime.datetime(2020, 12, 1, 23, 59, 49, 143053, tzinfo=tzutc()), 'clientType': 'Background', 'companyName': 'CRONUS USA, Inc.', 'totalTimeInMS': 5.4578},\n {'timestamp': datetime.datetime(2020, 12, 1, 23, 59, 48, 122316, tzinfo=tzutc()), 'clientType': 'Background', 'companyName': 'CRONUS USA, Inc.', 'totalTimeInMS': 6.5841},\n {'timestamp': datetime.datetime(2020, 12, 1, 23, 59, 48, 2313, tzinfo=tzutc()), 'clientType': 'Background', 'companyName': 'CRONUS USA, Inc.', 'totalTimeInMS': 4.8573},\n {'timestamp': datetime.datetime(2020, 12, 1, 23, 59, 47, 977312, tzinfo=tzutc()), 'clientType': 'Background', 'companyName': 'CRONUS USA, Inc.', 'totalTimeInMS': 10.1828},\n {'timestamp': datetime.datetime(2020, 12, 1, 23, 59, 47, 812365, tzinfo=tzutc()), 'clientType': 'Background', 'companyName': 'CRONUS USA, Inc.', 'totalTimeInMS': 9.9347},\n {'timestamp': datetime.datetime(2020, 12, 1, 23, 59, 46, 764741, tzinfo=tzutc()), 'clientType': 'Background', 'companyName': 'CRONUS USA, Inc.', 'totalTimeInMS': 5.2579},\n {'timestamp': datetime.datetime(2020, 12, 1, 23, 59, 46, 689747, tzinfo=tzutc()), 'clientType': 'Background', 'companyName': 'CRONUS USA, Inc.', 'totalTimeInMS': 5.829},\n {'timestamp': datetime.datetime(2020, 12, 1, 23, 59, 46, 569735, tzinfo=tzutc()), 'clientType': 'Background', 'companyName': 'CRONUS USA, Inc.', 'totalTimeInMS': 9.8202},\n {'timestamp': datetime.datetime(2020, 12, 1, 23, 59, 45, 482945, tzinfo=tzutc()), 'clientType': 'Background', 'companyName': 'CRONUS USA, Inc.', 'totalTimeInMS': 5.7957},\n {'timestamp': datetime.datetime(2020, 12, 1, 23, 59, 45, 367933, tzinfo=tzutc()), 'clientType': 'Background', 'companyName': 'CRONUS USA, Inc.', 'totalTimeInMS': 5.6038},\n {'timestamp': datetime.datetime(2020, 12, 1, 23, 59, 45, 262928, tzinfo=tzutc()), 'clientType': 'Background', 'companyName': 'CRONUS USA, Inc.', 'totalTimeInMS': 9.9106},\n {'timestamp': datetime.datetime(2020, 12, 1, 23, 59, 44, 222781, tzinfo=tzutc()), 'clientType': 'Background', 'companyName': 'CRONUS USA, Inc.', 'totalTimeInMS': 10.3422},\n {'timestamp': datetime.datetime(2020, 12, 1, 23, 59, 44, 147777, tzinfo=tzutc()), 'clientType': 'Background', 'companyName': 'CRONUS USA, Inc.', 'totalTimeInMS': 6.6393},\n {'timestamp': datetime.datetime(2020, 12, 1, 23, 59, 44, 37774, tzinfo=tzutc()), 'clientType': 'Background', 'companyName': 'CRONUS USA, Inc.', 'totalTimeInMS': 10.0006},\n {'timestamp': datetime.datetime(2020, 12, 1, 23, 59, 43, 882769, tzinfo=tzutc()), 'clientType': 'Background', 'companyName': 'CRONUS USA, Inc.', 'totalTimeInMS': 5.4963},\n {'timestamp': datetime.datetime(2020, 12, 1, 23, 59, 42, 736430, tzinfo=tzutc()), 'clientType': 'Background', 'companyName': 'CRONUS USA, Inc.', 'totalTimeInMS': 5.5717},\n {'timestamp': datetime.datetime(2020, 12, 1, 23, 59, 42, 451416, tzinfo=tzutc()), 'clientType': 'Background', 'companyName': 'CRONUS USA, Inc.', 'totalTimeInMS': 6.1652},\n {'timestamp': datetime.datetime(2020, 12, 1, 23, 59, 41, 437026, tzinfo=tzutc()), 'clientType': 'Background', 'companyName': 'CRONUS USA, Inc.', 'totalTimeInMS': 5.9114},\n {'timestamp': datetime.datetime(2020, 12, 1, 23, 59, 41, 364957, tzinfo=tzutc()), 'clientType': 'Background', 'companyName': 'CRONUS USA, Inc.', 'totalTimeInMS': 10.7994},\n {'timestamp': datetime.datetime(2020, 12, 1, 23, 59, 41, 251638, tzinfo=tzutc()), 'clientType': 'Background', 'companyName': 'CRONUS USA, Inc.', 'totalTimeInMS': 8.3357},\n {'timestamp': datetime.datetime(2020, 12, 1, 23, 59, 41, 61633, tzinfo=tzutc()), 'clientType': 'Background', 'companyName': 'CRONUS USA, Inc.', 'totalTimeInMS': 11.652},\n {'timestamp': datetime.datetime(2020, 12, 1, 23, 59, 40, 911627, tzinfo=tzutc()), 'clientType': 'Background', 'companyName': 'CRONUS USA, Inc.', 'totalTimeInMS': 10.7287},\n {'timestamp': datetime.datetime(2020, 12, 1, 23, 59, 39, 892437, tzinfo=tzutc()), 'clientType': 'Background', 'companyName': 'CRONUS USA, Inc.', 'totalTimeInMS': 7.0863},\n {'timestamp': datetime.datetime(2020, 12, 1, 23, 59, 39, 852435, tzinfo=tzutc()), 'clientType': 'Background', 'companyName': 'CRONUS USA, Inc.', 'totalTimeInMS': 5.2567},\n {'timestamp': datetime.datetime(2020, 12, 1, 23, 59, 39, 762432, tzinfo=tzutc()), 'clientType': 'Background', 'companyName': 'CRONUS USA, Inc.', 'totalTimeInMS': 5.0264},\n {'timestamp': datetime.datetime(2020, 12, 1, 23, 59, 39, 652426, tzinfo=tzutc()), 'clientType': 'Background', 'companyName': 'CRONUS USA, Inc.', 'totalTimeInMS': 5.0982},\n {'timestamp': datetime.datetime(2020, 12, 1, 23, 59, 39, 532425, tzinfo=tzutc()), 'clientType': 'Background', 'companyName': 'CRONUS USA, Inc.', 'totalTimeInMS': 5.5304},\n {'timestamp': datetime.datetime(2020, 12, 1, 23, 59, 39, 319924, tzinfo=tzutc()), 'clientType': 'Background', 'companyName': 'CRONUS USA, Inc.', 'totalTimeInMS': 5.496},\n {'timestamp': datetime.datetime(2020, 12, 1, 23, 59, 38, 304834, tzinfo=tzutc()), 'clientType': 'Background', 'companyName': 'CRONUS USA, Inc.', 'totalTimeInMS': 4.8735},\n {'timestamp': datetime.datetime(2020, 12, 1, 23, 59, 38, 269835, tzinfo=tzutc()), 'clientType': 'Background', 'companyName': 'CRONUS USA, Inc.', 'totalTimeInMS': 5.3603},\n {'timestamp': datetime.datetime(2020, 12, 1, 23, 59, 38, 169832, tzinfo=tzutc()), 'clientType': 'Background', 'companyName': 'CRONUS USA, Inc.', 'totalTimeInMS': 9.9583},\n {'timestamp': datetime.datetime(2020, 12, 1, 23, 59, 37, 964823, tzinfo=tzutc()), 'clientType': 'Background', 'companyName': 'CRONUS USA, Inc.', 'totalTimeInMS': 5.4223},\n {'timestamp': datetime.datetime(2020, 12, 1, 23, 59, 37, 849818, tzinfo=tzutc()), 'clientType': 'Background', 'companyName': 'CRONUS USA, Inc.', 'totalTimeInMS': 10.2049},\n {'timestamp': datetime.datetime(2020, 12, 1, 23, 59, 36, 820578, tzinfo=tzutc()), 'clientType': 'Background', 'companyName': 'CRONUS USA, Inc.', 'totalTimeInMS': 5.0285},\n {'timestamp': datetime.datetime(2020, 12, 1, 23, 59, 36, 810580, tzinfo=tzutc()), 'clientType': 'Background', 'companyName': 'CRONUS USA, Inc.', 'totalTimeInMS': 7.6859},\n {'timestamp': datetime.datetime(2020, 12, 1, 23, 59, 36, 695585, tzinfo=tzutc()), 'clientType': 'Background', 'companyName': 'CRONUS USA, Inc.', 'totalTimeInMS': 5.6822},\n {'timestamp': datetime.datetime(2020, 12, 1, 23, 59, 36, 533636, tzinfo=tzutc()), 'clientType': 'Background', 'companyName': 'CRONUS USA, Inc.', 'totalTimeInMS': 10.2742},\n {'timestamp': datetime.datetime(2020, 12, 1, 23, 59, 36, 354553, tzinfo=tzutc()), 'clientType': 'Background', 'companyName': 'CRONUS USA, Inc.', 'totalTimeInMS': 8.8765},\n {'timestamp': datetime.datetime(2020, 12, 1, 23, 59, 35, 39970, tzinfo=tzutc()), 'clientType': 'Background', 'companyName': 'CRONUS USA, Inc.', 'totalTimeInMS': 5.3245},\n {'timestamp': datetime.datetime(2020, 12, 1, 23, 59, 34, 6481, tzinfo=tzutc()), 'clientType': 'Background', 'companyName': 'CRONUS USA, Inc.', 'totalTimeInMS': 4.9779},\n {'timestamp': datetime.datetime(2020, 12, 1, 23, 59, 34, 6481, tzinfo=tzutc()), 'clientType': 'Background', 'companyName': 'CRONUS USA, Inc.', 'totalTimeInMS': 9.5696},\n {'timestamp': datetime.datetime(2020, 12, 1, 23, 59, 33, 906477, tzinfo=tzutc()), 'clientType': 'Background', 'companyName': 'CRONUS USA, Inc.', 'totalTimeInMS': 4.9754},\n {'timestamp': datetime.datetime(2020, 12, 1, 23, 59, 33, 726468, tzinfo=tzutc()), 'clientType': 'Background', 'companyName': 'CRONUS USA, Inc.', 'totalTimeInMS': 10.7678},\n {'timestamp': datetime.datetime(2020, 12, 1, 23, 59, 33, 581464, tzinfo=tzutc()), 'clientType': 'Background', 'companyName': 'CRONUS USA, Inc.', 'totalTimeInMS': 9.6323},\n {'timestamp': datetime.datetime(2020, 12, 1, 23, 59, 33, 445314, tzinfo=tzutc()), 'clientType': 'Background', 'companyName': 'CRONUS USA, Inc.', 'totalTimeInMS': 10.6597},\n {'timestamp': datetime.datetime(2020, 12, 1, 23, 59, 32, 418708, tzinfo=tzutc()), 'clientType': 'Background', 'companyName': 'CRONUS USA, Inc.', 'totalTimeInMS': 5.0794},\n {'timestamp': datetime.datetime(2020, 12, 1, 23, 59, 32, 373705, tzinfo=tzutc()), 'clientType': 'Background', 'companyName': 'CRONUS USA, Inc.', 'totalTimeInMS': 4.9438},\n {'timestamp': datetime.datetime(2020, 12, 1, 23, 59, 32, 208700, tzinfo=tzutc()), 'clientType': 'Background', 'companyName': 'CRONUS USA, Inc.', 'totalTimeInMS': 5.885},\n {'timestamp': datetime.datetime(2020, 12, 1, 23, 59, 32, 28691, tzinfo=tzutc()), 'clientType': 'Background', 'companyName': 'CRONUS USA, Inc.', 'totalTimeInMS': 5.699},\n {'timestamp': datetime.datetime(2020, 12, 1, 23, 59, 31, 6281, tzinfo=tzutc()), 'clientType': 'Background', 'companyName': 'CRONUS USA, Inc.', 'totalTimeInMS': 4.7489},\n {'timestamp': datetime.datetime(2020, 12, 1, 23, 59, 30, 991284, tzinfo=tzutc()), 'clientType': 'Background', 'companyName': 'CRONUS USA, Inc.', 'totalTimeInMS': 9.8858},\n {'timestamp': datetime.datetime(2020, 12, 1, 23, 59, 30, 846277, tzinfo=tzutc()), 'clientType': 'Background', 'companyName': 'CRONUS USA, Inc.', 'totalTimeInMS': 4.7514},\n {'timestamp': datetime.datetime(2020, 12, 1, 23, 59, 30, 696270, tzinfo=tzutc()), 'clientType': 'Background', 'companyName': 'CRONUS USA, Inc.', 'totalTimeInMS': 5.0194},\n {'timestamp': datetime.datetime(2020, 12, 1, 23, 59, 29, 579328, tzinfo=tzutc()), 'clientType': 'Background', 'companyName': 'CRONUS USA, Inc.', 'totalTimeInMS': 4.8294},\n {'timestamp': datetime.datetime(2020, 12, 1, 23, 59, 29, 447725, tzinfo=tzutc()), 'clientType': 'Background', 'companyName': 'CRONUS USA, Inc.', 'totalTimeInMS': 5.2501},\n {'timestamp': datetime.datetime(2020, 12, 1, 23, 59, 28, 445773, tzinfo=tzutc()), 'clientType': 'Background', 'companyName': 'CRONUS USA, Inc.', 'totalTimeInMS': 5.5343},\n {'timestamp': datetime.datetime(2020, 12, 1, 23, 59, 28, 423572, tzinfo=tzutc()), 'clientType': 'Background', 'companyName': 'CRONUS USA, Inc.', 'totalTimeInMS': 5.2637},\n {'timestamp': datetime.datetime(2020, 12, 1, 23, 59, 28, 344434, tzinfo=tzutc()), 'clientType': 'Background', 'companyName': 'CRONUS USA, Inc.', 'totalTimeInMS': 5.0175},\n {'timestamp': datetime.datetime(2020, 12, 1, 23, 59, 28, 219429, tzinfo=tzutc()), 'clientType': 'Background', 'companyName': 'CRONUS USA, Inc.', 'totalTimeInMS': 4.9421},\n {'timestamp': datetime.datetime(2020, 12, 1, 23, 59, 27, 77332, tzinfo=tzutc()), 'clientType': 'Background', 'companyName': 'CRONUS USA, Inc.', 'totalTimeInMS': 7.3376},\n {'timestamp': datetime.datetime(2020, 12, 1, 23, 59, 25, 917730, tzinfo=tzutc()), 'clientType': 'Background', 'companyName': 'CRONUS USA, Inc.', 'totalTimeInMS': 4.614},\n {'timestamp': datetime.datetime(2020, 12, 1, 23, 59, 25, 817727, tzinfo=tzutc()), 'clientType': 'Background', 'companyName': 'CRONUS USA, Inc.', 'totalTimeInMS': 5.2469},\n {'timestamp': datetime.datetime(2020, 12, 1, 23, 59, 25, 672719, tzinfo=tzutc()), 'clientType': 'Background', 'companyName': 'CRONUS USA, Inc.', 'totalTimeInMS': 5.1929},\n {'timestamp': datetime.datetime(2020, 12, 1, 23, 59, 24, 650153, tzinfo=tzutc()), 'clientType': 'Background', 'companyName': 'CRONUS USA, Inc.', 'totalTimeInMS': 5.0198},\n {'timestamp': datetime.datetime(2020, 12, 1, 23, 59, 24, 635153, tzinfo=tzutc()), 'clientType': 'Background', 'companyName': 'CRONUS USA, Inc.', 'totalTimeInMS': 5.2735},\n {'timestamp': datetime.datetime(2020, 12, 1, 23, 59, 24, 520150, tzinfo=tzutc()), 'clientType': 'Background', 'companyName': 'CRONUS USA, Inc.', 'totalTimeInMS': 6.1613},\n {'timestamp': datetime.datetime(2020, 12, 1, 23, 59, 24, 440144, tzinfo=tzutc()), 'clientType': 'Background', 'companyName': 'CRONUS USA, Inc.', 'totalTimeInMS': 4.915},\n {'timestamp': datetime.datetime(2020, 12, 1, 23, 59, 23, 426104, tzinfo=tzutc()), 'clientType': 'Background', 'companyName': 'CRONUS USA, Inc.', 'totalTimeInMS': 4.8342},\n {'timestamp': datetime.datetime(2020, 12, 1, 23, 59, 23, 331104, tzinfo=tzutc()), 'clientType': 'Background', 'companyName': 'CRONUS USA, Inc.', 'totalTimeInMS': 4.4092}]",
                        "text/html": ""
                    },
                    "metadata": {},
                    "execution_count": 16,
                    "output_type": "execute_result"
                }
            ],
            "execution_count": 16
        },
        {
            "cell_type": "code",
            "source": [
                "%%kql\r\n",
                "let _aadTenantId = aadTenantId;\r\n",
                "let _environmentName = environmentName;\r\n",
                "let _startDate = startDate;\r\n",
                "let _endDate = endDate;\r\n",
                "traces\r\n",
                "| where 1==1 \r\n",
                "    and timestamp >= todatetime(_startDate)\r\n",
                "    and timestamp <= todatetime(_endDate) + totimespan(24h) - totimespan(1ms)   \r\n",
                "    and customDimensions.aadTenantId == _aadTenantId\r\n",
                "    and (_environmentName == '' or customDimensions.environmentName == _environmentName )\r\n",
                "    and customDimensions.eventId == 'RT0004'\r\n",
                "| extend clientType = tostring( customDimensions.clientType )\r\n",
                "| summarize count=count() by clientType, bin(timestamp, 1h)\r\n",
                "| render timechart title= 'Number of successful logins the last day (shown by client/session type)'"
            ],
            "metadata": {
                "azdata_cell_guid": "21e5d398-4a06-4ab9-a0e3-6e6263725dec"
            },
            "outputs": [
                {
                    "data": {
                        "text/plain": "<IPython.core.display.HTML object>",
                        "text/html": "<html>\n        <head>\n            \n            \n        </head>\n        <body>\n            <div><p style='padding: 10px; color: #3a87ad; background-color: #d9edf7; border-color: #bce9f1'>&nbsp;*&nbsp;962fbf96-f15e-4d37-8f91-13cae96f4b3e@applicationinsights</p></div>\n        </body>\n        </html>"
                    },
                    "metadata": {},
                    "output_type": "display_data"
                },
                {
                    "data": {
                        "application/vnd.plotly.v1+json": {
                            "config": {
                                "plotlyServerURL": "https://plot.ly"
                            },
                            "data": [
                                {
                                    "line": {
                                        "color": "rgb(31, 118, 179)",
                                        "width": 1
                                    },
                                    "name": "WebClient:count",
                                    "opacity": 0.8,
                                    "type": "scatter",
                                    "x": [
                                        "2020-11-30T08:00:00+00:00",
                                        "2020-11-30T10:00:00+00:00",
                                        "2020-11-30T11:00:00+00:00",
                                        "2020-11-30T12:00:00+00:00",
                                        "2020-11-30T13:00:00+00:00",
                                        "2020-11-30T16:00:00+00:00",
                                        "2020-11-30T17:00:00+00:00",
                                        "2020-11-30T18:00:00+00:00",
                                        "2020-11-30T19:00:00+00:00",
                                        "2020-11-30T20:00:00+00:00",
                                        "2020-11-30T21:00:00+00:00",
                                        "2020-11-30T22:00:00+00:00",
                                        "2020-11-30T23:00:00+00:00",
                                        "2020-12-01T00:00:00+00:00",
                                        "2020-12-01T01:00:00+00:00",
                                        "2020-12-01T02:00:00+00:00",
                                        "2020-12-01T03:00:00+00:00",
                                        "2020-12-01T04:00:00+00:00",
                                        "2020-12-01T05:00:00+00:00",
                                        "2020-12-01T06:00:00+00:00",
                                        "2020-12-01T07:00:00+00:00",
                                        "2020-12-01T08:00:00+00:00",
                                        "2020-12-01T09:00:00+00:00",
                                        "2020-12-01T10:00:00+00:00",
                                        "2020-12-01T11:00:00+00:00",
                                        "2020-12-01T12:00:00+00:00",
                                        "2020-12-01T13:00:00+00:00",
                                        "2020-12-01T14:00:00+00:00",
                                        "2020-12-01T15:00:00+00:00",
                                        "2020-12-01T16:00:00+00:00",
                                        "2020-12-01T17:00:00+00:00",
                                        "2020-12-01T18:00:00+00:00",
                                        "2020-12-01T19:00:00+00:00",
                                        "2020-12-01T20:00:00+00:00",
                                        "2020-12-01T21:00:00+00:00",
                                        "2020-12-01T22:00:00+00:00",
                                        "2020-12-01T23:00:00+00:00"
                                    ],
                                    "y": [
                                        2,
                                        1,
                                        null,
                                        null,
                                        null,
                                        1,
                                        null,
                                        null,
                                        null,
                                        null,
                                        null,
                                        null,
                                        null,
                                        null,
                                        null,
                                        null,
                                        null,
                                        null,
                                        null,
                                        null,
                                        null,
                                        null,
                                        null,
                                        null,
                                        null,
                                        null,
                                        null,
                                        null,
                                        null,
                                        null,
                                        null,
                                        null,
                                        null,
                                        null,
                                        null,
                                        null,
                                        null
                                    ]
                                },
                                {
                                    "line": {
                                        "color": "rgb(254, 127, 14)",
                                        "width": 1
                                    },
                                    "name": "ChildSession:count",
                                    "opacity": 0.8,
                                    "type": "scatter",
                                    "x": [
                                        "2020-11-30T08:00:00+00:00",
                                        "2020-11-30T10:00:00+00:00",
                                        "2020-11-30T11:00:00+00:00",
                                        "2020-11-30T12:00:00+00:00",
                                        "2020-11-30T13:00:00+00:00",
                                        "2020-11-30T16:00:00+00:00",
                                        "2020-11-30T17:00:00+00:00",
                                        "2020-11-30T18:00:00+00:00",
                                        "2020-11-30T19:00:00+00:00",
                                        "2020-11-30T20:00:00+00:00",
                                        "2020-11-30T21:00:00+00:00",
                                        "2020-11-30T22:00:00+00:00",
                                        "2020-11-30T23:00:00+00:00",
                                        "2020-12-01T00:00:00+00:00",
                                        "2020-12-01T01:00:00+00:00",
                                        "2020-12-01T02:00:00+00:00",
                                        "2020-12-01T03:00:00+00:00",
                                        "2020-12-01T04:00:00+00:00",
                                        "2020-12-01T05:00:00+00:00",
                                        "2020-12-01T06:00:00+00:00",
                                        "2020-12-01T07:00:00+00:00",
                                        "2020-12-01T08:00:00+00:00",
                                        "2020-12-01T09:00:00+00:00",
                                        "2020-12-01T10:00:00+00:00",
                                        "2020-12-01T11:00:00+00:00",
                                        "2020-12-01T12:00:00+00:00",
                                        "2020-12-01T13:00:00+00:00",
                                        "2020-12-01T14:00:00+00:00",
                                        "2020-12-01T15:00:00+00:00",
                                        "2020-12-01T16:00:00+00:00",
                                        "2020-12-01T17:00:00+00:00",
                                        "2020-12-01T18:00:00+00:00",
                                        "2020-12-01T19:00:00+00:00",
                                        "2020-12-01T20:00:00+00:00",
                                        "2020-12-01T21:00:00+00:00",
                                        "2020-12-01T22:00:00+00:00",
                                        "2020-12-01T23:00:00+00:00"
                                    ],
                                    "y": [
                                        6,
                                        1,
                                        9,
                                        2,
                                        1,
                                        3,
                                        38,
                                        null,
                                        null,
                                        null,
                                        null,
                                        null,
                                        null,
                                        null,
                                        null,
                                        null,
                                        null,
                                        null,
                                        null,
                                        null,
                                        null,
                                        null,
                                        null,
                                        null,
                                        null,
                                        null,
                                        null,
                                        null,
                                        null,
                                        null,
                                        null,
                                        null,
                                        null,
                                        null,
                                        null,
                                        null,
                                        null
                                    ]
                                },
                                {
                                    "line": {
                                        "color": "rgb(44, 160, 44)",
                                        "width": 1
                                    },
                                    "name": "Background:count",
                                    "opacity": 0.8,
                                    "type": "scatter",
                                    "x": [
                                        "2020-11-30T08:00:00+00:00",
                                        "2020-11-30T10:00:00+00:00",
                                        "2020-11-30T11:00:00+00:00",
                                        "2020-11-30T12:00:00+00:00",
                                        "2020-11-30T13:00:00+00:00",
                                        "2020-11-30T16:00:00+00:00",
                                        "2020-11-30T17:00:00+00:00",
                                        "2020-11-30T18:00:00+00:00",
                                        "2020-11-30T19:00:00+00:00",
                                        "2020-11-30T20:00:00+00:00",
                                        "2020-11-30T21:00:00+00:00",
                                        "2020-11-30T22:00:00+00:00",
                                        "2020-11-30T23:00:00+00:00",
                                        "2020-12-01T00:00:00+00:00",
                                        "2020-12-01T01:00:00+00:00",
                                        "2020-12-01T02:00:00+00:00",
                                        "2020-12-01T03:00:00+00:00",
                                        "2020-12-01T04:00:00+00:00",
                                        "2020-12-01T05:00:00+00:00",
                                        "2020-12-01T06:00:00+00:00",
                                        "2020-12-01T07:00:00+00:00",
                                        "2020-12-01T08:00:00+00:00",
                                        "2020-12-01T09:00:00+00:00",
                                        "2020-12-01T10:00:00+00:00",
                                        "2020-12-01T11:00:00+00:00",
                                        "2020-12-01T12:00:00+00:00",
                                        "2020-12-01T13:00:00+00:00",
                                        "2020-12-01T14:00:00+00:00",
                                        "2020-12-01T15:00:00+00:00",
                                        "2020-12-01T16:00:00+00:00",
                                        "2020-12-01T17:00:00+00:00",
                                        "2020-12-01T18:00:00+00:00",
                                        "2020-12-01T19:00:00+00:00",
                                        "2020-12-01T20:00:00+00:00",
                                        "2020-12-01T21:00:00+00:00",
                                        "2020-12-01T22:00:00+00:00",
                                        "2020-12-01T23:00:00+00:00"
                                    ],
                                    "y": [
                                        null,
                                        80,
                                        null,
                                        null,
                                        null,
                                        null,
                                        null,
                                        2994,
                                        10101,
                                        9806,
                                        9728,
                                        9686,
                                        9616,
                                        9473,
                                        9333,
                                        9582,
                                        9467,
                                        9607,
                                        9723,
                                        9690,
                                        9741,
                                        9823,
                                        9687,
                                        9725,
                                        9720,
                                        9810,
                                        9731,
                                        9747,
                                        9660,
                                        9393,
                                        9612,
                                        9557,
                                        9552,
                                        9310,
                                        9965,
                                        9583,
                                        4612
                                    ]
                                },
                                {
                                    "line": {
                                        "color": "rgb(214, 39, 39)",
                                        "width": 1
                                    },
                                    "name": "WebServiceClient:count",
                                    "opacity": 0.8,
                                    "type": "scatter",
                                    "x": [
                                        "2020-11-30T08:00:00+00:00",
                                        "2020-11-30T10:00:00+00:00",
                                        "2020-11-30T11:00:00+00:00",
                                        "2020-11-30T12:00:00+00:00",
                                        "2020-11-30T13:00:00+00:00",
                                        "2020-11-30T16:00:00+00:00",
                                        "2020-11-30T17:00:00+00:00",
                                        "2020-11-30T18:00:00+00:00",
                                        "2020-11-30T19:00:00+00:00",
                                        "2020-11-30T20:00:00+00:00",
                                        "2020-11-30T21:00:00+00:00",
                                        "2020-11-30T22:00:00+00:00",
                                        "2020-11-30T23:00:00+00:00",
                                        "2020-12-01T00:00:00+00:00",
                                        "2020-12-01T01:00:00+00:00",
                                        "2020-12-01T02:00:00+00:00",
                                        "2020-12-01T03:00:00+00:00",
                                        "2020-12-01T04:00:00+00:00",
                                        "2020-12-01T05:00:00+00:00",
                                        "2020-12-01T06:00:00+00:00",
                                        "2020-12-01T07:00:00+00:00",
                                        "2020-12-01T08:00:00+00:00",
                                        "2020-12-01T09:00:00+00:00",
                                        "2020-12-01T10:00:00+00:00",
                                        "2020-12-01T11:00:00+00:00",
                                        "2020-12-01T12:00:00+00:00",
                                        "2020-12-01T13:00:00+00:00",
                                        "2020-12-01T14:00:00+00:00",
                                        "2020-12-01T15:00:00+00:00",
                                        "2020-12-01T16:00:00+00:00",
                                        "2020-12-01T17:00:00+00:00",
                                        "2020-12-01T18:00:00+00:00",
                                        "2020-12-01T19:00:00+00:00",
                                        "2020-12-01T20:00:00+00:00",
                                        "2020-12-01T21:00:00+00:00",
                                        "2020-12-01T22:00:00+00:00",
                                        "2020-12-01T23:00:00+00:00"
                                    ],
                                    "y": [
                                        null,
                                        null,
                                        130,
                                        null,
                                        null,
                                        null,
                                        null,
                                        null,
                                        null,
                                        null,
                                        null,
                                        null,
                                        null,
                                        null,
                                        null,
                                        null,
                                        null,
                                        null,
                                        null,
                                        null,
                                        null,
                                        null,
                                        null,
                                        null,
                                        null,
                                        null,
                                        null,
                                        null,
                                        null,
                                        null,
                                        null,
                                        null,
                                        null,
                                        null,
                                        null,
                                        null,
                                        null
                                    ]
                                }
                            ],
                            "layout": {
                                "showlegend": true,
                                "template": {
                                    "data": {
                                        "bar": [
                                            {
                                                "error_x": {
                                                    "color": "#2a3f5f"
                                                },
                                                "error_y": {
                                                    "color": "#2a3f5f"
                                                },
                                                "marker": {
                                                    "line": {
                                                        "color": "#E5ECF6",
                                                        "width": 0.5
                                                    }
                                                },
                                                "type": "bar"
                                            }
                                        ],
                                        "barpolar": [
                                            {
                                                "marker": {
                                                    "line": {
                                                        "color": "#E5ECF6",
                                                        "width": 0.5
                                                    }
                                                },
                                                "type": "barpolar"
                                            }
                                        ],
                                        "carpet": [
                                            {
                                                "aaxis": {
                                                    "endlinecolor": "#2a3f5f",
                                                    "gridcolor": "white",
                                                    "linecolor": "white",
                                                    "minorgridcolor": "white",
                                                    "startlinecolor": "#2a3f5f"
                                                },
                                                "baxis": {
                                                    "endlinecolor": "#2a3f5f",
                                                    "gridcolor": "white",
                                                    "linecolor": "white",
                                                    "minorgridcolor": "white",
                                                    "startlinecolor": "#2a3f5f"
                                                },
                                                "type": "carpet"
                                            }
                                        ],
                                        "choropleth": [
                                            {
                                                "colorbar": {
                                                    "outlinewidth": 0,
                                                    "ticks": ""
                                                },
                                                "type": "choropleth"
                                            }
                                        ],
                                        "contour": [
                                            {
                                                "colorbar": {
                                                    "outlinewidth": 0,
                                                    "ticks": ""
                                                },
                                                "colorscale": [
                                                    [
                                                        0,
                                                        "#0d0887"
                                                    ],
                                                    [
                                                        0.1111111111111111,
                                                        "#46039f"
                                                    ],
                                                    [
                                                        0.2222222222222222,
                                                        "#7201a8"
                                                    ],
                                                    [
                                                        0.3333333333333333,
                                                        "#9c179e"
                                                    ],
                                                    [
                                                        0.4444444444444444,
                                                        "#bd3786"
                                                    ],
                                                    [
                                                        0.5555555555555556,
                                                        "#d8576b"
                                                    ],
                                                    [
                                                        0.6666666666666666,
                                                        "#ed7953"
                                                    ],
                                                    [
                                                        0.7777777777777778,
                                                        "#fb9f3a"
                                                    ],
                                                    [
                                                        0.8888888888888888,
                                                        "#fdca26"
                                                    ],
                                                    [
                                                        1,
                                                        "#f0f921"
                                                    ]
                                                ],
                                                "type": "contour"
                                            }
                                        ],
                                        "contourcarpet": [
                                            {
                                                "colorbar": {
                                                    "outlinewidth": 0,
                                                    "ticks": ""
                                                },
                                                "type": "contourcarpet"
                                            }
                                        ],
                                        "heatmap": [
                                            {
                                                "colorbar": {
                                                    "outlinewidth": 0,
                                                    "ticks": ""
                                                },
                                                "colorscale": [
                                                    [
                                                        0,
                                                        "#0d0887"
                                                    ],
                                                    [
                                                        0.1111111111111111,
                                                        "#46039f"
                                                    ],
                                                    [
                                                        0.2222222222222222,
                                                        "#7201a8"
                                                    ],
                                                    [
                                                        0.3333333333333333,
                                                        "#9c179e"
                                                    ],
                                                    [
                                                        0.4444444444444444,
                                                        "#bd3786"
                                                    ],
                                                    [
                                                        0.5555555555555556,
                                                        "#d8576b"
                                                    ],
                                                    [
                                                        0.6666666666666666,
                                                        "#ed7953"
                                                    ],
                                                    [
                                                        0.7777777777777778,
                                                        "#fb9f3a"
                                                    ],
                                                    [
                                                        0.8888888888888888,
                                                        "#fdca26"
                                                    ],
                                                    [
                                                        1,
                                                        "#f0f921"
                                                    ]
                                                ],
                                                "type": "heatmap"
                                            }
                                        ],
                                        "heatmapgl": [
                                            {
                                                "colorbar": {
                                                    "outlinewidth": 0,
                                                    "ticks": ""
                                                },
                                                "colorscale": [
                                                    [
                                                        0,
                                                        "#0d0887"
                                                    ],
                                                    [
                                                        0.1111111111111111,
                                                        "#46039f"
                                                    ],
                                                    [
                                                        0.2222222222222222,
                                                        "#7201a8"
                                                    ],
                                                    [
                                                        0.3333333333333333,
                                                        "#9c179e"
                                                    ],
                                                    [
                                                        0.4444444444444444,
                                                        "#bd3786"
                                                    ],
                                                    [
                                                        0.5555555555555556,
                                                        "#d8576b"
                                                    ],
                                                    [
                                                        0.6666666666666666,
                                                        "#ed7953"
                                                    ],
                                                    [
                                                        0.7777777777777778,
                                                        "#fb9f3a"
                                                    ],
                                                    [
                                                        0.8888888888888888,
                                                        "#fdca26"
                                                    ],
                                                    [
                                                        1,
                                                        "#f0f921"
                                                    ]
                                                ],
                                                "type": "heatmapgl"
                                            }
                                        ],
                                        "histogram": [
                                            {
                                                "marker": {
                                                    "colorbar": {
                                                        "outlinewidth": 0,
                                                        "ticks": ""
                                                    }
                                                },
                                                "type": "histogram"
                                            }
                                        ],
                                        "histogram2d": [
                                            {
                                                "colorbar": {
                                                    "outlinewidth": 0,
                                                    "ticks": ""
                                                },
                                                "colorscale": [
                                                    [
                                                        0,
                                                        "#0d0887"
                                                    ],
                                                    [
                                                        0.1111111111111111,
                                                        "#46039f"
                                                    ],
                                                    [
                                                        0.2222222222222222,
                                                        "#7201a8"
                                                    ],
                                                    [
                                                        0.3333333333333333,
                                                        "#9c179e"
                                                    ],
                                                    [
                                                        0.4444444444444444,
                                                        "#bd3786"
                                                    ],
                                                    [
                                                        0.5555555555555556,
                                                        "#d8576b"
                                                    ],
                                                    [
                                                        0.6666666666666666,
                                                        "#ed7953"
                                                    ],
                                                    [
                                                        0.7777777777777778,
                                                        "#fb9f3a"
                                                    ],
                                                    [
                                                        0.8888888888888888,
                                                        "#fdca26"
                                                    ],
                                                    [
                                                        1,
                                                        "#f0f921"
                                                    ]
                                                ],
                                                "type": "histogram2d"
                                            }
                                        ],
                                        "histogram2dcontour": [
                                            {
                                                "colorbar": {
                                                    "outlinewidth": 0,
                                                    "ticks": ""
                                                },
                                                "colorscale": [
                                                    [
                                                        0,
                                                        "#0d0887"
                                                    ],
                                                    [
                                                        0.1111111111111111,
                                                        "#46039f"
                                                    ],
                                                    [
                                                        0.2222222222222222,
                                                        "#7201a8"
                                                    ],
                                                    [
                                                        0.3333333333333333,
                                                        "#9c179e"
                                                    ],
                                                    [
                                                        0.4444444444444444,
                                                        "#bd3786"
                                                    ],
                                                    [
                                                        0.5555555555555556,
                                                        "#d8576b"
                                                    ],
                                                    [
                                                        0.6666666666666666,
                                                        "#ed7953"
                                                    ],
                                                    [
                                                        0.7777777777777778,
                                                        "#fb9f3a"
                                                    ],
                                                    [
                                                        0.8888888888888888,
                                                        "#fdca26"
                                                    ],
                                                    [
                                                        1,
                                                        "#f0f921"
                                                    ]
                                                ],
                                                "type": "histogram2dcontour"
                                            }
                                        ],
                                        "mesh3d": [
                                            {
                                                "colorbar": {
                                                    "outlinewidth": 0,
                                                    "ticks": ""
                                                },
                                                "type": "mesh3d"
                                            }
                                        ],
                                        "parcoords": [
                                            {
                                                "line": {
                                                    "colorbar": {
                                                        "outlinewidth": 0,
                                                        "ticks": ""
                                                    }
                                                },
                                                "type": "parcoords"
                                            }
                                        ],
                                        "pie": [
                                            {
                                                "automargin": true,
                                                "type": "pie"
                                            }
                                        ],
                                        "scatter": [
                                            {
                                                "marker": {
                                                    "colorbar": {
                                                        "outlinewidth": 0,
                                                        "ticks": ""
                                                    }
                                                },
                                                "type": "scatter"
                                            }
                                        ],
                                        "scatter3d": [
                                            {
                                                "line": {
                                                    "colorbar": {
                                                        "outlinewidth": 0,
                                                        "ticks": ""
                                                    }
                                                },
                                                "marker": {
                                                    "colorbar": {
                                                        "outlinewidth": 0,
                                                        "ticks": ""
                                                    }
                                                },
                                                "type": "scatter3d"
                                            }
                                        ],
                                        "scattercarpet": [
                                            {
                                                "marker": {
                                                    "colorbar": {
                                                        "outlinewidth": 0,
                                                        "ticks": ""
                                                    }
                                                },
                                                "type": "scattercarpet"
                                            }
                                        ],
                                        "scattergeo": [
                                            {
                                                "marker": {
                                                    "colorbar": {
                                                        "outlinewidth": 0,
                                                        "ticks": ""
                                                    }
                                                },
                                                "type": "scattergeo"
                                            }
                                        ],
                                        "scattergl": [
                                            {
                                                "marker": {
                                                    "colorbar": {
                                                        "outlinewidth": 0,
                                                        "ticks": ""
                                                    }
                                                },
                                                "type": "scattergl"
                                            }
                                        ],
                                        "scattermapbox": [
                                            {
                                                "marker": {
                                                    "colorbar": {
                                                        "outlinewidth": 0,
                                                        "ticks": ""
                                                    }
                                                },
                                                "type": "scattermapbox"
                                            }
                                        ],
                                        "scatterpolar": [
                                            {
                                                "marker": {
                                                    "colorbar": {
                                                        "outlinewidth": 0,
                                                        "ticks": ""
                                                    }
                                                },
                                                "type": "scatterpolar"
                                            }
                                        ],
                                        "scatterpolargl": [
                                            {
                                                "marker": {
                                                    "colorbar": {
                                                        "outlinewidth": 0,
                                                        "ticks": ""
                                                    }
                                                },
                                                "type": "scatterpolargl"
                                            }
                                        ],
                                        "scatterternary": [
                                            {
                                                "marker": {
                                                    "colorbar": {
                                                        "outlinewidth": 0,
                                                        "ticks": ""
                                                    }
                                                },
                                                "type": "scatterternary"
                                            }
                                        ],
                                        "surface": [
                                            {
                                                "colorbar": {
                                                    "outlinewidth": 0,
                                                    "ticks": ""
                                                },
                                                "colorscale": [
                                                    [
                                                        0,
                                                        "#0d0887"
                                                    ],
                                                    [
                                                        0.1111111111111111,
                                                        "#46039f"
                                                    ],
                                                    [
                                                        0.2222222222222222,
                                                        "#7201a8"
                                                    ],
                                                    [
                                                        0.3333333333333333,
                                                        "#9c179e"
                                                    ],
                                                    [
                                                        0.4444444444444444,
                                                        "#bd3786"
                                                    ],
                                                    [
                                                        0.5555555555555556,
                                                        "#d8576b"
                                                    ],
                                                    [
                                                        0.6666666666666666,
                                                        "#ed7953"
                                                    ],
                                                    [
                                                        0.7777777777777778,
                                                        "#fb9f3a"
                                                    ],
                                                    [
                                                        0.8888888888888888,
                                                        "#fdca26"
                                                    ],
                                                    [
                                                        1,
                                                        "#f0f921"
                                                    ]
                                                ],
                                                "type": "surface"
                                            }
                                        ],
                                        "table": [
                                            {
                                                "cells": {
                                                    "fill": {
                                                        "color": "#EBF0F8"
                                                    },
                                                    "line": {
                                                        "color": "white"
                                                    }
                                                },
                                                "header": {
                                                    "fill": {
                                                        "color": "#C8D4E3"
                                                    },
                                                    "line": {
                                                        "color": "white"
                                                    }
                                                },
                                                "type": "table"
                                            }
                                        ]
                                    },
                                    "layout": {
                                        "annotationdefaults": {
                                            "arrowcolor": "#2a3f5f",
                                            "arrowhead": 0,
                                            "arrowwidth": 1
                                        },
                                        "coloraxis": {
                                            "colorbar": {
                                                "outlinewidth": 0,
                                                "ticks": ""
                                            }
                                        },
                                        "colorscale": {
                                            "diverging": [
                                                [
                                                    0,
                                                    "#8e0152"
                                                ],
                                                [
                                                    0.1,
                                                    "#c51b7d"
                                                ],
                                                [
                                                    0.2,
                                                    "#de77ae"
                                                ],
                                                [
                                                    0.3,
                                                    "#f1b6da"
                                                ],
                                                [
                                                    0.4,
                                                    "#fde0ef"
                                                ],
                                                [
                                                    0.5,
                                                    "#f7f7f7"
                                                ],
                                                [
                                                    0.6,
                                                    "#e6f5d0"
                                                ],
                                                [
                                                    0.7,
                                                    "#b8e186"
                                                ],
                                                [
                                                    0.8,
                                                    "#7fbc41"
                                                ],
                                                [
                                                    0.9,
                                                    "#4d9221"
                                                ],
                                                [
                                                    1,
                                                    "#276419"
                                                ]
                                            ],
                                            "sequential": [
                                                [
                                                    0,
                                                    "#0d0887"
                                                ],
                                                [
                                                    0.1111111111111111,
                                                    "#46039f"
                                                ],
                                                [
                                                    0.2222222222222222,
                                                    "#7201a8"
                                                ],
                                                [
                                                    0.3333333333333333,
                                                    "#9c179e"
                                                ],
                                                [
                                                    0.4444444444444444,
                                                    "#bd3786"
                                                ],
                                                [
                                                    0.5555555555555556,
                                                    "#d8576b"
                                                ],
                                                [
                                                    0.6666666666666666,
                                                    "#ed7953"
                                                ],
                                                [
                                                    0.7777777777777778,
                                                    "#fb9f3a"
                                                ],
                                                [
                                                    0.8888888888888888,
                                                    "#fdca26"
                                                ],
                                                [
                                                    1,
                                                    "#f0f921"
                                                ]
                                            ],
                                            "sequentialminus": [
                                                [
                                                    0,
                                                    "#0d0887"
                                                ],
                                                [
                                                    0.1111111111111111,
                                                    "#46039f"
                                                ],
                                                [
                                                    0.2222222222222222,
                                                    "#7201a8"
                                                ],
                                                [
                                                    0.3333333333333333,
                                                    "#9c179e"
                                                ],
                                                [
                                                    0.4444444444444444,
                                                    "#bd3786"
                                                ],
                                                [
                                                    0.5555555555555556,
                                                    "#d8576b"
                                                ],
                                                [
                                                    0.6666666666666666,
                                                    "#ed7953"
                                                ],
                                                [
                                                    0.7777777777777778,
                                                    "#fb9f3a"
                                                ],
                                                [
                                                    0.8888888888888888,
                                                    "#fdca26"
                                                ],
                                                [
                                                    1,
                                                    "#f0f921"
                                                ]
                                            ]
                                        },
                                        "colorway": [
                                            "#636efa",
                                            "#EF553B",
                                            "#00cc96",
                                            "#ab63fa",
                                            "#FFA15A",
                                            "#19d3f3",
                                            "#FF6692",
                                            "#B6E880",
                                            "#FF97FF",
                                            "#FECB52"
                                        ],
                                        "font": {
                                            "color": "#2a3f5f"
                                        },
                                        "geo": {
                                            "bgcolor": "white",
                                            "lakecolor": "white",
                                            "landcolor": "#E5ECF6",
                                            "showlakes": true,
                                            "showland": true,
                                            "subunitcolor": "white"
                                        },
                                        "hoverlabel": {
                                            "align": "left"
                                        },
                                        "hovermode": "closest",
                                        "mapbox": {
                                            "style": "light"
                                        },
                                        "paper_bgcolor": "white",
                                        "plot_bgcolor": "#E5ECF6",
                                        "polar": {
                                            "angularaxis": {
                                                "gridcolor": "white",
                                                "linecolor": "white",
                                                "ticks": ""
                                            },
                                            "bgcolor": "#E5ECF6",
                                            "radialaxis": {
                                                "gridcolor": "white",
                                                "linecolor": "white",
                                                "ticks": ""
                                            }
                                        },
                                        "scene": {
                                            "xaxis": {
                                                "backgroundcolor": "#E5ECF6",
                                                "gridcolor": "white",
                                                "gridwidth": 2,
                                                "linecolor": "white",
                                                "showbackground": true,
                                                "ticks": "",
                                                "zerolinecolor": "white"
                                            },
                                            "yaxis": {
                                                "backgroundcolor": "#E5ECF6",
                                                "gridcolor": "white",
                                                "gridwidth": 2,
                                                "linecolor": "white",
                                                "showbackground": true,
                                                "ticks": "",
                                                "zerolinecolor": "white"
                                            },
                                            "zaxis": {
                                                "backgroundcolor": "#E5ECF6",
                                                "gridcolor": "white",
                                                "gridwidth": 2,
                                                "linecolor": "white",
                                                "showbackground": true,
                                                "ticks": "",
                                                "zerolinecolor": "white"
                                            }
                                        },
                                        "shapedefaults": {
                                            "line": {
                                                "color": "#2a3f5f"
                                            }
                                        },
                                        "ternary": {
                                            "aaxis": {
                                                "gridcolor": "white",
                                                "linecolor": "white",
                                                "ticks": ""
                                            },
                                            "baxis": {
                                                "gridcolor": "white",
                                                "linecolor": "white",
                                                "ticks": ""
                                            },
                                            "bgcolor": "#E5ECF6",
                                            "caxis": {
                                                "gridcolor": "white",
                                                "linecolor": "white",
                                                "ticks": ""
                                            }
                                        },
                                        "title": {
                                            "x": 0.05
                                        },
                                        "xaxis": {
                                            "automargin": true,
                                            "gridcolor": "white",
                                            "linecolor": "white",
                                            "ticks": "",
                                            "title": {
                                                "standoff": 15
                                            },
                                            "zerolinecolor": "white",
                                            "zerolinewidth": 2
                                        },
                                        "yaxis": {
                                            "automargin": true,
                                            "gridcolor": "white",
                                            "linecolor": "white",
                                            "ticks": "",
                                            "title": {
                                                "standoff": 15
                                            },
                                            "zerolinecolor": "white",
                                            "zerolinewidth": 2
                                        }
                                    }
                                },
                                "title": {
                                    "text": "Number of successful logins the last day (shown by client/session type)"
                                },
                                "xaxis": {
                                    "autorange": true,
                                    "title": {
                                        "text": "timestamp"
                                    },
                                    "type": "date"
                                },
                                "yaxis": {
                                    "ticksuffix": "",
                                    "title": {
                                        "text": "count"
                                    },
                                    "type": "linear"
                                }
                            }
                        }
                    },
                    "metadata": {},
                    "output_type": "display_data"
                },
                {
                    "data": {
                        "text/plain": "<IPython.core.display.HTML object>",
                        "text/html": "<html>\n        <head>\n            \n            \n        </head>\n        <body>\n            <div><p style='padding: 10px; color: #3a87ad; background-color: #d9edf7; border-color: #bce9f1'>Done&nbsp;(00:00.665):&nbsp;42&nbsp;records</p></div>\n        </body>\n        </html>"
                    },
                    "metadata": {},
                    "output_type": "display_data"
                },
                {
                    "data": {
                        "text/plain": "[{'clientType': 'WebClient', 'timestamp': datetime.datetime(2020, 11, 30, 8, 0, tzinfo=tzutc()), 'count': 2},\n {'clientType': 'ChildSession', 'timestamp': datetime.datetime(2020, 11, 30, 8, 0, tzinfo=tzutc()), 'count': 6},\n {'clientType': 'Background', 'timestamp': datetime.datetime(2020, 12, 1, 2, 0, tzinfo=tzutc()), 'count': 9582},\n {'clientType': 'Background', 'timestamp': datetime.datetime(2020, 11, 30, 18, 0, tzinfo=tzutc()), 'count': 2994},\n {'clientType': 'Background', 'timestamp': datetime.datetime(2020, 11, 30, 19, 0, tzinfo=tzutc()), 'count': 10101},\n {'clientType': 'Background', 'timestamp': datetime.datetime(2020, 11, 30, 20, 0, tzinfo=tzutc()), 'count': 9806},\n {'clientType': 'Background', 'timestamp': datetime.datetime(2020, 11, 30, 21, 0, tzinfo=tzutc()), 'count': 9728},\n {'clientType': 'Background', 'timestamp': datetime.datetime(2020, 11, 30, 22, 0, tzinfo=tzutc()), 'count': 9686},\n {'clientType': 'Background', 'timestamp': datetime.datetime(2020, 11, 30, 23, 0, tzinfo=tzutc()), 'count': 9616},\n {'clientType': 'Background', 'timestamp': datetime.datetime(2020, 12, 1, 0, 0, tzinfo=tzutc()), 'count': 9473},\n {'clientType': 'Background', 'timestamp': datetime.datetime(2020, 12, 1, 1, 0, tzinfo=tzutc()), 'count': 9333},\n {'clientType': 'Background', 'timestamp': datetime.datetime(2020, 12, 1, 3, 0, tzinfo=tzutc()), 'count': 9467},\n {'clientType': 'Background', 'timestamp': datetime.datetime(2020, 12, 1, 4, 0, tzinfo=tzutc()), 'count': 9607},\n {'clientType': 'Background', 'timestamp': datetime.datetime(2020, 12, 1, 5, 0, tzinfo=tzutc()), 'count': 9723},\n {'clientType': 'Background', 'timestamp': datetime.datetime(2020, 12, 1, 6, 0, tzinfo=tzutc()), 'count': 9690},\n {'clientType': 'Background', 'timestamp': datetime.datetime(2020, 12, 1, 7, 0, tzinfo=tzutc()), 'count': 9741},\n {'clientType': 'Background', 'timestamp': datetime.datetime(2020, 12, 1, 15, 0, tzinfo=tzutc()), 'count': 9660},\n {'clientType': 'Background', 'timestamp': datetime.datetime(2020, 12, 1, 16, 0, tzinfo=tzutc()), 'count': 9393},\n {'clientType': 'Background', 'timestamp': datetime.datetime(2020, 12, 1, 17, 0, tzinfo=tzutc()), 'count': 9612},\n {'clientType': 'Background', 'timestamp': datetime.datetime(2020, 12, 1, 18, 0, tzinfo=tzutc()), 'count': 9557},\n {'clientType': 'Background', 'timestamp': datetime.datetime(2020, 12, 1, 19, 0, tzinfo=tzutc()), 'count': 9552},\n {'clientType': 'Background', 'timestamp': datetime.datetime(2020, 12, 1, 20, 0, tzinfo=tzutc()), 'count': 9310},\n {'clientType': 'Background', 'timestamp': datetime.datetime(2020, 12, 1, 21, 0, tzinfo=tzutc()), 'count': 9965},\n {'clientType': 'Background', 'timestamp': datetime.datetime(2020, 12, 1, 22, 0, tzinfo=tzutc()), 'count': 9583},\n {'clientType': 'Background', 'timestamp': datetime.datetime(2020, 12, 1, 23, 0, tzinfo=tzutc()), 'count': 4612},\n {'clientType': 'Background', 'timestamp': datetime.datetime(2020, 12, 1, 11, 0, tzinfo=tzutc()), 'count': 9720},\n {'clientType': 'Background', 'timestamp': datetime.datetime(2020, 12, 1, 12, 0, tzinfo=tzutc()), 'count': 9810},\n {'clientType': 'Background', 'timestamp': datetime.datetime(2020, 12, 1, 13, 0, tzinfo=tzutc()), 'count': 9731},\n {'clientType': 'Background', 'timestamp': datetime.datetime(2020, 12, 1, 8, 0, tzinfo=tzutc()), 'count': 9823},\n {'clientType': 'Background', 'timestamp': datetime.datetime(2020, 12, 1, 9, 0, tzinfo=tzutc()), 'count': 9687},\n {'clientType': 'Background', 'timestamp': datetime.datetime(2020, 12, 1, 10, 0, tzinfo=tzutc()), 'count': 9725},\n {'clientType': 'Background', 'timestamp': datetime.datetime(2020, 12, 1, 14, 0, tzinfo=tzutc()), 'count': 9747},\n {'clientType': 'Background', 'timestamp': datetime.datetime(2020, 11, 30, 10, 0, tzinfo=tzutc()), 'count': 80},\n {'clientType': 'ChildSession', 'timestamp': datetime.datetime(2020, 11, 30, 12, 0, tzinfo=tzutc()), 'count': 2},\n {'clientType': 'WebClient', 'timestamp': datetime.datetime(2020, 11, 30, 10, 0, tzinfo=tzutc()), 'count': 1},\n {'clientType': 'ChildSession', 'timestamp': datetime.datetime(2020, 11, 30, 10, 0, tzinfo=tzutc()), 'count': 1},\n {'clientType': 'WebClient', 'timestamp': datetime.datetime(2020, 11, 30, 16, 0, tzinfo=tzutc()), 'count': 1},\n {'clientType': 'ChildSession', 'timestamp': datetime.datetime(2020, 11, 30, 16, 0, tzinfo=tzutc()), 'count': 3},\n {'clientType': 'WebServiceClient', 'timestamp': datetime.datetime(2020, 11, 30, 11, 0, tzinfo=tzutc()), 'count': 130},\n {'clientType': 'ChildSession', 'timestamp': datetime.datetime(2020, 11, 30, 11, 0, tzinfo=tzutc()), 'count': 9},\n {'clientType': 'ChildSession', 'timestamp': datetime.datetime(2020, 11, 30, 13, 0, tzinfo=tzutc()), 'count': 1},\n {'clientType': 'ChildSession', 'timestamp': datetime.datetime(2020, 11, 30, 17, 0, tzinfo=tzutc()), 'count': 38}]",
                        "text/html": ""
                    },
                    "metadata": {},
                    "execution_count": 17,
                    "output_type": "execute_result"
                }
            ],
            "execution_count": 17
        },
        {
            "cell_type": "code",
            "source": [
                "%%kql\r\n",
                "let _aadTenantId = aadTenantId;\r\n",
                "let _environmentName = environmentName;\r\n",
                "let _startDate = startDate;\r\n",
                "let _endDate = endDate;\r\n",
                "traces\r\n",
                "| where 1==1 \r\n",
                "    and timestamp >= todatetime(_startDate)\r\n",
                "    and timestamp <= todatetime(_endDate) + totimespan(24h) - totimespan(1ms)   \r\n",
                "    and customDimensions.aadTenantId == _aadTenantId\r\n",
                "    and (_environmentName == '' or customDimensions.environmentName == _environmentName )\r\n",
                "    and customDimensions.eventId in ('RT0001', 'RT0002', 'RT0004')\r\n",
                "| extend attemptType = case(\r\n",
                "    customDimensions.eventId == 'RT0001', 'Failure before open company' ,\r\n",
                "    customDimensions.eventId == 'RT0002', 'Failure in open company trigger' ,\r\n",
                "    customDimensions.eventId == 'RT0004', 'Successful login' , \r\n",
                "    'Unknown reason'\r\n",
                ")\r\n",
                "| summarize count=count() by attemptType, bin(timestamp, 1h)\r\n",
                "| render timechart title= 'Number of login attempts the last day (shown by success/failure)'"
            ],
            "metadata": {
                "azdata_cell_guid": "5a1bb5e1-4d74-4ff3-938c-e04c989977fd"
            },
            "outputs": [
                {
                    "data": {
                        "text/plain": "<IPython.core.display.HTML object>",
                        "text/html": "<html>\n        <head>\n            \n            \n        </head>\n        <body>\n            <div><p style='padding: 10px; color: #3a87ad; background-color: #d9edf7; border-color: #bce9f1'>&nbsp;*&nbsp;962fbf96-f15e-4d37-8f91-13cae96f4b3e@applicationinsights</p></div>\n        </body>\n        </html>"
                    },
                    "metadata": {},
                    "output_type": "display_data"
                },
                {
                    "data": {
                        "application/vnd.plotly.v1+json": {
                            "config": {
                                "plotlyServerURL": "https://plot.ly"
                            },
                            "data": [
                                {
                                    "line": {
                                        "color": "rgb(31, 118, 179)",
                                        "width": 1
                                    },
                                    "name": "Successful login:count",
                                    "opacity": 0.8,
                                    "type": "scatter",
                                    "x": [
                                        "2020-11-30T08:00:00+00:00",
                                        "2020-11-30T10:00:00+00:00",
                                        "2020-11-30T11:00:00+00:00",
                                        "2020-11-30T12:00:00+00:00",
                                        "2020-11-30T13:00:00+00:00",
                                        "2020-11-30T16:00:00+00:00",
                                        "2020-11-30T17:00:00+00:00",
                                        "2020-11-30T18:00:00+00:00",
                                        "2020-11-30T19:00:00+00:00",
                                        "2020-11-30T20:00:00+00:00",
                                        "2020-11-30T21:00:00+00:00",
                                        "2020-11-30T22:00:00+00:00",
                                        "2020-11-30T23:00:00+00:00",
                                        "2020-12-01T00:00:00+00:00",
                                        "2020-12-01T01:00:00+00:00",
                                        "2020-12-01T02:00:00+00:00",
                                        "2020-12-01T03:00:00+00:00",
                                        "2020-12-01T04:00:00+00:00",
                                        "2020-12-01T05:00:00+00:00",
                                        "2020-12-01T06:00:00+00:00",
                                        "2020-12-01T07:00:00+00:00",
                                        "2020-12-01T08:00:00+00:00",
                                        "2020-12-01T09:00:00+00:00",
                                        "2020-12-01T10:00:00+00:00",
                                        "2020-12-01T11:00:00+00:00",
                                        "2020-12-01T12:00:00+00:00",
                                        "2020-12-01T13:00:00+00:00",
                                        "2020-12-01T14:00:00+00:00",
                                        "2020-12-01T15:00:00+00:00",
                                        "2020-12-01T16:00:00+00:00",
                                        "2020-12-01T17:00:00+00:00",
                                        "2020-12-01T18:00:00+00:00",
                                        "2020-12-01T19:00:00+00:00",
                                        "2020-12-01T20:00:00+00:00",
                                        "2020-12-01T21:00:00+00:00",
                                        "2020-12-01T22:00:00+00:00",
                                        "2020-12-01T23:00:00+00:00"
                                    ],
                                    "y": [
                                        8,
                                        82,
                                        139,
                                        2,
                                        1,
                                        4,
                                        38,
                                        2994,
                                        10101,
                                        9806,
                                        9728,
                                        9686,
                                        9616,
                                        9473,
                                        9333,
                                        9582,
                                        9467,
                                        9607,
                                        9723,
                                        9690,
                                        9741,
                                        9823,
                                        9687,
                                        9725,
                                        9720,
                                        9810,
                                        9731,
                                        9747,
                                        9660,
                                        9393,
                                        9612,
                                        9557,
                                        9552,
                                        9310,
                                        9965,
                                        9583,
                                        4612
                                    ]
                                }
                            ],
                            "layout": {
                                "showlegend": true,
                                "template": {
                                    "data": {
                                        "bar": [
                                            {
                                                "error_x": {
                                                    "color": "#2a3f5f"
                                                },
                                                "error_y": {
                                                    "color": "#2a3f5f"
                                                },
                                                "marker": {
                                                    "line": {
                                                        "color": "#E5ECF6",
                                                        "width": 0.5
                                                    }
                                                },
                                                "type": "bar"
                                            }
                                        ],
                                        "barpolar": [
                                            {
                                                "marker": {
                                                    "line": {
                                                        "color": "#E5ECF6",
                                                        "width": 0.5
                                                    }
                                                },
                                                "type": "barpolar"
                                            }
                                        ],
                                        "carpet": [
                                            {
                                                "aaxis": {
                                                    "endlinecolor": "#2a3f5f",
                                                    "gridcolor": "white",
                                                    "linecolor": "white",
                                                    "minorgridcolor": "white",
                                                    "startlinecolor": "#2a3f5f"
                                                },
                                                "baxis": {
                                                    "endlinecolor": "#2a3f5f",
                                                    "gridcolor": "white",
                                                    "linecolor": "white",
                                                    "minorgridcolor": "white",
                                                    "startlinecolor": "#2a3f5f"
                                                },
                                                "type": "carpet"
                                            }
                                        ],
                                        "choropleth": [
                                            {
                                                "colorbar": {
                                                    "outlinewidth": 0,
                                                    "ticks": ""
                                                },
                                                "type": "choropleth"
                                            }
                                        ],
                                        "contour": [
                                            {
                                                "colorbar": {
                                                    "outlinewidth": 0,
                                                    "ticks": ""
                                                },
                                                "colorscale": [
                                                    [
                                                        0,
                                                        "#0d0887"
                                                    ],
                                                    [
                                                        0.1111111111111111,
                                                        "#46039f"
                                                    ],
                                                    [
                                                        0.2222222222222222,
                                                        "#7201a8"
                                                    ],
                                                    [
                                                        0.3333333333333333,
                                                        "#9c179e"
                                                    ],
                                                    [
                                                        0.4444444444444444,
                                                        "#bd3786"
                                                    ],
                                                    [
                                                        0.5555555555555556,
                                                        "#d8576b"
                                                    ],
                                                    [
                                                        0.6666666666666666,
                                                        "#ed7953"
                                                    ],
                                                    [
                                                        0.7777777777777778,
                                                        "#fb9f3a"
                                                    ],
                                                    [
                                                        0.8888888888888888,
                                                        "#fdca26"
                                                    ],
                                                    [
                                                        1,
                                                        "#f0f921"
                                                    ]
                                                ],
                                                "type": "contour"
                                            }
                                        ],
                                        "contourcarpet": [
                                            {
                                                "colorbar": {
                                                    "outlinewidth": 0,
                                                    "ticks": ""
                                                },
                                                "type": "contourcarpet"
                                            }
                                        ],
                                        "heatmap": [
                                            {
                                                "colorbar": {
                                                    "outlinewidth": 0,
                                                    "ticks": ""
                                                },
                                                "colorscale": [
                                                    [
                                                        0,
                                                        "#0d0887"
                                                    ],
                                                    [
                                                        0.1111111111111111,
                                                        "#46039f"
                                                    ],
                                                    [
                                                        0.2222222222222222,
                                                        "#7201a8"
                                                    ],
                                                    [
                                                        0.3333333333333333,
                                                        "#9c179e"
                                                    ],
                                                    [
                                                        0.4444444444444444,
                                                        "#bd3786"
                                                    ],
                                                    [
                                                        0.5555555555555556,
                                                        "#d8576b"
                                                    ],
                                                    [
                                                        0.6666666666666666,
                                                        "#ed7953"
                                                    ],
                                                    [
                                                        0.7777777777777778,
                                                        "#fb9f3a"
                                                    ],
                                                    [
                                                        0.8888888888888888,
                                                        "#fdca26"
                                                    ],
                                                    [
                                                        1,
                                                        "#f0f921"
                                                    ]
                                                ],
                                                "type": "heatmap"
                                            }
                                        ],
                                        "heatmapgl": [
                                            {
                                                "colorbar": {
                                                    "outlinewidth": 0,
                                                    "ticks": ""
                                                },
                                                "colorscale": [
                                                    [
                                                        0,
                                                        "#0d0887"
                                                    ],
                                                    [
                                                        0.1111111111111111,
                                                        "#46039f"
                                                    ],
                                                    [
                                                        0.2222222222222222,
                                                        "#7201a8"
                                                    ],
                                                    [
                                                        0.3333333333333333,
                                                        "#9c179e"
                                                    ],
                                                    [
                                                        0.4444444444444444,
                                                        "#bd3786"
                                                    ],
                                                    [
                                                        0.5555555555555556,
                                                        "#d8576b"
                                                    ],
                                                    [
                                                        0.6666666666666666,
                                                        "#ed7953"
                                                    ],
                                                    [
                                                        0.7777777777777778,
                                                        "#fb9f3a"
                                                    ],
                                                    [
                                                        0.8888888888888888,
                                                        "#fdca26"
                                                    ],
                                                    [
                                                        1,
                                                        "#f0f921"
                                                    ]
                                                ],
                                                "type": "heatmapgl"
                                            }
                                        ],
                                        "histogram": [
                                            {
                                                "marker": {
                                                    "colorbar": {
                                                        "outlinewidth": 0,
                                                        "ticks": ""
                                                    }
                                                },
                                                "type": "histogram"
                                            }
                                        ],
                                        "histogram2d": [
                                            {
                                                "colorbar": {
                                                    "outlinewidth": 0,
                                                    "ticks": ""
                                                },
                                                "colorscale": [
                                                    [
                                                        0,
                                                        "#0d0887"
                                                    ],
                                                    [
                                                        0.1111111111111111,
                                                        "#46039f"
                                                    ],
                                                    [
                                                        0.2222222222222222,
                                                        "#7201a8"
                                                    ],
                                                    [
                                                        0.3333333333333333,
                                                        "#9c179e"
                                                    ],
                                                    [
                                                        0.4444444444444444,
                                                        "#bd3786"
                                                    ],
                                                    [
                                                        0.5555555555555556,
                                                        "#d8576b"
                                                    ],
                                                    [
                                                        0.6666666666666666,
                                                        "#ed7953"
                                                    ],
                                                    [
                                                        0.7777777777777778,
                                                        "#fb9f3a"
                                                    ],
                                                    [
                                                        0.8888888888888888,
                                                        "#fdca26"
                                                    ],
                                                    [
                                                        1,
                                                        "#f0f921"
                                                    ]
                                                ],
                                                "type": "histogram2d"
                                            }
                                        ],
                                        "histogram2dcontour": [
                                            {
                                                "colorbar": {
                                                    "outlinewidth": 0,
                                                    "ticks": ""
                                                },
                                                "colorscale": [
                                                    [
                                                        0,
                                                        "#0d0887"
                                                    ],
                                                    [
                                                        0.1111111111111111,
                                                        "#46039f"
                                                    ],
                                                    [
                                                        0.2222222222222222,
                                                        "#7201a8"
                                                    ],
                                                    [
                                                        0.3333333333333333,
                                                        "#9c179e"
                                                    ],
                                                    [
                                                        0.4444444444444444,
                                                        "#bd3786"
                                                    ],
                                                    [
                                                        0.5555555555555556,
                                                        "#d8576b"
                                                    ],
                                                    [
                                                        0.6666666666666666,
                                                        "#ed7953"
                                                    ],
                                                    [
                                                        0.7777777777777778,
                                                        "#fb9f3a"
                                                    ],
                                                    [
                                                        0.8888888888888888,
                                                        "#fdca26"
                                                    ],
                                                    [
                                                        1,
                                                        "#f0f921"
                                                    ]
                                                ],
                                                "type": "histogram2dcontour"
                                            }
                                        ],
                                        "mesh3d": [
                                            {
                                                "colorbar": {
                                                    "outlinewidth": 0,
                                                    "ticks": ""
                                                },
                                                "type": "mesh3d"
                                            }
                                        ],
                                        "parcoords": [
                                            {
                                                "line": {
                                                    "colorbar": {
                                                        "outlinewidth": 0,
                                                        "ticks": ""
                                                    }
                                                },
                                                "type": "parcoords"
                                            }
                                        ],
                                        "pie": [
                                            {
                                                "automargin": true,
                                                "type": "pie"
                                            }
                                        ],
                                        "scatter": [
                                            {
                                                "marker": {
                                                    "colorbar": {
                                                        "outlinewidth": 0,
                                                        "ticks": ""
                                                    }
                                                },
                                                "type": "scatter"
                                            }
                                        ],
                                        "scatter3d": [
                                            {
                                                "line": {
                                                    "colorbar": {
                                                        "outlinewidth": 0,
                                                        "ticks": ""
                                                    }
                                                },
                                                "marker": {
                                                    "colorbar": {
                                                        "outlinewidth": 0,
                                                        "ticks": ""
                                                    }
                                                },
                                                "type": "scatter3d"
                                            }
                                        ],
                                        "scattercarpet": [
                                            {
                                                "marker": {
                                                    "colorbar": {
                                                        "outlinewidth": 0,
                                                        "ticks": ""
                                                    }
                                                },
                                                "type": "scattercarpet"
                                            }
                                        ],
                                        "scattergeo": [
                                            {
                                                "marker": {
                                                    "colorbar": {
                                                        "outlinewidth": 0,
                                                        "ticks": ""
                                                    }
                                                },
                                                "type": "scattergeo"
                                            }
                                        ],
                                        "scattergl": [
                                            {
                                                "marker": {
                                                    "colorbar": {
                                                        "outlinewidth": 0,
                                                        "ticks": ""
                                                    }
                                                },
                                                "type": "scattergl"
                                            }
                                        ],
                                        "scattermapbox": [
                                            {
                                                "marker": {
                                                    "colorbar": {
                                                        "outlinewidth": 0,
                                                        "ticks": ""
                                                    }
                                                },
                                                "type": "scattermapbox"
                                            }
                                        ],
                                        "scatterpolar": [
                                            {
                                                "marker": {
                                                    "colorbar": {
                                                        "outlinewidth": 0,
                                                        "ticks": ""
                                                    }
                                                },
                                                "type": "scatterpolar"
                                            }
                                        ],
                                        "scatterpolargl": [
                                            {
                                                "marker": {
                                                    "colorbar": {
                                                        "outlinewidth": 0,
                                                        "ticks": ""
                                                    }
                                                },
                                                "type": "scatterpolargl"
                                            }
                                        ],
                                        "scatterternary": [
                                            {
                                                "marker": {
                                                    "colorbar": {
                                                        "outlinewidth": 0,
                                                        "ticks": ""
                                                    }
                                                },
                                                "type": "scatterternary"
                                            }
                                        ],
                                        "surface": [
                                            {
                                                "colorbar": {
                                                    "outlinewidth": 0,
                                                    "ticks": ""
                                                },
                                                "colorscale": [
                                                    [
                                                        0,
                                                        "#0d0887"
                                                    ],
                                                    [
                                                        0.1111111111111111,
                                                        "#46039f"
                                                    ],
                                                    [
                                                        0.2222222222222222,
                                                        "#7201a8"
                                                    ],
                                                    [
                                                        0.3333333333333333,
                                                        "#9c179e"
                                                    ],
                                                    [
                                                        0.4444444444444444,
                                                        "#bd3786"
                                                    ],
                                                    [
                                                        0.5555555555555556,
                                                        "#d8576b"
                                                    ],
                                                    [
                                                        0.6666666666666666,
                                                        "#ed7953"
                                                    ],
                                                    [
                                                        0.7777777777777778,
                                                        "#fb9f3a"
                                                    ],
                                                    [
                                                        0.8888888888888888,
                                                        "#fdca26"
                                                    ],
                                                    [
                                                        1,
                                                        "#f0f921"
                                                    ]
                                                ],
                                                "type": "surface"
                                            }
                                        ],
                                        "table": [
                                            {
                                                "cells": {
                                                    "fill": {
                                                        "color": "#EBF0F8"
                                                    },
                                                    "line": {
                                                        "color": "white"
                                                    }
                                                },
                                                "header": {
                                                    "fill": {
                                                        "color": "#C8D4E3"
                                                    },
                                                    "line": {
                                                        "color": "white"
                                                    }
                                                },
                                                "type": "table"
                                            }
                                        ]
                                    },
                                    "layout": {
                                        "annotationdefaults": {
                                            "arrowcolor": "#2a3f5f",
                                            "arrowhead": 0,
                                            "arrowwidth": 1
                                        },
                                        "coloraxis": {
                                            "colorbar": {
                                                "outlinewidth": 0,
                                                "ticks": ""
                                            }
                                        },
                                        "colorscale": {
                                            "diverging": [
                                                [
                                                    0,
                                                    "#8e0152"
                                                ],
                                                [
                                                    0.1,
                                                    "#c51b7d"
                                                ],
                                                [
                                                    0.2,
                                                    "#de77ae"
                                                ],
                                                [
                                                    0.3,
                                                    "#f1b6da"
                                                ],
                                                [
                                                    0.4,
                                                    "#fde0ef"
                                                ],
                                                [
                                                    0.5,
                                                    "#f7f7f7"
                                                ],
                                                [
                                                    0.6,
                                                    "#e6f5d0"
                                                ],
                                                [
                                                    0.7,
                                                    "#b8e186"
                                                ],
                                                [
                                                    0.8,
                                                    "#7fbc41"
                                                ],
                                                [
                                                    0.9,
                                                    "#4d9221"
                                                ],
                                                [
                                                    1,
                                                    "#276419"
                                                ]
                                            ],
                                            "sequential": [
                                                [
                                                    0,
                                                    "#0d0887"
                                                ],
                                                [
                                                    0.1111111111111111,
                                                    "#46039f"
                                                ],
                                                [
                                                    0.2222222222222222,
                                                    "#7201a8"
                                                ],
                                                [
                                                    0.3333333333333333,
                                                    "#9c179e"
                                                ],
                                                [
                                                    0.4444444444444444,
                                                    "#bd3786"
                                                ],
                                                [
                                                    0.5555555555555556,
                                                    "#d8576b"
                                                ],
                                                [
                                                    0.6666666666666666,
                                                    "#ed7953"
                                                ],
                                                [
                                                    0.7777777777777778,
                                                    "#fb9f3a"
                                                ],
                                                [
                                                    0.8888888888888888,
                                                    "#fdca26"
                                                ],
                                                [
                                                    1,
                                                    "#f0f921"
                                                ]
                                            ],
                                            "sequentialminus": [
                                                [
                                                    0,
                                                    "#0d0887"
                                                ],
                                                [
                                                    0.1111111111111111,
                                                    "#46039f"
                                                ],
                                                [
                                                    0.2222222222222222,
                                                    "#7201a8"
                                                ],
                                                [
                                                    0.3333333333333333,
                                                    "#9c179e"
                                                ],
                                                [
                                                    0.4444444444444444,
                                                    "#bd3786"
                                                ],
                                                [
                                                    0.5555555555555556,
                                                    "#d8576b"
                                                ],
                                                [
                                                    0.6666666666666666,
                                                    "#ed7953"
                                                ],
                                                [
                                                    0.7777777777777778,
                                                    "#fb9f3a"
                                                ],
                                                [
                                                    0.8888888888888888,
                                                    "#fdca26"
                                                ],
                                                [
                                                    1,
                                                    "#f0f921"
                                                ]
                                            ]
                                        },
                                        "colorway": [
                                            "#636efa",
                                            "#EF553B",
                                            "#00cc96",
                                            "#ab63fa",
                                            "#FFA15A",
                                            "#19d3f3",
                                            "#FF6692",
                                            "#B6E880",
                                            "#FF97FF",
                                            "#FECB52"
                                        ],
                                        "font": {
                                            "color": "#2a3f5f"
                                        },
                                        "geo": {
                                            "bgcolor": "white",
                                            "lakecolor": "white",
                                            "landcolor": "#E5ECF6",
                                            "showlakes": true,
                                            "showland": true,
                                            "subunitcolor": "white"
                                        },
                                        "hoverlabel": {
                                            "align": "left"
                                        },
                                        "hovermode": "closest",
                                        "mapbox": {
                                            "style": "light"
                                        },
                                        "paper_bgcolor": "white",
                                        "plot_bgcolor": "#E5ECF6",
                                        "polar": {
                                            "angularaxis": {
                                                "gridcolor": "white",
                                                "linecolor": "white",
                                                "ticks": ""
                                            },
                                            "bgcolor": "#E5ECF6",
                                            "radialaxis": {
                                                "gridcolor": "white",
                                                "linecolor": "white",
                                                "ticks": ""
                                            }
                                        },
                                        "scene": {
                                            "xaxis": {
                                                "backgroundcolor": "#E5ECF6",
                                                "gridcolor": "white",
                                                "gridwidth": 2,
                                                "linecolor": "white",
                                                "showbackground": true,
                                                "ticks": "",
                                                "zerolinecolor": "white"
                                            },
                                            "yaxis": {
                                                "backgroundcolor": "#E5ECF6",
                                                "gridcolor": "white",
                                                "gridwidth": 2,
                                                "linecolor": "white",
                                                "showbackground": true,
                                                "ticks": "",
                                                "zerolinecolor": "white"
                                            },
                                            "zaxis": {
                                                "backgroundcolor": "#E5ECF6",
                                                "gridcolor": "white",
                                                "gridwidth": 2,
                                                "linecolor": "white",
                                                "showbackground": true,
                                                "ticks": "",
                                                "zerolinecolor": "white"
                                            }
                                        },
                                        "shapedefaults": {
                                            "line": {
                                                "color": "#2a3f5f"
                                            }
                                        },
                                        "ternary": {
                                            "aaxis": {
                                                "gridcolor": "white",
                                                "linecolor": "white",
                                                "ticks": ""
                                            },
                                            "baxis": {
                                                "gridcolor": "white",
                                                "linecolor": "white",
                                                "ticks": ""
                                            },
                                            "bgcolor": "#E5ECF6",
                                            "caxis": {
                                                "gridcolor": "white",
                                                "linecolor": "white",
                                                "ticks": ""
                                            }
                                        },
                                        "title": {
                                            "x": 0.05
                                        },
                                        "xaxis": {
                                            "automargin": true,
                                            "gridcolor": "white",
                                            "linecolor": "white",
                                            "ticks": "",
                                            "title": {
                                                "standoff": 15
                                            },
                                            "zerolinecolor": "white",
                                            "zerolinewidth": 2
                                        },
                                        "yaxis": {
                                            "automargin": true,
                                            "gridcolor": "white",
                                            "linecolor": "white",
                                            "ticks": "",
                                            "title": {
                                                "standoff": 15
                                            },
                                            "zerolinecolor": "white",
                                            "zerolinewidth": 2
                                        }
                                    }
                                },
                                "title": {
                                    "text": "Number of login attempts the last day (shown by success/failure)"
                                },
                                "xaxis": {
                                    "autorange": true,
                                    "title": {
                                        "text": "timestamp"
                                    },
                                    "type": "date"
                                },
                                "yaxis": {
                                    "ticksuffix": "",
                                    "title": {
                                        "text": "count"
                                    },
                                    "type": "linear"
                                }
                            }
                        }
                    },
                    "metadata": {},
                    "output_type": "display_data"
                },
                {
                    "data": {
                        "text/plain": "<IPython.core.display.HTML object>",
                        "text/html": "<html>\n        <head>\n            \n            \n        </head>\n        <body>\n            <div><p style='padding: 10px; color: #3a87ad; background-color: #d9edf7; border-color: #bce9f1'>Done&nbsp;(00:00.620):&nbsp;37&nbsp;records</p></div>\n        </body>\n        </html>"
                    },
                    "metadata": {},
                    "output_type": "display_data"
                },
                {
                    "data": {
                        "text/plain": "[{'attemptType': 'Successful login', 'timestamp': datetime.datetime(2020, 11, 30, 8, 0, tzinfo=tzutc()), 'count': 8},\n {'attemptType': 'Successful login', 'timestamp': datetime.datetime(2020, 12, 1, 2, 0, tzinfo=tzutc()), 'count': 9582},\n {'attemptType': 'Successful login', 'timestamp': datetime.datetime(2020, 11, 30, 18, 0, tzinfo=tzutc()), 'count': 2994},\n {'attemptType': 'Successful login', 'timestamp': datetime.datetime(2020, 11, 30, 19, 0, tzinfo=tzutc()), 'count': 10101},\n {'attemptType': 'Successful login', 'timestamp': datetime.datetime(2020, 11, 30, 20, 0, tzinfo=tzutc()), 'count': 9806},\n {'attemptType': 'Successful login', 'timestamp': datetime.datetime(2020, 11, 30, 21, 0, tzinfo=tzutc()), 'count': 9728},\n {'attemptType': 'Successful login', 'timestamp': datetime.datetime(2020, 11, 30, 22, 0, tzinfo=tzutc()), 'count': 9686},\n {'attemptType': 'Successful login', 'timestamp': datetime.datetime(2020, 11, 30, 23, 0, tzinfo=tzutc()), 'count': 9616},\n {'attemptType': 'Successful login', 'timestamp': datetime.datetime(2020, 12, 1, 0, 0, tzinfo=tzutc()), 'count': 9473},\n {'attemptType': 'Successful login', 'timestamp': datetime.datetime(2020, 12, 1, 1, 0, tzinfo=tzutc()), 'count': 9333},\n {'attemptType': 'Successful login', 'timestamp': datetime.datetime(2020, 12, 1, 3, 0, tzinfo=tzutc()), 'count': 9467},\n {'attemptType': 'Successful login', 'timestamp': datetime.datetime(2020, 12, 1, 4, 0, tzinfo=tzutc()), 'count': 9607},\n {'attemptType': 'Successful login', 'timestamp': datetime.datetime(2020, 12, 1, 5, 0, tzinfo=tzutc()), 'count': 9723},\n {'attemptType': 'Successful login', 'timestamp': datetime.datetime(2020, 12, 1, 6, 0, tzinfo=tzutc()), 'count': 9690},\n {'attemptType': 'Successful login', 'timestamp': datetime.datetime(2020, 12, 1, 7, 0, tzinfo=tzutc()), 'count': 9741},\n {'attemptType': 'Successful login', 'timestamp': datetime.datetime(2020, 12, 1, 15, 0, tzinfo=tzutc()), 'count': 9660},\n {'attemptType': 'Successful login', 'timestamp': datetime.datetime(2020, 12, 1, 16, 0, tzinfo=tzutc()), 'count': 9393},\n {'attemptType': 'Successful login', 'timestamp': datetime.datetime(2020, 12, 1, 17, 0, tzinfo=tzutc()), 'count': 9612},\n {'attemptType': 'Successful login', 'timestamp': datetime.datetime(2020, 12, 1, 18, 0, tzinfo=tzutc()), 'count': 9557},\n {'attemptType': 'Successful login', 'timestamp': datetime.datetime(2020, 12, 1, 19, 0, tzinfo=tzutc()), 'count': 9552},\n {'attemptType': 'Successful login', 'timestamp': datetime.datetime(2020, 12, 1, 20, 0, tzinfo=tzutc()), 'count': 9310},\n {'attemptType': 'Successful login', 'timestamp': datetime.datetime(2020, 12, 1, 21, 0, tzinfo=tzutc()), 'count': 9965},\n {'attemptType': 'Successful login', 'timestamp': datetime.datetime(2020, 12, 1, 22, 0, tzinfo=tzutc()), 'count': 9583},\n {'attemptType': 'Successful login', 'timestamp': datetime.datetime(2020, 12, 1, 23, 0, tzinfo=tzutc()), 'count': 4612},\n {'attemptType': 'Successful login', 'timestamp': datetime.datetime(2020, 12, 1, 11, 0, tzinfo=tzutc()), 'count': 9720},\n {'attemptType': 'Successful login', 'timestamp': datetime.datetime(2020, 12, 1, 12, 0, tzinfo=tzutc()), 'count': 9810},\n {'attemptType': 'Successful login', 'timestamp': datetime.datetime(2020, 12, 1, 13, 0, tzinfo=tzutc()), 'count': 9731},\n {'attemptType': 'Successful login', 'timestamp': datetime.datetime(2020, 12, 1, 8, 0, tzinfo=tzutc()), 'count': 9823},\n {'attemptType': 'Successful login', 'timestamp': datetime.datetime(2020, 12, 1, 9, 0, tzinfo=tzutc()), 'count': 9687},\n {'attemptType': 'Successful login', 'timestamp': datetime.datetime(2020, 11, 30, 10, 0, tzinfo=tzutc()), 'count': 82},\n {'attemptType': 'Successful login', 'timestamp': datetime.datetime(2020, 11, 30, 16, 0, tzinfo=tzutc()), 'count': 4},\n {'attemptType': 'Successful login', 'timestamp': datetime.datetime(2020, 12, 1, 14, 0, tzinfo=tzutc()), 'count': 9747},\n {'attemptType': 'Successful login', 'timestamp': datetime.datetime(2020, 12, 1, 10, 0, tzinfo=tzutc()), 'count': 9725},\n {'attemptType': 'Successful login', 'timestamp': datetime.datetime(2020, 11, 30, 12, 0, tzinfo=tzutc()), 'count': 2},\n {'attemptType': 'Successful login', 'timestamp': datetime.datetime(2020, 11, 30, 11, 0, tzinfo=tzutc()), 'count': 139},\n {'attemptType': 'Successful login', 'timestamp': datetime.datetime(2020, 11, 30, 13, 0, tzinfo=tzutc()), 'count': 1},\n {'attemptType': 'Successful login', 'timestamp': datetime.datetime(2020, 11, 30, 17, 0, tzinfo=tzutc()), 'count': 38}]",
                        "text/html": ""
                    },
                    "metadata": {},
                    "execution_count": 18,
                    "output_type": "execute_result"
                }
            ],
            "execution_count": 18
        }
    ]
}