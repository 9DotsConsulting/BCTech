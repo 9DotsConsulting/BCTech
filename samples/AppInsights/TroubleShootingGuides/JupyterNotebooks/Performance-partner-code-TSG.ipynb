{
    "metadata": {
        "kernelspec": {
            "name": "python3",
            "display_name": "Python 3"
        },
        "language_info": {
            "name": "python",
            "version": "3.6.6",
            "mimetype": "text/x-python",
            "codemirror_mode": {
                "name": "ipython",
                "version": 3
            },
            "pygments_lexer": "ipython3",
            "nbconvert_exporter": "python",
            "file_extension": ".py"
        }
    },
    "nbformat_minor": 2,
    "nbformat": 4,
    "cells": [
        {
            "cell_type": "markdown",
            "source": [
                "# Dynamics 365 Business Central Trouble Shooting Guide (TSG) - Performance analysis (partner code issues)\n",
                "\n",
                "This notebook contains Kusto queries that can help getting to the root cause of a performance issue for an environment.\n",
                "\n",
                "The notebook highlights issues for object ids in the ranges defined for partner code \\[50000..99999\\] and \\[1 mio..75 mio\\] and can be used to find performance problems in code in per-tenant extensions or app source extensions.\n",
                "\n",
                "Each section in the notebook contains links to the performance tuning guide on docs [aka.ms/bcperformance](aka.ms\\bcperformance), links to the documentation of relevant telemetry in [aka.ms/bctelemetry](aka.ms\\bctelemetry), as well as Kusto queries that help dive into a specific area (sessions, web service requests, database calls, reports, and page load times).\n",
                "\n",
                "NB! Some of the signal used in this notebook is only available in newer versions of Business Central, so check the version of your environment if some sections do not return any data. The signal documentation states in which version a given signal was introduced."
            ],
            "metadata": {
                "azdata_cell_guid": "1f608a1d-2436-4b48-80d4-5c4d2f8ca7d0"
            }
        },
        {
            "cell_type": "markdown",
            "source": [
                "## 1. Connect to Application Insights\r\n",
                "First you need to set the notebook Kernel to Python3, load the KQLmagic module (did you install it?) and connect to your Application Insights resource (get appid and appkey from the API access page in the Application Insights portal)"
            ],
            "metadata": {
                "azdata_cell_guid": "f103fae9-cf6d-40f7-9062-11ce50691046"
            }
        },
        {
            "cell_type": "code",
            "source": [
                "# load the KQLmagic module\r\n",
                "%reload_ext Kqlmagic"
            ],
            "metadata": {
                "azdata_cell_guid": "a253fa8e-6ac2-4722-a00a-1c52aedab4ed",
                "tags": []
            },
            "outputs": [],
            "execution_count": 23
        },
        {
            "cell_type": "code",
            "source": [
                "# Connect to the Application Insights API\r\n",
                "%kql appinsights://appid='<add Application ID id from the Application Insights portal (under API access)>';appkey='<add an API key (generate one from the Application Insights portal (under API access))>'\r\n",
                ""
            ],
            "metadata": {
                "azdata_cell_guid": "1de8537e-0291-45b2-8741-047441208e42"
            },
            "outputs": [
                {
                    "output_type": "display_data",
                    "data": {
                        "text/plain": "<IPython.core.display.HTML object>",
                        "text/html": "<html>\n        <head>\n            \n            \n        </head>\n        <body>\n            <div><p style='padding: 10px; color: #b94a48; background-color: #f2dede; border-color: #eed3d7'>KqlError:&nbsp;{&quot;error&quot;:{&quot;message&quot;:&quot;The&nbsp;requested&nbsp;path&nbsp;does&nbsp;not&nbsp;exist&quot;,&quot;code&quot;:&quot;PathNotFoundError&quot;,&quot;correlationId&quot;:&quot;00860283-a079-4aff-987c-3bbdd1f91379&quot;}}</p></div>\n        </body>\n        </html>"
                    },
                    "metadata": {}
                }
            ],
            "execution_count": 24
        },
        {
            "cell_type": "markdown",
            "source": [
                "## 2. Define filters\r\n",
                "This workbook is designed for troubleshooting a single environment. Please provide values for aadTenantId and environmentName: "
            ],
            "metadata": {
                "azdata_cell_guid": "9ef1220c-d9cc-4552-9297-1428efcafb32"
            }
        },
        {
            "cell_type": "code",
            "source": [
                "#aadTenantId = \"<aadTenantId>\"\r\n",
                "#environmentName = \"<environmentName>\"\r\n",
                "\r\n",
                "# date filters for the analysis\r\n",
                "# use YYYY-MM-DD format for the dates (ISO 8601)\r\n",
                "startDate = \"2020-11-20\"\r\n",
                "endDate = \"2020-11-30\""
            ],
            "metadata": {
                "azdata_cell_guid": "0a0785f7-a85e-4ccf-9020-732e1d4c058a",
                "tags": []
            },
            "outputs": [],
            "execution_count": 25
        },
        {
            "cell_type": "markdown",
            "source": [
                "# Analyze performance\r\n",
                "Now you can run Kusto queries to look for possible root causes for performance issues.\r\n",
                "\r\n",
                "Either click **Run All** above to run all sections, or scroll down to the type of analysis you want to do and manually run queries"
            ],
            "metadata": {
                "azdata_cell_guid": "5f9b698d-8a7e-4757-b27d-02f219d6c589"
            }
        },
        {
            "cell_type": "markdown",
            "source": [
                "## Web service requests\r\n",
                "\r\n",
                "Performance tuning guide: https://docs.microsoft.com/en-us/dynamics365/business-central/dev-itpro/performance/performance-developer#writing-efficient-web-services\r\n",
                "\r\n",
                "Web service telemetry docs: https://docs.microsoft.com/en-us/dynamics365/business-central/dev-itpro/administration/telemetry-webservices-trace\r\n",
                "\r\n",
                "KQL samples: https://github.com/microsoft/BCTech/blob/master/samples/AppInsights/KQL/RawData/WebServiceCalls.kql"
            ],
            "metadata": {
                "azdata_cell_guid": "2f9c2d0d-df3c-482b-af58-48416a517117"
            }
        },
        {
            "cell_type": "code",
            "source": [
                "%%kql\r\n",
                "let _aadTenantId = aadTenantId;\r\n",
                "let _environmentName = environmentName;\r\n",
                "let _startDate = startDate;\r\n",
                "let _endDate = endDate;\r\n",
                "traces\r\n",
                "| where 1==1 \r\n",
                "    and timestamp >= todatetime(_startDate)\r\n",
                "    and timestamp <= todatetime(_endDate) + totimespan(24h) - totimespan(1ms)   \r\n",
                "    and customDimensions.aadTenantId == _aadTenantId\r\n",
                "    and customDimensions.environmentName == _environmentName\r\n",
                "    and customDimensions.eventId == 'RT0006'\r\n",
                "| extend alObjectId = toint(customDimensions.alObjectId)\r\n",
                "| where alObjectId between (50000 .. 99999) or alObjectId between (1000000 .. 74999999)\r\n",
                "| extend category = tostring( customDimensions.category )\r\n",
                "| extend codeOwnership = case(\r\n",
                "      alObjectId between (50000 .. 99999), 'ENVIRONMENT'\r\n",
                "    , alObjectId between (1000000 .. 69999999), 'ISV_ONPREM'\r\n",
                "    , alObjectId between (70000000 .. 74999999), 'ISV_ONLINE'\r\n",
                "    , 'MICROSOFT'\r\n",
                ")\r\n",
                "| summarize request_count=count() by category, bin(timestamp, 1d)\r\n",
                "| render timechart title= 'Number of web service requests by category endpoints (in partner code)'"
            ],
            "metadata": {
                "azdata_cell_guid": "a9e923e9-1d05-4acf-a230-4c5142bc3582",
                "tags": []
            },
            "outputs": [
                {
                    "output_type": "display_data",
                    "data": {
                        "text/plain": "<IPython.core.display.HTML object>",
                        "text/html": "<html>\n        <head>\n            \n            \n        </head>\n        <body>\n            <div><p style='padding: 10px; color: #3a87ad; background-color: #d9edf7; border-color: #bce9f1'>&nbsp;&nbsp;&nbsp;962fbf96-f15e-4d37-8f91-13cae96f4b3e@applicationinsights<br>&nbsp;*&nbsp;add_Application_ID_id_from_the_Application_Insights_portal_under_API_access@applicationinsights</p></div>\n        </body>\n        </html>"
                    },
                    "metadata": {}
                },
                {
                    "output_type": "display_data",
                    "data": {
                        "text/plain": "<IPython.core.display.HTML object>",
                        "text/html": "<html>\n        <head>\n            \n            \n        </head>\n        <body>\n            <div><p style='padding: 10px; color: #b94a48; background-color: #f2dede; border-color: #eed3d7'>KqlError:&nbsp;{&quot;error&quot;:{&quot;message&quot;:&quot;The&nbsp;requested&nbsp;path&nbsp;does&nbsp;not&nbsp;exist&quot;,&quot;code&quot;:&quot;PathNotFoundError&quot;,&quot;correlationId&quot;:&quot;3c9b5e60-2728-4ba7-bc3a-700a31894379&quot;}}</p></div>\n        </body>\n        </html>"
                    },
                    "metadata": {}
                }
            ],
            "execution_count": 26
        },
        {
            "cell_type": "code",
            "source": [
                "%%kql\r\n",
                "let _aadTenantId = aadTenantId;\r\n",
                "let _environmentName = environmentName;\r\n",
                "let _startDate = startDate;\r\n",
                "let _endDate = endDate;\r\n",
                "traces\r\n",
                "| where 1==1 \r\n",
                "    and timestamp >= todatetime(_startDate)\r\n",
                "    and timestamp <= todatetime(_endDate) + totimespan(24h) - totimespan(1ms)   \r\n",
                "    and customDimensions.aadTenantId == _aadTenantId\r\n",
                "    and customDimensions.environmentName == _environmentName\r\n",
                "    and customDimensions.eventId == 'RT0008'\r\n",
                "| extend alObjectId = toint(customDimensions.alObjectId)\r\n",
                "| where alObjectId between (50000 .. 99999) or alObjectId between (1000000 .. 74999999)\r\n",
                "| extend category = tostring( customDimensions.category )\r\n",
                "       , executionTimeInMS = toreal(totimespan(customDimensions.serverExecutionTime))/10000 //the datatype for executionTime is timespan \r\n",
                "| extend codeOwnership = case(\r\n",
                "      alObjectId between (50000 .. 99999), 'ENVIRONMENT'\r\n",
                "    , alObjectId between (1000000 .. 69999999), 'ISV_ONPREM'\r\n",
                "    , alObjectId between (70000000 .. 74999999), 'ISV_ONLINE'\r\n",
                "    , 'MICROSOFT'\r\n",
                ")\r\n",
                "| where executionTimeInMS <= 10000 // only include ws calls with execution time <= 10 sec\r\n",
                "| summarize count() by executionTime_ms = bin(executionTimeInMS, 100), category\r\n",
                "| extend log_count = log10(count_)\r\n",
                "| order by category, executionTime_ms asc\r\n",
                "| render columnchart with  (ycolumns = log_count, ytitle='Log10(count)', series = category, title= 'Execution time (in ms) of normal web service requests by category (in partner code)' ) "
            ],
            "metadata": {
                "azdata_cell_guid": "e4e56e1a-ab5d-427a-bc49-747e6ae34a75"
            },
            "outputs": [
                {
                    "output_type": "display_data",
                    "data": {
                        "text/plain": "<IPython.core.display.HTML object>",
                        "text/html": "<html>\n        <head>\n            \n            \n        </head>\n        <body>\n            <div><p style='padding: 10px; color: #3a87ad; background-color: #d9edf7; border-color: #bce9f1'>&nbsp;&nbsp;&nbsp;962fbf96-f15e-4d37-8f91-13cae96f4b3e@applicationinsights<br>&nbsp;*&nbsp;add_Application_ID_id_from_the_Application_Insights_portal_under_API_access@applicationinsights</p></div>\n        </body>\n        </html>"
                    },
                    "metadata": {}
                },
                {
                    "output_type": "display_data",
                    "data": {
                        "text/plain": "<IPython.core.display.HTML object>",
                        "text/html": "<html>\n        <head>\n            \n            \n        </head>\n        <body>\n            <div><p style='padding: 10px; color: #b94a48; background-color: #f2dede; border-color: #eed3d7'>KqlError:&nbsp;{&quot;error&quot;:{&quot;message&quot;:&quot;The&nbsp;requested&nbsp;path&nbsp;does&nbsp;not&nbsp;exist&quot;,&quot;code&quot;:&quot;PathNotFoundError&quot;,&quot;correlationId&quot;:&quot;1defc93b-b454-4ecd-8d7e-c717c7323792&quot;}}</p></div>\n        </body>\n        </html>"
                    },
                    "metadata": {}
                }
            ],
            "execution_count": 27
        },
        {
            "cell_type": "code",
            "source": [
                "%%kql\r\n",
                "let _aadTenantId = aadTenantId;\r\n",
                "let _environmentName = environmentName;\r\n",
                "let _startDate = startDate;\r\n",
                "let _endDate = endDate;\r\n",
                "traces\r\n",
                "| where 1==1 \r\n",
                "    and timestamp >= todatetime(_startDate)\r\n",
                "    and timestamp <= todatetime(_endDate) + totimespan(24h) - totimespan(1ms)   \r\n",
                "    and customDimensions.aadTenantId == _aadTenantId\r\n",
                "    and customDimensions.environmentName == _environmentName\r\n",
                "    and customDimensions.eventId == 'RT0008'\r\n",
                "| extend alObjectId = toint(customDimensions.alObjectId)\r\n",
                "| where alObjectId between (50000 .. 99999) or alObjectId between (1000000 .. 74999999)\r\n",
                "| extend category = tostring( customDimensions.category )\r\n",
                "       , executionTimeInSec = toreal(totimespan(customDimensions.serverExecutionTime))/10000 /1000 //the datatype for executionTime is timespan \r\n",
                "| extend codeOwnership = case(\r\n",
                "      alObjectId between (50000 .. 99999), 'ENVIRONMENT'\r\n",
                "    , alObjectId between (1000000 .. 69999999), 'ISV_ONPREM'\r\n",
                "    , alObjectId between (70000000 .. 74999999), 'ISV_ONLINE'\r\n",
                "    , 'MICROSOFT'\r\n",
                ")\r\n",
                "| where executionTimeInSec > 10 // only include ws calls with execution time > 10 sec\r\n",
                "| summarize count() by executionTime_sec = bin(executionTimeInSec, 10), category\r\n",
                "| extend log_count = log10(count_)\r\n",
                "| order by category, executionTime_sec asc\r\n",
                "| render columnchart with  (ycolumns = log_count, ytitle='log10(count)', series = category, title= 'Execution time (in sec) of slow web service requests by category (in partner code)' ) "
            ],
            "metadata": {
                "azdata_cell_guid": "d2045846-702e-4d8f-9836-3df55405c404"
            },
            "outputs": [
                {
                    "output_type": "display_data",
                    "data": {
                        "text/plain": "<IPython.core.display.HTML object>",
                        "text/html": "<html>\n        <head>\n            \n            \n        </head>\n        <body>\n            <div><p style='padding: 10px; color: #3a87ad; background-color: #d9edf7; border-color: #bce9f1'>&nbsp;&nbsp;&nbsp;962fbf96-f15e-4d37-8f91-13cae96f4b3e@applicationinsights<br>&nbsp;*&nbsp;add_Application_ID_id_from_the_Application_Insights_portal_under_API_access@applicationinsights</p></div>\n        </body>\n        </html>"
                    },
                    "metadata": {}
                },
                {
                    "output_type": "display_data",
                    "data": {
                        "text/plain": "<IPython.core.display.HTML object>",
                        "text/html": "<html>\n        <head>\n            \n            \n        </head>\n        <body>\n            <div><p style='padding: 10px; color: #b94a48; background-color: #f2dede; border-color: #eed3d7'>KqlError:&nbsp;{&quot;error&quot;:{&quot;message&quot;:&quot;The&nbsp;requested&nbsp;path&nbsp;does&nbsp;not&nbsp;exist&quot;,&quot;code&quot;:&quot;PathNotFoundError&quot;,&quot;correlationId&quot;:&quot;eb55274b-b124-4554-a015-e112b953f06b&quot;}}</p></div>\n        </body>\n        </html>"
                    },
                    "metadata": {}
                }
            ],
            "execution_count": 28
        },
        {
            "cell_type": "code",
            "source": [
                "%%kql\r\n",
                "// \r\n",
                "// top 20 most expensive web service calls (partner code)\r\n",
                "// \r\n",
                "let _aadTenantId = aadTenantId;\r\n",
                "let _environmentName = environmentName;\r\n",
                "let _startDate = startDate;\r\n",
                "let _endDate = endDate;\r\n",
                "traces\r\n",
                "| where 1==1 \r\n",
                "    and timestamp >= todatetime(_startDate)\r\n",
                "    and timestamp <= todatetime(_endDate) + totimespan(24h) - totimespan(1ms)   \r\n",
                "    and customDimensions.aadTenantId == _aadTenantId\r\n",
                "    and customDimensions.environmentName == _environmentName\r\n",
                "    and customDimensions.eventId == 'RT0008'\r\n",
                "| extend alObjectId = toint(customDimensions.alObjectId)\r\n",
                "| where alObjectId between (50000 .. 99999) or alObjectId between (1000000 .. 74999999)\r\n",
                "| extend category = tostring( customDimensions.category )\r\n",
                "       , endpoint = tostring( customDimensions.endpoint )\r\n",
                "       , executionTimeInMS = toreal(totimespan(customDimensions.serverExecutionTime))/10000 //the datatype for executionTime is timespan \r\n",
                "| extend codeOwnership = case(\r\n",
                "      alObjectId between (50000 .. 99999), 'ENVIRONMENT'\r\n",
                "    , alObjectId between (1000000 .. 69999999), 'ISV_ONPREM'\r\n",
                "    , alObjectId between (70000000 .. 74999999), 'ISV_ONLINE'\r\n",
                "    , 'MICROSOFT'\r\n",
                ")\r\n",
                "| summarize count=count(), medianExecutionTimeInMS=percentile(executionTimeInMS, 50) by alObjectId, category, endpoint\r\n",
                "| order by medianExecutionTimeInMS desc\r\n",
                "| limit 20"
            ],
            "metadata": {
                "azdata_cell_guid": "e7a06658-0325-433a-94ff-3ab5c0a2eb67"
            },
            "outputs": [
                {
                    "output_type": "display_data",
                    "data": {
                        "text/plain": "<IPython.core.display.HTML object>",
                        "text/html": "<html>\n        <head>\n            \n            \n        </head>\n        <body>\n            <div><p style='padding: 10px; color: #3a87ad; background-color: #d9edf7; border-color: #bce9f1'>&nbsp;&nbsp;&nbsp;962fbf96-f15e-4d37-8f91-13cae96f4b3e@applicationinsights<br>&nbsp;*&nbsp;add_Application_ID_id_from_the_Application_Insights_portal_under_API_access@applicationinsights</p></div>\n        </body>\n        </html>"
                    },
                    "metadata": {}
                },
                {
                    "output_type": "display_data",
                    "data": {
                        "text/plain": "<IPython.core.display.HTML object>",
                        "text/html": "<html>\n        <head>\n            \n            \n        </head>\n        <body>\n            <div><p style='padding: 10px; color: #b94a48; background-color: #f2dede; border-color: #eed3d7'>KqlError:&nbsp;{&quot;error&quot;:{&quot;message&quot;:&quot;The&nbsp;requested&nbsp;path&nbsp;does&nbsp;not&nbsp;exist&quot;,&quot;code&quot;:&quot;PathNotFoundError&quot;,&quot;correlationId&quot;:&quot;f9b60bec-57da-4ea7-a4d9-bd1905337315&quot;}}</p></div>\n        </body>\n        </html>"
                    },
                    "metadata": {}
                }
            ],
            "execution_count": 29
        },
        {
            "cell_type": "markdown",
            "source": [
                "## (Outgoing) web service requests overview \n",
                "\n",
                "Performance tuning guide: [https://docs.microsoft.com/en-us/dynamics365/business-central/dev-itpro/performance/performance-developer#web-service-client-performance](https://docs.microsoft.com/en-us/dynamics365/business-central/dev-itpro/performance/performance-developer#writing-efficient-web-services)\n",
                "\n",
                "Outgoing Web service telemetry docs: [https://docs.microsoft.com/en-us/dynamics365/business-central/dev-itpro/administration/telemetry-webservices-outgoing-trace](https://docs.microsoft.com/en-us/dynamics365/business-central/dev-itpro/administration/telemetry-webservices-outgoing-trace) \n",
                "\n",
                "KQL sample: [https://github.com/microsoft/BCTech/blob/master/samples/AppInsights/KQL/RawData/OutGoingWebServiceCalls.kql](https://github.com/microsoft/BCTech/blob/master/samples/AppInsights/KQL/RawData/OutGoingWebServiceCalls.kql)\n",
                "\n",
                "Explanation of different HTTP status codes: [https://en.wikipedia.org/wiki/List_of_HTTP_status_codes](https://en.wikipedia.org/wiki/List_of_HTTP_status_codes)"
            ],
            "metadata": {
                "azdata_cell_guid": "adb3d2f9-5e04-490e-994d-a713e26599cf"
            }
        },
        {
            "cell_type": "code",
            "source": [
                "%%kql\r\n",
                "let _aadTenantId = aadTenantId;\r\n",
                "let _environmentName = environmentName;\r\n",
                "let _startDate = startDate;\r\n",
                "let _endDate = endDate;\r\n",
                "traces\r\n",
                "| where 1==1 \r\n",
                "    and timestamp >= todatetime(_startDate)\r\n",
                "    and timestamp <= todatetime(_endDate) + totimespan(24h) - totimespan(1ms)    \r\n",
                "    and customDimensions.aadTenantId == _aadTenantId\r\n",
                "    and customDimensions.environmentName == _environmentName\r\n",
                "    and customDimensions.eventId == 'RT0019'\r\n",
                "| extend alObjectId = toint(customDimensions.alObjectId)    \r\n",
                "| where alObjectId between (50000 .. 99999) or alObjectId between (1000000 .. 74999999)\r\n",
                "| extend httpStatusCode = tostring( customDimensions.httpReturnCode )\r\n",
                "| extend codeOwnership = case(\r\n",
                "      alObjectId between (50000 .. 99999), 'ENVIRONMENT'\r\n",
                "    , alObjectId between (1000000 .. 69999999), 'ISV_ONPREM'\r\n",
                "    , alObjectId between (70000000 .. 74999999), 'ISV_ONLINE'\r\n",
                "    , 'MICROSOFT'\r\n",
                ")\r\n",
                "| summarize request_count=count() by httpStatusCode, bin(timestamp, 1d)\r\n",
                "| order by httpStatusCode asc\r\n",
                "| render timechart title= 'Number of outgoing web service requests by HTTP status code (partner code)'"
            ],
            "metadata": {
                "azdata_cell_guid": "fcc199b3-9dea-46b1-ab7b-8b578528b4d1"
            },
            "outputs": [
                {
                    "output_type": "display_data",
                    "data": {
                        "text/plain": "<IPython.core.display.HTML object>",
                        "text/html": "<html>\n        <head>\n            \n            \n        </head>\n        <body>\n            <div><p style='padding: 10px; color: #3a87ad; background-color: #d9edf7; border-color: #bce9f1'>&nbsp;&nbsp;&nbsp;962fbf96-f15e-4d37-8f91-13cae96f4b3e@applicationinsights<br>&nbsp;*&nbsp;add_Application_ID_id_from_the_Application_Insights_portal_under_API_access@applicationinsights</p></div>\n        </body>\n        </html>"
                    },
                    "metadata": {}
                },
                {
                    "output_type": "display_data",
                    "data": {
                        "text/plain": "<IPython.core.display.HTML object>",
                        "text/html": "<html>\n        <head>\n            \n            \n        </head>\n        <body>\n            <div><p style='padding: 10px; color: #b94a48; background-color: #f2dede; border-color: #eed3d7'>KqlError:&nbsp;{&quot;error&quot;:{&quot;message&quot;:&quot;The&nbsp;requested&nbsp;path&nbsp;does&nbsp;not&nbsp;exist&quot;,&quot;code&quot;:&quot;PathNotFoundError&quot;,&quot;correlationId&quot;:&quot;9b130f60-f5ad-4e28-90a3-c5207bc21188&quot;}}</p></div>\n        </body>\n        </html>"
                    },
                    "metadata": {}
                }
            ],
            "execution_count": 30
        },
        {
            "cell_type": "code",
            "source": [
                "%%kql\r\n",
                "let _aadTenantId = aadTenantId;\r\n",
                "let _environmentName = environmentName;\r\n",
                "let _startDate = startDate;\r\n",
                "let _endDate = endDate;\r\n",
                "traces\r\n",
                "| where 1==1 \r\n",
                "    and timestamp >= todatetime(_startDate)\r\n",
                "    and timestamp <= todatetime(_endDate) + totimespan(24h) - totimespan(1ms)        \r\n",
                "    and customDimensions.aadTenantId == _aadTenantId\r\n",
                "    and customDimensions.environmentName == _environmentName\r\n",
                "    and customDimensions.eventId == 'RT0019'\r\n",
                "| extend httpMethod = tostring( toupper( customDimensions.httpMethod ) )\r\n",
                "       , executionTimeInSec = toreal(totimespan(customDimensions.serverExecutionTime))/10000 /1000 //the datatype for executionTime is timespan \r\n",
                "| extend alObjectId = toint(customDimensions.alObjectId)    \r\n",
                "| where alObjectId between (50000 .. 99999) or alObjectId between (1000000 .. 74999999)\r\n",
                "| extend httpStatusCode = tostring( customDimensions.httpReturnCode )\r\n",
                "| extend codeOwnership = case(\r\n",
                "      alObjectId between (50000 .. 99999), 'ENVIRONMENT'\r\n",
                "    , alObjectId between (1000000 .. 69999999), 'ISV_ONPREM'\r\n",
                "    , alObjectId between (70000000 .. 74999999), 'ISV_ONLINE'\r\n",
                "    , 'MICROSOFT'\r\n",
                ")\r\n",
                "| where executionTimeInSec <= 10\r\n",
                "| summarize count() by executionTime_sec = bin(executionTimeInSec, 1), httpMethod\r\n",
                "| extend log_count = log10( count_ )\r\n",
                "| order by httpMethod, executionTime_sec asc\r\n",
                "| render columnchart with  (ycolumns = log_count, ytitle='log(count)', series = httpMethod, title= 'Execution time (seconds) of \"normal\" outgoing ws requests by method' ) \r\n",
                ""
            ],
            "metadata": {
                "azdata_cell_guid": "3e6e498d-29d5-4f9c-83c7-f0fd4345279a"
            },
            "outputs": [
                {
                    "output_type": "display_data",
                    "data": {
                        "text/plain": "<IPython.core.display.HTML object>",
                        "text/html": "<html>\n        <head>\n            \n            \n        </head>\n        <body>\n            <div><p style='padding: 10px; color: #3a87ad; background-color: #d9edf7; border-color: #bce9f1'>&nbsp;&nbsp;&nbsp;962fbf96-f15e-4d37-8f91-13cae96f4b3e@applicationinsights<br>&nbsp;*&nbsp;add_Application_ID_id_from_the_Application_Insights_portal_under_API_access@applicationinsights</p></div>\n        </body>\n        </html>"
                    },
                    "metadata": {}
                },
                {
                    "output_type": "display_data",
                    "data": {
                        "text/plain": "<IPython.core.display.HTML object>",
                        "text/html": "<html>\n        <head>\n            \n            \n        </head>\n        <body>\n            <div><p style='padding: 10px; color: #b94a48; background-color: #f2dede; border-color: #eed3d7'>KqlError:&nbsp;{&quot;error&quot;:{&quot;message&quot;:&quot;The&nbsp;requested&nbsp;path&nbsp;does&nbsp;not&nbsp;exist&quot;,&quot;code&quot;:&quot;PathNotFoundError&quot;,&quot;correlationId&quot;:&quot;740e86f4-6735-4865-9f90-431b0b135f0f&quot;}}</p></div>\n        </body>\n        </html>"
                    },
                    "metadata": {}
                }
            ],
            "execution_count": 31
        },
        {
            "cell_type": "code",
            "source": [
                "%%kql\r\n",
                "let _aadTenantId = aadTenantId;\r\n",
                "let _environmentName = environmentName;\r\n",
                "let _startDate = startDate;\r\n",
                "let _endDate = endDate;\r\n",
                "traces\r\n",
                "| where 1==1 \r\n",
                "    and timestamp >= todatetime(_startDate)\r\n",
                "    and timestamp <= todatetime(_endDate) + totimespan(24h) - totimespan(1ms)        \r\n",
                "    and customDimensions.aadTenantId == _aadTenantId\r\n",
                "    and customDimensions.environmentName == _environmentName\r\n",
                "    and customDimensions.eventId == 'RT0019'\r\n",
                "| extend httpMethod = tostring( toupper( customDimensions.httpMethod ) )\r\n",
                "       , executionTimeInSec = toreal(totimespan(customDimensions.serverExecutionTime))/10000 /1000 //the datatype for executionTime is timespan \r\n",
                "| extend alObjectId = toint(customDimensions.alObjectId)    \r\n",
                "| where alObjectId between (50000 .. 99999) or alObjectId between (1000000 .. 74999999)\r\n",
                "| extend httpStatusCode = tostring( customDimensions.httpReturnCode )\r\n",
                "| extend codeOwnership = case(\r\n",
                "      alObjectId between (50000 .. 99999), 'ENVIRONMENT'\r\n",
                "    , alObjectId between (1000000 .. 69999999), 'ISV_ONPREM'\r\n",
                "    , alObjectId between (70000000 .. 74999999), 'ISV_ONLINE'\r\n",
                "    , 'MICROSOFT'\r\n",
                ")\r\n",
                "| where executionTimeInSec > 10\r\n",
                "| summarize count() by executionTime_sec = bin(executionTimeInSec, 10), httpMethod\r\n",
                "| extend log_count = log10( count_ )\r\n",
                "| order by httpMethod, executionTime_sec asc\r\n",
                "| render columnchart with  (ycolumns = log_count, ytitle='log10(count)', series = httpMethod, title= 'Execution time (seconds) of slow outgoing ws requests by method' ) \r\n",
                ""
            ],
            "metadata": {
                "azdata_cell_guid": "a28e20fe-952e-45de-ae1f-fc9651502d64"
            },
            "outputs": [
                {
                    "output_type": "display_data",
                    "data": {
                        "text/plain": "<IPython.core.display.HTML object>",
                        "text/html": "<html>\n        <head>\n            \n            \n        </head>\n        <body>\n            <div><p style='padding: 10px; color: #3a87ad; background-color: #d9edf7; border-color: #bce9f1'>&nbsp;&nbsp;&nbsp;962fbf96-f15e-4d37-8f91-13cae96f4b3e@applicationinsights<br>&nbsp;*&nbsp;add_Application_ID_id_from_the_Application_Insights_portal_under_API_access@applicationinsights</p></div>\n        </body>\n        </html>"
                    },
                    "metadata": {}
                },
                {
                    "output_type": "display_data",
                    "data": {
                        "text/plain": "<IPython.core.display.HTML object>",
                        "text/html": "<html>\n        <head>\n            \n            \n        </head>\n        <body>\n            <div><p style='padding: 10px; color: #b94a48; background-color: #f2dede; border-color: #eed3d7'>KqlError:&nbsp;{&quot;error&quot;:{&quot;message&quot;:&quot;The&nbsp;requested&nbsp;path&nbsp;does&nbsp;not&nbsp;exist&quot;,&quot;code&quot;:&quot;PathNotFoundError&quot;,&quot;correlationId&quot;:&quot;ee6aa092-8fa2-4919-8419-4bf75444323a&quot;}}</p></div>\n        </body>\n        </html>"
                    },
                    "metadata": {}
                }
            ],
            "execution_count": 32
        },
        {
            "cell_type": "code",
            "source": [
                "%%kql\r\n",
                "//\r\n",
                "// Top 20 most expensive outgoing calls\r\n",
                "//\r\n",
                "// Includes descriptive statistics avg, min, max, and 95 percentile for execution time and number of calls\r\n",
                "//\r\n",
                "let _aadTenantId = aadTenantId;\r\n",
                "let _environmentName = environmentName;\r\n",
                "let _startDate = startDate;\r\n",
                "let _endDate = endDate;\r\n",
                "traces\r\n",
                "| where 1==1 \r\n",
                "    and timestamp >= todatetime(_startDate)\r\n",
                "    and timestamp <= todatetime(_endDate) + totimespan(24h) - totimespan(1ms)    \r\n",
                "    and customDimensions.aadTenantId == _aadTenantId\r\n",
                "    and customDimensions.environmentName == _environmentName\r\n",
                "    and customDimensions.eventId == 'RT0019'\r\n",
                "| extend httpMethod = tostring( toupper( customDimensions.httpMethod ) )\r\n",
                "       , executionTimeInMS = toreal(totimespan(customDimensions.serverExecutionTime))/10000 //the datatype for executionTime is timespan \r\n",
                "       , alObjectId = tostring( customDimensions.alObjectId )\r\n",
                "       , alObjectName = tostring( customDimensions.alObjectName )\r\n",
                "       , alObjectType = tostring( customDimensions.alObjectType )\r\n",
                ", endpoint = tostring( customDimensions.endpoint )\r\n",
                ", extensionId = tostring( customDimensions.extensionId )\r\n",
                ", extensionName = tostring( customDimensions.extensionName )\r\n",
                ", extensionVersion = tostring( customDimensions.extensionVersion )\r\n",
                "| extend alObjectId = toint(customDimensions.alObjectId)    \r\n",
                "| where alObjectId between (50000 .. 99999) or alObjectId between (1000000 .. 74999999)\r\n",
                "| extend httpStatusCode = tostring( customDimensions.httpReturnCode )\r\n",
                "| extend codeOwnership = case(\r\n",
                "      alObjectId between (50000 .. 99999), 'ENVIRONMENT'\r\n",
                "    , alObjectId between (1000000 .. 69999999), 'ISV_ONPREM'\r\n",
                "    , alObjectId between (70000000 .. 74999999), 'ISV_ONLINE'\r\n",
                "    , 'MICROSOFT'\r\n",
                ")\r\n",
                "| summarize avg(executionTimeInMS), min(executionTimeInMS), max(executionTimeInMS),percentile(executionTimeInMS,95), count() by \r\n",
                "  httpMethod\r\n",
                ", alObjectId, alObjectName, alObjectType, codeOwnership\r\n",
                ", extensionId, extensionName, extensionVersion\r\n",
                ", endpoint\r\n",
                "| order by avg_executionTimeInMS desc\r\n",
                "| project avg_timeInSec=round(avg_executionTimeInMS/1000,2)\r\n",
                ", min_timeInSec=round(min_executionTimeInMS/1000,2)\r\n",
                ", max_timeInSec=round(max_executionTimeInMS/1000,2)\r\n",
                ", perc_95InSec=round(percentile_executionTimeInMS_95/1000,2), count_\r\n",
                ", alObjectId, alObjectName, alObjectType, codeOwnership\r\n",
                ", extensionId, extensionName, extensionVersion, httpMethod, endpoint\r\n",
                "| limit 20"
            ],
            "metadata": {
                "azdata_cell_guid": "5e3ced4d-acd0-41f7-8ba9-a82af662dd1a"
            },
            "outputs": [
                {
                    "output_type": "display_data",
                    "data": {
                        "text/plain": "<IPython.core.display.HTML object>",
                        "text/html": "<html>\n        <head>\n            \n            \n        </head>\n        <body>\n            <div><p style='padding: 10px; color: #3a87ad; background-color: #d9edf7; border-color: #bce9f1'>&nbsp;&nbsp;&nbsp;962fbf96-f15e-4d37-8f91-13cae96f4b3e@applicationinsights<br>&nbsp;*&nbsp;add_Application_ID_id_from_the_Application_Insights_portal_under_API_access@applicationinsights</p></div>\n        </body>\n        </html>"
                    },
                    "metadata": {}
                },
                {
                    "output_type": "display_data",
                    "data": {
                        "text/plain": "<IPython.core.display.HTML object>",
                        "text/html": "<html>\n        <head>\n            \n            \n        </head>\n        <body>\n            <div><p style='padding: 10px; color: #b94a48; background-color: #f2dede; border-color: #eed3d7'>KqlError:&nbsp;{&quot;error&quot;:{&quot;message&quot;:&quot;The&nbsp;requested&nbsp;path&nbsp;does&nbsp;not&nbsp;exist&quot;,&quot;code&quot;:&quot;PathNotFoundError&quot;,&quot;correlationId&quot;:&quot;08dbf0bf-1d7b-480e-aa7c-1ed88de68bcd&quot;}}</p></div>\n        </body>\n        </html>"
                    },
                    "metadata": {}
                }
            ],
            "execution_count": 33
        },
        {
            "cell_type": "markdown",
            "source": [
                "## Data related\r\n",
                "\r\n",
                "Performance tuning guide: \r\n",
                "* [Efficient data access](https://docs.microsoft.com/en-us/dynamics365/business-central/dev-itpro/performance/performance-developer#efficient-data-access)\r\n",
                "* [Avoid locking](https://docs.microsoft.com/en-us/dynamics365/business-central/dev-itpro/performance/performance-application#avoid-locking)\r\n",
                "\r\n",
                "Database telemetry docs: \r\n",
                "* https://docs.microsoft.com/en-us/dynamics365/business-central/dev-itpro/administration/telemetry-long-running-sql-query-trace\r\n",
                "* https://docs.microsoft.com/en-us/dynamics365/business-central/dev-itpro/administration/telemetry-database-locks-trace\r\n",
                "\r\n",
                "KQL samples:\r\n",
                "* https://github.com/microsoft/BCTech/blob/master/samples/AppInsights/KQL/RawData/Long%20Running%20SQL%20Queries.kql\r\n",
                "* https://github.com/microsoft/BCTech/blob/master/samples/AppInsights/KQL/RawData/LockTimeouts.kql\r\n",
                ""
            ],
            "metadata": {
                "azdata_cell_guid": "2f7e604a-0d02-484e-9bcb-a6aa148d5f0b"
            }
        },
        {
            "cell_type": "code",
            "source": [
                "%%kql\r\n",
                "let _aadTenantId = aadTenantId;\r\n",
                "let _environmentName = environmentName;\r\n",
                "let _startDate = startDate;\r\n",
                "let _endDate = endDate;\r\n",
                "traces\r\n",
                "| where 1==1 \r\n",
                "    and timestamp >= todatetime(_startDate)\r\n",
                "    and timestamp <= todatetime(_endDate) + totimespan(24h) - totimespan(1ms)   \r\n",
                "    and customDimensions.aadTenantId == _aadTenantId\r\n",
                "    and customDimensions.environmentName == _environmentName\r\n",
                "    and customDimensions.eventId == 'RT0005'\r\n",
                "| extend alObjectId = toint(customDimensions.alObjectId)\r\n",
                "| where alObjectId between (50000 .. 99999) or alObjectId between (1000000 .. 74999999)\r\n",
                "| extend codeOwnership = case(\r\n",
                "      alObjectId between (50000 .. 99999), 'ENVIRONMENT'\r\n",
                "    , alObjectId between (1000000 .. 69999999), 'ISV_ONPREM'\r\n",
                "    , alObjectId between (70000000 .. 74999999), 'ISV_ONLINE'\r\n",
                "    , 'MICROSOFT'\r\n",
                ")\r\n",
                "| summarize count() by bin(timestamp, 1d)\r\n",
                "| render timechart title= 'Number of long running SQL queries (in partner code)'"
            ],
            "metadata": {
                "azdata_cell_guid": "9ec9b678-7d66-4758-9101-4e9e5025dfcf",
                "tags": []
            },
            "outputs": [
                {
                    "output_type": "display_data",
                    "data": {
                        "text/plain": "<IPython.core.display.HTML object>",
                        "text/html": "<html>\n        <head>\n            \n            \n        </head>\n        <body>\n            <div><p style='padding: 10px; color: #3a87ad; background-color: #d9edf7; border-color: #bce9f1'>&nbsp;&nbsp;&nbsp;962fbf96-f15e-4d37-8f91-13cae96f4b3e@applicationinsights<br>&nbsp;*&nbsp;add_Application_ID_id_from_the_Application_Insights_portal_under_API_access@applicationinsights</p></div>\n        </body>\n        </html>"
                    },
                    "metadata": {}
                },
                {
                    "output_type": "display_data",
                    "data": {
                        "text/plain": "<IPython.core.display.HTML object>",
                        "text/html": "<html>\n        <head>\n            \n            \n        </head>\n        <body>\n            <div><p style='padding: 10px; color: #b94a48; background-color: #f2dede; border-color: #eed3d7'>KqlError:&nbsp;{&quot;error&quot;:{&quot;message&quot;:&quot;The&nbsp;requested&nbsp;path&nbsp;does&nbsp;not&nbsp;exist&quot;,&quot;code&quot;:&quot;PathNotFoundError&quot;,&quot;correlationId&quot;:&quot;65b9ef97-6e7f-4cf3-99a2-9407c5e58c56&quot;}}</p></div>\n        </body>\n        </html>"
                    },
                    "metadata": {}
                }
            ],
            "execution_count": 34
        },
        {
            "cell_type": "code",
            "source": [
                "%%kql\r\n",
                "// \r\n",
                "// top 20 most expensive long running sql queries (in partner code)\r\n",
                "// \r\n",
                "let _aadTenantId = aadTenantId;\r\n",
                "let _environmentName = environmentName;\r\n",
                "let _startDate = startDate;\r\n",
                "let _endDate = endDate;\r\n",
                "traces\r\n",
                "| where 1==1 \r\n",
                "    and timestamp >= todatetime(_startDate)\r\n",
                "    and timestamp <= todatetime(_endDate) + totimespan(24h) - totimespan(1ms)   \r\n",
                "    and customDimensions.aadTenantId == _aadTenantId\r\n",
                "    and customDimensions.environmentName == _environmentName\r\n",
                "    and customDimensions.eventId == 'RT0005'\r\n",
                "| extend alObjectId = toint(customDimensions.alObjectId)\r\n",
                "       , alObjectName = toint(customDimensions.alObject)\r\n",
                "       , executionTimeInMS = toreal(totimespan(customDimensions.executionTime))/10000 //the datatype for executionTime is timespan \r\n",
                "| where alObjectId between (50000 .. 99999) or alObjectId between (1000000 .. 74999999)\r\n",
                "| extend codeOwnership = case(\r\n",
                "      alObjectId between (50000 .. 99999), 'ENVIRONMENT'\r\n",
                "    , alObjectId between (1000000 .. 69999999), 'ISV_ONPREM'\r\n",
                "    , alObjectId between (70000000 .. 74999999), 'ISV_ONLINE'\r\n",
                "    , 'MICROSOFT'\r\n",
                ")\r\n",
                "| summarize count(), avg(executionTimeInMS) by alObjectId\r\n",
                "| limit 20"
            ],
            "metadata": {
                "azdata_cell_guid": "36d2980d-2d0a-4066-957f-7648fe1b240b"
            },
            "outputs": [
                {
                    "output_type": "display_data",
                    "data": {
                        "text/plain": "<IPython.core.display.HTML object>",
                        "text/html": "<html>\n        <head>\n            \n            \n        </head>\n        <body>\n            <div><p style='padding: 10px; color: #3a87ad; background-color: #d9edf7; border-color: #bce9f1'>&nbsp;&nbsp;&nbsp;962fbf96-f15e-4d37-8f91-13cae96f4b3e@applicationinsights<br>&nbsp;*&nbsp;add_Application_ID_id_from_the_Application_Insights_portal_under_API_access@applicationinsights</p></div>\n        </body>\n        </html>"
                    },
                    "metadata": {}
                },
                {
                    "output_type": "display_data",
                    "data": {
                        "text/plain": "<IPython.core.display.HTML object>",
                        "text/html": "<html>\n        <head>\n            \n            \n        </head>\n        <body>\n            <div><p style='padding: 10px; color: #b94a48; background-color: #f2dede; border-color: #eed3d7'>KqlError:&nbsp;{&quot;error&quot;:{&quot;message&quot;:&quot;The&nbsp;requested&nbsp;path&nbsp;does&nbsp;not&nbsp;exist&quot;,&quot;code&quot;:&quot;PathNotFoundError&quot;,&quot;correlationId&quot;:&quot;ab46fccb-0251-4676-9511-92d414404ef6&quot;}}</p></div>\n        </body>\n        </html>"
                    },
                    "metadata": {}
                }
            ],
            "execution_count": 35
        },
        {
            "cell_type": "code",
            "source": [
                "%%kql\r\n",
                "let _aadTenantId = aadTenantId;\r\n",
                "let _environmentName = environmentName;\r\n",
                "let _startDate = startDate;\r\n",
                "let _endDate = endDate;\r\n",
                "traces\r\n",
                "| where 1==1 \r\n",
                "    and timestamp >= todatetime(_startDate)\r\n",
                "    and timestamp <= todatetime(_endDate) + totimespan(24h) - totimespan(1ms)   \r\n",
                "    and customDimensions.aadTenantId == _aadTenantId\r\n",
                "    and customDimensions.environmentName == _environmentName\r\n",
                "    and customDimensions.eventId == 'RT0012'\r\n",
                "| extend alObjectId = toint(customDimensions.alObjectId)\r\n",
                "| where alObjectId between (50000 .. 99999) or alObjectId between (1000000 .. 74999999)\r\n",
                "| extend codeOwnership = case(\r\n",
                "      alObjectId between (50000 .. 99999), 'ENVIRONMENT'\r\n",
                "    , alObjectId between (1000000 .. 69999999), 'ISV_ONPREM'\r\n",
                "    , alObjectId between (70000000 .. 74999999), 'ISV_ONLINE'\r\n",
                "    , 'MICROSOFT'\r\n",
                ")\r\n",
                "| summarize request_count=count() by bin(timestamp, 1d)\r\n",
                "| render timechart title= 'Number of database lock timeouts (in partner code)'"
            ],
            "metadata": {
                "azdata_cell_guid": "3ee52ced-9377-46a5-865a-528cceb6b335"
            },
            "outputs": [
                {
                    "output_type": "display_data",
                    "data": {
                        "text/plain": "<IPython.core.display.HTML object>",
                        "text/html": "<html>\n        <head>\n            \n            \n        </head>\n        <body>\n            <div><p style='padding: 10px; color: #3a87ad; background-color: #d9edf7; border-color: #bce9f1'>&nbsp;&nbsp;&nbsp;962fbf96-f15e-4d37-8f91-13cae96f4b3e@applicationinsights<br>&nbsp;*&nbsp;add_Application_ID_id_from_the_Application_Insights_portal_under_API_access@applicationinsights</p></div>\n        </body>\n        </html>"
                    },
                    "metadata": {}
                },
                {
                    "output_type": "display_data",
                    "data": {
                        "text/plain": "<IPython.core.display.HTML object>",
                        "text/html": "<html>\n        <head>\n            \n            \n        </head>\n        <body>\n            <div><p style='padding: 10px; color: #b94a48; background-color: #f2dede; border-color: #eed3d7'>KqlError:&nbsp;{&quot;error&quot;:{&quot;message&quot;:&quot;The&nbsp;requested&nbsp;path&nbsp;does&nbsp;not&nbsp;exist&quot;,&quot;code&quot;:&quot;PathNotFoundError&quot;,&quot;correlationId&quot;:&quot;54af8194-b89d-43c6-8208-fa991a38a2a6&quot;}}</p></div>\n        </body>\n        </html>"
                    },
                    "metadata": {}
                }
            ],
            "execution_count": 36
        },
        {
            "cell_type": "code",
            "source": [
                "%%kql\r\n",
                "// \r\n",
                "// partner code units where database lock timeouts occur\r\n",
                "// \r\n",
                "let _aadTenantId = aadTenantId;\r\n",
                "let _environmentName = environmentName;\r\n",
                "let _startDate = startDate;\r\n",
                "let _endDate = endDate;\r\n",
                "traces\r\n",
                "| where 1==1 \r\n",
                "    and timestamp >= todatetime(_startDate)\r\n",
                "    and timestamp <= todatetime(_endDate) + totimespan(24h) - totimespan(1ms)   \r\n",
                "    and customDimensions.aadTenantId == _aadTenantId\r\n",
                "    and customDimensions.environmentName == _environmentName\r\n",
                "    and customDimensions.eventId == 'RT0012'\r\n",
                "| extend alObjectId = toint(customDimensions.alObjectId)\r\n",
                "| where alObjectId between (50000 .. 99999) or alObjectId between (1000000 .. 74999999)\r\n",
                "| extend codeOwnership = case(\r\n",
                "      alObjectId between (50000 .. 99999), 'ENVIRONMENT'\r\n",
                "    , alObjectId between (1000000 .. 69999999), 'ISV_ONPREM'\r\n",
                "    , alObjectId between (70000000 .. 74999999), 'ISV_ONLINE'\r\n",
                "    , 'MICROSOFT'\r\n",
                ")\r\n",
                "| summarize timeout_count=count() by alObjectId\r\n",
                "| order by timeout_count"
            ],
            "metadata": {
                "azdata_cell_guid": "82119fb5-180d-4ead-b1ae-198adcd8c0b6"
            },
            "outputs": [
                {
                    "output_type": "display_data",
                    "data": {
                        "text/plain": "<IPython.core.display.HTML object>",
                        "text/html": "<html>\n        <head>\n            \n            \n        </head>\n        <body>\n            <div><p style='padding: 10px; color: #3a87ad; background-color: #d9edf7; border-color: #bce9f1'>&nbsp;&nbsp;&nbsp;962fbf96-f15e-4d37-8f91-13cae96f4b3e@applicationinsights<br>&nbsp;*&nbsp;add_Application_ID_id_from_the_Application_Insights_portal_under_API_access@applicationinsights</p></div>\n        </body>\n        </html>"
                    },
                    "metadata": {}
                },
                {
                    "output_type": "display_data",
                    "data": {
                        "text/plain": "<IPython.core.display.HTML object>",
                        "text/html": "<html>\n        <head>\n            \n            \n        </head>\n        <body>\n            <div><p style='padding: 10px; color: #b94a48; background-color: #f2dede; border-color: #eed3d7'>KqlError:&nbsp;{&quot;error&quot;:{&quot;message&quot;:&quot;The&nbsp;requested&nbsp;path&nbsp;does&nbsp;not&nbsp;exist&quot;,&quot;code&quot;:&quot;PathNotFoundError&quot;,&quot;correlationId&quot;:&quot;01a6989f-65a8-4deb-9806-ec187518278c&quot;}}</p></div>\n        </body>\n        </html>"
                    },
                    "metadata": {}
                }
            ],
            "execution_count": 37
        },
        {
            "cell_type": "markdown",
            "source": [
                "## Reports\r\n",
                "\r\n",
                "Learn more about how to write performant reports here in the performance tuning guide: https://docs.microsoft.com/en-us/dynamics365/business-central/dev-itpro/performance/performance-developer#writing-efficient-reports\r\n",
                "\r\n",
                "Report telemetry docs: https://docs.microsoft.com/en-us/dynamics365/business-central/dev-itpro/administration/telemetry-reports-trace\r\n",
                "\r\n",
                "KQL samples: \r\n",
                "* https://github.com/microsoft/BCTech/blob/master/samples/AppInsights/KQL/RawData/Reports.kql\r\n",
                "* https://github.com/microsoft/BCTech/blob/master/samples/AppInsights/KQL/PerformanceTuning/ReportExecution.kql"
            ],
            "metadata": {
                "azdata_cell_guid": "9e51a638-4e8d-413b-bc03-87bc8cac36a3"
            }
        },
        {
            "cell_type": "code",
            "source": [
                "%%kql\r\n",
                "let _aadTenantId = aadTenantId;\r\n",
                "let _environmentName = environmentName;\r\n",
                "let _startDate = startDate;\r\n",
                "let _endDate = endDate;\r\n",
                "traces\r\n",
                "| where 1==1 \r\n",
                "    and timestamp >= todatetime(_startDate)\r\n",
                "    and timestamp <= todatetime(_endDate) + totimespan(24h) - totimespan(1ms)   \r\n",
                "    and customDimensions.aadTenantId == _aadTenantId\r\n",
                "    and customDimensions.environmentName == _environmentName\r\n",
                "    and customDimensions.eventId == 'RT0006'\r\n",
                "| extend alObjectId = toint(customDimensions.alObjectId)\r\n",
                "| where alObjectId between (50000 .. 99999) or alObjectId between (1000000 .. 74999999)\r\n",
                "| extend clientType = tostring( customDimensions.clientType )\r\n",
                "       , reportName = tostring( customDimensions.alObjectName )\r\n",
                "| extend codeOwnership = case(\r\n",
                "      alObjectId between (50000 .. 99999), 'ENVIRONMENT'\r\n",
                "    , alObjectId between (1000000 .. 69999999), 'ISV_ONPREM'\r\n",
                "    , alObjectId between (70000000 .. 74999999), 'ISV_ONLINE'\r\n",
                "    , 'MICROSOFT'\r\n",
                ")\r\n",
                "| where reportName <> ''\r\n",
                "| summarize count=count() by clientType, bin(timestamp, 1d)\r\n",
                "| render timechart title= 'Number of report execution by client/session type (partner reports)'"
            ],
            "metadata": {
                "azdata_cell_guid": "21e5d398-4a06-4ab9-a0e3-6e6263725dec"
            },
            "outputs": [
                {
                    "output_type": "display_data",
                    "data": {
                        "text/plain": "<IPython.core.display.HTML object>",
                        "text/html": "<html>\n        <head>\n            \n            \n        </head>\n        <body>\n            <div><p style='padding: 10px; color: #3a87ad; background-color: #d9edf7; border-color: #bce9f1'>&nbsp;&nbsp;&nbsp;962fbf96-f15e-4d37-8f91-13cae96f4b3e@applicationinsights<br>&nbsp;*&nbsp;add_Application_ID_id_from_the_Application_Insights_portal_under_API_access@applicationinsights</p></div>\n        </body>\n        </html>"
                    },
                    "metadata": {}
                },
                {
                    "output_type": "display_data",
                    "data": {
                        "text/plain": "<IPython.core.display.HTML object>",
                        "text/html": "<html>\n        <head>\n            \n            \n        </head>\n        <body>\n            <div><p style='padding: 10px; color: #b94a48; background-color: #f2dede; border-color: #eed3d7'>KqlError:&nbsp;{&quot;error&quot;:{&quot;message&quot;:&quot;The&nbsp;requested&nbsp;path&nbsp;does&nbsp;not&nbsp;exist&quot;,&quot;code&quot;:&quot;PathNotFoundError&quot;,&quot;correlationId&quot;:&quot;72a2ad62-7c6e-46a7-8c30-ac6df5da8a08&quot;}}</p></div>\n        </body>\n        </html>"
                    },
                    "metadata": {}
                }
            ],
            "execution_count": 38
        },
        {
            "cell_type": "code",
            "source": [
                "%%kql\r\n",
                "let _aadTenantId = aadTenantId;\r\n",
                "let _environmentName = environmentName;\r\n",
                "let _startDate = startDate;\r\n",
                "let _endDate = endDate;\r\n",
                "traces\r\n",
                "| where 1==1 \r\n",
                "    and timestamp >= todatetime(_startDate)\r\n",
                "    and timestamp <= todatetime(_endDate) + totimespan(24h) - totimespan(1ms)   \r\n",
                "    and customDimensions.aadTenantId == _aadTenantId\r\n",
                "    and customDimensions.environmentName == _environmentName\r\n",
                "    and customDimensions.eventId == 'RT0006'\r\n",
                "| extend alObjectId = toint(customDimensions.alObjectId)\r\n",
                "| where alObjectId between (50000 .. 99999) or alObjectId between (1000000 .. 74999999)\r\n",
                "| extend reportName = tostring( customDimensions.alObjectName )\r\n",
                "       , executionTimeInSec = toreal(totimespan(customDimensions.totalTime))/10000000 //the datatype for executionTime is timespan \r\n",
                "| where reportName <> ''\r\n",
                "| extend codeOwnership = case(\r\n",
                "      alObjectId between (50000 .. 99999), 'ENVIRONMENT'\r\n",
                "    , alObjectId between (1000000 .. 69999999), 'ISV_ONPREM'\r\n",
                "    , alObjectId between (70000000 .. 74999999), 'ISV_ONLINE'\r\n",
                "    , 'MICROSOFT'\r\n",
                ")\r\n",
                "| summarize avg=avg(executionTimeInSec), median=percentile(executionTimeInSec, 50), percentile95=percentile(executionTimeInSec, 95), max=max(executionTimeInSec)   \r\n",
                "  by reportName\r\n",
                "| order by percentile95\r\n",
                "| limit 10\r\n",
                "| render columnchart with  (title= 'Execution time stats of (partner) reports by report name (top 10 by 95% percentile)', ytitle='Time (in seconds)' ) "
            ],
            "metadata": {
                "azdata_cell_guid": "80670aee-4a06-44da-8b8f-b0bb8124ef12"
            },
            "outputs": [
                {
                    "output_type": "display_data",
                    "data": {
                        "text/plain": "<IPython.core.display.HTML object>",
                        "text/html": "<html>\n        <head>\n            \n            \n        </head>\n        <body>\n            <div><p style='padding: 10px; color: #3a87ad; background-color: #d9edf7; border-color: #bce9f1'>&nbsp;&nbsp;&nbsp;962fbf96-f15e-4d37-8f91-13cae96f4b3e@applicationinsights<br>&nbsp;*&nbsp;add_Application_ID_id_from_the_Application_Insights_portal_under_API_access@applicationinsights</p></div>\n        </body>\n        </html>"
                    },
                    "metadata": {}
                },
                {
                    "output_type": "display_data",
                    "data": {
                        "text/plain": "<IPython.core.display.HTML object>",
                        "text/html": "<html>\n        <head>\n            \n            \n        </head>\n        <body>\n            <div><p style='padding: 10px; color: #b94a48; background-color: #f2dede; border-color: #eed3d7'>KqlError:&nbsp;{&quot;error&quot;:{&quot;message&quot;:&quot;The&nbsp;requested&nbsp;path&nbsp;does&nbsp;not&nbsp;exist&quot;,&quot;code&quot;:&quot;PathNotFoundError&quot;,&quot;correlationId&quot;:&quot;33c93a80-4361-488b-97fc-0df16e78686b&quot;}}</p></div>\n        </body>\n        </html>"
                    },
                    "metadata": {}
                }
            ],
            "execution_count": 39
        },
        {
            "cell_type": "code",
            "source": [
                "%%kql\r\n",
                "// \r\n",
                "// top 20 most expensive reports (in partner code)\r\n",
                "// \r\n",
                "let _aadTenantId = aadTenantId;\r\n",
                "let _environmentName = environmentName;\r\n",
                "let _startDate = startDate;\r\n",
                "let _endDate = endDate;\r\n",
                "traces\r\n",
                "| where 1==1 \r\n",
                "    and timestamp >= todatetime(_startDate)\r\n",
                "    and timestamp <= todatetime(_endDate) + totimespan(24h) - totimespan(1ms)   \r\n",
                "    and customDimensions.aadTenantId == _aadTenantId\r\n",
                "    and customDimensions.environmentName == _environmentName\r\n",
                "    and customDimensions.eventId == 'RT0006'\r\n",
                "| extend alObjectId = toint(customDimensions.alObjectId)\r\n",
                "| where alObjectId between (50000 .. 99999) or alObjectId between (1000000 .. 74999999)\r\n",
                "| extend reportName = tostring( customDimensions.alObjectName )\r\n",
                "       , executionTimeInSec = toreal(totimespan(customDimensions.totalTime))/10000000 //the datatype for executionTime is timespan \r\n",
                "| extend codeOwnership = case(\r\n",
                "      alObjectId between (50000 .. 99999), 'ENVIRONMENT'\r\n",
                "    , alObjectId between (1000000 .. 69999999), 'ISV_ONPREM'\r\n",
                "    , alObjectId between (70000000 .. 74999999), 'ISV_ONLINE'\r\n",
                "    , 'MICROSOFT'\r\n",
                ")\r\n",
                "| where reportName <> ''\r\n",
                "| summarize avg=avg(executionTimeInSec), median=percentile(executionTimeInSec, 50), percentile95=percentile(executionTimeInSec, 95), max=max(executionTimeInSec)   \r\n",
                "  by reportName\r\n",
                "| order by percentile95\r\n",
                "| limit 20"
            ],
            "metadata": {
                "azdata_cell_guid": "ac9f9201-e3cc-41ae-958c-f532de3717ec"
            },
            "outputs": [
                {
                    "output_type": "display_data",
                    "data": {
                        "text/plain": "<IPython.core.display.HTML object>",
                        "text/html": "<html>\n        <head>\n            \n            \n        </head>\n        <body>\n            <div><p style='padding: 10px; color: #3a87ad; background-color: #d9edf7; border-color: #bce9f1'>&nbsp;&nbsp;&nbsp;962fbf96-f15e-4d37-8f91-13cae96f4b3e@applicationinsights<br>&nbsp;*&nbsp;add_Application_ID_id_from_the_Application_Insights_portal_under_API_access@applicationinsights</p></div>\n        </body>\n        </html>"
                    },
                    "metadata": {}
                },
                {
                    "output_type": "display_data",
                    "data": {
                        "text/plain": "<IPython.core.display.HTML object>",
                        "text/html": "<html>\n        <head>\n            \n            \n        </head>\n        <body>\n            <div><p style='padding: 10px; color: #b94a48; background-color: #f2dede; border-color: #eed3d7'>KqlError:&nbsp;{&quot;error&quot;:{&quot;message&quot;:&quot;The&nbsp;requested&nbsp;path&nbsp;does&nbsp;not&nbsp;exist&quot;,&quot;code&quot;:&quot;PathNotFoundError&quot;,&quot;correlationId&quot;:&quot;e44976fb-f7c2-4da3-9b2d-8c249051ec89&quot;}}</p></div>\n        </body>\n        </html>"
                    },
                    "metadata": {}
                }
            ],
            "execution_count": 40
        },
        {
            "cell_type": "code",
            "source": [
                "%%kql\r\n",
                "// \r\n",
                "// top 10 reports that have a low sqlratio\r\n",
                "// \r\n",
                "// The higher the number called sqlratio is, the more set-based the report is (it tells you how many sql rows are read per sql statement)\r\n",
                "//\r\n",
                "let _aadTenantId = aadTenantId;\r\n",
                "let _environmentName = environmentName;\r\n",
                "let _startDate = startDate;\r\n",
                "let _endDate = endDate;\r\n",
                "traces\r\n",
                "| where 1==1 \r\n",
                "    and timestamp >= todatetime(_startDate)\r\n",
                "    and timestamp <= todatetime(_endDate) + totimespan(24h) - totimespan(1ms)   \r\n",
                "    and customDimensions.aadTenantId == _aadTenantId\r\n",
                "    and customDimensions.environmentName == _environmentName\r\n",
                "    and customDimensions.eventId == 'RT0006'\r\n",
                "| extend alObjectId = toint(customDimensions.alObjectId)\r\n",
                "| where alObjectId between (50000 .. 99999) or alObjectId between (1000000 .. 74999999)\r\n",
                "| extend codeOwnership = case(\r\n",
                "      alObjectId between (50000 .. 99999), 'ENVIRONMENT'\r\n",
                "    , alObjectId between (1000000 .. 69999999), 'ISV_ONPREM'\r\n",
                "    , alObjectId between (70000000 .. 74999999), 'ISV_ONLINE'\r\n",
                "    , 'MICROSOFT'\r\n",
                ")\r\n",
                "| project numberOfRows = toint(customDimensions.numberOfRows)\r\n",
                ", sqlRowsRead = toint( customDimensions.sqlRowsRead )\r\n",
                ", sqlExecutes = toint( customDimensions.sqlExecutes )\r\n",
                ", alObjectName = tostring( customDimensions.alObjectName )\r\n",
                ", alObjectId = tostring( customDimensions.alObjectId )\r\n",
                ", codeOwnership\r\n",
                ", extensionPublisher = tostring(customDimensions.extensionPublisher )\r\n",
                "| where isnotnull( sqlExecutes ) and isnotnull( sqlRowsRead )\r\n",
                "| summarize numberOfReportExecutions=count(), totalRows=sum(numberOfRows), totalSQLExecutes = sum(sqlExecutes), totalSQLRowsRead = sum(sqlRowsRead) \r\n",
                "by alObjectId, alObjectName, codeOwnership\r\n",
                "| extend sqlratio = toreal(totalSQLRowsRead)/totalSQLExecutes\r\n",
                ", datasetratio = toreal(totalRows)/totalSQLExecutes\r\n",
                "| order by sqlratio asc\r\n",
                "| limit 10"
            ],
            "metadata": {
                "azdata_cell_guid": "593a264d-6673-471c-a835-0a5d5daec84c"
            },
            "outputs": [
                {
                    "output_type": "display_data",
                    "data": {
                        "text/plain": "<IPython.core.display.HTML object>",
                        "text/html": "<html>\n        <head>\n            \n            \n        </head>\n        <body>\n            <div><p style='padding: 10px; color: #3a87ad; background-color: #d9edf7; border-color: #bce9f1'>&nbsp;&nbsp;&nbsp;962fbf96-f15e-4d37-8f91-13cae96f4b3e@applicationinsights<br>&nbsp;*&nbsp;add_Application_ID_id_from_the_Application_Insights_portal_under_API_access@applicationinsights</p></div>\n        </body>\n        </html>"
                    },
                    "metadata": {}
                },
                {
                    "output_type": "display_data",
                    "data": {
                        "text/plain": "<IPython.core.display.HTML object>",
                        "text/html": "<html>\n        <head>\n            \n            \n        </head>\n        <body>\n            <div><p style='padding: 10px; color: #b94a48; background-color: #f2dede; border-color: #eed3d7'>KqlError:&nbsp;{&quot;error&quot;:{&quot;message&quot;:&quot;The&nbsp;requested&nbsp;path&nbsp;does&nbsp;not&nbsp;exist&quot;,&quot;code&quot;:&quot;PathNotFoundError&quot;,&quot;correlationId&quot;:&quot;905188c9-c007-47b4-950f-bc58c8f74a4e&quot;}}</p></div>\n        </body>\n        </html>"
                    },
                    "metadata": {}
                }
            ],
            "execution_count": 41
        },
        {
            "cell_type": "markdown",
            "source": [
                "## Slow AL code (only available from version 17.1)\n",
                "\n",
                "Learn more about how to write performant AL code here in the performance tuning guide: [https://docs.microsoft.com/en-us/dynamics365/business-central/dev-itpro/performance/performance-developer#al-performance-patterns](https://docs.microsoft.com/en-us/dynamics365/business-central/dev-itpro/performance/performance-developer#al-performance-patterns)\n",
                "\n",
                "Long running AL method telemetry docs: [https://docs.microsoft.com/en-us/dynamics365/business-central/dev-itpro/administration/telemetry-al-method-trace](https://docs.microsoft.com/en-us/dynamics365/business-central/dev-itpro/administration/telemetry-al-method-trace)\n",
                "\n",
                "KQL samples:\n",
                "\n",
                "-   [https://github.com/microsoft/BCTech/blob/master/samples/AppInsights/KQL/Queries/RawData/LongRunningAL.kq](https://github.com/microsoft/BCTech/blob/master/samples/AppInsights/KQL/Queries/RawData/LongRunningAL.kql)l\n",
                "-   [https://github.com/microsoft/BCTech/blob/master/samples/AppInsights/KQL/Queries/PerformanceTuning/SlowALMethods.kql](https://github.com/microsoft/BCTech/blob/master/samples/AppInsights/KQL/Queries/PerformanceTuning/SlowALMethods.kql)"
            ],
            "metadata": {
                "azdata_cell_guid": "42a5907b-2566-4d05-a50c-ea56c91ce55d"
            }
        },
        {
            "cell_type": "code",
            "source": [
                "%%kql\r\n",
                "let _aadTenantId = aadTenantId;\r\n",
                "let _environmentName = environmentName;\r\n",
                "let _startDate = startDate;\r\n",
                "let _endDate = endDate;\r\n",
                "traces\r\n",
                "| where 1==1 \r\n",
                "    and timestamp >= todatetime(_startDate)\r\n",
                "    and timestamp <= todatetime(_endDate) + totimespan(24h) - totimespan(1ms)   \r\n",
                "    and customDimensions.aadTenantId == _aadTenantId\r\n",
                "    and customDimensions.environmentName == _environmentName\r\n",
                "    and customDimensions.eventId == 'RT0018'\r\n",
                "| extend alObjectId = toint(customDimensions.alObjectId)\r\n",
                "| where alObjectId between (50000 .. 99999) or alObjectId between (1000000 .. 74999999)\r\n",
                "| extend codeOwnership = case(\r\n",
                "      alObjectId between (50000 .. 99999), 'ENVIRONMENT'\r\n",
                "    , alObjectId between (1000000 .. 69999999), 'ISV_ONPREM'\r\n",
                "    , alObjectId between (70000000 .. 74999999), 'ISV_ONLINE'\r\n",
                "    , 'MICROSOFT'\r\n",
                ")    \r\n",
                "| extend clientType = tostring( customDimensions.clientType )\r\n",
                "| summarize count=count() by clientType, bin(timestamp, 1d)\r\n",
                "| render timechart title= 'Number of long running AL methods (shown by client/session type)'"
            ],
            "metadata": {
                "azdata_cell_guid": "9a066ca8-c5d3-488a-a367-43ab321e0575"
            },
            "outputs": [
                {
                    "output_type": "display_data",
                    "data": {
                        "text/plain": "<IPython.core.display.HTML object>",
                        "text/html": "<html>\n        <head>\n            \n            \n        </head>\n        <body>\n            <div><p style='padding: 10px; color: #3a87ad; background-color: #d9edf7; border-color: #bce9f1'>&nbsp;&nbsp;&nbsp;962fbf96-f15e-4d37-8f91-13cae96f4b3e@applicationinsights<br>&nbsp;*&nbsp;add_Application_ID_id_from_the_Application_Insights_portal_under_API_access@applicationinsights</p></div>\n        </body>\n        </html>"
                    },
                    "metadata": {}
                },
                {
                    "output_type": "display_data",
                    "data": {
                        "text/plain": "<IPython.core.display.HTML object>",
                        "text/html": "<html>\n        <head>\n            \n            \n        </head>\n        <body>\n            <div><p style='padding: 10px; color: #b94a48; background-color: #f2dede; border-color: #eed3d7'>KqlError:&nbsp;{&quot;error&quot;:{&quot;message&quot;:&quot;The&nbsp;requested&nbsp;path&nbsp;does&nbsp;not&nbsp;exist&quot;,&quot;code&quot;:&quot;PathNotFoundError&quot;,&quot;correlationId&quot;:&quot;bb1ec5a8-f11d-4bce-af22-d368a3c55420&quot;}}</p></div>\n        </body>\n        </html>"
                    },
                    "metadata": {}
                }
            ],
            "execution_count": 42
        },
        {
            "cell_type": "code",
            "source": [
                "%%kql\r\n",
                "// Top 20 slowest AL methods\r\n",
                "//\r\n",
                "// \r\n",
                "let _aadTenantId = aadTenantId;\r\n",
                "let _environmentName = environmentName;\r\n",
                "let _startDate = startDate;\r\n",
                "let _endDate = endDate;\r\n",
                "traces\r\n",
                "| where 1==1 \r\n",
                "    and timestamp >= todatetime(_startDate)\r\n",
                "    and timestamp <= todatetime(_endDate) + totimespan(24h) - totimespan(1ms)   \r\n",
                "    and customDimensions.aadTenantId == _aadTenantId\r\n",
                "    and customDimensions.environmentName == _environmentName\r\n",
                "    and customDimensions.eventId == 'RT0018'\r\n",
                "| extend alObjectId = toint(customDimensions.alObjectId)\r\n",
                "| where alObjectId between (50000 .. 99999) or alObjectId between (1000000 .. 74999999)\r\n",
                "| extend codeOwnership = case(\r\n",
                "      alObjectId between (50000 .. 99999), 'ENVIRONMENT'\r\n",
                "    , alObjectId between (1000000 .. 69999999), 'ISV_ONPREM'\r\n",
                "    , alObjectId between (70000000 .. 74999999), 'ISV_ONLINE'\r\n",
                "    , 'MICROSOFT'\r\n",
                ")    \r\n",
                "| extend \r\n",
                "  alMethod = tostring( customDimensions.alMethod )\r\n",
                ", alObjectName = tostring( customDimensions.alObjectName )\r\n",
                ", alObjectType = tostring(customDimensions.alObjectType)\r\n",
                ", executionTime = customDimensions.executionTime\r\n",
                ", executionTimeInMS = toreal(totimespan(customDimensions.executionTime))/10000 //the datatype for executionTime is timespan \r\n",
                ", extensionName = tostring( customDimensions.extensionName )\r\n",
                "| extend executionTimeInSec = round(executionTimeInMS / 1000, 2)\r\n",
                "| summarize count(), avg( executionTimeInSec ), min( executionTimeInSec ), max( executionTimeInSec ), percentile(executionTimeInSec, 95) by alMethod, alObjectType, alObjectId, alObjectName, extensionName\r\n",
                "| order by avg_executionTimeInSec desc \r\n",
                "| limit 20"
            ],
            "metadata": {
                "azdata_cell_guid": "6fec11d2-85b8-4469-b260-4c9b9da4047e"
            },
            "outputs": [
                {
                    "output_type": "display_data",
                    "data": {
                        "text/plain": "<IPython.core.display.HTML object>",
                        "text/html": "<html>\n        <head>\n            \n            \n        </head>\n        <body>\n            <div><p style='padding: 10px; color: #3a87ad; background-color: #d9edf7; border-color: #bce9f1'>&nbsp;&nbsp;&nbsp;962fbf96-f15e-4d37-8f91-13cae96f4b3e@applicationinsights<br>&nbsp;*&nbsp;add_Application_ID_id_from_the_Application_Insights_portal_under_API_access@applicationinsights</p></div>\n        </body>\n        </html>"
                    },
                    "metadata": {}
                },
                {
                    "output_type": "display_data",
                    "data": {
                        "text/plain": "<IPython.core.display.HTML object>",
                        "text/html": "<html>\n        <head>\n            \n            \n        </head>\n        <body>\n            <div><p style='padding: 10px; color: #b94a48; background-color: #f2dede; border-color: #eed3d7'>KqlError:&nbsp;{&quot;error&quot;:{&quot;message&quot;:&quot;The&nbsp;requested&nbsp;path&nbsp;does&nbsp;not&nbsp;exist&quot;,&quot;code&quot;:&quot;PathNotFoundError&quot;,&quot;correlationId&quot;:&quot;fc57bc35-1cf1-4e9f-8fc9-247ef166a263&quot;}}</p></div>\n        </body>\n        </html>"
                    },
                    "metadata": {}
                }
            ],
            "execution_count": 43
        },
        {
            "cell_type": "markdown",
            "source": [
                "## Page views (only available in BC Online (SaaS))\n",
                "\n",
                "Page view telemetry docs: [https://docs.microsoft.com/en-us/dynamics365/business-central/dev-itpro/administration/telemetry-page-view-trace](https://docs.microsoft.com/en-us/dynamics365/business-central/dev-itpro/administration/telemetry-page-view-trace)\n",
                "\n",
                "KQL samples: [https://github.com/microsoft/BCTech/blob/master/samples/AppInsights/KQL/RawData/PageViews.kql](https://github.com/microsoft/BCTech/blob/master/samples/AppInsights/KQL/RawData/PageViews.kql)"
            ],
            "metadata": {
                "azdata_cell_guid": "1452b8b6-3c5f-4b36-b259-33298826a8fb"
            }
        },
        {
            "cell_type": "code",
            "source": [
                "%%kql\r\n",
                "//\r\n",
                "// Top 10 longest page times (partner-added pages)\r\n",
                "// \r\n",
                "let _aadTenantId = aadTenantId;\r\n",
                "let _environmentName = environmentName;\r\n",
                "let _startDate = startDate;\r\n",
                "let _endDate = endDate;\r\n",
                "pageViews\r\n",
                "| where 1==1 \r\n",
                "    and timestamp >= todatetime(_startDate)\r\n",
                "    and timestamp <= todatetime(_endDate) + totimespan(24h) - totimespan(1ms)   \r\n",
                "    and customDimensions.aadTenantId == _aadTenantId\r\n",
                "    and customDimensions.environmentName == _environmentName\r\n",
                "| extend alObjectId = toint(customDimensions.alObjectId)\r\n",
                "| where alObjectId between (50000 .. 99999) or alObjectId between (1000000 .. 74999999)\r\n",
                "| extend objectId = tostring(customDimensions.alObjectId)\r\n",
                "| extend codeOwnership = case(\r\n",
                "      alObjectId between (50000 .. 99999), 'ENVIRONMENT'\r\n",
                "    , alObjectId between (1000000 .. 69999999), 'ISV_ONPREM'\r\n",
                "    , alObjectId between (70000000 .. 74999999), 'ISV_ONLINE'\r\n",
                "    , 'MICROSOFT'\r\n",
                ")\r\n",
                "| summarize median_load_time_in_MS = percentile(duration,50) by pageName=name, objectId\r\n",
                "| order by median_load_time_in_MS desc\r\n",
                "| limit 10"
            ],
            "metadata": {
                "azdata_cell_guid": "6595bc25-3cbf-4b37-bc4f-c62e9d2e2810"
            },
            "outputs": [
                {
                    "output_type": "display_data",
                    "data": {
                        "text/plain": "<IPython.core.display.HTML object>",
                        "text/html": "<html>\n        <head>\n            \n            \n        </head>\n        <body>\n            <div><p style='padding: 10px; color: #3a87ad; background-color: #d9edf7; border-color: #bce9f1'>&nbsp;&nbsp;&nbsp;962fbf96-f15e-4d37-8f91-13cae96f4b3e@applicationinsights<br>&nbsp;*&nbsp;add_Application_ID_id_from_the_Application_Insights_portal_under_API_access@applicationinsights</p></div>\n        </body>\n        </html>"
                    },
                    "metadata": {}
                },
                {
                    "output_type": "display_data",
                    "data": {
                        "text/plain": "<IPython.core.display.HTML object>",
                        "text/html": "<html>\n        <head>\n            \n            \n        </head>\n        <body>\n            <div><p style='padding: 10px; color: #b94a48; background-color: #f2dede; border-color: #eed3d7'>KqlError:&nbsp;{&quot;error&quot;:{&quot;message&quot;:&quot;The&nbsp;requested&nbsp;path&nbsp;does&nbsp;not&nbsp;exist&quot;,&quot;code&quot;:&quot;PathNotFoundError&quot;,&quot;correlationId&quot;:&quot;022ecf65-76f2-4cd2-816d-1d22fa1d33b5&quot;}}</p></div>\n        </body>\n        </html>"
                    },
                    "metadata": {}
                }
            ],
            "execution_count": 44
        }
    ]
}