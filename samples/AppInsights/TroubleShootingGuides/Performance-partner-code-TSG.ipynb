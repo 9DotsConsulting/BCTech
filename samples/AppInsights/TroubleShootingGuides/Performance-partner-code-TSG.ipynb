{
    "metadata": {
        "kernelspec": {
            "name": "python3",
            "display_name": "Python 3"
        },
        "language_info": {
            "name": "python",
            "version": "3.6.6",
            "mimetype": "text/x-python",
            "codemirror_mode": {
                "name": "ipython",
                "version": 3
            },
            "pygments_lexer": "ipython3",
            "nbconvert_exporter": "python",
            "file_extension": ".py"
        }
    },
    "nbformat_minor": 2,
    "nbformat": 4,
    "cells": [
        {
            "cell_type": "markdown",
            "source": [
                "# Dynamics 365 Business Central Trouble Shooting Guide (TSG) - Performance analysis (partner code issues)\r\n",
                "\r\n",
                "This notebook contains Kusto queries that can help getting to the root cause of a performance issue for an environment. \r\n",
                "\r\n",
                "The notebook highlights issues for object ids in the ranges [50000..99999] and [1 mio..60 mio] and can be used to find performance problems in code in per-tenant extensions or app source extensions.\r\n",
                "\r\n",
                "Each section in the notebook contains links to the performance tuning guide on docs [aka.ms/bcperformance](aka.ms/bcperformance),  links to the documentation of relevant telemetry in [aka.ms/bctelemetry](aka.ms/bctelemetry), as well as Kusto queries that help dive into a specific area (sessions, web service requests, database calls, reports, and page load times).\r\n",
                "\r\n",
                "NB! Some of the signal used in this notebook is only available in newer versions of Business Central, so check the version of your environment if some sections do not return any data. The signal documentation states in which version a given signal was introduced."
            ],
            "metadata": {
                "azdata_cell_guid": "1f608a1d-2436-4b48-80d4-5c4d2f8ca7d0"
            }
        },
        {
            "cell_type": "markdown",
            "source": [
                "## 1. Connect to Application Insights\r\n",
                "First you need to set the notebook Kernel to Python3, load the KQLmagic module (did you install it?) and connect to your Application Insights resource (get appid and appkey from the API access page in the Application Insights portal)"
            ],
            "metadata": {
                "azdata_cell_guid": "f103fae9-cf6d-40f7-9062-11ce50691046"
            }
        },
        {
            "cell_type": "code",
            "source": [
                "# load the KQLmagic module\r\n",
                "%reload_ext Kqlmagic"
            ],
            "metadata": {
                "azdata_cell_guid": "a253fa8e-6ac2-4722-a00a-1c52aedab4ed",
                "tags": []
            },
            "outputs": [],
            "execution_count": 16
        },
        {
            "cell_type": "code",
            "source": [
                "# Connect to the Application Insights API\r\n",
                "%kql appinsights://appid='<add app id from the Application Insights portal>';appkey='<add API key from the Application Insights portal>'"
            ],
            "metadata": {
                "azdata_cell_guid": "1de8537e-0291-45b2-8741-047441208e42"
            },
            "outputs": [
                {
                    "data": {
                        "text/plain": "<IPython.core.display.HTML object>",
                        "text/html": "<html>\n        <head>\n            \n            \n        </head>\n        <body>\n            <div><p style='padding: 10px; color: #b94a48; background-color: #f2dede; border-color: #eed3d7'>KqlError:&nbsp;{&quot;error&quot;:{&quot;message&quot;:&quot;The&nbsp;requested&nbsp;path&nbsp;does&nbsp;not&nbsp;exist&quot;,&quot;code&quot;:&quot;PathNotFoundError&quot;,&quot;correlationId&quot;:&quot;0f027a72-f135-4df5-aa4e-11b9abba55f9&quot;}}</p></div>\n        </body>\n        </html>"
                    },
                    "metadata": {},
                    "output_type": "display_data"
                }
            ],
            "execution_count": 17
        },
        {
            "cell_type": "markdown",
            "source": [
                "## 2. Define filters\r\n",
                "This workbook is designed for troubleshooting a single environment. Please provide values for aadTenantId and environmentName: "
            ],
            "metadata": {
                "azdata_cell_guid": "9ef1220c-d9cc-4552-9297-1428efcafb32"
            }
        },
        {
            "cell_type": "code",
            "source": [
                "aadTenantId = \"<Add AAD tenant id here>\"\r\n",
                "environmentName = \"<add environment name here>\"\r\n",
                "\r\n",
                "# date filters for the analysis\r\n",
                "# use YYYY-MM-DD format for the dates (ISO 8601)\r\n",
                "startDate = \"2020-09-20\"\r\n",
                "endDate = \"2020-09-27\""
            ],
            "metadata": {
                "azdata_cell_guid": "0a0785f7-a85e-4ccf-9020-732e1d4c058a",
                "tags": []
            },
            "outputs": [],
            "execution_count": 18
        },
        {
            "cell_type": "markdown",
            "source": [
                "# Analyze performance\r\n",
                "Now you can run Kusto queries to look for possible root causes for performance issues.\r\n",
                "\r\n",
                "Either click **Run All** above to run all sections, or scroll down to the type of analysis you want to do and manually run queries"
            ],
            "metadata": {
                "azdata_cell_guid": "5f9b698d-8a7e-4757-b27d-02f219d6c589"
            }
        },
        {
            "cell_type": "markdown",
            "source": [
                "## Web service requests\r\n",
                "\r\n",
                "Performance tuning guide: https://docs.microsoft.com/en-us/dynamics365/business-central/dev-itpro/performance/performance-developer#writing-efficient-web-services\r\n",
                "\r\n",
                "Web service telemetry docs: https://docs.microsoft.com/en-us/dynamics365/business-central/dev-itpro/administration/telemetry-webservices-trace\r\n",
                "\r\n",
                "KQL samples: https://github.com/microsoft/BCTech/blob/master/samples/AppInsights/KQL/RawData/WebServiceCalls.kql"
            ],
            "metadata": {
                "azdata_cell_guid": "2f9c2d0d-df3c-482b-af58-48416a517117"
            }
        },
        {
            "cell_type": "code",
            "source": [
                "%%kql\r\n",
                "let _aadTenantId = aadTenantId;\r\n",
                "let _environmentName = environmentName;\r\n",
                "let _startDate = startDate;\r\n",
                "let _endDate = endDate;\r\n",
                "traces\r\n",
                "| where 1==1 \r\n",
                "    and timestamp >= todatetime(_startDate)\r\n",
                "    and timestamp <= todatetime(_endDate) + totimespan(24h) - totimespan(1ms)   \r\n",
                "    and customDimensions.aadTenantId == _aadTenantId\r\n",
                "    and customDimensions.environmentName == _environmentName\r\n",
                "    and customDimensions.eventId == 'RT0006'\r\n",
                "| extend alObjectId = toint(customDimensions.alObjectId)\r\n",
                "| where alObjectId between (50000 .. 99999) or alObjectId between (1000000 .. 60000000)\r\n",
                "| extend category = tostring( customDimensions.category )\r\n",
                "| summarize request_count=count() by category, bin(timestamp, 1d)\r\n",
                "| render timechart title= 'Number of web service requests by category endpoints (in partner code)'"
            ],
            "metadata": {
                "azdata_cell_guid": "a9e923e9-1d05-4acf-a230-4c5142bc3582",
                "tags": []
            },
            "outputs": [
                {
                    "data": {
                        "text/plain": "<IPython.core.display.HTML object>",
                        "text/html": "<html>\n        <head>\n            \n            \n        </head>\n        <body>\n            <div><p style='padding: 10px; color: #3a87ad; background-color: #d9edf7; border-color: #bce9f1'>&nbsp;&nbsp;&nbsp;962fbf96-f15e-4d37-8f91-13cae96f4b3e@applicationinsights<br>&nbsp;*&nbsp;add_app_id_from_the_Application_Insights_portal@applicationinsights</p></div>\n        </body>\n        </html>"
                    },
                    "metadata": {},
                    "output_type": "display_data"
                },
                {
                    "data": {
                        "text/plain": "<IPython.core.display.HTML object>",
                        "text/html": "<html>\n        <head>\n            \n            \n        </head>\n        <body>\n            <div><p style='padding: 10px; color: #b94a48; background-color: #f2dede; border-color: #eed3d7'>KqlError:&nbsp;{&quot;error&quot;:{&quot;message&quot;:&quot;The&nbsp;requested&nbsp;path&nbsp;does&nbsp;not&nbsp;exist&quot;,&quot;code&quot;:&quot;PathNotFoundError&quot;,&quot;correlationId&quot;:&quot;ffa97689-14b0-43a0-b899-e6094160c98a&quot;}}</p></div>\n        </body>\n        </html>"
                    },
                    "metadata": {},
                    "output_type": "display_data"
                }
            ],
            "execution_count": 19
        },
        {
            "cell_type": "code",
            "source": [
                "%%kql\r\n",
                "let _aadTenantId = aadTenantId;\r\n",
                "let _environmentName = environmentName;\r\n",
                "let _startDate = startDate;\r\n",
                "let _endDate = endDate;\r\n",
                "traces\r\n",
                "| where 1==1 \r\n",
                "    and timestamp >= todatetime(_startDate)\r\n",
                "    and timestamp <= todatetime(_endDate) + totimespan(24h) - totimespan(1ms)   \r\n",
                "    and customDimensions.aadTenantId == _aadTenantId\r\n",
                "    and customDimensions.environmentName == _environmentName\r\n",
                "    and customDimensions.eventId == 'RT0008'\r\n",
                "| extend alObjectId = toint(customDimensions.alObjectId)\r\n",
                "| where alObjectId between (50000 .. 99999) or alObjectId between (1000000 .. 60000000)\r\n",
                "| extend category = tostring( customDimensions.category )\r\n",
                "       , executionTimeInMS = toreal(totimespan(customDimensions.serverExecutionTime))/10000 //the datatype for executionTime is timespan \r\n",
                "| summarize count=count() by executionTime_ms = bin(executionTimeInMS, 100), category\r\n",
                "| order by category, executionTime_ms asc\r\n",
                "| render columnchart with  (ycolumns = count, series = category, title= 'Execution time (in ms) of web service requests by category (in partner code)' ) \r\n",
                ""
            ],
            "metadata": {
                "azdata_cell_guid": "e4e56e1a-ab5d-427a-bc49-747e6ae34a75"
            },
            "outputs": [
                {
                    "data": {
                        "text/plain": "<IPython.core.display.HTML object>",
                        "text/html": "<html>\n        <head>\n            \n            \n        </head>\n        <body>\n            <div><p style='padding: 10px; color: #3a87ad; background-color: #d9edf7; border-color: #bce9f1'>&nbsp;&nbsp;&nbsp;962fbf96-f15e-4d37-8f91-13cae96f4b3e@applicationinsights<br>&nbsp;*&nbsp;add_app_id_from_the_Application_Insights_portal@applicationinsights</p></div>\n        </body>\n        </html>"
                    },
                    "metadata": {},
                    "output_type": "display_data"
                },
                {
                    "data": {
                        "text/plain": "<IPython.core.display.HTML object>",
                        "text/html": "<html>\n        <head>\n            \n            \n        </head>\n        <body>\n            <div><p style='padding: 10px; color: #b94a48; background-color: #f2dede; border-color: #eed3d7'>KqlError:&nbsp;{&quot;error&quot;:{&quot;message&quot;:&quot;The&nbsp;requested&nbsp;path&nbsp;does&nbsp;not&nbsp;exist&quot;,&quot;code&quot;:&quot;PathNotFoundError&quot;,&quot;correlationId&quot;:&quot;d1c58ce0-867b-4c01-bc96-d2fad74dcfba&quot;}}</p></div>\n        </body>\n        </html>"
                    },
                    "metadata": {},
                    "output_type": "display_data"
                }
            ],
            "execution_count": 20
        },
        {
            "cell_type": "code",
            "source": [
                "%%kql\r\n",
                "// \r\n",
                "// top 20 most expensive web service calls (partner code)\r\n",
                "// \r\n",
                "let _aadTenantId = aadTenantId;\r\n",
                "let _environmentName = environmentName;\r\n",
                "let _startDate = startDate;\r\n",
                "let _endDate = endDate;\r\n",
                "traces\r\n",
                "| where 1==1 \r\n",
                "    and timestamp >= todatetime(_startDate)\r\n",
                "    and timestamp <= todatetime(_endDate) + totimespan(24h) - totimespan(1ms)   \r\n",
                "    and customDimensions.aadTenantId == _aadTenantId\r\n",
                "    and customDimensions.environmentName == _environmentName\r\n",
                "    and customDimensions.eventId == 'RT0008'\r\n",
                "| extend alObjectId = toint(customDimensions.alObjectId)\r\n",
                "| where alObjectId between (50000 .. 99999) or alObjectId between (1000000 .. 60000000)\r\n",
                "| extend category = tostring( customDimensions.category )\r\n",
                "       , endpoint = tostring( customDimensions.endpoint )\r\n",
                "       , executionTimeInMS = toreal(totimespan(customDimensions.serverExecutionTime))/10000 //the datatype for executionTime is timespan \r\n",
                "| summarize count=count(), medianExecutionTimeInMS=percentile(executionTimeInMS, 50) by alObjectId, category, endpoint\r\n",
                "| order by medianExecutionTimeInMS desc\r\n",
                "| limit 20"
            ],
            "metadata": {
                "azdata_cell_guid": "e7a06658-0325-433a-94ff-3ab5c0a2eb67"
            },
            "outputs": [
                {
                    "data": {
                        "text/plain": "<IPython.core.display.HTML object>",
                        "text/html": "<html>\n        <head>\n            \n            \n        </head>\n        <body>\n            <div><p style='padding: 10px; color: #3a87ad; background-color: #d9edf7; border-color: #bce9f1'>&nbsp;&nbsp;&nbsp;962fbf96-f15e-4d37-8f91-13cae96f4b3e@applicationinsights<br>&nbsp;*&nbsp;add_app_id_from_the_Application_Insights_portal@applicationinsights</p></div>\n        </body>\n        </html>"
                    },
                    "metadata": {},
                    "output_type": "display_data"
                },
                {
                    "data": {
                        "text/plain": "<IPython.core.display.HTML object>",
                        "text/html": "<html>\n        <head>\n            \n            \n        </head>\n        <body>\n            <div><p style='padding: 10px; color: #b94a48; background-color: #f2dede; border-color: #eed3d7'>KqlError:&nbsp;{&quot;error&quot;:{&quot;message&quot;:&quot;The&nbsp;requested&nbsp;path&nbsp;does&nbsp;not&nbsp;exist&quot;,&quot;code&quot;:&quot;PathNotFoundError&quot;,&quot;correlationId&quot;:&quot;e40e251e-bd02-4e4f-a4d3-5f1d220d5a74&quot;}}</p></div>\n        </body>\n        </html>"
                    },
                    "metadata": {},
                    "output_type": "display_data"
                }
            ],
            "execution_count": 21
        },
        {
            "cell_type": "markdown",
            "source": [
                "## Data related\r\n",
                "\r\n",
                "Performance tuning guide: \r\n",
                "* [Efficient data access](https://docs.microsoft.com/en-us/dynamics365/business-central/dev-itpro/performance/performance-developer#efficient-data-access)\r\n",
                "* [Avoid locking](https://docs.microsoft.com/en-us/dynamics365/business-central/dev-itpro/performance/performance-application#avoid-locking)\r\n",
                "\r\n",
                "Database telemetry docs: \r\n",
                "* https://docs.microsoft.com/en-us/dynamics365/business-central/dev-itpro/administration/telemetry-long-running-sql-query-trace\r\n",
                "* https://docs.microsoft.com/en-us/dynamics365/business-central/dev-itpro/administration/telemetry-database-locks-trace\r\n",
                "\r\n",
                "KQL samples:\r\n",
                "* https://github.com/microsoft/BCTech/blob/master/samples/AppInsights/KQL/RawData/Long%20Running%20SQL%20Queries.kql\r\n",
                "* https://github.com/microsoft/BCTech/blob/master/samples/AppInsights/KQL/RawData/LockTimeouts.kql\r\n",
                ""
            ],
            "metadata": {
                "azdata_cell_guid": "2f7e604a-0d02-484e-9bcb-a6aa148d5f0b"
            }
        },
        {
            "cell_type": "code",
            "source": [
                "%%kql\r\n",
                "let _aadTenantId = aadTenantId;\r\n",
                "let _environmentName = environmentName;\r\n",
                "let _startDate = startDate;\r\n",
                "let _endDate = endDate;\r\n",
                "traces\r\n",
                "| where 1==1 \r\n",
                "    and timestamp >= todatetime(_startDate)\r\n",
                "    and timestamp <= todatetime(_endDate) + totimespan(24h) - totimespan(1ms)   \r\n",
                "    and customDimensions.aadTenantId == _aadTenantId\r\n",
                "    and customDimensions.environmentName == _environmentName\r\n",
                "    and customDimensions.eventId == 'RT0005'\r\n",
                "| extend alObjectId = toint(customDimensions.alObjectId)\r\n",
                "| where alObjectId between (50000 .. 99999) or alObjectId between (1000000 .. 60000000)\r\n",
                "| summarize count() by bin(timestamp, 1d)\r\n",
                "| render timechart title= 'Number of long running SQL queries (in partner code)'"
            ],
            "metadata": {
                "azdata_cell_guid": "9ec9b678-7d66-4758-9101-4e9e5025dfcf",
                "tags": []
            },
            "outputs": [
                {
                    "data": {
                        "text/plain": "<IPython.core.display.HTML object>",
                        "text/html": "<html>\n        <head>\n            \n            \n        </head>\n        <body>\n            <div><p style='padding: 10px; color: #3a87ad; background-color: #d9edf7; border-color: #bce9f1'>&nbsp;&nbsp;&nbsp;962fbf96-f15e-4d37-8f91-13cae96f4b3e@applicationinsights<br>&nbsp;*&nbsp;add_app_id_from_the_Application_Insights_portal@applicationinsights</p></div>\n        </body>\n        </html>"
                    },
                    "metadata": {},
                    "output_type": "display_data"
                },
                {
                    "data": {
                        "text/plain": "<IPython.core.display.HTML object>",
                        "text/html": "<html>\n        <head>\n            \n            \n        </head>\n        <body>\n            <div><p style='padding: 10px; color: #b94a48; background-color: #f2dede; border-color: #eed3d7'>KqlError:&nbsp;{&quot;error&quot;:{&quot;message&quot;:&quot;The&nbsp;requested&nbsp;path&nbsp;does&nbsp;not&nbsp;exist&quot;,&quot;code&quot;:&quot;PathNotFoundError&quot;,&quot;correlationId&quot;:&quot;500465c7-bf24-45b8-9677-82d0e566da6c&quot;}}</p></div>\n        </body>\n        </html>"
                    },
                    "metadata": {},
                    "output_type": "display_data"
                }
            ],
            "execution_count": 22
        },
        {
            "cell_type": "code",
            "source": [
                "%%kql\r\n",
                "// \r\n",
                "// top 20 most expensive long running sql queries (in partner code)\r\n",
                "// \r\n",
                "let _aadTenantId = aadTenantId;\r\n",
                "let _environmentName = environmentName;\r\n",
                "let _startDate = startDate;\r\n",
                "let _endDate = endDate;\r\n",
                "traces\r\n",
                "| where 1==1 \r\n",
                "    and timestamp >= todatetime(_startDate)\r\n",
                "    and timestamp <= todatetime(_endDate) + totimespan(24h) - totimespan(1ms)   \r\n",
                "    and customDimensions.aadTenantId == _aadTenantId\r\n",
                "    and customDimensions.environmentName == _environmentName\r\n",
                "    and customDimensions.eventId == 'RT0005'\r\n",
                "| extend alObjectId = toint(customDimensions.alObjectId)\r\n",
                "       , alObjectName = toint(customDimensions.alObject)\r\n",
                "       , executionTimeInMS = toreal(totimespan(customDimensions.executionTime))/10000 //the datatype for executionTime is timespan \r\n",
                "| where alObjectId between (50000 .. 99999) or alObjectId between (1000000 .. 60000000)\r\n",
                "| summarize count(), avg(executionTimeInMS) by alObjectId\r\n",
                "| limit 20"
            ],
            "metadata": {
                "azdata_cell_guid": "36d2980d-2d0a-4066-957f-7648fe1b240b"
            },
            "outputs": [
                {
                    "data": {
                        "text/plain": "<IPython.core.display.HTML object>",
                        "text/html": "<html>\n        <head>\n            \n            \n        </head>\n        <body>\n            <div><p style='padding: 10px; color: #3a87ad; background-color: #d9edf7; border-color: #bce9f1'>&nbsp;&nbsp;&nbsp;962fbf96-f15e-4d37-8f91-13cae96f4b3e@applicationinsights<br>&nbsp;*&nbsp;add_app_id_from_the_Application_Insights_portal@applicationinsights</p></div>\n        </body>\n        </html>"
                    },
                    "metadata": {},
                    "output_type": "display_data"
                },
                {
                    "data": {
                        "text/plain": "<IPython.core.display.HTML object>",
                        "text/html": "<html>\n        <head>\n            \n            \n        </head>\n        <body>\n            <div><p style='padding: 10px; color: #b94a48; background-color: #f2dede; border-color: #eed3d7'>KqlError:&nbsp;{&quot;error&quot;:{&quot;message&quot;:&quot;The&nbsp;requested&nbsp;path&nbsp;does&nbsp;not&nbsp;exist&quot;,&quot;code&quot;:&quot;PathNotFoundError&quot;,&quot;correlationId&quot;:&quot;673ba625-7dde-43a6-8fff-8d96102d4495&quot;}}</p></div>\n        </body>\n        </html>"
                    },
                    "metadata": {},
                    "output_type": "display_data"
                }
            ],
            "execution_count": 23
        },
        {
            "cell_type": "code",
            "source": [
                "%%kql\r\n",
                "let _aadTenantId = aadTenantId;\r\n",
                "let _environmentName = environmentName;\r\n",
                "let _startDate = startDate;\r\n",
                "let _endDate = endDate;\r\n",
                "traces\r\n",
                "| where 1==1 \r\n",
                "    and timestamp >= todatetime(_startDate)\r\n",
                "    and timestamp <= todatetime(_endDate) + totimespan(24h) - totimespan(1ms)   \r\n",
                "    and customDimensions.aadTenantId == _aadTenantId\r\n",
                "    and customDimensions.environmentName == _environmentName\r\n",
                "    and customDimensions.eventId == 'RT0012'\r\n",
                "| extend alObjectId = toint(customDimensions.alObjectId)\r\n",
                "| where alObjectId between (50000 .. 99999) or alObjectId between (1000000 .. 60000000)\r\n",
                "| summarize request_count=count() by bin(timestamp, 1d)\r\n",
                "| render timechart title= 'Number of database lock timeouts (in partner code)'"
            ],
            "metadata": {
                "azdata_cell_guid": "3ee52ced-9377-46a5-865a-528cceb6b335"
            },
            "outputs": [
                {
                    "data": {
                        "text/plain": "<IPython.core.display.HTML object>",
                        "text/html": "<html>\n        <head>\n            \n            \n        </head>\n        <body>\n            <div><p style='padding: 10px; color: #3a87ad; background-color: #d9edf7; border-color: #bce9f1'>&nbsp;&nbsp;&nbsp;962fbf96-f15e-4d37-8f91-13cae96f4b3e@applicationinsights<br>&nbsp;*&nbsp;add_app_id_from_the_Application_Insights_portal@applicationinsights</p></div>\n        </body>\n        </html>"
                    },
                    "metadata": {},
                    "output_type": "display_data"
                },
                {
                    "data": {
                        "text/plain": "<IPython.core.display.HTML object>",
                        "text/html": "<html>\n        <head>\n            \n            \n        </head>\n        <body>\n            <div><p style='padding: 10px; color: #b94a48; background-color: #f2dede; border-color: #eed3d7'>KqlError:&nbsp;{&quot;error&quot;:{&quot;message&quot;:&quot;The&nbsp;requested&nbsp;path&nbsp;does&nbsp;not&nbsp;exist&quot;,&quot;code&quot;:&quot;PathNotFoundError&quot;,&quot;correlationId&quot;:&quot;867f3069-664b-487f-9c81-fdf6d7a2cca7&quot;}}</p></div>\n        </body>\n        </html>"
                    },
                    "metadata": {},
                    "output_type": "display_data"
                }
            ],
            "execution_count": 24
        },
        {
            "cell_type": "code",
            "source": [
                "%%kql\r\n",
                "// \r\n",
                "// partner code units where database lock timeouts occur\r\n",
                "// \r\n",
                "let _aadTenantId = aadTenantId;\r\n",
                "let _environmentName = environmentName;\r\n",
                "let _startDate = startDate;\r\n",
                "let _endDate = endDate;\r\n",
                "traces\r\n",
                "| where 1==1 \r\n",
                "    and timestamp >= todatetime(_startDate)\r\n",
                "    and timestamp <= todatetime(_endDate) + totimespan(24h) - totimespan(1ms)   \r\n",
                "    and customDimensions.aadTenantId == _aadTenantId\r\n",
                "    and customDimensions.environmentName == _environmentName\r\n",
                "    and customDimensions.eventId == 'RT0012'\r\n",
                "| extend alObjectId = toint(customDimensions.alObjectId)\r\n",
                "| where alObjectId between (50000 .. 99999) or alObjectId between (1000000 .. 60000000)\r\n",
                "| summarize timeout_count=count() by alObjectId\r\n",
                "| order by timeout_count"
            ],
            "metadata": {
                "azdata_cell_guid": "82119fb5-180d-4ead-b1ae-198adcd8c0b6"
            },
            "outputs": [
                {
                    "data": {
                        "text/plain": "<IPython.core.display.HTML object>",
                        "text/html": "<html>\n        <head>\n            \n            \n        </head>\n        <body>\n            <div><p style='padding: 10px; color: #3a87ad; background-color: #d9edf7; border-color: #bce9f1'>&nbsp;&nbsp;&nbsp;962fbf96-f15e-4d37-8f91-13cae96f4b3e@applicationinsights<br>&nbsp;*&nbsp;add_app_id_from_the_Application_Insights_portal@applicationinsights</p></div>\n        </body>\n        </html>"
                    },
                    "metadata": {},
                    "output_type": "display_data"
                },
                {
                    "data": {
                        "text/plain": "<IPython.core.display.HTML object>",
                        "text/html": "<html>\n        <head>\n            \n            \n        </head>\n        <body>\n            <div><p style='padding: 10px; color: #b94a48; background-color: #f2dede; border-color: #eed3d7'>KqlError:&nbsp;{&quot;error&quot;:{&quot;message&quot;:&quot;The&nbsp;requested&nbsp;path&nbsp;does&nbsp;not&nbsp;exist&quot;,&quot;code&quot;:&quot;PathNotFoundError&quot;,&quot;correlationId&quot;:&quot;a6cf83c0-01fa-4a77-992a-bafd7b6670be&quot;}}</p></div>\n        </body>\n        </html>"
                    },
                    "metadata": {},
                    "output_type": "display_data"
                }
            ],
            "execution_count": 25
        },
        {
            "cell_type": "markdown",
            "source": [
                "## Reports\r\n",
                "\r\n",
                "Learn more about how to write performant reports here in the performance tuning guide: https://docs.microsoft.com/en-us/dynamics365/business-central/dev-itpro/performance/performance-developer#writing-efficient-reports\r\n",
                "\r\n",
                "Report telemetry docs: https://docs.microsoft.com/en-us/dynamics365/business-central/dev-itpro/administration/telemetry-reports-trace\r\n",
                "\r\n",
                "KQL samples: \r\n",
                "* https://github.com/microsoft/BCTech/blob/master/samples/AppInsights/KQL/RawData/Reports.kql\r\n",
                "* https://github.com/microsoft/BCTech/blob/master/samples/AppInsights/KQL/PerformanceTuning/ReportExecution.kql"
            ],
            "metadata": {
                "azdata_cell_guid": "9e51a638-4e8d-413b-bc03-87bc8cac36a3"
            }
        },
        {
            "cell_type": "code",
            "source": [
                "%%kql\r\n",
                "let _aadTenantId = aadTenantId;\r\n",
                "let _environmentName = environmentName;\r\n",
                "let _startDate = startDate;\r\n",
                "let _endDate = endDate;\r\n",
                "traces\r\n",
                "| where 1==1 \r\n",
                "    and timestamp >= todatetime(_startDate)\r\n",
                "    and timestamp <= todatetime(_endDate) + totimespan(24h) - totimespan(1ms)   \r\n",
                "    and customDimensions.aadTenantId == _aadTenantId\r\n",
                "    and customDimensions.environmentName == _environmentName\r\n",
                "    and customDimensions.eventId == 'RT0006'\r\n",
                "| extend alObjectId = toint(customDimensions.alObjectId)\r\n",
                "| where alObjectId between (50000 .. 99999) or alObjectId between (1000000 .. 60000000)\r\n",
                "| extend clientType = tostring( customDimensions.clientType )\r\n",
                "       , reportName = tostring( customDimensions.alObjectName )\r\n",
                "| where reportName <> ''\r\n",
                "| summarize count=count() by clientType, bin(timestamp, 1d)\r\n",
                "| render timechart title= 'Number of report execution by client/session type (partner reports)'"
            ],
            "metadata": {
                "azdata_cell_guid": "21e5d398-4a06-4ab9-a0e3-6e6263725dec"
            },
            "outputs": [
                {
                    "data": {
                        "text/plain": "<IPython.core.display.HTML object>",
                        "text/html": "<html>\n        <head>\n            \n            \n        </head>\n        <body>\n            <div><p style='padding: 10px; color: #3a87ad; background-color: #d9edf7; border-color: #bce9f1'>&nbsp;&nbsp;&nbsp;962fbf96-f15e-4d37-8f91-13cae96f4b3e@applicationinsights<br>&nbsp;*&nbsp;add_app_id_from_the_Application_Insights_portal@applicationinsights</p></div>\n        </body>\n        </html>"
                    },
                    "metadata": {},
                    "output_type": "display_data"
                },
                {
                    "data": {
                        "text/plain": "<IPython.core.display.HTML object>",
                        "text/html": "<html>\n        <head>\n            \n            \n        </head>\n        <body>\n            <div><p style='padding: 10px; color: #b94a48; background-color: #f2dede; border-color: #eed3d7'>KqlError:&nbsp;{&quot;error&quot;:{&quot;message&quot;:&quot;The&nbsp;requested&nbsp;path&nbsp;does&nbsp;not&nbsp;exist&quot;,&quot;code&quot;:&quot;PathNotFoundError&quot;,&quot;correlationId&quot;:&quot;a1946439-6746-4fc4-8217-215180f89e2f&quot;}}</p></div>\n        </body>\n        </html>"
                    },
                    "metadata": {},
                    "output_type": "display_data"
                }
            ],
            "execution_count": 26
        },
        {
            "cell_type": "code",
            "source": [
                "%%kql\r\n",
                "let _aadTenantId = aadTenantId;\r\n",
                "let _environmentName = environmentName;\r\n",
                "let _startDate = startDate;\r\n",
                "let _endDate = endDate;\r\n",
                "traces\r\n",
                "| where 1==1 \r\n",
                "    and timestamp >= todatetime(_startDate)\r\n",
                "    and timestamp <= todatetime(_endDate) + totimespan(24h) - totimespan(1ms)   \r\n",
                "    and customDimensions.aadTenantId == _aadTenantId\r\n",
                "    and customDimensions.environmentName == _environmentName\r\n",
                "    and customDimensions.eventId == 'RT0006'\r\n",
                "| extend alObjectId = toint(customDimensions.alObjectId)\r\n",
                "| where alObjectId between (50000 .. 99999) or alObjectId between (1000000 .. 60000000)\r\n",
                "| extend reportName = tostring( customDimensions.alObjectName )\r\n",
                "       , executionTimeInSec = toreal(totimespan(customDimensions.totalTime))/10000000 //the datatype for executionTime is timespan \r\n",
                "| where reportName <> ''\r\n",
                "| summarize avg=avg(executionTimeInSec), median=percentile(executionTimeInSec, 50), percentile95=percentile(executionTimeInSec, 95), max=max(executionTimeInSec)   \r\n",
                "  by reportName\r\n",
                "| order by percentile95\r\n",
                "| limit 10\r\n",
                "| render columnchart with  (title= 'Execution time stats of (partner) reports by report name (top 10 by 95% percentile)', ytitle='Time (in seconds)' ) "
            ],
            "metadata": {
                "azdata_cell_guid": "80670aee-4a06-44da-8b8f-b0bb8124ef12"
            },
            "outputs": [
                {
                    "data": {
                        "text/plain": "<IPython.core.display.HTML object>",
                        "text/html": "<html>\n        <head>\n            \n            \n        </head>\n        <body>\n            <div><p style='padding: 10px; color: #3a87ad; background-color: #d9edf7; border-color: #bce9f1'>&nbsp;&nbsp;&nbsp;962fbf96-f15e-4d37-8f91-13cae96f4b3e@applicationinsights<br>&nbsp;*&nbsp;add_app_id_from_the_Application_Insights_portal@applicationinsights</p></div>\n        </body>\n        </html>"
                    },
                    "metadata": {},
                    "output_type": "display_data"
                },
                {
                    "data": {
                        "text/plain": "<IPython.core.display.HTML object>",
                        "text/html": "<html>\n        <head>\n            \n            \n        </head>\n        <body>\n            <div><p style='padding: 10px; color: #b94a48; background-color: #f2dede; border-color: #eed3d7'>KqlError:&nbsp;{&quot;error&quot;:{&quot;message&quot;:&quot;The&nbsp;requested&nbsp;path&nbsp;does&nbsp;not&nbsp;exist&quot;,&quot;code&quot;:&quot;PathNotFoundError&quot;,&quot;correlationId&quot;:&quot;0691f703-2a4a-466b-8ae1-481a2d750d66&quot;}}</p></div>\n        </body>\n        </html>"
                    },
                    "metadata": {},
                    "output_type": "display_data"
                }
            ],
            "execution_count": 27
        },
        {
            "cell_type": "code",
            "source": [
                "%%kql\r\n",
                "// \r\n",
                "// top 20 most expensive reports (in partner code)\r\n",
                "// \r\n",
                "let _aadTenantId = aadTenantId;\r\n",
                "let _environmentName = environmentName;\r\n",
                "let _startDate = startDate;\r\n",
                "let _endDate = endDate;\r\n",
                "traces\r\n",
                "| where 1==1 \r\n",
                "    and timestamp >= todatetime(_startDate)\r\n",
                "    and timestamp <= todatetime(_endDate) + totimespan(24h) - totimespan(1ms)   \r\n",
                "    and customDimensions.aadTenantId == _aadTenantId\r\n",
                "    and customDimensions.environmentName == _environmentName\r\n",
                "    and customDimensions.eventId == 'RT0006'\r\n",
                "| extend alObjectId = toint(customDimensions.alObjectId)\r\n",
                "| where alObjectId between (50000 .. 99999) or alObjectId between (1000000 .. 60000000)\r\n",
                "| extend reportName = tostring( customDimensions.alObjectName )\r\n",
                "       , executionTimeInSec = toreal(totimespan(customDimensions.totalTime))/10000000 //the datatype for executionTime is timespan \r\n",
                "| where reportName <> ''\r\n",
                "| summarize avg=avg(executionTimeInSec), median=percentile(executionTimeInSec, 50), percentile95=percentile(executionTimeInSec, 95), max=max(executionTimeInSec)   \r\n",
                "  by reportName\r\n",
                "| order by percentile95\r\n",
                "| limit 20"
            ],
            "metadata": {
                "azdata_cell_guid": "ac9f9201-e3cc-41ae-958c-f532de3717ec"
            },
            "outputs": [
                {
                    "data": {
                        "text/plain": "<IPython.core.display.HTML object>",
                        "text/html": "<html>\n        <head>\n            \n            \n        </head>\n        <body>\n            <div><p style='padding: 10px; color: #3a87ad; background-color: #d9edf7; border-color: #bce9f1'>&nbsp;&nbsp;&nbsp;962fbf96-f15e-4d37-8f91-13cae96f4b3e@applicationinsights<br>&nbsp;*&nbsp;add_app_id_from_the_Application_Insights_portal@applicationinsights</p></div>\n        </body>\n        </html>"
                    },
                    "metadata": {},
                    "output_type": "display_data"
                },
                {
                    "data": {
                        "text/plain": "<IPython.core.display.HTML object>",
                        "text/html": "<html>\n        <head>\n            \n            \n        </head>\n        <body>\n            <div><p style='padding: 10px; color: #b94a48; background-color: #f2dede; border-color: #eed3d7'>KqlError:&nbsp;{&quot;error&quot;:{&quot;message&quot;:&quot;The&nbsp;requested&nbsp;path&nbsp;does&nbsp;not&nbsp;exist&quot;,&quot;code&quot;:&quot;PathNotFoundError&quot;,&quot;correlationId&quot;:&quot;4d87913f-0f26-4438-ac10-899fff268982&quot;}}</p></div>\n        </body>\n        </html>"
                    },
                    "metadata": {},
                    "output_type": "display_data"
                }
            ],
            "execution_count": 28
        },
        {
            "cell_type": "code",
            "source": [
                "%%kql\r\n",
                "// \r\n",
                "// top 10 reports that have a low sqlratio\r\n",
                "// \r\n",
                "// The higher the number called sqlratio is, the more set-based the report is (it tells you how many sql rows are read per sql statement)\r\n",
                "//\r\n",
                "let _aadTenantId = aadTenantId;\r\n",
                "let _environmentName = environmentName;\r\n",
                "let _startDate = startDate;\r\n",
                "let _endDate = endDate;\r\n",
                "traces\r\n",
                "| where 1==1 \r\n",
                "    and timestamp >= todatetime(_startDate)\r\n",
                "    and timestamp <= todatetime(_endDate) + totimespan(24h) - totimespan(1ms)   \r\n",
                "    and customDimensions.aadTenantId == _aadTenantId\r\n",
                "    and customDimensions.environmentName == _environmentName\r\n",
                "    and customDimensions.eventId == 'RT0006'\r\n",
                "| extend alObjectId = toint(customDimensions.alObjectId)\r\n",
                "| where alObjectId between (50000 .. 99999) or alObjectId between (1000000 .. 60000000)\r\n",
                "| project numberOfRows = toint(customDimensions.numberOfRows)\r\n",
                ", sqlRowsRead = toint( customDimensions.sqlRowsRead )\r\n",
                ", sqlExecutes = toint( customDimensions.sqlExecutes )\r\n",
                ", alObjectName = tostring( customDimensions.alObjectName )\r\n",
                ", alObjectId = tostring( customDimensions.alObjectId )\r\n",
                ", extensionPublisher = tostring(customDimensions.extensionPublisher )\r\n",
                "| where isnotnull( sqlExecutes ) and isnotnull( sqlRowsRead )\r\n",
                "| summarize numberOfReportExecutions=count(), totalRows=sum(numberOfRows), totalSQLExecutes = sum(sqlExecutes), totalSQLRowsRead = sum(sqlRowsRead) by alObjectId, alObjectName\r\n",
                "| extend sqlratio = toreal(totalSQLRowsRead)/totalSQLExecutes\r\n",
                ", datasetratio = toreal(totalRows)/totalSQLExecutes\r\n",
                "| order by sqlratio asc\r\n",
                "| limit 10"
            ],
            "metadata": {
                "azdata_cell_guid": "593a264d-6673-471c-a835-0a5d5daec84c"
            },
            "outputs": [
                {
                    "data": {
                        "text/plain": "<IPython.core.display.HTML object>",
                        "text/html": "<html>\n        <head>\n            \n            \n        </head>\n        <body>\n            <div><p style='padding: 10px; color: #3a87ad; background-color: #d9edf7; border-color: #bce9f1'>&nbsp;&nbsp;&nbsp;962fbf96-f15e-4d37-8f91-13cae96f4b3e@applicationinsights<br>&nbsp;*&nbsp;add_app_id_from_the_Application_Insights_portal@applicationinsights</p></div>\n        </body>\n        </html>"
                    },
                    "metadata": {},
                    "output_type": "display_data"
                },
                {
                    "data": {
                        "text/plain": "<IPython.core.display.HTML object>",
                        "text/html": "<html>\n        <head>\n            \n            \n        </head>\n        <body>\n            <div><p style='padding: 10px; color: #b94a48; background-color: #f2dede; border-color: #eed3d7'>KqlError:&nbsp;{&quot;error&quot;:{&quot;message&quot;:&quot;The&nbsp;requested&nbsp;path&nbsp;does&nbsp;not&nbsp;exist&quot;,&quot;code&quot;:&quot;PathNotFoundError&quot;,&quot;correlationId&quot;:&quot;be9436b7-e040-40dc-9676-fdce8cf8bb30&quot;}}</p></div>\n        </body>\n        </html>"
                    },
                    "metadata": {},
                    "output_type": "display_data"
                }
            ],
            "execution_count": 29
        },
        {
            "cell_type": "markdown",
            "source": [
                "## Page views\r\n",
                "\r\n",
                "\r\n",
                "Page view telemetry docs: https://docs.microsoft.com/en-us/dynamics365/business-central/dev-itpro/administration/telemetry-page-view-trace\r\n",
                "\r\n",
                "KQL samples: https://github.com/microsoft/BCTech/blob/master/samples/AppInsights/KQL/RawData/PageViews.kql"
            ],
            "metadata": {
                "azdata_cell_guid": "1452b8b6-3c5f-4b36-b259-33298826a8fb"
            }
        },
        {
            "cell_type": "code",
            "source": [
                "%%kql\r\n",
                "//\r\n",
                "// Top 10 longest page times (partner-added pages)\r\n",
                "// \r\n",
                "let _aadTenantId = aadTenantId;\r\n",
                "let _environmentName = environmentName;\r\n",
                "let _startDate = startDate;\r\n",
                "let _endDate = endDate;\r\n",
                "pageViews\r\n",
                "| where 1==1 \r\n",
                "    and timestamp >= todatetime(_startDate)\r\n",
                "    and timestamp <= todatetime(_endDate) + totimespan(24h) - totimespan(1ms)   \r\n",
                "    and customDimensions.aadTenantId == _aadTenantId\r\n",
                "    and customDimensions.environmentName == _environmentName\r\n",
                "| extend alObjectId = toint(customDimensions.alObjectId)\r\n",
                "| where alObjectId between (50000 .. 99999) or alObjectId between (1000000 .. 60000000)\r\n",
                "| extend objectId = tostring(customDimensions.alObjectId)\r\n",
                "| summarize median_load_time_in_MS = percentile(duration,50) by pageName=name, objectId\r\n",
                "| order by median_load_time_in_MS desc\r\n",
                "| limit 10"
            ],
            "metadata": {
                "azdata_cell_guid": "6595bc25-3cbf-4b37-bc4f-c62e9d2e2810"
            },
            "outputs": [
                {
                    "data": {
                        "text/plain": "<IPython.core.display.HTML object>",
                        "text/html": "<html>\n        <head>\n            \n            \n        </head>\n        <body>\n            <div><p style='padding: 10px; color: #3a87ad; background-color: #d9edf7; border-color: #bce9f1'>&nbsp;&nbsp;&nbsp;962fbf96-f15e-4d37-8f91-13cae96f4b3e@applicationinsights<br>&nbsp;*&nbsp;add_app_id_from_the_Application_Insights_portal@applicationinsights</p></div>\n        </body>\n        </html>"
                    },
                    "metadata": {},
                    "output_type": "display_data"
                },
                {
                    "data": {
                        "text/plain": "<IPython.core.display.HTML object>",
                        "text/html": "<html>\n        <head>\n            \n            \n        </head>\n        <body>\n            <div><p style='padding: 10px; color: #b94a48; background-color: #f2dede; border-color: #eed3d7'>KqlError:&nbsp;{&quot;error&quot;:{&quot;message&quot;:&quot;The&nbsp;requested&nbsp;path&nbsp;does&nbsp;not&nbsp;exist&quot;,&quot;code&quot;:&quot;PathNotFoundError&quot;,&quot;correlationId&quot;:&quot;57ffe9e5-203a-40ed-8cd9-3a8f47b80132&quot;}}</p></div>\n        </body>\n        </html>"
                    },
                    "metadata": {},
                    "output_type": "display_data"
                }
            ],
            "execution_count": 30
        }
    ]
}