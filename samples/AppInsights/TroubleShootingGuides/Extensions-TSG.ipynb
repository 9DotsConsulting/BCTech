{
    "metadata": {
        "kernelspec": {
            "name": "python3",
            "display_name": "Python 3"
        },
        "language_info": {
            "name": "python",
            "version": "3.6.6",
            "mimetype": "text/x-python",
            "codemirror_mode": {
                "name": "ipython",
                "version": 3
            },
            "pygments_lexer": "ipython3",
            "nbconvert_exporter": "python",
            "file_extension": ".py"
        }
    },
    "nbformat_minor": 2,
    "nbformat": 4,
    "cells": [
        {
            "cell_type": "markdown",
            "source": [
                "# Dynamics 365 Business Central Trouble Shooting Guide (TSG) - Extensions\r\n",
                "\r\n",
                "This notebook contains Kusto queries that can help getting to the root cause of an issue with extensions for one or more environments. \r\n",
                "\r\n",
                "NB! Some of the signal used in this notebook is only available in newer versions of Business Central, so check the version of your environment if some sections do not return any data. The signal documentation states in which version a given signal was introduced."
            ],
            "metadata": {
                "azdata_cell_guid": "1f608a1d-2436-4b48-80d4-5c4d2f8ca7d0"
            }
        },
        {
            "cell_type": "markdown",
            "source": [
                "## 1. Connect to Application Insights\r\n",
                "First you need to set the notebook Kernel to Python3, load the KQLmagic module (did you install it?) and connect to your Application Insights resource (get appid and appkey from the API access page in the Application Insights portal)"
            ],
            "metadata": {
                "azdata_cell_guid": "f103fae9-cf6d-40f7-9062-11ce50691046"
            }
        },
        {
            "cell_type": "code",
            "source": [
                "# load the KQLmagic module\r\n",
                "%reload_ext Kqlmagic"
            ],
            "metadata": {
                "azdata_cell_guid": "5d02aa4b-9e41-474f-b643-2fbd482077af"
            },
            "outputs": [],
            "execution_count": 20
        },
        {
            "cell_type": "code",
            "source": [
                "# Connect to the Application Insights API\r\n",
                "%kql appinsights://appid='<add app id from the Application Insights portal>';appkey='<add API key from the Application Insights portal>'\r\n",
                ""
            ],
            "metadata": {
                "azdata_cell_guid": "a253fa8e-6ac2-4722-a00a-1c52aedab4ed",
                "tags": []
            },
            "outputs": [],
            "execution_count": 21
        },
        {
            "cell_type": "markdown",
            "source": [
                "## 2. Define filters\r\n",
                "This workbook is designed for troubleshooting extensions. Please provide values for aadTenantId, environmentName, and extensionId.\r\n",
                "\r\n",
                "You can also specify limits to the period of time that the analysis should include."
            ],
            "metadata": {
                "azdata_cell_guid": "9ef1220c-d9cc-4552-9297-1428efcafb32"
            }
        },
        {
            "cell_type": "code",
            "source": [
                "# Add values for AAD tenant id, environment name, and extension id here\r\n",
                "#\r\n",
                "# It is possible to leave one or more values blank (if you want to analyze across all values of the parameter)\r\n",
                "# \r\n",
                "aadTenantId = \"\"\r\n",
                "environmentName = \"\"\r\n",
                "extensionId = \"\"\r\n",
                "\r\n",
                "# date filters for the analysis\r\n",
                "# use YYYY-MM-DD format for the dates (ISO 8601)\r\n",
                "startDate = \"2020-09-20\"\r\n",
                "endDate = \"2020-09-27\""
            ],
            "metadata": {
                "azdata_cell_guid": "0a0785f7-a85e-4ccf-9020-732e1d4c058a",
                "tags": []
            },
            "outputs": [],
            "execution_count": 22
        },
        {
            "cell_type": "markdown",
            "source": [
                "# Analyze extension events\r\n",
                "Now you can run Kusto queries to look for possible root causes for issues about extensions.\r\n",
                "\r\n",
                "Either click **Run All** above to run all sections, or scroll down to the type of analysis you want to do and manually run queries"
            ],
            "metadata": {
                "azdata_cell_guid": "5f9b698d-8a7e-4757-b27d-02f219d6c589"
            }
        },
        {
            "cell_type": "markdown",
            "source": [
                "## Extension event overview\r\n",
                "\r\n",
                "Event telemetry docs: \r\n",
                "* https://docs.microsoft.com/en-us/dynamics365/business-central/dev-itpro/administration/telemetry-extension-lifecycle-trace\r\n",
                "* https://docs.microsoft.com/en-us/dynamics365/business-central/dev-itpro/administration/telemetry-extension-update-trace\r\n",
                "\r\n",
                "KQL samples: https://github.com/microsoft/BCTech/blob/master/samples/AppInsights/KQL/RawData/ExtensionLifecycle.kql"
            ],
            "metadata": {
                "azdata_cell_guid": "2f9c2d0d-df3c-482b-af58-48416a517117"
            }
        },
        {
            "cell_type": "code",
            "source": [
                "%%kql\r\n",
                "//\r\n",
                "// extension event types stats \r\n",
                "// \r\n",
                "let _aadTenantId = aadTenantId;\r\n",
                "let _environmentName = environmentName;\r\n",
                "let _extensionId = extensionId;\r\n",
                "let _startDate = startDate;\r\n",
                "let _endDate = endDate;\r\n",
                "traces\r\n",
                "| where 1==1 \r\n",
                "    and timestamp >= todatetime(_startDate)\r\n",
                "    and timestamp <= todatetime(_endDate) + totimespan(24h) - totimespan(1ms)\r\n",
                "    and (_aadTenantId == '' or customDimensions.aadTenantId == _aadTenantId)\r\n",
                "    and (_environmentName == '' or customDimensions.environmentName == _environmentName )\r\n",
                "    and (_extensionId == '' or customDimensions.extensionId == _extensionId)    \r\n",
                "    and customDimensions.eventId in ('RT0010', 'LC0010', 'LC0011', 'LC0012', 'LC0013', 'LC0014', 'LC0015', 'LC0016', 'LC0017', 'LC0018', 'LC0019', 'LC020', 'LC021', 'LC022', 'LC023')    \r\n",
                "| extend aadTenantId=tostring( customDimensions.aadTenantId)\r\n",
                "       , environmentName=tostring( customDimensions.environmentName )\r\n",
                "       , extensionId=tostring( customDimensions.extensionId )\r\n",
                "       , eventId=tostring(customDimensions.eventId)\r\n",
                "| extend eventMessageShort=case(\r\n",
                "              eventId=='RT0010', strcat(eventId, ': Extension Update Failed (exception raised in upgrade code)')\r\n",
                "            , eventId=='LC0010', strcat(eventId, ': Extension installed successfully')\r\n",
                "            , eventId=='LC0011', strcat(eventId, ': Extension failed to install')\r\n",
                "            , eventId=='LC0012', strcat(eventId, ': Extension synchronized successfully')            \r\n",
                "            , eventId=='LC0013', strcat(eventId, ': Extension failed to synchronize')            \r\n",
                "            , eventId=='LC0014', strcat(eventId, ': Extension published successfully')            \r\n",
                "            , eventId=='LC0015', strcat(eventId, ': Extension failed to publish')            \r\n",
                "            , eventId=='LC0016', strcat(eventId, ': Extension un-installed successfully')            \r\n",
                "            , eventId=='LC0017', strcat(eventId, ': Extension failed to un-install')            \r\n",
                "            , eventId=='LC0018', strcat(eventId, ': Extension unpublished successfully')\r\n",
                "            , eventId=='LC0019', strcat(eventId, ': Extension failed to un-publish')\r\n",
                "            , eventId=='LC0020', strcat(eventId, ': Extension compiled successfully')\r\n",
                "            , eventId=='LC0021', strcat(eventId, ': Extension failed to compile')\r\n",
                "            , eventId=='LC0022', strcat(eventId, ': Extension updated successfully')\r\n",
                "            , eventId=='LC0023', strcat(eventId, ': Extension failed to update')\r\n",
                "            , strcat( eventId, ': Unknown message')\r\n",
                "         )\r\n",
                "| summarize count() by eventMessageShort\r\n",
                "| order by eventMessageShort\r\n",
                "| render barchart with (title='Extension lifecycle event overview', legend=hidden)"
            ],
            "metadata": {
                "azdata_cell_guid": "a9e923e9-1d05-4acf-a230-4c5142bc3582",
                "tags": []
            },
            "outputs": [
                {
                    "data": {
                        "text/plain": "<IPython.core.display.HTML object>",
                        "text/html": "<html>\n        <head>\n            \n            \n        </head>\n        <body>\n            <div><p style='padding: 10px; color: #3a87ad; background-color: #d9edf7; border-color: #bce9f1'>&nbsp;*&nbsp;962fbf96-f15e-4d37-8f91-13cae96f4b3e@applicationinsights</p></div>\n        </body>\n        </html>"
                    },
                    "metadata": {},
                    "output_type": "display_data"
                },
                {
                    "data": {
                        "application/vnd.plotly.v1+json": {
                            "config": {
                                "plotlyServerURL": "https://plot.ly"
                            },
                            "data": [
                                {
                                    "marker": {
                                        "color": "rgb(31, 118, 179)"
                                    },
                                    "name": "count_",
                                    "orientation": "h",
                                    "type": "bar",
                                    "x": [
                                        27,
                                        28,
                                        1,
                                        33,
                                        59,
                                        696,
                                        34
                                    ],
                                    "y": [
                                        "LC0018: Extension unpublished successfully",
                                        "LC0016: Extension un-installed successfully",
                                        "LC0015: Extension failed to publish",
                                        "LC0014: Extension published successfully",
                                        "LC0013: Extension failed to synchronize",
                                        "LC0012: Extension synchronized successfully",
                                        "LC0010: Extension installed successfully"
                                    ]
                                }
                            ],
                            "layout": {
                                "showlegend": false,
                                "template": {
                                    "data": {
                                        "bar": [
                                            {
                                                "error_x": {
                                                    "color": "#2a3f5f"
                                                },
                                                "error_y": {
                                                    "color": "#2a3f5f"
                                                },
                                                "marker": {
                                                    "line": {
                                                        "color": "#E5ECF6",
                                                        "width": 0.5
                                                    }
                                                },
                                                "type": "bar"
                                            }
                                        ],
                                        "barpolar": [
                                            {
                                                "marker": {
                                                    "line": {
                                                        "color": "#E5ECF6",
                                                        "width": 0.5
                                                    }
                                                },
                                                "type": "barpolar"
                                            }
                                        ],
                                        "carpet": [
                                            {
                                                "aaxis": {
                                                    "endlinecolor": "#2a3f5f",
                                                    "gridcolor": "white",
                                                    "linecolor": "white",
                                                    "minorgridcolor": "white",
                                                    "startlinecolor": "#2a3f5f"
                                                },
                                                "baxis": {
                                                    "endlinecolor": "#2a3f5f",
                                                    "gridcolor": "white",
                                                    "linecolor": "white",
                                                    "minorgridcolor": "white",
                                                    "startlinecolor": "#2a3f5f"
                                                },
                                                "type": "carpet"
                                            }
                                        ],
                                        "choropleth": [
                                            {
                                                "colorbar": {
                                                    "outlinewidth": 0,
                                                    "ticks": ""
                                                },
                                                "type": "choropleth"
                                            }
                                        ],
                                        "contour": [
                                            {
                                                "colorbar": {
                                                    "outlinewidth": 0,
                                                    "ticks": ""
                                                },
                                                "colorscale": [
                                                    [
                                                        0,
                                                        "#0d0887"
                                                    ],
                                                    [
                                                        0.1111111111111111,
                                                        "#46039f"
                                                    ],
                                                    [
                                                        0.2222222222222222,
                                                        "#7201a8"
                                                    ],
                                                    [
                                                        0.3333333333333333,
                                                        "#9c179e"
                                                    ],
                                                    [
                                                        0.4444444444444444,
                                                        "#bd3786"
                                                    ],
                                                    [
                                                        0.5555555555555556,
                                                        "#d8576b"
                                                    ],
                                                    [
                                                        0.6666666666666666,
                                                        "#ed7953"
                                                    ],
                                                    [
                                                        0.7777777777777778,
                                                        "#fb9f3a"
                                                    ],
                                                    [
                                                        0.8888888888888888,
                                                        "#fdca26"
                                                    ],
                                                    [
                                                        1,
                                                        "#f0f921"
                                                    ]
                                                ],
                                                "type": "contour"
                                            }
                                        ],
                                        "contourcarpet": [
                                            {
                                                "colorbar": {
                                                    "outlinewidth": 0,
                                                    "ticks": ""
                                                },
                                                "type": "contourcarpet"
                                            }
                                        ],
                                        "heatmap": [
                                            {
                                                "colorbar": {
                                                    "outlinewidth": 0,
                                                    "ticks": ""
                                                },
                                                "colorscale": [
                                                    [
                                                        0,
                                                        "#0d0887"
                                                    ],
                                                    [
                                                        0.1111111111111111,
                                                        "#46039f"
                                                    ],
                                                    [
                                                        0.2222222222222222,
                                                        "#7201a8"
                                                    ],
                                                    [
                                                        0.3333333333333333,
                                                        "#9c179e"
                                                    ],
                                                    [
                                                        0.4444444444444444,
                                                        "#bd3786"
                                                    ],
                                                    [
                                                        0.5555555555555556,
                                                        "#d8576b"
                                                    ],
                                                    [
                                                        0.6666666666666666,
                                                        "#ed7953"
                                                    ],
                                                    [
                                                        0.7777777777777778,
                                                        "#fb9f3a"
                                                    ],
                                                    [
                                                        0.8888888888888888,
                                                        "#fdca26"
                                                    ],
                                                    [
                                                        1,
                                                        "#f0f921"
                                                    ]
                                                ],
                                                "type": "heatmap"
                                            }
                                        ],
                                        "heatmapgl": [
                                            {
                                                "colorbar": {
                                                    "outlinewidth": 0,
                                                    "ticks": ""
                                                },
                                                "colorscale": [
                                                    [
                                                        0,
                                                        "#0d0887"
                                                    ],
                                                    [
                                                        0.1111111111111111,
                                                        "#46039f"
                                                    ],
                                                    [
                                                        0.2222222222222222,
                                                        "#7201a8"
                                                    ],
                                                    [
                                                        0.3333333333333333,
                                                        "#9c179e"
                                                    ],
                                                    [
                                                        0.4444444444444444,
                                                        "#bd3786"
                                                    ],
                                                    [
                                                        0.5555555555555556,
                                                        "#d8576b"
                                                    ],
                                                    [
                                                        0.6666666666666666,
                                                        "#ed7953"
                                                    ],
                                                    [
                                                        0.7777777777777778,
                                                        "#fb9f3a"
                                                    ],
                                                    [
                                                        0.8888888888888888,
                                                        "#fdca26"
                                                    ],
                                                    [
                                                        1,
                                                        "#f0f921"
                                                    ]
                                                ],
                                                "type": "heatmapgl"
                                            }
                                        ],
                                        "histogram": [
                                            {
                                                "marker": {
                                                    "colorbar": {
                                                        "outlinewidth": 0,
                                                        "ticks": ""
                                                    }
                                                },
                                                "type": "histogram"
                                            }
                                        ],
                                        "histogram2d": [
                                            {
                                                "colorbar": {
                                                    "outlinewidth": 0,
                                                    "ticks": ""
                                                },
                                                "colorscale": [
                                                    [
                                                        0,
                                                        "#0d0887"
                                                    ],
                                                    [
                                                        0.1111111111111111,
                                                        "#46039f"
                                                    ],
                                                    [
                                                        0.2222222222222222,
                                                        "#7201a8"
                                                    ],
                                                    [
                                                        0.3333333333333333,
                                                        "#9c179e"
                                                    ],
                                                    [
                                                        0.4444444444444444,
                                                        "#bd3786"
                                                    ],
                                                    [
                                                        0.5555555555555556,
                                                        "#d8576b"
                                                    ],
                                                    [
                                                        0.6666666666666666,
                                                        "#ed7953"
                                                    ],
                                                    [
                                                        0.7777777777777778,
                                                        "#fb9f3a"
                                                    ],
                                                    [
                                                        0.8888888888888888,
                                                        "#fdca26"
                                                    ],
                                                    [
                                                        1,
                                                        "#f0f921"
                                                    ]
                                                ],
                                                "type": "histogram2d"
                                            }
                                        ],
                                        "histogram2dcontour": [
                                            {
                                                "colorbar": {
                                                    "outlinewidth": 0,
                                                    "ticks": ""
                                                },
                                                "colorscale": [
                                                    [
                                                        0,
                                                        "#0d0887"
                                                    ],
                                                    [
                                                        0.1111111111111111,
                                                        "#46039f"
                                                    ],
                                                    [
                                                        0.2222222222222222,
                                                        "#7201a8"
                                                    ],
                                                    [
                                                        0.3333333333333333,
                                                        "#9c179e"
                                                    ],
                                                    [
                                                        0.4444444444444444,
                                                        "#bd3786"
                                                    ],
                                                    [
                                                        0.5555555555555556,
                                                        "#d8576b"
                                                    ],
                                                    [
                                                        0.6666666666666666,
                                                        "#ed7953"
                                                    ],
                                                    [
                                                        0.7777777777777778,
                                                        "#fb9f3a"
                                                    ],
                                                    [
                                                        0.8888888888888888,
                                                        "#fdca26"
                                                    ],
                                                    [
                                                        1,
                                                        "#f0f921"
                                                    ]
                                                ],
                                                "type": "histogram2dcontour"
                                            }
                                        ],
                                        "mesh3d": [
                                            {
                                                "colorbar": {
                                                    "outlinewidth": 0,
                                                    "ticks": ""
                                                },
                                                "type": "mesh3d"
                                            }
                                        ],
                                        "parcoords": [
                                            {
                                                "line": {
                                                    "colorbar": {
                                                        "outlinewidth": 0,
                                                        "ticks": ""
                                                    }
                                                },
                                                "type": "parcoords"
                                            }
                                        ],
                                        "pie": [
                                            {
                                                "automargin": true,
                                                "type": "pie"
                                            }
                                        ],
                                        "scatter": [
                                            {
                                                "marker": {
                                                    "colorbar": {
                                                        "outlinewidth": 0,
                                                        "ticks": ""
                                                    }
                                                },
                                                "type": "scatter"
                                            }
                                        ],
                                        "scatter3d": [
                                            {
                                                "line": {
                                                    "colorbar": {
                                                        "outlinewidth": 0,
                                                        "ticks": ""
                                                    }
                                                },
                                                "marker": {
                                                    "colorbar": {
                                                        "outlinewidth": 0,
                                                        "ticks": ""
                                                    }
                                                },
                                                "type": "scatter3d"
                                            }
                                        ],
                                        "scattercarpet": [
                                            {
                                                "marker": {
                                                    "colorbar": {
                                                        "outlinewidth": 0,
                                                        "ticks": ""
                                                    }
                                                },
                                                "type": "scattercarpet"
                                            }
                                        ],
                                        "scattergeo": [
                                            {
                                                "marker": {
                                                    "colorbar": {
                                                        "outlinewidth": 0,
                                                        "ticks": ""
                                                    }
                                                },
                                                "type": "scattergeo"
                                            }
                                        ],
                                        "scattergl": [
                                            {
                                                "marker": {
                                                    "colorbar": {
                                                        "outlinewidth": 0,
                                                        "ticks": ""
                                                    }
                                                },
                                                "type": "scattergl"
                                            }
                                        ],
                                        "scattermapbox": [
                                            {
                                                "marker": {
                                                    "colorbar": {
                                                        "outlinewidth": 0,
                                                        "ticks": ""
                                                    }
                                                },
                                                "type": "scattermapbox"
                                            }
                                        ],
                                        "scatterpolar": [
                                            {
                                                "marker": {
                                                    "colorbar": {
                                                        "outlinewidth": 0,
                                                        "ticks": ""
                                                    }
                                                },
                                                "type": "scatterpolar"
                                            }
                                        ],
                                        "scatterpolargl": [
                                            {
                                                "marker": {
                                                    "colorbar": {
                                                        "outlinewidth": 0,
                                                        "ticks": ""
                                                    }
                                                },
                                                "type": "scatterpolargl"
                                            }
                                        ],
                                        "scatterternary": [
                                            {
                                                "marker": {
                                                    "colorbar": {
                                                        "outlinewidth": 0,
                                                        "ticks": ""
                                                    }
                                                },
                                                "type": "scatterternary"
                                            }
                                        ],
                                        "surface": [
                                            {
                                                "colorbar": {
                                                    "outlinewidth": 0,
                                                    "ticks": ""
                                                },
                                                "colorscale": [
                                                    [
                                                        0,
                                                        "#0d0887"
                                                    ],
                                                    [
                                                        0.1111111111111111,
                                                        "#46039f"
                                                    ],
                                                    [
                                                        0.2222222222222222,
                                                        "#7201a8"
                                                    ],
                                                    [
                                                        0.3333333333333333,
                                                        "#9c179e"
                                                    ],
                                                    [
                                                        0.4444444444444444,
                                                        "#bd3786"
                                                    ],
                                                    [
                                                        0.5555555555555556,
                                                        "#d8576b"
                                                    ],
                                                    [
                                                        0.6666666666666666,
                                                        "#ed7953"
                                                    ],
                                                    [
                                                        0.7777777777777778,
                                                        "#fb9f3a"
                                                    ],
                                                    [
                                                        0.8888888888888888,
                                                        "#fdca26"
                                                    ],
                                                    [
                                                        1,
                                                        "#f0f921"
                                                    ]
                                                ],
                                                "type": "surface"
                                            }
                                        ],
                                        "table": [
                                            {
                                                "cells": {
                                                    "fill": {
                                                        "color": "#EBF0F8"
                                                    },
                                                    "line": {
                                                        "color": "white"
                                                    }
                                                },
                                                "header": {
                                                    "fill": {
                                                        "color": "#C8D4E3"
                                                    },
                                                    "line": {
                                                        "color": "white"
                                                    }
                                                },
                                                "type": "table"
                                            }
                                        ]
                                    },
                                    "layout": {
                                        "annotationdefaults": {
                                            "arrowcolor": "#2a3f5f",
                                            "arrowhead": 0,
                                            "arrowwidth": 1
                                        },
                                        "coloraxis": {
                                            "colorbar": {
                                                "outlinewidth": 0,
                                                "ticks": ""
                                            }
                                        },
                                        "colorscale": {
                                            "diverging": [
                                                [
                                                    0,
                                                    "#8e0152"
                                                ],
                                                [
                                                    0.1,
                                                    "#c51b7d"
                                                ],
                                                [
                                                    0.2,
                                                    "#de77ae"
                                                ],
                                                [
                                                    0.3,
                                                    "#f1b6da"
                                                ],
                                                [
                                                    0.4,
                                                    "#fde0ef"
                                                ],
                                                [
                                                    0.5,
                                                    "#f7f7f7"
                                                ],
                                                [
                                                    0.6,
                                                    "#e6f5d0"
                                                ],
                                                [
                                                    0.7,
                                                    "#b8e186"
                                                ],
                                                [
                                                    0.8,
                                                    "#7fbc41"
                                                ],
                                                [
                                                    0.9,
                                                    "#4d9221"
                                                ],
                                                [
                                                    1,
                                                    "#276419"
                                                ]
                                            ],
                                            "sequential": [
                                                [
                                                    0,
                                                    "#0d0887"
                                                ],
                                                [
                                                    0.1111111111111111,
                                                    "#46039f"
                                                ],
                                                [
                                                    0.2222222222222222,
                                                    "#7201a8"
                                                ],
                                                [
                                                    0.3333333333333333,
                                                    "#9c179e"
                                                ],
                                                [
                                                    0.4444444444444444,
                                                    "#bd3786"
                                                ],
                                                [
                                                    0.5555555555555556,
                                                    "#d8576b"
                                                ],
                                                [
                                                    0.6666666666666666,
                                                    "#ed7953"
                                                ],
                                                [
                                                    0.7777777777777778,
                                                    "#fb9f3a"
                                                ],
                                                [
                                                    0.8888888888888888,
                                                    "#fdca26"
                                                ],
                                                [
                                                    1,
                                                    "#f0f921"
                                                ]
                                            ],
                                            "sequentialminus": [
                                                [
                                                    0,
                                                    "#0d0887"
                                                ],
                                                [
                                                    0.1111111111111111,
                                                    "#46039f"
                                                ],
                                                [
                                                    0.2222222222222222,
                                                    "#7201a8"
                                                ],
                                                [
                                                    0.3333333333333333,
                                                    "#9c179e"
                                                ],
                                                [
                                                    0.4444444444444444,
                                                    "#bd3786"
                                                ],
                                                [
                                                    0.5555555555555556,
                                                    "#d8576b"
                                                ],
                                                [
                                                    0.6666666666666666,
                                                    "#ed7953"
                                                ],
                                                [
                                                    0.7777777777777778,
                                                    "#fb9f3a"
                                                ],
                                                [
                                                    0.8888888888888888,
                                                    "#fdca26"
                                                ],
                                                [
                                                    1,
                                                    "#f0f921"
                                                ]
                                            ]
                                        },
                                        "colorway": [
                                            "#636efa",
                                            "#EF553B",
                                            "#00cc96",
                                            "#ab63fa",
                                            "#FFA15A",
                                            "#19d3f3",
                                            "#FF6692",
                                            "#B6E880",
                                            "#FF97FF",
                                            "#FECB52"
                                        ],
                                        "font": {
                                            "color": "#2a3f5f"
                                        },
                                        "geo": {
                                            "bgcolor": "white",
                                            "lakecolor": "white",
                                            "landcolor": "#E5ECF6",
                                            "showlakes": true,
                                            "showland": true,
                                            "subunitcolor": "white"
                                        },
                                        "hoverlabel": {
                                            "align": "left"
                                        },
                                        "hovermode": "closest",
                                        "mapbox": {
                                            "style": "light"
                                        },
                                        "paper_bgcolor": "white",
                                        "plot_bgcolor": "#E5ECF6",
                                        "polar": {
                                            "angularaxis": {
                                                "gridcolor": "white",
                                                "linecolor": "white",
                                                "ticks": ""
                                            },
                                            "bgcolor": "#E5ECF6",
                                            "radialaxis": {
                                                "gridcolor": "white",
                                                "linecolor": "white",
                                                "ticks": ""
                                            }
                                        },
                                        "scene": {
                                            "xaxis": {
                                                "backgroundcolor": "#E5ECF6",
                                                "gridcolor": "white",
                                                "gridwidth": 2,
                                                "linecolor": "white",
                                                "showbackground": true,
                                                "ticks": "",
                                                "zerolinecolor": "white"
                                            },
                                            "yaxis": {
                                                "backgroundcolor": "#E5ECF6",
                                                "gridcolor": "white",
                                                "gridwidth": 2,
                                                "linecolor": "white",
                                                "showbackground": true,
                                                "ticks": "",
                                                "zerolinecolor": "white"
                                            },
                                            "zaxis": {
                                                "backgroundcolor": "#E5ECF6",
                                                "gridcolor": "white",
                                                "gridwidth": 2,
                                                "linecolor": "white",
                                                "showbackground": true,
                                                "ticks": "",
                                                "zerolinecolor": "white"
                                            }
                                        },
                                        "shapedefaults": {
                                            "line": {
                                                "color": "#2a3f5f"
                                            }
                                        },
                                        "ternary": {
                                            "aaxis": {
                                                "gridcolor": "white",
                                                "linecolor": "white",
                                                "ticks": ""
                                            },
                                            "baxis": {
                                                "gridcolor": "white",
                                                "linecolor": "white",
                                                "ticks": ""
                                            },
                                            "bgcolor": "#E5ECF6",
                                            "caxis": {
                                                "gridcolor": "white",
                                                "linecolor": "white",
                                                "ticks": ""
                                            }
                                        },
                                        "title": {
                                            "x": 0.05
                                        },
                                        "xaxis": {
                                            "automargin": true,
                                            "gridcolor": "white",
                                            "linecolor": "white",
                                            "ticks": "",
                                            "title": {
                                                "standoff": 15
                                            },
                                            "zerolinecolor": "white",
                                            "zerolinewidth": 2
                                        },
                                        "yaxis": {
                                            "automargin": true,
                                            "gridcolor": "white",
                                            "linecolor": "white",
                                            "ticks": "",
                                            "title": {
                                                "standoff": 15
                                            },
                                            "zerolinecolor": "white",
                                            "zerolinewidth": 2
                                        }
                                    }
                                },
                                "title": {
                                    "text": "Extension lifecycle event overview"
                                },
                                "xaxis": {
                                    "ticksuffix": "",
                                    "title": {
                                        "text": "count_"
                                    },
                                    "type": "linear"
                                },
                                "yaxis": {
                                    "title": {
                                        "text": "eventMessageShort"
                                    },
                                    "type": "category"
                                }
                            }
                        }
                    },
                    "metadata": {},
                    "output_type": "display_data"
                },
                {
                    "data": {
                        "text/plain": "<IPython.core.display.HTML object>",
                        "text/html": "<html>\n        <head>\n            \n            \n        </head>\n        <body>\n            <div><p style='padding: 10px; color: #3a87ad; background-color: #d9edf7; border-color: #bce9f1'>Done&nbsp;(00:00.196):&nbsp;7&nbsp;records</p></div>\n        </body>\n        </html>"
                    },
                    "metadata": {},
                    "output_type": "display_data"
                },
                {
                    "data": {
                        "text/plain": "[{'eventMessageShort': 'LC0018: Extension unpublished successfully', 'count_': 27},\n {'eventMessageShort': 'LC0016: Extension un-installed successfully', 'count_': 28},\n {'eventMessageShort': 'LC0015: Extension failed to publish', 'count_': 1},\n {'eventMessageShort': 'LC0014: Extension published successfully', 'count_': 33},\n {'eventMessageShort': 'LC0013: Extension failed to synchronize', 'count_': 59},\n {'eventMessageShort': 'LC0012: Extension synchronized successfully', 'count_': 696},\n {'eventMessageShort': 'LC0010: Extension installed successfully', 'count_': 34}]",
                        "text/html": ""
                    },
                    "metadata": {},
                    "execution_count": 23,
                    "output_type": "execute_result"
                }
            ],
            "execution_count": 23
        },
        {
            "cell_type": "code",
            "source": [
                "%%kql\r\n",
                "//\r\n",
                "// top 100 extension events\r\n",
                "// \r\n",
                "let _aadTenantId = aadTenantId;\r\n",
                "let _environmentName = environmentName;\r\n",
                "let _extensionId = extensionId;\r\n",
                "let _startDate = startDate;\r\n",
                "let _endDate = endDate;\r\n",
                "traces\r\n",
                "| where 1==1 \r\n",
                "    and timestamp >= todatetime(_startDate)\r\n",
                "    and timestamp <= todatetime(_endDate) + totimespan(24h) - totimespan(1ms)\r\n",
                "    and (_aadTenantId == '' or customDimensions.aadTenantId == _aadTenantId)\r\n",
                "    and (_environmentName == '' or customDimensions.environmentName == _environmentName )\r\n",
                "    and (_extensionId == '' or customDimensions.extensionId == _extensionId)    \r\n",
                "    and customDimensions.eventId in ('RT0010', 'LC0010', 'LC0011', 'LC0012', 'LC0013', 'LC0014', 'LC0015', 'LC0016', 'LC0017', 'LC0018', 'LC0019', 'LC020', 'LC021', 'LC022', 'LC023')    \r\n",
                "| extend aadTenantId=tostring( customDimensions.aadTenantId)\r\n",
                "       , environmentName=tostring( customDimensions.environmentName )\r\n",
                "       , extensionId=tostring( customDimensions.extensionId )\r\n",
                "       , extensionName=tostring( customDimensions.extensionName )\r\n",
                "| limit 100\r\n",
                "| project aadTenantId, environmentName, extensionId, extensionName, timestamp, message\r\n",
                "| order by aadTenantId asc, environmentName asc, extensionId asc, timestamp desc"
            ],
            "metadata": {
                "azdata_cell_guid": "e4e56e1a-ab5d-427a-bc49-747e6ae34a75"
            },
            "outputs": [
                {
                    "data": {
                        "text/plain": "<IPython.core.display.HTML object>",
                        "text/html": "<html>\n        <head>\n            \n            \n        </head>\n        <body>\n            <div><p style='padding: 10px; color: #3a87ad; background-color: #d9edf7; border-color: #bce9f1'>&nbsp;*&nbsp;962fbf96-f15e-4d37-8f91-13cae96f4b3e@applicationinsights</p></div>\n        </body>\n        </html>"
                    },
                    "metadata": {},
                    "output_type": "display_data"
                },
                {
                    "data": {
                        "text/plain": "                             aadTenantId environmentName  \\\n0   0845cf51-2012-445e-8a44-fdd0df28584b         Sandbox   \n1   0952b452-7ca5-43a8-b4cb-9f020d64a567         Sandbox   \n2   1377ae6d-ed0c-45bd-a6cc-473f83d13e03      Production   \n3   148eff18-320d-4c99-95ac-6b1c9739195f         Sandbox   \n4   14f6e7c1-10ef-4d9c-a5b7-87592cf8d066         Sandbox   \n5   14f6e7c1-10ef-4d9c-a5b7-87592cf8d066         Sandbox   \n6   1525097a-c341-473b-b235-3def2adb15de      Production   \n7   1525097a-c341-473b-b235-3def2adb15de      Production   \n8   187ad3be-63c6-48da-b603-a00799aa63bc      Production   \n9   18a38716-7d7e-49b4-a1fe-faa1cd2b30c6         Sandbox   \n10  1abbcd26-1697-491b-b9ba-6d0654d0c491         Sandbox   \n11  1fb18377-1bc8-4f7e-a0d9-39c51318637f      Production   \n12  22fcb23d-346a-496c-b93f-94c1d2dd996a      Production   \n13  24030e4b-0ccf-4750-976b-339b88163382      Production   \n14  24030e4b-0ccf-4750-976b-339b88163382      Production   \n15  266d9139-5799-466a-be1a-759c35e2d26f      Production   \n16  266d9139-5799-466a-be1a-759c35e2d26f      Production   \n17  266d9139-5799-466a-be1a-759c35e2d26f         Sandbox   \n18  2d3184ea-e6bd-4fe7-9815-3e35d45d357a         Sandbox   \n19  2d3184ea-e6bd-4fe7-9815-3e35d45d357a         Sandbox   \n20  2d3184ea-e6bd-4fe7-9815-3e35d45d357a         Sandbox   \n21  2d3184ea-e6bd-4fe7-9815-3e35d45d357a         Sandbox   \n22  2d3184ea-e6bd-4fe7-9815-3e35d45d357a         Sandbox   \n23  2f81c8f6-74e4-47f5-9946-51c16a696bcd         Sandbox   \n24  34c8e198-ceeb-4e59-afd0-ce0f193fce6a      Production   \n25  3c27c539-b89e-49dd-bdf6-83db92a17dc0      Production   \n26  46a2bc94-ee76-4e3d-94fa-bf4780f6300f         Sandbox   \n27  46a2bc94-ee76-4e3d-94fa-bf4780f6300f         Sandbox   \n28  4ac933bf-9f7a-40c2-bf69-03d8ac3ec9d8      Production   \n29  4ac933bf-9f7a-40c2-bf69-03d8ac3ec9d8         Sandbox   \n30  4d78c9d1-86e0-4aea-901a-90c322e211db      Production   \n31  4d78c9d1-86e0-4aea-901a-90c322e211db         Sandbox   \n32  4f7334eb-dc1d-4bc2-8423-50ad417e53af      Production   \n33  50ab82b0-e27b-42b6-a9ce-ee4ccc0230d2         Sandbox   \n34  5345f8ee-16e1-46de-a099-562aee6408ca      Production   \n35  59599aa6-2c54-4376-b527-fc601bbdce59      Production   \n36  59599aa6-2c54-4376-b527-fc601bbdce59      Production   \n37  59599aa6-2c54-4376-b527-fc601bbdce59      Production   \n38  5c54f21c-9acf-4972-bce8-7cb03922ef06         Sandbox   \n39  682e4eb8-3657-4782-a81a-ca6024cb4535      Production   \n40  6d83ab61-ebe5-4c50-bbcd-d20ee76ab1d0         Sandbox   \n41  70c274e0-b8a7-4b34-9aa0-24bf69c93166      Production   \n42  70c274e0-b8a7-4b34-9aa0-24bf69c93166         Sandbox   \n43  70c274e0-b8a7-4b34-9aa0-24bf69c93166         Sandbox   \n44  72e6482d-69aa-431c-936b-b74b53e07f9e      Production   \n45  7405f083-4197-4bc2-a561-326a6c5ab191         Sandbox   \n46  7a1d0873-2b6d-48ba-817e-7133ba43c465         Sandbox   \n47  8464e843-a0a2-4fdb-b37d-8cf8fd3c969f      Production   \n48  93bf3f78-3c1c-406e-8305-a0ea4c82bdc4         Sandbox   \n49  9696a6bf-9919-4d03-839e-777ef48a07d5         Sandbox   \n50  9ab9a57d-7c82-4182-82c6-2b4a744a1a4a         Sandbox   \n51  b0642e40-4bfc-4032-bf97-b91b1890dcda         Sandbox   \n52  b101f36a-0ce0-4cf7-87a6-b6fc2cf4b22e      Production   \n53  b101f36a-0ce0-4cf7-87a6-b6fc2cf4b22e      Production   \n54  b101f36a-0ce0-4cf7-87a6-b6fc2cf4b22e      Production   \n55  b101f36a-0ce0-4cf7-87a6-b6fc2cf4b22e      Production   \n56  b101f36a-0ce0-4cf7-87a6-b6fc2cf4b22e      Production   \n57  b101f36a-0ce0-4cf7-87a6-b6fc2cf4b22e      Production   \n58  b101f36a-0ce0-4cf7-87a6-b6fc2cf4b22e      Production   \n59  b101f36a-0ce0-4cf7-87a6-b6fc2cf4b22e      Production   \n60  b101f36a-0ce0-4cf7-87a6-b6fc2cf4b22e      Production   \n61  b101f36a-0ce0-4cf7-87a6-b6fc2cf4b22e      Production   \n62  b101f36a-0ce0-4cf7-87a6-b6fc2cf4b22e      Production   \n63  b101f36a-0ce0-4cf7-87a6-b6fc2cf4b22e      Production   \n64  b101f36a-0ce0-4cf7-87a6-b6fc2cf4b22e      Production   \n65  b101f36a-0ce0-4cf7-87a6-b6fc2cf4b22e      Production   \n66  b101f36a-0ce0-4cf7-87a6-b6fc2cf4b22e      Production   \n67  b101f36a-0ce0-4cf7-87a6-b6fc2cf4b22e      Production   \n68  b101f36a-0ce0-4cf7-87a6-b6fc2cf4b22e      Production   \n69  b101f36a-0ce0-4cf7-87a6-b6fc2cf4b22e      Production   \n70  b101f36a-0ce0-4cf7-87a6-b6fc2cf4b22e      Production   \n71  b101f36a-0ce0-4cf7-87a6-b6fc2cf4b22e      Production   \n72  b101f36a-0ce0-4cf7-87a6-b6fc2cf4b22e      Production   \n73  b101f36a-0ce0-4cf7-87a6-b6fc2cf4b22e      Production   \n74  b385073d-362e-4b64-8725-dc0958bf172b         Sandbox   \n75  be9dbe62-23d5-4a4c-804c-9295c236db05      Production   \n76  c9f615ef-5e69-4c11-b720-391231817f54      Production   \n77  c9f615ef-5e69-4c11-b720-391231817f54      Production   \n78  cc191039-336b-4fff-8dd6-85204efc67e9      Production   \n79  cc99fb20-c3f9-426e-8af1-ace4579b0c53      Production   \n80  ce491550-de18-4ac5-b441-0b7e64bb5c5b      Production   \n81  ce491550-de18-4ac5-b441-0b7e64bb5c5b      Production   \n82  cec2777c-5cc1-4dc6-a1b7-962481403d36      Production   \n83  cec2777c-5cc1-4dc6-a1b7-962481403d36         Sandbox   \n84  d41cccc7-89c2-423d-a8f2-e800fae9d3ac      Production   \n85  df35e278-9680-47e2-93a2-98e8c3beac0b      Production   \n86  e1d681de-ed51-41b4-978c-0bfd29ebfa4f      Production   \n87  e1d681de-ed51-41b4-978c-0bfd29ebfa4f         Sandbox   \n88  e1d681de-ed51-41b4-978c-0bfd29ebfa4f         Sandbox   \n89  e1d681de-ed51-41b4-978c-0bfd29ebfa4f         Sandbox   \n90  e1d681de-ed51-41b4-978c-0bfd29ebfa4f         Sandbox   \n91  e1db3514-10b8-4f09-a5b6-8541caf48292      Production   \n92  e1db3514-10b8-4f09-a5b6-8541caf48292      Production   \n93  e75fb06f-06c9-497c-ba41-4e30a5444c14      Production   \n94  e75fb06f-06c9-497c-ba41-4e30a5444c14      Production   \n95  e75fb06f-06c9-497c-ba41-4e30a5444c14      Production   \n96  e75fb06f-06c9-497c-ba41-4e30a5444c14      Production   \n97  f2290f38-d878-42c1-a525-9e353a6a587e      Production   \n98  f2290f38-d878-42c1-a525-9e353a6a587e      Production   \n99  f8c5d602-9498-4232-9ac4-b210787d9496         Sandbox   \n\n                             extensionId  \\\n0   437dbf0e-84ff-417a-965d-ed2bb9650972   \n1   437dbf0e-84ff-417a-965d-ed2bb9650972   \n2   437dbf0e-84ff-417a-965d-ed2bb9650972   \n3   437dbf0e-84ff-417a-965d-ed2bb9650972   \n4   437dbf0e-84ff-417a-965d-ed2bb9650972   \n5   8afe7b40-8c87-4beb-ada0-451d1761bf95   \n6   437dbf0e-84ff-417a-965d-ed2bb9650972   \n7   437dbf0e-84ff-417a-965d-ed2bb9650972   \n8   437dbf0e-84ff-417a-965d-ed2bb9650972   \n9   437dbf0e-84ff-417a-965d-ed2bb9650972   \n10  437dbf0e-84ff-417a-965d-ed2bb9650972   \n11  437dbf0e-84ff-417a-965d-ed2bb9650972   \n12  437dbf0e-84ff-417a-965d-ed2bb9650972   \n13  437dbf0e-84ff-417a-965d-ed2bb9650972   \n14  8afe7b40-8c87-4beb-ada0-451d1761bf95   \n15  437dbf0e-84ff-417a-965d-ed2bb9650972   \n16  437dbf0e-84ff-417a-965d-ed2bb9650972   \n17  437dbf0e-84ff-417a-965d-ed2bb9650972   \n18                                         \n19  ca6b52ef-5afa-4391-a291-eb3475dbb94a   \n20  ca6b52ef-5afa-4391-a291-eb3475dbb94a   \n21  ca6b52ef-5afa-4391-a291-eb3475dbb94a   \n22  ca6b52ef-5afa-4391-a291-eb3475dbb94a   \n23  437dbf0e-84ff-417a-965d-ed2bb9650972   \n24  437dbf0e-84ff-417a-965d-ed2bb9650972   \n25  437dbf0e-84ff-417a-965d-ed2bb9650972   \n26  437dbf0e-84ff-417a-965d-ed2bb9650972   \n27  8afe7b40-8c87-4beb-ada0-451d1761bf95   \n28  437dbf0e-84ff-417a-965d-ed2bb9650972   \n29  437dbf0e-84ff-417a-965d-ed2bb9650972   \n30  437dbf0e-84ff-417a-965d-ed2bb9650972   \n31  437dbf0e-84ff-417a-965d-ed2bb9650972   \n32  437dbf0e-84ff-417a-965d-ed2bb9650972   \n33  437dbf0e-84ff-417a-965d-ed2bb9650972   \n34  437dbf0e-84ff-417a-965d-ed2bb9650972   \n35  437dbf0e-84ff-417a-965d-ed2bb9650972   \n36  437dbf0e-84ff-417a-965d-ed2bb9650972   \n37  437dbf0e-84ff-417a-965d-ed2bb9650972   \n38  8afe7b40-8c87-4beb-ada0-451d1761bf95   \n39  437dbf0e-84ff-417a-965d-ed2bb9650972   \n40  437dbf0e-84ff-417a-965d-ed2bb9650972   \n41  437dbf0e-84ff-417a-965d-ed2bb9650972   \n42  437dbf0e-84ff-417a-965d-ed2bb9650972   \n43  8afe7b40-8c87-4beb-ada0-451d1761bf95   \n44  437dbf0e-84ff-417a-965d-ed2bb9650972   \n45  437dbf0e-84ff-417a-965d-ed2bb9650972   \n46  437dbf0e-84ff-417a-965d-ed2bb9650972   \n47  437dbf0e-84ff-417a-965d-ed2bb9650972   \n48  437dbf0e-84ff-417a-965d-ed2bb9650972   \n49  437dbf0e-84ff-417a-965d-ed2bb9650972   \n50  437dbf0e-84ff-417a-965d-ed2bb9650972   \n51  437dbf0e-84ff-417a-965d-ed2bb9650972   \n52                                         \n53                                         \n54                                         \n55                                         \n56                                         \n57                                         \n58                                         \n59                                         \n60                                         \n61                                         \n62                                         \n63                                         \n64                                         \n65                                         \n66                                         \n67                                         \n68                                         \n69                                         \n70                                         \n71                                         \n72                                         \n73                                         \n74  437dbf0e-84ff-417a-965d-ed2bb9650972   \n75  437dbf0e-84ff-417a-965d-ed2bb9650972   \n76  437dbf0e-84ff-417a-965d-ed2bb9650972   \n77  437dbf0e-84ff-417a-965d-ed2bb9650972   \n78  437dbf0e-84ff-417a-965d-ed2bb9650972   \n79  437dbf0e-84ff-417a-965d-ed2bb9650972   \n80  437dbf0e-84ff-417a-965d-ed2bb9650972   \n81  8afe7b40-8c87-4beb-ada0-451d1761bf95   \n82  8afe7b40-8c87-4beb-ada0-451d1761bf95   \n83  437dbf0e-84ff-417a-965d-ed2bb9650972   \n84  437dbf0e-84ff-417a-965d-ed2bb9650972   \n85  437dbf0e-84ff-417a-965d-ed2bb9650972   \n86  437dbf0e-84ff-417a-965d-ed2bb9650972   \n87  30c1a959-3fd4-4320-a847-9e0696f74dca   \n88  30c1a959-3fd4-4320-a847-9e0696f74dca   \n89  437dbf0e-84ff-417a-965d-ed2bb9650972   \n90  8afe7b40-8c87-4beb-ada0-451d1761bf95   \n91  437dbf0e-84ff-417a-965d-ed2bb9650972   \n92  8afe7b40-8c87-4beb-ada0-451d1761bf95   \n93  437dbf0e-84ff-417a-965d-ed2bb9650972   \n94  437dbf0e-84ff-417a-965d-ed2bb9650972   \n95  437dbf0e-84ff-417a-965d-ed2bb9650972   \n96  8afe7b40-8c87-4beb-ada0-451d1761bf95   \n97  437dbf0e-84ff-417a-965d-ed2bb9650972   \n98  437dbf0e-84ff-417a-965d-ed2bb9650972   \n99  8afe7b40-8c87-4beb-ada0-451d1761bf95   \n\n                                        extensionName  \\\n0                                    Base Application   \n1                                    Base Application   \n2                                    Base Application   \n3                                    Base Application   \n4                                    Base Application   \n5                                     _Exclude_APIV1_   \n6                                    Base Application   \n7                                    Base Application   \n8                                    Base Application   \n9                                    Base Application   \n10                                   Base Application   \n11                                   Base Application   \n12                                   Base Application   \n13                                   Base Application   \n14                                    _Exclude_APIV1_   \n15                                   Base Application   \n16                                   Base Application   \n17                                   Base Application   \n18                                       TestSnapshot   \n19                                       TestSnapshot   \n20                                       TestSnapshot   \n21                                       TestSnapshot   \n22                                       TestSnapshot   \n23                                   Base Application   \n24                                   Base Application   \n25                                   Base Application   \n26                                   Base Application   \n27                                    _Exclude_APIV1_   \n28                                   Base Application   \n29                                   Base Application   \n30                                   Base Application   \n31                                   Base Application   \n32                                   Base Application   \n33                                   Base Application   \n34                                   Base Application   \n35                                   Base Application   \n36                                   Base Application   \n37                                   Base Application   \n38                                    _Exclude_APIV1_   \n39                                   Base Application   \n40                                   Base Application   \n41                                   Base Application   \n42                                   Base Application   \n43                                    _Exclude_APIV1_   \n44                                   Base Application   \n45                                   Base Application   \n46                                   Base Application   \n47                                   Base Application   \n48                                   Base Application   \n49                                   Base Application   \n50                                   Base Application   \n51                                   Base Application   \n52                              _Exclude_SyncBaseApp_   \n53  Business Central Cloud Migration - Previous Re...   \n54        _Exclude_Microsoft Dynamics 365 - SmartList   \n55                           PayPal Payments Standard   \n56                       Sales and Inventory Forecast   \n57                                        Company Hub   \n58                                        Application   \n59                         WorldPay Payments Standard   \n60                ELSTER VAT Localization for Germany   \n61                              Send To Email Printer   \n62                             _Exclude_ClientAddIns_   \n63                                    _Exclude_APIV1_   \n64  Business Central Cloud Migration - Previous Re...   \n65                                   Base Application   \n66                                 System Application   \n67                            Late Payment Prediction   \n68                 Business Central Intelligent Cloud   \n69                             Intelligent Cloud Base   \n70                       Essential Business Headlines   \n71                       AMC Banking 365 Fundamentals   \n72                                    _Exclude_APIV2_   \n73                    _Exclude_AnonymizedDataSharing_   \n74                                   Base Application   \n75                                   Base Application   \n76                                   Base Application   \n77                                   Base Application   \n78                                   Base Application   \n79                                   Base Application   \n80                                   Base Application   \n81                                    _Exclude_APIV1_   \n82                                    _Exclude_APIV1_   \n83                                   Base Application   \n84                                   Base Application   \n85                                   Base Application   \n86                                   Base Application   \n87                                    TestCompanyOpen   \n88                                    TestCompanyOpen   \n89                                   Base Application   \n90                                    _Exclude_APIV1_   \n91                                   Base Application   \n92                                    _Exclude_APIV1_   \n93                                   Base Application   \n94                                   Base Application   \n95                                   Base Application   \n96                                    _Exclude_APIV1_   \n97                                   Base Application   \n98                                   Base Application   \n99                                    _Exclude_APIV1_   \n\n                             timestamp  \\\n0  2020-09-22 16:14:11.568779300+00:00   \n1  2020-09-22 16:14:41.267285400+00:00   \n2  2020-09-26 21:58:26.660655900+00:00   \n3     2020-09-23 23:43:51.868805+00:00   \n4  2020-09-27 03:16:33.846260500+00:00   \n5  2020-09-27 03:16:59.869288800+00:00   \n6     2020-09-26 21:58:29.587821+00:00   \n7  2020-09-23 21:10:28.828653100+00:00   \n8  2020-09-24 00:07:12.250764700+00:00   \n9  2020-09-22 16:13:35.839006100+00:00   \n10 2020-09-23 10:11:53.970220200+00:00   \n11 2020-09-21 22:19:58.537534900+00:00   \n12 2020-09-21 22:19:07.204327400+00:00   \n13    2020-09-23 21:26:36.012529+00:00   \n14 2020-09-23 21:27:28.139223400+00:00   \n15 2020-09-26 21:47:39.814904100+00:00   \n16 2020-09-23 22:38:20.681826800+00:00   \n17 2020-09-26 21:45:53.152068100+00:00   \n18    2020-09-23 12:10:18.464481+00:00   \n19 2020-09-23 12:10:19.341976800+00:00   \n20 2020-09-23 12:10:18.935705900+00:00   \n21 2020-09-23 12:10:18.761376300+00:00   \n22 2020-09-23 12:10:18.402254300+00:00   \n23 2020-09-22 16:33:06.423389300+00:00   \n24 2020-09-21 22:19:53.072707100+00:00   \n25 2020-09-21 23:27:24.600751200+00:00   \n26 2020-09-24 00:04:56.109383200+00:00   \n27 2020-09-24 00:07:29.627455300+00:00   \n28    2020-09-21 23:27:28.468000+00:00   \n29 2020-09-21 23:26:35.655999400+00:00   \n30 2020-09-21 23:17:37.797858900+00:00   \n31 2020-09-21 23:17:33.034592100+00:00   \n32 2020-09-21 22:20:31.148787300+00:00   \n33 2020-09-23 22:46:13.568134400+00:00   \n34 2020-09-23 23:49:40.692743400+00:00   \n35 2020-09-26 22:04:26.370482700+00:00   \n36 2020-09-23 21:26:20.470342300+00:00   \n37 2020-09-21 22:47:33.773844800+00:00   \n38 2020-09-24 00:04:10.499407200+00:00   \n39    2020-09-26 21:10:02.283076+00:00   \n40 2020-09-21 23:17:43.940662900+00:00   \n41 2020-09-23 22:36:36.909158500+00:00   \n42 2020-09-24 00:04:30.929694400+00:00   \n43 2020-09-24 00:06:54.508838200+00:00   \n44 2020-09-21 22:47:05.954688400+00:00   \n45 2020-09-21 22:19:45.435219300+00:00   \n46 2020-09-22 15:25:40.038237800+00:00   \n47 2020-09-26 21:37:26.725809100+00:00   \n48 2020-09-22 16:13:43.964766300+00:00   \n49    2020-09-21 22:20:41.158813+00:00   \n50    2020-09-21 23:17:44.161604+00:00   \n51 2020-09-21 23:23:16.032087600+00:00   \n52 2020-09-26 18:17:51.527180700+00:00   \n53 2020-09-26 18:17:51.270432800+00:00   \n54 2020-09-26 18:17:50.998190700+00:00   \n55 2020-09-26 18:17:50.728179800+00:00   \n56 2020-09-26 18:17:50.463154300+00:00   \n57 2020-09-26 18:17:50.203138500+00:00   \n58 2020-09-26 18:17:49.951884400+00:00   \n59 2020-09-26 18:17:49.691905300+00:00   \n60 2020-09-26 18:17:49.438162100+00:00   \n61 2020-09-26 18:17:49.172820900+00:00   \n62 2020-09-26 18:17:48.902055800+00:00   \n63 2020-09-26 18:17:48.646002100+00:00   \n64 2020-09-26 18:17:48.380713700+00:00   \n65 2020-09-26 18:17:48.110709300+00:00   \n66 2020-09-26 18:17:47.854206500+00:00   \n67 2020-09-26 18:17:47.594218400+00:00   \n68 2020-09-26 18:17:47.319160700+00:00   \n69 2020-09-26 18:17:47.044157500+00:00   \n70 2020-09-26 18:17:46.729132900+00:00   \n71 2020-09-26 18:17:46.469117100+00:00   \n72 2020-09-26 18:17:46.189100800+00:00   \n73 2020-09-26 18:17:45.846082700+00:00   \n74 2020-09-22 16:13:35.570208900+00:00   \n75 2020-09-21 23:31:49.358717900+00:00   \n76    2020-09-26 21:15:25.427694+00:00   \n77 2020-09-23 22:37:38.424438900+00:00   \n78 2020-09-26 21:46:44.020075100+00:00   \n79 2020-09-22 15:25:17.998612300+00:00   \n80 2020-09-26 22:04:55.313986200+00:00   \n81 2020-09-21 23:50:01.978063800+00:00   \n82 2020-09-23 23:55:10.415229100+00:00   \n83 2020-09-23 23:42:55.793489200+00:00   \n84 2020-09-21 23:35:25.503885200+00:00   \n85 2020-09-21 22:19:04.966607900+00:00   \n86 2020-09-26 22:05:22.230925700+00:00   \n87    2020-09-22 11:07:56.414253+00:00   \n88 2020-09-22 11:07:07.816551800+00:00   \n89 2020-09-21 21:59:40.644067600+00:00   \n90 2020-09-21 22:01:46.174396500+00:00   \n91 2020-09-23 23:52:54.174519200+00:00   \n92    2020-09-23 23:55:19.628727+00:00   \n93 2020-09-26 21:48:09.996012900+00:00   \n94 2020-09-21 23:30:48.207499300+00:00   \n95 2020-09-21 22:19:43.007559400+00:00   \n96 2020-09-21 23:31:05.601171200+00:00   \n97 2020-09-23 22:45:56.620008400+00:00   \n98 2020-09-21 22:20:07.636746500+00:00   \n99 2020-09-23 22:38:32.833820200+00:00   \n\n                                              message  \n0   Extension synchronized successfully: Base Appl...  \n1   Extension synchronized successfully: Base Appl...  \n2   Extension synchronized successfully: Base Appl...  \n3   Extension synchronized successfully: Base Appl...  \n4   Extension synchronized successfully: Base Appl...  \n5   Extension synchronized successfully: _Exclude_...  \n6   Extension synchronized successfully: Base Appl...  \n7   Extension synchronized successfully: Base Appl...  \n8   Extension synchronized successfully: Base Appl...  \n9   Extension synchronized successfully: Base Appl...  \n10  Extension synchronized successfully: Base Appl...  \n11  Extension synchronized successfully: Base Appl...  \n12  Extension synchronized successfully: Base Appl...  \n13  Extension synchronized successfully: Base Appl...  \n14  Extension synchronized successfully: _Exclude_...  \n15  Extension synchronized successfully: Base Appl...  \n16  Extension synchronized successfully: Base Appl...  \n17  Extension synchronized successfully: Base Appl...  \n18  Extension un-published successfully: TestSnaps...  \n19  Extension installed successfully: TestSnapshot...  \n20  Extension synchronized successfully: TestSnaps...  \n21  Extension published successfully: TestSnapshot...  \n22  Extension un-installed successfully: TestSnaps...  \n23  Extension synchronized successfully: Base Appl...  \n24  Extension synchronized successfully: Base Appl...  \n25  Extension synchronized successfully: Base Appl...  \n26  Extension synchronized successfully: Base Appl...  \n27  Extension synchronized successfully: _Exclude_...  \n28  Extension synchronized successfully: Base Appl...  \n29  Extension synchronized successfully: Base Appl...  \n30  Extension synchronized successfully: Base Appl...  \n31  Extension synchronized successfully: Base Appl...  \n32  Extension synchronized successfully: Base Appl...  \n33  Extension synchronized successfully: Base Appl...  \n34  Extension synchronized successfully: Base Appl...  \n35  Extension synchronized successfully: Base Appl...  \n36  Extension synchronized successfully: Base Appl...  \n37  Extension synchronized successfully: Base Appl...  \n38  Extension synchronized successfully: _Exclude_...  \n39  Extension synchronized successfully: Base Appl...  \n40  Extension synchronized successfully: Base Appl...  \n41  Extension synchronized successfully: Base Appl...  \n42  Extension synchronized successfully: Base Appl...  \n43  Extension synchronized successfully: _Exclude_...  \n44  Extension synchronized successfully: Base Appl...  \n45  Extension synchronized successfully: Base Appl...  \n46  Extension synchronized successfully: Base Appl...  \n47  Extension synchronized successfully: Base Appl...  \n48  Extension synchronized successfully: Base Appl...  \n49  Extension synchronized successfully: Base Appl...  \n50  Extension synchronized successfully: Base Appl...  \n51  Extension synchronized successfully: Base Appl...  \n52  Extension failed to synchronize: _Exclude_Sync...  \n53  Extension failed to synchronize: Business Cent...  \n54  Extension failed to synchronize: _Exclude_Micr...  \n55  Extension failed to synchronize: PayPal Paymen...  \n56  Extension failed to synchronize: Sales and Inv...  \n57  Extension failed to synchronize: Company Hub v...  \n58  Extension failed to synchronize: Application v...  \n59  Extension failed to synchronize: WorldPay Paym...  \n60  Extension failed to synchronize: ELSTER VAT Lo...  \n61  Extension failed to synchronize: Send To Email...  \n62  Extension failed to synchronize: _Exclude_Clie...  \n63  Extension failed to synchronize: _Exclude_APIV...  \n64  Extension failed to synchronize: Business Cent...  \n65  Extension failed to synchronize: Base Applicat...  \n66  Extension failed to synchronize: System Applic...  \n67  Extension failed to synchronize: Late Payment ...  \n68  Extension failed to synchronize: Business Cent...  \n69  Extension failed to synchronize: Intelligent C...  \n70  Extension failed to synchronize: Essential Bus...  \n71  Extension failed to synchronize: AMC Banking 3...  \n72  Extension failed to synchronize: _Exclude_APIV...  \n73  Extension failed to synchronize: _Exclude_Anon...  \n74  Extension synchronized successfully: Base Appl...  \n75  Extension synchronized successfully: Base Appl...  \n76  Extension synchronized successfully: Base Appl...  \n77  Extension synchronized successfully: Base Appl...  \n78  Extension synchronized successfully: Base Appl...  \n79  Extension synchronized successfully: Base Appl...  \n80  Extension synchronized successfully: Base Appl...  \n81  Extension synchronized successfully: _Exclude_...  \n82  Extension synchronized successfully: _Exclude_...  \n83  Extension synchronized successfully: Base Appl...  \n84  Extension synchronized successfully: Base Appl...  \n85  Extension synchronized successfully: Base Appl...  \n86  Extension synchronized successfully: Base Appl...  \n87  Extension published successfully: TestCompanyO...  \n88  Extension failed to publish: TestCompanyOpen v...  \n89  Extension synchronized successfully: Base Appl...  \n90  Extension synchronized successfully: _Exclude_...  \n91  Extension synchronized successfully: Base Appl...  \n92  Extension synchronized successfully: _Exclude_...  \n93  Extension synchronized successfully: Base Appl...  \n94  Extension synchronized successfully: Base Appl...  \n95  Extension synchronized successfully: Base Appl...  \n96  Extension synchronized successfully: _Exclude_...  \n97  Extension synchronized successfully: Base Appl...  \n98  Extension synchronized successfully: Base Appl...  \n99  Extension synchronized successfully: _Exclude_...  ",
                        "text/html": "<div>\n<style scoped>\n    .dataframe tbody tr th:only-of-type {\n        vertical-align: middle;\n    }\n\n    .dataframe tbody tr th {\n        vertical-align: top;\n    }\n\n    .dataframe thead th {\n        text-align: right;\n    }\n</style>\n<table border=\"1\" class=\"dataframe\">\n  <thead>\n    <tr style=\"text-align: right;\">\n      <th></th>\n      <th>aadTenantId</th>\n      <th>environmentName</th>\n      <th>extensionId</th>\n      <th>extensionName</th>\n      <th>timestamp</th>\n      <th>message</th>\n    </tr>\n  </thead>\n  <tbody>\n    <tr>\n      <th>0</th>\n      <td>0845cf51-2012-445e-8a44-fdd0df28584b</td>\n      <td>Sandbox</td>\n      <td>437dbf0e-84ff-417a-965d-ed2bb9650972</td>\n      <td>Base Application</td>\n      <td>2020-09-22 16:14:11.568779300+00:00</td>\n      <td>Extension synchronized successfully: Base Appl...</td>\n    </tr>\n    <tr>\n      <th>1</th>\n      <td>0952b452-7ca5-43a8-b4cb-9f020d64a567</td>\n      <td>Sandbox</td>\n      <td>437dbf0e-84ff-417a-965d-ed2bb9650972</td>\n      <td>Base Application</td>\n      <td>2020-09-22 16:14:41.267285400+00:00</td>\n      <td>Extension synchronized successfully: Base Appl...</td>\n    </tr>\n    <tr>\n      <th>2</th>\n      <td>1377ae6d-ed0c-45bd-a6cc-473f83d13e03</td>\n      <td>Production</td>\n      <td>437dbf0e-84ff-417a-965d-ed2bb9650972</td>\n      <td>Base Application</td>\n      <td>2020-09-26 21:58:26.660655900+00:00</td>\n      <td>Extension synchronized successfully: Base Appl...</td>\n    </tr>\n    <tr>\n      <th>3</th>\n      <td>148eff18-320d-4c99-95ac-6b1c9739195f</td>\n      <td>Sandbox</td>\n      <td>437dbf0e-84ff-417a-965d-ed2bb9650972</td>\n      <td>Base Application</td>\n      <td>2020-09-23 23:43:51.868805+00:00</td>\n      <td>Extension synchronized successfully: Base Appl...</td>\n    </tr>\n    <tr>\n      <th>4</th>\n      <td>14f6e7c1-10ef-4d9c-a5b7-87592cf8d066</td>\n      <td>Sandbox</td>\n      <td>437dbf0e-84ff-417a-965d-ed2bb9650972</td>\n      <td>Base Application</td>\n      <td>2020-09-27 03:16:33.846260500+00:00</td>\n      <td>Extension synchronized successfully: Base Appl...</td>\n    </tr>\n    <tr>\n      <th>5</th>\n      <td>14f6e7c1-10ef-4d9c-a5b7-87592cf8d066</td>\n      <td>Sandbox</td>\n      <td>8afe7b40-8c87-4beb-ada0-451d1761bf95</td>\n      <td>_Exclude_APIV1_</td>\n      <td>2020-09-27 03:16:59.869288800+00:00</td>\n      <td>Extension synchronized successfully: _Exclude_...</td>\n    </tr>\n    <tr>\n      <th>6</th>\n      <td>1525097a-c341-473b-b235-3def2adb15de</td>\n      <td>Production</td>\n      <td>437dbf0e-84ff-417a-965d-ed2bb9650972</td>\n      <td>Base Application</td>\n      <td>2020-09-26 21:58:29.587821+00:00</td>\n      <td>Extension synchronized successfully: Base Appl...</td>\n    </tr>\n    <tr>\n      <th>7</th>\n      <td>1525097a-c341-473b-b235-3def2adb15de</td>\n      <td>Production</td>\n      <td>437dbf0e-84ff-417a-965d-ed2bb9650972</td>\n      <td>Base Application</td>\n      <td>2020-09-23 21:10:28.828653100+00:00</td>\n      <td>Extension synchronized successfully: Base Appl...</td>\n    </tr>\n    <tr>\n      <th>8</th>\n      <td>187ad3be-63c6-48da-b603-a00799aa63bc</td>\n      <td>Production</td>\n      <td>437dbf0e-84ff-417a-965d-ed2bb9650972</td>\n      <td>Base Application</td>\n      <td>2020-09-24 00:07:12.250764700+00:00</td>\n      <td>Extension synchronized successfully: Base Appl...</td>\n    </tr>\n    <tr>\n      <th>9</th>\n      <td>18a38716-7d7e-49b4-a1fe-faa1cd2b30c6</td>\n      <td>Sandbox</td>\n      <td>437dbf0e-84ff-417a-965d-ed2bb9650972</td>\n      <td>Base Application</td>\n      <td>2020-09-22 16:13:35.839006100+00:00</td>\n      <td>Extension synchronized successfully: Base Appl...</td>\n    </tr>\n    <tr>\n      <th>10</th>\n      <td>1abbcd26-1697-491b-b9ba-6d0654d0c491</td>\n      <td>Sandbox</td>\n      <td>437dbf0e-84ff-417a-965d-ed2bb9650972</td>\n      <td>Base Application</td>\n      <td>2020-09-23 10:11:53.970220200+00:00</td>\n      <td>Extension synchronized successfully: Base Appl...</td>\n    </tr>\n    <tr>\n      <th>11</th>\n      <td>1fb18377-1bc8-4f7e-a0d9-39c51318637f</td>\n      <td>Production</td>\n      <td>437dbf0e-84ff-417a-965d-ed2bb9650972</td>\n      <td>Base Application</td>\n      <td>2020-09-21 22:19:58.537534900+00:00</td>\n      <td>Extension synchronized successfully: Base Appl...</td>\n    </tr>\n    <tr>\n      <th>12</th>\n      <td>22fcb23d-346a-496c-b93f-94c1d2dd996a</td>\n      <td>Production</td>\n      <td>437dbf0e-84ff-417a-965d-ed2bb9650972</td>\n      <td>Base Application</td>\n      <td>2020-09-21 22:19:07.204327400+00:00</td>\n      <td>Extension synchronized successfully: Base Appl...</td>\n    </tr>\n    <tr>\n      <th>13</th>\n      <td>24030e4b-0ccf-4750-976b-339b88163382</td>\n      <td>Production</td>\n      <td>437dbf0e-84ff-417a-965d-ed2bb9650972</td>\n      <td>Base Application</td>\n      <td>2020-09-23 21:26:36.012529+00:00</td>\n      <td>Extension synchronized successfully: Base Appl...</td>\n    </tr>\n    <tr>\n      <th>14</th>\n      <td>24030e4b-0ccf-4750-976b-339b88163382</td>\n      <td>Production</td>\n      <td>8afe7b40-8c87-4beb-ada0-451d1761bf95</td>\n      <td>_Exclude_APIV1_</td>\n      <td>2020-09-23 21:27:28.139223400+00:00</td>\n      <td>Extension synchronized successfully: _Exclude_...</td>\n    </tr>\n    <tr>\n      <th>15</th>\n      <td>266d9139-5799-466a-be1a-759c35e2d26f</td>\n      <td>Production</td>\n      <td>437dbf0e-84ff-417a-965d-ed2bb9650972</td>\n      <td>Base Application</td>\n      <td>2020-09-26 21:47:39.814904100+00:00</td>\n      <td>Extension synchronized successfully: Base Appl...</td>\n    </tr>\n    <tr>\n      <th>16</th>\n      <td>266d9139-5799-466a-be1a-759c35e2d26f</td>\n      <td>Production</td>\n      <td>437dbf0e-84ff-417a-965d-ed2bb9650972</td>\n      <td>Base Application</td>\n      <td>2020-09-23 22:38:20.681826800+00:00</td>\n      <td>Extension synchronized successfully: Base Appl...</td>\n    </tr>\n    <tr>\n      <th>17</th>\n      <td>266d9139-5799-466a-be1a-759c35e2d26f</td>\n      <td>Sandbox</td>\n      <td>437dbf0e-84ff-417a-965d-ed2bb9650972</td>\n      <td>Base Application</td>\n      <td>2020-09-26 21:45:53.152068100+00:00</td>\n      <td>Extension synchronized successfully: Base Appl...</td>\n    </tr>\n    <tr>\n      <th>18</th>\n      <td>2d3184ea-e6bd-4fe7-9815-3e35d45d357a</td>\n      <td>Sandbox</td>\n      <td></td>\n      <td>TestSnapshot</td>\n      <td>2020-09-23 12:10:18.464481+00:00</td>\n      <td>Extension un-published successfully: TestSnaps...</td>\n    </tr>\n    <tr>\n      <th>19</th>\n      <td>2d3184ea-e6bd-4fe7-9815-3e35d45d357a</td>\n      <td>Sandbox</td>\n      <td>ca6b52ef-5afa-4391-a291-eb3475dbb94a</td>\n      <td>TestSnapshot</td>\n      <td>2020-09-23 12:10:19.341976800+00:00</td>\n      <td>Extension installed successfully: TestSnapshot...</td>\n    </tr>\n    <tr>\n      <th>20</th>\n      <td>2d3184ea-e6bd-4fe7-9815-3e35d45d357a</td>\n      <td>Sandbox</td>\n      <td>ca6b52ef-5afa-4391-a291-eb3475dbb94a</td>\n      <td>TestSnapshot</td>\n      <td>2020-09-23 12:10:18.935705900+00:00</td>\n      <td>Extension synchronized successfully: TestSnaps...</td>\n    </tr>\n    <tr>\n      <th>21</th>\n      <td>2d3184ea-e6bd-4fe7-9815-3e35d45d357a</td>\n      <td>Sandbox</td>\n      <td>ca6b52ef-5afa-4391-a291-eb3475dbb94a</td>\n      <td>TestSnapshot</td>\n      <td>2020-09-23 12:10:18.761376300+00:00</td>\n      <td>Extension published successfully: TestSnapshot...</td>\n    </tr>\n    <tr>\n      <th>22</th>\n      <td>2d3184ea-e6bd-4fe7-9815-3e35d45d357a</td>\n      <td>Sandbox</td>\n      <td>ca6b52ef-5afa-4391-a291-eb3475dbb94a</td>\n      <td>TestSnapshot</td>\n      <td>2020-09-23 12:10:18.402254300+00:00</td>\n      <td>Extension un-installed successfully: TestSnaps...</td>\n    </tr>\n    <tr>\n      <th>23</th>\n      <td>2f81c8f6-74e4-47f5-9946-51c16a696bcd</td>\n      <td>Sandbox</td>\n      <td>437dbf0e-84ff-417a-965d-ed2bb9650972</td>\n      <td>Base Application</td>\n      <td>2020-09-22 16:33:06.423389300+00:00</td>\n      <td>Extension synchronized successfully: Base Appl...</td>\n    </tr>\n    <tr>\n      <th>24</th>\n      <td>34c8e198-ceeb-4e59-afd0-ce0f193fce6a</td>\n      <td>Production</td>\n      <td>437dbf0e-84ff-417a-965d-ed2bb9650972</td>\n      <td>Base Application</td>\n      <td>2020-09-21 22:19:53.072707100+00:00</td>\n      <td>Extension synchronized successfully: Base Appl...</td>\n    </tr>\n    <tr>\n      <th>25</th>\n      <td>3c27c539-b89e-49dd-bdf6-83db92a17dc0</td>\n      <td>Production</td>\n      <td>437dbf0e-84ff-417a-965d-ed2bb9650972</td>\n      <td>Base Application</td>\n      <td>2020-09-21 23:27:24.600751200+00:00</td>\n      <td>Extension synchronized successfully: Base Appl...</td>\n    </tr>\n    <tr>\n      <th>26</th>\n      <td>46a2bc94-ee76-4e3d-94fa-bf4780f6300f</td>\n      <td>Sandbox</td>\n      <td>437dbf0e-84ff-417a-965d-ed2bb9650972</td>\n      <td>Base Application</td>\n      <td>2020-09-24 00:04:56.109383200+00:00</td>\n      <td>Extension synchronized successfully: Base Appl...</td>\n    </tr>\n    <tr>\n      <th>27</th>\n      <td>46a2bc94-ee76-4e3d-94fa-bf4780f6300f</td>\n      <td>Sandbox</td>\n      <td>8afe7b40-8c87-4beb-ada0-451d1761bf95</td>\n      <td>_Exclude_APIV1_</td>\n      <td>2020-09-24 00:07:29.627455300+00:00</td>\n      <td>Extension synchronized successfully: _Exclude_...</td>\n    </tr>\n    <tr>\n      <th>28</th>\n      <td>4ac933bf-9f7a-40c2-bf69-03d8ac3ec9d8</td>\n      <td>Production</td>\n      <td>437dbf0e-84ff-417a-965d-ed2bb9650972</td>\n      <td>Base Application</td>\n      <td>2020-09-21 23:27:28.468000+00:00</td>\n      <td>Extension synchronized successfully: Base Appl...</td>\n    </tr>\n    <tr>\n      <th>29</th>\n      <td>4ac933bf-9f7a-40c2-bf69-03d8ac3ec9d8</td>\n      <td>Sandbox</td>\n      <td>437dbf0e-84ff-417a-965d-ed2bb9650972</td>\n      <td>Base Application</td>\n      <td>2020-09-21 23:26:35.655999400+00:00</td>\n      <td>Extension synchronized successfully: Base Appl...</td>\n    </tr>\n    <tr>\n      <th>30</th>\n      <td>4d78c9d1-86e0-4aea-901a-90c322e211db</td>\n      <td>Production</td>\n      <td>437dbf0e-84ff-417a-965d-ed2bb9650972</td>\n      <td>Base Application</td>\n      <td>2020-09-21 23:17:37.797858900+00:00</td>\n      <td>Extension synchronized successfully: Base Appl...</td>\n    </tr>\n    <tr>\n      <th>31</th>\n      <td>4d78c9d1-86e0-4aea-901a-90c322e211db</td>\n      <td>Sandbox</td>\n      <td>437dbf0e-84ff-417a-965d-ed2bb9650972</td>\n      <td>Base Application</td>\n      <td>2020-09-21 23:17:33.034592100+00:00</td>\n      <td>Extension synchronized successfully: Base Appl...</td>\n    </tr>\n    <tr>\n      <th>32</th>\n      <td>4f7334eb-dc1d-4bc2-8423-50ad417e53af</td>\n      <td>Production</td>\n      <td>437dbf0e-84ff-417a-965d-ed2bb9650972</td>\n      <td>Base Application</td>\n      <td>2020-09-21 22:20:31.148787300+00:00</td>\n      <td>Extension synchronized successfully: Base Appl...</td>\n    </tr>\n    <tr>\n      <th>33</th>\n      <td>50ab82b0-e27b-42b6-a9ce-ee4ccc0230d2</td>\n      <td>Sandbox</td>\n      <td>437dbf0e-84ff-417a-965d-ed2bb9650972</td>\n      <td>Base Application</td>\n      <td>2020-09-23 22:46:13.568134400+00:00</td>\n      <td>Extension synchronized successfully: Base Appl...</td>\n    </tr>\n    <tr>\n      <th>34</th>\n      <td>5345f8ee-16e1-46de-a099-562aee6408ca</td>\n      <td>Production</td>\n      <td>437dbf0e-84ff-417a-965d-ed2bb9650972</td>\n      <td>Base Application</td>\n      <td>2020-09-23 23:49:40.692743400+00:00</td>\n      <td>Extension synchronized successfully: Base Appl...</td>\n    </tr>\n    <tr>\n      <th>35</th>\n      <td>59599aa6-2c54-4376-b527-fc601bbdce59</td>\n      <td>Production</td>\n      <td>437dbf0e-84ff-417a-965d-ed2bb9650972</td>\n      <td>Base Application</td>\n      <td>2020-09-26 22:04:26.370482700+00:00</td>\n      <td>Extension synchronized successfully: Base Appl...</td>\n    </tr>\n    <tr>\n      <th>36</th>\n      <td>59599aa6-2c54-4376-b527-fc601bbdce59</td>\n      <td>Production</td>\n      <td>437dbf0e-84ff-417a-965d-ed2bb9650972</td>\n      <td>Base Application</td>\n      <td>2020-09-23 21:26:20.470342300+00:00</td>\n      <td>Extension synchronized successfully: Base Appl...</td>\n    </tr>\n    <tr>\n      <th>37</th>\n      <td>59599aa6-2c54-4376-b527-fc601bbdce59</td>\n      <td>Production</td>\n      <td>437dbf0e-84ff-417a-965d-ed2bb9650972</td>\n      <td>Base Application</td>\n      <td>2020-09-21 22:47:33.773844800+00:00</td>\n      <td>Extension synchronized successfully: Base Appl...</td>\n    </tr>\n    <tr>\n      <th>38</th>\n      <td>5c54f21c-9acf-4972-bce8-7cb03922ef06</td>\n      <td>Sandbox</td>\n      <td>8afe7b40-8c87-4beb-ada0-451d1761bf95</td>\n      <td>_Exclude_APIV1_</td>\n      <td>2020-09-24 00:04:10.499407200+00:00</td>\n      <td>Extension synchronized successfully: _Exclude_...</td>\n    </tr>\n    <tr>\n      <th>39</th>\n      <td>682e4eb8-3657-4782-a81a-ca6024cb4535</td>\n      <td>Production</td>\n      <td>437dbf0e-84ff-417a-965d-ed2bb9650972</td>\n      <td>Base Application</td>\n      <td>2020-09-26 21:10:02.283076+00:00</td>\n      <td>Extension synchronized successfully: Base Appl...</td>\n    </tr>\n    <tr>\n      <th>40</th>\n      <td>6d83ab61-ebe5-4c50-bbcd-d20ee76ab1d0</td>\n      <td>Sandbox</td>\n      <td>437dbf0e-84ff-417a-965d-ed2bb9650972</td>\n      <td>Base Application</td>\n      <td>2020-09-21 23:17:43.940662900+00:00</td>\n      <td>Extension synchronized successfully: Base Appl...</td>\n    </tr>\n    <tr>\n      <th>41</th>\n      <td>70c274e0-b8a7-4b34-9aa0-24bf69c93166</td>\n      <td>Production</td>\n      <td>437dbf0e-84ff-417a-965d-ed2bb9650972</td>\n      <td>Base Application</td>\n      <td>2020-09-23 22:36:36.909158500+00:00</td>\n      <td>Extension synchronized successfully: Base Appl...</td>\n    </tr>\n    <tr>\n      <th>42</th>\n      <td>70c274e0-b8a7-4b34-9aa0-24bf69c93166</td>\n      <td>Sandbox</td>\n      <td>437dbf0e-84ff-417a-965d-ed2bb9650972</td>\n      <td>Base Application</td>\n      <td>2020-09-24 00:04:30.929694400+00:00</td>\n      <td>Extension synchronized successfully: Base Appl...</td>\n    </tr>\n    <tr>\n      <th>43</th>\n      <td>70c274e0-b8a7-4b34-9aa0-24bf69c93166</td>\n      <td>Sandbox</td>\n      <td>8afe7b40-8c87-4beb-ada0-451d1761bf95</td>\n      <td>_Exclude_APIV1_</td>\n      <td>2020-09-24 00:06:54.508838200+00:00</td>\n      <td>Extension synchronized successfully: _Exclude_...</td>\n    </tr>\n    <tr>\n      <th>44</th>\n      <td>72e6482d-69aa-431c-936b-b74b53e07f9e</td>\n      <td>Production</td>\n      <td>437dbf0e-84ff-417a-965d-ed2bb9650972</td>\n      <td>Base Application</td>\n      <td>2020-09-21 22:47:05.954688400+00:00</td>\n      <td>Extension synchronized successfully: Base Appl...</td>\n    </tr>\n    <tr>\n      <th>45</th>\n      <td>7405f083-4197-4bc2-a561-326a6c5ab191</td>\n      <td>Sandbox</td>\n      <td>437dbf0e-84ff-417a-965d-ed2bb9650972</td>\n      <td>Base Application</td>\n      <td>2020-09-21 22:19:45.435219300+00:00</td>\n      <td>Extension synchronized successfully: Base Appl...</td>\n    </tr>\n    <tr>\n      <th>46</th>\n      <td>7a1d0873-2b6d-48ba-817e-7133ba43c465</td>\n      <td>Sandbox</td>\n      <td>437dbf0e-84ff-417a-965d-ed2bb9650972</td>\n      <td>Base Application</td>\n      <td>2020-09-22 15:25:40.038237800+00:00</td>\n      <td>Extension synchronized successfully: Base Appl...</td>\n    </tr>\n    <tr>\n      <th>47</th>\n      <td>8464e843-a0a2-4fdb-b37d-8cf8fd3c969f</td>\n      <td>Production</td>\n      <td>437dbf0e-84ff-417a-965d-ed2bb9650972</td>\n      <td>Base Application</td>\n      <td>2020-09-26 21:37:26.725809100+00:00</td>\n      <td>Extension synchronized successfully: Base Appl...</td>\n    </tr>\n    <tr>\n      <th>48</th>\n      <td>93bf3f78-3c1c-406e-8305-a0ea4c82bdc4</td>\n      <td>Sandbox</td>\n      <td>437dbf0e-84ff-417a-965d-ed2bb9650972</td>\n      <td>Base Application</td>\n      <td>2020-09-22 16:13:43.964766300+00:00</td>\n      <td>Extension synchronized successfully: Base Appl...</td>\n    </tr>\n    <tr>\n      <th>49</th>\n      <td>9696a6bf-9919-4d03-839e-777ef48a07d5</td>\n      <td>Sandbox</td>\n      <td>437dbf0e-84ff-417a-965d-ed2bb9650972</td>\n      <td>Base Application</td>\n      <td>2020-09-21 22:20:41.158813+00:00</td>\n      <td>Extension synchronized successfully: Base Appl...</td>\n    </tr>\n    <tr>\n      <th>50</th>\n      <td>9ab9a57d-7c82-4182-82c6-2b4a744a1a4a</td>\n      <td>Sandbox</td>\n      <td>437dbf0e-84ff-417a-965d-ed2bb9650972</td>\n      <td>Base Application</td>\n      <td>2020-09-21 23:17:44.161604+00:00</td>\n      <td>Extension synchronized successfully: Base Appl...</td>\n    </tr>\n    <tr>\n      <th>51</th>\n      <td>b0642e40-4bfc-4032-bf97-b91b1890dcda</td>\n      <td>Sandbox</td>\n      <td>437dbf0e-84ff-417a-965d-ed2bb9650972</td>\n      <td>Base Application</td>\n      <td>2020-09-21 23:23:16.032087600+00:00</td>\n      <td>Extension synchronized successfully: Base Appl...</td>\n    </tr>\n    <tr>\n      <th>52</th>\n      <td>b101f36a-0ce0-4cf7-87a6-b6fc2cf4b22e</td>\n      <td>Production</td>\n      <td></td>\n      <td>_Exclude_SyncBaseApp_</td>\n      <td>2020-09-26 18:17:51.527180700+00:00</td>\n      <td>Extension failed to synchronize: _Exclude_Sync...</td>\n    </tr>\n    <tr>\n      <th>53</th>\n      <td>b101f36a-0ce0-4cf7-87a6-b6fc2cf4b22e</td>\n      <td>Production</td>\n      <td></td>\n      <td>Business Central Cloud Migration - Previous Re...</td>\n      <td>2020-09-26 18:17:51.270432800+00:00</td>\n      <td>Extension failed to synchronize: Business Cent...</td>\n    </tr>\n    <tr>\n      <th>54</th>\n      <td>b101f36a-0ce0-4cf7-87a6-b6fc2cf4b22e</td>\n      <td>Production</td>\n      <td></td>\n      <td>_Exclude_Microsoft Dynamics 365 - SmartList</td>\n      <td>2020-09-26 18:17:50.998190700+00:00</td>\n      <td>Extension failed to synchronize: _Exclude_Micr...</td>\n    </tr>\n    <tr>\n      <th>55</th>\n      <td>b101f36a-0ce0-4cf7-87a6-b6fc2cf4b22e</td>\n      <td>Production</td>\n      <td></td>\n      <td>PayPal Payments Standard</td>\n      <td>2020-09-26 18:17:50.728179800+00:00</td>\n      <td>Extension failed to synchronize: PayPal Paymen...</td>\n    </tr>\n    <tr>\n      <th>56</th>\n      <td>b101f36a-0ce0-4cf7-87a6-b6fc2cf4b22e</td>\n      <td>Production</td>\n      <td></td>\n      <td>Sales and Inventory Forecast</td>\n      <td>2020-09-26 18:17:50.463154300+00:00</td>\n      <td>Extension failed to synchronize: Sales and Inv...</td>\n    </tr>\n    <tr>\n      <th>57</th>\n      <td>b101f36a-0ce0-4cf7-87a6-b6fc2cf4b22e</td>\n      <td>Production</td>\n      <td></td>\n      <td>Company Hub</td>\n      <td>2020-09-26 18:17:50.203138500+00:00</td>\n      <td>Extension failed to synchronize: Company Hub v...</td>\n    </tr>\n    <tr>\n      <th>58</th>\n      <td>b101f36a-0ce0-4cf7-87a6-b6fc2cf4b22e</td>\n      <td>Production</td>\n      <td></td>\n      <td>Application</td>\n      <td>2020-09-26 18:17:49.951884400+00:00</td>\n      <td>Extension failed to synchronize: Application v...</td>\n    </tr>\n    <tr>\n      <th>59</th>\n      <td>b101f36a-0ce0-4cf7-87a6-b6fc2cf4b22e</td>\n      <td>Production</td>\n      <td></td>\n      <td>WorldPay Payments Standard</td>\n      <td>2020-09-26 18:17:49.691905300+00:00</td>\n      <td>Extension failed to synchronize: WorldPay Paym...</td>\n    </tr>\n    <tr>\n      <th>60</th>\n      <td>b101f36a-0ce0-4cf7-87a6-b6fc2cf4b22e</td>\n      <td>Production</td>\n      <td></td>\n      <td>ELSTER VAT Localization for Germany</td>\n      <td>2020-09-26 18:17:49.438162100+00:00</td>\n      <td>Extension failed to synchronize: ELSTER VAT Lo...</td>\n    </tr>\n    <tr>\n      <th>61</th>\n      <td>b101f36a-0ce0-4cf7-87a6-b6fc2cf4b22e</td>\n      <td>Production</td>\n      <td></td>\n      <td>Send To Email Printer</td>\n      <td>2020-09-26 18:17:49.172820900+00:00</td>\n      <td>Extension failed to synchronize: Send To Email...</td>\n    </tr>\n    <tr>\n      <th>62</th>\n      <td>b101f36a-0ce0-4cf7-87a6-b6fc2cf4b22e</td>\n      <td>Production</td>\n      <td></td>\n      <td>_Exclude_ClientAddIns_</td>\n      <td>2020-09-26 18:17:48.902055800+00:00</td>\n      <td>Extension failed to synchronize: _Exclude_Clie...</td>\n    </tr>\n    <tr>\n      <th>63</th>\n      <td>b101f36a-0ce0-4cf7-87a6-b6fc2cf4b22e</td>\n      <td>Production</td>\n      <td></td>\n      <td>_Exclude_APIV1_</td>\n      <td>2020-09-26 18:17:48.646002100+00:00</td>\n      <td>Extension failed to synchronize: _Exclude_APIV...</td>\n    </tr>\n    <tr>\n      <th>64</th>\n      <td>b101f36a-0ce0-4cf7-87a6-b6fc2cf4b22e</td>\n      <td>Production</td>\n      <td></td>\n      <td>Business Central Cloud Migration - Previous Re...</td>\n      <td>2020-09-26 18:17:48.380713700+00:00</td>\n      <td>Extension failed to synchronize: Business Cent...</td>\n    </tr>\n    <tr>\n      <th>65</th>\n      <td>b101f36a-0ce0-4cf7-87a6-b6fc2cf4b22e</td>\n      <td>Production</td>\n      <td></td>\n      <td>Base Application</td>\n      <td>2020-09-26 18:17:48.110709300+00:00</td>\n      <td>Extension failed to synchronize: Base Applicat...</td>\n    </tr>\n    <tr>\n      <th>66</th>\n      <td>b101f36a-0ce0-4cf7-87a6-b6fc2cf4b22e</td>\n      <td>Production</td>\n      <td></td>\n      <td>System Application</td>\n      <td>2020-09-26 18:17:47.854206500+00:00</td>\n      <td>Extension failed to synchronize: System Applic...</td>\n    </tr>\n    <tr>\n      <th>67</th>\n      <td>b101f36a-0ce0-4cf7-87a6-b6fc2cf4b22e</td>\n      <td>Production</td>\n      <td></td>\n      <td>Late Payment Prediction</td>\n      <td>2020-09-26 18:17:47.594218400+00:00</td>\n      <td>Extension failed to synchronize: Late Payment ...</td>\n    </tr>\n    <tr>\n      <th>68</th>\n      <td>b101f36a-0ce0-4cf7-87a6-b6fc2cf4b22e</td>\n      <td>Production</td>\n      <td></td>\n      <td>Business Central Intelligent Cloud</td>\n      <td>2020-09-26 18:17:47.319160700+00:00</td>\n      <td>Extension failed to synchronize: Business Cent...</td>\n    </tr>\n    <tr>\n      <th>69</th>\n      <td>b101f36a-0ce0-4cf7-87a6-b6fc2cf4b22e</td>\n      <td>Production</td>\n      <td></td>\n      <td>Intelligent Cloud Base</td>\n      <td>2020-09-26 18:17:47.044157500+00:00</td>\n      <td>Extension failed to synchronize: Intelligent C...</td>\n    </tr>\n    <tr>\n      <th>70</th>\n      <td>b101f36a-0ce0-4cf7-87a6-b6fc2cf4b22e</td>\n      <td>Production</td>\n      <td></td>\n      <td>Essential Business Headlines</td>\n      <td>2020-09-26 18:17:46.729132900+00:00</td>\n      <td>Extension failed to synchronize: Essential Bus...</td>\n    </tr>\n    <tr>\n      <th>71</th>\n      <td>b101f36a-0ce0-4cf7-87a6-b6fc2cf4b22e</td>\n      <td>Production</td>\n      <td></td>\n      <td>AMC Banking 365 Fundamentals</td>\n      <td>2020-09-26 18:17:46.469117100+00:00</td>\n      <td>Extension failed to synchronize: AMC Banking 3...</td>\n    </tr>\n    <tr>\n      <th>72</th>\n      <td>b101f36a-0ce0-4cf7-87a6-b6fc2cf4b22e</td>\n      <td>Production</td>\n      <td></td>\n      <td>_Exclude_APIV2_</td>\n      <td>2020-09-26 18:17:46.189100800+00:00</td>\n      <td>Extension failed to synchronize: _Exclude_APIV...</td>\n    </tr>\n    <tr>\n      <th>73</th>\n      <td>b101f36a-0ce0-4cf7-87a6-b6fc2cf4b22e</td>\n      <td>Production</td>\n      <td></td>\n      <td>_Exclude_AnonymizedDataSharing_</td>\n      <td>2020-09-26 18:17:45.846082700+00:00</td>\n      <td>Extension failed to synchronize: _Exclude_Anon...</td>\n    </tr>\n    <tr>\n      <th>74</th>\n      <td>b385073d-362e-4b64-8725-dc0958bf172b</td>\n      <td>Sandbox</td>\n      <td>437dbf0e-84ff-417a-965d-ed2bb9650972</td>\n      <td>Base Application</td>\n      <td>2020-09-22 16:13:35.570208900+00:00</td>\n      <td>Extension synchronized successfully: Base Appl...</td>\n    </tr>\n    <tr>\n      <th>75</th>\n      <td>be9dbe62-23d5-4a4c-804c-9295c236db05</td>\n      <td>Production</td>\n      <td>437dbf0e-84ff-417a-965d-ed2bb9650972</td>\n      <td>Base Application</td>\n      <td>2020-09-21 23:31:49.358717900+00:00</td>\n      <td>Extension synchronized successfully: Base Appl...</td>\n    </tr>\n    <tr>\n      <th>76</th>\n      <td>c9f615ef-5e69-4c11-b720-391231817f54</td>\n      <td>Production</td>\n      <td>437dbf0e-84ff-417a-965d-ed2bb9650972</td>\n      <td>Base Application</td>\n      <td>2020-09-26 21:15:25.427694+00:00</td>\n      <td>Extension synchronized successfully: Base Appl...</td>\n    </tr>\n    <tr>\n      <th>77</th>\n      <td>c9f615ef-5e69-4c11-b720-391231817f54</td>\n      <td>Production</td>\n      <td>437dbf0e-84ff-417a-965d-ed2bb9650972</td>\n      <td>Base Application</td>\n      <td>2020-09-23 22:37:38.424438900+00:00</td>\n      <td>Extension synchronized successfully: Base Appl...</td>\n    </tr>\n    <tr>\n      <th>78</th>\n      <td>cc191039-336b-4fff-8dd6-85204efc67e9</td>\n      <td>Production</td>\n      <td>437dbf0e-84ff-417a-965d-ed2bb9650972</td>\n      <td>Base Application</td>\n      <td>2020-09-26 21:46:44.020075100+00:00</td>\n      <td>Extension synchronized successfully: Base Appl...</td>\n    </tr>\n    <tr>\n      <th>79</th>\n      <td>cc99fb20-c3f9-426e-8af1-ace4579b0c53</td>\n      <td>Production</td>\n      <td>437dbf0e-84ff-417a-965d-ed2bb9650972</td>\n      <td>Base Application</td>\n      <td>2020-09-22 15:25:17.998612300+00:00</td>\n      <td>Extension synchronized successfully: Base Appl...</td>\n    </tr>\n    <tr>\n      <th>80</th>\n      <td>ce491550-de18-4ac5-b441-0b7e64bb5c5b</td>\n      <td>Production</td>\n      <td>437dbf0e-84ff-417a-965d-ed2bb9650972</td>\n      <td>Base Application</td>\n      <td>2020-09-26 22:04:55.313986200+00:00</td>\n      <td>Extension synchronized successfully: Base Appl...</td>\n    </tr>\n    <tr>\n      <th>81</th>\n      <td>ce491550-de18-4ac5-b441-0b7e64bb5c5b</td>\n      <td>Production</td>\n      <td>8afe7b40-8c87-4beb-ada0-451d1761bf95</td>\n      <td>_Exclude_APIV1_</td>\n      <td>2020-09-21 23:50:01.978063800+00:00</td>\n      <td>Extension synchronized successfully: _Exclude_...</td>\n    </tr>\n    <tr>\n      <th>82</th>\n      <td>cec2777c-5cc1-4dc6-a1b7-962481403d36</td>\n      <td>Production</td>\n      <td>8afe7b40-8c87-4beb-ada0-451d1761bf95</td>\n      <td>_Exclude_APIV1_</td>\n      <td>2020-09-23 23:55:10.415229100+00:00</td>\n      <td>Extension synchronized successfully: _Exclude_...</td>\n    </tr>\n    <tr>\n      <th>83</th>\n      <td>cec2777c-5cc1-4dc6-a1b7-962481403d36</td>\n      <td>Sandbox</td>\n      <td>437dbf0e-84ff-417a-965d-ed2bb9650972</td>\n      <td>Base Application</td>\n      <td>2020-09-23 23:42:55.793489200+00:00</td>\n      <td>Extension synchronized successfully: Base Appl...</td>\n    </tr>\n    <tr>\n      <th>84</th>\n      <td>d41cccc7-89c2-423d-a8f2-e800fae9d3ac</td>\n      <td>Production</td>\n      <td>437dbf0e-84ff-417a-965d-ed2bb9650972</td>\n      <td>Base Application</td>\n      <td>2020-09-21 23:35:25.503885200+00:00</td>\n      <td>Extension synchronized successfully: Base Appl...</td>\n    </tr>\n    <tr>\n      <th>85</th>\n      <td>df35e278-9680-47e2-93a2-98e8c3beac0b</td>\n      <td>Production</td>\n      <td>437dbf0e-84ff-417a-965d-ed2bb9650972</td>\n      <td>Base Application</td>\n      <td>2020-09-21 22:19:04.966607900+00:00</td>\n      <td>Extension synchronized successfully: Base Appl...</td>\n    </tr>\n    <tr>\n      <th>86</th>\n      <td>e1d681de-ed51-41b4-978c-0bfd29ebfa4f</td>\n      <td>Production</td>\n      <td>437dbf0e-84ff-417a-965d-ed2bb9650972</td>\n      <td>Base Application</td>\n      <td>2020-09-26 22:05:22.230925700+00:00</td>\n      <td>Extension synchronized successfully: Base Appl...</td>\n    </tr>\n    <tr>\n      <th>87</th>\n      <td>e1d681de-ed51-41b4-978c-0bfd29ebfa4f</td>\n      <td>Sandbox</td>\n      <td>30c1a959-3fd4-4320-a847-9e0696f74dca</td>\n      <td>TestCompanyOpen</td>\n      <td>2020-09-22 11:07:56.414253+00:00</td>\n      <td>Extension published successfully: TestCompanyO...</td>\n    </tr>\n    <tr>\n      <th>88</th>\n      <td>e1d681de-ed51-41b4-978c-0bfd29ebfa4f</td>\n      <td>Sandbox</td>\n      <td>30c1a959-3fd4-4320-a847-9e0696f74dca</td>\n      <td>TestCompanyOpen</td>\n      <td>2020-09-22 11:07:07.816551800+00:00</td>\n      <td>Extension failed to publish: TestCompanyOpen v...</td>\n    </tr>\n    <tr>\n      <th>89</th>\n      <td>e1d681de-ed51-41b4-978c-0bfd29ebfa4f</td>\n      <td>Sandbox</td>\n      <td>437dbf0e-84ff-417a-965d-ed2bb9650972</td>\n      <td>Base Application</td>\n      <td>2020-09-21 21:59:40.644067600+00:00</td>\n      <td>Extension synchronized successfully: Base Appl...</td>\n    </tr>\n    <tr>\n      <th>90</th>\n      <td>e1d681de-ed51-41b4-978c-0bfd29ebfa4f</td>\n      <td>Sandbox</td>\n      <td>8afe7b40-8c87-4beb-ada0-451d1761bf95</td>\n      <td>_Exclude_APIV1_</td>\n      <td>2020-09-21 22:01:46.174396500+00:00</td>\n      <td>Extension synchronized successfully: _Exclude_...</td>\n    </tr>\n    <tr>\n      <th>91</th>\n      <td>e1db3514-10b8-4f09-a5b6-8541caf48292</td>\n      <td>Production</td>\n      <td>437dbf0e-84ff-417a-965d-ed2bb9650972</td>\n      <td>Base Application</td>\n      <td>2020-09-23 23:52:54.174519200+00:00</td>\n      <td>Extension synchronized successfully: Base Appl...</td>\n    </tr>\n    <tr>\n      <th>92</th>\n      <td>e1db3514-10b8-4f09-a5b6-8541caf48292</td>\n      <td>Production</td>\n      <td>8afe7b40-8c87-4beb-ada0-451d1761bf95</td>\n      <td>_Exclude_APIV1_</td>\n      <td>2020-09-23 23:55:19.628727+00:00</td>\n      <td>Extension synchronized successfully: _Exclude_...</td>\n    </tr>\n    <tr>\n      <th>93</th>\n      <td>e75fb06f-06c9-497c-ba41-4e30a5444c14</td>\n      <td>Production</td>\n      <td>437dbf0e-84ff-417a-965d-ed2bb9650972</td>\n      <td>Base Application</td>\n      <td>2020-09-26 21:48:09.996012900+00:00</td>\n      <td>Extension synchronized successfully: Base Appl...</td>\n    </tr>\n    <tr>\n      <th>94</th>\n      <td>e75fb06f-06c9-497c-ba41-4e30a5444c14</td>\n      <td>Production</td>\n      <td>437dbf0e-84ff-417a-965d-ed2bb9650972</td>\n      <td>Base Application</td>\n      <td>2020-09-21 23:30:48.207499300+00:00</td>\n      <td>Extension synchronized successfully: Base Appl...</td>\n    </tr>\n    <tr>\n      <th>95</th>\n      <td>e75fb06f-06c9-497c-ba41-4e30a5444c14</td>\n      <td>Production</td>\n      <td>437dbf0e-84ff-417a-965d-ed2bb9650972</td>\n      <td>Base Application</td>\n      <td>2020-09-21 22:19:43.007559400+00:00</td>\n      <td>Extension synchronized successfully: Base Appl...</td>\n    </tr>\n    <tr>\n      <th>96</th>\n      <td>e75fb06f-06c9-497c-ba41-4e30a5444c14</td>\n      <td>Production</td>\n      <td>8afe7b40-8c87-4beb-ada0-451d1761bf95</td>\n      <td>_Exclude_APIV1_</td>\n      <td>2020-09-21 23:31:05.601171200+00:00</td>\n      <td>Extension synchronized successfully: _Exclude_...</td>\n    </tr>\n    <tr>\n      <th>97</th>\n      <td>f2290f38-d878-42c1-a525-9e353a6a587e</td>\n      <td>Production</td>\n      <td>437dbf0e-84ff-417a-965d-ed2bb9650972</td>\n      <td>Base Application</td>\n      <td>2020-09-23 22:45:56.620008400+00:00</td>\n      <td>Extension synchronized successfully: Base Appl...</td>\n    </tr>\n    <tr>\n      <th>98</th>\n      <td>f2290f38-d878-42c1-a525-9e353a6a587e</td>\n      <td>Production</td>\n      <td>437dbf0e-84ff-417a-965d-ed2bb9650972</td>\n      <td>Base Application</td>\n      <td>2020-09-21 22:20:07.636746500+00:00</td>\n      <td>Extension synchronized successfully: Base Appl...</td>\n    </tr>\n    <tr>\n      <th>99</th>\n      <td>f8c5d602-9498-4232-9ac4-b210787d9496</td>\n      <td>Sandbox</td>\n      <td>8afe7b40-8c87-4beb-ada0-451d1761bf95</td>\n      <td>_Exclude_APIV1_</td>\n      <td>2020-09-23 22:38:32.833820200+00:00</td>\n      <td>Extension synchronized successfully: _Exclude_...</td>\n    </tr>\n  </tbody>\n</table>\n</div>",
                        "application/vnd.dataresource+json": {
                            "schema": {
                                "fields": [
                                    {
                                        "name": "aadTenantId",
                                        "type": "string"
                                    },
                                    {
                                        "name": "environmentName",
                                        "type": "string"
                                    },
                                    {
                                        "name": "extensionId",
                                        "type": "string"
                                    },
                                    {
                                        "name": "extensionName",
                                        "type": "string"
                                    },
                                    {
                                        "name": "timestamp",
                                        "type": "datetime",
                                        "tz": "UTC"
                                    },
                                    {
                                        "name": "message",
                                        "type": "string"
                                    }
                                ],
                                "kqmagic_version": "0.1.113"
                            },
                            "data": [
                                {
                                    "aadTenantId": "0845cf51-2012-445e-8a44-fdd0df28584b",
                                    "environmentName": "Sandbox",
                                    "extensionId": "437dbf0e-84ff-417a-965d-ed2bb9650972",
                                    "extensionName": "Base Application",
                                    "timestamp": "2020-09-22T16:14:11.568Z",
                                    "message": "Extension synchronized successfully: Base Application version 16.5.15897.16808 by Microsoft (437dbf0e-84ff-417a-965d-ed2bb9650972)"
                                },
                                {
                                    "aadTenantId": "0952b452-7ca5-43a8-b4cb-9f020d64a567",
                                    "environmentName": "Sandbox",
                                    "extensionId": "437dbf0e-84ff-417a-965d-ed2bb9650972",
                                    "extensionName": "Base Application",
                                    "timestamp": "2020-09-22T16:14:41.267Z",
                                    "message": "Extension synchronized successfully: Base Application version 16.5.15897.16808 by Microsoft (437dbf0e-84ff-417a-965d-ed2bb9650972)"
                                },
                                {
                                    "aadTenantId": "1377ae6d-ed0c-45bd-a6cc-473f83d13e03",
                                    "environmentName": "Production",
                                    "extensionId": "437dbf0e-84ff-417a-965d-ed2bb9650972",
                                    "extensionName": "Base Application",
                                    "timestamp": "2020-09-26T21:58:26.660Z",
                                    "message": "Extension synchronized successfully: Base Application version 16.5.15897.17062 by Microsoft (437dbf0e-84ff-417a-965d-ed2bb9650972)"
                                },
                                {
                                    "aadTenantId": "148eff18-320d-4c99-95ac-6b1c9739195f",
                                    "environmentName": "Sandbox",
                                    "extensionId": "437dbf0e-84ff-417a-965d-ed2bb9650972",
                                    "extensionName": "Base Application",
                                    "timestamp": "2020-09-23T23:43:51.868Z",
                                    "message": "Extension synchronized successfully: Base Application version 16.5.15897.16869 by Microsoft (437dbf0e-84ff-417a-965d-ed2bb9650972)"
                                },
                                {
                                    "aadTenantId": "14f6e7c1-10ef-4d9c-a5b7-87592cf8d066",
                                    "environmentName": "Sandbox",
                                    "extensionId": "437dbf0e-84ff-417a-965d-ed2bb9650972",
                                    "extensionName": "Base Application",
                                    "timestamp": "2020-09-27T03:16:33.846Z",
                                    "message": "Extension synchronized successfully: Base Application version 16.5.15897.16869 by Microsoft (437dbf0e-84ff-417a-965d-ed2bb9650972)"
                                },
                                {
                                    "aadTenantId": "14f6e7c1-10ef-4d9c-a5b7-87592cf8d066",
                                    "environmentName": "Sandbox",
                                    "extensionId": "8afe7b40-8c87-4beb-ada0-451d1761bf95",
                                    "extensionName": "_Exclude_APIV1_",
                                    "timestamp": "2020-09-27T03:16:59.869Z",
                                    "message": "Extension synchronized successfully: _Exclude_APIV1_ version 16.5.15897.16869 by Microsoft (8afe7b40-8c87-4beb-ada0-451d1761bf95)"
                                },
                                {
                                    "aadTenantId": "1525097a-c341-473b-b235-3def2adb15de",
                                    "environmentName": "Production",
                                    "extensionId": "437dbf0e-84ff-417a-965d-ed2bb9650972",
                                    "extensionName": "Base Application",
                                    "timestamp": "2020-09-26T21:58:29.587Z",
                                    "message": "Extension synchronized successfully: Base Application version 16.5.15897.17062 by Microsoft (437dbf0e-84ff-417a-965d-ed2bb9650972)"
                                },
                                {
                                    "aadTenantId": "1525097a-c341-473b-b235-3def2adb15de",
                                    "environmentName": "Production",
                                    "extensionId": "437dbf0e-84ff-417a-965d-ed2bb9650972",
                                    "extensionName": "Base Application",
                                    "timestamp": "2020-09-23T21:10:28.828Z",
                                    "message": "Extension synchronized successfully: Base Application version 16.5.15897.16982 by Microsoft (437dbf0e-84ff-417a-965d-ed2bb9650972)"
                                },
                                {
                                    "aadTenantId": "187ad3be-63c6-48da-b603-a00799aa63bc",
                                    "environmentName": "Production",
                                    "extensionId": "437dbf0e-84ff-417a-965d-ed2bb9650972",
                                    "extensionName": "Base Application",
                                    "timestamp": "2020-09-24T00:07:12.250Z",
                                    "message": "Extension synchronized successfully: Base Application version 16.5.15897.16869 by Microsoft (437dbf0e-84ff-417a-965d-ed2bb9650972)"
                                },
                                {
                                    "aadTenantId": "18a38716-7d7e-49b4-a1fe-faa1cd2b30c6",
                                    "environmentName": "Sandbox",
                                    "extensionId": "437dbf0e-84ff-417a-965d-ed2bb9650972",
                                    "extensionName": "Base Application",
                                    "timestamp": "2020-09-22T16:13:35.839Z",
                                    "message": "Extension synchronized successfully: Base Application version 16.5.15897.16808 by Microsoft (437dbf0e-84ff-417a-965d-ed2bb9650972)"
                                },
                                {
                                    "aadTenantId": "1abbcd26-1697-491b-b9ba-6d0654d0c491",
                                    "environmentName": "Sandbox",
                                    "extensionId": "437dbf0e-84ff-417a-965d-ed2bb9650972",
                                    "extensionName": "Base Application",
                                    "timestamp": "2020-09-23T10:11:53.970Z",
                                    "message": "Extension synchronized successfully: Base Application version 17.0.16954.0 by Microsoft (437dbf0e-84ff-417a-965d-ed2bb9650972)"
                                },
                                {
                                    "aadTenantId": "1fb18377-1bc8-4f7e-a0d9-39c51318637f",
                                    "environmentName": "Production",
                                    "extensionId": "437dbf0e-84ff-417a-965d-ed2bb9650972",
                                    "extensionName": "Base Application",
                                    "timestamp": "2020-09-21T22:19:58.537Z",
                                    "message": "Extension synchronized successfully: Base Application version 16.5.15897.16808 by Microsoft (437dbf0e-84ff-417a-965d-ed2bb9650972)"
                                },
                                {
                                    "aadTenantId": "22fcb23d-346a-496c-b93f-94c1d2dd996a",
                                    "environmentName": "Production",
                                    "extensionId": "437dbf0e-84ff-417a-965d-ed2bb9650972",
                                    "extensionName": "Base Application",
                                    "timestamp": "2020-09-21T22:19:07.204Z",
                                    "message": "Extension synchronized successfully: Base Application version 16.5.15897.16808 by Microsoft (437dbf0e-84ff-417a-965d-ed2bb9650972)"
                                },
                                {
                                    "aadTenantId": "24030e4b-0ccf-4750-976b-339b88163382",
                                    "environmentName": "Production",
                                    "extensionId": "437dbf0e-84ff-417a-965d-ed2bb9650972",
                                    "extensionName": "Base Application",
                                    "timestamp": "2020-09-23T21:26:36.012Z",
                                    "message": "Extension synchronized successfully: Base Application version 16.5.15897.16869 by Microsoft (437dbf0e-84ff-417a-965d-ed2bb9650972)"
                                },
                                {
                                    "aadTenantId": "24030e4b-0ccf-4750-976b-339b88163382",
                                    "environmentName": "Production",
                                    "extensionId": "8afe7b40-8c87-4beb-ada0-451d1761bf95",
                                    "extensionName": "_Exclude_APIV1_",
                                    "timestamp": "2020-09-23T21:27:28.139Z",
                                    "message": "Extension synchronized successfully: _Exclude_APIV1_ version 16.5.15897.16869 by Microsoft (8afe7b40-8c87-4beb-ada0-451d1761bf95)"
                                },
                                {
                                    "aadTenantId": "266d9139-5799-466a-be1a-759c35e2d26f",
                                    "environmentName": "Production",
                                    "extensionId": "437dbf0e-84ff-417a-965d-ed2bb9650972",
                                    "extensionName": "Base Application",
                                    "timestamp": "2020-09-26T21:47:39.814Z",
                                    "message": "Extension synchronized successfully: Base Application version 16.5.15897.17062 by Microsoft (437dbf0e-84ff-417a-965d-ed2bb9650972)"
                                },
                                {
                                    "aadTenantId": "266d9139-5799-466a-be1a-759c35e2d26f",
                                    "environmentName": "Production",
                                    "extensionId": "437dbf0e-84ff-417a-965d-ed2bb9650972",
                                    "extensionName": "Base Application",
                                    "timestamp": "2020-09-23T22:38:20.681Z",
                                    "message": "Extension synchronized successfully: Base Application version 16.5.15897.16982 by Microsoft (437dbf0e-84ff-417a-965d-ed2bb9650972)"
                                },
                                {
                                    "aadTenantId": "266d9139-5799-466a-be1a-759c35e2d26f",
                                    "environmentName": "Sandbox",
                                    "extensionId": "437dbf0e-84ff-417a-965d-ed2bb9650972",
                                    "extensionName": "Base Application",
                                    "timestamp": "2020-09-26T21:45:53.152Z",
                                    "message": "Extension synchronized successfully: Base Application version 16.5.15897.17062 by Microsoft (437dbf0e-84ff-417a-965d-ed2bb9650972)"
                                },
                                {
                                    "aadTenantId": "2d3184ea-e6bd-4fe7-9815-3e35d45d357a",
                                    "environmentName": "Sandbox",
                                    "extensionId": "",
                                    "extensionName": "TestSnapshot",
                                    "timestamp": "2020-09-23T12:10:18.464Z",
                                    "message": "Extension un-published successfully: TestSnapshot version 1.0.0.0 by Default publisher ()"
                                },
                                {
                                    "aadTenantId": "2d3184ea-e6bd-4fe7-9815-3e35d45d357a",
                                    "environmentName": "Sandbox",
                                    "extensionId": "ca6b52ef-5afa-4391-a291-eb3475dbb94a",
                                    "extensionName": "TestSnapshot",
                                    "timestamp": "2020-09-23T12:10:19.341Z",
                                    "message": "Extension installed successfully: TestSnapshot version 1.0.0.0 by Default publisher (ca6b52ef-5afa-4391-a291-eb3475dbb94a)"
                                },
                                {
                                    "aadTenantId": "2d3184ea-e6bd-4fe7-9815-3e35d45d357a",
                                    "environmentName": "Sandbox",
                                    "extensionId": "ca6b52ef-5afa-4391-a291-eb3475dbb94a",
                                    "extensionName": "TestSnapshot",
                                    "timestamp": "2020-09-23T12:10:18.935Z",
                                    "message": "Extension synchronized successfully: TestSnapshot version 1.0.0.0 by Default publisher (ca6b52ef-5afa-4391-a291-eb3475dbb94a)"
                                },
                                {
                                    "aadTenantId": "2d3184ea-e6bd-4fe7-9815-3e35d45d357a",
                                    "environmentName": "Sandbox",
                                    "extensionId": "ca6b52ef-5afa-4391-a291-eb3475dbb94a",
                                    "extensionName": "TestSnapshot",
                                    "timestamp": "2020-09-23T12:10:18.761Z",
                                    "message": "Extension published successfully: TestSnapshot version 1.0.0.0 by Default publisher (ca6b52ef-5afa-4391-a291-eb3475dbb94a)"
                                },
                                {
                                    "aadTenantId": "2d3184ea-e6bd-4fe7-9815-3e35d45d357a",
                                    "environmentName": "Sandbox",
                                    "extensionId": "ca6b52ef-5afa-4391-a291-eb3475dbb94a",
                                    "extensionName": "TestSnapshot",
                                    "timestamp": "2020-09-23T12:10:18.402Z",
                                    "message": "Extension un-installed successfully: TestSnapshot version 1.0.0.0 by Default publisher (ca6b52ef-5afa-4391-a291-eb3475dbb94a)"
                                },
                                {
                                    "aadTenantId": "2f81c8f6-74e4-47f5-9946-51c16a696bcd",
                                    "environmentName": "Sandbox",
                                    "extensionId": "437dbf0e-84ff-417a-965d-ed2bb9650972",
                                    "extensionName": "Base Application",
                                    "timestamp": "2020-09-22T16:33:06.423Z",
                                    "message": "Extension synchronized successfully: Base Application version 16.5.15897.16808 by Microsoft (437dbf0e-84ff-417a-965d-ed2bb9650972)"
                                },
                                {
                                    "aadTenantId": "34c8e198-ceeb-4e59-afd0-ce0f193fce6a",
                                    "environmentName": "Production",
                                    "extensionId": "437dbf0e-84ff-417a-965d-ed2bb9650972",
                                    "extensionName": "Base Application",
                                    "timestamp": "2020-09-21T22:19:53.072Z",
                                    "message": "Extension synchronized successfully: Base Application version 16.5.15897.16808 by Microsoft (437dbf0e-84ff-417a-965d-ed2bb9650972)"
                                },
                                {
                                    "aadTenantId": "3c27c539-b89e-49dd-bdf6-83db92a17dc0",
                                    "environmentName": "Production",
                                    "extensionId": "437dbf0e-84ff-417a-965d-ed2bb9650972",
                                    "extensionName": "Base Application",
                                    "timestamp": "2020-09-21T23:27:24.600Z",
                                    "message": "Extension synchronized successfully: Base Application version 16.5.15897.16808 by Microsoft (437dbf0e-84ff-417a-965d-ed2bb9650972)"
                                },
                                {
                                    "aadTenantId": "46a2bc94-ee76-4e3d-94fa-bf4780f6300f",
                                    "environmentName": "Sandbox",
                                    "extensionId": "437dbf0e-84ff-417a-965d-ed2bb9650972",
                                    "extensionName": "Base Application",
                                    "timestamp": "2020-09-24T00:04:56.109Z",
                                    "message": "Extension synchronized successfully: Base Application version 16.5.15897.16869 by Microsoft (437dbf0e-84ff-417a-965d-ed2bb9650972)"
                                },
                                {
                                    "aadTenantId": "46a2bc94-ee76-4e3d-94fa-bf4780f6300f",
                                    "environmentName": "Sandbox",
                                    "extensionId": "8afe7b40-8c87-4beb-ada0-451d1761bf95",
                                    "extensionName": "_Exclude_APIV1_",
                                    "timestamp": "2020-09-24T00:07:29.627Z",
                                    "message": "Extension synchronized successfully: _Exclude_APIV1_ version 16.5.15897.16869 by Microsoft (8afe7b40-8c87-4beb-ada0-451d1761bf95)"
                                },
                                {
                                    "aadTenantId": "4ac933bf-9f7a-40c2-bf69-03d8ac3ec9d8",
                                    "environmentName": "Production",
                                    "extensionId": "437dbf0e-84ff-417a-965d-ed2bb9650972",
                                    "extensionName": "Base Application",
                                    "timestamp": "2020-09-21T23:27:28.468Z",
                                    "message": "Extension synchronized successfully: Base Application version 16.5.15897.16808 by Microsoft (437dbf0e-84ff-417a-965d-ed2bb9650972)"
                                },
                                {
                                    "aadTenantId": "4ac933bf-9f7a-40c2-bf69-03d8ac3ec9d8",
                                    "environmentName": "Sandbox",
                                    "extensionId": "437dbf0e-84ff-417a-965d-ed2bb9650972",
                                    "extensionName": "Base Application",
                                    "timestamp": "2020-09-21T23:26:35.655Z",
                                    "message": "Extension synchronized successfully: Base Application version 16.5.15897.16808 by Microsoft (437dbf0e-84ff-417a-965d-ed2bb9650972)"
                                },
                                {
                                    "aadTenantId": "4d78c9d1-86e0-4aea-901a-90c322e211db",
                                    "environmentName": "Production",
                                    "extensionId": "437dbf0e-84ff-417a-965d-ed2bb9650972",
                                    "extensionName": "Base Application",
                                    "timestamp": "2020-09-21T23:17:37.797Z",
                                    "message": "Extension synchronized successfully: Base Application version 16.5.15897.16808 by Microsoft (437dbf0e-84ff-417a-965d-ed2bb9650972)"
                                },
                                {
                                    "aadTenantId": "4d78c9d1-86e0-4aea-901a-90c322e211db",
                                    "environmentName": "Sandbox",
                                    "extensionId": "437dbf0e-84ff-417a-965d-ed2bb9650972",
                                    "extensionName": "Base Application",
                                    "timestamp": "2020-09-21T23:17:33.034Z",
                                    "message": "Extension synchronized successfully: Base Application version 16.5.15897.16808 by Microsoft (437dbf0e-84ff-417a-965d-ed2bb9650972)"
                                },
                                {
                                    "aadTenantId": "4f7334eb-dc1d-4bc2-8423-50ad417e53af",
                                    "environmentName": "Production",
                                    "extensionId": "437dbf0e-84ff-417a-965d-ed2bb9650972",
                                    "extensionName": "Base Application",
                                    "timestamp": "2020-09-21T22:20:31.148Z",
                                    "message": "Extension synchronized successfully: Base Application version 16.5.15897.16808 by Microsoft (437dbf0e-84ff-417a-965d-ed2bb9650972)"
                                },
                                {
                                    "aadTenantId": "50ab82b0-e27b-42b6-a9ce-ee4ccc0230d2",
                                    "environmentName": "Sandbox",
                                    "extensionId": "437dbf0e-84ff-417a-965d-ed2bb9650972",
                                    "extensionName": "Base Application",
                                    "timestamp": "2020-09-23T22:46:13.568Z",
                                    "message": "Extension synchronized successfully: Base Application version 16.5.15897.16869 by Microsoft (437dbf0e-84ff-417a-965d-ed2bb9650972)"
                                },
                                {
                                    "aadTenantId": "5345f8ee-16e1-46de-a099-562aee6408ca",
                                    "environmentName": "Production",
                                    "extensionId": "437dbf0e-84ff-417a-965d-ed2bb9650972",
                                    "extensionName": "Base Application",
                                    "timestamp": "2020-09-23T23:49:40.692Z",
                                    "message": "Extension synchronized successfully: Base Application version 16.5.15897.16869 by Microsoft (437dbf0e-84ff-417a-965d-ed2bb9650972)"
                                },
                                {
                                    "aadTenantId": "59599aa6-2c54-4376-b527-fc601bbdce59",
                                    "environmentName": "Production",
                                    "extensionId": "437dbf0e-84ff-417a-965d-ed2bb9650972",
                                    "extensionName": "Base Application",
                                    "timestamp": "2020-09-26T22:04:26.370Z",
                                    "message": "Extension synchronized successfully: Base Application version 16.5.15897.17062 by Microsoft (437dbf0e-84ff-417a-965d-ed2bb9650972)"
                                },
                                {
                                    "aadTenantId": "59599aa6-2c54-4376-b527-fc601bbdce59",
                                    "environmentName": "Production",
                                    "extensionId": "437dbf0e-84ff-417a-965d-ed2bb9650972",
                                    "extensionName": "Base Application",
                                    "timestamp": "2020-09-23T21:26:20.470Z",
                                    "message": "Extension synchronized successfully: Base Application version 16.5.15897.16982 by Microsoft (437dbf0e-84ff-417a-965d-ed2bb9650972)"
                                },
                                {
                                    "aadTenantId": "59599aa6-2c54-4376-b527-fc601bbdce59",
                                    "environmentName": "Production",
                                    "extensionId": "437dbf0e-84ff-417a-965d-ed2bb9650972",
                                    "extensionName": "Base Application",
                                    "timestamp": "2020-09-21T22:47:33.773Z",
                                    "message": "Extension synchronized successfully: Base Application version 16.5.15897.16808 by Microsoft (437dbf0e-84ff-417a-965d-ed2bb9650972)"
                                },
                                {
                                    "aadTenantId": "5c54f21c-9acf-4972-bce8-7cb03922ef06",
                                    "environmentName": "Sandbox",
                                    "extensionId": "8afe7b40-8c87-4beb-ada0-451d1761bf95",
                                    "extensionName": "_Exclude_APIV1_",
                                    "timestamp": "2020-09-24T00:04:10.499Z",
                                    "message": "Extension synchronized successfully: _Exclude_APIV1_ version 16.5.15897.16869 by Microsoft (8afe7b40-8c87-4beb-ada0-451d1761bf95)"
                                },
                                {
                                    "aadTenantId": "682e4eb8-3657-4782-a81a-ca6024cb4535",
                                    "environmentName": "Production",
                                    "extensionId": "437dbf0e-84ff-417a-965d-ed2bb9650972",
                                    "extensionName": "Base Application",
                                    "timestamp": "2020-09-26T21:10:02.283Z",
                                    "message": "Extension synchronized successfully: Base Application version 16.5.15897.17062 by Microsoft (437dbf0e-84ff-417a-965d-ed2bb9650972)"
                                },
                                {
                                    "aadTenantId": "6d83ab61-ebe5-4c50-bbcd-d20ee76ab1d0",
                                    "environmentName": "Sandbox",
                                    "extensionId": "437dbf0e-84ff-417a-965d-ed2bb9650972",
                                    "extensionName": "Base Application",
                                    "timestamp": "2020-09-21T23:17:43.940Z",
                                    "message": "Extension synchronized successfully: Base Application version 16.5.15897.16808 by Microsoft (437dbf0e-84ff-417a-965d-ed2bb9650972)"
                                },
                                {
                                    "aadTenantId": "70c274e0-b8a7-4b34-9aa0-24bf69c93166",
                                    "environmentName": "Production",
                                    "extensionId": "437dbf0e-84ff-417a-965d-ed2bb9650972",
                                    "extensionName": "Base Application",
                                    "timestamp": "2020-09-23T22:36:36.909Z",
                                    "message": "Extension synchronized successfully: Base Application version 16.5.15897.16869 by Microsoft (437dbf0e-84ff-417a-965d-ed2bb9650972)"
                                },
                                {
                                    "aadTenantId": "70c274e0-b8a7-4b34-9aa0-24bf69c93166",
                                    "environmentName": "Sandbox",
                                    "extensionId": "437dbf0e-84ff-417a-965d-ed2bb9650972",
                                    "extensionName": "Base Application",
                                    "timestamp": "2020-09-24T00:04:30.929Z",
                                    "message": "Extension synchronized successfully: Base Application version 16.5.15897.16869 by Microsoft (437dbf0e-84ff-417a-965d-ed2bb9650972)"
                                },
                                {
                                    "aadTenantId": "70c274e0-b8a7-4b34-9aa0-24bf69c93166",
                                    "environmentName": "Sandbox",
                                    "extensionId": "8afe7b40-8c87-4beb-ada0-451d1761bf95",
                                    "extensionName": "_Exclude_APIV1_",
                                    "timestamp": "2020-09-24T00:06:54.508Z",
                                    "message": "Extension synchronized successfully: _Exclude_APIV1_ version 16.5.15897.16869 by Microsoft (8afe7b40-8c87-4beb-ada0-451d1761bf95)"
                                },
                                {
                                    "aadTenantId": "72e6482d-69aa-431c-936b-b74b53e07f9e",
                                    "environmentName": "Production",
                                    "extensionId": "437dbf0e-84ff-417a-965d-ed2bb9650972",
                                    "extensionName": "Base Application",
                                    "timestamp": "2020-09-21T22:47:05.954Z",
                                    "message": "Extension synchronized successfully: Base Application version 16.5.15897.16808 by Microsoft (437dbf0e-84ff-417a-965d-ed2bb9650972)"
                                },
                                {
                                    "aadTenantId": "7405f083-4197-4bc2-a561-326a6c5ab191",
                                    "environmentName": "Sandbox",
                                    "extensionId": "437dbf0e-84ff-417a-965d-ed2bb9650972",
                                    "extensionName": "Base Application",
                                    "timestamp": "2020-09-21T22:19:45.435Z",
                                    "message": "Extension synchronized successfully: Base Application version 16.5.15897.16808 by Microsoft (437dbf0e-84ff-417a-965d-ed2bb9650972)"
                                },
                                {
                                    "aadTenantId": "7a1d0873-2b6d-48ba-817e-7133ba43c465",
                                    "environmentName": "Sandbox",
                                    "extensionId": "437dbf0e-84ff-417a-965d-ed2bb9650972",
                                    "extensionName": "Base Application",
                                    "timestamp": "2020-09-22T15:25:40.038Z",
                                    "message": "Extension synchronized successfully: Base Application version 16.5.15897.16869 by Microsoft (437dbf0e-84ff-417a-965d-ed2bb9650972)"
                                },
                                {
                                    "aadTenantId": "8464e843-a0a2-4fdb-b37d-8cf8fd3c969f",
                                    "environmentName": "Production",
                                    "extensionId": "437dbf0e-84ff-417a-965d-ed2bb9650972",
                                    "extensionName": "Base Application",
                                    "timestamp": "2020-09-26T21:37:26.725Z",
                                    "message": "Extension synchronized successfully: Base Application version 16.5.15897.17062 by Microsoft (437dbf0e-84ff-417a-965d-ed2bb9650972)"
                                },
                                {
                                    "aadTenantId": "93bf3f78-3c1c-406e-8305-a0ea4c82bdc4",
                                    "environmentName": "Sandbox",
                                    "extensionId": "437dbf0e-84ff-417a-965d-ed2bb9650972",
                                    "extensionName": "Base Application",
                                    "timestamp": "2020-09-22T16:13:43.964Z",
                                    "message": "Extension synchronized successfully: Base Application version 16.5.15897.16808 by Microsoft (437dbf0e-84ff-417a-965d-ed2bb9650972)"
                                },
                                {
                                    "aadTenantId": "9696a6bf-9919-4d03-839e-777ef48a07d5",
                                    "environmentName": "Sandbox",
                                    "extensionId": "437dbf0e-84ff-417a-965d-ed2bb9650972",
                                    "extensionName": "Base Application",
                                    "timestamp": "2020-09-21T22:20:41.158Z",
                                    "message": "Extension synchronized successfully: Base Application version 16.5.15897.16869 by Microsoft (437dbf0e-84ff-417a-965d-ed2bb9650972)"
                                },
                                {
                                    "aadTenantId": "9ab9a57d-7c82-4182-82c6-2b4a744a1a4a",
                                    "environmentName": "Sandbox",
                                    "extensionId": "437dbf0e-84ff-417a-965d-ed2bb9650972",
                                    "extensionName": "Base Application",
                                    "timestamp": "2020-09-21T23:17:44.161Z",
                                    "message": "Extension synchronized successfully: Base Application version 16.5.15897.16808 by Microsoft (437dbf0e-84ff-417a-965d-ed2bb9650972)"
                                },
                                {
                                    "aadTenantId": "b0642e40-4bfc-4032-bf97-b91b1890dcda",
                                    "environmentName": "Sandbox",
                                    "extensionId": "437dbf0e-84ff-417a-965d-ed2bb9650972",
                                    "extensionName": "Base Application",
                                    "timestamp": "2020-09-21T23:23:16.032Z",
                                    "message": "Extension synchronized successfully: Base Application version 16.5.15897.16808 by Microsoft (437dbf0e-84ff-417a-965d-ed2bb9650972)"
                                },
                                {
                                    "aadTenantId": "b101f36a-0ce0-4cf7-87a6-b6fc2cf4b22e",
                                    "environmentName": "Production",
                                    "extensionId": "",
                                    "extensionName": "_Exclude_SyncBaseApp_",
                                    "timestamp": "2020-09-26T18:17:51.527Z",
                                    "message": "Extension failed to synchronize: _Exclude_SyncBaseApp_ version 17.0.16993.0 by Microsoft ()"
                                },
                                {
                                    "aadTenantId": "b101f36a-0ce0-4cf7-87a6-b6fc2cf4b22e",
                                    "environmentName": "Production",
                                    "extensionId": "",
                                    "extensionName": "Business Central Cloud Migration - Previous Release (DE)",
                                    "timestamp": "2020-09-26T18:17:51.270Z",
                                    "message": "Extension failed to synchronize: Business Central Cloud Migration - Previous Release (DE) version 17.0.40307.0 by Microsoft ()"
                                },
                                {
                                    "aadTenantId": "b101f36a-0ce0-4cf7-87a6-b6fc2cf4b22e",
                                    "environmentName": "Production",
                                    "extensionId": "",
                                    "extensionName": "_Exclude_Microsoft Dynamics 365 - SmartList",
                                    "timestamp": "2020-09-26T18:17:50.998Z",
                                    "message": "Extension failed to synchronize: _Exclude_Microsoft Dynamics 365 - SmartList version 17.0.16993.0 by Microsoft ()"
                                },
                                {
                                    "aadTenantId": "b101f36a-0ce0-4cf7-87a6-b6fc2cf4b22e",
                                    "environmentName": "Production",
                                    "extensionId": "",
                                    "extensionName": "PayPal Payments Standard",
                                    "timestamp": "2020-09-26T18:17:50.728Z",
                                    "message": "Extension failed to synchronize: PayPal Payments Standard version 17.0.16993.0 by Microsoft ()"
                                },
                                {
                                    "aadTenantId": "b101f36a-0ce0-4cf7-87a6-b6fc2cf4b22e",
                                    "environmentName": "Production",
                                    "extensionId": "",
                                    "extensionName": "Sales and Inventory Forecast",
                                    "timestamp": "2020-09-26T18:17:50.463Z",
                                    "message": "Extension failed to synchronize: Sales and Inventory Forecast version 17.0.16993.0 by Microsoft ()"
                                },
                                {
                                    "aadTenantId": "b101f36a-0ce0-4cf7-87a6-b6fc2cf4b22e",
                                    "environmentName": "Production",
                                    "extensionId": "",
                                    "extensionName": "Company Hub",
                                    "timestamp": "2020-09-26T18:17:50.203Z",
                                    "message": "Extension failed to synchronize: Company Hub version 17.0.16993.0 by Microsoft ()"
                                },
                                {
                                    "aadTenantId": "b101f36a-0ce0-4cf7-87a6-b6fc2cf4b22e",
                                    "environmentName": "Production",
                                    "extensionId": "",
                                    "extensionName": "Application",
                                    "timestamp": "2020-09-26T18:17:49.951Z",
                                    "message": "Extension failed to synchronize: Application version 17.0.16993.0 by Microsoft ()"
                                },
                                {
                                    "aadTenantId": "b101f36a-0ce0-4cf7-87a6-b6fc2cf4b22e",
                                    "environmentName": "Production",
                                    "extensionId": "",
                                    "extensionName": "WorldPay Payments Standard",
                                    "timestamp": "2020-09-26T18:17:49.691Z",
                                    "message": "Extension failed to synchronize: WorldPay Payments Standard version 17.0.16993.0 by Microsoft ()"
                                },
                                {
                                    "aadTenantId": "b101f36a-0ce0-4cf7-87a6-b6fc2cf4b22e",
                                    "environmentName": "Production",
                                    "extensionId": "",
                                    "extensionName": "ELSTER VAT Localization for Germany",
                                    "timestamp": "2020-09-26T18:17:49.438Z",
                                    "message": "Extension failed to synchronize: ELSTER VAT Localization for Germany version 17.0.16993.0 by Microsoft ()"
                                },
                                {
                                    "aadTenantId": "b101f36a-0ce0-4cf7-87a6-b6fc2cf4b22e",
                                    "environmentName": "Production",
                                    "extensionId": "",
                                    "extensionName": "Send To Email Printer",
                                    "timestamp": "2020-09-26T18:17:49.172Z",
                                    "message": "Extension failed to synchronize: Send To Email Printer version 17.0.16993.0 by Microsoft ()"
                                },
                                {
                                    "aadTenantId": "b101f36a-0ce0-4cf7-87a6-b6fc2cf4b22e",
                                    "environmentName": "Production",
                                    "extensionId": "",
                                    "extensionName": "_Exclude_ClientAddIns_",
                                    "timestamp": "2020-09-26T18:17:48.902Z",
                                    "message": "Extension failed to synchronize: _Exclude_ClientAddIns_ version 17.0.16993.0 by Microsoft ()"
                                },
                                {
                                    "aadTenantId": "b101f36a-0ce0-4cf7-87a6-b6fc2cf4b22e",
                                    "environmentName": "Production",
                                    "extensionId": "",
                                    "extensionName": "_Exclude_APIV1_",
                                    "timestamp": "2020-09-26T18:17:48.646Z",
                                    "message": "Extension failed to synchronize: _Exclude_APIV1_ version 17.0.16993.0 by Microsoft ()"
                                },
                                {
                                    "aadTenantId": "b101f36a-0ce0-4cf7-87a6-b6fc2cf4b22e",
                                    "environmentName": "Production",
                                    "extensionId": "",
                                    "extensionName": "Business Central Cloud Migration - Previous Release",
                                    "timestamp": "2020-09-26T18:17:48.380Z",
                                    "message": "Extension failed to synchronize: Business Central Cloud Migration - Previous Release version 17.0.40307.0 by Microsoft ()"
                                },
                                {
                                    "aadTenantId": "b101f36a-0ce0-4cf7-87a6-b6fc2cf4b22e",
                                    "environmentName": "Production",
                                    "extensionId": "",
                                    "extensionName": "Base Application",
                                    "timestamp": "2020-09-26T18:17:48.110Z",
                                    "message": "Extension failed to synchronize: Base Application version 17.0.16993.0 by Microsoft ()"
                                },
                                {
                                    "aadTenantId": "b101f36a-0ce0-4cf7-87a6-b6fc2cf4b22e",
                                    "environmentName": "Production",
                                    "extensionId": "",
                                    "extensionName": "System Application",
                                    "timestamp": "2020-09-26T18:17:47.854Z",
                                    "message": "Extension failed to synchronize: System Application version 17.0.16993.0 by Microsoft ()"
                                },
                                {
                                    "aadTenantId": "b101f36a-0ce0-4cf7-87a6-b6fc2cf4b22e",
                                    "environmentName": "Production",
                                    "extensionId": "",
                                    "extensionName": "Late Payment Prediction",
                                    "timestamp": "2020-09-26T18:17:47.594Z",
                                    "message": "Extension failed to synchronize: Late Payment Prediction version 17.0.16993.0 by Microsoft ()"
                                },
                                {
                                    "aadTenantId": "b101f36a-0ce0-4cf7-87a6-b6fc2cf4b22e",
                                    "environmentName": "Production",
                                    "extensionId": "",
                                    "extensionName": "Business Central Intelligent Cloud",
                                    "timestamp": "2020-09-26T18:17:47.319Z",
                                    "message": "Extension failed to synchronize: Business Central Intelligent Cloud version 17.0.40307.0 by Microsoft ()"
                                },
                                {
                                    "aadTenantId": "b101f36a-0ce0-4cf7-87a6-b6fc2cf4b22e",
                                    "environmentName": "Production",
                                    "extensionId": "",
                                    "extensionName": "Intelligent Cloud Base",
                                    "timestamp": "2020-09-26T18:17:47.044Z",
                                    "message": "Extension failed to synchronize: Intelligent Cloud Base version 17.0.40307.0 by Microsoft ()"
                                },
                                {
                                    "aadTenantId": "b101f36a-0ce0-4cf7-87a6-b6fc2cf4b22e",
                                    "environmentName": "Production",
                                    "extensionId": "",
                                    "extensionName": "Essential Business Headlines",
                                    "timestamp": "2020-09-26T18:17:46.729Z",
                                    "message": "Extension failed to synchronize: Essential Business Headlines version 17.0.16993.0 by Microsoft ()"
                                },
                                {
                                    "aadTenantId": "b101f36a-0ce0-4cf7-87a6-b6fc2cf4b22e",
                                    "environmentName": "Production",
                                    "extensionId": "",
                                    "extensionName": "AMC Banking 365 Fundamentals",
                                    "timestamp": "2020-09-26T18:17:46.469Z",
                                    "message": "Extension failed to synchronize: AMC Banking 365 Fundamentals version 17.0.16993.0 by Microsoft ()"
                                },
                                {
                                    "aadTenantId": "b101f36a-0ce0-4cf7-87a6-b6fc2cf4b22e",
                                    "environmentName": "Production",
                                    "extensionId": "",
                                    "extensionName": "_Exclude_APIV2_",
                                    "timestamp": "2020-09-26T18:17:46.189Z",
                                    "message": "Extension failed to synchronize: _Exclude_APIV2_ version 17.0.16993.0 by Microsoft ()"
                                },
                                {
                                    "aadTenantId": "b101f36a-0ce0-4cf7-87a6-b6fc2cf4b22e",
                                    "environmentName": "Production",
                                    "extensionId": "",
                                    "extensionName": "_Exclude_AnonymizedDataSharing_",
                                    "timestamp": "2020-09-26T18:17:45.846Z",
                                    "message": "Extension failed to synchronize: _Exclude_AnonymizedDataSharing_ version 17.0.16993.0 by Microsoft ()"
                                },
                                {
                                    "aadTenantId": "b385073d-362e-4b64-8725-dc0958bf172b",
                                    "environmentName": "Sandbox",
                                    "extensionId": "437dbf0e-84ff-417a-965d-ed2bb9650972",
                                    "extensionName": "Base Application",
                                    "timestamp": "2020-09-22T16:13:35.570Z",
                                    "message": "Extension synchronized successfully: Base Application version 16.5.15897.16808 by Microsoft (437dbf0e-84ff-417a-965d-ed2bb9650972)"
                                },
                                {
                                    "aadTenantId": "be9dbe62-23d5-4a4c-804c-9295c236db05",
                                    "environmentName": "Production",
                                    "extensionId": "437dbf0e-84ff-417a-965d-ed2bb9650972",
                                    "extensionName": "Base Application",
                                    "timestamp": "2020-09-21T23:31:49.358Z",
                                    "message": "Extension synchronized successfully: Base Application version 16.5.15897.16808 by Microsoft (437dbf0e-84ff-417a-965d-ed2bb9650972)"
                                },
                                {
                                    "aadTenantId": "c9f615ef-5e69-4c11-b720-391231817f54",
                                    "environmentName": "Production",
                                    "extensionId": "437dbf0e-84ff-417a-965d-ed2bb9650972",
                                    "extensionName": "Base Application",
                                    "timestamp": "2020-09-26T21:15:25.427Z",
                                    "message": "Extension synchronized successfully: Base Application version 16.5.15897.17062 by Microsoft (437dbf0e-84ff-417a-965d-ed2bb9650972)"
                                },
                                {
                                    "aadTenantId": "c9f615ef-5e69-4c11-b720-391231817f54",
                                    "environmentName": "Production",
                                    "extensionId": "437dbf0e-84ff-417a-965d-ed2bb9650972",
                                    "extensionName": "Base Application",
                                    "timestamp": "2020-09-23T22:37:38.424Z",
                                    "message": "Extension synchronized successfully: Base Application version 16.5.15897.16982 by Microsoft (437dbf0e-84ff-417a-965d-ed2bb9650972)"
                                },
                                {
                                    "aadTenantId": "cc191039-336b-4fff-8dd6-85204efc67e9",
                                    "environmentName": "Production",
                                    "extensionId": "437dbf0e-84ff-417a-965d-ed2bb9650972",
                                    "extensionName": "Base Application",
                                    "timestamp": "2020-09-26T21:46:44.020Z",
                                    "message": "Extension synchronized successfully: Base Application version 16.5.15897.17062 by Microsoft (437dbf0e-84ff-417a-965d-ed2bb9650972)"
                                },
                                {
                                    "aadTenantId": "cc99fb20-c3f9-426e-8af1-ace4579b0c53",
                                    "environmentName": "Production",
                                    "extensionId": "437dbf0e-84ff-417a-965d-ed2bb9650972",
                                    "extensionName": "Base Application",
                                    "timestamp": "2020-09-22T15:25:17.998Z",
                                    "message": "Extension synchronized successfully: Base Application version 16.5.15897.16800 by Microsoft (437dbf0e-84ff-417a-965d-ed2bb9650972)"
                                },
                                {
                                    "aadTenantId": "ce491550-de18-4ac5-b441-0b7e64bb5c5b",
                                    "environmentName": "Production",
                                    "extensionId": "437dbf0e-84ff-417a-965d-ed2bb9650972",
                                    "extensionName": "Base Application",
                                    "timestamp": "2020-09-26T22:04:55.313Z",
                                    "message": "Extension synchronized successfully: Base Application version 16.5.15897.17062 by Microsoft (437dbf0e-84ff-417a-965d-ed2bb9650972)"
                                },
                                {
                                    "aadTenantId": "ce491550-de18-4ac5-b441-0b7e64bb5c5b",
                                    "environmentName": "Production",
                                    "extensionId": "8afe7b40-8c87-4beb-ada0-451d1761bf95",
                                    "extensionName": "_Exclude_APIV1_",
                                    "timestamp": "2020-09-21T23:50:01.978Z",
                                    "message": "Extension synchronized successfully: _Exclude_APIV1_ version 16.5.15897.16869 by Microsoft (8afe7b40-8c87-4beb-ada0-451d1761bf95)"
                                },
                                {
                                    "aadTenantId": "cec2777c-5cc1-4dc6-a1b7-962481403d36",
                                    "environmentName": "Production",
                                    "extensionId": "8afe7b40-8c87-4beb-ada0-451d1761bf95",
                                    "extensionName": "_Exclude_APIV1_",
                                    "timestamp": "2020-09-23T23:55:10.415Z",
                                    "message": "Extension synchronized successfully: _Exclude_APIV1_ version 16.5.15897.16869 by Microsoft (8afe7b40-8c87-4beb-ada0-451d1761bf95)"
                                },
                                {
                                    "aadTenantId": "cec2777c-5cc1-4dc6-a1b7-962481403d36",
                                    "environmentName": "Sandbox",
                                    "extensionId": "437dbf0e-84ff-417a-965d-ed2bb9650972",
                                    "extensionName": "Base Application",
                                    "timestamp": "2020-09-23T23:42:55.793Z",
                                    "message": "Extension synchronized successfully: Base Application version 16.5.15897.16869 by Microsoft (437dbf0e-84ff-417a-965d-ed2bb9650972)"
                                },
                                {
                                    "aadTenantId": "d41cccc7-89c2-423d-a8f2-e800fae9d3ac",
                                    "environmentName": "Production",
                                    "extensionId": "437dbf0e-84ff-417a-965d-ed2bb9650972",
                                    "extensionName": "Base Application",
                                    "timestamp": "2020-09-21T23:35:25.503Z",
                                    "message": "Extension synchronized successfully: Base Application version 16.5.15897.16808 by Microsoft (437dbf0e-84ff-417a-965d-ed2bb9650972)"
                                },
                                {
                                    "aadTenantId": "df35e278-9680-47e2-93a2-98e8c3beac0b",
                                    "environmentName": "Production",
                                    "extensionId": "437dbf0e-84ff-417a-965d-ed2bb9650972",
                                    "extensionName": "Base Application",
                                    "timestamp": "2020-09-21T22:19:04.966Z",
                                    "message": "Extension synchronized successfully: Base Application version 16.5.15897.16808 by Microsoft (437dbf0e-84ff-417a-965d-ed2bb9650972)"
                                },
                                {
                                    "aadTenantId": "e1d681de-ed51-41b4-978c-0bfd29ebfa4f",
                                    "environmentName": "Production",
                                    "extensionId": "437dbf0e-84ff-417a-965d-ed2bb9650972",
                                    "extensionName": "Base Application",
                                    "timestamp": "2020-09-26T22:05:22.230Z",
                                    "message": "Extension synchronized successfully: Base Application version 16.5.15897.17062 by Microsoft (437dbf0e-84ff-417a-965d-ed2bb9650972)"
                                },
                                {
                                    "aadTenantId": "e1d681de-ed51-41b4-978c-0bfd29ebfa4f",
                                    "environmentName": "Sandbox",
                                    "extensionId": "30c1a959-3fd4-4320-a847-9e0696f74dca",
                                    "extensionName": "TestCompanyOpen",
                                    "timestamp": "2020-09-22T11:07:56.414Z",
                                    "message": "Extension published successfully: TestCompanyOpen version 1.0.0.0 by Default publisher (30c1a959-3fd4-4320-a847-9e0696f74dca)"
                                },
                                {
                                    "aadTenantId": "e1d681de-ed51-41b4-978c-0bfd29ebfa4f",
                                    "environmentName": "Sandbox",
                                    "extensionId": "30c1a959-3fd4-4320-a847-9e0696f74dca",
                                    "extensionName": "TestCompanyOpen",
                                    "timestamp": "2020-09-22T11:07:07.816Z",
                                    "message": "Extension failed to publish: TestCompanyOpen version 1.0.0.0 by Default publisher (30c1a959-3fd4-4320-a847-9e0696f74dca)"
                                },
                                {
                                    "aadTenantId": "e1d681de-ed51-41b4-978c-0bfd29ebfa4f",
                                    "environmentName": "Sandbox",
                                    "extensionId": "437dbf0e-84ff-417a-965d-ed2bb9650972",
                                    "extensionName": "Base Application",
                                    "timestamp": "2020-09-21T21:59:40.644Z",
                                    "message": "Extension synchronized successfully: Base Application version 16.5.15897.16869 by Microsoft (437dbf0e-84ff-417a-965d-ed2bb9650972)"
                                },
                                {
                                    "aadTenantId": "e1d681de-ed51-41b4-978c-0bfd29ebfa4f",
                                    "environmentName": "Sandbox",
                                    "extensionId": "8afe7b40-8c87-4beb-ada0-451d1761bf95",
                                    "extensionName": "_Exclude_APIV1_",
                                    "timestamp": "2020-09-21T22:01:46.174Z",
                                    "message": "Extension synchronized successfully: _Exclude_APIV1_ version 16.5.15897.16869 by Microsoft (8afe7b40-8c87-4beb-ada0-451d1761bf95)"
                                },
                                {
                                    "aadTenantId": "e1db3514-10b8-4f09-a5b6-8541caf48292",
                                    "environmentName": "Production",
                                    "extensionId": "437dbf0e-84ff-417a-965d-ed2bb9650972",
                                    "extensionName": "Base Application",
                                    "timestamp": "2020-09-23T23:52:54.174Z",
                                    "message": "Extension synchronized successfully: Base Application version 16.5.15897.16869 by Microsoft (437dbf0e-84ff-417a-965d-ed2bb9650972)"
                                },
                                {
                                    "aadTenantId": "e1db3514-10b8-4f09-a5b6-8541caf48292",
                                    "environmentName": "Production",
                                    "extensionId": "8afe7b40-8c87-4beb-ada0-451d1761bf95",
                                    "extensionName": "_Exclude_APIV1_",
                                    "timestamp": "2020-09-23T23:55:19.628Z",
                                    "message": "Extension synchronized successfully: _Exclude_APIV1_ version 16.5.15897.16869 by Microsoft (8afe7b40-8c87-4beb-ada0-451d1761bf95)"
                                },
                                {
                                    "aadTenantId": "e75fb06f-06c9-497c-ba41-4e30a5444c14",
                                    "environmentName": "Production",
                                    "extensionId": "437dbf0e-84ff-417a-965d-ed2bb9650972",
                                    "extensionName": "Base Application",
                                    "timestamp": "2020-09-26T21:48:09.996Z",
                                    "message": "Extension synchronized successfully: Base Application version 16.5.15897.17062 by Microsoft (437dbf0e-84ff-417a-965d-ed2bb9650972)"
                                },
                                {
                                    "aadTenantId": "e75fb06f-06c9-497c-ba41-4e30a5444c14",
                                    "environmentName": "Production",
                                    "extensionId": "437dbf0e-84ff-417a-965d-ed2bb9650972",
                                    "extensionName": "Base Application",
                                    "timestamp": "2020-09-21T23:30:48.207Z",
                                    "message": "Extension synchronized successfully: Base Application version 16.5.15897.16869 by Microsoft (437dbf0e-84ff-417a-965d-ed2bb9650972)"
                                },
                                {
                                    "aadTenantId": "e75fb06f-06c9-497c-ba41-4e30a5444c14",
                                    "environmentName": "Production",
                                    "extensionId": "437dbf0e-84ff-417a-965d-ed2bb9650972",
                                    "extensionName": "Base Application",
                                    "timestamp": "2020-09-21T22:19:43.007Z",
                                    "message": "Extension synchronized successfully: Base Application version 16.5.15897.16808 by Microsoft (437dbf0e-84ff-417a-965d-ed2bb9650972)"
                                },
                                {
                                    "aadTenantId": "e75fb06f-06c9-497c-ba41-4e30a5444c14",
                                    "environmentName": "Production",
                                    "extensionId": "8afe7b40-8c87-4beb-ada0-451d1761bf95",
                                    "extensionName": "_Exclude_APIV1_",
                                    "timestamp": "2020-09-21T23:31:05.601Z",
                                    "message": "Extension synchronized successfully: _Exclude_APIV1_ version 16.5.15897.16869 by Microsoft (8afe7b40-8c87-4beb-ada0-451d1761bf95)"
                                },
                                {
                                    "aadTenantId": "f2290f38-d878-42c1-a525-9e353a6a587e",
                                    "environmentName": "Production",
                                    "extensionId": "437dbf0e-84ff-417a-965d-ed2bb9650972",
                                    "extensionName": "Base Application",
                                    "timestamp": "2020-09-23T22:45:56.620Z",
                                    "message": "Extension synchronized successfully: Base Application version 16.5.15897.16869 by Microsoft (437dbf0e-84ff-417a-965d-ed2bb9650972)"
                                },
                                {
                                    "aadTenantId": "f2290f38-d878-42c1-a525-9e353a6a587e",
                                    "environmentName": "Production",
                                    "extensionId": "437dbf0e-84ff-417a-965d-ed2bb9650972",
                                    "extensionName": "Base Application",
                                    "timestamp": "2020-09-21T22:20:07.636Z",
                                    "message": "Extension synchronized successfully: Base Application version 16.5.15897.16808 by Microsoft (437dbf0e-84ff-417a-965d-ed2bb9650972)"
                                },
                                {
                                    "aadTenantId": "f8c5d602-9498-4232-9ac4-b210787d9496",
                                    "environmentName": "Sandbox",
                                    "extensionId": "8afe7b40-8c87-4beb-ada0-451d1761bf95",
                                    "extensionName": "_Exclude_APIV1_",
                                    "timestamp": "2020-09-23T22:38:32.833Z",
                                    "message": "Extension synchronized successfully: _Exclude_APIV1_ version 16.5.15897.16869 by Microsoft (8afe7b40-8c87-4beb-ada0-451d1761bf95)"
                                }
                            ]
                        }
                    },
                    "metadata": {},
                    "output_type": "display_data"
                },
                {
                    "data": {
                        "text/plain": "<IPython.core.display.HTML object>",
                        "text/html": "<html>\n        <head>\n            \n            \n        </head>\n        <body>\n            <div><p style='padding: 10px; color: #3a87ad; background-color: #d9edf7; border-color: #bce9f1'>Done&nbsp;(00:00.586):&nbsp;100&nbsp;records</p></div>\n        </body>\n        </html>"
                    },
                    "metadata": {},
                    "output_type": "display_data"
                },
                {
                    "data": {
                        "text/plain": "[{'aadTenantId': '0845cf51-2012-445e-8a44-fdd0df28584b', 'environmentName': 'Sandbox', 'extensionId': '437dbf0e-84ff-417a-965d-ed2bb9650972', 'extensionName': 'Base Application', 'timestamp': datetime.datetime(2020, 9, 22, 16, 14, 11, 568779, tzinfo=tzutc()), 'message': 'Extension synchronized successfully: Base Application version 16.5.15897.16808 by Microsoft (437dbf0e-84ff-417a-965d-ed2bb9650972)'},\n {'aadTenantId': '0952b452-7ca5-43a8-b4cb-9f020d64a567', 'environmentName': 'Sandbox', 'extensionId': '437dbf0e-84ff-417a-965d-ed2bb9650972', 'extensionName': 'Base Application', 'timestamp': datetime.datetime(2020, 9, 22, 16, 14, 41, 267285, tzinfo=tzutc()), 'message': 'Extension synchronized successfully: Base Application version 16.5.15897.16808 by Microsoft (437dbf0e-84ff-417a-965d-ed2bb9650972)'},\n {'aadTenantId': '1377ae6d-ed0c-45bd-a6cc-473f83d13e03', 'environmentName': 'Production', 'extensionId': '437dbf0e-84ff-417a-965d-ed2bb9650972', 'extensionName': 'Base Application', 'timestamp': datetime.datetime(2020, 9, 26, 21, 58, 26, 660655, tzinfo=tzutc()), 'message': 'Extension synchronized successfully: Base Application version 16.5.15897.17062 by Microsoft (437dbf0e-84ff-417a-965d-ed2bb9650972)'},\n {'aadTenantId': '148eff18-320d-4c99-95ac-6b1c9739195f', 'environmentName': 'Sandbox', 'extensionId': '437dbf0e-84ff-417a-965d-ed2bb9650972', 'extensionName': 'Base Application', 'timestamp': datetime.datetime(2020, 9, 23, 23, 43, 51, 868805, tzinfo=tzutc()), 'message': 'Extension synchronized successfully: Base Application version 16.5.15897.16869 by Microsoft (437dbf0e-84ff-417a-965d-ed2bb9650972)'},\n {'aadTenantId': '14f6e7c1-10ef-4d9c-a5b7-87592cf8d066', 'environmentName': 'Sandbox', 'extensionId': '437dbf0e-84ff-417a-965d-ed2bb9650972', 'extensionName': 'Base Application', 'timestamp': datetime.datetime(2020, 9, 27, 3, 16, 33, 846260, tzinfo=tzutc()), 'message': 'Extension synchronized successfully: Base Application version 16.5.15897.16869 by Microsoft (437dbf0e-84ff-417a-965d-ed2bb9650972)'},\n {'aadTenantId': '14f6e7c1-10ef-4d9c-a5b7-87592cf8d066', 'environmentName': 'Sandbox', 'extensionId': '8afe7b40-8c87-4beb-ada0-451d1761bf95', 'extensionName': '_Exclude_APIV1_', 'timestamp': datetime.datetime(2020, 9, 27, 3, 16, 59, 869288, tzinfo=tzutc()), 'message': 'Extension synchronized successfully: _Exclude_APIV1_ version 16.5.15897.16869 by Microsoft (8afe7b40-8c87-4beb-ada0-451d1761bf95)'},\n {'aadTenantId': '1525097a-c341-473b-b235-3def2adb15de', 'environmentName': 'Production', 'extensionId': '437dbf0e-84ff-417a-965d-ed2bb9650972', 'extensionName': 'Base Application', 'timestamp': datetime.datetime(2020, 9, 26, 21, 58, 29, 587821, tzinfo=tzutc()), 'message': 'Extension synchronized successfully: Base Application version 16.5.15897.17062 by Microsoft (437dbf0e-84ff-417a-965d-ed2bb9650972)'},\n {'aadTenantId': '1525097a-c341-473b-b235-3def2adb15de', 'environmentName': 'Production', 'extensionId': '437dbf0e-84ff-417a-965d-ed2bb9650972', 'extensionName': 'Base Application', 'timestamp': datetime.datetime(2020, 9, 23, 21, 10, 28, 828653, tzinfo=tzutc()), 'message': 'Extension synchronized successfully: Base Application version 16.5.15897.16982 by Microsoft (437dbf0e-84ff-417a-965d-ed2bb9650972)'},\n {'aadTenantId': '187ad3be-63c6-48da-b603-a00799aa63bc', 'environmentName': 'Production', 'extensionId': '437dbf0e-84ff-417a-965d-ed2bb9650972', 'extensionName': 'Base Application', 'timestamp': datetime.datetime(2020, 9, 24, 0, 7, 12, 250764, tzinfo=tzutc()), 'message': 'Extension synchronized successfully: Base Application version 16.5.15897.16869 by Microsoft (437dbf0e-84ff-417a-965d-ed2bb9650972)'},\n {'aadTenantId': '18a38716-7d7e-49b4-a1fe-faa1cd2b30c6', 'environmentName': 'Sandbox', 'extensionId': '437dbf0e-84ff-417a-965d-ed2bb9650972', 'extensionName': 'Base Application', 'timestamp': datetime.datetime(2020, 9, 22, 16, 13, 35, 839006, tzinfo=tzutc()), 'message': 'Extension synchronized successfully: Base Application version 16.5.15897.16808 by Microsoft (437dbf0e-84ff-417a-965d-ed2bb9650972)'},\n {'aadTenantId': '1abbcd26-1697-491b-b9ba-6d0654d0c491', 'environmentName': 'Sandbox', 'extensionId': '437dbf0e-84ff-417a-965d-ed2bb9650972', 'extensionName': 'Base Application', 'timestamp': datetime.datetime(2020, 9, 23, 10, 11, 53, 970220, tzinfo=tzutc()), 'message': 'Extension synchronized successfully: Base Application version 17.0.16954.0 by Microsoft (437dbf0e-84ff-417a-965d-ed2bb9650972)'},\n {'aadTenantId': '1fb18377-1bc8-4f7e-a0d9-39c51318637f', 'environmentName': 'Production', 'extensionId': '437dbf0e-84ff-417a-965d-ed2bb9650972', 'extensionName': 'Base Application', 'timestamp': datetime.datetime(2020, 9, 21, 22, 19, 58, 537534, tzinfo=tzutc()), 'message': 'Extension synchronized successfully: Base Application version 16.5.15897.16808 by Microsoft (437dbf0e-84ff-417a-965d-ed2bb9650972)'},\n {'aadTenantId': '22fcb23d-346a-496c-b93f-94c1d2dd996a', 'environmentName': 'Production', 'extensionId': '437dbf0e-84ff-417a-965d-ed2bb9650972', 'extensionName': 'Base Application', 'timestamp': datetime.datetime(2020, 9, 21, 22, 19, 7, 204327, tzinfo=tzutc()), 'message': 'Extension synchronized successfully: Base Application version 16.5.15897.16808 by Microsoft (437dbf0e-84ff-417a-965d-ed2bb9650972)'},\n {'aadTenantId': '24030e4b-0ccf-4750-976b-339b88163382', 'environmentName': 'Production', 'extensionId': '437dbf0e-84ff-417a-965d-ed2bb9650972', 'extensionName': 'Base Application', 'timestamp': datetime.datetime(2020, 9, 23, 21, 26, 36, 12529, tzinfo=tzutc()), 'message': 'Extension synchronized successfully: Base Application version 16.5.15897.16869 by Microsoft (437dbf0e-84ff-417a-965d-ed2bb9650972)'},\n {'aadTenantId': '24030e4b-0ccf-4750-976b-339b88163382', 'environmentName': 'Production', 'extensionId': '8afe7b40-8c87-4beb-ada0-451d1761bf95', 'extensionName': '_Exclude_APIV1_', 'timestamp': datetime.datetime(2020, 9, 23, 21, 27, 28, 139223, tzinfo=tzutc()), 'message': 'Extension synchronized successfully: _Exclude_APIV1_ version 16.5.15897.16869 by Microsoft (8afe7b40-8c87-4beb-ada0-451d1761bf95)'},\n {'aadTenantId': '266d9139-5799-466a-be1a-759c35e2d26f', 'environmentName': 'Production', 'extensionId': '437dbf0e-84ff-417a-965d-ed2bb9650972', 'extensionName': 'Base Application', 'timestamp': datetime.datetime(2020, 9, 26, 21, 47, 39, 814904, tzinfo=tzutc()), 'message': 'Extension synchronized successfully: Base Application version 16.5.15897.17062 by Microsoft (437dbf0e-84ff-417a-965d-ed2bb9650972)'},\n {'aadTenantId': '266d9139-5799-466a-be1a-759c35e2d26f', 'environmentName': 'Production', 'extensionId': '437dbf0e-84ff-417a-965d-ed2bb9650972', 'extensionName': 'Base Application', 'timestamp': datetime.datetime(2020, 9, 23, 22, 38, 20, 681826, tzinfo=tzutc()), 'message': 'Extension synchronized successfully: Base Application version 16.5.15897.16982 by Microsoft (437dbf0e-84ff-417a-965d-ed2bb9650972)'},\n {'aadTenantId': '266d9139-5799-466a-be1a-759c35e2d26f', 'environmentName': 'Sandbox', 'extensionId': '437dbf0e-84ff-417a-965d-ed2bb9650972', 'extensionName': 'Base Application', 'timestamp': datetime.datetime(2020, 9, 26, 21, 45, 53, 152068, tzinfo=tzutc()), 'message': 'Extension synchronized successfully: Base Application version 16.5.15897.17062 by Microsoft (437dbf0e-84ff-417a-965d-ed2bb9650972)'},\n {'aadTenantId': '2d3184ea-e6bd-4fe7-9815-3e35d45d357a', 'environmentName': 'Sandbox', 'extensionId': '', 'extensionName': 'TestSnapshot', 'timestamp': datetime.datetime(2020, 9, 23, 12, 10, 18, 464481, tzinfo=tzutc()), 'message': 'Extension un-published successfully: TestSnapshot version 1.0.0.0 by Default publisher ()'},\n {'aadTenantId': '2d3184ea-e6bd-4fe7-9815-3e35d45d357a', 'environmentName': 'Sandbox', 'extensionId': 'ca6b52ef-5afa-4391-a291-eb3475dbb94a', 'extensionName': 'TestSnapshot', 'timestamp': datetime.datetime(2020, 9, 23, 12, 10, 19, 341976, tzinfo=tzutc()), 'message': 'Extension installed successfully: TestSnapshot version 1.0.0.0 by Default publisher (ca6b52ef-5afa-4391-a291-eb3475dbb94a)'},\n {'aadTenantId': '2d3184ea-e6bd-4fe7-9815-3e35d45d357a', 'environmentName': 'Sandbox', 'extensionId': 'ca6b52ef-5afa-4391-a291-eb3475dbb94a', 'extensionName': 'TestSnapshot', 'timestamp': datetime.datetime(2020, 9, 23, 12, 10, 18, 935705, tzinfo=tzutc()), 'message': 'Extension synchronized successfully: TestSnapshot version 1.0.0.0 by Default publisher (ca6b52ef-5afa-4391-a291-eb3475dbb94a)'},\n {'aadTenantId': '2d3184ea-e6bd-4fe7-9815-3e35d45d357a', 'environmentName': 'Sandbox', 'extensionId': 'ca6b52ef-5afa-4391-a291-eb3475dbb94a', 'extensionName': 'TestSnapshot', 'timestamp': datetime.datetime(2020, 9, 23, 12, 10, 18, 761376, tzinfo=tzutc()), 'message': 'Extension published successfully: TestSnapshot version 1.0.0.0 by Default publisher (ca6b52ef-5afa-4391-a291-eb3475dbb94a)'},\n {'aadTenantId': '2d3184ea-e6bd-4fe7-9815-3e35d45d357a', 'environmentName': 'Sandbox', 'extensionId': 'ca6b52ef-5afa-4391-a291-eb3475dbb94a', 'extensionName': 'TestSnapshot', 'timestamp': datetime.datetime(2020, 9, 23, 12, 10, 18, 402254, tzinfo=tzutc()), 'message': 'Extension un-installed successfully: TestSnapshot version 1.0.0.0 by Default publisher (ca6b52ef-5afa-4391-a291-eb3475dbb94a)'},\n {'aadTenantId': '2f81c8f6-74e4-47f5-9946-51c16a696bcd', 'environmentName': 'Sandbox', 'extensionId': '437dbf0e-84ff-417a-965d-ed2bb9650972', 'extensionName': 'Base Application', 'timestamp': datetime.datetime(2020, 9, 22, 16, 33, 6, 423389, tzinfo=tzutc()), 'message': 'Extension synchronized successfully: Base Application version 16.5.15897.16808 by Microsoft (437dbf0e-84ff-417a-965d-ed2bb9650972)'},\n {'aadTenantId': '34c8e198-ceeb-4e59-afd0-ce0f193fce6a', 'environmentName': 'Production', 'extensionId': '437dbf0e-84ff-417a-965d-ed2bb9650972', 'extensionName': 'Base Application', 'timestamp': datetime.datetime(2020, 9, 21, 22, 19, 53, 72707, tzinfo=tzutc()), 'message': 'Extension synchronized successfully: Base Application version 16.5.15897.16808 by Microsoft (437dbf0e-84ff-417a-965d-ed2bb9650972)'},\n {'aadTenantId': '3c27c539-b89e-49dd-bdf6-83db92a17dc0', 'environmentName': 'Production', 'extensionId': '437dbf0e-84ff-417a-965d-ed2bb9650972', 'extensionName': 'Base Application', 'timestamp': datetime.datetime(2020, 9, 21, 23, 27, 24, 600751, tzinfo=tzutc()), 'message': 'Extension synchronized successfully: Base Application version 16.5.15897.16808 by Microsoft (437dbf0e-84ff-417a-965d-ed2bb9650972)'},\n {'aadTenantId': '46a2bc94-ee76-4e3d-94fa-bf4780f6300f', 'environmentName': 'Sandbox', 'extensionId': '437dbf0e-84ff-417a-965d-ed2bb9650972', 'extensionName': 'Base Application', 'timestamp': datetime.datetime(2020, 9, 24, 0, 4, 56, 109383, tzinfo=tzutc()), 'message': 'Extension synchronized successfully: Base Application version 16.5.15897.16869 by Microsoft (437dbf0e-84ff-417a-965d-ed2bb9650972)'},\n {'aadTenantId': '46a2bc94-ee76-4e3d-94fa-bf4780f6300f', 'environmentName': 'Sandbox', 'extensionId': '8afe7b40-8c87-4beb-ada0-451d1761bf95', 'extensionName': '_Exclude_APIV1_', 'timestamp': datetime.datetime(2020, 9, 24, 0, 7, 29, 627455, tzinfo=tzutc()), 'message': 'Extension synchronized successfully: _Exclude_APIV1_ version 16.5.15897.16869 by Microsoft (8afe7b40-8c87-4beb-ada0-451d1761bf95)'},\n {'aadTenantId': '4ac933bf-9f7a-40c2-bf69-03d8ac3ec9d8', 'environmentName': 'Production', 'extensionId': '437dbf0e-84ff-417a-965d-ed2bb9650972', 'extensionName': 'Base Application', 'timestamp': datetime.datetime(2020, 9, 21, 23, 27, 28, 468000, tzinfo=tzutc()), 'message': 'Extension synchronized successfully: Base Application version 16.5.15897.16808 by Microsoft (437dbf0e-84ff-417a-965d-ed2bb9650972)'},\n {'aadTenantId': '4ac933bf-9f7a-40c2-bf69-03d8ac3ec9d8', 'environmentName': 'Sandbox', 'extensionId': '437dbf0e-84ff-417a-965d-ed2bb9650972', 'extensionName': 'Base Application', 'timestamp': datetime.datetime(2020, 9, 21, 23, 26, 35, 655999, tzinfo=tzutc()), 'message': 'Extension synchronized successfully: Base Application version 16.5.15897.16808 by Microsoft (437dbf0e-84ff-417a-965d-ed2bb9650972)'},\n {'aadTenantId': '4d78c9d1-86e0-4aea-901a-90c322e211db', 'environmentName': 'Production', 'extensionId': '437dbf0e-84ff-417a-965d-ed2bb9650972', 'extensionName': 'Base Application', 'timestamp': datetime.datetime(2020, 9, 21, 23, 17, 37, 797858, tzinfo=tzutc()), 'message': 'Extension synchronized successfully: Base Application version 16.5.15897.16808 by Microsoft (437dbf0e-84ff-417a-965d-ed2bb9650972)'},\n {'aadTenantId': '4d78c9d1-86e0-4aea-901a-90c322e211db', 'environmentName': 'Sandbox', 'extensionId': '437dbf0e-84ff-417a-965d-ed2bb9650972', 'extensionName': 'Base Application', 'timestamp': datetime.datetime(2020, 9, 21, 23, 17, 33, 34592, tzinfo=tzutc()), 'message': 'Extension synchronized successfully: Base Application version 16.5.15897.16808 by Microsoft (437dbf0e-84ff-417a-965d-ed2bb9650972)'},\n {'aadTenantId': '4f7334eb-dc1d-4bc2-8423-50ad417e53af', 'environmentName': 'Production', 'extensionId': '437dbf0e-84ff-417a-965d-ed2bb9650972', 'extensionName': 'Base Application', 'timestamp': datetime.datetime(2020, 9, 21, 22, 20, 31, 148787, tzinfo=tzutc()), 'message': 'Extension synchronized successfully: Base Application version 16.5.15897.16808 by Microsoft (437dbf0e-84ff-417a-965d-ed2bb9650972)'},\n {'aadTenantId': '50ab82b0-e27b-42b6-a9ce-ee4ccc0230d2', 'environmentName': 'Sandbox', 'extensionId': '437dbf0e-84ff-417a-965d-ed2bb9650972', 'extensionName': 'Base Application', 'timestamp': datetime.datetime(2020, 9, 23, 22, 46, 13, 568134, tzinfo=tzutc()), 'message': 'Extension synchronized successfully: Base Application version 16.5.15897.16869 by Microsoft (437dbf0e-84ff-417a-965d-ed2bb9650972)'},\n {'aadTenantId': '5345f8ee-16e1-46de-a099-562aee6408ca', 'environmentName': 'Production', 'extensionId': '437dbf0e-84ff-417a-965d-ed2bb9650972', 'extensionName': 'Base Application', 'timestamp': datetime.datetime(2020, 9, 23, 23, 49, 40, 692743, tzinfo=tzutc()), 'message': 'Extension synchronized successfully: Base Application version 16.5.15897.16869 by Microsoft (437dbf0e-84ff-417a-965d-ed2bb9650972)'},\n {'aadTenantId': '59599aa6-2c54-4376-b527-fc601bbdce59', 'environmentName': 'Production', 'extensionId': '437dbf0e-84ff-417a-965d-ed2bb9650972', 'extensionName': 'Base Application', 'timestamp': datetime.datetime(2020, 9, 26, 22, 4, 26, 370482, tzinfo=tzutc()), 'message': 'Extension synchronized successfully: Base Application version 16.5.15897.17062 by Microsoft (437dbf0e-84ff-417a-965d-ed2bb9650972)'},\n {'aadTenantId': '59599aa6-2c54-4376-b527-fc601bbdce59', 'environmentName': 'Production', 'extensionId': '437dbf0e-84ff-417a-965d-ed2bb9650972', 'extensionName': 'Base Application', 'timestamp': datetime.datetime(2020, 9, 23, 21, 26, 20, 470342, tzinfo=tzutc()), 'message': 'Extension synchronized successfully: Base Application version 16.5.15897.16982 by Microsoft (437dbf0e-84ff-417a-965d-ed2bb9650972)'},\n {'aadTenantId': '59599aa6-2c54-4376-b527-fc601bbdce59', 'environmentName': 'Production', 'extensionId': '437dbf0e-84ff-417a-965d-ed2bb9650972', 'extensionName': 'Base Application', 'timestamp': datetime.datetime(2020, 9, 21, 22, 47, 33, 773844, tzinfo=tzutc()), 'message': 'Extension synchronized successfully: Base Application version 16.5.15897.16808 by Microsoft (437dbf0e-84ff-417a-965d-ed2bb9650972)'},\n {'aadTenantId': '5c54f21c-9acf-4972-bce8-7cb03922ef06', 'environmentName': 'Sandbox', 'extensionId': '8afe7b40-8c87-4beb-ada0-451d1761bf95', 'extensionName': '_Exclude_APIV1_', 'timestamp': datetime.datetime(2020, 9, 24, 0, 4, 10, 499407, tzinfo=tzutc()), 'message': 'Extension synchronized successfully: _Exclude_APIV1_ version 16.5.15897.16869 by Microsoft (8afe7b40-8c87-4beb-ada0-451d1761bf95)'},\n {'aadTenantId': '682e4eb8-3657-4782-a81a-ca6024cb4535', 'environmentName': 'Production', 'extensionId': '437dbf0e-84ff-417a-965d-ed2bb9650972', 'extensionName': 'Base Application', 'timestamp': datetime.datetime(2020, 9, 26, 21, 10, 2, 283076, tzinfo=tzutc()), 'message': 'Extension synchronized successfully: Base Application version 16.5.15897.17062 by Microsoft (437dbf0e-84ff-417a-965d-ed2bb9650972)'},\n {'aadTenantId': '6d83ab61-ebe5-4c50-bbcd-d20ee76ab1d0', 'environmentName': 'Sandbox', 'extensionId': '437dbf0e-84ff-417a-965d-ed2bb9650972', 'extensionName': 'Base Application', 'timestamp': datetime.datetime(2020, 9, 21, 23, 17, 43, 940662, tzinfo=tzutc()), 'message': 'Extension synchronized successfully: Base Application version 16.5.15897.16808 by Microsoft (437dbf0e-84ff-417a-965d-ed2bb9650972)'},\n {'aadTenantId': '70c274e0-b8a7-4b34-9aa0-24bf69c93166', 'environmentName': 'Production', 'extensionId': '437dbf0e-84ff-417a-965d-ed2bb9650972', 'extensionName': 'Base Application', 'timestamp': datetime.datetime(2020, 9, 23, 22, 36, 36, 909158, tzinfo=tzutc()), 'message': 'Extension synchronized successfully: Base Application version 16.5.15897.16869 by Microsoft (437dbf0e-84ff-417a-965d-ed2bb9650972)'},\n {'aadTenantId': '70c274e0-b8a7-4b34-9aa0-24bf69c93166', 'environmentName': 'Sandbox', 'extensionId': '437dbf0e-84ff-417a-965d-ed2bb9650972', 'extensionName': 'Base Application', 'timestamp': datetime.datetime(2020, 9, 24, 0, 4, 30, 929694, tzinfo=tzutc()), 'message': 'Extension synchronized successfully: Base Application version 16.5.15897.16869 by Microsoft (437dbf0e-84ff-417a-965d-ed2bb9650972)'},\n {'aadTenantId': '70c274e0-b8a7-4b34-9aa0-24bf69c93166', 'environmentName': 'Sandbox', 'extensionId': '8afe7b40-8c87-4beb-ada0-451d1761bf95', 'extensionName': '_Exclude_APIV1_', 'timestamp': datetime.datetime(2020, 9, 24, 0, 6, 54, 508838, tzinfo=tzutc()), 'message': 'Extension synchronized successfully: _Exclude_APIV1_ version 16.5.15897.16869 by Microsoft (8afe7b40-8c87-4beb-ada0-451d1761bf95)'},\n {'aadTenantId': '72e6482d-69aa-431c-936b-b74b53e07f9e', 'environmentName': 'Production', 'extensionId': '437dbf0e-84ff-417a-965d-ed2bb9650972', 'extensionName': 'Base Application', 'timestamp': datetime.datetime(2020, 9, 21, 22, 47, 5, 954688, tzinfo=tzutc()), 'message': 'Extension synchronized successfully: Base Application version 16.5.15897.16808 by Microsoft (437dbf0e-84ff-417a-965d-ed2bb9650972)'},\n {'aadTenantId': '7405f083-4197-4bc2-a561-326a6c5ab191', 'environmentName': 'Sandbox', 'extensionId': '437dbf0e-84ff-417a-965d-ed2bb9650972', 'extensionName': 'Base Application', 'timestamp': datetime.datetime(2020, 9, 21, 22, 19, 45, 435219, tzinfo=tzutc()), 'message': 'Extension synchronized successfully: Base Application version 16.5.15897.16808 by Microsoft (437dbf0e-84ff-417a-965d-ed2bb9650972)'},\n {'aadTenantId': '7a1d0873-2b6d-48ba-817e-7133ba43c465', 'environmentName': 'Sandbox', 'extensionId': '437dbf0e-84ff-417a-965d-ed2bb9650972', 'extensionName': 'Base Application', 'timestamp': datetime.datetime(2020, 9, 22, 15, 25, 40, 38237, tzinfo=tzutc()), 'message': 'Extension synchronized successfully: Base Application version 16.5.15897.16869 by Microsoft (437dbf0e-84ff-417a-965d-ed2bb9650972)'},\n {'aadTenantId': '8464e843-a0a2-4fdb-b37d-8cf8fd3c969f', 'environmentName': 'Production', 'extensionId': '437dbf0e-84ff-417a-965d-ed2bb9650972', 'extensionName': 'Base Application', 'timestamp': datetime.datetime(2020, 9, 26, 21, 37, 26, 725809, tzinfo=tzutc()), 'message': 'Extension synchronized successfully: Base Application version 16.5.15897.17062 by Microsoft (437dbf0e-84ff-417a-965d-ed2bb9650972)'},\n {'aadTenantId': '93bf3f78-3c1c-406e-8305-a0ea4c82bdc4', 'environmentName': 'Sandbox', 'extensionId': '437dbf0e-84ff-417a-965d-ed2bb9650972', 'extensionName': 'Base Application', 'timestamp': datetime.datetime(2020, 9, 22, 16, 13, 43, 964766, tzinfo=tzutc()), 'message': 'Extension synchronized successfully: Base Application version 16.5.15897.16808 by Microsoft (437dbf0e-84ff-417a-965d-ed2bb9650972)'},\n {'aadTenantId': '9696a6bf-9919-4d03-839e-777ef48a07d5', 'environmentName': 'Sandbox', 'extensionId': '437dbf0e-84ff-417a-965d-ed2bb9650972', 'extensionName': 'Base Application', 'timestamp': datetime.datetime(2020, 9, 21, 22, 20, 41, 158813, tzinfo=tzutc()), 'message': 'Extension synchronized successfully: Base Application version 16.5.15897.16869 by Microsoft (437dbf0e-84ff-417a-965d-ed2bb9650972)'},\n {'aadTenantId': '9ab9a57d-7c82-4182-82c6-2b4a744a1a4a', 'environmentName': 'Sandbox', 'extensionId': '437dbf0e-84ff-417a-965d-ed2bb9650972', 'extensionName': 'Base Application', 'timestamp': datetime.datetime(2020, 9, 21, 23, 17, 44, 161604, tzinfo=tzutc()), 'message': 'Extension synchronized successfully: Base Application version 16.5.15897.16808 by Microsoft (437dbf0e-84ff-417a-965d-ed2bb9650972)'},\n {'aadTenantId': 'b0642e40-4bfc-4032-bf97-b91b1890dcda', 'environmentName': 'Sandbox', 'extensionId': '437dbf0e-84ff-417a-965d-ed2bb9650972', 'extensionName': 'Base Application', 'timestamp': datetime.datetime(2020, 9, 21, 23, 23, 16, 32087, tzinfo=tzutc()), 'message': 'Extension synchronized successfully: Base Application version 16.5.15897.16808 by Microsoft (437dbf0e-84ff-417a-965d-ed2bb9650972)'},\n {'aadTenantId': 'b101f36a-0ce0-4cf7-87a6-b6fc2cf4b22e', 'environmentName': 'Production', 'extensionId': '', 'extensionName': '_Exclude_SyncBaseApp_', 'timestamp': datetime.datetime(2020, 9, 26, 18, 17, 51, 527180, tzinfo=tzutc()), 'message': 'Extension failed to synchronize: _Exclude_SyncBaseApp_ version 17.0.16993.0 by Microsoft ()'},\n {'aadTenantId': 'b101f36a-0ce0-4cf7-87a6-b6fc2cf4b22e', 'environmentName': 'Production', 'extensionId': '', 'extensionName': 'Business Central Cloud Migration - Previous Release (DE)', 'timestamp': datetime.datetime(2020, 9, 26, 18, 17, 51, 270432, tzinfo=tzutc()), 'message': 'Extension failed to synchronize: Business Central Cloud Migration - Previous Release (DE) version 17.0.40307.0 by Microsoft ()'},\n {'aadTenantId': 'b101f36a-0ce0-4cf7-87a6-b6fc2cf4b22e', 'environmentName': 'Production', 'extensionId': '', 'extensionName': '_Exclude_Microsoft Dynamics 365 - SmartList', 'timestamp': datetime.datetime(2020, 9, 26, 18, 17, 50, 998190, tzinfo=tzutc()), 'message': 'Extension failed to synchronize: _Exclude_Microsoft Dynamics 365 - SmartList version 17.0.16993.0 by Microsoft ()'},\n {'aadTenantId': 'b101f36a-0ce0-4cf7-87a6-b6fc2cf4b22e', 'environmentName': 'Production', 'extensionId': '', 'extensionName': 'PayPal Payments Standard', 'timestamp': datetime.datetime(2020, 9, 26, 18, 17, 50, 728179, tzinfo=tzutc()), 'message': 'Extension failed to synchronize: PayPal Payments Standard version 17.0.16993.0 by Microsoft ()'},\n {'aadTenantId': 'b101f36a-0ce0-4cf7-87a6-b6fc2cf4b22e', 'environmentName': 'Production', 'extensionId': '', 'extensionName': 'Sales and Inventory Forecast', 'timestamp': datetime.datetime(2020, 9, 26, 18, 17, 50, 463154, tzinfo=tzutc()), 'message': 'Extension failed to synchronize: Sales and Inventory Forecast version 17.0.16993.0 by Microsoft ()'},\n {'aadTenantId': 'b101f36a-0ce0-4cf7-87a6-b6fc2cf4b22e', 'environmentName': 'Production', 'extensionId': '', 'extensionName': 'Company Hub', 'timestamp': datetime.datetime(2020, 9, 26, 18, 17, 50, 203138, tzinfo=tzutc()), 'message': 'Extension failed to synchronize: Company Hub version 17.0.16993.0 by Microsoft ()'},\n {'aadTenantId': 'b101f36a-0ce0-4cf7-87a6-b6fc2cf4b22e', 'environmentName': 'Production', 'extensionId': '', 'extensionName': 'Application', 'timestamp': datetime.datetime(2020, 9, 26, 18, 17, 49, 951884, tzinfo=tzutc()), 'message': 'Extension failed to synchronize: Application version 17.0.16993.0 by Microsoft ()'},\n {'aadTenantId': 'b101f36a-0ce0-4cf7-87a6-b6fc2cf4b22e', 'environmentName': 'Production', 'extensionId': '', 'extensionName': 'WorldPay Payments Standard', 'timestamp': datetime.datetime(2020, 9, 26, 18, 17, 49, 691905, tzinfo=tzutc()), 'message': 'Extension failed to synchronize: WorldPay Payments Standard version 17.0.16993.0 by Microsoft ()'},\n {'aadTenantId': 'b101f36a-0ce0-4cf7-87a6-b6fc2cf4b22e', 'environmentName': 'Production', 'extensionId': '', 'extensionName': 'ELSTER VAT Localization for Germany', 'timestamp': datetime.datetime(2020, 9, 26, 18, 17, 49, 438162, tzinfo=tzutc()), 'message': 'Extension failed to synchronize: ELSTER VAT Localization for Germany version 17.0.16993.0 by Microsoft ()'},\n {'aadTenantId': 'b101f36a-0ce0-4cf7-87a6-b6fc2cf4b22e', 'environmentName': 'Production', 'extensionId': '', 'extensionName': 'Send To Email Printer', 'timestamp': datetime.datetime(2020, 9, 26, 18, 17, 49, 172820, tzinfo=tzutc()), 'message': 'Extension failed to synchronize: Send To Email Printer version 17.0.16993.0 by Microsoft ()'},\n {'aadTenantId': 'b101f36a-0ce0-4cf7-87a6-b6fc2cf4b22e', 'environmentName': 'Production', 'extensionId': '', 'extensionName': '_Exclude_ClientAddIns_', 'timestamp': datetime.datetime(2020, 9, 26, 18, 17, 48, 902055, tzinfo=tzutc()), 'message': 'Extension failed to synchronize: _Exclude_ClientAddIns_ version 17.0.16993.0 by Microsoft ()'},\n {'aadTenantId': 'b101f36a-0ce0-4cf7-87a6-b6fc2cf4b22e', 'environmentName': 'Production', 'extensionId': '', 'extensionName': '_Exclude_APIV1_', 'timestamp': datetime.datetime(2020, 9, 26, 18, 17, 48, 646002, tzinfo=tzutc()), 'message': 'Extension failed to synchronize: _Exclude_APIV1_ version 17.0.16993.0 by Microsoft ()'},\n {'aadTenantId': 'b101f36a-0ce0-4cf7-87a6-b6fc2cf4b22e', 'environmentName': 'Production', 'extensionId': '', 'extensionName': 'Business Central Cloud Migration - Previous Release', 'timestamp': datetime.datetime(2020, 9, 26, 18, 17, 48, 380713, tzinfo=tzutc()), 'message': 'Extension failed to synchronize: Business Central Cloud Migration - Previous Release version 17.0.40307.0 by Microsoft ()'},\n {'aadTenantId': 'b101f36a-0ce0-4cf7-87a6-b6fc2cf4b22e', 'environmentName': 'Production', 'extensionId': '', 'extensionName': 'Base Application', 'timestamp': datetime.datetime(2020, 9, 26, 18, 17, 48, 110709, tzinfo=tzutc()), 'message': 'Extension failed to synchronize: Base Application version 17.0.16993.0 by Microsoft ()'},\n {'aadTenantId': 'b101f36a-0ce0-4cf7-87a6-b6fc2cf4b22e', 'environmentName': 'Production', 'extensionId': '', 'extensionName': 'System Application', 'timestamp': datetime.datetime(2020, 9, 26, 18, 17, 47, 854206, tzinfo=tzutc()), 'message': 'Extension failed to synchronize: System Application version 17.0.16993.0 by Microsoft ()'},\n {'aadTenantId': 'b101f36a-0ce0-4cf7-87a6-b6fc2cf4b22e', 'environmentName': 'Production', 'extensionId': '', 'extensionName': 'Late Payment Prediction', 'timestamp': datetime.datetime(2020, 9, 26, 18, 17, 47, 594218, tzinfo=tzutc()), 'message': 'Extension failed to synchronize: Late Payment Prediction version 17.0.16993.0 by Microsoft ()'},\n {'aadTenantId': 'b101f36a-0ce0-4cf7-87a6-b6fc2cf4b22e', 'environmentName': 'Production', 'extensionId': '', 'extensionName': 'Business Central Intelligent Cloud', 'timestamp': datetime.datetime(2020, 9, 26, 18, 17, 47, 319160, tzinfo=tzutc()), 'message': 'Extension failed to synchronize: Business Central Intelligent Cloud version 17.0.40307.0 by Microsoft ()'},\n {'aadTenantId': 'b101f36a-0ce0-4cf7-87a6-b6fc2cf4b22e', 'environmentName': 'Production', 'extensionId': '', 'extensionName': 'Intelligent Cloud Base', 'timestamp': datetime.datetime(2020, 9, 26, 18, 17, 47, 44157, tzinfo=tzutc()), 'message': 'Extension failed to synchronize: Intelligent Cloud Base version 17.0.40307.0 by Microsoft ()'},\n {'aadTenantId': 'b101f36a-0ce0-4cf7-87a6-b6fc2cf4b22e', 'environmentName': 'Production', 'extensionId': '', 'extensionName': 'Essential Business Headlines', 'timestamp': datetime.datetime(2020, 9, 26, 18, 17, 46, 729132, tzinfo=tzutc()), 'message': 'Extension failed to synchronize: Essential Business Headlines version 17.0.16993.0 by Microsoft ()'},\n {'aadTenantId': 'b101f36a-0ce0-4cf7-87a6-b6fc2cf4b22e', 'environmentName': 'Production', 'extensionId': '', 'extensionName': 'AMC Banking 365 Fundamentals', 'timestamp': datetime.datetime(2020, 9, 26, 18, 17, 46, 469117, tzinfo=tzutc()), 'message': 'Extension failed to synchronize: AMC Banking 365 Fundamentals version 17.0.16993.0 by Microsoft ()'},\n {'aadTenantId': 'b101f36a-0ce0-4cf7-87a6-b6fc2cf4b22e', 'environmentName': 'Production', 'extensionId': '', 'extensionName': '_Exclude_APIV2_', 'timestamp': datetime.datetime(2020, 9, 26, 18, 17, 46, 189100, tzinfo=tzutc()), 'message': 'Extension failed to synchronize: _Exclude_APIV2_ version 17.0.16993.0 by Microsoft ()'},\n {'aadTenantId': 'b101f36a-0ce0-4cf7-87a6-b6fc2cf4b22e', 'environmentName': 'Production', 'extensionId': '', 'extensionName': '_Exclude_AnonymizedDataSharing_', 'timestamp': datetime.datetime(2020, 9, 26, 18, 17, 45, 846082, tzinfo=tzutc()), 'message': 'Extension failed to synchronize: _Exclude_AnonymizedDataSharing_ version 17.0.16993.0 by Microsoft ()'},\n {'aadTenantId': 'b385073d-362e-4b64-8725-dc0958bf172b', 'environmentName': 'Sandbox', 'extensionId': '437dbf0e-84ff-417a-965d-ed2bb9650972', 'extensionName': 'Base Application', 'timestamp': datetime.datetime(2020, 9, 22, 16, 13, 35, 570208, tzinfo=tzutc()), 'message': 'Extension synchronized successfully: Base Application version 16.5.15897.16808 by Microsoft (437dbf0e-84ff-417a-965d-ed2bb9650972)'},\n {'aadTenantId': 'be9dbe62-23d5-4a4c-804c-9295c236db05', 'environmentName': 'Production', 'extensionId': '437dbf0e-84ff-417a-965d-ed2bb9650972', 'extensionName': 'Base Application', 'timestamp': datetime.datetime(2020, 9, 21, 23, 31, 49, 358717, tzinfo=tzutc()), 'message': 'Extension synchronized successfully: Base Application version 16.5.15897.16808 by Microsoft (437dbf0e-84ff-417a-965d-ed2bb9650972)'},\n {'aadTenantId': 'c9f615ef-5e69-4c11-b720-391231817f54', 'environmentName': 'Production', 'extensionId': '437dbf0e-84ff-417a-965d-ed2bb9650972', 'extensionName': 'Base Application', 'timestamp': datetime.datetime(2020, 9, 26, 21, 15, 25, 427694, tzinfo=tzutc()), 'message': 'Extension synchronized successfully: Base Application version 16.5.15897.17062 by Microsoft (437dbf0e-84ff-417a-965d-ed2bb9650972)'},\n {'aadTenantId': 'c9f615ef-5e69-4c11-b720-391231817f54', 'environmentName': 'Production', 'extensionId': '437dbf0e-84ff-417a-965d-ed2bb9650972', 'extensionName': 'Base Application', 'timestamp': datetime.datetime(2020, 9, 23, 22, 37, 38, 424438, tzinfo=tzutc()), 'message': 'Extension synchronized successfully: Base Application version 16.5.15897.16982 by Microsoft (437dbf0e-84ff-417a-965d-ed2bb9650972)'},\n {'aadTenantId': 'cc191039-336b-4fff-8dd6-85204efc67e9', 'environmentName': 'Production', 'extensionId': '437dbf0e-84ff-417a-965d-ed2bb9650972', 'extensionName': 'Base Application', 'timestamp': datetime.datetime(2020, 9, 26, 21, 46, 44, 20075, tzinfo=tzutc()), 'message': 'Extension synchronized successfully: Base Application version 16.5.15897.17062 by Microsoft (437dbf0e-84ff-417a-965d-ed2bb9650972)'},\n {'aadTenantId': 'cc99fb20-c3f9-426e-8af1-ace4579b0c53', 'environmentName': 'Production', 'extensionId': '437dbf0e-84ff-417a-965d-ed2bb9650972', 'extensionName': 'Base Application', 'timestamp': datetime.datetime(2020, 9, 22, 15, 25, 17, 998612, tzinfo=tzutc()), 'message': 'Extension synchronized successfully: Base Application version 16.5.15897.16800 by Microsoft (437dbf0e-84ff-417a-965d-ed2bb9650972)'},\n {'aadTenantId': 'ce491550-de18-4ac5-b441-0b7e64bb5c5b', 'environmentName': 'Production', 'extensionId': '437dbf0e-84ff-417a-965d-ed2bb9650972', 'extensionName': 'Base Application', 'timestamp': datetime.datetime(2020, 9, 26, 22, 4, 55, 313986, tzinfo=tzutc()), 'message': 'Extension synchronized successfully: Base Application version 16.5.15897.17062 by Microsoft (437dbf0e-84ff-417a-965d-ed2bb9650972)'},\n {'aadTenantId': 'ce491550-de18-4ac5-b441-0b7e64bb5c5b', 'environmentName': 'Production', 'extensionId': '8afe7b40-8c87-4beb-ada0-451d1761bf95', 'extensionName': '_Exclude_APIV1_', 'timestamp': datetime.datetime(2020, 9, 21, 23, 50, 1, 978063, tzinfo=tzutc()), 'message': 'Extension synchronized successfully: _Exclude_APIV1_ version 16.5.15897.16869 by Microsoft (8afe7b40-8c87-4beb-ada0-451d1761bf95)'},\n {'aadTenantId': 'cec2777c-5cc1-4dc6-a1b7-962481403d36', 'environmentName': 'Production', 'extensionId': '8afe7b40-8c87-4beb-ada0-451d1761bf95', 'extensionName': '_Exclude_APIV1_', 'timestamp': datetime.datetime(2020, 9, 23, 23, 55, 10, 415229, tzinfo=tzutc()), 'message': 'Extension synchronized successfully: _Exclude_APIV1_ version 16.5.15897.16869 by Microsoft (8afe7b40-8c87-4beb-ada0-451d1761bf95)'},\n {'aadTenantId': 'cec2777c-5cc1-4dc6-a1b7-962481403d36', 'environmentName': 'Sandbox', 'extensionId': '437dbf0e-84ff-417a-965d-ed2bb9650972', 'extensionName': 'Base Application', 'timestamp': datetime.datetime(2020, 9, 23, 23, 42, 55, 793489, tzinfo=tzutc()), 'message': 'Extension synchronized successfully: Base Application version 16.5.15897.16869 by Microsoft (437dbf0e-84ff-417a-965d-ed2bb9650972)'},\n {'aadTenantId': 'd41cccc7-89c2-423d-a8f2-e800fae9d3ac', 'environmentName': 'Production', 'extensionId': '437dbf0e-84ff-417a-965d-ed2bb9650972', 'extensionName': 'Base Application', 'timestamp': datetime.datetime(2020, 9, 21, 23, 35, 25, 503885, tzinfo=tzutc()), 'message': 'Extension synchronized successfully: Base Application version 16.5.15897.16808 by Microsoft (437dbf0e-84ff-417a-965d-ed2bb9650972)'},\n {'aadTenantId': 'df35e278-9680-47e2-93a2-98e8c3beac0b', 'environmentName': 'Production', 'extensionId': '437dbf0e-84ff-417a-965d-ed2bb9650972', 'extensionName': 'Base Application', 'timestamp': datetime.datetime(2020, 9, 21, 22, 19, 4, 966607, tzinfo=tzutc()), 'message': 'Extension synchronized successfully: Base Application version 16.5.15897.16808 by Microsoft (437dbf0e-84ff-417a-965d-ed2bb9650972)'},\n {'aadTenantId': 'e1d681de-ed51-41b4-978c-0bfd29ebfa4f', 'environmentName': 'Production', 'extensionId': '437dbf0e-84ff-417a-965d-ed2bb9650972', 'extensionName': 'Base Application', 'timestamp': datetime.datetime(2020, 9, 26, 22, 5, 22, 230925, tzinfo=tzutc()), 'message': 'Extension synchronized successfully: Base Application version 16.5.15897.17062 by Microsoft (437dbf0e-84ff-417a-965d-ed2bb9650972)'},\n {'aadTenantId': 'e1d681de-ed51-41b4-978c-0bfd29ebfa4f', 'environmentName': 'Sandbox', 'extensionId': '30c1a959-3fd4-4320-a847-9e0696f74dca', 'extensionName': 'TestCompanyOpen', 'timestamp': datetime.datetime(2020, 9, 22, 11, 7, 56, 414253, tzinfo=tzutc()), 'message': 'Extension published successfully: TestCompanyOpen version 1.0.0.0 by Default publisher (30c1a959-3fd4-4320-a847-9e0696f74dca)'},\n {'aadTenantId': 'e1d681de-ed51-41b4-978c-0bfd29ebfa4f', 'environmentName': 'Sandbox', 'extensionId': '30c1a959-3fd4-4320-a847-9e0696f74dca', 'extensionName': 'TestCompanyOpen', 'timestamp': datetime.datetime(2020, 9, 22, 11, 7, 7, 816551, tzinfo=tzutc()), 'message': 'Extension failed to publish: TestCompanyOpen version 1.0.0.0 by Default publisher (30c1a959-3fd4-4320-a847-9e0696f74dca)'},\n {'aadTenantId': 'e1d681de-ed51-41b4-978c-0bfd29ebfa4f', 'environmentName': 'Sandbox', 'extensionId': '437dbf0e-84ff-417a-965d-ed2bb9650972', 'extensionName': 'Base Application', 'timestamp': datetime.datetime(2020, 9, 21, 21, 59, 40, 644067, tzinfo=tzutc()), 'message': 'Extension synchronized successfully: Base Application version 16.5.15897.16869 by Microsoft (437dbf0e-84ff-417a-965d-ed2bb9650972)'},\n {'aadTenantId': 'e1d681de-ed51-41b4-978c-0bfd29ebfa4f', 'environmentName': 'Sandbox', 'extensionId': '8afe7b40-8c87-4beb-ada0-451d1761bf95', 'extensionName': '_Exclude_APIV1_', 'timestamp': datetime.datetime(2020, 9, 21, 22, 1, 46, 174396, tzinfo=tzutc()), 'message': 'Extension synchronized successfully: _Exclude_APIV1_ version 16.5.15897.16869 by Microsoft (8afe7b40-8c87-4beb-ada0-451d1761bf95)'},\n {'aadTenantId': 'e1db3514-10b8-4f09-a5b6-8541caf48292', 'environmentName': 'Production', 'extensionId': '437dbf0e-84ff-417a-965d-ed2bb9650972', 'extensionName': 'Base Application', 'timestamp': datetime.datetime(2020, 9, 23, 23, 52, 54, 174519, tzinfo=tzutc()), 'message': 'Extension synchronized successfully: Base Application version 16.5.15897.16869 by Microsoft (437dbf0e-84ff-417a-965d-ed2bb9650972)'},\n {'aadTenantId': 'e1db3514-10b8-4f09-a5b6-8541caf48292', 'environmentName': 'Production', 'extensionId': '8afe7b40-8c87-4beb-ada0-451d1761bf95', 'extensionName': '_Exclude_APIV1_', 'timestamp': datetime.datetime(2020, 9, 23, 23, 55, 19, 628727, tzinfo=tzutc()), 'message': 'Extension synchronized successfully: _Exclude_APIV1_ version 16.5.15897.16869 by Microsoft (8afe7b40-8c87-4beb-ada0-451d1761bf95)'},\n {'aadTenantId': 'e75fb06f-06c9-497c-ba41-4e30a5444c14', 'environmentName': 'Production', 'extensionId': '437dbf0e-84ff-417a-965d-ed2bb9650972', 'extensionName': 'Base Application', 'timestamp': datetime.datetime(2020, 9, 26, 21, 48, 9, 996012, tzinfo=tzutc()), 'message': 'Extension synchronized successfully: Base Application version 16.5.15897.17062 by Microsoft (437dbf0e-84ff-417a-965d-ed2bb9650972)'},\n {'aadTenantId': 'e75fb06f-06c9-497c-ba41-4e30a5444c14', 'environmentName': 'Production', 'extensionId': '437dbf0e-84ff-417a-965d-ed2bb9650972', 'extensionName': 'Base Application', 'timestamp': datetime.datetime(2020, 9, 21, 23, 30, 48, 207499, tzinfo=tzutc()), 'message': 'Extension synchronized successfully: Base Application version 16.5.15897.16869 by Microsoft (437dbf0e-84ff-417a-965d-ed2bb9650972)'},\n {'aadTenantId': 'e75fb06f-06c9-497c-ba41-4e30a5444c14', 'environmentName': 'Production', 'extensionId': '437dbf0e-84ff-417a-965d-ed2bb9650972', 'extensionName': 'Base Application', 'timestamp': datetime.datetime(2020, 9, 21, 22, 19, 43, 7559, tzinfo=tzutc()), 'message': 'Extension synchronized successfully: Base Application version 16.5.15897.16808 by Microsoft (437dbf0e-84ff-417a-965d-ed2bb9650972)'},\n {'aadTenantId': 'e75fb06f-06c9-497c-ba41-4e30a5444c14', 'environmentName': 'Production', 'extensionId': '8afe7b40-8c87-4beb-ada0-451d1761bf95', 'extensionName': '_Exclude_APIV1_', 'timestamp': datetime.datetime(2020, 9, 21, 23, 31, 5, 601171, tzinfo=tzutc()), 'message': 'Extension synchronized successfully: _Exclude_APIV1_ version 16.5.15897.16869 by Microsoft (8afe7b40-8c87-4beb-ada0-451d1761bf95)'},\n {'aadTenantId': 'f2290f38-d878-42c1-a525-9e353a6a587e', 'environmentName': 'Production', 'extensionId': '437dbf0e-84ff-417a-965d-ed2bb9650972', 'extensionName': 'Base Application', 'timestamp': datetime.datetime(2020, 9, 23, 22, 45, 56, 620008, tzinfo=tzutc()), 'message': 'Extension synchronized successfully: Base Application version 16.5.15897.16869 by Microsoft (437dbf0e-84ff-417a-965d-ed2bb9650972)'},\n {'aadTenantId': 'f2290f38-d878-42c1-a525-9e353a6a587e', 'environmentName': 'Production', 'extensionId': '437dbf0e-84ff-417a-965d-ed2bb9650972', 'extensionName': 'Base Application', 'timestamp': datetime.datetime(2020, 9, 21, 22, 20, 7, 636746, tzinfo=tzutc()), 'message': 'Extension synchronized successfully: Base Application version 16.5.15897.16808 by Microsoft (437dbf0e-84ff-417a-965d-ed2bb9650972)'},\n {'aadTenantId': 'f8c5d602-9498-4232-9ac4-b210787d9496', 'environmentName': 'Sandbox', 'extensionId': '8afe7b40-8c87-4beb-ada0-451d1761bf95', 'extensionName': '_Exclude_APIV1_', 'timestamp': datetime.datetime(2020, 9, 23, 22, 38, 32, 833820, tzinfo=tzutc()), 'message': 'Extension synchronized successfully: _Exclude_APIV1_ version 16.5.15897.16869 by Microsoft (8afe7b40-8c87-4beb-ada0-451d1761bf95)'}]",
                        "text/html": ""
                    },
                    "metadata": {},
                    "execution_count": 24,
                    "output_type": "execute_result"
                }
            ],
            "execution_count": 24
        },
        {
            "cell_type": "markdown",
            "source": [
                "## Extension failures\r\n",
                "\r\n",
                "Event telemetry docs: \r\n",
                "* https://docs.microsoft.com/en-us/dynamics365/business-central/dev-itpro/administration/telemetry-extension-lifecycle-trace\r\n",
                "* https://docs.microsoft.com/en-us/dynamics365/business-central/dev-itpro/administration/telemetry-extension-update-trace"
            ],
            "metadata": {
                "azdata_cell_guid": "2f7e604a-0d02-484e-9bcb-a6aa148d5f0b"
            }
        },
        {
            "cell_type": "code",
            "source": [
                "%%kql\r\n",
                "//\r\n",
                "// extension event failure overview\r\n",
                "// \r\n",
                "let _aadTenantId = aadTenantId;\r\n",
                "let _environmentName = environmentName;\r\n",
                "let _extensionId = extensionId;\r\n",
                "let _startDate = startDate;\r\n",
                "let _endDate = endDate;\r\n",
                "traces\r\n",
                "| where 1==1 \r\n",
                "    and timestamp >= todatetime(_startDate)\r\n",
                "    and timestamp <= todatetime(_endDate) + totimespan(24h) - totimespan(1ms)\r\n",
                "    and (_aadTenantId == '' or customDimensions.aadTenantId == _aadTenantId)\r\n",
                "    and (_environmentName == '' or customDimensions.environmentName == _environmentName )\r\n",
                "    and (_extensionId == '' or customDimensions.extensionId == _extensionId)    \r\n",
                "    and customDimensions.eventId in ('RT0010', 'LC0011', 'LC0013', 'LC0015', 'LC0017', 'LC0019', 'LC021', 'LC023')    \r\n",
                "| extend aadTenantId=tostring( customDimensions.aadTenantId)\r\n",
                "       , environmentName=tostring( customDimensions.environmentName )\r\n",
                "       , extensionId=tostring( customDimensions.extensionId )\r\n",
                "       , eventId=tostring(customDimensions.eventId)\r\n",
                "| extend eventMessageShort=case(\r\n",
                "              eventId=='RT0010', strcat(eventId, ': Extension Update Failed (exception raised in upgrade code)')\r\n",
                "            , eventId=='LC0011', strcat(eventId, ': Extension failed to install')\r\n",
                "            , eventId=='LC0013', strcat(eventId, ': Extension failed to synchronize')            \r\n",
                "            , eventId=='LC0015', strcat(eventId, ': Extension failed to publish')            \r\n",
                "            , eventId=='LC0017', strcat(eventId, ': Extension failed to un-install')            \r\n",
                "            , eventId=='LC0019', strcat(eventId, ': Extension failed to un-publish')\r\n",
                "            , eventId=='LC0021', strcat(eventId, ': Extension failed to compile')\r\n",
                "            , eventId=='LC0023', strcat(eventId, ': Extension failed to update')\r\n",
                "            , strcat( eventId, ': Unknown message')\r\n",
                "         )\r\n",
                "| summarize count() by eventMessageShort\r\n",
                "| order by eventMessageShort\r\n",
                "| render columnchart with (title='Failure type overview', xtitle=\"\", legend=hidden)"
            ],
            "metadata": {
                "azdata_cell_guid": "9ec9b678-7d66-4758-9101-4e9e5025dfcf",
                "tags": []
            },
            "outputs": [
                {
                    "data": {
                        "text/plain": "<IPython.core.display.HTML object>",
                        "text/html": "<html>\n        <head>\n            \n            \n        </head>\n        <body>\n            <div><p style='padding: 10px; color: #3a87ad; background-color: #d9edf7; border-color: #bce9f1'>&nbsp;*&nbsp;962fbf96-f15e-4d37-8f91-13cae96f4b3e@applicationinsights</p></div>\n        </body>\n        </html>"
                    },
                    "metadata": {},
                    "output_type": "display_data"
                },
                {
                    "data": {
                        "application/vnd.plotly.v1+json": {
                            "config": {
                                "plotlyServerURL": "https://plot.ly"
                            },
                            "data": [
                                {
                                    "marker": {
                                        "color": "rgb(31, 118, 179)"
                                    },
                                    "name": "count_",
                                    "orientation": "v",
                                    "type": "bar",
                                    "x": [
                                        "LC0015: Extension failed to publish",
                                        "LC0013: Extension failed to synchronize"
                                    ],
                                    "y": [
                                        1,
                                        59
                                    ]
                                }
                            ],
                            "layout": {
                                "showlegend": false,
                                "template": {
                                    "data": {
                                        "bar": [
                                            {
                                                "error_x": {
                                                    "color": "#2a3f5f"
                                                },
                                                "error_y": {
                                                    "color": "#2a3f5f"
                                                },
                                                "marker": {
                                                    "line": {
                                                        "color": "#E5ECF6",
                                                        "width": 0.5
                                                    }
                                                },
                                                "type": "bar"
                                            }
                                        ],
                                        "barpolar": [
                                            {
                                                "marker": {
                                                    "line": {
                                                        "color": "#E5ECF6",
                                                        "width": 0.5
                                                    }
                                                },
                                                "type": "barpolar"
                                            }
                                        ],
                                        "carpet": [
                                            {
                                                "aaxis": {
                                                    "endlinecolor": "#2a3f5f",
                                                    "gridcolor": "white",
                                                    "linecolor": "white",
                                                    "minorgridcolor": "white",
                                                    "startlinecolor": "#2a3f5f"
                                                },
                                                "baxis": {
                                                    "endlinecolor": "#2a3f5f",
                                                    "gridcolor": "white",
                                                    "linecolor": "white",
                                                    "minorgridcolor": "white",
                                                    "startlinecolor": "#2a3f5f"
                                                },
                                                "type": "carpet"
                                            }
                                        ],
                                        "choropleth": [
                                            {
                                                "colorbar": {
                                                    "outlinewidth": 0,
                                                    "ticks": ""
                                                },
                                                "type": "choropleth"
                                            }
                                        ],
                                        "contour": [
                                            {
                                                "colorbar": {
                                                    "outlinewidth": 0,
                                                    "ticks": ""
                                                },
                                                "colorscale": [
                                                    [
                                                        0,
                                                        "#0d0887"
                                                    ],
                                                    [
                                                        0.1111111111111111,
                                                        "#46039f"
                                                    ],
                                                    [
                                                        0.2222222222222222,
                                                        "#7201a8"
                                                    ],
                                                    [
                                                        0.3333333333333333,
                                                        "#9c179e"
                                                    ],
                                                    [
                                                        0.4444444444444444,
                                                        "#bd3786"
                                                    ],
                                                    [
                                                        0.5555555555555556,
                                                        "#d8576b"
                                                    ],
                                                    [
                                                        0.6666666666666666,
                                                        "#ed7953"
                                                    ],
                                                    [
                                                        0.7777777777777778,
                                                        "#fb9f3a"
                                                    ],
                                                    [
                                                        0.8888888888888888,
                                                        "#fdca26"
                                                    ],
                                                    [
                                                        1,
                                                        "#f0f921"
                                                    ]
                                                ],
                                                "type": "contour"
                                            }
                                        ],
                                        "contourcarpet": [
                                            {
                                                "colorbar": {
                                                    "outlinewidth": 0,
                                                    "ticks": ""
                                                },
                                                "type": "contourcarpet"
                                            }
                                        ],
                                        "heatmap": [
                                            {
                                                "colorbar": {
                                                    "outlinewidth": 0,
                                                    "ticks": ""
                                                },
                                                "colorscale": [
                                                    [
                                                        0,
                                                        "#0d0887"
                                                    ],
                                                    [
                                                        0.1111111111111111,
                                                        "#46039f"
                                                    ],
                                                    [
                                                        0.2222222222222222,
                                                        "#7201a8"
                                                    ],
                                                    [
                                                        0.3333333333333333,
                                                        "#9c179e"
                                                    ],
                                                    [
                                                        0.4444444444444444,
                                                        "#bd3786"
                                                    ],
                                                    [
                                                        0.5555555555555556,
                                                        "#d8576b"
                                                    ],
                                                    [
                                                        0.6666666666666666,
                                                        "#ed7953"
                                                    ],
                                                    [
                                                        0.7777777777777778,
                                                        "#fb9f3a"
                                                    ],
                                                    [
                                                        0.8888888888888888,
                                                        "#fdca26"
                                                    ],
                                                    [
                                                        1,
                                                        "#f0f921"
                                                    ]
                                                ],
                                                "type": "heatmap"
                                            }
                                        ],
                                        "heatmapgl": [
                                            {
                                                "colorbar": {
                                                    "outlinewidth": 0,
                                                    "ticks": ""
                                                },
                                                "colorscale": [
                                                    [
                                                        0,
                                                        "#0d0887"
                                                    ],
                                                    [
                                                        0.1111111111111111,
                                                        "#46039f"
                                                    ],
                                                    [
                                                        0.2222222222222222,
                                                        "#7201a8"
                                                    ],
                                                    [
                                                        0.3333333333333333,
                                                        "#9c179e"
                                                    ],
                                                    [
                                                        0.4444444444444444,
                                                        "#bd3786"
                                                    ],
                                                    [
                                                        0.5555555555555556,
                                                        "#d8576b"
                                                    ],
                                                    [
                                                        0.6666666666666666,
                                                        "#ed7953"
                                                    ],
                                                    [
                                                        0.7777777777777778,
                                                        "#fb9f3a"
                                                    ],
                                                    [
                                                        0.8888888888888888,
                                                        "#fdca26"
                                                    ],
                                                    [
                                                        1,
                                                        "#f0f921"
                                                    ]
                                                ],
                                                "type": "heatmapgl"
                                            }
                                        ],
                                        "histogram": [
                                            {
                                                "marker": {
                                                    "colorbar": {
                                                        "outlinewidth": 0,
                                                        "ticks": ""
                                                    }
                                                },
                                                "type": "histogram"
                                            }
                                        ],
                                        "histogram2d": [
                                            {
                                                "colorbar": {
                                                    "outlinewidth": 0,
                                                    "ticks": ""
                                                },
                                                "colorscale": [
                                                    [
                                                        0,
                                                        "#0d0887"
                                                    ],
                                                    [
                                                        0.1111111111111111,
                                                        "#46039f"
                                                    ],
                                                    [
                                                        0.2222222222222222,
                                                        "#7201a8"
                                                    ],
                                                    [
                                                        0.3333333333333333,
                                                        "#9c179e"
                                                    ],
                                                    [
                                                        0.4444444444444444,
                                                        "#bd3786"
                                                    ],
                                                    [
                                                        0.5555555555555556,
                                                        "#d8576b"
                                                    ],
                                                    [
                                                        0.6666666666666666,
                                                        "#ed7953"
                                                    ],
                                                    [
                                                        0.7777777777777778,
                                                        "#fb9f3a"
                                                    ],
                                                    [
                                                        0.8888888888888888,
                                                        "#fdca26"
                                                    ],
                                                    [
                                                        1,
                                                        "#f0f921"
                                                    ]
                                                ],
                                                "type": "histogram2d"
                                            }
                                        ],
                                        "histogram2dcontour": [
                                            {
                                                "colorbar": {
                                                    "outlinewidth": 0,
                                                    "ticks": ""
                                                },
                                                "colorscale": [
                                                    [
                                                        0,
                                                        "#0d0887"
                                                    ],
                                                    [
                                                        0.1111111111111111,
                                                        "#46039f"
                                                    ],
                                                    [
                                                        0.2222222222222222,
                                                        "#7201a8"
                                                    ],
                                                    [
                                                        0.3333333333333333,
                                                        "#9c179e"
                                                    ],
                                                    [
                                                        0.4444444444444444,
                                                        "#bd3786"
                                                    ],
                                                    [
                                                        0.5555555555555556,
                                                        "#d8576b"
                                                    ],
                                                    [
                                                        0.6666666666666666,
                                                        "#ed7953"
                                                    ],
                                                    [
                                                        0.7777777777777778,
                                                        "#fb9f3a"
                                                    ],
                                                    [
                                                        0.8888888888888888,
                                                        "#fdca26"
                                                    ],
                                                    [
                                                        1,
                                                        "#f0f921"
                                                    ]
                                                ],
                                                "type": "histogram2dcontour"
                                            }
                                        ],
                                        "mesh3d": [
                                            {
                                                "colorbar": {
                                                    "outlinewidth": 0,
                                                    "ticks": ""
                                                },
                                                "type": "mesh3d"
                                            }
                                        ],
                                        "parcoords": [
                                            {
                                                "line": {
                                                    "colorbar": {
                                                        "outlinewidth": 0,
                                                        "ticks": ""
                                                    }
                                                },
                                                "type": "parcoords"
                                            }
                                        ],
                                        "pie": [
                                            {
                                                "automargin": true,
                                                "type": "pie"
                                            }
                                        ],
                                        "scatter": [
                                            {
                                                "marker": {
                                                    "colorbar": {
                                                        "outlinewidth": 0,
                                                        "ticks": ""
                                                    }
                                                },
                                                "type": "scatter"
                                            }
                                        ],
                                        "scatter3d": [
                                            {
                                                "line": {
                                                    "colorbar": {
                                                        "outlinewidth": 0,
                                                        "ticks": ""
                                                    }
                                                },
                                                "marker": {
                                                    "colorbar": {
                                                        "outlinewidth": 0,
                                                        "ticks": ""
                                                    }
                                                },
                                                "type": "scatter3d"
                                            }
                                        ],
                                        "scattercarpet": [
                                            {
                                                "marker": {
                                                    "colorbar": {
                                                        "outlinewidth": 0,
                                                        "ticks": ""
                                                    }
                                                },
                                                "type": "scattercarpet"
                                            }
                                        ],
                                        "scattergeo": [
                                            {
                                                "marker": {
                                                    "colorbar": {
                                                        "outlinewidth": 0,
                                                        "ticks": ""
                                                    }
                                                },
                                                "type": "scattergeo"
                                            }
                                        ],
                                        "scattergl": [
                                            {
                                                "marker": {
                                                    "colorbar": {
                                                        "outlinewidth": 0,
                                                        "ticks": ""
                                                    }
                                                },
                                                "type": "scattergl"
                                            }
                                        ],
                                        "scattermapbox": [
                                            {
                                                "marker": {
                                                    "colorbar": {
                                                        "outlinewidth": 0,
                                                        "ticks": ""
                                                    }
                                                },
                                                "type": "scattermapbox"
                                            }
                                        ],
                                        "scatterpolar": [
                                            {
                                                "marker": {
                                                    "colorbar": {
                                                        "outlinewidth": 0,
                                                        "ticks": ""
                                                    }
                                                },
                                                "type": "scatterpolar"
                                            }
                                        ],
                                        "scatterpolargl": [
                                            {
                                                "marker": {
                                                    "colorbar": {
                                                        "outlinewidth": 0,
                                                        "ticks": ""
                                                    }
                                                },
                                                "type": "scatterpolargl"
                                            }
                                        ],
                                        "scatterternary": [
                                            {
                                                "marker": {
                                                    "colorbar": {
                                                        "outlinewidth": 0,
                                                        "ticks": ""
                                                    }
                                                },
                                                "type": "scatterternary"
                                            }
                                        ],
                                        "surface": [
                                            {
                                                "colorbar": {
                                                    "outlinewidth": 0,
                                                    "ticks": ""
                                                },
                                                "colorscale": [
                                                    [
                                                        0,
                                                        "#0d0887"
                                                    ],
                                                    [
                                                        0.1111111111111111,
                                                        "#46039f"
                                                    ],
                                                    [
                                                        0.2222222222222222,
                                                        "#7201a8"
                                                    ],
                                                    [
                                                        0.3333333333333333,
                                                        "#9c179e"
                                                    ],
                                                    [
                                                        0.4444444444444444,
                                                        "#bd3786"
                                                    ],
                                                    [
                                                        0.5555555555555556,
                                                        "#d8576b"
                                                    ],
                                                    [
                                                        0.6666666666666666,
                                                        "#ed7953"
                                                    ],
                                                    [
                                                        0.7777777777777778,
                                                        "#fb9f3a"
                                                    ],
                                                    [
                                                        0.8888888888888888,
                                                        "#fdca26"
                                                    ],
                                                    [
                                                        1,
                                                        "#f0f921"
                                                    ]
                                                ],
                                                "type": "surface"
                                            }
                                        ],
                                        "table": [
                                            {
                                                "cells": {
                                                    "fill": {
                                                        "color": "#EBF0F8"
                                                    },
                                                    "line": {
                                                        "color": "white"
                                                    }
                                                },
                                                "header": {
                                                    "fill": {
                                                        "color": "#C8D4E3"
                                                    },
                                                    "line": {
                                                        "color": "white"
                                                    }
                                                },
                                                "type": "table"
                                            }
                                        ]
                                    },
                                    "layout": {
                                        "annotationdefaults": {
                                            "arrowcolor": "#2a3f5f",
                                            "arrowhead": 0,
                                            "arrowwidth": 1
                                        },
                                        "coloraxis": {
                                            "colorbar": {
                                                "outlinewidth": 0,
                                                "ticks": ""
                                            }
                                        },
                                        "colorscale": {
                                            "diverging": [
                                                [
                                                    0,
                                                    "#8e0152"
                                                ],
                                                [
                                                    0.1,
                                                    "#c51b7d"
                                                ],
                                                [
                                                    0.2,
                                                    "#de77ae"
                                                ],
                                                [
                                                    0.3,
                                                    "#f1b6da"
                                                ],
                                                [
                                                    0.4,
                                                    "#fde0ef"
                                                ],
                                                [
                                                    0.5,
                                                    "#f7f7f7"
                                                ],
                                                [
                                                    0.6,
                                                    "#e6f5d0"
                                                ],
                                                [
                                                    0.7,
                                                    "#b8e186"
                                                ],
                                                [
                                                    0.8,
                                                    "#7fbc41"
                                                ],
                                                [
                                                    0.9,
                                                    "#4d9221"
                                                ],
                                                [
                                                    1,
                                                    "#276419"
                                                ]
                                            ],
                                            "sequential": [
                                                [
                                                    0,
                                                    "#0d0887"
                                                ],
                                                [
                                                    0.1111111111111111,
                                                    "#46039f"
                                                ],
                                                [
                                                    0.2222222222222222,
                                                    "#7201a8"
                                                ],
                                                [
                                                    0.3333333333333333,
                                                    "#9c179e"
                                                ],
                                                [
                                                    0.4444444444444444,
                                                    "#bd3786"
                                                ],
                                                [
                                                    0.5555555555555556,
                                                    "#d8576b"
                                                ],
                                                [
                                                    0.6666666666666666,
                                                    "#ed7953"
                                                ],
                                                [
                                                    0.7777777777777778,
                                                    "#fb9f3a"
                                                ],
                                                [
                                                    0.8888888888888888,
                                                    "#fdca26"
                                                ],
                                                [
                                                    1,
                                                    "#f0f921"
                                                ]
                                            ],
                                            "sequentialminus": [
                                                [
                                                    0,
                                                    "#0d0887"
                                                ],
                                                [
                                                    0.1111111111111111,
                                                    "#46039f"
                                                ],
                                                [
                                                    0.2222222222222222,
                                                    "#7201a8"
                                                ],
                                                [
                                                    0.3333333333333333,
                                                    "#9c179e"
                                                ],
                                                [
                                                    0.4444444444444444,
                                                    "#bd3786"
                                                ],
                                                [
                                                    0.5555555555555556,
                                                    "#d8576b"
                                                ],
                                                [
                                                    0.6666666666666666,
                                                    "#ed7953"
                                                ],
                                                [
                                                    0.7777777777777778,
                                                    "#fb9f3a"
                                                ],
                                                [
                                                    0.8888888888888888,
                                                    "#fdca26"
                                                ],
                                                [
                                                    1,
                                                    "#f0f921"
                                                ]
                                            ]
                                        },
                                        "colorway": [
                                            "#636efa",
                                            "#EF553B",
                                            "#00cc96",
                                            "#ab63fa",
                                            "#FFA15A",
                                            "#19d3f3",
                                            "#FF6692",
                                            "#B6E880",
                                            "#FF97FF",
                                            "#FECB52"
                                        ],
                                        "font": {
                                            "color": "#2a3f5f"
                                        },
                                        "geo": {
                                            "bgcolor": "white",
                                            "lakecolor": "white",
                                            "landcolor": "#E5ECF6",
                                            "showlakes": true,
                                            "showland": true,
                                            "subunitcolor": "white"
                                        },
                                        "hoverlabel": {
                                            "align": "left"
                                        },
                                        "hovermode": "closest",
                                        "mapbox": {
                                            "style": "light"
                                        },
                                        "paper_bgcolor": "white",
                                        "plot_bgcolor": "#E5ECF6",
                                        "polar": {
                                            "angularaxis": {
                                                "gridcolor": "white",
                                                "linecolor": "white",
                                                "ticks": ""
                                            },
                                            "bgcolor": "#E5ECF6",
                                            "radialaxis": {
                                                "gridcolor": "white",
                                                "linecolor": "white",
                                                "ticks": ""
                                            }
                                        },
                                        "scene": {
                                            "xaxis": {
                                                "backgroundcolor": "#E5ECF6",
                                                "gridcolor": "white",
                                                "gridwidth": 2,
                                                "linecolor": "white",
                                                "showbackground": true,
                                                "ticks": "",
                                                "zerolinecolor": "white"
                                            },
                                            "yaxis": {
                                                "backgroundcolor": "#E5ECF6",
                                                "gridcolor": "white",
                                                "gridwidth": 2,
                                                "linecolor": "white",
                                                "showbackground": true,
                                                "ticks": "",
                                                "zerolinecolor": "white"
                                            },
                                            "zaxis": {
                                                "backgroundcolor": "#E5ECF6",
                                                "gridcolor": "white",
                                                "gridwidth": 2,
                                                "linecolor": "white",
                                                "showbackground": true,
                                                "ticks": "",
                                                "zerolinecolor": "white"
                                            }
                                        },
                                        "shapedefaults": {
                                            "line": {
                                                "color": "#2a3f5f"
                                            }
                                        },
                                        "ternary": {
                                            "aaxis": {
                                                "gridcolor": "white",
                                                "linecolor": "white",
                                                "ticks": ""
                                            },
                                            "baxis": {
                                                "gridcolor": "white",
                                                "linecolor": "white",
                                                "ticks": ""
                                            },
                                            "bgcolor": "#E5ECF6",
                                            "caxis": {
                                                "gridcolor": "white",
                                                "linecolor": "white",
                                                "ticks": ""
                                            }
                                        },
                                        "title": {
                                            "x": 0.05
                                        },
                                        "xaxis": {
                                            "automargin": true,
                                            "gridcolor": "white",
                                            "linecolor": "white",
                                            "ticks": "",
                                            "title": {
                                                "standoff": 15
                                            },
                                            "zerolinecolor": "white",
                                            "zerolinewidth": 2
                                        },
                                        "yaxis": {
                                            "automargin": true,
                                            "gridcolor": "white",
                                            "linecolor": "white",
                                            "ticks": "",
                                            "title": {
                                                "standoff": 15
                                            },
                                            "zerolinecolor": "white",
                                            "zerolinewidth": 2
                                        }
                                    }
                                },
                                "title": {
                                    "text": "Failure type overview"
                                },
                                "xaxis": {
                                    "ticksuffix": "",
                                    "title": {
                                        "text": "eventMessageShort"
                                    },
                                    "type": "category"
                                },
                                "yaxis": {
                                    "title": {
                                        "text": "count_"
                                    },
                                    "type": "linear"
                                }
                            }
                        }
                    },
                    "metadata": {},
                    "output_type": "display_data"
                },
                {
                    "data": {
                        "text/plain": "<IPython.core.display.HTML object>",
                        "text/html": "<html>\n        <head>\n            \n            \n        </head>\n        <body>\n            <div><p style='padding: 10px; color: #3a87ad; background-color: #d9edf7; border-color: #bce9f1'>Done&nbsp;(00:00.611):&nbsp;2&nbsp;records</p></div>\n        </body>\n        </html>"
                    },
                    "metadata": {},
                    "output_type": "display_data"
                },
                {
                    "data": {
                        "text/plain": "[{'eventMessageShort': 'LC0015: Extension failed to publish', 'count_': 1},\n {'eventMessageShort': 'LC0013: Extension failed to synchronize', 'count_': 59}]",
                        "text/html": ""
                    },
                    "metadata": {},
                    "execution_count": 25,
                    "output_type": "execute_result"
                }
            ],
            "execution_count": 25
        },
        {
            "cell_type": "code",
            "source": [
                "%%kql\r\n",
                "//\r\n",
                "// top 100 extension event failure details\r\n",
                "// \r\n",
                "let _aadTenantId = aadTenantId;\r\n",
                "let _environmentName = environmentName;\r\n",
                "let _extensionId = extensionId;\r\n",
                "let _startDate = startDate;\r\n",
                "let _endDate = endDate;\r\n",
                "traces\r\n",
                "| where 1==1 \r\n",
                "    and timestamp >= todatetime(_startDate)\r\n",
                "    and timestamp <= todatetime(_endDate) + totimespan(24h) - totimespan(1ms)\r\n",
                "    and (_aadTenantId == '' or customDimensions.aadTenantId == _aadTenantId)\r\n",
                "    and (_environmentName == '' or customDimensions.environmentName == _environmentName )\r\n",
                "    and (_extensionId == '' or customDimensions.extensionId == _extensionId)\r\n",
                "    and customDimensions.eventId in ('RT0010', 'LC0011', 'LC0013', 'LC0015', 'LC0017', 'LC0019', 'LC021', 'LC023')    \r\n",
                "| extend aadTenantId=tostring( customDimensions.aadTenantId)\r\n",
                "       , environmentName=tostring( customDimensions.environmentName )\r\n",
                "       , extensionId=tostring( customDimensions.extensionId )\r\n",
                "       , eventId=tostring(customDimensions.eventId)\r\n",
                "       , extensionName=tostring(customDimensions.extensionName)\r\n",
                "| extend eventMessageShort=case(\r\n",
                "              eventId=='RT0010', strcat(eventId, ': Extension Update Failed (exception raised in upgrade code)')\r\n",
                "            , eventId=='LC0011', strcat(eventId, ': Extension failed to install')\r\n",
                "            , eventId=='LC0013', strcat(eventId, ': Extension failed to synchronize')            \r\n",
                "            , eventId=='LC0015', strcat(eventId, ': Extension failed to publish')            \r\n",
                "            , eventId=='LC0017', strcat(eventId, ': Extension failed to un-install')            \r\n",
                "            , eventId=='LC0019', strcat(eventId, ': Extension failed to un-publish')\r\n",
                "            , eventId=='LC0021', strcat(eventId, ': Extension failed to compile')\r\n",
                "            , eventId=='LC0023', strcat(eventId, ': Extension failed to update')\r\n",
                "            , strcat( eventId, ': Unknown message')\r\n",
                "         )\r\n",
                "| summarize count() by aadTenantId, environmentName, extensionId, extensionName, eventMessageShort\r\n",
                "| order by count_ desc, aadTenantId asc, environmentName asc, extensionId asc, extensionName asc, eventMessageShort asc\r\n",
                "| limit 100"
            ],
            "metadata": {
                "azdata_cell_guid": "0b53c769-10f8-4343-a89f-fc4cd110d0fa"
            },
            "outputs": [
                {
                    "data": {
                        "text/plain": "<IPython.core.display.HTML object>",
                        "text/html": "<html>\n        <head>\n            \n            \n        </head>\n        <body>\n            <div><p style='padding: 10px; color: #3a87ad; background-color: #d9edf7; border-color: #bce9f1'>&nbsp;*&nbsp;962fbf96-f15e-4d37-8f91-13cae96f4b3e@applicationinsights</p></div>\n        </body>\n        </html>"
                    },
                    "metadata": {},
                    "output_type": "display_data"
                },
                {
                    "data": {
                        "text/plain": "                             aadTenantId environmentName  \\\n0   3aaabf66-9e80-4dc0-bbb4-9f94a456a847      Production   \n1   4f7334eb-dc1d-4bc2-8423-50ad417e53af         Sandbox   \n2   4f7334eb-dc1d-4bc2-8423-50ad417e53af         Sandbox   \n3   4f7334eb-dc1d-4bc2-8423-50ad417e53af         Sandbox   \n4   4f7334eb-dc1d-4bc2-8423-50ad417e53af         Sandbox   \n5   4f7334eb-dc1d-4bc2-8423-50ad417e53af         Sandbox   \n6   4f7334eb-dc1d-4bc2-8423-50ad417e53af         Sandbox   \n7   4f7334eb-dc1d-4bc2-8423-50ad417e53af         Sandbox   \n8   4f7334eb-dc1d-4bc2-8423-50ad417e53af         Sandbox   \n9   4f7334eb-dc1d-4bc2-8423-50ad417e53af         Sandbox   \n10  4f7334eb-dc1d-4bc2-8423-50ad417e53af         Sandbox   \n11  4f7334eb-dc1d-4bc2-8423-50ad417e53af         Sandbox   \n12  4f7334eb-dc1d-4bc2-8423-50ad417e53af         Sandbox   \n13  4f7334eb-dc1d-4bc2-8423-50ad417e53af         Sandbox   \n14  4f7334eb-dc1d-4bc2-8423-50ad417e53af         Sandbox   \n15  4f7334eb-dc1d-4bc2-8423-50ad417e53af         Sandbox   \n16  4f7334eb-dc1d-4bc2-8423-50ad417e53af         Sandbox   \n17  4f7334eb-dc1d-4bc2-8423-50ad417e53af         Sandbox   \n18  4f7334eb-dc1d-4bc2-8423-50ad417e53af         Sandbox   \n19  b101f36a-0ce0-4cf7-87a6-b6fc2cf4b22e      Production   \n20  b101f36a-0ce0-4cf7-87a6-b6fc2cf4b22e      Production   \n21  b101f36a-0ce0-4cf7-87a6-b6fc2cf4b22e      Production   \n22  b101f36a-0ce0-4cf7-87a6-b6fc2cf4b22e      Production   \n23  b101f36a-0ce0-4cf7-87a6-b6fc2cf4b22e      Production   \n24  b101f36a-0ce0-4cf7-87a6-b6fc2cf4b22e      Production   \n25  b101f36a-0ce0-4cf7-87a6-b6fc2cf4b22e      Production   \n26  b101f36a-0ce0-4cf7-87a6-b6fc2cf4b22e      Production   \n27  b101f36a-0ce0-4cf7-87a6-b6fc2cf4b22e      Production   \n28  b101f36a-0ce0-4cf7-87a6-b6fc2cf4b22e      Production   \n29  b101f36a-0ce0-4cf7-87a6-b6fc2cf4b22e      Production   \n30  b101f36a-0ce0-4cf7-87a6-b6fc2cf4b22e      Production   \n31  b101f36a-0ce0-4cf7-87a6-b6fc2cf4b22e      Production   \n32  b101f36a-0ce0-4cf7-87a6-b6fc2cf4b22e      Production   \n33  b101f36a-0ce0-4cf7-87a6-b6fc2cf4b22e      Production   \n34  b101f36a-0ce0-4cf7-87a6-b6fc2cf4b22e      Production   \n35  b101f36a-0ce0-4cf7-87a6-b6fc2cf4b22e      Production   \n36  b101f36a-0ce0-4cf7-87a6-b6fc2cf4b22e      Production   \n37  b101f36a-0ce0-4cf7-87a6-b6fc2cf4b22e      Production   \n38  b101f36a-0ce0-4cf7-87a6-b6fc2cf4b22e      Production   \n39  b101f36a-0ce0-4cf7-87a6-b6fc2cf4b22e      Production   \n40  b101f36a-0ce0-4cf7-87a6-b6fc2cf4b22e      Production   \n41  df35e278-9680-47e2-93a2-98e8c3beac0b         Sandbox   \n42  df35e278-9680-47e2-93a2-98e8c3beac0b         Sandbox   \n43  df35e278-9680-47e2-93a2-98e8c3beac0b         Sandbox   \n44  df35e278-9680-47e2-93a2-98e8c3beac0b         Sandbox   \n45  df35e278-9680-47e2-93a2-98e8c3beac0b         Sandbox   \n46  df35e278-9680-47e2-93a2-98e8c3beac0b         Sandbox   \n47  df35e278-9680-47e2-93a2-98e8c3beac0b         Sandbox   \n48  df35e278-9680-47e2-93a2-98e8c3beac0b         Sandbox   \n49  df35e278-9680-47e2-93a2-98e8c3beac0b         Sandbox   \n50  df35e278-9680-47e2-93a2-98e8c3beac0b         Sandbox   \n51  df35e278-9680-47e2-93a2-98e8c3beac0b         Sandbox   \n52  df35e278-9680-47e2-93a2-98e8c3beac0b         Sandbox   \n53  df35e278-9680-47e2-93a2-98e8c3beac0b         Sandbox   \n54  df35e278-9680-47e2-93a2-98e8c3beac0b         Sandbox   \n55  df35e278-9680-47e2-93a2-98e8c3beac0b         Sandbox   \n56  df35e278-9680-47e2-93a2-98e8c3beac0b         Sandbox   \n57  df35e278-9680-47e2-93a2-98e8c3beac0b         Sandbox   \n58  df35e278-9680-47e2-93a2-98e8c3beac0b         Sandbox   \n59  e1d681de-ed51-41b4-978c-0bfd29ebfa4f         Sandbox   \n\n                             extensionId  \\\n0                                          \n1                                          \n2                                          \n3                                          \n4                                          \n5                                          \n6                                          \n7                                          \n8                                          \n9                                          \n10                                         \n11                                         \n12                                         \n13                                         \n14                                         \n15                                         \n16                                         \n17                                         \n18                                         \n19                                         \n20                                         \n21                                         \n22                                         \n23                                         \n24                                         \n25                                         \n26                                         \n27                                         \n28                                         \n29                                         \n30                                         \n31                                         \n32                                         \n33                                         \n34                                         \n35                                         \n36                                         \n37                                         \n38                                         \n39                                         \n40                                         \n41                                         \n42                                         \n43                                         \n44                                         \n45                                         \n46                                         \n47                                         \n48                                         \n49                                         \n50                                         \n51                                         \n52                                         \n53                                         \n54                                         \n55                                         \n56                                         \n57                                         \n58                                         \n59  30c1a959-3fd4-4320-a847-9e0696f74dca   \n\n                                        extensionName  \\\n0                                VAT Group Management   \n1                                         Application   \n2                                    Base Application   \n3   Business Central Cloud Migration - Previous Re...   \n4                  Business Central Intelligent Cloud   \n5                        Essential Business Headlines   \n6                              Intelligent Cloud Base   \n7                             Late Payment Prediction   \n8                            PayPal Payments Standard   \n9                        Sales and Inventory Forecast   \n10                              Send To Email Printer   \n11                    Send remittance advice by email   \n12                                 System Application   \n13                               VAT Group Management   \n14                                    _Exclude_APIV1_   \n15                    _Exclude_AnonymizedDataSharing_   \n16                             _Exclude_ClientAddIns_   \n17        _Exclude_Microsoft Dynamics 365 - SmartList   \n18                              _Exclude_SyncBaseApp_   \n19                       AMC Banking 365 Fundamentals   \n20                                        Application   \n21                                   Base Application   \n22  Business Central Cloud Migration - Previous Re...   \n23  Business Central Cloud Migration - Previous Re...   \n24                 Business Central Intelligent Cloud   \n25                                        Company Hub   \n26                ELSTER VAT Localization for Germany   \n27                       Essential Business Headlines   \n28                             Intelligent Cloud Base   \n29                            Late Payment Prediction   \n30                           PayPal Payments Standard   \n31                       Sales and Inventory Forecast   \n32                              Send To Email Printer   \n33                                 System Application   \n34                         WorldPay Payments Standard   \n35                                    _Exclude_APIV1_   \n36                                    _Exclude_APIV2_   \n37                    _Exclude_AnonymizedDataSharing_   \n38                             _Exclude_ClientAddIns_   \n39        _Exclude_Microsoft Dynamics 365 - SmartList   \n40                              _Exclude_SyncBaseApp_   \n41                                        Application   \n42                                   Base Application   \n43  Business Central Cloud Migration - Previous Re...   \n44                 Business Central Intelligent Cloud   \n45                       Essential Business Headlines   \n46                             Intelligent Cloud Base   \n47                            Late Payment Prediction   \n48                           PayPal Payments Standard   \n49                       Sales and Inventory Forecast   \n50                              Send To Email Printer   \n51                    Send remittance advice by email   \n52                                 System Application   \n53                               VAT Group Management   \n54                                    _Exclude_APIV1_   \n55                    _Exclude_AnonymizedDataSharing_   \n56                             _Exclude_ClientAddIns_   \n57        _Exclude_Microsoft Dynamics 365 - SmartList   \n58                              _Exclude_SyncBaseApp_   \n59                                    TestCompanyOpen   \n\n                          eventMessageShort  count_  \n0   LC0013: Extension failed to synchronize       1  \n1   LC0013: Extension failed to synchronize       1  \n2   LC0013: Extension failed to synchronize       1  \n3   LC0013: Extension failed to synchronize       1  \n4   LC0013: Extension failed to synchronize       1  \n5   LC0013: Extension failed to synchronize       1  \n6   LC0013: Extension failed to synchronize       1  \n7   LC0013: Extension failed to synchronize       1  \n8   LC0013: Extension failed to synchronize       1  \n9   LC0013: Extension failed to synchronize       1  \n10  LC0013: Extension failed to synchronize       1  \n11  LC0013: Extension failed to synchronize       1  \n12  LC0013: Extension failed to synchronize       1  \n13  LC0013: Extension failed to synchronize       1  \n14  LC0013: Extension failed to synchronize       1  \n15  LC0013: Extension failed to synchronize       1  \n16  LC0013: Extension failed to synchronize       1  \n17  LC0013: Extension failed to synchronize       1  \n18  LC0013: Extension failed to synchronize       1  \n19  LC0013: Extension failed to synchronize       1  \n20  LC0013: Extension failed to synchronize       1  \n21  LC0013: Extension failed to synchronize       1  \n22  LC0013: Extension failed to synchronize       1  \n23  LC0013: Extension failed to synchronize       1  \n24  LC0013: Extension failed to synchronize       1  \n25  LC0013: Extension failed to synchronize       1  \n26  LC0013: Extension failed to synchronize       1  \n27  LC0013: Extension failed to synchronize       1  \n28  LC0013: Extension failed to synchronize       1  \n29  LC0013: Extension failed to synchronize       1  \n30  LC0013: Extension failed to synchronize       1  \n31  LC0013: Extension failed to synchronize       1  \n32  LC0013: Extension failed to synchronize       1  \n33  LC0013: Extension failed to synchronize       1  \n34  LC0013: Extension failed to synchronize       1  \n35  LC0013: Extension failed to synchronize       1  \n36  LC0013: Extension failed to synchronize       1  \n37  LC0013: Extension failed to synchronize       1  \n38  LC0013: Extension failed to synchronize       1  \n39  LC0013: Extension failed to synchronize       1  \n40  LC0013: Extension failed to synchronize       1  \n41  LC0013: Extension failed to synchronize       1  \n42  LC0013: Extension failed to synchronize       1  \n43  LC0013: Extension failed to synchronize       1  \n44  LC0013: Extension failed to synchronize       1  \n45  LC0013: Extension failed to synchronize       1  \n46  LC0013: Extension failed to synchronize       1  \n47  LC0013: Extension failed to synchronize       1  \n48  LC0013: Extension failed to synchronize       1  \n49  LC0013: Extension failed to synchronize       1  \n50  LC0013: Extension failed to synchronize       1  \n51  LC0013: Extension failed to synchronize       1  \n52  LC0013: Extension failed to synchronize       1  \n53  LC0013: Extension failed to synchronize       1  \n54  LC0013: Extension failed to synchronize       1  \n55  LC0013: Extension failed to synchronize       1  \n56  LC0013: Extension failed to synchronize       1  \n57  LC0013: Extension failed to synchronize       1  \n58  LC0013: Extension failed to synchronize       1  \n59      LC0015: Extension failed to publish       1  ",
                        "text/html": "<div>\n<style scoped>\n    .dataframe tbody tr th:only-of-type {\n        vertical-align: middle;\n    }\n\n    .dataframe tbody tr th {\n        vertical-align: top;\n    }\n\n    .dataframe thead th {\n        text-align: right;\n    }\n</style>\n<table border=\"1\" class=\"dataframe\">\n  <thead>\n    <tr style=\"text-align: right;\">\n      <th></th>\n      <th>aadTenantId</th>\n      <th>environmentName</th>\n      <th>extensionId</th>\n      <th>extensionName</th>\n      <th>eventMessageShort</th>\n      <th>count_</th>\n    </tr>\n  </thead>\n  <tbody>\n    <tr>\n      <th>0</th>\n      <td>3aaabf66-9e80-4dc0-bbb4-9f94a456a847</td>\n      <td>Production</td>\n      <td></td>\n      <td>VAT Group Management</td>\n      <td>LC0013: Extension failed to synchronize</td>\n      <td>1</td>\n    </tr>\n    <tr>\n      <th>1</th>\n      <td>4f7334eb-dc1d-4bc2-8423-50ad417e53af</td>\n      <td>Sandbox</td>\n      <td></td>\n      <td>Application</td>\n      <td>LC0013: Extension failed to synchronize</td>\n      <td>1</td>\n    </tr>\n    <tr>\n      <th>2</th>\n      <td>4f7334eb-dc1d-4bc2-8423-50ad417e53af</td>\n      <td>Sandbox</td>\n      <td></td>\n      <td>Base Application</td>\n      <td>LC0013: Extension failed to synchronize</td>\n      <td>1</td>\n    </tr>\n    <tr>\n      <th>3</th>\n      <td>4f7334eb-dc1d-4bc2-8423-50ad417e53af</td>\n      <td>Sandbox</td>\n      <td></td>\n      <td>Business Central Cloud Migration - Previous Re...</td>\n      <td>LC0013: Extension failed to synchronize</td>\n      <td>1</td>\n    </tr>\n    <tr>\n      <th>4</th>\n      <td>4f7334eb-dc1d-4bc2-8423-50ad417e53af</td>\n      <td>Sandbox</td>\n      <td></td>\n      <td>Business Central Intelligent Cloud</td>\n      <td>LC0013: Extension failed to synchronize</td>\n      <td>1</td>\n    </tr>\n    <tr>\n      <th>5</th>\n      <td>4f7334eb-dc1d-4bc2-8423-50ad417e53af</td>\n      <td>Sandbox</td>\n      <td></td>\n      <td>Essential Business Headlines</td>\n      <td>LC0013: Extension failed to synchronize</td>\n      <td>1</td>\n    </tr>\n    <tr>\n      <th>6</th>\n      <td>4f7334eb-dc1d-4bc2-8423-50ad417e53af</td>\n      <td>Sandbox</td>\n      <td></td>\n      <td>Intelligent Cloud Base</td>\n      <td>LC0013: Extension failed to synchronize</td>\n      <td>1</td>\n    </tr>\n    <tr>\n      <th>7</th>\n      <td>4f7334eb-dc1d-4bc2-8423-50ad417e53af</td>\n      <td>Sandbox</td>\n      <td></td>\n      <td>Late Payment Prediction</td>\n      <td>LC0013: Extension failed to synchronize</td>\n      <td>1</td>\n    </tr>\n    <tr>\n      <th>8</th>\n      <td>4f7334eb-dc1d-4bc2-8423-50ad417e53af</td>\n      <td>Sandbox</td>\n      <td></td>\n      <td>PayPal Payments Standard</td>\n      <td>LC0013: Extension failed to synchronize</td>\n      <td>1</td>\n    </tr>\n    <tr>\n      <th>9</th>\n      <td>4f7334eb-dc1d-4bc2-8423-50ad417e53af</td>\n      <td>Sandbox</td>\n      <td></td>\n      <td>Sales and Inventory Forecast</td>\n      <td>LC0013: Extension failed to synchronize</td>\n      <td>1</td>\n    </tr>\n    <tr>\n      <th>10</th>\n      <td>4f7334eb-dc1d-4bc2-8423-50ad417e53af</td>\n      <td>Sandbox</td>\n      <td></td>\n      <td>Send To Email Printer</td>\n      <td>LC0013: Extension failed to synchronize</td>\n      <td>1</td>\n    </tr>\n    <tr>\n      <th>11</th>\n      <td>4f7334eb-dc1d-4bc2-8423-50ad417e53af</td>\n      <td>Sandbox</td>\n      <td></td>\n      <td>Send remittance advice by email</td>\n      <td>LC0013: Extension failed to synchronize</td>\n      <td>1</td>\n    </tr>\n    <tr>\n      <th>12</th>\n      <td>4f7334eb-dc1d-4bc2-8423-50ad417e53af</td>\n      <td>Sandbox</td>\n      <td></td>\n      <td>System Application</td>\n      <td>LC0013: Extension failed to synchronize</td>\n      <td>1</td>\n    </tr>\n    <tr>\n      <th>13</th>\n      <td>4f7334eb-dc1d-4bc2-8423-50ad417e53af</td>\n      <td>Sandbox</td>\n      <td></td>\n      <td>VAT Group Management</td>\n      <td>LC0013: Extension failed to synchronize</td>\n      <td>1</td>\n    </tr>\n    <tr>\n      <th>14</th>\n      <td>4f7334eb-dc1d-4bc2-8423-50ad417e53af</td>\n      <td>Sandbox</td>\n      <td></td>\n      <td>_Exclude_APIV1_</td>\n      <td>LC0013: Extension failed to synchronize</td>\n      <td>1</td>\n    </tr>\n    <tr>\n      <th>15</th>\n      <td>4f7334eb-dc1d-4bc2-8423-50ad417e53af</td>\n      <td>Sandbox</td>\n      <td></td>\n      <td>_Exclude_AnonymizedDataSharing_</td>\n      <td>LC0013: Extension failed to synchronize</td>\n      <td>1</td>\n    </tr>\n    <tr>\n      <th>16</th>\n      <td>4f7334eb-dc1d-4bc2-8423-50ad417e53af</td>\n      <td>Sandbox</td>\n      <td></td>\n      <td>_Exclude_ClientAddIns_</td>\n      <td>LC0013: Extension failed to synchronize</td>\n      <td>1</td>\n    </tr>\n    <tr>\n      <th>17</th>\n      <td>4f7334eb-dc1d-4bc2-8423-50ad417e53af</td>\n      <td>Sandbox</td>\n      <td></td>\n      <td>_Exclude_Microsoft Dynamics 365 - SmartList</td>\n      <td>LC0013: Extension failed to synchronize</td>\n      <td>1</td>\n    </tr>\n    <tr>\n      <th>18</th>\n      <td>4f7334eb-dc1d-4bc2-8423-50ad417e53af</td>\n      <td>Sandbox</td>\n      <td></td>\n      <td>_Exclude_SyncBaseApp_</td>\n      <td>LC0013: Extension failed to synchronize</td>\n      <td>1</td>\n    </tr>\n    <tr>\n      <th>19</th>\n      <td>b101f36a-0ce0-4cf7-87a6-b6fc2cf4b22e</td>\n      <td>Production</td>\n      <td></td>\n      <td>AMC Banking 365 Fundamentals</td>\n      <td>LC0013: Extension failed to synchronize</td>\n      <td>1</td>\n    </tr>\n    <tr>\n      <th>20</th>\n      <td>b101f36a-0ce0-4cf7-87a6-b6fc2cf4b22e</td>\n      <td>Production</td>\n      <td></td>\n      <td>Application</td>\n      <td>LC0013: Extension failed to synchronize</td>\n      <td>1</td>\n    </tr>\n    <tr>\n      <th>21</th>\n      <td>b101f36a-0ce0-4cf7-87a6-b6fc2cf4b22e</td>\n      <td>Production</td>\n      <td></td>\n      <td>Base Application</td>\n      <td>LC0013: Extension failed to synchronize</td>\n      <td>1</td>\n    </tr>\n    <tr>\n      <th>22</th>\n      <td>b101f36a-0ce0-4cf7-87a6-b6fc2cf4b22e</td>\n      <td>Production</td>\n      <td></td>\n      <td>Business Central Cloud Migration - Previous Re...</td>\n      <td>LC0013: Extension failed to synchronize</td>\n      <td>1</td>\n    </tr>\n    <tr>\n      <th>23</th>\n      <td>b101f36a-0ce0-4cf7-87a6-b6fc2cf4b22e</td>\n      <td>Production</td>\n      <td></td>\n      <td>Business Central Cloud Migration - Previous Re...</td>\n      <td>LC0013: Extension failed to synchronize</td>\n      <td>1</td>\n    </tr>\n    <tr>\n      <th>24</th>\n      <td>b101f36a-0ce0-4cf7-87a6-b6fc2cf4b22e</td>\n      <td>Production</td>\n      <td></td>\n      <td>Business Central Intelligent Cloud</td>\n      <td>LC0013: Extension failed to synchronize</td>\n      <td>1</td>\n    </tr>\n    <tr>\n      <th>25</th>\n      <td>b101f36a-0ce0-4cf7-87a6-b6fc2cf4b22e</td>\n      <td>Production</td>\n      <td></td>\n      <td>Company Hub</td>\n      <td>LC0013: Extension failed to synchronize</td>\n      <td>1</td>\n    </tr>\n    <tr>\n      <th>26</th>\n      <td>b101f36a-0ce0-4cf7-87a6-b6fc2cf4b22e</td>\n      <td>Production</td>\n      <td></td>\n      <td>ELSTER VAT Localization for Germany</td>\n      <td>LC0013: Extension failed to synchronize</td>\n      <td>1</td>\n    </tr>\n    <tr>\n      <th>27</th>\n      <td>b101f36a-0ce0-4cf7-87a6-b6fc2cf4b22e</td>\n      <td>Production</td>\n      <td></td>\n      <td>Essential Business Headlines</td>\n      <td>LC0013: Extension failed to synchronize</td>\n      <td>1</td>\n    </tr>\n    <tr>\n      <th>28</th>\n      <td>b101f36a-0ce0-4cf7-87a6-b6fc2cf4b22e</td>\n      <td>Production</td>\n      <td></td>\n      <td>Intelligent Cloud Base</td>\n      <td>LC0013: Extension failed to synchronize</td>\n      <td>1</td>\n    </tr>\n    <tr>\n      <th>29</th>\n      <td>b101f36a-0ce0-4cf7-87a6-b6fc2cf4b22e</td>\n      <td>Production</td>\n      <td></td>\n      <td>Late Payment Prediction</td>\n      <td>LC0013: Extension failed to synchronize</td>\n      <td>1</td>\n    </tr>\n    <tr>\n      <th>30</th>\n      <td>b101f36a-0ce0-4cf7-87a6-b6fc2cf4b22e</td>\n      <td>Production</td>\n      <td></td>\n      <td>PayPal Payments Standard</td>\n      <td>LC0013: Extension failed to synchronize</td>\n      <td>1</td>\n    </tr>\n    <tr>\n      <th>31</th>\n      <td>b101f36a-0ce0-4cf7-87a6-b6fc2cf4b22e</td>\n      <td>Production</td>\n      <td></td>\n      <td>Sales and Inventory Forecast</td>\n      <td>LC0013: Extension failed to synchronize</td>\n      <td>1</td>\n    </tr>\n    <tr>\n      <th>32</th>\n      <td>b101f36a-0ce0-4cf7-87a6-b6fc2cf4b22e</td>\n      <td>Production</td>\n      <td></td>\n      <td>Send To Email Printer</td>\n      <td>LC0013: Extension failed to synchronize</td>\n      <td>1</td>\n    </tr>\n    <tr>\n      <th>33</th>\n      <td>b101f36a-0ce0-4cf7-87a6-b6fc2cf4b22e</td>\n      <td>Production</td>\n      <td></td>\n      <td>System Application</td>\n      <td>LC0013: Extension failed to synchronize</td>\n      <td>1</td>\n    </tr>\n    <tr>\n      <th>34</th>\n      <td>b101f36a-0ce0-4cf7-87a6-b6fc2cf4b22e</td>\n      <td>Production</td>\n      <td></td>\n      <td>WorldPay Payments Standard</td>\n      <td>LC0013: Extension failed to synchronize</td>\n      <td>1</td>\n    </tr>\n    <tr>\n      <th>35</th>\n      <td>b101f36a-0ce0-4cf7-87a6-b6fc2cf4b22e</td>\n      <td>Production</td>\n      <td></td>\n      <td>_Exclude_APIV1_</td>\n      <td>LC0013: Extension failed to synchronize</td>\n      <td>1</td>\n    </tr>\n    <tr>\n      <th>36</th>\n      <td>b101f36a-0ce0-4cf7-87a6-b6fc2cf4b22e</td>\n      <td>Production</td>\n      <td></td>\n      <td>_Exclude_APIV2_</td>\n      <td>LC0013: Extension failed to synchronize</td>\n      <td>1</td>\n    </tr>\n    <tr>\n      <th>37</th>\n      <td>b101f36a-0ce0-4cf7-87a6-b6fc2cf4b22e</td>\n      <td>Production</td>\n      <td></td>\n      <td>_Exclude_AnonymizedDataSharing_</td>\n      <td>LC0013: Extension failed to synchronize</td>\n      <td>1</td>\n    </tr>\n    <tr>\n      <th>38</th>\n      <td>b101f36a-0ce0-4cf7-87a6-b6fc2cf4b22e</td>\n      <td>Production</td>\n      <td></td>\n      <td>_Exclude_ClientAddIns_</td>\n      <td>LC0013: Extension failed to synchronize</td>\n      <td>1</td>\n    </tr>\n    <tr>\n      <th>39</th>\n      <td>b101f36a-0ce0-4cf7-87a6-b6fc2cf4b22e</td>\n      <td>Production</td>\n      <td></td>\n      <td>_Exclude_Microsoft Dynamics 365 - SmartList</td>\n      <td>LC0013: Extension failed to synchronize</td>\n      <td>1</td>\n    </tr>\n    <tr>\n      <th>40</th>\n      <td>b101f36a-0ce0-4cf7-87a6-b6fc2cf4b22e</td>\n      <td>Production</td>\n      <td></td>\n      <td>_Exclude_SyncBaseApp_</td>\n      <td>LC0013: Extension failed to synchronize</td>\n      <td>1</td>\n    </tr>\n    <tr>\n      <th>41</th>\n      <td>df35e278-9680-47e2-93a2-98e8c3beac0b</td>\n      <td>Sandbox</td>\n      <td></td>\n      <td>Application</td>\n      <td>LC0013: Extension failed to synchronize</td>\n      <td>1</td>\n    </tr>\n    <tr>\n      <th>42</th>\n      <td>df35e278-9680-47e2-93a2-98e8c3beac0b</td>\n      <td>Sandbox</td>\n      <td></td>\n      <td>Base Application</td>\n      <td>LC0013: Extension failed to synchronize</td>\n      <td>1</td>\n    </tr>\n    <tr>\n      <th>43</th>\n      <td>df35e278-9680-47e2-93a2-98e8c3beac0b</td>\n      <td>Sandbox</td>\n      <td></td>\n      <td>Business Central Cloud Migration - Previous Re...</td>\n      <td>LC0013: Extension failed to synchronize</td>\n      <td>1</td>\n    </tr>\n    <tr>\n      <th>44</th>\n      <td>df35e278-9680-47e2-93a2-98e8c3beac0b</td>\n      <td>Sandbox</td>\n      <td></td>\n      <td>Business Central Intelligent Cloud</td>\n      <td>LC0013: Extension failed to synchronize</td>\n      <td>1</td>\n    </tr>\n    <tr>\n      <th>45</th>\n      <td>df35e278-9680-47e2-93a2-98e8c3beac0b</td>\n      <td>Sandbox</td>\n      <td></td>\n      <td>Essential Business Headlines</td>\n      <td>LC0013: Extension failed to synchronize</td>\n      <td>1</td>\n    </tr>\n    <tr>\n      <th>46</th>\n      <td>df35e278-9680-47e2-93a2-98e8c3beac0b</td>\n      <td>Sandbox</td>\n      <td></td>\n      <td>Intelligent Cloud Base</td>\n      <td>LC0013: Extension failed to synchronize</td>\n      <td>1</td>\n    </tr>\n    <tr>\n      <th>47</th>\n      <td>df35e278-9680-47e2-93a2-98e8c3beac0b</td>\n      <td>Sandbox</td>\n      <td></td>\n      <td>Late Payment Prediction</td>\n      <td>LC0013: Extension failed to synchronize</td>\n      <td>1</td>\n    </tr>\n    <tr>\n      <th>48</th>\n      <td>df35e278-9680-47e2-93a2-98e8c3beac0b</td>\n      <td>Sandbox</td>\n      <td></td>\n      <td>PayPal Payments Standard</td>\n      <td>LC0013: Extension failed to synchronize</td>\n      <td>1</td>\n    </tr>\n    <tr>\n      <th>49</th>\n      <td>df35e278-9680-47e2-93a2-98e8c3beac0b</td>\n      <td>Sandbox</td>\n      <td></td>\n      <td>Sales and Inventory Forecast</td>\n      <td>LC0013: Extension failed to synchronize</td>\n      <td>1</td>\n    </tr>\n    <tr>\n      <th>50</th>\n      <td>df35e278-9680-47e2-93a2-98e8c3beac0b</td>\n      <td>Sandbox</td>\n      <td></td>\n      <td>Send To Email Printer</td>\n      <td>LC0013: Extension failed to synchronize</td>\n      <td>1</td>\n    </tr>\n    <tr>\n      <th>51</th>\n      <td>df35e278-9680-47e2-93a2-98e8c3beac0b</td>\n      <td>Sandbox</td>\n      <td></td>\n      <td>Send remittance advice by email</td>\n      <td>LC0013: Extension failed to synchronize</td>\n      <td>1</td>\n    </tr>\n    <tr>\n      <th>52</th>\n      <td>df35e278-9680-47e2-93a2-98e8c3beac0b</td>\n      <td>Sandbox</td>\n      <td></td>\n      <td>System Application</td>\n      <td>LC0013: Extension failed to synchronize</td>\n      <td>1</td>\n    </tr>\n    <tr>\n      <th>53</th>\n      <td>df35e278-9680-47e2-93a2-98e8c3beac0b</td>\n      <td>Sandbox</td>\n      <td></td>\n      <td>VAT Group Management</td>\n      <td>LC0013: Extension failed to synchronize</td>\n      <td>1</td>\n    </tr>\n    <tr>\n      <th>54</th>\n      <td>df35e278-9680-47e2-93a2-98e8c3beac0b</td>\n      <td>Sandbox</td>\n      <td></td>\n      <td>_Exclude_APIV1_</td>\n      <td>LC0013: Extension failed to synchronize</td>\n      <td>1</td>\n    </tr>\n    <tr>\n      <th>55</th>\n      <td>df35e278-9680-47e2-93a2-98e8c3beac0b</td>\n      <td>Sandbox</td>\n      <td></td>\n      <td>_Exclude_AnonymizedDataSharing_</td>\n      <td>LC0013: Extension failed to synchronize</td>\n      <td>1</td>\n    </tr>\n    <tr>\n      <th>56</th>\n      <td>df35e278-9680-47e2-93a2-98e8c3beac0b</td>\n      <td>Sandbox</td>\n      <td></td>\n      <td>_Exclude_ClientAddIns_</td>\n      <td>LC0013: Extension failed to synchronize</td>\n      <td>1</td>\n    </tr>\n    <tr>\n      <th>57</th>\n      <td>df35e278-9680-47e2-93a2-98e8c3beac0b</td>\n      <td>Sandbox</td>\n      <td></td>\n      <td>_Exclude_Microsoft Dynamics 365 - SmartList</td>\n      <td>LC0013: Extension failed to synchronize</td>\n      <td>1</td>\n    </tr>\n    <tr>\n      <th>58</th>\n      <td>df35e278-9680-47e2-93a2-98e8c3beac0b</td>\n      <td>Sandbox</td>\n      <td></td>\n      <td>_Exclude_SyncBaseApp_</td>\n      <td>LC0013: Extension failed to synchronize</td>\n      <td>1</td>\n    </tr>\n    <tr>\n      <th>59</th>\n      <td>e1d681de-ed51-41b4-978c-0bfd29ebfa4f</td>\n      <td>Sandbox</td>\n      <td>30c1a959-3fd4-4320-a847-9e0696f74dca</td>\n      <td>TestCompanyOpen</td>\n      <td>LC0015: Extension failed to publish</td>\n      <td>1</td>\n    </tr>\n  </tbody>\n</table>\n</div>",
                        "application/vnd.dataresource+json": {
                            "schema": {
                                "fields": [
                                    {
                                        "name": "aadTenantId",
                                        "type": "string"
                                    },
                                    {
                                        "name": "environmentName",
                                        "type": "string"
                                    },
                                    {
                                        "name": "extensionId",
                                        "type": "string"
                                    },
                                    {
                                        "name": "extensionName",
                                        "type": "string"
                                    },
                                    {
                                        "name": "eventMessageShort",
                                        "type": "string"
                                    },
                                    {
                                        "name": "count_",
                                        "type": "integer"
                                    }
                                ],
                                "kqmagic_version": "0.1.113"
                            },
                            "data": [
                                {
                                    "aadTenantId": "3aaabf66-9e80-4dc0-bbb4-9f94a456a847",
                                    "environmentName": "Production",
                                    "extensionId": "",
                                    "extensionName": "VAT Group Management",
                                    "eventMessageShort": "LC0013: Extension failed to synchronize",
                                    "count_": 1
                                },
                                {
                                    "aadTenantId": "4f7334eb-dc1d-4bc2-8423-50ad417e53af",
                                    "environmentName": "Sandbox",
                                    "extensionId": "",
                                    "extensionName": "Application",
                                    "eventMessageShort": "LC0013: Extension failed to synchronize",
                                    "count_": 1
                                },
                                {
                                    "aadTenantId": "4f7334eb-dc1d-4bc2-8423-50ad417e53af",
                                    "environmentName": "Sandbox",
                                    "extensionId": "",
                                    "extensionName": "Base Application",
                                    "eventMessageShort": "LC0013: Extension failed to synchronize",
                                    "count_": 1
                                },
                                {
                                    "aadTenantId": "4f7334eb-dc1d-4bc2-8423-50ad417e53af",
                                    "environmentName": "Sandbox",
                                    "extensionId": "",
                                    "extensionName": "Business Central Cloud Migration - Previous Release",
                                    "eventMessageShort": "LC0013: Extension failed to synchronize",
                                    "count_": 1
                                },
                                {
                                    "aadTenantId": "4f7334eb-dc1d-4bc2-8423-50ad417e53af",
                                    "environmentName": "Sandbox",
                                    "extensionId": "",
                                    "extensionName": "Business Central Intelligent Cloud",
                                    "eventMessageShort": "LC0013: Extension failed to synchronize",
                                    "count_": 1
                                },
                                {
                                    "aadTenantId": "4f7334eb-dc1d-4bc2-8423-50ad417e53af",
                                    "environmentName": "Sandbox",
                                    "extensionId": "",
                                    "extensionName": "Essential Business Headlines",
                                    "eventMessageShort": "LC0013: Extension failed to synchronize",
                                    "count_": 1
                                },
                                {
                                    "aadTenantId": "4f7334eb-dc1d-4bc2-8423-50ad417e53af",
                                    "environmentName": "Sandbox",
                                    "extensionId": "",
                                    "extensionName": "Intelligent Cloud Base",
                                    "eventMessageShort": "LC0013: Extension failed to synchronize",
                                    "count_": 1
                                },
                                {
                                    "aadTenantId": "4f7334eb-dc1d-4bc2-8423-50ad417e53af",
                                    "environmentName": "Sandbox",
                                    "extensionId": "",
                                    "extensionName": "Late Payment Prediction",
                                    "eventMessageShort": "LC0013: Extension failed to synchronize",
                                    "count_": 1
                                },
                                {
                                    "aadTenantId": "4f7334eb-dc1d-4bc2-8423-50ad417e53af",
                                    "environmentName": "Sandbox",
                                    "extensionId": "",
                                    "extensionName": "PayPal Payments Standard",
                                    "eventMessageShort": "LC0013: Extension failed to synchronize",
                                    "count_": 1
                                },
                                {
                                    "aadTenantId": "4f7334eb-dc1d-4bc2-8423-50ad417e53af",
                                    "environmentName": "Sandbox",
                                    "extensionId": "",
                                    "extensionName": "Sales and Inventory Forecast",
                                    "eventMessageShort": "LC0013: Extension failed to synchronize",
                                    "count_": 1
                                },
                                {
                                    "aadTenantId": "4f7334eb-dc1d-4bc2-8423-50ad417e53af",
                                    "environmentName": "Sandbox",
                                    "extensionId": "",
                                    "extensionName": "Send To Email Printer",
                                    "eventMessageShort": "LC0013: Extension failed to synchronize",
                                    "count_": 1
                                },
                                {
                                    "aadTenantId": "4f7334eb-dc1d-4bc2-8423-50ad417e53af",
                                    "environmentName": "Sandbox",
                                    "extensionId": "",
                                    "extensionName": "Send remittance advice by email",
                                    "eventMessageShort": "LC0013: Extension failed to synchronize",
                                    "count_": 1
                                },
                                {
                                    "aadTenantId": "4f7334eb-dc1d-4bc2-8423-50ad417e53af",
                                    "environmentName": "Sandbox",
                                    "extensionId": "",
                                    "extensionName": "System Application",
                                    "eventMessageShort": "LC0013: Extension failed to synchronize",
                                    "count_": 1
                                },
                                {
                                    "aadTenantId": "4f7334eb-dc1d-4bc2-8423-50ad417e53af",
                                    "environmentName": "Sandbox",
                                    "extensionId": "",
                                    "extensionName": "VAT Group Management",
                                    "eventMessageShort": "LC0013: Extension failed to synchronize",
                                    "count_": 1
                                },
                                {
                                    "aadTenantId": "4f7334eb-dc1d-4bc2-8423-50ad417e53af",
                                    "environmentName": "Sandbox",
                                    "extensionId": "",
                                    "extensionName": "_Exclude_APIV1_",
                                    "eventMessageShort": "LC0013: Extension failed to synchronize",
                                    "count_": 1
                                },
                                {
                                    "aadTenantId": "4f7334eb-dc1d-4bc2-8423-50ad417e53af",
                                    "environmentName": "Sandbox",
                                    "extensionId": "",
                                    "extensionName": "_Exclude_AnonymizedDataSharing_",
                                    "eventMessageShort": "LC0013: Extension failed to synchronize",
                                    "count_": 1
                                },
                                {
                                    "aadTenantId": "4f7334eb-dc1d-4bc2-8423-50ad417e53af",
                                    "environmentName": "Sandbox",
                                    "extensionId": "",
                                    "extensionName": "_Exclude_ClientAddIns_",
                                    "eventMessageShort": "LC0013: Extension failed to synchronize",
                                    "count_": 1
                                },
                                {
                                    "aadTenantId": "4f7334eb-dc1d-4bc2-8423-50ad417e53af",
                                    "environmentName": "Sandbox",
                                    "extensionId": "",
                                    "extensionName": "_Exclude_Microsoft Dynamics 365 - SmartList",
                                    "eventMessageShort": "LC0013: Extension failed to synchronize",
                                    "count_": 1
                                },
                                {
                                    "aadTenantId": "4f7334eb-dc1d-4bc2-8423-50ad417e53af",
                                    "environmentName": "Sandbox",
                                    "extensionId": "",
                                    "extensionName": "_Exclude_SyncBaseApp_",
                                    "eventMessageShort": "LC0013: Extension failed to synchronize",
                                    "count_": 1
                                },
                                {
                                    "aadTenantId": "b101f36a-0ce0-4cf7-87a6-b6fc2cf4b22e",
                                    "environmentName": "Production",
                                    "extensionId": "",
                                    "extensionName": "AMC Banking 365 Fundamentals",
                                    "eventMessageShort": "LC0013: Extension failed to synchronize",
                                    "count_": 1
                                },
                                {
                                    "aadTenantId": "b101f36a-0ce0-4cf7-87a6-b6fc2cf4b22e",
                                    "environmentName": "Production",
                                    "extensionId": "",
                                    "extensionName": "Application",
                                    "eventMessageShort": "LC0013: Extension failed to synchronize",
                                    "count_": 1
                                },
                                {
                                    "aadTenantId": "b101f36a-0ce0-4cf7-87a6-b6fc2cf4b22e",
                                    "environmentName": "Production",
                                    "extensionId": "",
                                    "extensionName": "Base Application",
                                    "eventMessageShort": "LC0013: Extension failed to synchronize",
                                    "count_": 1
                                },
                                {
                                    "aadTenantId": "b101f36a-0ce0-4cf7-87a6-b6fc2cf4b22e",
                                    "environmentName": "Production",
                                    "extensionId": "",
                                    "extensionName": "Business Central Cloud Migration - Previous Release",
                                    "eventMessageShort": "LC0013: Extension failed to synchronize",
                                    "count_": 1
                                },
                                {
                                    "aadTenantId": "b101f36a-0ce0-4cf7-87a6-b6fc2cf4b22e",
                                    "environmentName": "Production",
                                    "extensionId": "",
                                    "extensionName": "Business Central Cloud Migration - Previous Release (DE)",
                                    "eventMessageShort": "LC0013: Extension failed to synchronize",
                                    "count_": 1
                                },
                                {
                                    "aadTenantId": "b101f36a-0ce0-4cf7-87a6-b6fc2cf4b22e",
                                    "environmentName": "Production",
                                    "extensionId": "",
                                    "extensionName": "Business Central Intelligent Cloud",
                                    "eventMessageShort": "LC0013: Extension failed to synchronize",
                                    "count_": 1
                                },
                                {
                                    "aadTenantId": "b101f36a-0ce0-4cf7-87a6-b6fc2cf4b22e",
                                    "environmentName": "Production",
                                    "extensionId": "",
                                    "extensionName": "Company Hub",
                                    "eventMessageShort": "LC0013: Extension failed to synchronize",
                                    "count_": 1
                                },
                                {
                                    "aadTenantId": "b101f36a-0ce0-4cf7-87a6-b6fc2cf4b22e",
                                    "environmentName": "Production",
                                    "extensionId": "",
                                    "extensionName": "ELSTER VAT Localization for Germany",
                                    "eventMessageShort": "LC0013: Extension failed to synchronize",
                                    "count_": 1
                                },
                                {
                                    "aadTenantId": "b101f36a-0ce0-4cf7-87a6-b6fc2cf4b22e",
                                    "environmentName": "Production",
                                    "extensionId": "",
                                    "extensionName": "Essential Business Headlines",
                                    "eventMessageShort": "LC0013: Extension failed to synchronize",
                                    "count_": 1
                                },
                                {
                                    "aadTenantId": "b101f36a-0ce0-4cf7-87a6-b6fc2cf4b22e",
                                    "environmentName": "Production",
                                    "extensionId": "",
                                    "extensionName": "Intelligent Cloud Base",
                                    "eventMessageShort": "LC0013: Extension failed to synchronize",
                                    "count_": 1
                                },
                                {
                                    "aadTenantId": "b101f36a-0ce0-4cf7-87a6-b6fc2cf4b22e",
                                    "environmentName": "Production",
                                    "extensionId": "",
                                    "extensionName": "Late Payment Prediction",
                                    "eventMessageShort": "LC0013: Extension failed to synchronize",
                                    "count_": 1
                                },
                                {
                                    "aadTenantId": "b101f36a-0ce0-4cf7-87a6-b6fc2cf4b22e",
                                    "environmentName": "Production",
                                    "extensionId": "",
                                    "extensionName": "PayPal Payments Standard",
                                    "eventMessageShort": "LC0013: Extension failed to synchronize",
                                    "count_": 1
                                },
                                {
                                    "aadTenantId": "b101f36a-0ce0-4cf7-87a6-b6fc2cf4b22e",
                                    "environmentName": "Production",
                                    "extensionId": "",
                                    "extensionName": "Sales and Inventory Forecast",
                                    "eventMessageShort": "LC0013: Extension failed to synchronize",
                                    "count_": 1
                                },
                                {
                                    "aadTenantId": "b101f36a-0ce0-4cf7-87a6-b6fc2cf4b22e",
                                    "environmentName": "Production",
                                    "extensionId": "",
                                    "extensionName": "Send To Email Printer",
                                    "eventMessageShort": "LC0013: Extension failed to synchronize",
                                    "count_": 1
                                },
                                {
                                    "aadTenantId": "b101f36a-0ce0-4cf7-87a6-b6fc2cf4b22e",
                                    "environmentName": "Production",
                                    "extensionId": "",
                                    "extensionName": "System Application",
                                    "eventMessageShort": "LC0013: Extension failed to synchronize",
                                    "count_": 1
                                },
                                {
                                    "aadTenantId": "b101f36a-0ce0-4cf7-87a6-b6fc2cf4b22e",
                                    "environmentName": "Production",
                                    "extensionId": "",
                                    "extensionName": "WorldPay Payments Standard",
                                    "eventMessageShort": "LC0013: Extension failed to synchronize",
                                    "count_": 1
                                },
                                {
                                    "aadTenantId": "b101f36a-0ce0-4cf7-87a6-b6fc2cf4b22e",
                                    "environmentName": "Production",
                                    "extensionId": "",
                                    "extensionName": "_Exclude_APIV1_",
                                    "eventMessageShort": "LC0013: Extension failed to synchronize",
                                    "count_": 1
                                },
                                {
                                    "aadTenantId": "b101f36a-0ce0-4cf7-87a6-b6fc2cf4b22e",
                                    "environmentName": "Production",
                                    "extensionId": "",
                                    "extensionName": "_Exclude_APIV2_",
                                    "eventMessageShort": "LC0013: Extension failed to synchronize",
                                    "count_": 1
                                },
                                {
                                    "aadTenantId": "b101f36a-0ce0-4cf7-87a6-b6fc2cf4b22e",
                                    "environmentName": "Production",
                                    "extensionId": "",
                                    "extensionName": "_Exclude_AnonymizedDataSharing_",
                                    "eventMessageShort": "LC0013: Extension failed to synchronize",
                                    "count_": 1
                                },
                                {
                                    "aadTenantId": "b101f36a-0ce0-4cf7-87a6-b6fc2cf4b22e",
                                    "environmentName": "Production",
                                    "extensionId": "",
                                    "extensionName": "_Exclude_ClientAddIns_",
                                    "eventMessageShort": "LC0013: Extension failed to synchronize",
                                    "count_": 1
                                },
                                {
                                    "aadTenantId": "b101f36a-0ce0-4cf7-87a6-b6fc2cf4b22e",
                                    "environmentName": "Production",
                                    "extensionId": "",
                                    "extensionName": "_Exclude_Microsoft Dynamics 365 - SmartList",
                                    "eventMessageShort": "LC0013: Extension failed to synchronize",
                                    "count_": 1
                                },
                                {
                                    "aadTenantId": "b101f36a-0ce0-4cf7-87a6-b6fc2cf4b22e",
                                    "environmentName": "Production",
                                    "extensionId": "",
                                    "extensionName": "_Exclude_SyncBaseApp_",
                                    "eventMessageShort": "LC0013: Extension failed to synchronize",
                                    "count_": 1
                                },
                                {
                                    "aadTenantId": "df35e278-9680-47e2-93a2-98e8c3beac0b",
                                    "environmentName": "Sandbox",
                                    "extensionId": "",
                                    "extensionName": "Application",
                                    "eventMessageShort": "LC0013: Extension failed to synchronize",
                                    "count_": 1
                                },
                                {
                                    "aadTenantId": "df35e278-9680-47e2-93a2-98e8c3beac0b",
                                    "environmentName": "Sandbox",
                                    "extensionId": "",
                                    "extensionName": "Base Application",
                                    "eventMessageShort": "LC0013: Extension failed to synchronize",
                                    "count_": 1
                                },
                                {
                                    "aadTenantId": "df35e278-9680-47e2-93a2-98e8c3beac0b",
                                    "environmentName": "Sandbox",
                                    "extensionId": "",
                                    "extensionName": "Business Central Cloud Migration - Previous Release",
                                    "eventMessageShort": "LC0013: Extension failed to synchronize",
                                    "count_": 1
                                },
                                {
                                    "aadTenantId": "df35e278-9680-47e2-93a2-98e8c3beac0b",
                                    "environmentName": "Sandbox",
                                    "extensionId": "",
                                    "extensionName": "Business Central Intelligent Cloud",
                                    "eventMessageShort": "LC0013: Extension failed to synchronize",
                                    "count_": 1
                                },
                                {
                                    "aadTenantId": "df35e278-9680-47e2-93a2-98e8c3beac0b",
                                    "environmentName": "Sandbox",
                                    "extensionId": "",
                                    "extensionName": "Essential Business Headlines",
                                    "eventMessageShort": "LC0013: Extension failed to synchronize",
                                    "count_": 1
                                },
                                {
                                    "aadTenantId": "df35e278-9680-47e2-93a2-98e8c3beac0b",
                                    "environmentName": "Sandbox",
                                    "extensionId": "",
                                    "extensionName": "Intelligent Cloud Base",
                                    "eventMessageShort": "LC0013: Extension failed to synchronize",
                                    "count_": 1
                                },
                                {
                                    "aadTenantId": "df35e278-9680-47e2-93a2-98e8c3beac0b",
                                    "environmentName": "Sandbox",
                                    "extensionId": "",
                                    "extensionName": "Late Payment Prediction",
                                    "eventMessageShort": "LC0013: Extension failed to synchronize",
                                    "count_": 1
                                },
                                {
                                    "aadTenantId": "df35e278-9680-47e2-93a2-98e8c3beac0b",
                                    "environmentName": "Sandbox",
                                    "extensionId": "",
                                    "extensionName": "PayPal Payments Standard",
                                    "eventMessageShort": "LC0013: Extension failed to synchronize",
                                    "count_": 1
                                },
                                {
                                    "aadTenantId": "df35e278-9680-47e2-93a2-98e8c3beac0b",
                                    "environmentName": "Sandbox",
                                    "extensionId": "",
                                    "extensionName": "Sales and Inventory Forecast",
                                    "eventMessageShort": "LC0013: Extension failed to synchronize",
                                    "count_": 1
                                },
                                {
                                    "aadTenantId": "df35e278-9680-47e2-93a2-98e8c3beac0b",
                                    "environmentName": "Sandbox",
                                    "extensionId": "",
                                    "extensionName": "Send To Email Printer",
                                    "eventMessageShort": "LC0013: Extension failed to synchronize",
                                    "count_": 1
                                },
                                {
                                    "aadTenantId": "df35e278-9680-47e2-93a2-98e8c3beac0b",
                                    "environmentName": "Sandbox",
                                    "extensionId": "",
                                    "extensionName": "Send remittance advice by email",
                                    "eventMessageShort": "LC0013: Extension failed to synchronize",
                                    "count_": 1
                                },
                                {
                                    "aadTenantId": "df35e278-9680-47e2-93a2-98e8c3beac0b",
                                    "environmentName": "Sandbox",
                                    "extensionId": "",
                                    "extensionName": "System Application",
                                    "eventMessageShort": "LC0013: Extension failed to synchronize",
                                    "count_": 1
                                },
                                {
                                    "aadTenantId": "df35e278-9680-47e2-93a2-98e8c3beac0b",
                                    "environmentName": "Sandbox",
                                    "extensionId": "",
                                    "extensionName": "VAT Group Management",
                                    "eventMessageShort": "LC0013: Extension failed to synchronize",
                                    "count_": 1
                                },
                                {
                                    "aadTenantId": "df35e278-9680-47e2-93a2-98e8c3beac0b",
                                    "environmentName": "Sandbox",
                                    "extensionId": "",
                                    "extensionName": "_Exclude_APIV1_",
                                    "eventMessageShort": "LC0013: Extension failed to synchronize",
                                    "count_": 1
                                },
                                {
                                    "aadTenantId": "df35e278-9680-47e2-93a2-98e8c3beac0b",
                                    "environmentName": "Sandbox",
                                    "extensionId": "",
                                    "extensionName": "_Exclude_AnonymizedDataSharing_",
                                    "eventMessageShort": "LC0013: Extension failed to synchronize",
                                    "count_": 1
                                },
                                {
                                    "aadTenantId": "df35e278-9680-47e2-93a2-98e8c3beac0b",
                                    "environmentName": "Sandbox",
                                    "extensionId": "",
                                    "extensionName": "_Exclude_ClientAddIns_",
                                    "eventMessageShort": "LC0013: Extension failed to synchronize",
                                    "count_": 1
                                },
                                {
                                    "aadTenantId": "df35e278-9680-47e2-93a2-98e8c3beac0b",
                                    "environmentName": "Sandbox",
                                    "extensionId": "",
                                    "extensionName": "_Exclude_Microsoft Dynamics 365 - SmartList",
                                    "eventMessageShort": "LC0013: Extension failed to synchronize",
                                    "count_": 1
                                },
                                {
                                    "aadTenantId": "df35e278-9680-47e2-93a2-98e8c3beac0b",
                                    "environmentName": "Sandbox",
                                    "extensionId": "",
                                    "extensionName": "_Exclude_SyncBaseApp_",
                                    "eventMessageShort": "LC0013: Extension failed to synchronize",
                                    "count_": 1
                                },
                                {
                                    "aadTenantId": "e1d681de-ed51-41b4-978c-0bfd29ebfa4f",
                                    "environmentName": "Sandbox",
                                    "extensionId": "30c1a959-3fd4-4320-a847-9e0696f74dca",
                                    "extensionName": "TestCompanyOpen",
                                    "eventMessageShort": "LC0015: Extension failed to publish",
                                    "count_": 1
                                }
                            ]
                        }
                    },
                    "metadata": {},
                    "output_type": "display_data"
                },
                {
                    "data": {
                        "text/plain": "<IPython.core.display.HTML object>",
                        "text/html": "<html>\n        <head>\n            \n            \n        </head>\n        <body>\n            <div><p style='padding: 10px; color: #3a87ad; background-color: #d9edf7; border-color: #bce9f1'>Done&nbsp;(00:00.154):&nbsp;60&nbsp;records</p></div>\n        </body>\n        </html>"
                    },
                    "metadata": {},
                    "output_type": "display_data"
                },
                {
                    "data": {
                        "text/plain": "[{'aadTenantId': '3aaabf66-9e80-4dc0-bbb4-9f94a456a847', 'environmentName': 'Production', 'extensionId': '', 'extensionName': 'VAT Group Management', 'eventMessageShort': 'LC0013: Extension failed to synchronize', 'count_': 1},\n {'aadTenantId': '4f7334eb-dc1d-4bc2-8423-50ad417e53af', 'environmentName': 'Sandbox', 'extensionId': '', 'extensionName': 'Application', 'eventMessageShort': 'LC0013: Extension failed to synchronize', 'count_': 1},\n {'aadTenantId': '4f7334eb-dc1d-4bc2-8423-50ad417e53af', 'environmentName': 'Sandbox', 'extensionId': '', 'extensionName': 'Base Application', 'eventMessageShort': 'LC0013: Extension failed to synchronize', 'count_': 1},\n {'aadTenantId': '4f7334eb-dc1d-4bc2-8423-50ad417e53af', 'environmentName': 'Sandbox', 'extensionId': '', 'extensionName': 'Business Central Cloud Migration - Previous Release', 'eventMessageShort': 'LC0013: Extension failed to synchronize', 'count_': 1},\n {'aadTenantId': '4f7334eb-dc1d-4bc2-8423-50ad417e53af', 'environmentName': 'Sandbox', 'extensionId': '', 'extensionName': 'Business Central Intelligent Cloud', 'eventMessageShort': 'LC0013: Extension failed to synchronize', 'count_': 1},\n {'aadTenantId': '4f7334eb-dc1d-4bc2-8423-50ad417e53af', 'environmentName': 'Sandbox', 'extensionId': '', 'extensionName': 'Essential Business Headlines', 'eventMessageShort': 'LC0013: Extension failed to synchronize', 'count_': 1},\n {'aadTenantId': '4f7334eb-dc1d-4bc2-8423-50ad417e53af', 'environmentName': 'Sandbox', 'extensionId': '', 'extensionName': 'Intelligent Cloud Base', 'eventMessageShort': 'LC0013: Extension failed to synchronize', 'count_': 1},\n {'aadTenantId': '4f7334eb-dc1d-4bc2-8423-50ad417e53af', 'environmentName': 'Sandbox', 'extensionId': '', 'extensionName': 'Late Payment Prediction', 'eventMessageShort': 'LC0013: Extension failed to synchronize', 'count_': 1},\n {'aadTenantId': '4f7334eb-dc1d-4bc2-8423-50ad417e53af', 'environmentName': 'Sandbox', 'extensionId': '', 'extensionName': 'PayPal Payments Standard', 'eventMessageShort': 'LC0013: Extension failed to synchronize', 'count_': 1},\n {'aadTenantId': '4f7334eb-dc1d-4bc2-8423-50ad417e53af', 'environmentName': 'Sandbox', 'extensionId': '', 'extensionName': 'Sales and Inventory Forecast', 'eventMessageShort': 'LC0013: Extension failed to synchronize', 'count_': 1},\n {'aadTenantId': '4f7334eb-dc1d-4bc2-8423-50ad417e53af', 'environmentName': 'Sandbox', 'extensionId': '', 'extensionName': 'Send To Email Printer', 'eventMessageShort': 'LC0013: Extension failed to synchronize', 'count_': 1},\n {'aadTenantId': '4f7334eb-dc1d-4bc2-8423-50ad417e53af', 'environmentName': 'Sandbox', 'extensionId': '', 'extensionName': 'Send remittance advice by email', 'eventMessageShort': 'LC0013: Extension failed to synchronize', 'count_': 1},\n {'aadTenantId': '4f7334eb-dc1d-4bc2-8423-50ad417e53af', 'environmentName': 'Sandbox', 'extensionId': '', 'extensionName': 'System Application', 'eventMessageShort': 'LC0013: Extension failed to synchronize', 'count_': 1},\n {'aadTenantId': '4f7334eb-dc1d-4bc2-8423-50ad417e53af', 'environmentName': 'Sandbox', 'extensionId': '', 'extensionName': 'VAT Group Management', 'eventMessageShort': 'LC0013: Extension failed to synchronize', 'count_': 1},\n {'aadTenantId': '4f7334eb-dc1d-4bc2-8423-50ad417e53af', 'environmentName': 'Sandbox', 'extensionId': '', 'extensionName': '_Exclude_APIV1_', 'eventMessageShort': 'LC0013: Extension failed to synchronize', 'count_': 1},\n {'aadTenantId': '4f7334eb-dc1d-4bc2-8423-50ad417e53af', 'environmentName': 'Sandbox', 'extensionId': '', 'extensionName': '_Exclude_AnonymizedDataSharing_', 'eventMessageShort': 'LC0013: Extension failed to synchronize', 'count_': 1},\n {'aadTenantId': '4f7334eb-dc1d-4bc2-8423-50ad417e53af', 'environmentName': 'Sandbox', 'extensionId': '', 'extensionName': '_Exclude_ClientAddIns_', 'eventMessageShort': 'LC0013: Extension failed to synchronize', 'count_': 1},\n {'aadTenantId': '4f7334eb-dc1d-4bc2-8423-50ad417e53af', 'environmentName': 'Sandbox', 'extensionId': '', 'extensionName': '_Exclude_Microsoft Dynamics 365 - SmartList', 'eventMessageShort': 'LC0013: Extension failed to synchronize', 'count_': 1},\n {'aadTenantId': '4f7334eb-dc1d-4bc2-8423-50ad417e53af', 'environmentName': 'Sandbox', 'extensionId': '', 'extensionName': '_Exclude_SyncBaseApp_', 'eventMessageShort': 'LC0013: Extension failed to synchronize', 'count_': 1},\n {'aadTenantId': 'b101f36a-0ce0-4cf7-87a6-b6fc2cf4b22e', 'environmentName': 'Production', 'extensionId': '', 'extensionName': 'AMC Banking 365 Fundamentals', 'eventMessageShort': 'LC0013: Extension failed to synchronize', 'count_': 1},\n {'aadTenantId': 'b101f36a-0ce0-4cf7-87a6-b6fc2cf4b22e', 'environmentName': 'Production', 'extensionId': '', 'extensionName': 'Application', 'eventMessageShort': 'LC0013: Extension failed to synchronize', 'count_': 1},\n {'aadTenantId': 'b101f36a-0ce0-4cf7-87a6-b6fc2cf4b22e', 'environmentName': 'Production', 'extensionId': '', 'extensionName': 'Base Application', 'eventMessageShort': 'LC0013: Extension failed to synchronize', 'count_': 1},\n {'aadTenantId': 'b101f36a-0ce0-4cf7-87a6-b6fc2cf4b22e', 'environmentName': 'Production', 'extensionId': '', 'extensionName': 'Business Central Cloud Migration - Previous Release', 'eventMessageShort': 'LC0013: Extension failed to synchronize', 'count_': 1},\n {'aadTenantId': 'b101f36a-0ce0-4cf7-87a6-b6fc2cf4b22e', 'environmentName': 'Production', 'extensionId': '', 'extensionName': 'Business Central Cloud Migration - Previous Release (DE)', 'eventMessageShort': 'LC0013: Extension failed to synchronize', 'count_': 1},\n {'aadTenantId': 'b101f36a-0ce0-4cf7-87a6-b6fc2cf4b22e', 'environmentName': 'Production', 'extensionId': '', 'extensionName': 'Business Central Intelligent Cloud', 'eventMessageShort': 'LC0013: Extension failed to synchronize', 'count_': 1},\n {'aadTenantId': 'b101f36a-0ce0-4cf7-87a6-b6fc2cf4b22e', 'environmentName': 'Production', 'extensionId': '', 'extensionName': 'Company Hub', 'eventMessageShort': 'LC0013: Extension failed to synchronize', 'count_': 1},\n {'aadTenantId': 'b101f36a-0ce0-4cf7-87a6-b6fc2cf4b22e', 'environmentName': 'Production', 'extensionId': '', 'extensionName': 'ELSTER VAT Localization for Germany', 'eventMessageShort': 'LC0013: Extension failed to synchronize', 'count_': 1},\n {'aadTenantId': 'b101f36a-0ce0-4cf7-87a6-b6fc2cf4b22e', 'environmentName': 'Production', 'extensionId': '', 'extensionName': 'Essential Business Headlines', 'eventMessageShort': 'LC0013: Extension failed to synchronize', 'count_': 1},\n {'aadTenantId': 'b101f36a-0ce0-4cf7-87a6-b6fc2cf4b22e', 'environmentName': 'Production', 'extensionId': '', 'extensionName': 'Intelligent Cloud Base', 'eventMessageShort': 'LC0013: Extension failed to synchronize', 'count_': 1},\n {'aadTenantId': 'b101f36a-0ce0-4cf7-87a6-b6fc2cf4b22e', 'environmentName': 'Production', 'extensionId': '', 'extensionName': 'Late Payment Prediction', 'eventMessageShort': 'LC0013: Extension failed to synchronize', 'count_': 1},\n {'aadTenantId': 'b101f36a-0ce0-4cf7-87a6-b6fc2cf4b22e', 'environmentName': 'Production', 'extensionId': '', 'extensionName': 'PayPal Payments Standard', 'eventMessageShort': 'LC0013: Extension failed to synchronize', 'count_': 1},\n {'aadTenantId': 'b101f36a-0ce0-4cf7-87a6-b6fc2cf4b22e', 'environmentName': 'Production', 'extensionId': '', 'extensionName': 'Sales and Inventory Forecast', 'eventMessageShort': 'LC0013: Extension failed to synchronize', 'count_': 1},\n {'aadTenantId': 'b101f36a-0ce0-4cf7-87a6-b6fc2cf4b22e', 'environmentName': 'Production', 'extensionId': '', 'extensionName': 'Send To Email Printer', 'eventMessageShort': 'LC0013: Extension failed to synchronize', 'count_': 1},\n {'aadTenantId': 'b101f36a-0ce0-4cf7-87a6-b6fc2cf4b22e', 'environmentName': 'Production', 'extensionId': '', 'extensionName': 'System Application', 'eventMessageShort': 'LC0013: Extension failed to synchronize', 'count_': 1},\n {'aadTenantId': 'b101f36a-0ce0-4cf7-87a6-b6fc2cf4b22e', 'environmentName': 'Production', 'extensionId': '', 'extensionName': 'WorldPay Payments Standard', 'eventMessageShort': 'LC0013: Extension failed to synchronize', 'count_': 1},\n {'aadTenantId': 'b101f36a-0ce0-4cf7-87a6-b6fc2cf4b22e', 'environmentName': 'Production', 'extensionId': '', 'extensionName': '_Exclude_APIV1_', 'eventMessageShort': 'LC0013: Extension failed to synchronize', 'count_': 1},\n {'aadTenantId': 'b101f36a-0ce0-4cf7-87a6-b6fc2cf4b22e', 'environmentName': 'Production', 'extensionId': '', 'extensionName': '_Exclude_APIV2_', 'eventMessageShort': 'LC0013: Extension failed to synchronize', 'count_': 1},\n {'aadTenantId': 'b101f36a-0ce0-4cf7-87a6-b6fc2cf4b22e', 'environmentName': 'Production', 'extensionId': '', 'extensionName': '_Exclude_AnonymizedDataSharing_', 'eventMessageShort': 'LC0013: Extension failed to synchronize', 'count_': 1},\n {'aadTenantId': 'b101f36a-0ce0-4cf7-87a6-b6fc2cf4b22e', 'environmentName': 'Production', 'extensionId': '', 'extensionName': '_Exclude_ClientAddIns_', 'eventMessageShort': 'LC0013: Extension failed to synchronize', 'count_': 1},\n {'aadTenantId': 'b101f36a-0ce0-4cf7-87a6-b6fc2cf4b22e', 'environmentName': 'Production', 'extensionId': '', 'extensionName': '_Exclude_Microsoft Dynamics 365 - SmartList', 'eventMessageShort': 'LC0013: Extension failed to synchronize', 'count_': 1},\n {'aadTenantId': 'b101f36a-0ce0-4cf7-87a6-b6fc2cf4b22e', 'environmentName': 'Production', 'extensionId': '', 'extensionName': '_Exclude_SyncBaseApp_', 'eventMessageShort': 'LC0013: Extension failed to synchronize', 'count_': 1},\n {'aadTenantId': 'df35e278-9680-47e2-93a2-98e8c3beac0b', 'environmentName': 'Sandbox', 'extensionId': '', 'extensionName': 'Application', 'eventMessageShort': 'LC0013: Extension failed to synchronize', 'count_': 1},\n {'aadTenantId': 'df35e278-9680-47e2-93a2-98e8c3beac0b', 'environmentName': 'Sandbox', 'extensionId': '', 'extensionName': 'Base Application', 'eventMessageShort': 'LC0013: Extension failed to synchronize', 'count_': 1},\n {'aadTenantId': 'df35e278-9680-47e2-93a2-98e8c3beac0b', 'environmentName': 'Sandbox', 'extensionId': '', 'extensionName': 'Business Central Cloud Migration - Previous Release', 'eventMessageShort': 'LC0013: Extension failed to synchronize', 'count_': 1},\n {'aadTenantId': 'df35e278-9680-47e2-93a2-98e8c3beac0b', 'environmentName': 'Sandbox', 'extensionId': '', 'extensionName': 'Business Central Intelligent Cloud', 'eventMessageShort': 'LC0013: Extension failed to synchronize', 'count_': 1},\n {'aadTenantId': 'df35e278-9680-47e2-93a2-98e8c3beac0b', 'environmentName': 'Sandbox', 'extensionId': '', 'extensionName': 'Essential Business Headlines', 'eventMessageShort': 'LC0013: Extension failed to synchronize', 'count_': 1},\n {'aadTenantId': 'df35e278-9680-47e2-93a2-98e8c3beac0b', 'environmentName': 'Sandbox', 'extensionId': '', 'extensionName': 'Intelligent Cloud Base', 'eventMessageShort': 'LC0013: Extension failed to synchronize', 'count_': 1},\n {'aadTenantId': 'df35e278-9680-47e2-93a2-98e8c3beac0b', 'environmentName': 'Sandbox', 'extensionId': '', 'extensionName': 'Late Payment Prediction', 'eventMessageShort': 'LC0013: Extension failed to synchronize', 'count_': 1},\n {'aadTenantId': 'df35e278-9680-47e2-93a2-98e8c3beac0b', 'environmentName': 'Sandbox', 'extensionId': '', 'extensionName': 'PayPal Payments Standard', 'eventMessageShort': 'LC0013: Extension failed to synchronize', 'count_': 1},\n {'aadTenantId': 'df35e278-9680-47e2-93a2-98e8c3beac0b', 'environmentName': 'Sandbox', 'extensionId': '', 'extensionName': 'Sales and Inventory Forecast', 'eventMessageShort': 'LC0013: Extension failed to synchronize', 'count_': 1},\n {'aadTenantId': 'df35e278-9680-47e2-93a2-98e8c3beac0b', 'environmentName': 'Sandbox', 'extensionId': '', 'extensionName': 'Send To Email Printer', 'eventMessageShort': 'LC0013: Extension failed to synchronize', 'count_': 1},\n {'aadTenantId': 'df35e278-9680-47e2-93a2-98e8c3beac0b', 'environmentName': 'Sandbox', 'extensionId': '', 'extensionName': 'Send remittance advice by email', 'eventMessageShort': 'LC0013: Extension failed to synchronize', 'count_': 1},\n {'aadTenantId': 'df35e278-9680-47e2-93a2-98e8c3beac0b', 'environmentName': 'Sandbox', 'extensionId': '', 'extensionName': 'System Application', 'eventMessageShort': 'LC0013: Extension failed to synchronize', 'count_': 1},\n {'aadTenantId': 'df35e278-9680-47e2-93a2-98e8c3beac0b', 'environmentName': 'Sandbox', 'extensionId': '', 'extensionName': 'VAT Group Management', 'eventMessageShort': 'LC0013: Extension failed to synchronize', 'count_': 1},\n {'aadTenantId': 'df35e278-9680-47e2-93a2-98e8c3beac0b', 'environmentName': 'Sandbox', 'extensionId': '', 'extensionName': '_Exclude_APIV1_', 'eventMessageShort': 'LC0013: Extension failed to synchronize', 'count_': 1},\n {'aadTenantId': 'df35e278-9680-47e2-93a2-98e8c3beac0b', 'environmentName': 'Sandbox', 'extensionId': '', 'extensionName': '_Exclude_AnonymizedDataSharing_', 'eventMessageShort': 'LC0013: Extension failed to synchronize', 'count_': 1},\n {'aadTenantId': 'df35e278-9680-47e2-93a2-98e8c3beac0b', 'environmentName': 'Sandbox', 'extensionId': '', 'extensionName': '_Exclude_ClientAddIns_', 'eventMessageShort': 'LC0013: Extension failed to synchronize', 'count_': 1},\n {'aadTenantId': 'df35e278-9680-47e2-93a2-98e8c3beac0b', 'environmentName': 'Sandbox', 'extensionId': '', 'extensionName': '_Exclude_Microsoft Dynamics 365 - SmartList', 'eventMessageShort': 'LC0013: Extension failed to synchronize', 'count_': 1},\n {'aadTenantId': 'df35e278-9680-47e2-93a2-98e8c3beac0b', 'environmentName': 'Sandbox', 'extensionId': '', 'extensionName': '_Exclude_SyncBaseApp_', 'eventMessageShort': 'LC0013: Extension failed to synchronize', 'count_': 1},\n {'aadTenantId': 'e1d681de-ed51-41b4-978c-0bfd29ebfa4f', 'environmentName': 'Sandbox', 'extensionId': '30c1a959-3fd4-4320-a847-9e0696f74dca', 'extensionName': 'TestCompanyOpen', 'eventMessageShort': 'LC0015: Extension failed to publish', 'count_': 1}]",
                        "text/html": ""
                    },
                    "metadata": {},
                    "execution_count": 26,
                    "output_type": "execute_result"
                }
            ],
            "execution_count": 26
        }
    ]
}