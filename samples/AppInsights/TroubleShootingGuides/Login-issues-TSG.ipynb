{
    "metadata": {
        "kernelspec": {
            "name": "python3",
            "display_name": "Python 3"
        },
        "language_info": {
            "name": "python",
            "version": "3.6.6",
            "mimetype": "text/x-python",
            "codemirror_mode": {
                "name": "ipython",
                "version": 3
            },
            "pygments_lexer": "ipython3",
            "nbconvert_exporter": "python",
            "file_extension": ".py"
        }
    },
    "nbformat_minor": 2,
    "nbformat": 4,
    "cells": [
        {
            "cell_type": "markdown",
            "source": [
                "# Dynamics 365 Business Central Trouble Shooting Guide (TSG) - Login issues (SaaS)\r\n",
                "\r\n",
                "This notebook contains Kusto queries that can help getting to the root cause of a login issue for an environment in the online version of Business Central (SaaS). Each section in the notebook contains links to the TSG part of the authorization telemetry documentation in [aka.ms/bctelemetry](aka.ms/bctelemetry), as well as Kusto queries that help dive into a specific area. \r\n",
                "\r\n",
                "NB! The signal used in this notebook is only available in version 16.2 (or newer) of Business Central online, so check the version of your environment."
            ],
            "metadata": {
                "azdata_cell_guid": "1f608a1d-2436-4b48-80d4-5c4d2f8ca7d0"
            }
        },
        {
            "cell_type": "markdown",
            "source": [
                "## 1. Connect to Application Insights\r\n",
                "First you need to set the notebook Kernel to Python3, load the KQLmagic module (did you install it?) and connect to your Application Insights resource (get appid and appkey from the API access page in the Application Insights portal)"
            ],
            "metadata": {
                "azdata_cell_guid": "f103fae9-cf6d-40f7-9062-11ce50691046"
            }
        },
        {
            "cell_type": "code",
            "source": [
                "# load the KQLmagic module\r\n",
                "%reload_ext Kqlmagic\r\n",
                "\r\n",
                "# Connect to the Application Insights API\r\n",
                "%kql appinsights://appid='<add app id from the Application Insights portal>';appkey='<add API key from the Application Insights portal>'"
            ],
            "metadata": {
                "azdata_cell_guid": "a253fa8e-6ac2-4722-a00a-1c52aedab4ed",
                "tags": []
            },
            "outputs": [],
            "execution_count": 27
        },
        {
            "cell_type": "markdown",
            "source": [
                "## 2. Define filters\r\n",
                "This workbook is designed for troubleshooting a single environment. Please provide values for aadTenantId and environmentName: "
            ],
            "metadata": {
                "azdata_cell_guid": "9ef1220c-d9cc-4552-9297-1428efcafb32"
            }
        },
        {
            "cell_type": "code",
            "source": [
                "aadTenantId = \"<Add AAD tenant id here>\"\r\n",
                "environmentName = \"<add environment name here>\""
            ],
            "metadata": {
                "azdata_cell_guid": "0a0785f7-a85e-4ccf-9020-732e1d4c058a",
                "tags": []
            },
            "outputs": [],
            "execution_count": 28
        },
        {
            "cell_type": "markdown",
            "source": [
                "# Analyze the login flow\r\n",
                "Now you can run Kusto queries to look for possible root causes for login issues.\r\n",
                "\r\n",
                "Either click **Run All** above to run all sections, or scroll down to the type of analysis you want to do and manually run queries"
            ],
            "metadata": {
                "azdata_cell_guid": "5f9b698d-8a7e-4757-b27d-02f219d6c589"
            }
        },
        {
            "cell_type": "markdown",
            "source": [
                "## Authentication\r\n",
                "\r\n",
                "Authentication in the online version of Business Central happens strictly in Azure Active Directory (AAD). Only when a user is authenticated in AAD, a session is attempted to be created in the Business Central server (NST). When dealing with login issues, check for *absense* of signal in eventIds for Authorization in the pre-open company of opening a session in the NST (eventIds RT0001 and RT0003) to determine if the issue is related to AAD (e.g. user is disabled, wrong password, failed MFA)\r\n",
                "\r\n",
                "Read more in the Security Guide here: https://docs.microsoft.com/en-us/dynamics365/business-central/dev-itpro/security/security-application#authentication"
            ],
            "metadata": {
                "azdata_cell_guid": "810235a1-c202-47a2-b9dc-4d4d1ffd123c"
            }
        },
        {
            "cell_type": "code",
            "source": [
                "%%kql\r\n",
                "let _aadTenantId = aadTenantId;\r\n",
                "let _environmentName = environmentName;\r\n",
                "traces\r\n",
                "| where 1==1 \r\n",
                "    and timestamp > ago(1d) // adjust accordingly to your analysis\r\n",
                "    and customDimensions.aadTenantId == _aadTenantId\r\n",
                "    and customDimensions.environmentName == _environmentName\r\n",
                "    and customDimensions.eventId in ('RT0001', 'RT0003' )\r\n",
                "| summarize request_count=count() by bin(timestamp, 1h) | render timechart title= 'Number of pre-open company authorization attempts in the last day'"
            ],
            "metadata": {
                "azdata_cell_guid": "6426410c-182a-486c-8466-228cb9ce3228",
                "tags": []
            },
            "outputs": [
                {
                    "data": {
                        "text/plain": "<IPython.core.display.HTML object>",
                        "text/html": "<html>\n        <head>\n            \n            \n        </head>\n        <body>\n            <div><p style='padding: 10px; color: #3a87ad; background-color: #d9edf7; border-color: #bce9f1'>&nbsp;*&nbsp;962fbf96-f15e-4d37-8f91-13cae96f4b3e@applicationinsights</p></div>\n        </body>\n        </html>"
                    },
                    "metadata": {},
                    "output_type": "display_data"
                },
                {
                    "data": {
                        "application/vnd.plotly.v1+json": {
                            "config": {
                                "plotlyServerURL": "https://plot.ly"
                            },
                            "data": [
                                {
                                    "line": {
                                        "color": "rgb(31, 118, 179)",
                                        "width": 1
                                    },
                                    "name": "request_count",
                                    "opacity": 0.8,
                                    "type": "scatter",
                                    "x": [
                                        "2020-09-01T18:00:00+00:00",
                                        "2020-09-01T19:00:00+00:00",
                                        "2020-09-01T20:00:00+00:00",
                                        "2020-09-01T21:00:00+00:00",
                                        "2020-09-01T22:00:00+00:00",
                                        "2020-09-01T23:00:00+00:00",
                                        "2020-09-02T00:00:00+00:00",
                                        "2020-09-02T01:00:00+00:00",
                                        "2020-09-02T02:00:00+00:00",
                                        "2020-09-02T03:00:00+00:00",
                                        "2020-09-02T04:00:00+00:00",
                                        "2020-09-02T05:00:00+00:00",
                                        "2020-09-02T06:00:00+00:00",
                                        "2020-09-02T07:00:00+00:00",
                                        "2020-09-02T08:00:00+00:00",
                                        "2020-09-02T09:00:00+00:00",
                                        "2020-09-02T10:00:00+00:00",
                                        "2020-09-02T11:00:00+00:00",
                                        "2020-09-02T12:00:00+00:00",
                                        "2020-09-02T13:00:00+00:00",
                                        "2020-09-02T14:00:00+00:00",
                                        "2020-09-02T15:00:00+00:00",
                                        "2020-09-02T16:00:00+00:00",
                                        "2020-09-02T17:00:00+00:00",
                                        "2020-09-02T18:00:00+00:00"
                                    ],
                                    "y": [
                                        8,
                                        10,
                                        10,
                                        10,
                                        11,
                                        10,
                                        10,
                                        10,
                                        10,
                                        9,
                                        10,
                                        11,
                                        9,
                                        10,
                                        10,
                                        10,
                                        10,
                                        10,
                                        10,
                                        10,
                                        11,
                                        10,
                                        9,
                                        10,
                                        1
                                    ]
                                }
                            ],
                            "layout": {
                                "showlegend": true,
                                "template": {
                                    "data": {
                                        "bar": [
                                            {
                                                "error_x": {
                                                    "color": "#2a3f5f"
                                                },
                                                "error_y": {
                                                    "color": "#2a3f5f"
                                                },
                                                "marker": {
                                                    "line": {
                                                        "color": "#E5ECF6",
                                                        "width": 0.5
                                                    }
                                                },
                                                "type": "bar"
                                            }
                                        ],
                                        "barpolar": [
                                            {
                                                "marker": {
                                                    "line": {
                                                        "color": "#E5ECF6",
                                                        "width": 0.5
                                                    }
                                                },
                                                "type": "barpolar"
                                            }
                                        ],
                                        "carpet": [
                                            {
                                                "aaxis": {
                                                    "endlinecolor": "#2a3f5f",
                                                    "gridcolor": "white",
                                                    "linecolor": "white",
                                                    "minorgridcolor": "white",
                                                    "startlinecolor": "#2a3f5f"
                                                },
                                                "baxis": {
                                                    "endlinecolor": "#2a3f5f",
                                                    "gridcolor": "white",
                                                    "linecolor": "white",
                                                    "minorgridcolor": "white",
                                                    "startlinecolor": "#2a3f5f"
                                                },
                                                "type": "carpet"
                                            }
                                        ],
                                        "choropleth": [
                                            {
                                                "colorbar": {
                                                    "outlinewidth": 0,
                                                    "ticks": ""
                                                },
                                                "type": "choropleth"
                                            }
                                        ],
                                        "contour": [
                                            {
                                                "colorbar": {
                                                    "outlinewidth": 0,
                                                    "ticks": ""
                                                },
                                                "colorscale": [
                                                    [
                                                        0,
                                                        "#0d0887"
                                                    ],
                                                    [
                                                        0.1111111111111111,
                                                        "#46039f"
                                                    ],
                                                    [
                                                        0.2222222222222222,
                                                        "#7201a8"
                                                    ],
                                                    [
                                                        0.3333333333333333,
                                                        "#9c179e"
                                                    ],
                                                    [
                                                        0.4444444444444444,
                                                        "#bd3786"
                                                    ],
                                                    [
                                                        0.5555555555555556,
                                                        "#d8576b"
                                                    ],
                                                    [
                                                        0.6666666666666666,
                                                        "#ed7953"
                                                    ],
                                                    [
                                                        0.7777777777777778,
                                                        "#fb9f3a"
                                                    ],
                                                    [
                                                        0.8888888888888888,
                                                        "#fdca26"
                                                    ],
                                                    [
                                                        1,
                                                        "#f0f921"
                                                    ]
                                                ],
                                                "type": "contour"
                                            }
                                        ],
                                        "contourcarpet": [
                                            {
                                                "colorbar": {
                                                    "outlinewidth": 0,
                                                    "ticks": ""
                                                },
                                                "type": "contourcarpet"
                                            }
                                        ],
                                        "heatmap": [
                                            {
                                                "colorbar": {
                                                    "outlinewidth": 0,
                                                    "ticks": ""
                                                },
                                                "colorscale": [
                                                    [
                                                        0,
                                                        "#0d0887"
                                                    ],
                                                    [
                                                        0.1111111111111111,
                                                        "#46039f"
                                                    ],
                                                    [
                                                        0.2222222222222222,
                                                        "#7201a8"
                                                    ],
                                                    [
                                                        0.3333333333333333,
                                                        "#9c179e"
                                                    ],
                                                    [
                                                        0.4444444444444444,
                                                        "#bd3786"
                                                    ],
                                                    [
                                                        0.5555555555555556,
                                                        "#d8576b"
                                                    ],
                                                    [
                                                        0.6666666666666666,
                                                        "#ed7953"
                                                    ],
                                                    [
                                                        0.7777777777777778,
                                                        "#fb9f3a"
                                                    ],
                                                    [
                                                        0.8888888888888888,
                                                        "#fdca26"
                                                    ],
                                                    [
                                                        1,
                                                        "#f0f921"
                                                    ]
                                                ],
                                                "type": "heatmap"
                                            }
                                        ],
                                        "heatmapgl": [
                                            {
                                                "colorbar": {
                                                    "outlinewidth": 0,
                                                    "ticks": ""
                                                },
                                                "colorscale": [
                                                    [
                                                        0,
                                                        "#0d0887"
                                                    ],
                                                    [
                                                        0.1111111111111111,
                                                        "#46039f"
                                                    ],
                                                    [
                                                        0.2222222222222222,
                                                        "#7201a8"
                                                    ],
                                                    [
                                                        0.3333333333333333,
                                                        "#9c179e"
                                                    ],
                                                    [
                                                        0.4444444444444444,
                                                        "#bd3786"
                                                    ],
                                                    [
                                                        0.5555555555555556,
                                                        "#d8576b"
                                                    ],
                                                    [
                                                        0.6666666666666666,
                                                        "#ed7953"
                                                    ],
                                                    [
                                                        0.7777777777777778,
                                                        "#fb9f3a"
                                                    ],
                                                    [
                                                        0.8888888888888888,
                                                        "#fdca26"
                                                    ],
                                                    [
                                                        1,
                                                        "#f0f921"
                                                    ]
                                                ],
                                                "type": "heatmapgl"
                                            }
                                        ],
                                        "histogram": [
                                            {
                                                "marker": {
                                                    "colorbar": {
                                                        "outlinewidth": 0,
                                                        "ticks": ""
                                                    }
                                                },
                                                "type": "histogram"
                                            }
                                        ],
                                        "histogram2d": [
                                            {
                                                "colorbar": {
                                                    "outlinewidth": 0,
                                                    "ticks": ""
                                                },
                                                "colorscale": [
                                                    [
                                                        0,
                                                        "#0d0887"
                                                    ],
                                                    [
                                                        0.1111111111111111,
                                                        "#46039f"
                                                    ],
                                                    [
                                                        0.2222222222222222,
                                                        "#7201a8"
                                                    ],
                                                    [
                                                        0.3333333333333333,
                                                        "#9c179e"
                                                    ],
                                                    [
                                                        0.4444444444444444,
                                                        "#bd3786"
                                                    ],
                                                    [
                                                        0.5555555555555556,
                                                        "#d8576b"
                                                    ],
                                                    [
                                                        0.6666666666666666,
                                                        "#ed7953"
                                                    ],
                                                    [
                                                        0.7777777777777778,
                                                        "#fb9f3a"
                                                    ],
                                                    [
                                                        0.8888888888888888,
                                                        "#fdca26"
                                                    ],
                                                    [
                                                        1,
                                                        "#f0f921"
                                                    ]
                                                ],
                                                "type": "histogram2d"
                                            }
                                        ],
                                        "histogram2dcontour": [
                                            {
                                                "colorbar": {
                                                    "outlinewidth": 0,
                                                    "ticks": ""
                                                },
                                                "colorscale": [
                                                    [
                                                        0,
                                                        "#0d0887"
                                                    ],
                                                    [
                                                        0.1111111111111111,
                                                        "#46039f"
                                                    ],
                                                    [
                                                        0.2222222222222222,
                                                        "#7201a8"
                                                    ],
                                                    [
                                                        0.3333333333333333,
                                                        "#9c179e"
                                                    ],
                                                    [
                                                        0.4444444444444444,
                                                        "#bd3786"
                                                    ],
                                                    [
                                                        0.5555555555555556,
                                                        "#d8576b"
                                                    ],
                                                    [
                                                        0.6666666666666666,
                                                        "#ed7953"
                                                    ],
                                                    [
                                                        0.7777777777777778,
                                                        "#fb9f3a"
                                                    ],
                                                    [
                                                        0.8888888888888888,
                                                        "#fdca26"
                                                    ],
                                                    [
                                                        1,
                                                        "#f0f921"
                                                    ]
                                                ],
                                                "type": "histogram2dcontour"
                                            }
                                        ],
                                        "mesh3d": [
                                            {
                                                "colorbar": {
                                                    "outlinewidth": 0,
                                                    "ticks": ""
                                                },
                                                "type": "mesh3d"
                                            }
                                        ],
                                        "parcoords": [
                                            {
                                                "line": {
                                                    "colorbar": {
                                                        "outlinewidth": 0,
                                                        "ticks": ""
                                                    }
                                                },
                                                "type": "parcoords"
                                            }
                                        ],
                                        "pie": [
                                            {
                                                "automargin": true,
                                                "type": "pie"
                                            }
                                        ],
                                        "scatter": [
                                            {
                                                "marker": {
                                                    "colorbar": {
                                                        "outlinewidth": 0,
                                                        "ticks": ""
                                                    }
                                                },
                                                "type": "scatter"
                                            }
                                        ],
                                        "scatter3d": [
                                            {
                                                "line": {
                                                    "colorbar": {
                                                        "outlinewidth": 0,
                                                        "ticks": ""
                                                    }
                                                },
                                                "marker": {
                                                    "colorbar": {
                                                        "outlinewidth": 0,
                                                        "ticks": ""
                                                    }
                                                },
                                                "type": "scatter3d"
                                            }
                                        ],
                                        "scattercarpet": [
                                            {
                                                "marker": {
                                                    "colorbar": {
                                                        "outlinewidth": 0,
                                                        "ticks": ""
                                                    }
                                                },
                                                "type": "scattercarpet"
                                            }
                                        ],
                                        "scattergeo": [
                                            {
                                                "marker": {
                                                    "colorbar": {
                                                        "outlinewidth": 0,
                                                        "ticks": ""
                                                    }
                                                },
                                                "type": "scattergeo"
                                            }
                                        ],
                                        "scattergl": [
                                            {
                                                "marker": {
                                                    "colorbar": {
                                                        "outlinewidth": 0,
                                                        "ticks": ""
                                                    }
                                                },
                                                "type": "scattergl"
                                            }
                                        ],
                                        "scattermapbox": [
                                            {
                                                "marker": {
                                                    "colorbar": {
                                                        "outlinewidth": 0,
                                                        "ticks": ""
                                                    }
                                                },
                                                "type": "scattermapbox"
                                            }
                                        ],
                                        "scatterpolar": [
                                            {
                                                "marker": {
                                                    "colorbar": {
                                                        "outlinewidth": 0,
                                                        "ticks": ""
                                                    }
                                                },
                                                "type": "scatterpolar"
                                            }
                                        ],
                                        "scatterpolargl": [
                                            {
                                                "marker": {
                                                    "colorbar": {
                                                        "outlinewidth": 0,
                                                        "ticks": ""
                                                    }
                                                },
                                                "type": "scatterpolargl"
                                            }
                                        ],
                                        "scatterternary": [
                                            {
                                                "marker": {
                                                    "colorbar": {
                                                        "outlinewidth": 0,
                                                        "ticks": ""
                                                    }
                                                },
                                                "type": "scatterternary"
                                            }
                                        ],
                                        "surface": [
                                            {
                                                "colorbar": {
                                                    "outlinewidth": 0,
                                                    "ticks": ""
                                                },
                                                "colorscale": [
                                                    [
                                                        0,
                                                        "#0d0887"
                                                    ],
                                                    [
                                                        0.1111111111111111,
                                                        "#46039f"
                                                    ],
                                                    [
                                                        0.2222222222222222,
                                                        "#7201a8"
                                                    ],
                                                    [
                                                        0.3333333333333333,
                                                        "#9c179e"
                                                    ],
                                                    [
                                                        0.4444444444444444,
                                                        "#bd3786"
                                                    ],
                                                    [
                                                        0.5555555555555556,
                                                        "#d8576b"
                                                    ],
                                                    [
                                                        0.6666666666666666,
                                                        "#ed7953"
                                                    ],
                                                    [
                                                        0.7777777777777778,
                                                        "#fb9f3a"
                                                    ],
                                                    [
                                                        0.8888888888888888,
                                                        "#fdca26"
                                                    ],
                                                    [
                                                        1,
                                                        "#f0f921"
                                                    ]
                                                ],
                                                "type": "surface"
                                            }
                                        ],
                                        "table": [
                                            {
                                                "cells": {
                                                    "fill": {
                                                        "color": "#EBF0F8"
                                                    },
                                                    "line": {
                                                        "color": "white"
                                                    }
                                                },
                                                "header": {
                                                    "fill": {
                                                        "color": "#C8D4E3"
                                                    },
                                                    "line": {
                                                        "color": "white"
                                                    }
                                                },
                                                "type": "table"
                                            }
                                        ]
                                    },
                                    "layout": {
                                        "annotationdefaults": {
                                            "arrowcolor": "#2a3f5f",
                                            "arrowhead": 0,
                                            "arrowwidth": 1
                                        },
                                        "coloraxis": {
                                            "colorbar": {
                                                "outlinewidth": 0,
                                                "ticks": ""
                                            }
                                        },
                                        "colorscale": {
                                            "diverging": [
                                                [
                                                    0,
                                                    "#8e0152"
                                                ],
                                                [
                                                    0.1,
                                                    "#c51b7d"
                                                ],
                                                [
                                                    0.2,
                                                    "#de77ae"
                                                ],
                                                [
                                                    0.3,
                                                    "#f1b6da"
                                                ],
                                                [
                                                    0.4,
                                                    "#fde0ef"
                                                ],
                                                [
                                                    0.5,
                                                    "#f7f7f7"
                                                ],
                                                [
                                                    0.6,
                                                    "#e6f5d0"
                                                ],
                                                [
                                                    0.7,
                                                    "#b8e186"
                                                ],
                                                [
                                                    0.8,
                                                    "#7fbc41"
                                                ],
                                                [
                                                    0.9,
                                                    "#4d9221"
                                                ],
                                                [
                                                    1,
                                                    "#276419"
                                                ]
                                            ],
                                            "sequential": [
                                                [
                                                    0,
                                                    "#0d0887"
                                                ],
                                                [
                                                    0.1111111111111111,
                                                    "#46039f"
                                                ],
                                                [
                                                    0.2222222222222222,
                                                    "#7201a8"
                                                ],
                                                [
                                                    0.3333333333333333,
                                                    "#9c179e"
                                                ],
                                                [
                                                    0.4444444444444444,
                                                    "#bd3786"
                                                ],
                                                [
                                                    0.5555555555555556,
                                                    "#d8576b"
                                                ],
                                                [
                                                    0.6666666666666666,
                                                    "#ed7953"
                                                ],
                                                [
                                                    0.7777777777777778,
                                                    "#fb9f3a"
                                                ],
                                                [
                                                    0.8888888888888888,
                                                    "#fdca26"
                                                ],
                                                [
                                                    1,
                                                    "#f0f921"
                                                ]
                                            ],
                                            "sequentialminus": [
                                                [
                                                    0,
                                                    "#0d0887"
                                                ],
                                                [
                                                    0.1111111111111111,
                                                    "#46039f"
                                                ],
                                                [
                                                    0.2222222222222222,
                                                    "#7201a8"
                                                ],
                                                [
                                                    0.3333333333333333,
                                                    "#9c179e"
                                                ],
                                                [
                                                    0.4444444444444444,
                                                    "#bd3786"
                                                ],
                                                [
                                                    0.5555555555555556,
                                                    "#d8576b"
                                                ],
                                                [
                                                    0.6666666666666666,
                                                    "#ed7953"
                                                ],
                                                [
                                                    0.7777777777777778,
                                                    "#fb9f3a"
                                                ],
                                                [
                                                    0.8888888888888888,
                                                    "#fdca26"
                                                ],
                                                [
                                                    1,
                                                    "#f0f921"
                                                ]
                                            ]
                                        },
                                        "colorway": [
                                            "#636efa",
                                            "#EF553B",
                                            "#00cc96",
                                            "#ab63fa",
                                            "#FFA15A",
                                            "#19d3f3",
                                            "#FF6692",
                                            "#B6E880",
                                            "#FF97FF",
                                            "#FECB52"
                                        ],
                                        "font": {
                                            "color": "#2a3f5f"
                                        },
                                        "geo": {
                                            "bgcolor": "white",
                                            "lakecolor": "white",
                                            "landcolor": "#E5ECF6",
                                            "showlakes": true,
                                            "showland": true,
                                            "subunitcolor": "white"
                                        },
                                        "hoverlabel": {
                                            "align": "left"
                                        },
                                        "hovermode": "closest",
                                        "mapbox": {
                                            "style": "light"
                                        },
                                        "paper_bgcolor": "white",
                                        "plot_bgcolor": "#E5ECF6",
                                        "polar": {
                                            "angularaxis": {
                                                "gridcolor": "white",
                                                "linecolor": "white",
                                                "ticks": ""
                                            },
                                            "bgcolor": "#E5ECF6",
                                            "radialaxis": {
                                                "gridcolor": "white",
                                                "linecolor": "white",
                                                "ticks": ""
                                            }
                                        },
                                        "scene": {
                                            "xaxis": {
                                                "backgroundcolor": "#E5ECF6",
                                                "gridcolor": "white",
                                                "gridwidth": 2,
                                                "linecolor": "white",
                                                "showbackground": true,
                                                "ticks": "",
                                                "zerolinecolor": "white"
                                            },
                                            "yaxis": {
                                                "backgroundcolor": "#E5ECF6",
                                                "gridcolor": "white",
                                                "gridwidth": 2,
                                                "linecolor": "white",
                                                "showbackground": true,
                                                "ticks": "",
                                                "zerolinecolor": "white"
                                            },
                                            "zaxis": {
                                                "backgroundcolor": "#E5ECF6",
                                                "gridcolor": "white",
                                                "gridwidth": 2,
                                                "linecolor": "white",
                                                "showbackground": true,
                                                "ticks": "",
                                                "zerolinecolor": "white"
                                            }
                                        },
                                        "shapedefaults": {
                                            "line": {
                                                "color": "#2a3f5f"
                                            }
                                        },
                                        "ternary": {
                                            "aaxis": {
                                                "gridcolor": "white",
                                                "linecolor": "white",
                                                "ticks": ""
                                            },
                                            "baxis": {
                                                "gridcolor": "white",
                                                "linecolor": "white",
                                                "ticks": ""
                                            },
                                            "bgcolor": "#E5ECF6",
                                            "caxis": {
                                                "gridcolor": "white",
                                                "linecolor": "white",
                                                "ticks": ""
                                            }
                                        },
                                        "title": {
                                            "x": 0.05
                                        },
                                        "xaxis": {
                                            "automargin": true,
                                            "gridcolor": "white",
                                            "linecolor": "white",
                                            "ticks": "",
                                            "title": {
                                                "standoff": 15
                                            },
                                            "zerolinecolor": "white",
                                            "zerolinewidth": 2
                                        },
                                        "yaxis": {
                                            "automargin": true,
                                            "gridcolor": "white",
                                            "linecolor": "white",
                                            "ticks": "",
                                            "title": {
                                                "standoff": 15
                                            },
                                            "zerolinecolor": "white",
                                            "zerolinewidth": 2
                                        }
                                    }
                                },
                                "title": {
                                    "text": "Number of pre-open company authorization attempts in the last day"
                                },
                                "xaxis": {
                                    "autorange": true,
                                    "title": {
                                        "text": "timestamp"
                                    },
                                    "type": "date"
                                },
                                "yaxis": {
                                    "ticksuffix": "",
                                    "title": {
                                        "text": "request_count"
                                    },
                                    "type": "linear"
                                }
                            }
                        }
                    },
                    "metadata": {},
                    "output_type": "display_data"
                },
                {
                    "data": {
                        "text/plain": "<IPython.core.display.HTML object>",
                        "text/html": "<html>\n        <head>\n            \n            \n        </head>\n        <body>\n            <div><p style='padding: 10px; color: #3a87ad; background-color: #d9edf7; border-color: #bce9f1'>Done&nbsp;(00:00.620):&nbsp;25&nbsp;records</p></div>\n        </body>\n        </html>"
                    },
                    "metadata": {},
                    "output_type": "display_data"
                },
                {
                    "data": {
                        "text/plain": "[{'timestamp': datetime.datetime(2020, 9, 2, 16, 0, tzinfo=tzutc()), 'request_count': 9},\n {'timestamp': datetime.datetime(2020, 9, 2, 13, 0, tzinfo=tzutc()), 'request_count': 10},\n {'timestamp': datetime.datetime(2020, 9, 2, 14, 0, tzinfo=tzutc()), 'request_count': 11},\n {'timestamp': datetime.datetime(2020, 9, 2, 15, 0, tzinfo=tzutc()), 'request_count': 10},\n {'timestamp': datetime.datetime(2020, 9, 2, 17, 0, tzinfo=tzutc()), 'request_count': 10},\n {'timestamp': datetime.datetime(2020, 9, 2, 9, 0, tzinfo=tzutc()), 'request_count': 10},\n {'timestamp': datetime.datetime(2020, 9, 2, 10, 0, tzinfo=tzutc()), 'request_count': 10},\n {'timestamp': datetime.datetime(2020, 9, 2, 11, 0, tzinfo=tzutc()), 'request_count': 10},\n {'timestamp': datetime.datetime(2020, 9, 2, 12, 0, tzinfo=tzutc()), 'request_count': 10},\n {'timestamp': datetime.datetime(2020, 9, 2, 4, 0, tzinfo=tzutc()), 'request_count': 10},\n {'timestamp': datetime.datetime(2020, 9, 2, 6, 0, tzinfo=tzutc()), 'request_count': 9},\n {'timestamp': datetime.datetime(2020, 9, 2, 7, 0, tzinfo=tzutc()), 'request_count': 10},\n {'timestamp': datetime.datetime(2020, 9, 2, 8, 0, tzinfo=tzutc()), 'request_count': 10},\n {'timestamp': datetime.datetime(2020, 9, 2, 5, 0, tzinfo=tzutc()), 'request_count': 11},\n {'timestamp': datetime.datetime(2020, 9, 1, 21, 0, tzinfo=tzutc()), 'request_count': 10},\n {'timestamp': datetime.datetime(2020, 9, 1, 22, 0, tzinfo=tzutc()), 'request_count': 11},\n {'timestamp': datetime.datetime(2020, 9, 2, 3, 0, tzinfo=tzutc()), 'request_count': 9},\n {'timestamp': datetime.datetime(2020, 9, 2, 1, 0, tzinfo=tzutc()), 'request_count': 10},\n {'timestamp': datetime.datetime(2020, 9, 2, 2, 0, tzinfo=tzutc()), 'request_count': 10},\n {'timestamp': datetime.datetime(2020, 9, 1, 19, 0, tzinfo=tzutc()), 'request_count': 10},\n {'timestamp': datetime.datetime(2020, 9, 1, 20, 0, tzinfo=tzutc()), 'request_count': 10},\n {'timestamp': datetime.datetime(2020, 9, 1, 18, 0, tzinfo=tzutc()), 'request_count': 8},\n {'timestamp': datetime.datetime(2020, 9, 1, 23, 0, tzinfo=tzutc()), 'request_count': 10},\n {'timestamp': datetime.datetime(2020, 9, 2, 0, 0, tzinfo=tzutc()), 'request_count': 10},\n {'timestamp': datetime.datetime(2020, 9, 2, 18, 0, tzinfo=tzutc()), 'request_count': 1}]",
                        "text/html": ""
                    },
                    "metadata": {},
                    "execution_count": 29,
                    "output_type": "execute_result"
                }
            ],
            "execution_count": 29
        },
        {
            "cell_type": "markdown",
            "source": [
                "## Authorization failures (pre-open company)\r\n",
                "\r\n",
                "A user can fail authorization before the open company trigger is executed for a number of different reasons:\r\n",
                "* The user was successfully authenticated in Azure Active Directory but the user account is disabled in Business Central.\r\n",
                "* A user successfully authenticated in Azure Active Directory but the user does not have any entitlements in Business Central (license issue)\r\n",
                "\r\n",
                "Read more about these types of failures in the authorization signal docs here: https://docs.microsoft.com/en-us/dynamics365/business-central/dev-itpro/administration/telemetry-authorization-trace#authorizationfailedpreopencompany"
            ],
            "metadata": {
                "azdata_cell_guid": "2f9c2d0d-df3c-482b-af58-48416a517117"
            }
        },
        {
            "cell_type": "code",
            "source": [
                "%%kql\r\n",
                "let _aadTenantId = aadTenantId;\r\n",
                "let _environmentName = environmentName;\r\n",
                "traces\r\n",
                "| where timestamp > ago(1d) // adjust accordingly to your analysis\r\n",
                "    and customDimensions.aadTenantId == _aadTenantId\r\n",
                "    and customDimensions.environmentName == _environmentName\r\n",
                "    and customDimensions.eventId == 'RT0001'\r\n",
                "| project timestamp\r\n",
                ", guestUser = customDimensions.guestUser\r\n",
                ", userType = customDimensions.userType\r\n",
                ", failureReason = customDimensions.failureReason\r\n",
                ", entitlementSetIds = customDimensions.entitlementSetIds\r\n",
                "| order by timestamp desc\r\n",
                "| limit 100"
            ],
            "metadata": {
                "azdata_cell_guid": "a9e923e9-1d05-4acf-a230-4c5142bc3582",
                "tags": []
            },
            "outputs": [
                {
                    "data": {
                        "text/plain": "<IPython.core.display.HTML object>",
                        "text/html": "<html>\n        <head>\n            \n            \n        </head>\n        <body>\n            <div><p style='padding: 10px; color: #3a87ad; background-color: #d9edf7; border-color: #bce9f1'>&nbsp;*&nbsp;962fbf96-f15e-4d37-8f91-13cae96f4b3e@applicationinsights</p></div>\n        </body>\n        </html>"
                    },
                    "metadata": {},
                    "output_type": "display_data"
                },
                {
                    "data": {
                        "text/plain": "Empty DataFrame\nColumns: [timestamp, guestUser, userType, failureReason, entitlementSetIds]\nIndex: []",
                        "text/html": "<div>\n<style scoped>\n    .dataframe tbody tr th:only-of-type {\n        vertical-align: middle;\n    }\n\n    .dataframe tbody tr th {\n        vertical-align: top;\n    }\n\n    .dataframe thead th {\n        text-align: right;\n    }\n</style>\n<table border=\"1\" class=\"dataframe\">\n  <thead>\n    <tr style=\"text-align: right;\">\n      <th></th>\n      <th>timestamp</th>\n      <th>guestUser</th>\n      <th>userType</th>\n      <th>failureReason</th>\n      <th>entitlementSetIds</th>\n    </tr>\n  </thead>\n  <tbody>\n  </tbody>\n</table>\n</div>",
                        "application/vnd.dataresource+json": {
                            "schema": {
                                "fields": [
                                    {
                                        "name": "timestamp",
                                        "type": "datetime"
                                    },
                                    {
                                        "name": "guestUser",
                                        "type": "string"
                                    },
                                    {
                                        "name": "userType",
                                        "type": "string"
                                    },
                                    {
                                        "name": "failureReason",
                                        "type": "string"
                                    },
                                    {
                                        "name": "entitlementSetIds",
                                        "type": "string"
                                    }
                                ],
                                "kqmagic_version": "0.1.113"
                            },
                            "data": []
                        }
                    },
                    "metadata": {},
                    "output_type": "display_data"
                },
                {
                    "data": {
                        "text/plain": "<IPython.core.display.HTML object>",
                        "text/html": "<html>\n        <head>\n            \n            \n        </head>\n        <body>\n            <div><p style='padding: 10px; color: #3a87ad; background-color: #d9edf7; border-color: #bce9f1'>Done&nbsp;(00:00.866):&nbsp;0&nbsp;records</p></div>\n        </body>\n        </html>"
                    },
                    "metadata": {},
                    "output_type": "display_data"
                },
                {
                    "data": {
                        "text/plain": "[]",
                        "text/html": ""
                    },
                    "metadata": {},
                    "execution_count": 34,
                    "output_type": "execute_result"
                }
            ],
            "execution_count": 34
        },
        {
            "cell_type": "markdown",
            "source": [
                "## Authorization failures (in the open company process)\r\n",
                "\r\n",
                "Events show up here for a number of different reasons\r\n",
                "* The company name is invalid\r\n",
                "* User has no permission to access the company\r\n",
                "* The environment is locked\r\n",
                "* The license has expired or the trial period has ended\r\n",
                "* The user's license is not valid for use on production companies\r\n",
                "\r\n",
                "Read more in the authorization signal docs here: https://docs.microsoft.com/en-us/dynamics365/business-central/dev-itpro/administration/telemetry-authorization-trace#authorization-failed-open-company\r\n",
                ""
            ],
            "metadata": {
                "azdata_cell_guid": "2f7e604a-0d02-484e-9bcb-a6aa148d5f0b"
            }
        },
        {
            "cell_type": "code",
            "source": [
                "%%kql\r\n",
                "let _aadTenantId = aadTenantId;\r\n",
                "let _environmentName = environmentName;\r\n",
                "traces\r\n",
                "| where timestamp > ago(1d) // adjust accordingly to your analysis\r\n",
                "    and customDimensions.aadTenantId == _aadTenantId\r\n",
                "    and customDimensions.environmentName == _environmentName\r\n",
                "    and customDimensions.eventId == 'RT0002'\r\n",
                "| project timestamp\r\n",
                ", clientType = customDimensions.clientType\r\n",
                ", companyName = customDimensions.companyName\r\n",
                ", failureReason = customDimensions.failureReason\r\n",
                "| order by timestamp desc\r\n",
                "| limit 100"
            ],
            "metadata": {
                "azdata_cell_guid": "9ec9b678-7d66-4758-9101-4e9e5025dfcf",
                "tags": []
            },
            "outputs": [
                {
                    "data": {
                        "text/plain": "<IPython.core.display.HTML object>",
                        "text/html": "<html>\n        <head>\n            \n            \n        </head>\n        <body>\n            <div><p style='padding: 10px; color: #3a87ad; background-color: #d9edf7; border-color: #bce9f1'>&nbsp;*&nbsp;962fbf96-f15e-4d37-8f91-13cae96f4b3e@applicationinsights</p></div>\n        </body>\n        </html>"
                    },
                    "metadata": {},
                    "output_type": "display_data"
                },
                {
                    "data": {
                        "text/plain": "Empty DataFrame\nColumns: [timestamp, clientType, companyName, failureReason]\nIndex: []",
                        "text/html": "<div>\n<style scoped>\n    .dataframe tbody tr th:only-of-type {\n        vertical-align: middle;\n    }\n\n    .dataframe tbody tr th {\n        vertical-align: top;\n    }\n\n    .dataframe thead th {\n        text-align: right;\n    }\n</style>\n<table border=\"1\" class=\"dataframe\">\n  <thead>\n    <tr style=\"text-align: right;\">\n      <th></th>\n      <th>timestamp</th>\n      <th>clientType</th>\n      <th>companyName</th>\n      <th>failureReason</th>\n    </tr>\n  </thead>\n  <tbody>\n  </tbody>\n</table>\n</div>",
                        "application/vnd.dataresource+json": {
                            "schema": {
                                "fields": [
                                    {
                                        "name": "timestamp",
                                        "type": "datetime"
                                    },
                                    {
                                        "name": "clientType",
                                        "type": "string"
                                    },
                                    {
                                        "name": "companyName",
                                        "type": "string"
                                    },
                                    {
                                        "name": "failureReason",
                                        "type": "string"
                                    }
                                ],
                                "kqmagic_version": "0.1.113"
                            },
                            "data": []
                        }
                    },
                    "metadata": {},
                    "output_type": "display_data"
                },
                {
                    "data": {
                        "text/plain": "<IPython.core.display.HTML object>",
                        "text/html": "<html>\n        <head>\n            \n            \n        </head>\n        <body>\n            <div><p style='padding: 10px; color: #3a87ad; background-color: #d9edf7; border-color: #bce9f1'>Done&nbsp;(00:00.524):&nbsp;0&nbsp;records</p></div>\n        </body>\n        </html>"
                    },
                    "metadata": {},
                    "output_type": "display_data"
                },
                {
                    "data": {
                        "text/plain": "[]",
                        "text/html": ""
                    },
                    "metadata": {},
                    "execution_count": 35,
                    "output_type": "execute_result"
                }
            ],
            "execution_count": 35
        },
        {
            "cell_type": "markdown",
            "source": [
                "## Successful logins (authentication in AAD succeded, authorization in the Business Central server succeeded)\r\n",
                "\r\n",
                "If the user can authenticate against AAD and the two authorization steps inside the Business Central server succeeds, then a session is created and the user has successfully logged in.\r\n",
                "\r\n",
                "Read more about application security in the Security Guide here:  https://docs.microsoft.com/en-us/dynamics365/business-central/dev-itpro/security/security-application#authentication"
            ],
            "metadata": {
                "azdata_cell_guid": "7ed10cbf-6380-4591-ad66-8dc6b886ba48"
            }
        },
        {
            "cell_type": "code",
            "source": [
                "%%kql\r\n",
                "let _aadTenantId = aadTenantId;\r\n",
                "let _environmentName = environmentName;\r\n",
                "traces\r\n",
                "| where timestamp > ago(1d) // adjust accordingly to your analysis\r\n",
                "    and customDimensions.aadTenantId == _aadTenantId\r\n",
                "    and customDimensions.environmentName == _environmentName\r\n",
                "    and customDimensions.eventId == 'RT0004'\r\n",
                "| project timestamp\r\n",
                ", clientType = customDimensions.clientType\r\n",
                ", companyName = customDimensions.companyName\r\n",
                ", totalTimeInMS = toreal(totimespan(customDimensions.totalTime))/10000 // totalTime is measured in ticks, divide by 10000 to get milliseconds\r\n",
                "| order by timestamp desc\r\n",
                "| limit 100"
            ],
            "metadata": {
                "azdata_cell_guid": "f8e7955e-2b86-410b-98ad-f4979d85e879"
            },
            "outputs": [
                {
                    "data": {
                        "text/plain": "<IPython.core.display.HTML object>",
                        "text/html": "<html>\n        <head>\n            \n            \n        </head>\n        <body>\n            <div><p style='padding: 10px; color: #3a87ad; background-color: #d9edf7; border-color: #bce9f1'>&nbsp;*&nbsp;962fbf96-f15e-4d37-8f91-13cae96f4b3e@applicationinsights</p></div>\n        </body>\n        </html>"
                    },
                    "metadata": {},
                    "output_type": "display_data"
                },
                {
                    "data": {
                        "text/plain": "                             timestamp  clientType       companyName  \\\n0  2020-09-02 18:14:46.756838900+00:00  Background  CRONUS USA, Inc.   \n1  2020-09-02 18:13:16.026500800+00:00  Background  CRONUS USA, Inc.   \n2  2020-09-02 18:11:44.258595100+00:00  Background  CRONUS USA, Inc.   \n3  2020-09-02 18:10:12.989594100+00:00  Background  CRONUS USA, Inc.   \n4  2020-09-02 18:08:42.445172900+00:00  Background  CRONUS USA, Inc.   \n5  2020-09-02 18:07:12.087972200+00:00  Background  CRONUS USA, Inc.   \n6  2020-09-02 18:05:40.766240700+00:00  Background  CRONUS USA, Inc.   \n7     2020-09-02 18:04:09.408706+00:00  Background  CRONUS USA, Inc.   \n8  2020-09-02 18:02:38.220527500+00:00  Background  CRONUS USA, Inc.   \n9     2020-09-02 18:01:07.891536+00:00  Background  CRONUS USA, Inc.   \n10 2020-09-02 17:59:36.365000100+00:00  Background  CRONUS USA, Inc.   \n11 2020-09-02 17:58:05.521569600+00:00  Background  CRONUS USA, Inc.   \n12 2020-09-02 17:56:34.740994400+00:00  Background  CRONUS USA, Inc.   \n13 2020-09-02 17:55:04.418416300+00:00  Background  CRONUS USA, Inc.   \n14    2020-09-02 17:53:33.279728+00:00  Background  CRONUS USA, Inc.   \n15 2020-09-02 17:52:02.820225500+00:00  Background  CRONUS USA, Inc.   \n16 2020-09-02 17:50:32.541658300+00:00  Background  CRONUS USA, Inc.   \n17 2020-09-02 17:49:01.976889100+00:00  Background  CRONUS USA, Inc.   \n18 2020-09-02 17:47:30.660180800+00:00  Background  CRONUS USA, Inc.   \n19 2020-09-02 17:46:00.469446200+00:00  Background  CRONUS USA, Inc.   \n20 2020-09-02 17:44:29.894954200+00:00  Background  CRONUS USA, Inc.   \n21 2020-09-02 17:42:59.671278600+00:00  Background  CRONUS USA, Inc.   \n22    2020-09-02 17:41:24.173459+00:00  Background  CRONUS USA, Inc.   \n23 2020-09-02 17:39:53.511556300+00:00  Background  CRONUS USA, Inc.   \n24 2020-09-02 17:38:22.650816600+00:00  Background  CRONUS USA, Inc.   \n25 2020-09-02 17:36:52.530806400+00:00  Background  CRONUS USA, Inc.   \n26 2020-09-02 17:35:20.960183300+00:00  Background  CRONUS USA, Inc.   \n27 2020-09-02 17:33:50.570169700+00:00  Background  CRONUS USA, Inc.   \n28 2020-09-02 17:32:20.149990500+00:00  Background  CRONUS USA, Inc.   \n29 2020-09-02 17:30:49.851012900+00:00  Background  CRONUS USA, Inc.   \n30 2020-09-02 17:29:18.449800600+00:00  Background  CRONUS USA, Inc.   \n31    2020-09-02 17:27:47.729510+00:00  Background  CRONUS USA, Inc.   \n32 2020-09-02 17:26:17.288493200+00:00  Background  CRONUS USA, Inc.   \n33 2020-09-02 17:24:46.468006600+00:00  Background  CRONUS USA, Inc.   \n34 2020-09-02 17:23:15.225752500+00:00  Background  CRONUS USA, Inc.   \n35 2020-09-02 17:21:44.707135700+00:00  Background  CRONUS USA, Inc.   \n36 2020-09-02 17:20:14.366857100+00:00  Background  CRONUS USA, Inc.   \n37 2020-09-02 17:18:44.196950700+00:00  Background  CRONUS USA, Inc.   \n38 2020-09-02 17:17:13.390435400+00:00  Background  CRONUS USA, Inc.   \n39 2020-09-02 17:15:42.835806400+00:00  Background  CRONUS USA, Inc.   \n40 2020-09-02 17:14:12.073181100+00:00  Background  CRONUS USA, Inc.   \n41 2020-09-02 17:12:40.914781900+00:00  Background  CRONUS USA, Inc.   \n42 2020-09-02 17:11:09.035414900+00:00  Background  CRONUS USA, Inc.   \n43 2020-09-02 17:09:38.572206800+00:00  Background  CRONUS USA, Inc.   \n44 2020-09-02 17:08:07.541939800+00:00  Background  CRONUS USA, Inc.   \n45 2020-09-02 17:06:37.371112800+00:00  Background  CRONUS USA, Inc.   \n46 2020-09-02 17:05:05.606982300+00:00  Background  CRONUS USA, Inc.   \n47 2020-09-02 17:03:34.365387600+00:00  Background  CRONUS USA, Inc.   \n48 2020-09-02 17:02:03.196020800+00:00  Background  CRONUS USA, Inc.   \n49 2020-09-02 17:00:31.932095600+00:00  Background  CRONUS USA, Inc.   \n50 2020-09-02 16:58:55.849736500+00:00  Background  CRONUS USA, Inc.   \n51 2020-09-02 16:57:25.488967800+00:00  Background  CRONUS USA, Inc.   \n52 2020-09-02 16:55:55.004307800+00:00  Background  CRONUS USA, Inc.   \n53 2020-09-02 16:54:24.198746400+00:00  Background  CRONUS USA, Inc.   \n54    2020-09-02 16:52:52.858864+00:00  Background  CRONUS USA, Inc.   \n55 2020-09-02 16:51:22.293783100+00:00  Background  CRONUS USA, Inc.   \n56 2020-09-02 16:49:52.139055200+00:00  Background  CRONUS USA, Inc.   \n57 2020-09-02 16:48:21.629611500+00:00  Background  CRONUS USA, Inc.   \n58 2020-09-02 16:46:50.384684400+00:00  Background  CRONUS USA, Inc.   \n59 2020-09-02 16:45:19.479117200+00:00  Background  CRONUS USA, Inc.   \n60 2020-09-02 16:43:49.036998700+00:00  Background  CRONUS USA, Inc.   \n61 2020-09-02 16:42:18.565408800+00:00  Background  CRONUS USA, Inc.   \n62 2020-09-02 16:40:47.109313300+00:00  Background  CRONUS USA, Inc.   \n63 2020-09-02 16:39:16.624348400+00:00  Background  CRONUS USA, Inc.   \n64 2020-09-02 16:37:45.820150900+00:00  Background  CRONUS USA, Inc.   \n65    2020-09-02 16:36:15.690270+00:00  Background  CRONUS USA, Inc.   \n66 2020-09-02 16:34:44.553677700+00:00  Background  CRONUS USA, Inc.   \n67 2020-09-02 16:33:14.370304800+00:00  Background  CRONUS USA, Inc.   \n68 2020-09-02 16:31:43.846068200+00:00  Background  CRONUS USA, Inc.   \n69 2020-09-02 16:30:13.310743700+00:00  Background  CRONUS USA, Inc.   \n70 2020-09-02 16:28:42.408691800+00:00  Background  CRONUS USA, Inc.   \n71    2020-09-02 16:27:11.263974+00:00  Background  CRONUS USA, Inc.   \n72 2020-09-02 16:25:39.985057500+00:00  Background  CRONUS USA, Inc.   \n73 2020-09-02 16:24:09.679140900+00:00  Background  CRONUS USA, Inc.   \n74 2020-09-02 16:22:38.771384300+00:00  Background  CRONUS USA, Inc.   \n75 2020-09-02 16:21:07.553839800+00:00  Background  CRONUS USA, Inc.   \n76 2020-09-02 16:19:37.451998500+00:00  Background  CRONUS USA, Inc.   \n77 2020-09-02 16:18:06.541926400+00:00  Background  CRONUS USA, Inc.   \n78 2020-09-02 16:16:35.263123100+00:00  Background  CRONUS USA, Inc.   \n79 2020-09-02 16:15:04.433359800+00:00  Background  CRONUS USA, Inc.   \n80 2020-09-02 16:13:30.102726200+00:00  Background  CRONUS USA, Inc.   \n81 2020-09-02 16:11:59.216713100+00:00  Background  CRONUS USA, Inc.   \n82 2020-09-02 16:10:27.626816200+00:00  Background  CRONUS USA, Inc.   \n83 2020-09-02 16:08:57.154248300+00:00  Background  CRONUS USA, Inc.   \n84 2020-09-02 16:07:26.730234500+00:00  Background  CRONUS USA, Inc.   \n85 2020-09-02 16:05:56.040088200+00:00  Background  CRONUS USA, Inc.   \n86 2020-09-02 16:04:24.719070800+00:00  Background  CRONUS USA, Inc.   \n87    2020-09-02 16:02:54.177068+00:00  Background  CRONUS USA, Inc.   \n88 2020-09-02 16:01:23.518628900+00:00  Background  CRONUS USA, Inc.   \n89 2020-09-02 15:59:52.718911100+00:00  Background  CRONUS USA, Inc.   \n90 2020-09-02 15:58:21.319244300+00:00  Background  CRONUS USA, Inc.   \n91 2020-09-02 15:56:50.704314900+00:00  Background  CRONUS USA, Inc.   \n92 2020-09-02 15:55:20.194176100+00:00  Background  CRONUS USA, Inc.   \n93 2020-09-02 15:53:49.992267400+00:00  Background  CRONUS USA, Inc.   \n94 2020-09-02 15:52:18.313915600+00:00  Background  CRONUS USA, Inc.   \n95    2020-09-02 15:50:47.362502+00:00  Background  CRONUS USA, Inc.   \n96    2020-09-02 15:49:16.783783+00:00  Background  CRONUS USA, Inc.   \n97 2020-09-02 15:47:46.103111100+00:00  Background  CRONUS USA, Inc.   \n98 2020-09-02 15:46:14.225047900+00:00  Background  CRONUS USA, Inc.   \n99 2020-09-02 15:44:43.883748700+00:00  Background  CRONUS USA, Inc.   \n\n    totalTimeInMS  \n0         10.0171  \n1          5.9782  \n2          9.2422  \n3         11.9938  \n4         11.5650  \n5         17.2654  \n6          9.3166  \n7         36.2553  \n8          6.9695  \n9         10.9489  \n10         6.7760  \n11         7.0006  \n12         4.9161  \n13         5.7305  \n14         3.9506  \n15         4.0841  \n16         4.0121  \n17         4.0409  \n18         4.5078  \n19         3.9726  \n20         4.0172  \n21         7.9305  \n22         4.3325  \n23         4.3212  \n24         4.6055  \n25         4.1249  \n26         4.6039  \n27         4.2966  \n28         7.0034  \n29         3.9717  \n30         4.6974  \n31         9.6056  \n32        11.2448  \n33         4.7442  \n34         3.8222  \n35         4.7804  \n36         4.6334  \n37         4.6903  \n38         4.2462  \n39         5.4626  \n40        13.3071  \n41         4.4431  \n42         9.8133  \n43         3.7505  \n44         4.2059  \n45         3.9836  \n46         3.9745  \n47         3.9829  \n48         4.1139  \n49         4.1476  \n50         3.5904  \n51        14.7068  \n52         4.0692  \n53         8.4370  \n54         4.5944  \n55         7.2909  \n56         4.8617  \n57         3.9366  \n58         4.2444  \n59         3.9029  \n60        10.2145  \n61         8.3109  \n62         4.0478  \n63         4.7752  \n64         3.8406  \n65         4.3890  \n66         3.7188  \n67         3.6574  \n68         3.9816  \n69         4.4049  \n70         4.0025  \n71         4.2166  \n72         4.8234  \n73        10.1779  \n74         4.6148  \n75         4.3959  \n76         3.8705  \n77         4.0352  \n78         8.9066  \n79         4.2189  \n80         8.7315  \n81         4.4609  \n82        10.2752  \n83         4.1486  \n84         4.6484  \n85         9.4497  \n86         4.4205  \n87         4.5923  \n88         4.4388  \n89         3.8019  \n90         7.6912  \n91         3.6330  \n92         3.8399  \n93         7.3334  \n94         4.2554  \n95         6.0382  \n96         4.4045  \n97         4.6690  \n98        10.0435  \n99         4.7232  ",
                        "text/html": "<div>\n<style scoped>\n    .dataframe tbody tr th:only-of-type {\n        vertical-align: middle;\n    }\n\n    .dataframe tbody tr th {\n        vertical-align: top;\n    }\n\n    .dataframe thead th {\n        text-align: right;\n    }\n</style>\n<table border=\"1\" class=\"dataframe\">\n  <thead>\n    <tr style=\"text-align: right;\">\n      <th></th>\n      <th>timestamp</th>\n      <th>clientType</th>\n      <th>companyName</th>\n      <th>totalTimeInMS</th>\n    </tr>\n  </thead>\n  <tbody>\n    <tr>\n      <th>0</th>\n      <td>2020-09-02 18:14:46.756838900+00:00</td>\n      <td>Background</td>\n      <td>CRONUS USA, Inc.</td>\n      <td>10.0171</td>\n    </tr>\n    <tr>\n      <th>1</th>\n      <td>2020-09-02 18:13:16.026500800+00:00</td>\n      <td>Background</td>\n      <td>CRONUS USA, Inc.</td>\n      <td>5.9782</td>\n    </tr>\n    <tr>\n      <th>2</th>\n      <td>2020-09-02 18:11:44.258595100+00:00</td>\n      <td>Background</td>\n      <td>CRONUS USA, Inc.</td>\n      <td>9.2422</td>\n    </tr>\n    <tr>\n      <th>3</th>\n      <td>2020-09-02 18:10:12.989594100+00:00</td>\n      <td>Background</td>\n      <td>CRONUS USA, Inc.</td>\n      <td>11.9938</td>\n    </tr>\n    <tr>\n      <th>4</th>\n      <td>2020-09-02 18:08:42.445172900+00:00</td>\n      <td>Background</td>\n      <td>CRONUS USA, Inc.</td>\n      <td>11.5650</td>\n    </tr>\n    <tr>\n      <th>5</th>\n      <td>2020-09-02 18:07:12.087972200+00:00</td>\n      <td>Background</td>\n      <td>CRONUS USA, Inc.</td>\n      <td>17.2654</td>\n    </tr>\n    <tr>\n      <th>6</th>\n      <td>2020-09-02 18:05:40.766240700+00:00</td>\n      <td>Background</td>\n      <td>CRONUS USA, Inc.</td>\n      <td>9.3166</td>\n    </tr>\n    <tr>\n      <th>7</th>\n      <td>2020-09-02 18:04:09.408706+00:00</td>\n      <td>Background</td>\n      <td>CRONUS USA, Inc.</td>\n      <td>36.2553</td>\n    </tr>\n    <tr>\n      <th>8</th>\n      <td>2020-09-02 18:02:38.220527500+00:00</td>\n      <td>Background</td>\n      <td>CRONUS USA, Inc.</td>\n      <td>6.9695</td>\n    </tr>\n    <tr>\n      <th>9</th>\n      <td>2020-09-02 18:01:07.891536+00:00</td>\n      <td>Background</td>\n      <td>CRONUS USA, Inc.</td>\n      <td>10.9489</td>\n    </tr>\n    <tr>\n      <th>10</th>\n      <td>2020-09-02 17:59:36.365000100+00:00</td>\n      <td>Background</td>\n      <td>CRONUS USA, Inc.</td>\n      <td>6.7760</td>\n    </tr>\n    <tr>\n      <th>11</th>\n      <td>2020-09-02 17:58:05.521569600+00:00</td>\n      <td>Background</td>\n      <td>CRONUS USA, Inc.</td>\n      <td>7.0006</td>\n    </tr>\n    <tr>\n      <th>12</th>\n      <td>2020-09-02 17:56:34.740994400+00:00</td>\n      <td>Background</td>\n      <td>CRONUS USA, Inc.</td>\n      <td>4.9161</td>\n    </tr>\n    <tr>\n      <th>13</th>\n      <td>2020-09-02 17:55:04.418416300+00:00</td>\n      <td>Background</td>\n      <td>CRONUS USA, Inc.</td>\n      <td>5.7305</td>\n    </tr>\n    <tr>\n      <th>14</th>\n      <td>2020-09-02 17:53:33.279728+00:00</td>\n      <td>Background</td>\n      <td>CRONUS USA, Inc.</td>\n      <td>3.9506</td>\n    </tr>\n    <tr>\n      <th>15</th>\n      <td>2020-09-02 17:52:02.820225500+00:00</td>\n      <td>Background</td>\n      <td>CRONUS USA, Inc.</td>\n      <td>4.0841</td>\n    </tr>\n    <tr>\n      <th>16</th>\n      <td>2020-09-02 17:50:32.541658300+00:00</td>\n      <td>Background</td>\n      <td>CRONUS USA, Inc.</td>\n      <td>4.0121</td>\n    </tr>\n    <tr>\n      <th>17</th>\n      <td>2020-09-02 17:49:01.976889100+00:00</td>\n      <td>Background</td>\n      <td>CRONUS USA, Inc.</td>\n      <td>4.0409</td>\n    </tr>\n    <tr>\n      <th>18</th>\n      <td>2020-09-02 17:47:30.660180800+00:00</td>\n      <td>Background</td>\n      <td>CRONUS USA, Inc.</td>\n      <td>4.5078</td>\n    </tr>\n    <tr>\n      <th>19</th>\n      <td>2020-09-02 17:46:00.469446200+00:00</td>\n      <td>Background</td>\n      <td>CRONUS USA, Inc.</td>\n      <td>3.9726</td>\n    </tr>\n    <tr>\n      <th>20</th>\n      <td>2020-09-02 17:44:29.894954200+00:00</td>\n      <td>Background</td>\n      <td>CRONUS USA, Inc.</td>\n      <td>4.0172</td>\n    </tr>\n    <tr>\n      <th>21</th>\n      <td>2020-09-02 17:42:59.671278600+00:00</td>\n      <td>Background</td>\n      <td>CRONUS USA, Inc.</td>\n      <td>7.9305</td>\n    </tr>\n    <tr>\n      <th>22</th>\n      <td>2020-09-02 17:41:24.173459+00:00</td>\n      <td>Background</td>\n      <td>CRONUS USA, Inc.</td>\n      <td>4.3325</td>\n    </tr>\n    <tr>\n      <th>23</th>\n      <td>2020-09-02 17:39:53.511556300+00:00</td>\n      <td>Background</td>\n      <td>CRONUS USA, Inc.</td>\n      <td>4.3212</td>\n    </tr>\n    <tr>\n      <th>24</th>\n      <td>2020-09-02 17:38:22.650816600+00:00</td>\n      <td>Background</td>\n      <td>CRONUS USA, Inc.</td>\n      <td>4.6055</td>\n    </tr>\n    <tr>\n      <th>25</th>\n      <td>2020-09-02 17:36:52.530806400+00:00</td>\n      <td>Background</td>\n      <td>CRONUS USA, Inc.</td>\n      <td>4.1249</td>\n    </tr>\n    <tr>\n      <th>26</th>\n      <td>2020-09-02 17:35:20.960183300+00:00</td>\n      <td>Background</td>\n      <td>CRONUS USA, Inc.</td>\n      <td>4.6039</td>\n    </tr>\n    <tr>\n      <th>27</th>\n      <td>2020-09-02 17:33:50.570169700+00:00</td>\n      <td>Background</td>\n      <td>CRONUS USA, Inc.</td>\n      <td>4.2966</td>\n    </tr>\n    <tr>\n      <th>28</th>\n      <td>2020-09-02 17:32:20.149990500+00:00</td>\n      <td>Background</td>\n      <td>CRONUS USA, Inc.</td>\n      <td>7.0034</td>\n    </tr>\n    <tr>\n      <th>29</th>\n      <td>2020-09-02 17:30:49.851012900+00:00</td>\n      <td>Background</td>\n      <td>CRONUS USA, Inc.</td>\n      <td>3.9717</td>\n    </tr>\n    <tr>\n      <th>30</th>\n      <td>2020-09-02 17:29:18.449800600+00:00</td>\n      <td>Background</td>\n      <td>CRONUS USA, Inc.</td>\n      <td>4.6974</td>\n    </tr>\n    <tr>\n      <th>31</th>\n      <td>2020-09-02 17:27:47.729510+00:00</td>\n      <td>Background</td>\n      <td>CRONUS USA, Inc.</td>\n      <td>9.6056</td>\n    </tr>\n    <tr>\n      <th>32</th>\n      <td>2020-09-02 17:26:17.288493200+00:00</td>\n      <td>Background</td>\n      <td>CRONUS USA, Inc.</td>\n      <td>11.2448</td>\n    </tr>\n    <tr>\n      <th>33</th>\n      <td>2020-09-02 17:24:46.468006600+00:00</td>\n      <td>Background</td>\n      <td>CRONUS USA, Inc.</td>\n      <td>4.7442</td>\n    </tr>\n    <tr>\n      <th>34</th>\n      <td>2020-09-02 17:23:15.225752500+00:00</td>\n      <td>Background</td>\n      <td>CRONUS USA, Inc.</td>\n      <td>3.8222</td>\n    </tr>\n    <tr>\n      <th>35</th>\n      <td>2020-09-02 17:21:44.707135700+00:00</td>\n      <td>Background</td>\n      <td>CRONUS USA, Inc.</td>\n      <td>4.7804</td>\n    </tr>\n    <tr>\n      <th>36</th>\n      <td>2020-09-02 17:20:14.366857100+00:00</td>\n      <td>Background</td>\n      <td>CRONUS USA, Inc.</td>\n      <td>4.6334</td>\n    </tr>\n    <tr>\n      <th>37</th>\n      <td>2020-09-02 17:18:44.196950700+00:00</td>\n      <td>Background</td>\n      <td>CRONUS USA, Inc.</td>\n      <td>4.6903</td>\n    </tr>\n    <tr>\n      <th>38</th>\n      <td>2020-09-02 17:17:13.390435400+00:00</td>\n      <td>Background</td>\n      <td>CRONUS USA, Inc.</td>\n      <td>4.2462</td>\n    </tr>\n    <tr>\n      <th>39</th>\n      <td>2020-09-02 17:15:42.835806400+00:00</td>\n      <td>Background</td>\n      <td>CRONUS USA, Inc.</td>\n      <td>5.4626</td>\n    </tr>\n    <tr>\n      <th>40</th>\n      <td>2020-09-02 17:14:12.073181100+00:00</td>\n      <td>Background</td>\n      <td>CRONUS USA, Inc.</td>\n      <td>13.3071</td>\n    </tr>\n    <tr>\n      <th>41</th>\n      <td>2020-09-02 17:12:40.914781900+00:00</td>\n      <td>Background</td>\n      <td>CRONUS USA, Inc.</td>\n      <td>4.4431</td>\n    </tr>\n    <tr>\n      <th>42</th>\n      <td>2020-09-02 17:11:09.035414900+00:00</td>\n      <td>Background</td>\n      <td>CRONUS USA, Inc.</td>\n      <td>9.8133</td>\n    </tr>\n    <tr>\n      <th>43</th>\n      <td>2020-09-02 17:09:38.572206800+00:00</td>\n      <td>Background</td>\n      <td>CRONUS USA, Inc.</td>\n      <td>3.7505</td>\n    </tr>\n    <tr>\n      <th>44</th>\n      <td>2020-09-02 17:08:07.541939800+00:00</td>\n      <td>Background</td>\n      <td>CRONUS USA, Inc.</td>\n      <td>4.2059</td>\n    </tr>\n    <tr>\n      <th>45</th>\n      <td>2020-09-02 17:06:37.371112800+00:00</td>\n      <td>Background</td>\n      <td>CRONUS USA, Inc.</td>\n      <td>3.9836</td>\n    </tr>\n    <tr>\n      <th>46</th>\n      <td>2020-09-02 17:05:05.606982300+00:00</td>\n      <td>Background</td>\n      <td>CRONUS USA, Inc.</td>\n      <td>3.9745</td>\n    </tr>\n    <tr>\n      <th>47</th>\n      <td>2020-09-02 17:03:34.365387600+00:00</td>\n      <td>Background</td>\n      <td>CRONUS USA, Inc.</td>\n      <td>3.9829</td>\n    </tr>\n    <tr>\n      <th>48</th>\n      <td>2020-09-02 17:02:03.196020800+00:00</td>\n      <td>Background</td>\n      <td>CRONUS USA, Inc.</td>\n      <td>4.1139</td>\n    </tr>\n    <tr>\n      <th>49</th>\n      <td>2020-09-02 17:00:31.932095600+00:00</td>\n      <td>Background</td>\n      <td>CRONUS USA, Inc.</td>\n      <td>4.1476</td>\n    </tr>\n    <tr>\n      <th>50</th>\n      <td>2020-09-02 16:58:55.849736500+00:00</td>\n      <td>Background</td>\n      <td>CRONUS USA, Inc.</td>\n      <td>3.5904</td>\n    </tr>\n    <tr>\n      <th>51</th>\n      <td>2020-09-02 16:57:25.488967800+00:00</td>\n      <td>Background</td>\n      <td>CRONUS USA, Inc.</td>\n      <td>14.7068</td>\n    </tr>\n    <tr>\n      <th>52</th>\n      <td>2020-09-02 16:55:55.004307800+00:00</td>\n      <td>Background</td>\n      <td>CRONUS USA, Inc.</td>\n      <td>4.0692</td>\n    </tr>\n    <tr>\n      <th>53</th>\n      <td>2020-09-02 16:54:24.198746400+00:00</td>\n      <td>Background</td>\n      <td>CRONUS USA, Inc.</td>\n      <td>8.4370</td>\n    </tr>\n    <tr>\n      <th>54</th>\n      <td>2020-09-02 16:52:52.858864+00:00</td>\n      <td>Background</td>\n      <td>CRONUS USA, Inc.</td>\n      <td>4.5944</td>\n    </tr>\n    <tr>\n      <th>55</th>\n      <td>2020-09-02 16:51:22.293783100+00:00</td>\n      <td>Background</td>\n      <td>CRONUS USA, Inc.</td>\n      <td>7.2909</td>\n    </tr>\n    <tr>\n      <th>56</th>\n      <td>2020-09-02 16:49:52.139055200+00:00</td>\n      <td>Background</td>\n      <td>CRONUS USA, Inc.</td>\n      <td>4.8617</td>\n    </tr>\n    <tr>\n      <th>57</th>\n      <td>2020-09-02 16:48:21.629611500+00:00</td>\n      <td>Background</td>\n      <td>CRONUS USA, Inc.</td>\n      <td>3.9366</td>\n    </tr>\n    <tr>\n      <th>58</th>\n      <td>2020-09-02 16:46:50.384684400+00:00</td>\n      <td>Background</td>\n      <td>CRONUS USA, Inc.</td>\n      <td>4.2444</td>\n    </tr>\n    <tr>\n      <th>59</th>\n      <td>2020-09-02 16:45:19.479117200+00:00</td>\n      <td>Background</td>\n      <td>CRONUS USA, Inc.</td>\n      <td>3.9029</td>\n    </tr>\n    <tr>\n      <th>60</th>\n      <td>2020-09-02 16:43:49.036998700+00:00</td>\n      <td>Background</td>\n      <td>CRONUS USA, Inc.</td>\n      <td>10.2145</td>\n    </tr>\n    <tr>\n      <th>61</th>\n      <td>2020-09-02 16:42:18.565408800+00:00</td>\n      <td>Background</td>\n      <td>CRONUS USA, Inc.</td>\n      <td>8.3109</td>\n    </tr>\n    <tr>\n      <th>62</th>\n      <td>2020-09-02 16:40:47.109313300+00:00</td>\n      <td>Background</td>\n      <td>CRONUS USA, Inc.</td>\n      <td>4.0478</td>\n    </tr>\n    <tr>\n      <th>63</th>\n      <td>2020-09-02 16:39:16.624348400+00:00</td>\n      <td>Background</td>\n      <td>CRONUS USA, Inc.</td>\n      <td>4.7752</td>\n    </tr>\n    <tr>\n      <th>64</th>\n      <td>2020-09-02 16:37:45.820150900+00:00</td>\n      <td>Background</td>\n      <td>CRONUS USA, Inc.</td>\n      <td>3.8406</td>\n    </tr>\n    <tr>\n      <th>65</th>\n      <td>2020-09-02 16:36:15.690270+00:00</td>\n      <td>Background</td>\n      <td>CRONUS USA, Inc.</td>\n      <td>4.3890</td>\n    </tr>\n    <tr>\n      <th>66</th>\n      <td>2020-09-02 16:34:44.553677700+00:00</td>\n      <td>Background</td>\n      <td>CRONUS USA, Inc.</td>\n      <td>3.7188</td>\n    </tr>\n    <tr>\n      <th>67</th>\n      <td>2020-09-02 16:33:14.370304800+00:00</td>\n      <td>Background</td>\n      <td>CRONUS USA, Inc.</td>\n      <td>3.6574</td>\n    </tr>\n    <tr>\n      <th>68</th>\n      <td>2020-09-02 16:31:43.846068200+00:00</td>\n      <td>Background</td>\n      <td>CRONUS USA, Inc.</td>\n      <td>3.9816</td>\n    </tr>\n    <tr>\n      <th>69</th>\n      <td>2020-09-02 16:30:13.310743700+00:00</td>\n      <td>Background</td>\n      <td>CRONUS USA, Inc.</td>\n      <td>4.4049</td>\n    </tr>\n    <tr>\n      <th>70</th>\n      <td>2020-09-02 16:28:42.408691800+00:00</td>\n      <td>Background</td>\n      <td>CRONUS USA, Inc.</td>\n      <td>4.0025</td>\n    </tr>\n    <tr>\n      <th>71</th>\n      <td>2020-09-02 16:27:11.263974+00:00</td>\n      <td>Background</td>\n      <td>CRONUS USA, Inc.</td>\n      <td>4.2166</td>\n    </tr>\n    <tr>\n      <th>72</th>\n      <td>2020-09-02 16:25:39.985057500+00:00</td>\n      <td>Background</td>\n      <td>CRONUS USA, Inc.</td>\n      <td>4.8234</td>\n    </tr>\n    <tr>\n      <th>73</th>\n      <td>2020-09-02 16:24:09.679140900+00:00</td>\n      <td>Background</td>\n      <td>CRONUS USA, Inc.</td>\n      <td>10.1779</td>\n    </tr>\n    <tr>\n      <th>74</th>\n      <td>2020-09-02 16:22:38.771384300+00:00</td>\n      <td>Background</td>\n      <td>CRONUS USA, Inc.</td>\n      <td>4.6148</td>\n    </tr>\n    <tr>\n      <th>75</th>\n      <td>2020-09-02 16:21:07.553839800+00:00</td>\n      <td>Background</td>\n      <td>CRONUS USA, Inc.</td>\n      <td>4.3959</td>\n    </tr>\n    <tr>\n      <th>76</th>\n      <td>2020-09-02 16:19:37.451998500+00:00</td>\n      <td>Background</td>\n      <td>CRONUS USA, Inc.</td>\n      <td>3.8705</td>\n    </tr>\n    <tr>\n      <th>77</th>\n      <td>2020-09-02 16:18:06.541926400+00:00</td>\n      <td>Background</td>\n      <td>CRONUS USA, Inc.</td>\n      <td>4.0352</td>\n    </tr>\n    <tr>\n      <th>78</th>\n      <td>2020-09-02 16:16:35.263123100+00:00</td>\n      <td>Background</td>\n      <td>CRONUS USA, Inc.</td>\n      <td>8.9066</td>\n    </tr>\n    <tr>\n      <th>79</th>\n      <td>2020-09-02 16:15:04.433359800+00:00</td>\n      <td>Background</td>\n      <td>CRONUS USA, Inc.</td>\n      <td>4.2189</td>\n    </tr>\n    <tr>\n      <th>80</th>\n      <td>2020-09-02 16:13:30.102726200+00:00</td>\n      <td>Background</td>\n      <td>CRONUS USA, Inc.</td>\n      <td>8.7315</td>\n    </tr>\n    <tr>\n      <th>81</th>\n      <td>2020-09-02 16:11:59.216713100+00:00</td>\n      <td>Background</td>\n      <td>CRONUS USA, Inc.</td>\n      <td>4.4609</td>\n    </tr>\n    <tr>\n      <th>82</th>\n      <td>2020-09-02 16:10:27.626816200+00:00</td>\n      <td>Background</td>\n      <td>CRONUS USA, Inc.</td>\n      <td>10.2752</td>\n    </tr>\n    <tr>\n      <th>83</th>\n      <td>2020-09-02 16:08:57.154248300+00:00</td>\n      <td>Background</td>\n      <td>CRONUS USA, Inc.</td>\n      <td>4.1486</td>\n    </tr>\n    <tr>\n      <th>84</th>\n      <td>2020-09-02 16:07:26.730234500+00:00</td>\n      <td>Background</td>\n      <td>CRONUS USA, Inc.</td>\n      <td>4.6484</td>\n    </tr>\n    <tr>\n      <th>85</th>\n      <td>2020-09-02 16:05:56.040088200+00:00</td>\n      <td>Background</td>\n      <td>CRONUS USA, Inc.</td>\n      <td>9.4497</td>\n    </tr>\n    <tr>\n      <th>86</th>\n      <td>2020-09-02 16:04:24.719070800+00:00</td>\n      <td>Background</td>\n      <td>CRONUS USA, Inc.</td>\n      <td>4.4205</td>\n    </tr>\n    <tr>\n      <th>87</th>\n      <td>2020-09-02 16:02:54.177068+00:00</td>\n      <td>Background</td>\n      <td>CRONUS USA, Inc.</td>\n      <td>4.5923</td>\n    </tr>\n    <tr>\n      <th>88</th>\n      <td>2020-09-02 16:01:23.518628900+00:00</td>\n      <td>Background</td>\n      <td>CRONUS USA, Inc.</td>\n      <td>4.4388</td>\n    </tr>\n    <tr>\n      <th>89</th>\n      <td>2020-09-02 15:59:52.718911100+00:00</td>\n      <td>Background</td>\n      <td>CRONUS USA, Inc.</td>\n      <td>3.8019</td>\n    </tr>\n    <tr>\n      <th>90</th>\n      <td>2020-09-02 15:58:21.319244300+00:00</td>\n      <td>Background</td>\n      <td>CRONUS USA, Inc.</td>\n      <td>7.6912</td>\n    </tr>\n    <tr>\n      <th>91</th>\n      <td>2020-09-02 15:56:50.704314900+00:00</td>\n      <td>Background</td>\n      <td>CRONUS USA, Inc.</td>\n      <td>3.6330</td>\n    </tr>\n    <tr>\n      <th>92</th>\n      <td>2020-09-02 15:55:20.194176100+00:00</td>\n      <td>Background</td>\n      <td>CRONUS USA, Inc.</td>\n      <td>3.8399</td>\n    </tr>\n    <tr>\n      <th>93</th>\n      <td>2020-09-02 15:53:49.992267400+00:00</td>\n      <td>Background</td>\n      <td>CRONUS USA, Inc.</td>\n      <td>7.3334</td>\n    </tr>\n    <tr>\n      <th>94</th>\n      <td>2020-09-02 15:52:18.313915600+00:00</td>\n      <td>Background</td>\n      <td>CRONUS USA, Inc.</td>\n      <td>4.2554</td>\n    </tr>\n    <tr>\n      <th>95</th>\n      <td>2020-09-02 15:50:47.362502+00:00</td>\n      <td>Background</td>\n      <td>CRONUS USA, Inc.</td>\n      <td>6.0382</td>\n    </tr>\n    <tr>\n      <th>96</th>\n      <td>2020-09-02 15:49:16.783783+00:00</td>\n      <td>Background</td>\n      <td>CRONUS USA, Inc.</td>\n      <td>4.4045</td>\n    </tr>\n    <tr>\n      <th>97</th>\n      <td>2020-09-02 15:47:46.103111100+00:00</td>\n      <td>Background</td>\n      <td>CRONUS USA, Inc.</td>\n      <td>4.6690</td>\n    </tr>\n    <tr>\n      <th>98</th>\n      <td>2020-09-02 15:46:14.225047900+00:00</td>\n      <td>Background</td>\n      <td>CRONUS USA, Inc.</td>\n      <td>10.0435</td>\n    </tr>\n    <tr>\n      <th>99</th>\n      <td>2020-09-02 15:44:43.883748700+00:00</td>\n      <td>Background</td>\n      <td>CRONUS USA, Inc.</td>\n      <td>4.7232</td>\n    </tr>\n  </tbody>\n</table>\n</div>",
                        "application/vnd.dataresource+json": {
                            "schema": {
                                "fields": [
                                    {
                                        "name": "timestamp",
                                        "type": "datetime",
                                        "tz": "UTC"
                                    },
                                    {
                                        "name": "clientType",
                                        "type": "string"
                                    },
                                    {
                                        "name": "companyName",
                                        "type": "string"
                                    },
                                    {
                                        "name": "totalTimeInMS",
                                        "type": "number"
                                    }
                                ],
                                "kqmagic_version": "0.1.113"
                            },
                            "data": [
                                {
                                    "timestamp": "2020-09-02T18:14:46.756Z",
                                    "clientType": "Background",
                                    "companyName": "CRONUS USA, Inc.",
                                    "totalTimeInMS": 10.0171
                                },
                                {
                                    "timestamp": "2020-09-02T18:13:16.026Z",
                                    "clientType": "Background",
                                    "companyName": "CRONUS USA, Inc.",
                                    "totalTimeInMS": 5.9782
                                },
                                {
                                    "timestamp": "2020-09-02T18:11:44.258Z",
                                    "clientType": "Background",
                                    "companyName": "CRONUS USA, Inc.",
                                    "totalTimeInMS": 9.2422
                                },
                                {
                                    "timestamp": "2020-09-02T18:10:12.989Z",
                                    "clientType": "Background",
                                    "companyName": "CRONUS USA, Inc.",
                                    "totalTimeInMS": 11.9938
                                },
                                {
                                    "timestamp": "2020-09-02T18:08:42.445Z",
                                    "clientType": "Background",
                                    "companyName": "CRONUS USA, Inc.",
                                    "totalTimeInMS": 11.565
                                },
                                {
                                    "timestamp": "2020-09-02T18:07:12.087Z",
                                    "clientType": "Background",
                                    "companyName": "CRONUS USA, Inc.",
                                    "totalTimeInMS": 17.2654
                                },
                                {
                                    "timestamp": "2020-09-02T18:05:40.766Z",
                                    "clientType": "Background",
                                    "companyName": "CRONUS USA, Inc.",
                                    "totalTimeInMS": 9.3166
                                },
                                {
                                    "timestamp": "2020-09-02T18:04:09.408Z",
                                    "clientType": "Background",
                                    "companyName": "CRONUS USA, Inc.",
                                    "totalTimeInMS": 36.2553
                                },
                                {
                                    "timestamp": "2020-09-02T18:02:38.220Z",
                                    "clientType": "Background",
                                    "companyName": "CRONUS USA, Inc.",
                                    "totalTimeInMS": 6.9695
                                },
                                {
                                    "timestamp": "2020-09-02T18:01:07.891Z",
                                    "clientType": "Background",
                                    "companyName": "CRONUS USA, Inc.",
                                    "totalTimeInMS": 10.9489
                                },
                                {
                                    "timestamp": "2020-09-02T17:59:36.365Z",
                                    "clientType": "Background",
                                    "companyName": "CRONUS USA, Inc.",
                                    "totalTimeInMS": 6.776
                                },
                                {
                                    "timestamp": "2020-09-02T17:58:05.521Z",
                                    "clientType": "Background",
                                    "companyName": "CRONUS USA, Inc.",
                                    "totalTimeInMS": 7.0006
                                },
                                {
                                    "timestamp": "2020-09-02T17:56:34.740Z",
                                    "clientType": "Background",
                                    "companyName": "CRONUS USA, Inc.",
                                    "totalTimeInMS": 4.9161
                                },
                                {
                                    "timestamp": "2020-09-02T17:55:04.418Z",
                                    "clientType": "Background",
                                    "companyName": "CRONUS USA, Inc.",
                                    "totalTimeInMS": 5.7305
                                },
                                {
                                    "timestamp": "2020-09-02T17:53:33.279Z",
                                    "clientType": "Background",
                                    "companyName": "CRONUS USA, Inc.",
                                    "totalTimeInMS": 3.9506
                                },
                                {
                                    "timestamp": "2020-09-02T17:52:02.820Z",
                                    "clientType": "Background",
                                    "companyName": "CRONUS USA, Inc.",
                                    "totalTimeInMS": 4.0841
                                },
                                {
                                    "timestamp": "2020-09-02T17:50:32.541Z",
                                    "clientType": "Background",
                                    "companyName": "CRONUS USA, Inc.",
                                    "totalTimeInMS": 4.0121
                                },
                                {
                                    "timestamp": "2020-09-02T17:49:01.976Z",
                                    "clientType": "Background",
                                    "companyName": "CRONUS USA, Inc.",
                                    "totalTimeInMS": 4.0409
                                },
                                {
                                    "timestamp": "2020-09-02T17:47:30.660Z",
                                    "clientType": "Background",
                                    "companyName": "CRONUS USA, Inc.",
                                    "totalTimeInMS": 4.5078
                                },
                                {
                                    "timestamp": "2020-09-02T17:46:00.469Z",
                                    "clientType": "Background",
                                    "companyName": "CRONUS USA, Inc.",
                                    "totalTimeInMS": 3.9726
                                },
                                {
                                    "timestamp": "2020-09-02T17:44:29.894Z",
                                    "clientType": "Background",
                                    "companyName": "CRONUS USA, Inc.",
                                    "totalTimeInMS": 4.0172
                                },
                                {
                                    "timestamp": "2020-09-02T17:42:59.671Z",
                                    "clientType": "Background",
                                    "companyName": "CRONUS USA, Inc.",
                                    "totalTimeInMS": 7.9305
                                },
                                {
                                    "timestamp": "2020-09-02T17:41:24.173Z",
                                    "clientType": "Background",
                                    "companyName": "CRONUS USA, Inc.",
                                    "totalTimeInMS": 4.3325
                                },
                                {
                                    "timestamp": "2020-09-02T17:39:53.511Z",
                                    "clientType": "Background",
                                    "companyName": "CRONUS USA, Inc.",
                                    "totalTimeInMS": 4.3212
                                },
                                {
                                    "timestamp": "2020-09-02T17:38:22.650Z",
                                    "clientType": "Background",
                                    "companyName": "CRONUS USA, Inc.",
                                    "totalTimeInMS": 4.6055
                                },
                                {
                                    "timestamp": "2020-09-02T17:36:52.530Z",
                                    "clientType": "Background",
                                    "companyName": "CRONUS USA, Inc.",
                                    "totalTimeInMS": 4.1249
                                },
                                {
                                    "timestamp": "2020-09-02T17:35:20.960Z",
                                    "clientType": "Background",
                                    "companyName": "CRONUS USA, Inc.",
                                    "totalTimeInMS": 4.6039
                                },
                                {
                                    "timestamp": "2020-09-02T17:33:50.570Z",
                                    "clientType": "Background",
                                    "companyName": "CRONUS USA, Inc.",
                                    "totalTimeInMS": 4.2966
                                },
                                {
                                    "timestamp": "2020-09-02T17:32:20.149Z",
                                    "clientType": "Background",
                                    "companyName": "CRONUS USA, Inc.",
                                    "totalTimeInMS": 7.0034
                                },
                                {
                                    "timestamp": "2020-09-02T17:30:49.851Z",
                                    "clientType": "Background",
                                    "companyName": "CRONUS USA, Inc.",
                                    "totalTimeInMS": 3.9717
                                },
                                {
                                    "timestamp": "2020-09-02T17:29:18.449Z",
                                    "clientType": "Background",
                                    "companyName": "CRONUS USA, Inc.",
                                    "totalTimeInMS": 4.6974
                                },
                                {
                                    "timestamp": "2020-09-02T17:27:47.729Z",
                                    "clientType": "Background",
                                    "companyName": "CRONUS USA, Inc.",
                                    "totalTimeInMS": 9.6056
                                },
                                {
                                    "timestamp": "2020-09-02T17:26:17.288Z",
                                    "clientType": "Background",
                                    "companyName": "CRONUS USA, Inc.",
                                    "totalTimeInMS": 11.2448
                                },
                                {
                                    "timestamp": "2020-09-02T17:24:46.468Z",
                                    "clientType": "Background",
                                    "companyName": "CRONUS USA, Inc.",
                                    "totalTimeInMS": 4.7442
                                },
                                {
                                    "timestamp": "2020-09-02T17:23:15.225Z",
                                    "clientType": "Background",
                                    "companyName": "CRONUS USA, Inc.",
                                    "totalTimeInMS": 3.8222
                                },
                                {
                                    "timestamp": "2020-09-02T17:21:44.707Z",
                                    "clientType": "Background",
                                    "companyName": "CRONUS USA, Inc.",
                                    "totalTimeInMS": 4.7804
                                },
                                {
                                    "timestamp": "2020-09-02T17:20:14.366Z",
                                    "clientType": "Background",
                                    "companyName": "CRONUS USA, Inc.",
                                    "totalTimeInMS": 4.6334
                                },
                                {
                                    "timestamp": "2020-09-02T17:18:44.196Z",
                                    "clientType": "Background",
                                    "companyName": "CRONUS USA, Inc.",
                                    "totalTimeInMS": 4.6903
                                },
                                {
                                    "timestamp": "2020-09-02T17:17:13.390Z",
                                    "clientType": "Background",
                                    "companyName": "CRONUS USA, Inc.",
                                    "totalTimeInMS": 4.2462
                                },
                                {
                                    "timestamp": "2020-09-02T17:15:42.835Z",
                                    "clientType": "Background",
                                    "companyName": "CRONUS USA, Inc.",
                                    "totalTimeInMS": 5.4626
                                },
                                {
                                    "timestamp": "2020-09-02T17:14:12.073Z",
                                    "clientType": "Background",
                                    "companyName": "CRONUS USA, Inc.",
                                    "totalTimeInMS": 13.3071
                                },
                                {
                                    "timestamp": "2020-09-02T17:12:40.914Z",
                                    "clientType": "Background",
                                    "companyName": "CRONUS USA, Inc.",
                                    "totalTimeInMS": 4.4431
                                },
                                {
                                    "timestamp": "2020-09-02T17:11:09.035Z",
                                    "clientType": "Background",
                                    "companyName": "CRONUS USA, Inc.",
                                    "totalTimeInMS": 9.8133
                                },
                                {
                                    "timestamp": "2020-09-02T17:09:38.572Z",
                                    "clientType": "Background",
                                    "companyName": "CRONUS USA, Inc.",
                                    "totalTimeInMS": 3.7505
                                },
                                {
                                    "timestamp": "2020-09-02T17:08:07.541Z",
                                    "clientType": "Background",
                                    "companyName": "CRONUS USA, Inc.",
                                    "totalTimeInMS": 4.2059
                                },
                                {
                                    "timestamp": "2020-09-02T17:06:37.371Z",
                                    "clientType": "Background",
                                    "companyName": "CRONUS USA, Inc.",
                                    "totalTimeInMS": 3.9836
                                },
                                {
                                    "timestamp": "2020-09-02T17:05:05.606Z",
                                    "clientType": "Background",
                                    "companyName": "CRONUS USA, Inc.",
                                    "totalTimeInMS": 3.9745
                                },
                                {
                                    "timestamp": "2020-09-02T17:03:34.365Z",
                                    "clientType": "Background",
                                    "companyName": "CRONUS USA, Inc.",
                                    "totalTimeInMS": 3.9829
                                },
                                {
                                    "timestamp": "2020-09-02T17:02:03.196Z",
                                    "clientType": "Background",
                                    "companyName": "CRONUS USA, Inc.",
                                    "totalTimeInMS": 4.1139
                                },
                                {
                                    "timestamp": "2020-09-02T17:00:31.932Z",
                                    "clientType": "Background",
                                    "companyName": "CRONUS USA, Inc.",
                                    "totalTimeInMS": 4.1476
                                },
                                {
                                    "timestamp": "2020-09-02T16:58:55.849Z",
                                    "clientType": "Background",
                                    "companyName": "CRONUS USA, Inc.",
                                    "totalTimeInMS": 3.5904
                                },
                                {
                                    "timestamp": "2020-09-02T16:57:25.488Z",
                                    "clientType": "Background",
                                    "companyName": "CRONUS USA, Inc.",
                                    "totalTimeInMS": 14.7068
                                },
                                {
                                    "timestamp": "2020-09-02T16:55:55.004Z",
                                    "clientType": "Background",
                                    "companyName": "CRONUS USA, Inc.",
                                    "totalTimeInMS": 4.0692
                                },
                                {
                                    "timestamp": "2020-09-02T16:54:24.198Z",
                                    "clientType": "Background",
                                    "companyName": "CRONUS USA, Inc.",
                                    "totalTimeInMS": 8.437
                                },
                                {
                                    "timestamp": "2020-09-02T16:52:52.858Z",
                                    "clientType": "Background",
                                    "companyName": "CRONUS USA, Inc.",
                                    "totalTimeInMS": 4.5944
                                },
                                {
                                    "timestamp": "2020-09-02T16:51:22.293Z",
                                    "clientType": "Background",
                                    "companyName": "CRONUS USA, Inc.",
                                    "totalTimeInMS": 7.2909
                                },
                                {
                                    "timestamp": "2020-09-02T16:49:52.139Z",
                                    "clientType": "Background",
                                    "companyName": "CRONUS USA, Inc.",
                                    "totalTimeInMS": 4.8617
                                },
                                {
                                    "timestamp": "2020-09-02T16:48:21.629Z",
                                    "clientType": "Background",
                                    "companyName": "CRONUS USA, Inc.",
                                    "totalTimeInMS": 3.9366
                                },
                                {
                                    "timestamp": "2020-09-02T16:46:50.384Z",
                                    "clientType": "Background",
                                    "companyName": "CRONUS USA, Inc.",
                                    "totalTimeInMS": 4.2444
                                },
                                {
                                    "timestamp": "2020-09-02T16:45:19.479Z",
                                    "clientType": "Background",
                                    "companyName": "CRONUS USA, Inc.",
                                    "totalTimeInMS": 3.9029
                                },
                                {
                                    "timestamp": "2020-09-02T16:43:49.036Z",
                                    "clientType": "Background",
                                    "companyName": "CRONUS USA, Inc.",
                                    "totalTimeInMS": 10.2145
                                },
                                {
                                    "timestamp": "2020-09-02T16:42:18.565Z",
                                    "clientType": "Background",
                                    "companyName": "CRONUS USA, Inc.",
                                    "totalTimeInMS": 8.3109
                                },
                                {
                                    "timestamp": "2020-09-02T16:40:47.109Z",
                                    "clientType": "Background",
                                    "companyName": "CRONUS USA, Inc.",
                                    "totalTimeInMS": 4.0478
                                },
                                {
                                    "timestamp": "2020-09-02T16:39:16.624Z",
                                    "clientType": "Background",
                                    "companyName": "CRONUS USA, Inc.",
                                    "totalTimeInMS": 4.7752
                                },
                                {
                                    "timestamp": "2020-09-02T16:37:45.820Z",
                                    "clientType": "Background",
                                    "companyName": "CRONUS USA, Inc.",
                                    "totalTimeInMS": 3.8406
                                },
                                {
                                    "timestamp": "2020-09-02T16:36:15.690Z",
                                    "clientType": "Background",
                                    "companyName": "CRONUS USA, Inc.",
                                    "totalTimeInMS": 4.389
                                },
                                {
                                    "timestamp": "2020-09-02T16:34:44.553Z",
                                    "clientType": "Background",
                                    "companyName": "CRONUS USA, Inc.",
                                    "totalTimeInMS": 3.7188
                                },
                                {
                                    "timestamp": "2020-09-02T16:33:14.370Z",
                                    "clientType": "Background",
                                    "companyName": "CRONUS USA, Inc.",
                                    "totalTimeInMS": 3.6574
                                },
                                {
                                    "timestamp": "2020-09-02T16:31:43.846Z",
                                    "clientType": "Background",
                                    "companyName": "CRONUS USA, Inc.",
                                    "totalTimeInMS": 3.9816
                                },
                                {
                                    "timestamp": "2020-09-02T16:30:13.310Z",
                                    "clientType": "Background",
                                    "companyName": "CRONUS USA, Inc.",
                                    "totalTimeInMS": 4.4049
                                },
                                {
                                    "timestamp": "2020-09-02T16:28:42.408Z",
                                    "clientType": "Background",
                                    "companyName": "CRONUS USA, Inc.",
                                    "totalTimeInMS": 4.0025
                                },
                                {
                                    "timestamp": "2020-09-02T16:27:11.263Z",
                                    "clientType": "Background",
                                    "companyName": "CRONUS USA, Inc.",
                                    "totalTimeInMS": 4.2166
                                },
                                {
                                    "timestamp": "2020-09-02T16:25:39.985Z",
                                    "clientType": "Background",
                                    "companyName": "CRONUS USA, Inc.",
                                    "totalTimeInMS": 4.8234
                                },
                                {
                                    "timestamp": "2020-09-02T16:24:09.679Z",
                                    "clientType": "Background",
                                    "companyName": "CRONUS USA, Inc.",
                                    "totalTimeInMS": 10.1779
                                },
                                {
                                    "timestamp": "2020-09-02T16:22:38.771Z",
                                    "clientType": "Background",
                                    "companyName": "CRONUS USA, Inc.",
                                    "totalTimeInMS": 4.6148
                                },
                                {
                                    "timestamp": "2020-09-02T16:21:07.553Z",
                                    "clientType": "Background",
                                    "companyName": "CRONUS USA, Inc.",
                                    "totalTimeInMS": 4.3959
                                },
                                {
                                    "timestamp": "2020-09-02T16:19:37.451Z",
                                    "clientType": "Background",
                                    "companyName": "CRONUS USA, Inc.",
                                    "totalTimeInMS": 3.8705
                                },
                                {
                                    "timestamp": "2020-09-02T16:18:06.541Z",
                                    "clientType": "Background",
                                    "companyName": "CRONUS USA, Inc.",
                                    "totalTimeInMS": 4.0352
                                },
                                {
                                    "timestamp": "2020-09-02T16:16:35.263Z",
                                    "clientType": "Background",
                                    "companyName": "CRONUS USA, Inc.",
                                    "totalTimeInMS": 8.9066
                                },
                                {
                                    "timestamp": "2020-09-02T16:15:04.433Z",
                                    "clientType": "Background",
                                    "companyName": "CRONUS USA, Inc.",
                                    "totalTimeInMS": 4.2189
                                },
                                {
                                    "timestamp": "2020-09-02T16:13:30.102Z",
                                    "clientType": "Background",
                                    "companyName": "CRONUS USA, Inc.",
                                    "totalTimeInMS": 8.7315
                                },
                                {
                                    "timestamp": "2020-09-02T16:11:59.216Z",
                                    "clientType": "Background",
                                    "companyName": "CRONUS USA, Inc.",
                                    "totalTimeInMS": 4.4609
                                },
                                {
                                    "timestamp": "2020-09-02T16:10:27.626Z",
                                    "clientType": "Background",
                                    "companyName": "CRONUS USA, Inc.",
                                    "totalTimeInMS": 10.2752
                                },
                                {
                                    "timestamp": "2020-09-02T16:08:57.154Z",
                                    "clientType": "Background",
                                    "companyName": "CRONUS USA, Inc.",
                                    "totalTimeInMS": 4.1486
                                },
                                {
                                    "timestamp": "2020-09-02T16:07:26.730Z",
                                    "clientType": "Background",
                                    "companyName": "CRONUS USA, Inc.",
                                    "totalTimeInMS": 4.6484
                                },
                                {
                                    "timestamp": "2020-09-02T16:05:56.040Z",
                                    "clientType": "Background",
                                    "companyName": "CRONUS USA, Inc.",
                                    "totalTimeInMS": 9.4497
                                },
                                {
                                    "timestamp": "2020-09-02T16:04:24.719Z",
                                    "clientType": "Background",
                                    "companyName": "CRONUS USA, Inc.",
                                    "totalTimeInMS": 4.4205
                                },
                                {
                                    "timestamp": "2020-09-02T16:02:54.177Z",
                                    "clientType": "Background",
                                    "companyName": "CRONUS USA, Inc.",
                                    "totalTimeInMS": 4.5923
                                },
                                {
                                    "timestamp": "2020-09-02T16:01:23.518Z",
                                    "clientType": "Background",
                                    "companyName": "CRONUS USA, Inc.",
                                    "totalTimeInMS": 4.4388
                                },
                                {
                                    "timestamp": "2020-09-02T15:59:52.718Z",
                                    "clientType": "Background",
                                    "companyName": "CRONUS USA, Inc.",
                                    "totalTimeInMS": 3.8019
                                },
                                {
                                    "timestamp": "2020-09-02T15:58:21.319Z",
                                    "clientType": "Background",
                                    "companyName": "CRONUS USA, Inc.",
                                    "totalTimeInMS": 7.6912
                                },
                                {
                                    "timestamp": "2020-09-02T15:56:50.704Z",
                                    "clientType": "Background",
                                    "companyName": "CRONUS USA, Inc.",
                                    "totalTimeInMS": 3.633
                                },
                                {
                                    "timestamp": "2020-09-02T15:55:20.194Z",
                                    "clientType": "Background",
                                    "companyName": "CRONUS USA, Inc.",
                                    "totalTimeInMS": 3.8399
                                },
                                {
                                    "timestamp": "2020-09-02T15:53:49.992Z",
                                    "clientType": "Background",
                                    "companyName": "CRONUS USA, Inc.",
                                    "totalTimeInMS": 7.3334
                                },
                                {
                                    "timestamp": "2020-09-02T15:52:18.313Z",
                                    "clientType": "Background",
                                    "companyName": "CRONUS USA, Inc.",
                                    "totalTimeInMS": 4.2554
                                },
                                {
                                    "timestamp": "2020-09-02T15:50:47.362Z",
                                    "clientType": "Background",
                                    "companyName": "CRONUS USA, Inc.",
                                    "totalTimeInMS": 6.0382
                                },
                                {
                                    "timestamp": "2020-09-02T15:49:16.783Z",
                                    "clientType": "Background",
                                    "companyName": "CRONUS USA, Inc.",
                                    "totalTimeInMS": 4.4045
                                },
                                {
                                    "timestamp": "2020-09-02T15:47:46.103Z",
                                    "clientType": "Background",
                                    "companyName": "CRONUS USA, Inc.",
                                    "totalTimeInMS": 4.669
                                },
                                {
                                    "timestamp": "2020-09-02T15:46:14.225Z",
                                    "clientType": "Background",
                                    "companyName": "CRONUS USA, Inc.",
                                    "totalTimeInMS": 10.0435
                                },
                                {
                                    "timestamp": "2020-09-02T15:44:43.883Z",
                                    "clientType": "Background",
                                    "companyName": "CRONUS USA, Inc.",
                                    "totalTimeInMS": 4.7232
                                }
                            ]
                        }
                    },
                    "metadata": {},
                    "output_type": "display_data"
                },
                {
                    "data": {
                        "text/plain": "<IPython.core.display.HTML object>",
                        "text/html": "<html>\n        <head>\n            \n            \n        </head>\n        <body>\n            <div><p style='padding: 10px; color: #3a87ad; background-color: #d9edf7; border-color: #bce9f1'>Done&nbsp;(00:01.281):&nbsp;100&nbsp;records</p></div>\n        </body>\n        </html>"
                    },
                    "metadata": {},
                    "output_type": "display_data"
                },
                {
                    "data": {
                        "text/plain": "[{'timestamp': datetime.datetime(2020, 9, 2, 18, 14, 46, 756838, tzinfo=tzutc()), 'clientType': 'Background', 'companyName': 'CRONUS USA, Inc.', 'totalTimeInMS': 10.0171},\n {'timestamp': datetime.datetime(2020, 9, 2, 18, 13, 16, 26500, tzinfo=tzutc()), 'clientType': 'Background', 'companyName': 'CRONUS USA, Inc.', 'totalTimeInMS': 5.9782},\n {'timestamp': datetime.datetime(2020, 9, 2, 18, 11, 44, 258595, tzinfo=tzutc()), 'clientType': 'Background', 'companyName': 'CRONUS USA, Inc.', 'totalTimeInMS': 9.2422},\n {'timestamp': datetime.datetime(2020, 9, 2, 18, 10, 12, 989594, tzinfo=tzutc()), 'clientType': 'Background', 'companyName': 'CRONUS USA, Inc.', 'totalTimeInMS': 11.9938},\n {'timestamp': datetime.datetime(2020, 9, 2, 18, 8, 42, 445172, tzinfo=tzutc()), 'clientType': 'Background', 'companyName': 'CRONUS USA, Inc.', 'totalTimeInMS': 11.565},\n {'timestamp': datetime.datetime(2020, 9, 2, 18, 7, 12, 87972, tzinfo=tzutc()), 'clientType': 'Background', 'companyName': 'CRONUS USA, Inc.', 'totalTimeInMS': 17.2654},\n {'timestamp': datetime.datetime(2020, 9, 2, 18, 5, 40, 766240, tzinfo=tzutc()), 'clientType': 'Background', 'companyName': 'CRONUS USA, Inc.', 'totalTimeInMS': 9.3166},\n {'timestamp': datetime.datetime(2020, 9, 2, 18, 4, 9, 408706, tzinfo=tzutc()), 'clientType': 'Background', 'companyName': 'CRONUS USA, Inc.', 'totalTimeInMS': 36.2553},\n {'timestamp': datetime.datetime(2020, 9, 2, 18, 2, 38, 220527, tzinfo=tzutc()), 'clientType': 'Background', 'companyName': 'CRONUS USA, Inc.', 'totalTimeInMS': 6.9695},\n {'timestamp': datetime.datetime(2020, 9, 2, 18, 1, 7, 891536, tzinfo=tzutc()), 'clientType': 'Background', 'companyName': 'CRONUS USA, Inc.', 'totalTimeInMS': 10.9489},\n {'timestamp': datetime.datetime(2020, 9, 2, 17, 59, 36, 365000, tzinfo=tzutc()), 'clientType': 'Background', 'companyName': 'CRONUS USA, Inc.', 'totalTimeInMS': 6.776},\n {'timestamp': datetime.datetime(2020, 9, 2, 17, 58, 5, 521569, tzinfo=tzutc()), 'clientType': 'Background', 'companyName': 'CRONUS USA, Inc.', 'totalTimeInMS': 7.0006},\n {'timestamp': datetime.datetime(2020, 9, 2, 17, 56, 34, 740994, tzinfo=tzutc()), 'clientType': 'Background', 'companyName': 'CRONUS USA, Inc.', 'totalTimeInMS': 4.9161},\n {'timestamp': datetime.datetime(2020, 9, 2, 17, 55, 4, 418416, tzinfo=tzutc()), 'clientType': 'Background', 'companyName': 'CRONUS USA, Inc.', 'totalTimeInMS': 5.7305},\n {'timestamp': datetime.datetime(2020, 9, 2, 17, 53, 33, 279728, tzinfo=tzutc()), 'clientType': 'Background', 'companyName': 'CRONUS USA, Inc.', 'totalTimeInMS': 3.9506},\n {'timestamp': datetime.datetime(2020, 9, 2, 17, 52, 2, 820225, tzinfo=tzutc()), 'clientType': 'Background', 'companyName': 'CRONUS USA, Inc.', 'totalTimeInMS': 4.0841},\n {'timestamp': datetime.datetime(2020, 9, 2, 17, 50, 32, 541658, tzinfo=tzutc()), 'clientType': 'Background', 'companyName': 'CRONUS USA, Inc.', 'totalTimeInMS': 4.0121},\n {'timestamp': datetime.datetime(2020, 9, 2, 17, 49, 1, 976889, tzinfo=tzutc()), 'clientType': 'Background', 'companyName': 'CRONUS USA, Inc.', 'totalTimeInMS': 4.0409},\n {'timestamp': datetime.datetime(2020, 9, 2, 17, 47, 30, 660180, tzinfo=tzutc()), 'clientType': 'Background', 'companyName': 'CRONUS USA, Inc.', 'totalTimeInMS': 4.5078},\n {'timestamp': datetime.datetime(2020, 9, 2, 17, 46, 0, 469446, tzinfo=tzutc()), 'clientType': 'Background', 'companyName': 'CRONUS USA, Inc.', 'totalTimeInMS': 3.9726},\n {'timestamp': datetime.datetime(2020, 9, 2, 17, 44, 29, 894954, tzinfo=tzutc()), 'clientType': 'Background', 'companyName': 'CRONUS USA, Inc.', 'totalTimeInMS': 4.0172},\n {'timestamp': datetime.datetime(2020, 9, 2, 17, 42, 59, 671278, tzinfo=tzutc()), 'clientType': 'Background', 'companyName': 'CRONUS USA, Inc.', 'totalTimeInMS': 7.9305},\n {'timestamp': datetime.datetime(2020, 9, 2, 17, 41, 24, 173459, tzinfo=tzutc()), 'clientType': 'Background', 'companyName': 'CRONUS USA, Inc.', 'totalTimeInMS': 4.3325},\n {'timestamp': datetime.datetime(2020, 9, 2, 17, 39, 53, 511556, tzinfo=tzutc()), 'clientType': 'Background', 'companyName': 'CRONUS USA, Inc.', 'totalTimeInMS': 4.3212},\n {'timestamp': datetime.datetime(2020, 9, 2, 17, 38, 22, 650816, tzinfo=tzutc()), 'clientType': 'Background', 'companyName': 'CRONUS USA, Inc.', 'totalTimeInMS': 4.6055},\n {'timestamp': datetime.datetime(2020, 9, 2, 17, 36, 52, 530806, tzinfo=tzutc()), 'clientType': 'Background', 'companyName': 'CRONUS USA, Inc.', 'totalTimeInMS': 4.1249},\n {'timestamp': datetime.datetime(2020, 9, 2, 17, 35, 20, 960183, tzinfo=tzutc()), 'clientType': 'Background', 'companyName': 'CRONUS USA, Inc.', 'totalTimeInMS': 4.6039},\n {'timestamp': datetime.datetime(2020, 9, 2, 17, 33, 50, 570169, tzinfo=tzutc()), 'clientType': 'Background', 'companyName': 'CRONUS USA, Inc.', 'totalTimeInMS': 4.2966},\n {'timestamp': datetime.datetime(2020, 9, 2, 17, 32, 20, 149990, tzinfo=tzutc()), 'clientType': 'Background', 'companyName': 'CRONUS USA, Inc.', 'totalTimeInMS': 7.0034},\n {'timestamp': datetime.datetime(2020, 9, 2, 17, 30, 49, 851012, tzinfo=tzutc()), 'clientType': 'Background', 'companyName': 'CRONUS USA, Inc.', 'totalTimeInMS': 3.9717},\n {'timestamp': datetime.datetime(2020, 9, 2, 17, 29, 18, 449800, tzinfo=tzutc()), 'clientType': 'Background', 'companyName': 'CRONUS USA, Inc.', 'totalTimeInMS': 4.6974},\n {'timestamp': datetime.datetime(2020, 9, 2, 17, 27, 47, 729510, tzinfo=tzutc()), 'clientType': 'Background', 'companyName': 'CRONUS USA, Inc.', 'totalTimeInMS': 9.6056},\n {'timestamp': datetime.datetime(2020, 9, 2, 17, 26, 17, 288493, tzinfo=tzutc()), 'clientType': 'Background', 'companyName': 'CRONUS USA, Inc.', 'totalTimeInMS': 11.2448},\n {'timestamp': datetime.datetime(2020, 9, 2, 17, 24, 46, 468006, tzinfo=tzutc()), 'clientType': 'Background', 'companyName': 'CRONUS USA, Inc.', 'totalTimeInMS': 4.7442},\n {'timestamp': datetime.datetime(2020, 9, 2, 17, 23, 15, 225752, tzinfo=tzutc()), 'clientType': 'Background', 'companyName': 'CRONUS USA, Inc.', 'totalTimeInMS': 3.8222},\n {'timestamp': datetime.datetime(2020, 9, 2, 17, 21, 44, 707135, tzinfo=tzutc()), 'clientType': 'Background', 'companyName': 'CRONUS USA, Inc.', 'totalTimeInMS': 4.7804},\n {'timestamp': datetime.datetime(2020, 9, 2, 17, 20, 14, 366857, tzinfo=tzutc()), 'clientType': 'Background', 'companyName': 'CRONUS USA, Inc.', 'totalTimeInMS': 4.6334},\n {'timestamp': datetime.datetime(2020, 9, 2, 17, 18, 44, 196950, tzinfo=tzutc()), 'clientType': 'Background', 'companyName': 'CRONUS USA, Inc.', 'totalTimeInMS': 4.6903},\n {'timestamp': datetime.datetime(2020, 9, 2, 17, 17, 13, 390435, tzinfo=tzutc()), 'clientType': 'Background', 'companyName': 'CRONUS USA, Inc.', 'totalTimeInMS': 4.2462},\n {'timestamp': datetime.datetime(2020, 9, 2, 17, 15, 42, 835806, tzinfo=tzutc()), 'clientType': 'Background', 'companyName': 'CRONUS USA, Inc.', 'totalTimeInMS': 5.4626},\n {'timestamp': datetime.datetime(2020, 9, 2, 17, 14, 12, 73181, tzinfo=tzutc()), 'clientType': 'Background', 'companyName': 'CRONUS USA, Inc.', 'totalTimeInMS': 13.3071},\n {'timestamp': datetime.datetime(2020, 9, 2, 17, 12, 40, 914781, tzinfo=tzutc()), 'clientType': 'Background', 'companyName': 'CRONUS USA, Inc.', 'totalTimeInMS': 4.4431},\n {'timestamp': datetime.datetime(2020, 9, 2, 17, 11, 9, 35414, tzinfo=tzutc()), 'clientType': 'Background', 'companyName': 'CRONUS USA, Inc.', 'totalTimeInMS': 9.8133},\n {'timestamp': datetime.datetime(2020, 9, 2, 17, 9, 38, 572206, tzinfo=tzutc()), 'clientType': 'Background', 'companyName': 'CRONUS USA, Inc.', 'totalTimeInMS': 3.7505},\n {'timestamp': datetime.datetime(2020, 9, 2, 17, 8, 7, 541939, tzinfo=tzutc()), 'clientType': 'Background', 'companyName': 'CRONUS USA, Inc.', 'totalTimeInMS': 4.2059},\n {'timestamp': datetime.datetime(2020, 9, 2, 17, 6, 37, 371112, tzinfo=tzutc()), 'clientType': 'Background', 'companyName': 'CRONUS USA, Inc.', 'totalTimeInMS': 3.9836},\n {'timestamp': datetime.datetime(2020, 9, 2, 17, 5, 5, 606982, tzinfo=tzutc()), 'clientType': 'Background', 'companyName': 'CRONUS USA, Inc.', 'totalTimeInMS': 3.9745},\n {'timestamp': datetime.datetime(2020, 9, 2, 17, 3, 34, 365387, tzinfo=tzutc()), 'clientType': 'Background', 'companyName': 'CRONUS USA, Inc.', 'totalTimeInMS': 3.9829},\n {'timestamp': datetime.datetime(2020, 9, 2, 17, 2, 3, 196020, tzinfo=tzutc()), 'clientType': 'Background', 'companyName': 'CRONUS USA, Inc.', 'totalTimeInMS': 4.1139},\n {'timestamp': datetime.datetime(2020, 9, 2, 17, 0, 31, 932095, tzinfo=tzutc()), 'clientType': 'Background', 'companyName': 'CRONUS USA, Inc.', 'totalTimeInMS': 4.1476},\n {'timestamp': datetime.datetime(2020, 9, 2, 16, 58, 55, 849736, tzinfo=tzutc()), 'clientType': 'Background', 'companyName': 'CRONUS USA, Inc.', 'totalTimeInMS': 3.5904},\n {'timestamp': datetime.datetime(2020, 9, 2, 16, 57, 25, 488967, tzinfo=tzutc()), 'clientType': 'Background', 'companyName': 'CRONUS USA, Inc.', 'totalTimeInMS': 14.7068},\n {'timestamp': datetime.datetime(2020, 9, 2, 16, 55, 55, 4307, tzinfo=tzutc()), 'clientType': 'Background', 'companyName': 'CRONUS USA, Inc.', 'totalTimeInMS': 4.0692},\n {'timestamp': datetime.datetime(2020, 9, 2, 16, 54, 24, 198746, tzinfo=tzutc()), 'clientType': 'Background', 'companyName': 'CRONUS USA, Inc.', 'totalTimeInMS': 8.437},\n {'timestamp': datetime.datetime(2020, 9, 2, 16, 52, 52, 858864, tzinfo=tzutc()), 'clientType': 'Background', 'companyName': 'CRONUS USA, Inc.', 'totalTimeInMS': 4.5944},\n {'timestamp': datetime.datetime(2020, 9, 2, 16, 51, 22, 293783, tzinfo=tzutc()), 'clientType': 'Background', 'companyName': 'CRONUS USA, Inc.', 'totalTimeInMS': 7.2909},\n {'timestamp': datetime.datetime(2020, 9, 2, 16, 49, 52, 139055, tzinfo=tzutc()), 'clientType': 'Background', 'companyName': 'CRONUS USA, Inc.', 'totalTimeInMS': 4.8617},\n {'timestamp': datetime.datetime(2020, 9, 2, 16, 48, 21, 629611, tzinfo=tzutc()), 'clientType': 'Background', 'companyName': 'CRONUS USA, Inc.', 'totalTimeInMS': 3.9366},\n {'timestamp': datetime.datetime(2020, 9, 2, 16, 46, 50, 384684, tzinfo=tzutc()), 'clientType': 'Background', 'companyName': 'CRONUS USA, Inc.', 'totalTimeInMS': 4.2444},\n {'timestamp': datetime.datetime(2020, 9, 2, 16, 45, 19, 479117, tzinfo=tzutc()), 'clientType': 'Background', 'companyName': 'CRONUS USA, Inc.', 'totalTimeInMS': 3.9029},\n {'timestamp': datetime.datetime(2020, 9, 2, 16, 43, 49, 36998, tzinfo=tzutc()), 'clientType': 'Background', 'companyName': 'CRONUS USA, Inc.', 'totalTimeInMS': 10.2145},\n {'timestamp': datetime.datetime(2020, 9, 2, 16, 42, 18, 565408, tzinfo=tzutc()), 'clientType': 'Background', 'companyName': 'CRONUS USA, Inc.', 'totalTimeInMS': 8.3109},\n {'timestamp': datetime.datetime(2020, 9, 2, 16, 40, 47, 109313, tzinfo=tzutc()), 'clientType': 'Background', 'companyName': 'CRONUS USA, Inc.', 'totalTimeInMS': 4.0478},\n {'timestamp': datetime.datetime(2020, 9, 2, 16, 39, 16, 624348, tzinfo=tzutc()), 'clientType': 'Background', 'companyName': 'CRONUS USA, Inc.', 'totalTimeInMS': 4.7752},\n {'timestamp': datetime.datetime(2020, 9, 2, 16, 37, 45, 820150, tzinfo=tzutc()), 'clientType': 'Background', 'companyName': 'CRONUS USA, Inc.', 'totalTimeInMS': 3.8406},\n {'timestamp': datetime.datetime(2020, 9, 2, 16, 36, 15, 690270, tzinfo=tzutc()), 'clientType': 'Background', 'companyName': 'CRONUS USA, Inc.', 'totalTimeInMS': 4.389},\n {'timestamp': datetime.datetime(2020, 9, 2, 16, 34, 44, 553677, tzinfo=tzutc()), 'clientType': 'Background', 'companyName': 'CRONUS USA, Inc.', 'totalTimeInMS': 3.7188},\n {'timestamp': datetime.datetime(2020, 9, 2, 16, 33, 14, 370304, tzinfo=tzutc()), 'clientType': 'Background', 'companyName': 'CRONUS USA, Inc.', 'totalTimeInMS': 3.6574},\n {'timestamp': datetime.datetime(2020, 9, 2, 16, 31, 43, 846068, tzinfo=tzutc()), 'clientType': 'Background', 'companyName': 'CRONUS USA, Inc.', 'totalTimeInMS': 3.9816},\n {'timestamp': datetime.datetime(2020, 9, 2, 16, 30, 13, 310743, tzinfo=tzutc()), 'clientType': 'Background', 'companyName': 'CRONUS USA, Inc.', 'totalTimeInMS': 4.4049},\n {'timestamp': datetime.datetime(2020, 9, 2, 16, 28, 42, 408691, tzinfo=tzutc()), 'clientType': 'Background', 'companyName': 'CRONUS USA, Inc.', 'totalTimeInMS': 4.0025},\n {'timestamp': datetime.datetime(2020, 9, 2, 16, 27, 11, 263974, tzinfo=tzutc()), 'clientType': 'Background', 'companyName': 'CRONUS USA, Inc.', 'totalTimeInMS': 4.2166},\n {'timestamp': datetime.datetime(2020, 9, 2, 16, 25, 39, 985057, tzinfo=tzutc()), 'clientType': 'Background', 'companyName': 'CRONUS USA, Inc.', 'totalTimeInMS': 4.8234},\n {'timestamp': datetime.datetime(2020, 9, 2, 16, 24, 9, 679140, tzinfo=tzutc()), 'clientType': 'Background', 'companyName': 'CRONUS USA, Inc.', 'totalTimeInMS': 10.1779},\n {'timestamp': datetime.datetime(2020, 9, 2, 16, 22, 38, 771384, tzinfo=tzutc()), 'clientType': 'Background', 'companyName': 'CRONUS USA, Inc.', 'totalTimeInMS': 4.6148},\n {'timestamp': datetime.datetime(2020, 9, 2, 16, 21, 7, 553839, tzinfo=tzutc()), 'clientType': 'Background', 'companyName': 'CRONUS USA, Inc.', 'totalTimeInMS': 4.3959},\n {'timestamp': datetime.datetime(2020, 9, 2, 16, 19, 37, 451998, tzinfo=tzutc()), 'clientType': 'Background', 'companyName': 'CRONUS USA, Inc.', 'totalTimeInMS': 3.8705},\n {'timestamp': datetime.datetime(2020, 9, 2, 16, 18, 6, 541926, tzinfo=tzutc()), 'clientType': 'Background', 'companyName': 'CRONUS USA, Inc.', 'totalTimeInMS': 4.0352},\n {'timestamp': datetime.datetime(2020, 9, 2, 16, 16, 35, 263123, tzinfo=tzutc()), 'clientType': 'Background', 'companyName': 'CRONUS USA, Inc.', 'totalTimeInMS': 8.9066},\n {'timestamp': datetime.datetime(2020, 9, 2, 16, 15, 4, 433359, tzinfo=tzutc()), 'clientType': 'Background', 'companyName': 'CRONUS USA, Inc.', 'totalTimeInMS': 4.2189},\n {'timestamp': datetime.datetime(2020, 9, 2, 16, 13, 30, 102726, tzinfo=tzutc()), 'clientType': 'Background', 'companyName': 'CRONUS USA, Inc.', 'totalTimeInMS': 8.7315},\n {'timestamp': datetime.datetime(2020, 9, 2, 16, 11, 59, 216713, tzinfo=tzutc()), 'clientType': 'Background', 'companyName': 'CRONUS USA, Inc.', 'totalTimeInMS': 4.4609},\n {'timestamp': datetime.datetime(2020, 9, 2, 16, 10, 27, 626816, tzinfo=tzutc()), 'clientType': 'Background', 'companyName': 'CRONUS USA, Inc.', 'totalTimeInMS': 10.2752},\n {'timestamp': datetime.datetime(2020, 9, 2, 16, 8, 57, 154248, tzinfo=tzutc()), 'clientType': 'Background', 'companyName': 'CRONUS USA, Inc.', 'totalTimeInMS': 4.1486},\n {'timestamp': datetime.datetime(2020, 9, 2, 16, 7, 26, 730234, tzinfo=tzutc()), 'clientType': 'Background', 'companyName': 'CRONUS USA, Inc.', 'totalTimeInMS': 4.6484},\n {'timestamp': datetime.datetime(2020, 9, 2, 16, 5, 56, 40088, tzinfo=tzutc()), 'clientType': 'Background', 'companyName': 'CRONUS USA, Inc.', 'totalTimeInMS': 9.4497},\n {'timestamp': datetime.datetime(2020, 9, 2, 16, 4, 24, 719070, tzinfo=tzutc()), 'clientType': 'Background', 'companyName': 'CRONUS USA, Inc.', 'totalTimeInMS': 4.4205},\n {'timestamp': datetime.datetime(2020, 9, 2, 16, 2, 54, 177068, tzinfo=tzutc()), 'clientType': 'Background', 'companyName': 'CRONUS USA, Inc.', 'totalTimeInMS': 4.5923},\n {'timestamp': datetime.datetime(2020, 9, 2, 16, 1, 23, 518628, tzinfo=tzutc()), 'clientType': 'Background', 'companyName': 'CRONUS USA, Inc.', 'totalTimeInMS': 4.4388},\n {'timestamp': datetime.datetime(2020, 9, 2, 15, 59, 52, 718911, tzinfo=tzutc()), 'clientType': 'Background', 'companyName': 'CRONUS USA, Inc.', 'totalTimeInMS': 3.8019},\n {'timestamp': datetime.datetime(2020, 9, 2, 15, 58, 21, 319244, tzinfo=tzutc()), 'clientType': 'Background', 'companyName': 'CRONUS USA, Inc.', 'totalTimeInMS': 7.6912},\n {'timestamp': datetime.datetime(2020, 9, 2, 15, 56, 50, 704314, tzinfo=tzutc()), 'clientType': 'Background', 'companyName': 'CRONUS USA, Inc.', 'totalTimeInMS': 3.633},\n {'timestamp': datetime.datetime(2020, 9, 2, 15, 55, 20, 194176, tzinfo=tzutc()), 'clientType': 'Background', 'companyName': 'CRONUS USA, Inc.', 'totalTimeInMS': 3.8399},\n {'timestamp': datetime.datetime(2020, 9, 2, 15, 53, 49, 992267, tzinfo=tzutc()), 'clientType': 'Background', 'companyName': 'CRONUS USA, Inc.', 'totalTimeInMS': 7.3334},\n {'timestamp': datetime.datetime(2020, 9, 2, 15, 52, 18, 313915, tzinfo=tzutc()), 'clientType': 'Background', 'companyName': 'CRONUS USA, Inc.', 'totalTimeInMS': 4.2554},\n {'timestamp': datetime.datetime(2020, 9, 2, 15, 50, 47, 362502, tzinfo=tzutc()), 'clientType': 'Background', 'companyName': 'CRONUS USA, Inc.', 'totalTimeInMS': 6.0382},\n {'timestamp': datetime.datetime(2020, 9, 2, 15, 49, 16, 783783, tzinfo=tzutc()), 'clientType': 'Background', 'companyName': 'CRONUS USA, Inc.', 'totalTimeInMS': 4.4045},\n {'timestamp': datetime.datetime(2020, 9, 2, 15, 47, 46, 103111, tzinfo=tzutc()), 'clientType': 'Background', 'companyName': 'CRONUS USA, Inc.', 'totalTimeInMS': 4.669},\n {'timestamp': datetime.datetime(2020, 9, 2, 15, 46, 14, 225047, tzinfo=tzutc()), 'clientType': 'Background', 'companyName': 'CRONUS USA, Inc.', 'totalTimeInMS': 10.0435},\n {'timestamp': datetime.datetime(2020, 9, 2, 15, 44, 43, 883748, tzinfo=tzutc()), 'clientType': 'Background', 'companyName': 'CRONUS USA, Inc.', 'totalTimeInMS': 4.7232}]",
                        "text/html": ""
                    },
                    "metadata": {},
                    "execution_count": 36,
                    "output_type": "execute_result"
                }
            ],
            "execution_count": 36
        },
        {
            "cell_type": "code",
            "source": [
                "%%kql\r\n",
                "let _aadTenantId = aadTenantId;\r\n",
                "let _environmentName = environmentName;\r\n",
                "traces\r\n",
                "| where 1==1 \r\n",
                "    and customDimensions.aadTenantId == _aadTenantId\r\n",
                "    and customDimensions.environmentName == _environmentName\r\n",
                "    and customDimensions.eventId == 'RT0004'\r\n",
                "    and timestamp > ago(1d)\r\n",
                "| extend clientType = tostring( customDimensions.clientType )\r\n",
                "| summarize count=count() by clientType, bin(timestamp, 1h)\r\n",
                "| render timechart title= 'Number of successful logins the last day (shown by client/session type)'"
            ],
            "metadata": {
                "azdata_cell_guid": "21e5d398-4a06-4ab9-a0e3-6e6263725dec"
            },
            "outputs": [
                {
                    "data": {
                        "text/plain": "<IPython.core.display.HTML object>",
                        "text/html": "<html>\n        <head>\n            \n            \n        </head>\n        <body>\n            <div><p style='padding: 10px; color: #3a87ad; background-color: #d9edf7; border-color: #bce9f1'>&nbsp;*&nbsp;962fbf96-f15e-4d37-8f91-13cae96f4b3e@applicationinsights</p></div>\n        </body>\n        </html>"
                    },
                    "metadata": {},
                    "output_type": "display_data"
                },
                {
                    "data": {
                        "application/vnd.plotly.v1+json": {
                            "config": {
                                "plotlyServerURL": "https://plot.ly"
                            },
                            "data": [
                                {
                                    "line": {
                                        "color": "rgb(31, 118, 179)",
                                        "width": 1
                                    },
                                    "name": "Background:count",
                                    "opacity": 0.8,
                                    "type": "scatter",
                                    "x": [
                                        "2020-09-01T18:00:00+00:00",
                                        "2020-09-01T19:00:00+00:00",
                                        "2020-09-01T20:00:00+00:00",
                                        "2020-09-01T21:00:00+00:00",
                                        "2020-09-01T22:00:00+00:00",
                                        "2020-09-01T23:00:00+00:00",
                                        "2020-09-02T00:00:00+00:00",
                                        "2020-09-02T01:00:00+00:00",
                                        "2020-09-02T02:00:00+00:00",
                                        "2020-09-02T03:00:00+00:00",
                                        "2020-09-02T04:00:00+00:00",
                                        "2020-09-02T05:00:00+00:00",
                                        "2020-09-02T06:00:00+00:00",
                                        "2020-09-02T07:00:00+00:00",
                                        "2020-09-02T08:00:00+00:00",
                                        "2020-09-02T09:00:00+00:00",
                                        "2020-09-02T10:00:00+00:00",
                                        "2020-09-02T11:00:00+00:00",
                                        "2020-09-02T12:00:00+00:00",
                                        "2020-09-02T13:00:00+00:00",
                                        "2020-09-02T14:00:00+00:00",
                                        "2020-09-02T15:00:00+00:00",
                                        "2020-09-02T16:00:00+00:00",
                                        "2020-09-02T17:00:00+00:00",
                                        "2020-09-02T18:00:00+00:00"
                                    ],
                                    "y": [
                                        22,
                                        39,
                                        39,
                                        40,
                                        40,
                                        39,
                                        40,
                                        39,
                                        40,
                                        39,
                                        39,
                                        33,
                                        36,
                                        39,
                                        40,
                                        42,
                                        39,
                                        40,
                                        39,
                                        40,
                                        40,
                                        40,
                                        39,
                                        40,
                                        15
                                    ]
                                }
                            ],
                            "layout": {
                                "showlegend": true,
                                "template": {
                                    "data": {
                                        "bar": [
                                            {
                                                "error_x": {
                                                    "color": "#2a3f5f"
                                                },
                                                "error_y": {
                                                    "color": "#2a3f5f"
                                                },
                                                "marker": {
                                                    "line": {
                                                        "color": "#E5ECF6",
                                                        "width": 0.5
                                                    }
                                                },
                                                "type": "bar"
                                            }
                                        ],
                                        "barpolar": [
                                            {
                                                "marker": {
                                                    "line": {
                                                        "color": "#E5ECF6",
                                                        "width": 0.5
                                                    }
                                                },
                                                "type": "barpolar"
                                            }
                                        ],
                                        "carpet": [
                                            {
                                                "aaxis": {
                                                    "endlinecolor": "#2a3f5f",
                                                    "gridcolor": "white",
                                                    "linecolor": "white",
                                                    "minorgridcolor": "white",
                                                    "startlinecolor": "#2a3f5f"
                                                },
                                                "baxis": {
                                                    "endlinecolor": "#2a3f5f",
                                                    "gridcolor": "white",
                                                    "linecolor": "white",
                                                    "minorgridcolor": "white",
                                                    "startlinecolor": "#2a3f5f"
                                                },
                                                "type": "carpet"
                                            }
                                        ],
                                        "choropleth": [
                                            {
                                                "colorbar": {
                                                    "outlinewidth": 0,
                                                    "ticks": ""
                                                },
                                                "type": "choropleth"
                                            }
                                        ],
                                        "contour": [
                                            {
                                                "colorbar": {
                                                    "outlinewidth": 0,
                                                    "ticks": ""
                                                },
                                                "colorscale": [
                                                    [
                                                        0,
                                                        "#0d0887"
                                                    ],
                                                    [
                                                        0.1111111111111111,
                                                        "#46039f"
                                                    ],
                                                    [
                                                        0.2222222222222222,
                                                        "#7201a8"
                                                    ],
                                                    [
                                                        0.3333333333333333,
                                                        "#9c179e"
                                                    ],
                                                    [
                                                        0.4444444444444444,
                                                        "#bd3786"
                                                    ],
                                                    [
                                                        0.5555555555555556,
                                                        "#d8576b"
                                                    ],
                                                    [
                                                        0.6666666666666666,
                                                        "#ed7953"
                                                    ],
                                                    [
                                                        0.7777777777777778,
                                                        "#fb9f3a"
                                                    ],
                                                    [
                                                        0.8888888888888888,
                                                        "#fdca26"
                                                    ],
                                                    [
                                                        1,
                                                        "#f0f921"
                                                    ]
                                                ],
                                                "type": "contour"
                                            }
                                        ],
                                        "contourcarpet": [
                                            {
                                                "colorbar": {
                                                    "outlinewidth": 0,
                                                    "ticks": ""
                                                },
                                                "type": "contourcarpet"
                                            }
                                        ],
                                        "heatmap": [
                                            {
                                                "colorbar": {
                                                    "outlinewidth": 0,
                                                    "ticks": ""
                                                },
                                                "colorscale": [
                                                    [
                                                        0,
                                                        "#0d0887"
                                                    ],
                                                    [
                                                        0.1111111111111111,
                                                        "#46039f"
                                                    ],
                                                    [
                                                        0.2222222222222222,
                                                        "#7201a8"
                                                    ],
                                                    [
                                                        0.3333333333333333,
                                                        "#9c179e"
                                                    ],
                                                    [
                                                        0.4444444444444444,
                                                        "#bd3786"
                                                    ],
                                                    [
                                                        0.5555555555555556,
                                                        "#d8576b"
                                                    ],
                                                    [
                                                        0.6666666666666666,
                                                        "#ed7953"
                                                    ],
                                                    [
                                                        0.7777777777777778,
                                                        "#fb9f3a"
                                                    ],
                                                    [
                                                        0.8888888888888888,
                                                        "#fdca26"
                                                    ],
                                                    [
                                                        1,
                                                        "#f0f921"
                                                    ]
                                                ],
                                                "type": "heatmap"
                                            }
                                        ],
                                        "heatmapgl": [
                                            {
                                                "colorbar": {
                                                    "outlinewidth": 0,
                                                    "ticks": ""
                                                },
                                                "colorscale": [
                                                    [
                                                        0,
                                                        "#0d0887"
                                                    ],
                                                    [
                                                        0.1111111111111111,
                                                        "#46039f"
                                                    ],
                                                    [
                                                        0.2222222222222222,
                                                        "#7201a8"
                                                    ],
                                                    [
                                                        0.3333333333333333,
                                                        "#9c179e"
                                                    ],
                                                    [
                                                        0.4444444444444444,
                                                        "#bd3786"
                                                    ],
                                                    [
                                                        0.5555555555555556,
                                                        "#d8576b"
                                                    ],
                                                    [
                                                        0.6666666666666666,
                                                        "#ed7953"
                                                    ],
                                                    [
                                                        0.7777777777777778,
                                                        "#fb9f3a"
                                                    ],
                                                    [
                                                        0.8888888888888888,
                                                        "#fdca26"
                                                    ],
                                                    [
                                                        1,
                                                        "#f0f921"
                                                    ]
                                                ],
                                                "type": "heatmapgl"
                                            }
                                        ],
                                        "histogram": [
                                            {
                                                "marker": {
                                                    "colorbar": {
                                                        "outlinewidth": 0,
                                                        "ticks": ""
                                                    }
                                                },
                                                "type": "histogram"
                                            }
                                        ],
                                        "histogram2d": [
                                            {
                                                "colorbar": {
                                                    "outlinewidth": 0,
                                                    "ticks": ""
                                                },
                                                "colorscale": [
                                                    [
                                                        0,
                                                        "#0d0887"
                                                    ],
                                                    [
                                                        0.1111111111111111,
                                                        "#46039f"
                                                    ],
                                                    [
                                                        0.2222222222222222,
                                                        "#7201a8"
                                                    ],
                                                    [
                                                        0.3333333333333333,
                                                        "#9c179e"
                                                    ],
                                                    [
                                                        0.4444444444444444,
                                                        "#bd3786"
                                                    ],
                                                    [
                                                        0.5555555555555556,
                                                        "#d8576b"
                                                    ],
                                                    [
                                                        0.6666666666666666,
                                                        "#ed7953"
                                                    ],
                                                    [
                                                        0.7777777777777778,
                                                        "#fb9f3a"
                                                    ],
                                                    [
                                                        0.8888888888888888,
                                                        "#fdca26"
                                                    ],
                                                    [
                                                        1,
                                                        "#f0f921"
                                                    ]
                                                ],
                                                "type": "histogram2d"
                                            }
                                        ],
                                        "histogram2dcontour": [
                                            {
                                                "colorbar": {
                                                    "outlinewidth": 0,
                                                    "ticks": ""
                                                },
                                                "colorscale": [
                                                    [
                                                        0,
                                                        "#0d0887"
                                                    ],
                                                    [
                                                        0.1111111111111111,
                                                        "#46039f"
                                                    ],
                                                    [
                                                        0.2222222222222222,
                                                        "#7201a8"
                                                    ],
                                                    [
                                                        0.3333333333333333,
                                                        "#9c179e"
                                                    ],
                                                    [
                                                        0.4444444444444444,
                                                        "#bd3786"
                                                    ],
                                                    [
                                                        0.5555555555555556,
                                                        "#d8576b"
                                                    ],
                                                    [
                                                        0.6666666666666666,
                                                        "#ed7953"
                                                    ],
                                                    [
                                                        0.7777777777777778,
                                                        "#fb9f3a"
                                                    ],
                                                    [
                                                        0.8888888888888888,
                                                        "#fdca26"
                                                    ],
                                                    [
                                                        1,
                                                        "#f0f921"
                                                    ]
                                                ],
                                                "type": "histogram2dcontour"
                                            }
                                        ],
                                        "mesh3d": [
                                            {
                                                "colorbar": {
                                                    "outlinewidth": 0,
                                                    "ticks": ""
                                                },
                                                "type": "mesh3d"
                                            }
                                        ],
                                        "parcoords": [
                                            {
                                                "line": {
                                                    "colorbar": {
                                                        "outlinewidth": 0,
                                                        "ticks": ""
                                                    }
                                                },
                                                "type": "parcoords"
                                            }
                                        ],
                                        "pie": [
                                            {
                                                "automargin": true,
                                                "type": "pie"
                                            }
                                        ],
                                        "scatter": [
                                            {
                                                "marker": {
                                                    "colorbar": {
                                                        "outlinewidth": 0,
                                                        "ticks": ""
                                                    }
                                                },
                                                "type": "scatter"
                                            }
                                        ],
                                        "scatter3d": [
                                            {
                                                "line": {
                                                    "colorbar": {
                                                        "outlinewidth": 0,
                                                        "ticks": ""
                                                    }
                                                },
                                                "marker": {
                                                    "colorbar": {
                                                        "outlinewidth": 0,
                                                        "ticks": ""
                                                    }
                                                },
                                                "type": "scatter3d"
                                            }
                                        ],
                                        "scattercarpet": [
                                            {
                                                "marker": {
                                                    "colorbar": {
                                                        "outlinewidth": 0,
                                                        "ticks": ""
                                                    }
                                                },
                                                "type": "scattercarpet"
                                            }
                                        ],
                                        "scattergeo": [
                                            {
                                                "marker": {
                                                    "colorbar": {
                                                        "outlinewidth": 0,
                                                        "ticks": ""
                                                    }
                                                },
                                                "type": "scattergeo"
                                            }
                                        ],
                                        "scattergl": [
                                            {
                                                "marker": {
                                                    "colorbar": {
                                                        "outlinewidth": 0,
                                                        "ticks": ""
                                                    }
                                                },
                                                "type": "scattergl"
                                            }
                                        ],
                                        "scattermapbox": [
                                            {
                                                "marker": {
                                                    "colorbar": {
                                                        "outlinewidth": 0,
                                                        "ticks": ""
                                                    }
                                                },
                                                "type": "scattermapbox"
                                            }
                                        ],
                                        "scatterpolar": [
                                            {
                                                "marker": {
                                                    "colorbar": {
                                                        "outlinewidth": 0,
                                                        "ticks": ""
                                                    }
                                                },
                                                "type": "scatterpolar"
                                            }
                                        ],
                                        "scatterpolargl": [
                                            {
                                                "marker": {
                                                    "colorbar": {
                                                        "outlinewidth": 0,
                                                        "ticks": ""
                                                    }
                                                },
                                                "type": "scatterpolargl"
                                            }
                                        ],
                                        "scatterternary": [
                                            {
                                                "marker": {
                                                    "colorbar": {
                                                        "outlinewidth": 0,
                                                        "ticks": ""
                                                    }
                                                },
                                                "type": "scatterternary"
                                            }
                                        ],
                                        "surface": [
                                            {
                                                "colorbar": {
                                                    "outlinewidth": 0,
                                                    "ticks": ""
                                                },
                                                "colorscale": [
                                                    [
                                                        0,
                                                        "#0d0887"
                                                    ],
                                                    [
                                                        0.1111111111111111,
                                                        "#46039f"
                                                    ],
                                                    [
                                                        0.2222222222222222,
                                                        "#7201a8"
                                                    ],
                                                    [
                                                        0.3333333333333333,
                                                        "#9c179e"
                                                    ],
                                                    [
                                                        0.4444444444444444,
                                                        "#bd3786"
                                                    ],
                                                    [
                                                        0.5555555555555556,
                                                        "#d8576b"
                                                    ],
                                                    [
                                                        0.6666666666666666,
                                                        "#ed7953"
                                                    ],
                                                    [
                                                        0.7777777777777778,
                                                        "#fb9f3a"
                                                    ],
                                                    [
                                                        0.8888888888888888,
                                                        "#fdca26"
                                                    ],
                                                    [
                                                        1,
                                                        "#f0f921"
                                                    ]
                                                ],
                                                "type": "surface"
                                            }
                                        ],
                                        "table": [
                                            {
                                                "cells": {
                                                    "fill": {
                                                        "color": "#EBF0F8"
                                                    },
                                                    "line": {
                                                        "color": "white"
                                                    }
                                                },
                                                "header": {
                                                    "fill": {
                                                        "color": "#C8D4E3"
                                                    },
                                                    "line": {
                                                        "color": "white"
                                                    }
                                                },
                                                "type": "table"
                                            }
                                        ]
                                    },
                                    "layout": {
                                        "annotationdefaults": {
                                            "arrowcolor": "#2a3f5f",
                                            "arrowhead": 0,
                                            "arrowwidth": 1
                                        },
                                        "coloraxis": {
                                            "colorbar": {
                                                "outlinewidth": 0,
                                                "ticks": ""
                                            }
                                        },
                                        "colorscale": {
                                            "diverging": [
                                                [
                                                    0,
                                                    "#8e0152"
                                                ],
                                                [
                                                    0.1,
                                                    "#c51b7d"
                                                ],
                                                [
                                                    0.2,
                                                    "#de77ae"
                                                ],
                                                [
                                                    0.3,
                                                    "#f1b6da"
                                                ],
                                                [
                                                    0.4,
                                                    "#fde0ef"
                                                ],
                                                [
                                                    0.5,
                                                    "#f7f7f7"
                                                ],
                                                [
                                                    0.6,
                                                    "#e6f5d0"
                                                ],
                                                [
                                                    0.7,
                                                    "#b8e186"
                                                ],
                                                [
                                                    0.8,
                                                    "#7fbc41"
                                                ],
                                                [
                                                    0.9,
                                                    "#4d9221"
                                                ],
                                                [
                                                    1,
                                                    "#276419"
                                                ]
                                            ],
                                            "sequential": [
                                                [
                                                    0,
                                                    "#0d0887"
                                                ],
                                                [
                                                    0.1111111111111111,
                                                    "#46039f"
                                                ],
                                                [
                                                    0.2222222222222222,
                                                    "#7201a8"
                                                ],
                                                [
                                                    0.3333333333333333,
                                                    "#9c179e"
                                                ],
                                                [
                                                    0.4444444444444444,
                                                    "#bd3786"
                                                ],
                                                [
                                                    0.5555555555555556,
                                                    "#d8576b"
                                                ],
                                                [
                                                    0.6666666666666666,
                                                    "#ed7953"
                                                ],
                                                [
                                                    0.7777777777777778,
                                                    "#fb9f3a"
                                                ],
                                                [
                                                    0.8888888888888888,
                                                    "#fdca26"
                                                ],
                                                [
                                                    1,
                                                    "#f0f921"
                                                ]
                                            ],
                                            "sequentialminus": [
                                                [
                                                    0,
                                                    "#0d0887"
                                                ],
                                                [
                                                    0.1111111111111111,
                                                    "#46039f"
                                                ],
                                                [
                                                    0.2222222222222222,
                                                    "#7201a8"
                                                ],
                                                [
                                                    0.3333333333333333,
                                                    "#9c179e"
                                                ],
                                                [
                                                    0.4444444444444444,
                                                    "#bd3786"
                                                ],
                                                [
                                                    0.5555555555555556,
                                                    "#d8576b"
                                                ],
                                                [
                                                    0.6666666666666666,
                                                    "#ed7953"
                                                ],
                                                [
                                                    0.7777777777777778,
                                                    "#fb9f3a"
                                                ],
                                                [
                                                    0.8888888888888888,
                                                    "#fdca26"
                                                ],
                                                [
                                                    1,
                                                    "#f0f921"
                                                ]
                                            ]
                                        },
                                        "colorway": [
                                            "#636efa",
                                            "#EF553B",
                                            "#00cc96",
                                            "#ab63fa",
                                            "#FFA15A",
                                            "#19d3f3",
                                            "#FF6692",
                                            "#B6E880",
                                            "#FF97FF",
                                            "#FECB52"
                                        ],
                                        "font": {
                                            "color": "#2a3f5f"
                                        },
                                        "geo": {
                                            "bgcolor": "white",
                                            "lakecolor": "white",
                                            "landcolor": "#E5ECF6",
                                            "showlakes": true,
                                            "showland": true,
                                            "subunitcolor": "white"
                                        },
                                        "hoverlabel": {
                                            "align": "left"
                                        },
                                        "hovermode": "closest",
                                        "mapbox": {
                                            "style": "light"
                                        },
                                        "paper_bgcolor": "white",
                                        "plot_bgcolor": "#E5ECF6",
                                        "polar": {
                                            "angularaxis": {
                                                "gridcolor": "white",
                                                "linecolor": "white",
                                                "ticks": ""
                                            },
                                            "bgcolor": "#E5ECF6",
                                            "radialaxis": {
                                                "gridcolor": "white",
                                                "linecolor": "white",
                                                "ticks": ""
                                            }
                                        },
                                        "scene": {
                                            "xaxis": {
                                                "backgroundcolor": "#E5ECF6",
                                                "gridcolor": "white",
                                                "gridwidth": 2,
                                                "linecolor": "white",
                                                "showbackground": true,
                                                "ticks": "",
                                                "zerolinecolor": "white"
                                            },
                                            "yaxis": {
                                                "backgroundcolor": "#E5ECF6",
                                                "gridcolor": "white",
                                                "gridwidth": 2,
                                                "linecolor": "white",
                                                "showbackground": true,
                                                "ticks": "",
                                                "zerolinecolor": "white"
                                            },
                                            "zaxis": {
                                                "backgroundcolor": "#E5ECF6",
                                                "gridcolor": "white",
                                                "gridwidth": 2,
                                                "linecolor": "white",
                                                "showbackground": true,
                                                "ticks": "",
                                                "zerolinecolor": "white"
                                            }
                                        },
                                        "shapedefaults": {
                                            "line": {
                                                "color": "#2a3f5f"
                                            }
                                        },
                                        "ternary": {
                                            "aaxis": {
                                                "gridcolor": "white",
                                                "linecolor": "white",
                                                "ticks": ""
                                            },
                                            "baxis": {
                                                "gridcolor": "white",
                                                "linecolor": "white",
                                                "ticks": ""
                                            },
                                            "bgcolor": "#E5ECF6",
                                            "caxis": {
                                                "gridcolor": "white",
                                                "linecolor": "white",
                                                "ticks": ""
                                            }
                                        },
                                        "title": {
                                            "x": 0.05
                                        },
                                        "xaxis": {
                                            "automargin": true,
                                            "gridcolor": "white",
                                            "linecolor": "white",
                                            "ticks": "",
                                            "title": {
                                                "standoff": 15
                                            },
                                            "zerolinecolor": "white",
                                            "zerolinewidth": 2
                                        },
                                        "yaxis": {
                                            "automargin": true,
                                            "gridcolor": "white",
                                            "linecolor": "white",
                                            "ticks": "",
                                            "title": {
                                                "standoff": 15
                                            },
                                            "zerolinecolor": "white",
                                            "zerolinewidth": 2
                                        }
                                    }
                                },
                                "title": {
                                    "text": "Number of successful logins the last day (shown by client/session type)"
                                },
                                "xaxis": {
                                    "autorange": true,
                                    "title": {
                                        "text": "timestamp"
                                    },
                                    "type": "date"
                                },
                                "yaxis": {
                                    "ticksuffix": "",
                                    "title": {
                                        "text": "count"
                                    },
                                    "type": "linear"
                                }
                            }
                        }
                    },
                    "metadata": {},
                    "output_type": "display_data"
                },
                {
                    "data": {
                        "text/plain": "<IPython.core.display.HTML object>",
                        "text/html": "<html>\n        <head>\n            \n            \n        </head>\n        <body>\n            <div><p style='padding: 10px; color: #3a87ad; background-color: #d9edf7; border-color: #bce9f1'>Done&nbsp;(00:04.395):&nbsp;25&nbsp;records</p></div>\n        </body>\n        </html>"
                    },
                    "metadata": {},
                    "output_type": "display_data"
                },
                {
                    "data": {
                        "text/plain": "[{'clientType': 'Background', 'timestamp': datetime.datetime(2020, 9, 2, 18, 0, tzinfo=tzutc()), 'count': 15},\n {'clientType': 'Background', 'timestamp': datetime.datetime(2020, 9, 2, 17, 0, tzinfo=tzutc()), 'count': 40},\n {'clientType': 'Background', 'timestamp': datetime.datetime(2020, 9, 2, 16, 0, tzinfo=tzutc()), 'count': 39},\n {'clientType': 'Background', 'timestamp': datetime.datetime(2020, 9, 2, 13, 0, tzinfo=tzutc()), 'count': 40},\n {'clientType': 'Background', 'timestamp': datetime.datetime(2020, 9, 2, 14, 0, tzinfo=tzutc()), 'count': 40},\n {'clientType': 'Background', 'timestamp': datetime.datetime(2020, 9, 2, 15, 0, tzinfo=tzutc()), 'count': 40},\n {'clientType': 'Background', 'timestamp': datetime.datetime(2020, 9, 2, 4, 0, tzinfo=tzutc()), 'count': 39},\n {'clientType': 'Background', 'timestamp': datetime.datetime(2020, 9, 2, 5, 0, tzinfo=tzutc()), 'count': 33},\n {'clientType': 'Background', 'timestamp': datetime.datetime(2020, 9, 2, 6, 0, tzinfo=tzutc()), 'count': 36},\n {'clientType': 'Background', 'timestamp': datetime.datetime(2020, 9, 2, 7, 0, tzinfo=tzutc()), 'count': 39},\n {'clientType': 'Background', 'timestamp': datetime.datetime(2020, 9, 2, 8, 0, tzinfo=tzutc()), 'count': 40},\n {'clientType': 'Background', 'timestamp': datetime.datetime(2020, 9, 2, 9, 0, tzinfo=tzutc()), 'count': 42},\n {'clientType': 'Background', 'timestamp': datetime.datetime(2020, 9, 2, 10, 0, tzinfo=tzutc()), 'count': 39},\n {'clientType': 'Background', 'timestamp': datetime.datetime(2020, 9, 2, 11, 0, tzinfo=tzutc()), 'count': 40},\n {'clientType': 'Background', 'timestamp': datetime.datetime(2020, 9, 2, 12, 0, tzinfo=tzutc()), 'count': 39},\n {'clientType': 'Background', 'timestamp': datetime.datetime(2020, 9, 2, 0, 0, tzinfo=tzutc()), 'count': 40},\n {'clientType': 'Background', 'timestamp': datetime.datetime(2020, 9, 2, 1, 0, tzinfo=tzutc()), 'count': 39},\n {'clientType': 'Background', 'timestamp': datetime.datetime(2020, 9, 2, 2, 0, tzinfo=tzutc()), 'count': 40},\n {'clientType': 'Background', 'timestamp': datetime.datetime(2020, 9, 1, 18, 0, tzinfo=tzutc()), 'count': 22},\n {'clientType': 'Background', 'timestamp': datetime.datetime(2020, 9, 1, 19, 0, tzinfo=tzutc()), 'count': 39},\n {'clientType': 'Background', 'timestamp': datetime.datetime(2020, 9, 1, 20, 0, tzinfo=tzutc()), 'count': 39},\n {'clientType': 'Background', 'timestamp': datetime.datetime(2020, 9, 1, 21, 0, tzinfo=tzutc()), 'count': 40},\n {'clientType': 'Background', 'timestamp': datetime.datetime(2020, 9, 1, 22, 0, tzinfo=tzutc()), 'count': 40},\n {'clientType': 'Background', 'timestamp': datetime.datetime(2020, 9, 1, 23, 0, tzinfo=tzutc()), 'count': 39},\n {'clientType': 'Background', 'timestamp': datetime.datetime(2020, 9, 2, 3, 0, tzinfo=tzutc()), 'count': 39}]",
                        "text/html": ""
                    },
                    "metadata": {},
                    "execution_count": 40,
                    "output_type": "execute_result"
                }
            ],
            "execution_count": 40
        },
        {
            "cell_type": "code",
            "source": [
                "%%kql\r\n",
                "let _aadTenantId = aadTenantId;\r\n",
                "let _environmentName = environmentName;\r\n",
                "traces\r\n",
                "| where 1==1 \r\n",
                "    and customDimensions.aadTenantId == _aadTenantId\r\n",
                "    and customDimensions.environmentName == _environmentName\r\n",
                "    and customDimensions.eventId in ('RT0001', 'RT0002', 'RT0004')\r\n",
                "    and timestamp > ago(1d)\r\n",
                "| extend attemptType = case(\r\n",
                "    customDimensions.eventId == 'RT0001', 'Failure before open company' ,\r\n",
                "    customDimensions.eventId == 'RT0002', 'Failure in open company trigger' ,\r\n",
                "    customDimensions.eventId == 'RT0004', 'Successful login' , \r\n",
                "    'Unknown reason'\r\n",
                ")\r\n",
                "| summarize count=count() by attemptType, bin(timestamp, 1h)\r\n",
                "| render timechart title= 'Number of login attempts the last day (shown by success/failure)'"
            ],
            "metadata": {
                "azdata_cell_guid": "5a1bb5e1-4d74-4ff3-938c-e04c989977fd"
            },
            "outputs": [
                {
                    "data": {
                        "text/plain": "<IPython.core.display.HTML object>",
                        "text/html": "<html>\n        <head>\n            \n            \n        </head>\n        <body>\n            <div><p style='padding: 10px; color: #3a87ad; background-color: #d9edf7; border-color: #bce9f1'>&nbsp;*&nbsp;962fbf96-f15e-4d37-8f91-13cae96f4b3e@applicationinsights</p></div>\n        </body>\n        </html>"
                    },
                    "metadata": {},
                    "output_type": "display_data"
                },
                {
                    "data": {
                        "application/vnd.plotly.v1+json": {
                            "config": {
                                "plotlyServerURL": "https://plot.ly"
                            },
                            "data": [
                                {
                                    "line": {
                                        "color": "rgb(31, 118, 179)",
                                        "width": 1
                                    },
                                    "name": "Successful login:count",
                                    "opacity": 0.8,
                                    "type": "scatter",
                                    "x": [
                                        "2020-09-01T18:00:00+00:00",
                                        "2020-09-01T19:00:00+00:00",
                                        "2020-09-01T20:00:00+00:00",
                                        "2020-09-01T21:00:00+00:00",
                                        "2020-09-01T22:00:00+00:00",
                                        "2020-09-01T23:00:00+00:00",
                                        "2020-09-02T00:00:00+00:00",
                                        "2020-09-02T01:00:00+00:00",
                                        "2020-09-02T02:00:00+00:00",
                                        "2020-09-02T03:00:00+00:00",
                                        "2020-09-02T04:00:00+00:00",
                                        "2020-09-02T05:00:00+00:00",
                                        "2020-09-02T06:00:00+00:00",
                                        "2020-09-02T07:00:00+00:00",
                                        "2020-09-02T08:00:00+00:00",
                                        "2020-09-02T09:00:00+00:00",
                                        "2020-09-02T10:00:00+00:00",
                                        "2020-09-02T11:00:00+00:00",
                                        "2020-09-02T12:00:00+00:00",
                                        "2020-09-02T13:00:00+00:00",
                                        "2020-09-02T14:00:00+00:00",
                                        "2020-09-02T15:00:00+00:00",
                                        "2020-09-02T16:00:00+00:00",
                                        "2020-09-02T17:00:00+00:00",
                                        "2020-09-02T18:00:00+00:00"
                                    ],
                                    "y": [
                                        23,
                                        39,
                                        39,
                                        40,
                                        40,
                                        39,
                                        40,
                                        39,
                                        40,
                                        39,
                                        39,
                                        33,
                                        36,
                                        39,
                                        40,
                                        42,
                                        39,
                                        40,
                                        39,
                                        40,
                                        40,
                                        40,
                                        39,
                                        40,
                                        15
                                    ]
                                }
                            ],
                            "layout": {
                                "showlegend": true,
                                "template": {
                                    "data": {
                                        "bar": [
                                            {
                                                "error_x": {
                                                    "color": "#2a3f5f"
                                                },
                                                "error_y": {
                                                    "color": "#2a3f5f"
                                                },
                                                "marker": {
                                                    "line": {
                                                        "color": "#E5ECF6",
                                                        "width": 0.5
                                                    }
                                                },
                                                "type": "bar"
                                            }
                                        ],
                                        "barpolar": [
                                            {
                                                "marker": {
                                                    "line": {
                                                        "color": "#E5ECF6",
                                                        "width": 0.5
                                                    }
                                                },
                                                "type": "barpolar"
                                            }
                                        ],
                                        "carpet": [
                                            {
                                                "aaxis": {
                                                    "endlinecolor": "#2a3f5f",
                                                    "gridcolor": "white",
                                                    "linecolor": "white",
                                                    "minorgridcolor": "white",
                                                    "startlinecolor": "#2a3f5f"
                                                },
                                                "baxis": {
                                                    "endlinecolor": "#2a3f5f",
                                                    "gridcolor": "white",
                                                    "linecolor": "white",
                                                    "minorgridcolor": "white",
                                                    "startlinecolor": "#2a3f5f"
                                                },
                                                "type": "carpet"
                                            }
                                        ],
                                        "choropleth": [
                                            {
                                                "colorbar": {
                                                    "outlinewidth": 0,
                                                    "ticks": ""
                                                },
                                                "type": "choropleth"
                                            }
                                        ],
                                        "contour": [
                                            {
                                                "colorbar": {
                                                    "outlinewidth": 0,
                                                    "ticks": ""
                                                },
                                                "colorscale": [
                                                    [
                                                        0,
                                                        "#0d0887"
                                                    ],
                                                    [
                                                        0.1111111111111111,
                                                        "#46039f"
                                                    ],
                                                    [
                                                        0.2222222222222222,
                                                        "#7201a8"
                                                    ],
                                                    [
                                                        0.3333333333333333,
                                                        "#9c179e"
                                                    ],
                                                    [
                                                        0.4444444444444444,
                                                        "#bd3786"
                                                    ],
                                                    [
                                                        0.5555555555555556,
                                                        "#d8576b"
                                                    ],
                                                    [
                                                        0.6666666666666666,
                                                        "#ed7953"
                                                    ],
                                                    [
                                                        0.7777777777777778,
                                                        "#fb9f3a"
                                                    ],
                                                    [
                                                        0.8888888888888888,
                                                        "#fdca26"
                                                    ],
                                                    [
                                                        1,
                                                        "#f0f921"
                                                    ]
                                                ],
                                                "type": "contour"
                                            }
                                        ],
                                        "contourcarpet": [
                                            {
                                                "colorbar": {
                                                    "outlinewidth": 0,
                                                    "ticks": ""
                                                },
                                                "type": "contourcarpet"
                                            }
                                        ],
                                        "heatmap": [
                                            {
                                                "colorbar": {
                                                    "outlinewidth": 0,
                                                    "ticks": ""
                                                },
                                                "colorscale": [
                                                    [
                                                        0,
                                                        "#0d0887"
                                                    ],
                                                    [
                                                        0.1111111111111111,
                                                        "#46039f"
                                                    ],
                                                    [
                                                        0.2222222222222222,
                                                        "#7201a8"
                                                    ],
                                                    [
                                                        0.3333333333333333,
                                                        "#9c179e"
                                                    ],
                                                    [
                                                        0.4444444444444444,
                                                        "#bd3786"
                                                    ],
                                                    [
                                                        0.5555555555555556,
                                                        "#d8576b"
                                                    ],
                                                    [
                                                        0.6666666666666666,
                                                        "#ed7953"
                                                    ],
                                                    [
                                                        0.7777777777777778,
                                                        "#fb9f3a"
                                                    ],
                                                    [
                                                        0.8888888888888888,
                                                        "#fdca26"
                                                    ],
                                                    [
                                                        1,
                                                        "#f0f921"
                                                    ]
                                                ],
                                                "type": "heatmap"
                                            }
                                        ],
                                        "heatmapgl": [
                                            {
                                                "colorbar": {
                                                    "outlinewidth": 0,
                                                    "ticks": ""
                                                },
                                                "colorscale": [
                                                    [
                                                        0,
                                                        "#0d0887"
                                                    ],
                                                    [
                                                        0.1111111111111111,
                                                        "#46039f"
                                                    ],
                                                    [
                                                        0.2222222222222222,
                                                        "#7201a8"
                                                    ],
                                                    [
                                                        0.3333333333333333,
                                                        "#9c179e"
                                                    ],
                                                    [
                                                        0.4444444444444444,
                                                        "#bd3786"
                                                    ],
                                                    [
                                                        0.5555555555555556,
                                                        "#d8576b"
                                                    ],
                                                    [
                                                        0.6666666666666666,
                                                        "#ed7953"
                                                    ],
                                                    [
                                                        0.7777777777777778,
                                                        "#fb9f3a"
                                                    ],
                                                    [
                                                        0.8888888888888888,
                                                        "#fdca26"
                                                    ],
                                                    [
                                                        1,
                                                        "#f0f921"
                                                    ]
                                                ],
                                                "type": "heatmapgl"
                                            }
                                        ],
                                        "histogram": [
                                            {
                                                "marker": {
                                                    "colorbar": {
                                                        "outlinewidth": 0,
                                                        "ticks": ""
                                                    }
                                                },
                                                "type": "histogram"
                                            }
                                        ],
                                        "histogram2d": [
                                            {
                                                "colorbar": {
                                                    "outlinewidth": 0,
                                                    "ticks": ""
                                                },
                                                "colorscale": [
                                                    [
                                                        0,
                                                        "#0d0887"
                                                    ],
                                                    [
                                                        0.1111111111111111,
                                                        "#46039f"
                                                    ],
                                                    [
                                                        0.2222222222222222,
                                                        "#7201a8"
                                                    ],
                                                    [
                                                        0.3333333333333333,
                                                        "#9c179e"
                                                    ],
                                                    [
                                                        0.4444444444444444,
                                                        "#bd3786"
                                                    ],
                                                    [
                                                        0.5555555555555556,
                                                        "#d8576b"
                                                    ],
                                                    [
                                                        0.6666666666666666,
                                                        "#ed7953"
                                                    ],
                                                    [
                                                        0.7777777777777778,
                                                        "#fb9f3a"
                                                    ],
                                                    [
                                                        0.8888888888888888,
                                                        "#fdca26"
                                                    ],
                                                    [
                                                        1,
                                                        "#f0f921"
                                                    ]
                                                ],
                                                "type": "histogram2d"
                                            }
                                        ],
                                        "histogram2dcontour": [
                                            {
                                                "colorbar": {
                                                    "outlinewidth": 0,
                                                    "ticks": ""
                                                },
                                                "colorscale": [
                                                    [
                                                        0,
                                                        "#0d0887"
                                                    ],
                                                    [
                                                        0.1111111111111111,
                                                        "#46039f"
                                                    ],
                                                    [
                                                        0.2222222222222222,
                                                        "#7201a8"
                                                    ],
                                                    [
                                                        0.3333333333333333,
                                                        "#9c179e"
                                                    ],
                                                    [
                                                        0.4444444444444444,
                                                        "#bd3786"
                                                    ],
                                                    [
                                                        0.5555555555555556,
                                                        "#d8576b"
                                                    ],
                                                    [
                                                        0.6666666666666666,
                                                        "#ed7953"
                                                    ],
                                                    [
                                                        0.7777777777777778,
                                                        "#fb9f3a"
                                                    ],
                                                    [
                                                        0.8888888888888888,
                                                        "#fdca26"
                                                    ],
                                                    [
                                                        1,
                                                        "#f0f921"
                                                    ]
                                                ],
                                                "type": "histogram2dcontour"
                                            }
                                        ],
                                        "mesh3d": [
                                            {
                                                "colorbar": {
                                                    "outlinewidth": 0,
                                                    "ticks": ""
                                                },
                                                "type": "mesh3d"
                                            }
                                        ],
                                        "parcoords": [
                                            {
                                                "line": {
                                                    "colorbar": {
                                                        "outlinewidth": 0,
                                                        "ticks": ""
                                                    }
                                                },
                                                "type": "parcoords"
                                            }
                                        ],
                                        "pie": [
                                            {
                                                "automargin": true,
                                                "type": "pie"
                                            }
                                        ],
                                        "scatter": [
                                            {
                                                "marker": {
                                                    "colorbar": {
                                                        "outlinewidth": 0,
                                                        "ticks": ""
                                                    }
                                                },
                                                "type": "scatter"
                                            }
                                        ],
                                        "scatter3d": [
                                            {
                                                "line": {
                                                    "colorbar": {
                                                        "outlinewidth": 0,
                                                        "ticks": ""
                                                    }
                                                },
                                                "marker": {
                                                    "colorbar": {
                                                        "outlinewidth": 0,
                                                        "ticks": ""
                                                    }
                                                },
                                                "type": "scatter3d"
                                            }
                                        ],
                                        "scattercarpet": [
                                            {
                                                "marker": {
                                                    "colorbar": {
                                                        "outlinewidth": 0,
                                                        "ticks": ""
                                                    }
                                                },
                                                "type": "scattercarpet"
                                            }
                                        ],
                                        "scattergeo": [
                                            {
                                                "marker": {
                                                    "colorbar": {
                                                        "outlinewidth": 0,
                                                        "ticks": ""
                                                    }
                                                },
                                                "type": "scattergeo"
                                            }
                                        ],
                                        "scattergl": [
                                            {
                                                "marker": {
                                                    "colorbar": {
                                                        "outlinewidth": 0,
                                                        "ticks": ""
                                                    }
                                                },
                                                "type": "scattergl"
                                            }
                                        ],
                                        "scattermapbox": [
                                            {
                                                "marker": {
                                                    "colorbar": {
                                                        "outlinewidth": 0,
                                                        "ticks": ""
                                                    }
                                                },
                                                "type": "scattermapbox"
                                            }
                                        ],
                                        "scatterpolar": [
                                            {
                                                "marker": {
                                                    "colorbar": {
                                                        "outlinewidth": 0,
                                                        "ticks": ""
                                                    }
                                                },
                                                "type": "scatterpolar"
                                            }
                                        ],
                                        "scatterpolargl": [
                                            {
                                                "marker": {
                                                    "colorbar": {
                                                        "outlinewidth": 0,
                                                        "ticks": ""
                                                    }
                                                },
                                                "type": "scatterpolargl"
                                            }
                                        ],
                                        "scatterternary": [
                                            {
                                                "marker": {
                                                    "colorbar": {
                                                        "outlinewidth": 0,
                                                        "ticks": ""
                                                    }
                                                },
                                                "type": "scatterternary"
                                            }
                                        ],
                                        "surface": [
                                            {
                                                "colorbar": {
                                                    "outlinewidth": 0,
                                                    "ticks": ""
                                                },
                                                "colorscale": [
                                                    [
                                                        0,
                                                        "#0d0887"
                                                    ],
                                                    [
                                                        0.1111111111111111,
                                                        "#46039f"
                                                    ],
                                                    [
                                                        0.2222222222222222,
                                                        "#7201a8"
                                                    ],
                                                    [
                                                        0.3333333333333333,
                                                        "#9c179e"
                                                    ],
                                                    [
                                                        0.4444444444444444,
                                                        "#bd3786"
                                                    ],
                                                    [
                                                        0.5555555555555556,
                                                        "#d8576b"
                                                    ],
                                                    [
                                                        0.6666666666666666,
                                                        "#ed7953"
                                                    ],
                                                    [
                                                        0.7777777777777778,
                                                        "#fb9f3a"
                                                    ],
                                                    [
                                                        0.8888888888888888,
                                                        "#fdca26"
                                                    ],
                                                    [
                                                        1,
                                                        "#f0f921"
                                                    ]
                                                ],
                                                "type": "surface"
                                            }
                                        ],
                                        "table": [
                                            {
                                                "cells": {
                                                    "fill": {
                                                        "color": "#EBF0F8"
                                                    },
                                                    "line": {
                                                        "color": "white"
                                                    }
                                                },
                                                "header": {
                                                    "fill": {
                                                        "color": "#C8D4E3"
                                                    },
                                                    "line": {
                                                        "color": "white"
                                                    }
                                                },
                                                "type": "table"
                                            }
                                        ]
                                    },
                                    "layout": {
                                        "annotationdefaults": {
                                            "arrowcolor": "#2a3f5f",
                                            "arrowhead": 0,
                                            "arrowwidth": 1
                                        },
                                        "coloraxis": {
                                            "colorbar": {
                                                "outlinewidth": 0,
                                                "ticks": ""
                                            }
                                        },
                                        "colorscale": {
                                            "diverging": [
                                                [
                                                    0,
                                                    "#8e0152"
                                                ],
                                                [
                                                    0.1,
                                                    "#c51b7d"
                                                ],
                                                [
                                                    0.2,
                                                    "#de77ae"
                                                ],
                                                [
                                                    0.3,
                                                    "#f1b6da"
                                                ],
                                                [
                                                    0.4,
                                                    "#fde0ef"
                                                ],
                                                [
                                                    0.5,
                                                    "#f7f7f7"
                                                ],
                                                [
                                                    0.6,
                                                    "#e6f5d0"
                                                ],
                                                [
                                                    0.7,
                                                    "#b8e186"
                                                ],
                                                [
                                                    0.8,
                                                    "#7fbc41"
                                                ],
                                                [
                                                    0.9,
                                                    "#4d9221"
                                                ],
                                                [
                                                    1,
                                                    "#276419"
                                                ]
                                            ],
                                            "sequential": [
                                                [
                                                    0,
                                                    "#0d0887"
                                                ],
                                                [
                                                    0.1111111111111111,
                                                    "#46039f"
                                                ],
                                                [
                                                    0.2222222222222222,
                                                    "#7201a8"
                                                ],
                                                [
                                                    0.3333333333333333,
                                                    "#9c179e"
                                                ],
                                                [
                                                    0.4444444444444444,
                                                    "#bd3786"
                                                ],
                                                [
                                                    0.5555555555555556,
                                                    "#d8576b"
                                                ],
                                                [
                                                    0.6666666666666666,
                                                    "#ed7953"
                                                ],
                                                [
                                                    0.7777777777777778,
                                                    "#fb9f3a"
                                                ],
                                                [
                                                    0.8888888888888888,
                                                    "#fdca26"
                                                ],
                                                [
                                                    1,
                                                    "#f0f921"
                                                ]
                                            ],
                                            "sequentialminus": [
                                                [
                                                    0,
                                                    "#0d0887"
                                                ],
                                                [
                                                    0.1111111111111111,
                                                    "#46039f"
                                                ],
                                                [
                                                    0.2222222222222222,
                                                    "#7201a8"
                                                ],
                                                [
                                                    0.3333333333333333,
                                                    "#9c179e"
                                                ],
                                                [
                                                    0.4444444444444444,
                                                    "#bd3786"
                                                ],
                                                [
                                                    0.5555555555555556,
                                                    "#d8576b"
                                                ],
                                                [
                                                    0.6666666666666666,
                                                    "#ed7953"
                                                ],
                                                [
                                                    0.7777777777777778,
                                                    "#fb9f3a"
                                                ],
                                                [
                                                    0.8888888888888888,
                                                    "#fdca26"
                                                ],
                                                [
                                                    1,
                                                    "#f0f921"
                                                ]
                                            ]
                                        },
                                        "colorway": [
                                            "#636efa",
                                            "#EF553B",
                                            "#00cc96",
                                            "#ab63fa",
                                            "#FFA15A",
                                            "#19d3f3",
                                            "#FF6692",
                                            "#B6E880",
                                            "#FF97FF",
                                            "#FECB52"
                                        ],
                                        "font": {
                                            "color": "#2a3f5f"
                                        },
                                        "geo": {
                                            "bgcolor": "white",
                                            "lakecolor": "white",
                                            "landcolor": "#E5ECF6",
                                            "showlakes": true,
                                            "showland": true,
                                            "subunitcolor": "white"
                                        },
                                        "hoverlabel": {
                                            "align": "left"
                                        },
                                        "hovermode": "closest",
                                        "mapbox": {
                                            "style": "light"
                                        },
                                        "paper_bgcolor": "white",
                                        "plot_bgcolor": "#E5ECF6",
                                        "polar": {
                                            "angularaxis": {
                                                "gridcolor": "white",
                                                "linecolor": "white",
                                                "ticks": ""
                                            },
                                            "bgcolor": "#E5ECF6",
                                            "radialaxis": {
                                                "gridcolor": "white",
                                                "linecolor": "white",
                                                "ticks": ""
                                            }
                                        },
                                        "scene": {
                                            "xaxis": {
                                                "backgroundcolor": "#E5ECF6",
                                                "gridcolor": "white",
                                                "gridwidth": 2,
                                                "linecolor": "white",
                                                "showbackground": true,
                                                "ticks": "",
                                                "zerolinecolor": "white"
                                            },
                                            "yaxis": {
                                                "backgroundcolor": "#E5ECF6",
                                                "gridcolor": "white",
                                                "gridwidth": 2,
                                                "linecolor": "white",
                                                "showbackground": true,
                                                "ticks": "",
                                                "zerolinecolor": "white"
                                            },
                                            "zaxis": {
                                                "backgroundcolor": "#E5ECF6",
                                                "gridcolor": "white",
                                                "gridwidth": 2,
                                                "linecolor": "white",
                                                "showbackground": true,
                                                "ticks": "",
                                                "zerolinecolor": "white"
                                            }
                                        },
                                        "shapedefaults": {
                                            "line": {
                                                "color": "#2a3f5f"
                                            }
                                        },
                                        "ternary": {
                                            "aaxis": {
                                                "gridcolor": "white",
                                                "linecolor": "white",
                                                "ticks": ""
                                            },
                                            "baxis": {
                                                "gridcolor": "white",
                                                "linecolor": "white",
                                                "ticks": ""
                                            },
                                            "bgcolor": "#E5ECF6",
                                            "caxis": {
                                                "gridcolor": "white",
                                                "linecolor": "white",
                                                "ticks": ""
                                            }
                                        },
                                        "title": {
                                            "x": 0.05
                                        },
                                        "xaxis": {
                                            "automargin": true,
                                            "gridcolor": "white",
                                            "linecolor": "white",
                                            "ticks": "",
                                            "title": {
                                                "standoff": 15
                                            },
                                            "zerolinecolor": "white",
                                            "zerolinewidth": 2
                                        },
                                        "yaxis": {
                                            "automargin": true,
                                            "gridcolor": "white",
                                            "linecolor": "white",
                                            "ticks": "",
                                            "title": {
                                                "standoff": 15
                                            },
                                            "zerolinecolor": "white",
                                            "zerolinewidth": 2
                                        }
                                    }
                                },
                                "title": {
                                    "text": "Number of login attempts the last day (shown by success/failure)"
                                },
                                "xaxis": {
                                    "autorange": true,
                                    "title": {
                                        "text": "timestamp"
                                    },
                                    "type": "date"
                                },
                                "yaxis": {
                                    "ticksuffix": "",
                                    "title": {
                                        "text": "count"
                                    },
                                    "type": "linear"
                                }
                            }
                        }
                    },
                    "metadata": {},
                    "output_type": "display_data"
                },
                {
                    "data": {
                        "text/plain": "<IPython.core.display.HTML object>",
                        "text/html": "<html>\n        <head>\n            \n            \n        </head>\n        <body>\n            <div><p style='padding: 10px; color: #3a87ad; background-color: #d9edf7; border-color: #bce9f1'>Done&nbsp;(00:00.848):&nbsp;25&nbsp;records</p></div>\n        </body>\n        </html>"
                    },
                    "metadata": {},
                    "output_type": "display_data"
                },
                {
                    "data": {
                        "text/plain": "[{'attemptType': 'Successful login', 'timestamp': datetime.datetime(2020, 9, 2, 18, 0, tzinfo=tzutc()), 'count': 15},\n {'attemptType': 'Successful login', 'timestamp': datetime.datetime(2020, 9, 2, 17, 0, tzinfo=tzutc()), 'count': 40},\n {'attemptType': 'Successful login', 'timestamp': datetime.datetime(2020, 9, 2, 16, 0, tzinfo=tzutc()), 'count': 39},\n {'attemptType': 'Successful login', 'timestamp': datetime.datetime(2020, 9, 2, 13, 0, tzinfo=tzutc()), 'count': 40},\n {'attemptType': 'Successful login', 'timestamp': datetime.datetime(2020, 9, 2, 14, 0, tzinfo=tzutc()), 'count': 40},\n {'attemptType': 'Successful login', 'timestamp': datetime.datetime(2020, 9, 2, 15, 0, tzinfo=tzutc()), 'count': 40},\n {'attemptType': 'Successful login', 'timestamp': datetime.datetime(2020, 9, 2, 9, 0, tzinfo=tzutc()), 'count': 42},\n {'attemptType': 'Successful login', 'timestamp': datetime.datetime(2020, 9, 2, 10, 0, tzinfo=tzutc()), 'count': 39},\n {'attemptType': 'Successful login', 'timestamp': datetime.datetime(2020, 9, 2, 11, 0, tzinfo=tzutc()), 'count': 40},\n {'attemptType': 'Successful login', 'timestamp': datetime.datetime(2020, 9, 2, 12, 0, tzinfo=tzutc()), 'count': 39},\n {'attemptType': 'Successful login', 'timestamp': datetime.datetime(2020, 9, 2, 4, 0, tzinfo=tzutc()), 'count': 39},\n {'attemptType': 'Successful login', 'timestamp': datetime.datetime(2020, 9, 2, 5, 0, tzinfo=tzutc()), 'count': 33},\n {'attemptType': 'Successful login', 'timestamp': datetime.datetime(2020, 9, 2, 6, 0, tzinfo=tzutc()), 'count': 36},\n {'attemptType': 'Successful login', 'timestamp': datetime.datetime(2020, 9, 2, 7, 0, tzinfo=tzutc()), 'count': 39},\n {'attemptType': 'Successful login', 'timestamp': datetime.datetime(2020, 9, 2, 8, 0, tzinfo=tzutc()), 'count': 40},\n {'attemptType': 'Successful login', 'timestamp': datetime.datetime(2020, 9, 2, 3, 0, tzinfo=tzutc()), 'count': 39},\n {'attemptType': 'Successful login', 'timestamp': datetime.datetime(2020, 9, 1, 21, 0, tzinfo=tzutc()), 'count': 40},\n {'attemptType': 'Successful login', 'timestamp': datetime.datetime(2020, 9, 1, 22, 0, tzinfo=tzutc()), 'count': 40},\n {'attemptType': 'Successful login', 'timestamp': datetime.datetime(2020, 9, 1, 23, 0, tzinfo=tzutc()), 'count': 39},\n {'attemptType': 'Successful login', 'timestamp': datetime.datetime(2020, 9, 2, 1, 0, tzinfo=tzutc()), 'count': 39},\n {'attemptType': 'Successful login', 'timestamp': datetime.datetime(2020, 9, 1, 18, 0, tzinfo=tzutc()), 'count': 23},\n {'attemptType': 'Successful login', 'timestamp': datetime.datetime(2020, 9, 1, 19, 0, tzinfo=tzutc()), 'count': 39},\n {'attemptType': 'Successful login', 'timestamp': datetime.datetime(2020, 9, 1, 20, 0, tzinfo=tzutc()), 'count': 39},\n {'attemptType': 'Successful login', 'timestamp': datetime.datetime(2020, 9, 2, 2, 0, tzinfo=tzutc()), 'count': 40},\n {'attemptType': 'Successful login', 'timestamp': datetime.datetime(2020, 9, 2, 0, 0, tzinfo=tzutc()), 'count': 40}]",
                        "text/html": ""
                    },
                    "metadata": {},
                    "execution_count": 39,
                    "output_type": "execute_result"
                }
            ],
            "execution_count": 39
        }
    ]
}