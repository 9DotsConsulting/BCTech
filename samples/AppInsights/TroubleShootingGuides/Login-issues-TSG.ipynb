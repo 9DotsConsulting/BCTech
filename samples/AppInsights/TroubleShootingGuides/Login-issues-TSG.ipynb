{
    "metadata": {
        "kernelspec": {
            "name": "python3",
            "display_name": "Python 3"
        },
        "language_info": {
            "name": "python",
            "version": "3.6.6",
            "mimetype": "text/x-python",
            "codemirror_mode": {
                "name": "ipython",
                "version": 3
            },
            "pygments_lexer": "ipython3",
            "nbconvert_exporter": "python",
            "file_extension": ".py"
        }
    },
    "nbformat_minor": 2,
    "nbformat": 4,
    "cells": [
        {
            "cell_type": "markdown",
            "source": [
                "# Dynamics 365 Business Central Trouble Shooting Guide (TSG) - Login issues (SaaS)\r\n",
                "\r\n",
                "This notebook contains Kusto queries that can help getting to the root cause of a login issue for an environment in the online version of Business Central (SaaS). Each section in the notebook contains links to the TSG part of the authorization telemetry documentation in [aka.ms/bctelemetry](aka.ms/bctelemetry), as well as Kusto queries that help dive into a specific area. \r\n",
                "\r\n",
                "NB! The signal used in this notebook is only available in version 16.2 (or newer) of Business Central online, so check the version of your environment."
            ],
            "metadata": {
                "azdata_cell_guid": "1f608a1d-2436-4b48-80d4-5c4d2f8ca7d0"
            }
        },
        {
            "cell_type": "markdown",
            "source": [
                "## 1. Connect to Application Insights\r\n",
                "First you need to set the notebook Kernel to Python3, load the KQLmagic module (did you install it?) and connect to your Application Insights resource (get appid and appkey from the API access page in the Application Insights portal)"
            ],
            "metadata": {
                "azdata_cell_guid": "f103fae9-cf6d-40f7-9062-11ce50691046"
            }
        },
        {
            "cell_type": "code",
            "source": [
                "# load the KQLmagic module\r\n",
                "%reload_ext Kqlmagic\r\n",
                "\r\n",
                "# Connect to the Application Insights API\r\n",
                "%kql appinsights://appid='<add app id from the Application Insights portal>';appkey='<add API key from the Application Insights portal>'\r\n",
                ""
            ],
            "metadata": {
                "azdata_cell_guid": "a253fa8e-6ac2-4722-a00a-1c52aedab4ed",
                "tags": []
            },
            "outputs": [
                {
                    "output_type": "display_data",
                    "data": {
                        "text/plain": "<IPython.core.display.HTML object>",
                        "text/html": "<!DOCTYPE html>\n            <html><body>\n            <div style=''>\n            <a href='http://127.0.0.1:50388/webbrowser?url=http%3A//127.0.0.1%3A50388/files/.kqlmagic/temp_files/7ce54a1c-a26b-4bd9-ad33-061fb2520fca/popup__962fbf96-f15e-4d37-8f91-13cae96f4b3e_at_applicationinsights_schema.html%3Fkernelid%3D7ce54a1c-a26b-4bd9-ad33-061fb2520fca&kernelid=7ce54a1c-a26b-4bd9-ad33-061fb2520fca' style='padding: 2px 6px 2px 6px; color: #333333; background-color: #EEEEEE; border-top: 1px solid #CCCCCC; border-right: 1px solid #333333; border-bottom: 1px solid #333333; border-left: 1px solid #CCCCCC' target='popup__962fbf96-f15e-4d37-8f91-13cae96f4b3e_at_applicationinsights_schema'>popup schema 962fbf96-f15e-4d37-8f91-13cae96f4b3e@applicationinsights</a>\n            </div>\n            </body></html>"
                    },
                    "metadata": {}
                }
            ],
            "execution_count": 2
        },
        {
            "cell_type": "markdown",
            "source": [
                "## 2. Define filters\r\n",
                "This workbook is designed for troubleshooting a single environment. Please provide values for aadTenantId and environmentName: "
            ],
            "metadata": {
                "azdata_cell_guid": "9ef1220c-d9cc-4552-9297-1428efcafb32"
            }
        },
        {
            "cell_type": "code",
            "source": [
                "# aadTenantId = \"<Add AAD tenant id here>\"\r\n",
                "# environmentName = \"<add environment name here>\"\r\n",
                "\r\n",
                "aadTenantId = \"de612f9e-c3a1-4e62-a824-84eff03fd3af\"\r\n",
                "environmentName = \"Production\""
            ],
            "metadata": {
                "azdata_cell_guid": "0a0785f7-a85e-4ccf-9020-732e1d4c058a",
                "tags": []
            },
            "outputs": [],
            "execution_count": 12
        },
        {
            "cell_type": "markdown",
            "source": [
                "# Analyze the login flow\r\n",
                "Now you can run Kusto queries to look for possible root causes for login issues.\r\n",
                "\r\n",
                "Either click **Run All** above to run all sections, or scroll down to the type of analysis you want to do and manually run queries\r\n",
                "\r\n",
                "Documentation of the authentication and authorization flow: https://docs.microsoft.com/en-us/dynamics365/business-central/dev-itpro/security/security-application\r\n",
                "\r\n",
                "Kusto sample: https://github.com/microsoft/BCTech/blob/master/samples/AppInsights/KQL/RawData/Authorization.kql"
            ],
            "metadata": {
                "azdata_cell_guid": "5f9b698d-8a7e-4757-b27d-02f219d6c589"
            }
        },
        {
            "cell_type": "markdown",
            "source": [
                "## Authentication\r\n",
                "\r\n",
                "Authentication in the online version of Business Central happens strictly in Azure Active Directory (AAD). Only when a user is authenticated in AAD, a session is attempted to be created in the Business Central server (NST). When dealing with login issues, check for *absense* of signal in eventIds for Authorization in the pre-open company of opening a session in the NST (eventIds RT0001 and RT0003) to determine if the issue is related to AAD (e.g. user is disabled, wrong password, failed MFA) or maybe something happening in the customer network (could be a DNS issue, or a changed firewall rule). \r\n",
                "\r\n",
                "**If you do not see any signal for eventIds RT0001 and RT0003, then start troubleshooting network issues first.**\r\n",
                "\r\n",
                "Read more in the Security Guide here: https://docs.microsoft.com/en-us/dynamics365/business-central/dev-itpro/security/security-application#authentication"
            ],
            "metadata": {
                "azdata_cell_guid": "810235a1-c202-47a2-b9dc-4d4d1ffd123c"
            }
        },
        {
            "cell_type": "code",
            "source": [
                "%%kql\r\n",
                "let _aadTenantId = aadTenantId;\r\n",
                "let _environmentName = environmentName;\r\n",
                "traces\r\n",
                "| where 1==1 \r\n",
                "    and timestamp > ago(1d) // adjust accordingly to your analysis\r\n",
                "    and customDimensions.aadTenantId == _aadTenantId\r\n",
                "    and customDimensions.environmentName == _environmentName\r\n",
                "    and customDimensions.eventId in ('RT0001', 'RT0003' )\r\n",
                "| summarize request_count=count() by bin(timestamp, 1h) | render timechart title= 'Number of pre-open company authorization attempts in the last day'"
            ],
            "metadata": {
                "azdata_cell_guid": "6426410c-182a-486c-8466-228cb9ce3228",
                "tags": []
            },
            "outputs": [
                {
                    "output_type": "error",
                    "ename": "SyntaxError",
                    "evalue": "invalid syntax (<ipython-input-3-78c387293ff4>, line 5)",
                    "traceback": [
                        "\u001b[1;36m  File \u001b[1;32m\"<ipython-input-3-78c387293ff4>\"\u001b[1;36m, line \u001b[1;32m5\u001b[0m\n\u001b[1;33m    let _aadTenantId = aadTenantId;\u001b[0m\n\u001b[1;37m                   ^\u001b[0m\n\u001b[1;31mSyntaxError\u001b[0m\u001b[1;31m:\u001b[0m invalid syntax\n"
                    ]
                }
            ],
            "execution_count": 3
        },
        {
            "cell_type": "markdown",
            "source": [
                "## Authorization failures (pre-open company)\r\n",
                "\r\n",
                "A user can fail authorization before the open company trigger is executed for a number of different reasons:\r\n",
                "* The user was successfully authenticated in Azure Active Directory but the user account is disabled in Business Central.\r\n",
                "* A user successfully authenticated in Azure Active Directory but the user does not have any entitlements in Business Central (license issue)\r\n",
                "\r\n",
                "Read more about these types of failures in the authorization signal docs here: https://docs.microsoft.com/en-us/dynamics365/business-central/dev-itpro/administration/telemetry-authorization-trace#authorizationfailedpreopencompany\r\n",
                "\r\n",
                "Kusto query: https://github.com/microsoft/BCTech/blob/master/samples/AppInsights/KQL/RawData/Authorization.kql"
            ],
            "metadata": {
                "azdata_cell_guid": "2f9c2d0d-df3c-482b-af58-48416a517117"
            }
        },
        {
            "cell_type": "code",
            "source": [
                "%%kql\r\n",
                "let _aadTenantId = aadTenantId;\r\n",
                "let _environmentName = environmentName;\r\n",
                "traces\r\n",
                "| where timestamp > ago(1d) // adjust accordingly to your analysis\r\n",
                "    and customDimensions.aadTenantId == _aadTenantId\r\n",
                "    and customDimensions.environmentName == _environmentName\r\n",
                "    and customDimensions.eventId == 'RT0001'\r\n",
                "| project timestamp\r\n",
                ", guestUser = customDimensions.guestUser\r\n",
                ", userType = customDimensions.userType\r\n",
                ", failureReason = customDimensions.failureReason\r\n",
                ", entitlementSetIds = customDimensions.entitlementSetIds\r\n",
                "| order by timestamp desc\r\n",
                "| limit 100"
            ],
            "metadata": {
                "azdata_cell_guid": "a9e923e9-1d05-4acf-a230-4c5142bc3582",
                "tags": []
            },
            "outputs": [
                {
                    "output_type": "display_data",
                    "data": {
                        "text/plain": "<IPython.core.display.HTML object>",
                        "text/html": "<html>\n        <head>\n            \n            \n        </head>\n        <body>\n            <div><p style='padding: 10px; color: #3a87ad; background-color: #d9edf7; border-color: #bce9f1'>&nbsp;*&nbsp;962fbf96-f15e-4d37-8f91-13cae96f4b3e@applicationinsights</p></div>\n        </body>\n        </html>"
                    },
                    "metadata": {}
                },
                {
                    "output_type": "display_data",
                    "data": {
                        "text/plain": "Empty DataFrame\nColumns: [timestamp, guestUser, userType, failureReason, entitlementSetIds]\nIndex: []",
                        "text/html": "<div>\n<style scoped>\n    .dataframe tbody tr th:only-of-type {\n        vertical-align: middle;\n    }\n\n    .dataframe tbody tr th {\n        vertical-align: top;\n    }\n\n    .dataframe thead th {\n        text-align: right;\n    }\n</style>\n<table border=\"1\" class=\"dataframe\">\n  <thead>\n    <tr style=\"text-align: right;\">\n      <th></th>\n      <th>timestamp</th>\n      <th>guestUser</th>\n      <th>userType</th>\n      <th>failureReason</th>\n      <th>entitlementSetIds</th>\n    </tr>\n  </thead>\n  <tbody>\n  </tbody>\n</table>\n</div>",
                        "application/vnd.dataresource+json": {
                            "schema": {
                                "fields": [
                                    {
                                        "name": "timestamp",
                                        "type": "datetime"
                                    },
                                    {
                                        "name": "guestUser",
                                        "type": "string"
                                    },
                                    {
                                        "name": "userType",
                                        "type": "string"
                                    },
                                    {
                                        "name": "failureReason",
                                        "type": "string"
                                    },
                                    {
                                        "name": "entitlementSetIds",
                                        "type": "string"
                                    }
                                ],
                                "kqmagic_version": "0.1.113"
                            },
                            "data": []
                        }
                    },
                    "metadata": {}
                },
                {
                    "output_type": "display_data",
                    "data": {
                        "text/plain": "<IPython.core.display.HTML object>",
                        "text/html": "<html>\n        <head>\n            \n            \n        </head>\n        <body>\n            <div><p style='padding: 10px; color: #3a87ad; background-color: #d9edf7; border-color: #bce9f1'>Done&nbsp;(00:00.491):&nbsp;0&nbsp;records</p></div>\n        </body>\n        </html>"
                    },
                    "metadata": {}
                },
                {
                    "output_type": "execute_result",
                    "execution_count": 14,
                    "data": {
                        "text/plain": "[]",
                        "text/html": ""
                    },
                    "metadata": {}
                }
            ],
            "execution_count": 14
        },
        {
            "cell_type": "markdown",
            "source": [
                "## Authorization failures (in the open company process)\r\n",
                "\r\n",
                "Events show up here for a number of different reasons\r\n",
                "* The company name is invalid\r\n",
                "* User has no permission to access the company\r\n",
                "* The environment is locked\r\n",
                "* The license has expired or the trial period has ended\r\n",
                "* The user's license is not valid for use on production companies\r\n",
                "\r\n",
                "Read more in the authorization signal docs here: https://docs.microsoft.com/en-us/dynamics365/business-central/dev-itpro/administration/telemetry-authorization-trace#authorization-failed-open-company\r\n",
                "\r\n",
                "Kusto query: https://github.com/microsoft/BCTech/blob/master/samples/AppInsights/KQL/RawData/Authorization.kql\r\n",
                ""
            ],
            "metadata": {
                "azdata_cell_guid": "2f7e604a-0d02-484e-9bcb-a6aa148d5f0b"
            }
        },
        {
            "cell_type": "code",
            "source": [
                "%%kql\r\n",
                "let _aadTenantId = aadTenantId;\r\n",
                "let _environmentName = environmentName;\r\n",
                "traces\r\n",
                "| where timestamp > ago(1d) // adjust accordingly to your analysis\r\n",
                "    and customDimensions.aadTenantId == _aadTenantId\r\n",
                "    and customDimensions.environmentName == _environmentName\r\n",
                "    and customDimensions.eventId == 'RT0002'\r\n",
                "| project timestamp\r\n",
                ", clientType = customDimensions.clientType\r\n",
                ", companyName = customDimensions.companyName\r\n",
                ", failureReason = customDimensions.failureReason\r\n",
                "| order by timestamp desc\r\n",
                "| limit 100"
            ],
            "metadata": {
                "azdata_cell_guid": "9ec9b678-7d66-4758-9101-4e9e5025dfcf",
                "tags": []
            },
            "outputs": [
                {
                    "output_type": "display_data",
                    "data": {
                        "text/plain": "<IPython.core.display.HTML object>",
                        "text/html": "<html>\n        <head>\n            \n            \n        </head>\n        <body>\n            <div><p style='padding: 10px; color: #3a87ad; background-color: #d9edf7; border-color: #bce9f1'>&nbsp;*&nbsp;962fbf96-f15e-4d37-8f91-13cae96f4b3e@applicationinsights</p></div>\n        </body>\n        </html>"
                    },
                    "metadata": {}
                },
                {
                    "output_type": "display_data",
                    "data": {
                        "text/plain": "Empty DataFrame\nColumns: [timestamp, clientType, companyName, failureReason]\nIndex: []",
                        "text/html": "<div>\n<style scoped>\n    .dataframe tbody tr th:only-of-type {\n        vertical-align: middle;\n    }\n\n    .dataframe tbody tr th {\n        vertical-align: top;\n    }\n\n    .dataframe thead th {\n        text-align: right;\n    }\n</style>\n<table border=\"1\" class=\"dataframe\">\n  <thead>\n    <tr style=\"text-align: right;\">\n      <th></th>\n      <th>timestamp</th>\n      <th>clientType</th>\n      <th>companyName</th>\n      <th>failureReason</th>\n    </tr>\n  </thead>\n  <tbody>\n  </tbody>\n</table>\n</div>",
                        "application/vnd.dataresource+json": {
                            "schema": {
                                "fields": [
                                    {
                                        "name": "timestamp",
                                        "type": "datetime"
                                    },
                                    {
                                        "name": "clientType",
                                        "type": "string"
                                    },
                                    {
                                        "name": "companyName",
                                        "type": "string"
                                    },
                                    {
                                        "name": "failureReason",
                                        "type": "string"
                                    }
                                ],
                                "kqmagic_version": "0.1.113"
                            },
                            "data": []
                        }
                    },
                    "metadata": {}
                },
                {
                    "output_type": "display_data",
                    "data": {
                        "text/plain": "<IPython.core.display.HTML object>",
                        "text/html": "<html>\n        <head>\n            \n            \n        </head>\n        <body>\n            <div><p style='padding: 10px; color: #3a87ad; background-color: #d9edf7; border-color: #bce9f1'>Done&nbsp;(00:00.578):&nbsp;0&nbsp;records</p></div>\n        </body>\n        </html>"
                    },
                    "metadata": {}
                },
                {
                    "output_type": "execute_result",
                    "execution_count": 15,
                    "data": {
                        "text/plain": "[]",
                        "text/html": ""
                    },
                    "metadata": {}
                }
            ],
            "execution_count": 15
        },
        {
            "cell_type": "markdown",
            "source": [
                "## Successful logins (authentication in AAD succeded, authorization in the Business Central server succeeded)\r\n",
                "\r\n",
                "If the user can authenticate against AAD and the two authorization steps inside the Business Central server succeeds, then a session is created and the user has successfully logged in.\r\n",
                "\r\n",
                "Read more about application security in the Security Guide here:  https://docs.microsoft.com/en-us/dynamics365/business-central/dev-itpro/security/security-application#authentication\r\n",
                "\r\n",
                "Kusto query: https://github.com/microsoft/BCTech/blob/master/samples/AppInsights/KQL/RawData/Authorization.kql"
            ],
            "metadata": {
                "azdata_cell_guid": "7ed10cbf-6380-4591-ad66-8dc6b886ba48"
            }
        },
        {
            "cell_type": "code",
            "source": [
                "%%kql\r\n",
                "let _aadTenantId = aadTenantId;\r\n",
                "let _environmentName = environmentName;\r\n",
                "traces\r\n",
                "| where timestamp > ago(1d) // adjust accordingly to your analysis\r\n",
                "    and customDimensions.aadTenantId == _aadTenantId\r\n",
                "    and customDimensions.environmentName == _environmentName\r\n",
                "    and customDimensions.eventId == 'RT0004'\r\n",
                "| project timestamp\r\n",
                ", clientType = customDimensions.clientType\r\n",
                ", companyName = customDimensions.companyName\r\n",
                ", totalTimeInMS = toreal(totimespan(customDimensions.totalTime))/10000 // totalTime is measured in ticks, divide by 10000 to get milliseconds\r\n",
                "| order by timestamp desc\r\n",
                "| limit 100"
            ],
            "metadata": {
                "azdata_cell_guid": "f8e7955e-2b86-410b-98ad-f4979d85e879"
            },
            "outputs": [
                {
                    "output_type": "display_data",
                    "data": {
                        "text/plain": "<IPython.core.display.HTML object>",
                        "text/html": "<html>\n        <head>\n            \n            \n        </head>\n        <body>\n            <div><p style='padding: 10px; color: #3a87ad; background-color: #d9edf7; border-color: #bce9f1'>&nbsp;*&nbsp;962fbf96-f15e-4d37-8f91-13cae96f4b3e@applicationinsights</p></div>\n        </body>\n        </html>"
                    },
                    "metadata": {}
                },
                {
                    "output_type": "display_data",
                    "data": {
                        "text/plain": "                             timestamp  clientType       companyName  \\\n0  2020-09-03 11:58:45.304946600+00:00  Background  CRONUS USA, Inc.   \n1  2020-09-03 11:52:42.953805500+00:00  Background  CRONUS USA, Inc.   \n2     2020-09-03 11:42:06.935431+00:00  Background  CRONUS USA, Inc.   \n3  2020-09-03 10:53:29.835902100+00:00  Background  CRONUS USA, Inc.   \n4  2020-09-03 10:12:32.382961900+00:00  Background  CRONUS USA, Inc.   \n5  2020-09-03 10:01:57.423682300+00:00  Background  CRONUS USA, Inc.   \n6  2020-09-03 09:39:13.287199800+00:00  Background  CRONUS USA, Inc.   \n7  2020-09-03 09:25:36.178364400+00:00  Background  CRONUS USA, Inc.   \n8  2020-09-03 09:24:05.476836500+00:00  Background  CRONUS USA, Inc.   \n9  2020-09-03 09:22:34.431727600+00:00  Background  CRONUS USA, Inc.   \n10 2020-09-03 09:21:04.001971500+00:00  Background  CRONUS USA, Inc.   \n11 2020-09-03 09:19:33.516535600+00:00  Background  CRONUS USA, Inc.   \n12 2020-09-03 09:18:02.735723800+00:00  Background  CRONUS USA, Inc.   \n13 2020-09-03 09:16:31.755434400+00:00  Background  CRONUS USA, Inc.   \n14 2020-09-03 09:15:01.310163800+00:00  Background  CRONUS USA, Inc.   \n15 2020-09-03 09:13:30.803924800+00:00  Background  CRONUS USA, Inc.   \n16 2020-09-03 09:12:00.066613900+00:00  Background  CRONUS USA, Inc.   \n17 2020-09-03 09:10:29.016694500+00:00  Background  CRONUS USA, Inc.   \n18 2020-09-03 09:09:10.615809500+00:00  Background  CRONUS USA, Inc.   \n19 2020-09-03 09:09:01.573133200+00:00  Background  CRONUS USA, Inc.   \n20 2020-09-03 09:08:58.570391600+00:00  Background  CRONUS USA, Inc.   \n21 2020-09-03 09:07:28.078648400+00:00  Background  CRONUS USA, Inc.   \n22 2020-09-03 09:05:57.244591100+00:00  Background  CRONUS USA, Inc.   \n23 2020-09-03 09:04:26.143506300+00:00  Background  CRONUS USA, Inc.   \n24 2020-09-03 09:02:55.662813600+00:00  Background  CRONUS USA, Inc.   \n25 2020-09-03 09:01:25.262869800+00:00  Background  CRONUS USA, Inc.   \n26 2020-09-03 08:59:54.174976200+00:00  Background  CRONUS USA, Inc.   \n27 2020-09-03 08:58:23.125393800+00:00  Background  CRONUS USA, Inc.   \n28 2020-09-03 08:56:52.521781500+00:00  Background  CRONUS USA, Inc.   \n29 2020-09-03 08:55:08.808624200+00:00  Background  CRONUS USA, Inc.   \n30 2020-09-03 08:53:37.928208600+00:00  Background  CRONUS USA, Inc.   \n31 2020-09-03 08:52:06.930961500+00:00  Background  CRONUS USA, Inc.   \n32 2020-09-03 08:50:36.494087500+00:00  Background  CRONUS USA, Inc.   \n33 2020-09-03 08:49:05.427968800+00:00  Background  CRONUS USA, Inc.   \n34 2020-09-03 08:47:34.686224500+00:00  Background  CRONUS USA, Inc.   \n35 2020-09-03 08:46:03.610945900+00:00  Background  CRONUS USA, Inc.   \n36 2020-09-03 08:44:33.168392800+00:00  Background  CRONUS USA, Inc.   \n37 2020-09-03 08:43:02.794582500+00:00  Background  CRONUS USA, Inc.   \n38 2020-09-03 08:41:32.045922400+00:00  Background  CRONUS USA, Inc.   \n39 2020-09-03 08:40:00.990287600+00:00  Background  CRONUS USA, Inc.   \n40 2020-09-03 08:38:30.534281300+00:00  Background  CRONUS USA, Inc.   \n41 2020-09-03 08:37:00.084122300+00:00  Background  CRONUS USA, Inc.   \n42 2020-09-03 08:35:29.376036800+00:00  Background  CRONUS USA, Inc.   \n43 2020-09-03 08:33:58.291318900+00:00  Background  CRONUS USA, Inc.   \n44 2020-09-03 08:32:27.906928200+00:00  Background  CRONUS USA, Inc.   \n45 2020-09-03 08:30:57.548760100+00:00  Background  CRONUS USA, Inc.   \n46 2020-09-03 08:29:26.721207700+00:00  Background  CRONUS USA, Inc.   \n47 2020-09-03 08:27:52.726973100+00:00  Background  CRONUS USA, Inc.   \n48 2020-09-03 08:26:22.207073100+00:00  Background  CRONUS USA, Inc.   \n49 2020-09-03 08:24:51.712324900+00:00  Background  CRONUS USA, Inc.   \n50 2020-09-03 08:23:20.849819300+00:00  Background  CRONUS USA, Inc.   \n51 2020-09-03 08:21:49.736765100+00:00  Background  CRONUS USA, Inc.   \n52 2020-09-03 08:20:19.346456600+00:00  Background  CRONUS USA, Inc.   \n53 2020-09-03 08:18:48.846962300+00:00  Background  CRONUS USA, Inc.   \n54 2020-09-03 08:17:18.085699400+00:00  Background  CRONUS USA, Inc.   \n55    2020-09-03 08:15:47.020636+00:00  Background  CRONUS USA, Inc.   \n56 2020-09-03 08:14:16.655844600+00:00  Background  CRONUS USA, Inc.   \n57 2020-09-03 08:12:46.270965300+00:00  Background  CRONUS USA, Inc.   \n58 2020-09-03 08:11:15.524950900+00:00  Background  CRONUS USA, Inc.   \n59 2020-09-03 08:09:44.024975300+00:00  Background  CRONUS USA, Inc.   \n60 2020-09-03 08:07:59.136866100+00:00  Background  CRONUS USA, Inc.   \n61 2020-09-03 08:06:28.736731700+00:00  Background  CRONUS USA, Inc.   \n62 2020-09-03 08:04:57.998579700+00:00  Background  CRONUS USA, Inc.   \n63 2020-09-03 08:03:26.821200100+00:00  Background  CRONUS USA, Inc.   \n64 2020-09-03 08:01:56.296767200+00:00  Background  CRONUS USA, Inc.   \n65 2020-09-03 08:00:25.883319200+00:00  Background  CRONUS USA, Inc.   \n66 2020-09-03 07:58:55.127233800+00:00  Background  CRONUS USA, Inc.   \n67 2020-09-03 07:57:24.097367500+00:00  Background  CRONUS USA, Inc.   \n68 2020-09-03 07:55:53.807262400+00:00  Background  CRONUS USA, Inc.   \n69 2020-09-03 07:54:23.384147500+00:00  Background  CRONUS USA, Inc.   \n70 2020-09-03 07:52:52.602501300+00:00  Background  CRONUS USA, Inc.   \n71 2020-09-03 07:51:21.619925300+00:00  Background  CRONUS USA, Inc.   \n72 2020-09-03 07:49:51.227334600+00:00  Background  CRONUS USA, Inc.   \n73 2020-09-03 07:48:20.276375500+00:00  Background  CRONUS USA, Inc.   \n74 2020-09-03 07:46:49.516686900+00:00  Background  CRONUS USA, Inc.   \n75 2020-09-03 07:45:18.444789300+00:00  Background  CRONUS USA, Inc.   \n76 2020-09-03 07:43:47.714887900+00:00  Background  CRONUS USA, Inc.   \n77 2020-09-03 07:42:17.630860200+00:00  Background  CRONUS USA, Inc.   \n78 2020-09-03 07:40:46.467664500+00:00  Background  CRONUS USA, Inc.   \n79 2020-09-03 07:39:14.686159800+00:00  Background  CRONUS USA, Inc.   \n80 2020-09-03 07:37:44.215132900+00:00  Background  CRONUS USA, Inc.   \n81 2020-09-03 07:36:13.788627300+00:00  Background  CRONUS USA, Inc.   \n82 2020-09-03 07:34:42.864109300+00:00  Background  CRONUS USA, Inc.   \n83 2020-09-03 07:33:11.802850800+00:00  Background  CRONUS USA, Inc.   \n84 2020-09-03 07:31:41.303379400+00:00  Background  CRONUS USA, Inc.   \n85 2020-09-03 07:30:10.974139100+00:00  Background  CRONUS USA, Inc.   \n86 2020-09-03 07:28:40.001878300+00:00  Background  CRONUS USA, Inc.   \n87 2020-09-03 07:27:08.746784800+00:00  Background  CRONUS USA, Inc.   \n88 2020-09-03 07:25:22.800613400+00:00  Background  CRONUS USA, Inc.   \n89 2020-09-03 07:23:52.519573700+00:00  Background  CRONUS USA, Inc.   \n90 2020-09-03 07:22:21.696692100+00:00  Background  CRONUS USA, Inc.   \n91 2020-09-03 07:20:50.048796600+00:00  Background  CRONUS USA, Inc.   \n92 2020-09-03 07:19:19.640427100+00:00  Background  CRONUS USA, Inc.   \n93 2020-09-03 07:17:49.311329300+00:00  Background  CRONUS USA, Inc.   \n94    2020-09-03 07:16:18.625569+00:00  Background  CRONUS USA, Inc.   \n95 2020-09-03 07:14:47.308953400+00:00  Background  CRONUS USA, Inc.   \n96    2020-09-03 07:13:16.965551+00:00  Background  CRONUS USA, Inc.   \n97    2020-09-03 07:11:46.581315+00:00  Background  CRONUS USA, Inc.   \n98 2020-09-03 07:10:16.338962600+00:00  Background  CRONUS USA, Inc.   \n99 2020-09-03 07:08:45.307809100+00:00  Background  CRONUS USA, Inc.   \n\n    totalTimeInMS  \n0          4.2552  \n1          4.3144  \n2          4.7628  \n3          4.2954  \n4          3.9229  \n5         10.1692  \n6          7.5228  \n7          4.0502  \n8          4.3996  \n9         13.1957  \n10         6.6180  \n11         4.1560  \n12         4.1817  \n13         4.0502  \n14         5.4758  \n15         7.1922  \n16         4.3704  \n17        10.7737  \n18         4.0457  \n19         4.2168  \n20        10.6628  \n21         4.9263  \n22        10.3942  \n23         4.1373  \n24         4.1878  \n25         5.6998  \n26         3.9375  \n27         4.2864  \n28         4.1345  \n29         4.0946  \n30         3.8707  \n31         4.2821  \n32         4.2751  \n33         9.8240  \n34         4.1630  \n35         4.2292  \n36         3.9615  \n37         4.0648  \n38         4.4663  \n39         4.4347  \n40         4.3686  \n41         4.1417  \n42         4.3359  \n43         9.7654  \n44         4.2483  \n45         4.3867  \n46        10.0482  \n47         4.2562  \n48         7.1468  \n49        10.3808  \n50        11.7601  \n51         3.8991  \n52         3.8751  \n53         4.5493  \n54        13.6279  \n55         4.1489  \n56         4.1005  \n57         4.2571  \n58         4.1238  \n59         7.1975  \n60         4.4229  \n61         3.7692  \n62         4.1315  \n63         4.3415  \n64        10.1028  \n65         4.5014  \n66         3.9696  \n67         3.8011  \n68        10.7311  \n69         4.1693  \n70         4.4187  \n71         4.2030  \n72         4.6095  \n73         4.1397  \n74         4.5561  \n75         4.6366  \n76         4.1065  \n77         8.4761  \n78         4.8424  \n79        10.6526  \n80         4.2862  \n81        11.0434  \n82         9.7561  \n83         4.6147  \n84         4.2221  \n85         4.0193  \n86        12.1361  \n87         3.7806  \n88         7.0619  \n89         9.7086  \n90         4.3059  \n91        12.8949  \n92         9.4339  \n93         4.2427  \n94         4.0587  \n95         4.2750  \n96         4.9665  \n97        11.9667  \n98        12.1521  \n99         4.5657  ",
                        "text/html": "<div>\n<style scoped>\n    .dataframe tbody tr th:only-of-type {\n        vertical-align: middle;\n    }\n\n    .dataframe tbody tr th {\n        vertical-align: top;\n    }\n\n    .dataframe thead th {\n        text-align: right;\n    }\n</style>\n<table border=\"1\" class=\"dataframe\">\n  <thead>\n    <tr style=\"text-align: right;\">\n      <th></th>\n      <th>timestamp</th>\n      <th>clientType</th>\n      <th>companyName</th>\n      <th>totalTimeInMS</th>\n    </tr>\n  </thead>\n  <tbody>\n    <tr>\n      <th>0</th>\n      <td>2020-09-03 11:58:45.304946600+00:00</td>\n      <td>Background</td>\n      <td>CRONUS USA, Inc.</td>\n      <td>4.2552</td>\n    </tr>\n    <tr>\n      <th>1</th>\n      <td>2020-09-03 11:52:42.953805500+00:00</td>\n      <td>Background</td>\n      <td>CRONUS USA, Inc.</td>\n      <td>4.3144</td>\n    </tr>\n    <tr>\n      <th>2</th>\n      <td>2020-09-03 11:42:06.935431+00:00</td>\n      <td>Background</td>\n      <td>CRONUS USA, Inc.</td>\n      <td>4.7628</td>\n    </tr>\n    <tr>\n      <th>3</th>\n      <td>2020-09-03 10:53:29.835902100+00:00</td>\n      <td>Background</td>\n      <td>CRONUS USA, Inc.</td>\n      <td>4.2954</td>\n    </tr>\n    <tr>\n      <th>4</th>\n      <td>2020-09-03 10:12:32.382961900+00:00</td>\n      <td>Background</td>\n      <td>CRONUS USA, Inc.</td>\n      <td>3.9229</td>\n    </tr>\n    <tr>\n      <th>5</th>\n      <td>2020-09-03 10:01:57.423682300+00:00</td>\n      <td>Background</td>\n      <td>CRONUS USA, Inc.</td>\n      <td>10.1692</td>\n    </tr>\n    <tr>\n      <th>6</th>\n      <td>2020-09-03 09:39:13.287199800+00:00</td>\n      <td>Background</td>\n      <td>CRONUS USA, Inc.</td>\n      <td>7.5228</td>\n    </tr>\n    <tr>\n      <th>7</th>\n      <td>2020-09-03 09:25:36.178364400+00:00</td>\n      <td>Background</td>\n      <td>CRONUS USA, Inc.</td>\n      <td>4.0502</td>\n    </tr>\n    <tr>\n      <th>8</th>\n      <td>2020-09-03 09:24:05.476836500+00:00</td>\n      <td>Background</td>\n      <td>CRONUS USA, Inc.</td>\n      <td>4.3996</td>\n    </tr>\n    <tr>\n      <th>9</th>\n      <td>2020-09-03 09:22:34.431727600+00:00</td>\n      <td>Background</td>\n      <td>CRONUS USA, Inc.</td>\n      <td>13.1957</td>\n    </tr>\n    <tr>\n      <th>10</th>\n      <td>2020-09-03 09:21:04.001971500+00:00</td>\n      <td>Background</td>\n      <td>CRONUS USA, Inc.</td>\n      <td>6.6180</td>\n    </tr>\n    <tr>\n      <th>11</th>\n      <td>2020-09-03 09:19:33.516535600+00:00</td>\n      <td>Background</td>\n      <td>CRONUS USA, Inc.</td>\n      <td>4.1560</td>\n    </tr>\n    <tr>\n      <th>12</th>\n      <td>2020-09-03 09:18:02.735723800+00:00</td>\n      <td>Background</td>\n      <td>CRONUS USA, Inc.</td>\n      <td>4.1817</td>\n    </tr>\n    <tr>\n      <th>13</th>\n      <td>2020-09-03 09:16:31.755434400+00:00</td>\n      <td>Background</td>\n      <td>CRONUS USA, Inc.</td>\n      <td>4.0502</td>\n    </tr>\n    <tr>\n      <th>14</th>\n      <td>2020-09-03 09:15:01.310163800+00:00</td>\n      <td>Background</td>\n      <td>CRONUS USA, Inc.</td>\n      <td>5.4758</td>\n    </tr>\n    <tr>\n      <th>15</th>\n      <td>2020-09-03 09:13:30.803924800+00:00</td>\n      <td>Background</td>\n      <td>CRONUS USA, Inc.</td>\n      <td>7.1922</td>\n    </tr>\n    <tr>\n      <th>16</th>\n      <td>2020-09-03 09:12:00.066613900+00:00</td>\n      <td>Background</td>\n      <td>CRONUS USA, Inc.</td>\n      <td>4.3704</td>\n    </tr>\n    <tr>\n      <th>17</th>\n      <td>2020-09-03 09:10:29.016694500+00:00</td>\n      <td>Background</td>\n      <td>CRONUS USA, Inc.</td>\n      <td>10.7737</td>\n    </tr>\n    <tr>\n      <th>18</th>\n      <td>2020-09-03 09:09:10.615809500+00:00</td>\n      <td>Background</td>\n      <td>CRONUS USA, Inc.</td>\n      <td>4.0457</td>\n    </tr>\n    <tr>\n      <th>19</th>\n      <td>2020-09-03 09:09:01.573133200+00:00</td>\n      <td>Background</td>\n      <td>CRONUS USA, Inc.</td>\n      <td>4.2168</td>\n    </tr>\n    <tr>\n      <th>20</th>\n      <td>2020-09-03 09:08:58.570391600+00:00</td>\n      <td>Background</td>\n      <td>CRONUS USA, Inc.</td>\n      <td>10.6628</td>\n    </tr>\n    <tr>\n      <th>21</th>\n      <td>2020-09-03 09:07:28.078648400+00:00</td>\n      <td>Background</td>\n      <td>CRONUS USA, Inc.</td>\n      <td>4.9263</td>\n    </tr>\n    <tr>\n      <th>22</th>\n      <td>2020-09-03 09:05:57.244591100+00:00</td>\n      <td>Background</td>\n      <td>CRONUS USA, Inc.</td>\n      <td>10.3942</td>\n    </tr>\n    <tr>\n      <th>23</th>\n      <td>2020-09-03 09:04:26.143506300+00:00</td>\n      <td>Background</td>\n      <td>CRONUS USA, Inc.</td>\n      <td>4.1373</td>\n    </tr>\n    <tr>\n      <th>24</th>\n      <td>2020-09-03 09:02:55.662813600+00:00</td>\n      <td>Background</td>\n      <td>CRONUS USA, Inc.</td>\n      <td>4.1878</td>\n    </tr>\n    <tr>\n      <th>25</th>\n      <td>2020-09-03 09:01:25.262869800+00:00</td>\n      <td>Background</td>\n      <td>CRONUS USA, Inc.</td>\n      <td>5.6998</td>\n    </tr>\n    <tr>\n      <th>26</th>\n      <td>2020-09-03 08:59:54.174976200+00:00</td>\n      <td>Background</td>\n      <td>CRONUS USA, Inc.</td>\n      <td>3.9375</td>\n    </tr>\n    <tr>\n      <th>27</th>\n      <td>2020-09-03 08:58:23.125393800+00:00</td>\n      <td>Background</td>\n      <td>CRONUS USA, Inc.</td>\n      <td>4.2864</td>\n    </tr>\n    <tr>\n      <th>28</th>\n      <td>2020-09-03 08:56:52.521781500+00:00</td>\n      <td>Background</td>\n      <td>CRONUS USA, Inc.</td>\n      <td>4.1345</td>\n    </tr>\n    <tr>\n      <th>29</th>\n      <td>2020-09-03 08:55:08.808624200+00:00</td>\n      <td>Background</td>\n      <td>CRONUS USA, Inc.</td>\n      <td>4.0946</td>\n    </tr>\n    <tr>\n      <th>30</th>\n      <td>2020-09-03 08:53:37.928208600+00:00</td>\n      <td>Background</td>\n      <td>CRONUS USA, Inc.</td>\n      <td>3.8707</td>\n    </tr>\n    <tr>\n      <th>31</th>\n      <td>2020-09-03 08:52:06.930961500+00:00</td>\n      <td>Background</td>\n      <td>CRONUS USA, Inc.</td>\n      <td>4.2821</td>\n    </tr>\n    <tr>\n      <th>32</th>\n      <td>2020-09-03 08:50:36.494087500+00:00</td>\n      <td>Background</td>\n      <td>CRONUS USA, Inc.</td>\n      <td>4.2751</td>\n    </tr>\n    <tr>\n      <th>33</th>\n      <td>2020-09-03 08:49:05.427968800+00:00</td>\n      <td>Background</td>\n      <td>CRONUS USA, Inc.</td>\n      <td>9.8240</td>\n    </tr>\n    <tr>\n      <th>34</th>\n      <td>2020-09-03 08:47:34.686224500+00:00</td>\n      <td>Background</td>\n      <td>CRONUS USA, Inc.</td>\n      <td>4.1630</td>\n    </tr>\n    <tr>\n      <th>35</th>\n      <td>2020-09-03 08:46:03.610945900+00:00</td>\n      <td>Background</td>\n      <td>CRONUS USA, Inc.</td>\n      <td>4.2292</td>\n    </tr>\n    <tr>\n      <th>36</th>\n      <td>2020-09-03 08:44:33.168392800+00:00</td>\n      <td>Background</td>\n      <td>CRONUS USA, Inc.</td>\n      <td>3.9615</td>\n    </tr>\n    <tr>\n      <th>37</th>\n      <td>2020-09-03 08:43:02.794582500+00:00</td>\n      <td>Background</td>\n      <td>CRONUS USA, Inc.</td>\n      <td>4.0648</td>\n    </tr>\n    <tr>\n      <th>38</th>\n      <td>2020-09-03 08:41:32.045922400+00:00</td>\n      <td>Background</td>\n      <td>CRONUS USA, Inc.</td>\n      <td>4.4663</td>\n    </tr>\n    <tr>\n      <th>39</th>\n      <td>2020-09-03 08:40:00.990287600+00:00</td>\n      <td>Background</td>\n      <td>CRONUS USA, Inc.</td>\n      <td>4.4347</td>\n    </tr>\n    <tr>\n      <th>40</th>\n      <td>2020-09-03 08:38:30.534281300+00:00</td>\n      <td>Background</td>\n      <td>CRONUS USA, Inc.</td>\n      <td>4.3686</td>\n    </tr>\n    <tr>\n      <th>41</th>\n      <td>2020-09-03 08:37:00.084122300+00:00</td>\n      <td>Background</td>\n      <td>CRONUS USA, Inc.</td>\n      <td>4.1417</td>\n    </tr>\n    <tr>\n      <th>42</th>\n      <td>2020-09-03 08:35:29.376036800+00:00</td>\n      <td>Background</td>\n      <td>CRONUS USA, Inc.</td>\n      <td>4.3359</td>\n    </tr>\n    <tr>\n      <th>43</th>\n      <td>2020-09-03 08:33:58.291318900+00:00</td>\n      <td>Background</td>\n      <td>CRONUS USA, Inc.</td>\n      <td>9.7654</td>\n    </tr>\n    <tr>\n      <th>44</th>\n      <td>2020-09-03 08:32:27.906928200+00:00</td>\n      <td>Background</td>\n      <td>CRONUS USA, Inc.</td>\n      <td>4.2483</td>\n    </tr>\n    <tr>\n      <th>45</th>\n      <td>2020-09-03 08:30:57.548760100+00:00</td>\n      <td>Background</td>\n      <td>CRONUS USA, Inc.</td>\n      <td>4.3867</td>\n    </tr>\n    <tr>\n      <th>46</th>\n      <td>2020-09-03 08:29:26.721207700+00:00</td>\n      <td>Background</td>\n      <td>CRONUS USA, Inc.</td>\n      <td>10.0482</td>\n    </tr>\n    <tr>\n      <th>47</th>\n      <td>2020-09-03 08:27:52.726973100+00:00</td>\n      <td>Background</td>\n      <td>CRONUS USA, Inc.</td>\n      <td>4.2562</td>\n    </tr>\n    <tr>\n      <th>48</th>\n      <td>2020-09-03 08:26:22.207073100+00:00</td>\n      <td>Background</td>\n      <td>CRONUS USA, Inc.</td>\n      <td>7.1468</td>\n    </tr>\n    <tr>\n      <th>49</th>\n      <td>2020-09-03 08:24:51.712324900+00:00</td>\n      <td>Background</td>\n      <td>CRONUS USA, Inc.</td>\n      <td>10.3808</td>\n    </tr>\n    <tr>\n      <th>50</th>\n      <td>2020-09-03 08:23:20.849819300+00:00</td>\n      <td>Background</td>\n      <td>CRONUS USA, Inc.</td>\n      <td>11.7601</td>\n    </tr>\n    <tr>\n      <th>51</th>\n      <td>2020-09-03 08:21:49.736765100+00:00</td>\n      <td>Background</td>\n      <td>CRONUS USA, Inc.</td>\n      <td>3.8991</td>\n    </tr>\n    <tr>\n      <th>52</th>\n      <td>2020-09-03 08:20:19.346456600+00:00</td>\n      <td>Background</td>\n      <td>CRONUS USA, Inc.</td>\n      <td>3.8751</td>\n    </tr>\n    <tr>\n      <th>53</th>\n      <td>2020-09-03 08:18:48.846962300+00:00</td>\n      <td>Background</td>\n      <td>CRONUS USA, Inc.</td>\n      <td>4.5493</td>\n    </tr>\n    <tr>\n      <th>54</th>\n      <td>2020-09-03 08:17:18.085699400+00:00</td>\n      <td>Background</td>\n      <td>CRONUS USA, Inc.</td>\n      <td>13.6279</td>\n    </tr>\n    <tr>\n      <th>55</th>\n      <td>2020-09-03 08:15:47.020636+00:00</td>\n      <td>Background</td>\n      <td>CRONUS USA, Inc.</td>\n      <td>4.1489</td>\n    </tr>\n    <tr>\n      <th>56</th>\n      <td>2020-09-03 08:14:16.655844600+00:00</td>\n      <td>Background</td>\n      <td>CRONUS USA, Inc.</td>\n      <td>4.1005</td>\n    </tr>\n    <tr>\n      <th>57</th>\n      <td>2020-09-03 08:12:46.270965300+00:00</td>\n      <td>Background</td>\n      <td>CRONUS USA, Inc.</td>\n      <td>4.2571</td>\n    </tr>\n    <tr>\n      <th>58</th>\n      <td>2020-09-03 08:11:15.524950900+00:00</td>\n      <td>Background</td>\n      <td>CRONUS USA, Inc.</td>\n      <td>4.1238</td>\n    </tr>\n    <tr>\n      <th>59</th>\n      <td>2020-09-03 08:09:44.024975300+00:00</td>\n      <td>Background</td>\n      <td>CRONUS USA, Inc.</td>\n      <td>7.1975</td>\n    </tr>\n    <tr>\n      <th>60</th>\n      <td>2020-09-03 08:07:59.136866100+00:00</td>\n      <td>Background</td>\n      <td>CRONUS USA, Inc.</td>\n      <td>4.4229</td>\n    </tr>\n    <tr>\n      <th>61</th>\n      <td>2020-09-03 08:06:28.736731700+00:00</td>\n      <td>Background</td>\n      <td>CRONUS USA, Inc.</td>\n      <td>3.7692</td>\n    </tr>\n    <tr>\n      <th>62</th>\n      <td>2020-09-03 08:04:57.998579700+00:00</td>\n      <td>Background</td>\n      <td>CRONUS USA, Inc.</td>\n      <td>4.1315</td>\n    </tr>\n    <tr>\n      <th>63</th>\n      <td>2020-09-03 08:03:26.821200100+00:00</td>\n      <td>Background</td>\n      <td>CRONUS USA, Inc.</td>\n      <td>4.3415</td>\n    </tr>\n    <tr>\n      <th>64</th>\n      <td>2020-09-03 08:01:56.296767200+00:00</td>\n      <td>Background</td>\n      <td>CRONUS USA, Inc.</td>\n      <td>10.1028</td>\n    </tr>\n    <tr>\n      <th>65</th>\n      <td>2020-09-03 08:00:25.883319200+00:00</td>\n      <td>Background</td>\n      <td>CRONUS USA, Inc.</td>\n      <td>4.5014</td>\n    </tr>\n    <tr>\n      <th>66</th>\n      <td>2020-09-03 07:58:55.127233800+00:00</td>\n      <td>Background</td>\n      <td>CRONUS USA, Inc.</td>\n      <td>3.9696</td>\n    </tr>\n    <tr>\n      <th>67</th>\n      <td>2020-09-03 07:57:24.097367500+00:00</td>\n      <td>Background</td>\n      <td>CRONUS USA, Inc.</td>\n      <td>3.8011</td>\n    </tr>\n    <tr>\n      <th>68</th>\n      <td>2020-09-03 07:55:53.807262400+00:00</td>\n      <td>Background</td>\n      <td>CRONUS USA, Inc.</td>\n      <td>10.7311</td>\n    </tr>\n    <tr>\n      <th>69</th>\n      <td>2020-09-03 07:54:23.384147500+00:00</td>\n      <td>Background</td>\n      <td>CRONUS USA, Inc.</td>\n      <td>4.1693</td>\n    </tr>\n    <tr>\n      <th>70</th>\n      <td>2020-09-03 07:52:52.602501300+00:00</td>\n      <td>Background</td>\n      <td>CRONUS USA, Inc.</td>\n      <td>4.4187</td>\n    </tr>\n    <tr>\n      <th>71</th>\n      <td>2020-09-03 07:51:21.619925300+00:00</td>\n      <td>Background</td>\n      <td>CRONUS USA, Inc.</td>\n      <td>4.2030</td>\n    </tr>\n    <tr>\n      <th>72</th>\n      <td>2020-09-03 07:49:51.227334600+00:00</td>\n      <td>Background</td>\n      <td>CRONUS USA, Inc.</td>\n      <td>4.6095</td>\n    </tr>\n    <tr>\n      <th>73</th>\n      <td>2020-09-03 07:48:20.276375500+00:00</td>\n      <td>Background</td>\n      <td>CRONUS USA, Inc.</td>\n      <td>4.1397</td>\n    </tr>\n    <tr>\n      <th>74</th>\n      <td>2020-09-03 07:46:49.516686900+00:00</td>\n      <td>Background</td>\n      <td>CRONUS USA, Inc.</td>\n      <td>4.5561</td>\n    </tr>\n    <tr>\n      <th>75</th>\n      <td>2020-09-03 07:45:18.444789300+00:00</td>\n      <td>Background</td>\n      <td>CRONUS USA, Inc.</td>\n      <td>4.6366</td>\n    </tr>\n    <tr>\n      <th>76</th>\n      <td>2020-09-03 07:43:47.714887900+00:00</td>\n      <td>Background</td>\n      <td>CRONUS USA, Inc.</td>\n      <td>4.1065</td>\n    </tr>\n    <tr>\n      <th>77</th>\n      <td>2020-09-03 07:42:17.630860200+00:00</td>\n      <td>Background</td>\n      <td>CRONUS USA, Inc.</td>\n      <td>8.4761</td>\n    </tr>\n    <tr>\n      <th>78</th>\n      <td>2020-09-03 07:40:46.467664500+00:00</td>\n      <td>Background</td>\n      <td>CRONUS USA, Inc.</td>\n      <td>4.8424</td>\n    </tr>\n    <tr>\n      <th>79</th>\n      <td>2020-09-03 07:39:14.686159800+00:00</td>\n      <td>Background</td>\n      <td>CRONUS USA, Inc.</td>\n      <td>10.6526</td>\n    </tr>\n    <tr>\n      <th>80</th>\n      <td>2020-09-03 07:37:44.215132900+00:00</td>\n      <td>Background</td>\n      <td>CRONUS USA, Inc.</td>\n      <td>4.2862</td>\n    </tr>\n    <tr>\n      <th>81</th>\n      <td>2020-09-03 07:36:13.788627300+00:00</td>\n      <td>Background</td>\n      <td>CRONUS USA, Inc.</td>\n      <td>11.0434</td>\n    </tr>\n    <tr>\n      <th>82</th>\n      <td>2020-09-03 07:34:42.864109300+00:00</td>\n      <td>Background</td>\n      <td>CRONUS USA, Inc.</td>\n      <td>9.7561</td>\n    </tr>\n    <tr>\n      <th>83</th>\n      <td>2020-09-03 07:33:11.802850800+00:00</td>\n      <td>Background</td>\n      <td>CRONUS USA, Inc.</td>\n      <td>4.6147</td>\n    </tr>\n    <tr>\n      <th>84</th>\n      <td>2020-09-03 07:31:41.303379400+00:00</td>\n      <td>Background</td>\n      <td>CRONUS USA, Inc.</td>\n      <td>4.2221</td>\n    </tr>\n    <tr>\n      <th>85</th>\n      <td>2020-09-03 07:30:10.974139100+00:00</td>\n      <td>Background</td>\n      <td>CRONUS USA, Inc.</td>\n      <td>4.0193</td>\n    </tr>\n    <tr>\n      <th>86</th>\n      <td>2020-09-03 07:28:40.001878300+00:00</td>\n      <td>Background</td>\n      <td>CRONUS USA, Inc.</td>\n      <td>12.1361</td>\n    </tr>\n    <tr>\n      <th>87</th>\n      <td>2020-09-03 07:27:08.746784800+00:00</td>\n      <td>Background</td>\n      <td>CRONUS USA, Inc.</td>\n      <td>3.7806</td>\n    </tr>\n    <tr>\n      <th>88</th>\n      <td>2020-09-03 07:25:22.800613400+00:00</td>\n      <td>Background</td>\n      <td>CRONUS USA, Inc.</td>\n      <td>7.0619</td>\n    </tr>\n    <tr>\n      <th>89</th>\n      <td>2020-09-03 07:23:52.519573700+00:00</td>\n      <td>Background</td>\n      <td>CRONUS USA, Inc.</td>\n      <td>9.7086</td>\n    </tr>\n    <tr>\n      <th>90</th>\n      <td>2020-09-03 07:22:21.696692100+00:00</td>\n      <td>Background</td>\n      <td>CRONUS USA, Inc.</td>\n      <td>4.3059</td>\n    </tr>\n    <tr>\n      <th>91</th>\n      <td>2020-09-03 07:20:50.048796600+00:00</td>\n      <td>Background</td>\n      <td>CRONUS USA, Inc.</td>\n      <td>12.8949</td>\n    </tr>\n    <tr>\n      <th>92</th>\n      <td>2020-09-03 07:19:19.640427100+00:00</td>\n      <td>Background</td>\n      <td>CRONUS USA, Inc.</td>\n      <td>9.4339</td>\n    </tr>\n    <tr>\n      <th>93</th>\n      <td>2020-09-03 07:17:49.311329300+00:00</td>\n      <td>Background</td>\n      <td>CRONUS USA, Inc.</td>\n      <td>4.2427</td>\n    </tr>\n    <tr>\n      <th>94</th>\n      <td>2020-09-03 07:16:18.625569+00:00</td>\n      <td>Background</td>\n      <td>CRONUS USA, Inc.</td>\n      <td>4.0587</td>\n    </tr>\n    <tr>\n      <th>95</th>\n      <td>2020-09-03 07:14:47.308953400+00:00</td>\n      <td>Background</td>\n      <td>CRONUS USA, Inc.</td>\n      <td>4.2750</td>\n    </tr>\n    <tr>\n      <th>96</th>\n      <td>2020-09-03 07:13:16.965551+00:00</td>\n      <td>Background</td>\n      <td>CRONUS USA, Inc.</td>\n      <td>4.9665</td>\n    </tr>\n    <tr>\n      <th>97</th>\n      <td>2020-09-03 07:11:46.581315+00:00</td>\n      <td>Background</td>\n      <td>CRONUS USA, Inc.</td>\n      <td>11.9667</td>\n    </tr>\n    <tr>\n      <th>98</th>\n      <td>2020-09-03 07:10:16.338962600+00:00</td>\n      <td>Background</td>\n      <td>CRONUS USA, Inc.</td>\n      <td>12.1521</td>\n    </tr>\n    <tr>\n      <th>99</th>\n      <td>2020-09-03 07:08:45.307809100+00:00</td>\n      <td>Background</td>\n      <td>CRONUS USA, Inc.</td>\n      <td>4.5657</td>\n    </tr>\n  </tbody>\n</table>\n</div>",
                        "application/vnd.dataresource+json": {
                            "schema": {
                                "fields": [
                                    {
                                        "name": "timestamp",
                                        "type": "datetime",
                                        "tz": "UTC"
                                    },
                                    {
                                        "name": "clientType",
                                        "type": "string"
                                    },
                                    {
                                        "name": "companyName",
                                        "type": "string"
                                    },
                                    {
                                        "name": "totalTimeInMS",
                                        "type": "number"
                                    }
                                ],
                                "kqmagic_version": "0.1.113"
                            },
                            "data": [
                                {
                                    "timestamp": "2020-09-03T11:58:45.304Z",
                                    "clientType": "Background",
                                    "companyName": "CRONUS USA, Inc.",
                                    "totalTimeInMS": 4.2552
                                },
                                {
                                    "timestamp": "2020-09-03T11:52:42.953Z",
                                    "clientType": "Background",
                                    "companyName": "CRONUS USA, Inc.",
                                    "totalTimeInMS": 4.3144
                                },
                                {
                                    "timestamp": "2020-09-03T11:42:06.935Z",
                                    "clientType": "Background",
                                    "companyName": "CRONUS USA, Inc.",
                                    "totalTimeInMS": 4.7628
                                },
                                {
                                    "timestamp": "2020-09-03T10:53:29.835Z",
                                    "clientType": "Background",
                                    "companyName": "CRONUS USA, Inc.",
                                    "totalTimeInMS": 4.2954
                                },
                                {
                                    "timestamp": "2020-09-03T10:12:32.382Z",
                                    "clientType": "Background",
                                    "companyName": "CRONUS USA, Inc.",
                                    "totalTimeInMS": 3.9229
                                },
                                {
                                    "timestamp": "2020-09-03T10:01:57.423Z",
                                    "clientType": "Background",
                                    "companyName": "CRONUS USA, Inc.",
                                    "totalTimeInMS": 10.1692
                                },
                                {
                                    "timestamp": "2020-09-03T09:39:13.287Z",
                                    "clientType": "Background",
                                    "companyName": "CRONUS USA, Inc.",
                                    "totalTimeInMS": 7.5228
                                },
                                {
                                    "timestamp": "2020-09-03T09:25:36.178Z",
                                    "clientType": "Background",
                                    "companyName": "CRONUS USA, Inc.",
                                    "totalTimeInMS": 4.0502
                                },
                                {
                                    "timestamp": "2020-09-03T09:24:05.476Z",
                                    "clientType": "Background",
                                    "companyName": "CRONUS USA, Inc.",
                                    "totalTimeInMS": 4.3996
                                },
                                {
                                    "timestamp": "2020-09-03T09:22:34.431Z",
                                    "clientType": "Background",
                                    "companyName": "CRONUS USA, Inc.",
                                    "totalTimeInMS": 13.1957
                                },
                                {
                                    "timestamp": "2020-09-03T09:21:04.001Z",
                                    "clientType": "Background",
                                    "companyName": "CRONUS USA, Inc.",
                                    "totalTimeInMS": 6.618
                                },
                                {
                                    "timestamp": "2020-09-03T09:19:33.516Z",
                                    "clientType": "Background",
                                    "companyName": "CRONUS USA, Inc.",
                                    "totalTimeInMS": 4.156
                                },
                                {
                                    "timestamp": "2020-09-03T09:18:02.735Z",
                                    "clientType": "Background",
                                    "companyName": "CRONUS USA, Inc.",
                                    "totalTimeInMS": 4.1817
                                },
                                {
                                    "timestamp": "2020-09-03T09:16:31.755Z",
                                    "clientType": "Background",
                                    "companyName": "CRONUS USA, Inc.",
                                    "totalTimeInMS": 4.0502
                                },
                                {
                                    "timestamp": "2020-09-03T09:15:01.310Z",
                                    "clientType": "Background",
                                    "companyName": "CRONUS USA, Inc.",
                                    "totalTimeInMS": 5.4758
                                },
                                {
                                    "timestamp": "2020-09-03T09:13:30.803Z",
                                    "clientType": "Background",
                                    "companyName": "CRONUS USA, Inc.",
                                    "totalTimeInMS": 7.1922
                                },
                                {
                                    "timestamp": "2020-09-03T09:12:00.066Z",
                                    "clientType": "Background",
                                    "companyName": "CRONUS USA, Inc.",
                                    "totalTimeInMS": 4.3704
                                },
                                {
                                    "timestamp": "2020-09-03T09:10:29.016Z",
                                    "clientType": "Background",
                                    "companyName": "CRONUS USA, Inc.",
                                    "totalTimeInMS": 10.7737
                                },
                                {
                                    "timestamp": "2020-09-03T09:09:10.615Z",
                                    "clientType": "Background",
                                    "companyName": "CRONUS USA, Inc.",
                                    "totalTimeInMS": 4.0457
                                },
                                {
                                    "timestamp": "2020-09-03T09:09:01.573Z",
                                    "clientType": "Background",
                                    "companyName": "CRONUS USA, Inc.",
                                    "totalTimeInMS": 4.2168
                                },
                                {
                                    "timestamp": "2020-09-03T09:08:58.570Z",
                                    "clientType": "Background",
                                    "companyName": "CRONUS USA, Inc.",
                                    "totalTimeInMS": 10.6628
                                },
                                {
                                    "timestamp": "2020-09-03T09:07:28.078Z",
                                    "clientType": "Background",
                                    "companyName": "CRONUS USA, Inc.",
                                    "totalTimeInMS": 4.9263
                                },
                                {
                                    "timestamp": "2020-09-03T09:05:57.244Z",
                                    "clientType": "Background",
                                    "companyName": "CRONUS USA, Inc.",
                                    "totalTimeInMS": 10.3942
                                },
                                {
                                    "timestamp": "2020-09-03T09:04:26.143Z",
                                    "clientType": "Background",
                                    "companyName": "CRONUS USA, Inc.",
                                    "totalTimeInMS": 4.1373
                                },
                                {
                                    "timestamp": "2020-09-03T09:02:55.662Z",
                                    "clientType": "Background",
                                    "companyName": "CRONUS USA, Inc.",
                                    "totalTimeInMS": 4.1878
                                },
                                {
                                    "timestamp": "2020-09-03T09:01:25.262Z",
                                    "clientType": "Background",
                                    "companyName": "CRONUS USA, Inc.",
                                    "totalTimeInMS": 5.6998
                                },
                                {
                                    "timestamp": "2020-09-03T08:59:54.174Z",
                                    "clientType": "Background",
                                    "companyName": "CRONUS USA, Inc.",
                                    "totalTimeInMS": 3.9375
                                },
                                {
                                    "timestamp": "2020-09-03T08:58:23.125Z",
                                    "clientType": "Background",
                                    "companyName": "CRONUS USA, Inc.",
                                    "totalTimeInMS": 4.2864
                                },
                                {
                                    "timestamp": "2020-09-03T08:56:52.521Z",
                                    "clientType": "Background",
                                    "companyName": "CRONUS USA, Inc.",
                                    "totalTimeInMS": 4.1345
                                },
                                {
                                    "timestamp": "2020-09-03T08:55:08.808Z",
                                    "clientType": "Background",
                                    "companyName": "CRONUS USA, Inc.",
                                    "totalTimeInMS": 4.0946
                                },
                                {
                                    "timestamp": "2020-09-03T08:53:37.928Z",
                                    "clientType": "Background",
                                    "companyName": "CRONUS USA, Inc.",
                                    "totalTimeInMS": 3.8707
                                },
                                {
                                    "timestamp": "2020-09-03T08:52:06.930Z",
                                    "clientType": "Background",
                                    "companyName": "CRONUS USA, Inc.",
                                    "totalTimeInMS": 4.2821
                                },
                                {
                                    "timestamp": "2020-09-03T08:50:36.494Z",
                                    "clientType": "Background",
                                    "companyName": "CRONUS USA, Inc.",
                                    "totalTimeInMS": 4.2751
                                },
                                {
                                    "timestamp": "2020-09-03T08:49:05.427Z",
                                    "clientType": "Background",
                                    "companyName": "CRONUS USA, Inc.",
                                    "totalTimeInMS": 9.824
                                },
                                {
                                    "timestamp": "2020-09-03T08:47:34.686Z",
                                    "clientType": "Background",
                                    "companyName": "CRONUS USA, Inc.",
                                    "totalTimeInMS": 4.163
                                },
                                {
                                    "timestamp": "2020-09-03T08:46:03.610Z",
                                    "clientType": "Background",
                                    "companyName": "CRONUS USA, Inc.",
                                    "totalTimeInMS": 4.2292
                                },
                                {
                                    "timestamp": "2020-09-03T08:44:33.168Z",
                                    "clientType": "Background",
                                    "companyName": "CRONUS USA, Inc.",
                                    "totalTimeInMS": 3.9615
                                },
                                {
                                    "timestamp": "2020-09-03T08:43:02.794Z",
                                    "clientType": "Background",
                                    "companyName": "CRONUS USA, Inc.",
                                    "totalTimeInMS": 4.0648
                                },
                                {
                                    "timestamp": "2020-09-03T08:41:32.045Z",
                                    "clientType": "Background",
                                    "companyName": "CRONUS USA, Inc.",
                                    "totalTimeInMS": 4.4663
                                },
                                {
                                    "timestamp": "2020-09-03T08:40:00.990Z",
                                    "clientType": "Background",
                                    "companyName": "CRONUS USA, Inc.",
                                    "totalTimeInMS": 4.4347
                                },
                                {
                                    "timestamp": "2020-09-03T08:38:30.534Z",
                                    "clientType": "Background",
                                    "companyName": "CRONUS USA, Inc.",
                                    "totalTimeInMS": 4.3686
                                },
                                {
                                    "timestamp": "2020-09-03T08:37:00.084Z",
                                    "clientType": "Background",
                                    "companyName": "CRONUS USA, Inc.",
                                    "totalTimeInMS": 4.1417
                                },
                                {
                                    "timestamp": "2020-09-03T08:35:29.376Z",
                                    "clientType": "Background",
                                    "companyName": "CRONUS USA, Inc.",
                                    "totalTimeInMS": 4.3359
                                },
                                {
                                    "timestamp": "2020-09-03T08:33:58.291Z",
                                    "clientType": "Background",
                                    "companyName": "CRONUS USA, Inc.",
                                    "totalTimeInMS": 9.7654
                                },
                                {
                                    "timestamp": "2020-09-03T08:32:27.906Z",
                                    "clientType": "Background",
                                    "companyName": "CRONUS USA, Inc.",
                                    "totalTimeInMS": 4.2483
                                },
                                {
                                    "timestamp": "2020-09-03T08:30:57.548Z",
                                    "clientType": "Background",
                                    "companyName": "CRONUS USA, Inc.",
                                    "totalTimeInMS": 4.3867
                                },
                                {
                                    "timestamp": "2020-09-03T08:29:26.721Z",
                                    "clientType": "Background",
                                    "companyName": "CRONUS USA, Inc.",
                                    "totalTimeInMS": 10.0482
                                },
                                {
                                    "timestamp": "2020-09-03T08:27:52.726Z",
                                    "clientType": "Background",
                                    "companyName": "CRONUS USA, Inc.",
                                    "totalTimeInMS": 4.2562
                                },
                                {
                                    "timestamp": "2020-09-03T08:26:22.207Z",
                                    "clientType": "Background",
                                    "companyName": "CRONUS USA, Inc.",
                                    "totalTimeInMS": 7.1468
                                },
                                {
                                    "timestamp": "2020-09-03T08:24:51.712Z",
                                    "clientType": "Background",
                                    "companyName": "CRONUS USA, Inc.",
                                    "totalTimeInMS": 10.3808
                                },
                                {
                                    "timestamp": "2020-09-03T08:23:20.849Z",
                                    "clientType": "Background",
                                    "companyName": "CRONUS USA, Inc.",
                                    "totalTimeInMS": 11.7601
                                },
                                {
                                    "timestamp": "2020-09-03T08:21:49.736Z",
                                    "clientType": "Background",
                                    "companyName": "CRONUS USA, Inc.",
                                    "totalTimeInMS": 3.8991
                                },
                                {
                                    "timestamp": "2020-09-03T08:20:19.346Z",
                                    "clientType": "Background",
                                    "companyName": "CRONUS USA, Inc.",
                                    "totalTimeInMS": 3.8751
                                },
                                {
                                    "timestamp": "2020-09-03T08:18:48.846Z",
                                    "clientType": "Background",
                                    "companyName": "CRONUS USA, Inc.",
                                    "totalTimeInMS": 4.5493
                                },
                                {
                                    "timestamp": "2020-09-03T08:17:18.085Z",
                                    "clientType": "Background",
                                    "companyName": "CRONUS USA, Inc.",
                                    "totalTimeInMS": 13.6279
                                },
                                {
                                    "timestamp": "2020-09-03T08:15:47.020Z",
                                    "clientType": "Background",
                                    "companyName": "CRONUS USA, Inc.",
                                    "totalTimeInMS": 4.1489
                                },
                                {
                                    "timestamp": "2020-09-03T08:14:16.655Z",
                                    "clientType": "Background",
                                    "companyName": "CRONUS USA, Inc.",
                                    "totalTimeInMS": 4.1005
                                },
                                {
                                    "timestamp": "2020-09-03T08:12:46.270Z",
                                    "clientType": "Background",
                                    "companyName": "CRONUS USA, Inc.",
                                    "totalTimeInMS": 4.2571
                                },
                                {
                                    "timestamp": "2020-09-03T08:11:15.524Z",
                                    "clientType": "Background",
                                    "companyName": "CRONUS USA, Inc.",
                                    "totalTimeInMS": 4.1238
                                },
                                {
                                    "timestamp": "2020-09-03T08:09:44.024Z",
                                    "clientType": "Background",
                                    "companyName": "CRONUS USA, Inc.",
                                    "totalTimeInMS": 7.1975
                                },
                                {
                                    "timestamp": "2020-09-03T08:07:59.136Z",
                                    "clientType": "Background",
                                    "companyName": "CRONUS USA, Inc.",
                                    "totalTimeInMS": 4.4229
                                },
                                {
                                    "timestamp": "2020-09-03T08:06:28.736Z",
                                    "clientType": "Background",
                                    "companyName": "CRONUS USA, Inc.",
                                    "totalTimeInMS": 3.7692
                                },
                                {
                                    "timestamp": "2020-09-03T08:04:57.998Z",
                                    "clientType": "Background",
                                    "companyName": "CRONUS USA, Inc.",
                                    "totalTimeInMS": 4.1315
                                },
                                {
                                    "timestamp": "2020-09-03T08:03:26.821Z",
                                    "clientType": "Background",
                                    "companyName": "CRONUS USA, Inc.",
                                    "totalTimeInMS": 4.3415
                                },
                                {
                                    "timestamp": "2020-09-03T08:01:56.296Z",
                                    "clientType": "Background",
                                    "companyName": "CRONUS USA, Inc.",
                                    "totalTimeInMS": 10.1028
                                },
                                {
                                    "timestamp": "2020-09-03T08:00:25.883Z",
                                    "clientType": "Background",
                                    "companyName": "CRONUS USA, Inc.",
                                    "totalTimeInMS": 4.5014
                                },
                                {
                                    "timestamp": "2020-09-03T07:58:55.127Z",
                                    "clientType": "Background",
                                    "companyName": "CRONUS USA, Inc.",
                                    "totalTimeInMS": 3.9696
                                },
                                {
                                    "timestamp": "2020-09-03T07:57:24.097Z",
                                    "clientType": "Background",
                                    "companyName": "CRONUS USA, Inc.",
                                    "totalTimeInMS": 3.8011
                                },
                                {
                                    "timestamp": "2020-09-03T07:55:53.807Z",
                                    "clientType": "Background",
                                    "companyName": "CRONUS USA, Inc.",
                                    "totalTimeInMS": 10.7311
                                },
                                {
                                    "timestamp": "2020-09-03T07:54:23.384Z",
                                    "clientType": "Background",
                                    "companyName": "CRONUS USA, Inc.",
                                    "totalTimeInMS": 4.1693
                                },
                                {
                                    "timestamp": "2020-09-03T07:52:52.602Z",
                                    "clientType": "Background",
                                    "companyName": "CRONUS USA, Inc.",
                                    "totalTimeInMS": 4.4187
                                },
                                {
                                    "timestamp": "2020-09-03T07:51:21.619Z",
                                    "clientType": "Background",
                                    "companyName": "CRONUS USA, Inc.",
                                    "totalTimeInMS": 4.203
                                },
                                {
                                    "timestamp": "2020-09-03T07:49:51.227Z",
                                    "clientType": "Background",
                                    "companyName": "CRONUS USA, Inc.",
                                    "totalTimeInMS": 4.6095
                                },
                                {
                                    "timestamp": "2020-09-03T07:48:20.276Z",
                                    "clientType": "Background",
                                    "companyName": "CRONUS USA, Inc.",
                                    "totalTimeInMS": 4.1397
                                },
                                {
                                    "timestamp": "2020-09-03T07:46:49.516Z",
                                    "clientType": "Background",
                                    "companyName": "CRONUS USA, Inc.",
                                    "totalTimeInMS": 4.5561
                                },
                                {
                                    "timestamp": "2020-09-03T07:45:18.444Z",
                                    "clientType": "Background",
                                    "companyName": "CRONUS USA, Inc.",
                                    "totalTimeInMS": 4.6366
                                },
                                {
                                    "timestamp": "2020-09-03T07:43:47.714Z",
                                    "clientType": "Background",
                                    "companyName": "CRONUS USA, Inc.",
                                    "totalTimeInMS": 4.1065
                                },
                                {
                                    "timestamp": "2020-09-03T07:42:17.630Z",
                                    "clientType": "Background",
                                    "companyName": "CRONUS USA, Inc.",
                                    "totalTimeInMS": 8.4761
                                },
                                {
                                    "timestamp": "2020-09-03T07:40:46.467Z",
                                    "clientType": "Background",
                                    "companyName": "CRONUS USA, Inc.",
                                    "totalTimeInMS": 4.8424
                                },
                                {
                                    "timestamp": "2020-09-03T07:39:14.686Z",
                                    "clientType": "Background",
                                    "companyName": "CRONUS USA, Inc.",
                                    "totalTimeInMS": 10.6526
                                },
                                {
                                    "timestamp": "2020-09-03T07:37:44.215Z",
                                    "clientType": "Background",
                                    "companyName": "CRONUS USA, Inc.",
                                    "totalTimeInMS": 4.2862
                                },
                                {
                                    "timestamp": "2020-09-03T07:36:13.788Z",
                                    "clientType": "Background",
                                    "companyName": "CRONUS USA, Inc.",
                                    "totalTimeInMS": 11.0434
                                },
                                {
                                    "timestamp": "2020-09-03T07:34:42.864Z",
                                    "clientType": "Background",
                                    "companyName": "CRONUS USA, Inc.",
                                    "totalTimeInMS": 9.7561
                                },
                                {
                                    "timestamp": "2020-09-03T07:33:11.802Z",
                                    "clientType": "Background",
                                    "companyName": "CRONUS USA, Inc.",
                                    "totalTimeInMS": 4.6147
                                },
                                {
                                    "timestamp": "2020-09-03T07:31:41.303Z",
                                    "clientType": "Background",
                                    "companyName": "CRONUS USA, Inc.",
                                    "totalTimeInMS": 4.2221
                                },
                                {
                                    "timestamp": "2020-09-03T07:30:10.974Z",
                                    "clientType": "Background",
                                    "companyName": "CRONUS USA, Inc.",
                                    "totalTimeInMS": 4.0193
                                },
                                {
                                    "timestamp": "2020-09-03T07:28:40.001Z",
                                    "clientType": "Background",
                                    "companyName": "CRONUS USA, Inc.",
                                    "totalTimeInMS": 12.1361
                                },
                                {
                                    "timestamp": "2020-09-03T07:27:08.746Z",
                                    "clientType": "Background",
                                    "companyName": "CRONUS USA, Inc.",
                                    "totalTimeInMS": 3.7806
                                },
                                {
                                    "timestamp": "2020-09-03T07:25:22.800Z",
                                    "clientType": "Background",
                                    "companyName": "CRONUS USA, Inc.",
                                    "totalTimeInMS": 7.0619
                                },
                                {
                                    "timestamp": "2020-09-03T07:23:52.519Z",
                                    "clientType": "Background",
                                    "companyName": "CRONUS USA, Inc.",
                                    "totalTimeInMS": 9.7086
                                },
                                {
                                    "timestamp": "2020-09-03T07:22:21.696Z",
                                    "clientType": "Background",
                                    "companyName": "CRONUS USA, Inc.",
                                    "totalTimeInMS": 4.3059
                                },
                                {
                                    "timestamp": "2020-09-03T07:20:50.048Z",
                                    "clientType": "Background",
                                    "companyName": "CRONUS USA, Inc.",
                                    "totalTimeInMS": 12.8949
                                },
                                {
                                    "timestamp": "2020-09-03T07:19:19.640Z",
                                    "clientType": "Background",
                                    "companyName": "CRONUS USA, Inc.",
                                    "totalTimeInMS": 9.4339
                                },
                                {
                                    "timestamp": "2020-09-03T07:17:49.311Z",
                                    "clientType": "Background",
                                    "companyName": "CRONUS USA, Inc.",
                                    "totalTimeInMS": 4.2427
                                },
                                {
                                    "timestamp": "2020-09-03T07:16:18.625Z",
                                    "clientType": "Background",
                                    "companyName": "CRONUS USA, Inc.",
                                    "totalTimeInMS": 4.0587
                                },
                                {
                                    "timestamp": "2020-09-03T07:14:47.308Z",
                                    "clientType": "Background",
                                    "companyName": "CRONUS USA, Inc.",
                                    "totalTimeInMS": 4.275
                                },
                                {
                                    "timestamp": "2020-09-03T07:13:16.965Z",
                                    "clientType": "Background",
                                    "companyName": "CRONUS USA, Inc.",
                                    "totalTimeInMS": 4.9665
                                },
                                {
                                    "timestamp": "2020-09-03T07:11:46.581Z",
                                    "clientType": "Background",
                                    "companyName": "CRONUS USA, Inc.",
                                    "totalTimeInMS": 11.9667
                                },
                                {
                                    "timestamp": "2020-09-03T07:10:16.338Z",
                                    "clientType": "Background",
                                    "companyName": "CRONUS USA, Inc.",
                                    "totalTimeInMS": 12.1521
                                },
                                {
                                    "timestamp": "2020-09-03T07:08:45.307Z",
                                    "clientType": "Background",
                                    "companyName": "CRONUS USA, Inc.",
                                    "totalTimeInMS": 4.5657
                                }
                            ]
                        }
                    },
                    "metadata": {}
                },
                {
                    "output_type": "display_data",
                    "data": {
                        "text/plain": "<IPython.core.display.HTML object>",
                        "text/html": "<html>\n        <head>\n            \n            \n        </head>\n        <body>\n            <div><p style='padding: 10px; color: #3a87ad; background-color: #d9edf7; border-color: #bce9f1'>Done&nbsp;(00:00.928):&nbsp;100&nbsp;records</p></div>\n        </body>\n        </html>"
                    },
                    "metadata": {}
                },
                {
                    "output_type": "execute_result",
                    "execution_count": 16,
                    "data": {
                        "text/plain": "[{'timestamp': datetime.datetime(2020, 9, 3, 11, 58, 45, 304946, tzinfo=tzutc()), 'clientType': 'Background', 'companyName': 'CRONUS USA, Inc.', 'totalTimeInMS': 4.2552},\n {'timestamp': datetime.datetime(2020, 9, 3, 11, 52, 42, 953805, tzinfo=tzutc()), 'clientType': 'Background', 'companyName': 'CRONUS USA, Inc.', 'totalTimeInMS': 4.3144},\n {'timestamp': datetime.datetime(2020, 9, 3, 11, 42, 6, 935431, tzinfo=tzutc()), 'clientType': 'Background', 'companyName': 'CRONUS USA, Inc.', 'totalTimeInMS': 4.7628},\n {'timestamp': datetime.datetime(2020, 9, 3, 10, 53, 29, 835902, tzinfo=tzutc()), 'clientType': 'Background', 'companyName': 'CRONUS USA, Inc.', 'totalTimeInMS': 4.2954},\n {'timestamp': datetime.datetime(2020, 9, 3, 10, 12, 32, 382961, tzinfo=tzutc()), 'clientType': 'Background', 'companyName': 'CRONUS USA, Inc.', 'totalTimeInMS': 3.9229},\n {'timestamp': datetime.datetime(2020, 9, 3, 10, 1, 57, 423682, tzinfo=tzutc()), 'clientType': 'Background', 'companyName': 'CRONUS USA, Inc.', 'totalTimeInMS': 10.1692},\n {'timestamp': datetime.datetime(2020, 9, 3, 9, 39, 13, 287199, tzinfo=tzutc()), 'clientType': 'Background', 'companyName': 'CRONUS USA, Inc.', 'totalTimeInMS': 7.5228},\n {'timestamp': datetime.datetime(2020, 9, 3, 9, 25, 36, 178364, tzinfo=tzutc()), 'clientType': 'Background', 'companyName': 'CRONUS USA, Inc.', 'totalTimeInMS': 4.0502},\n {'timestamp': datetime.datetime(2020, 9, 3, 9, 24, 5, 476836, tzinfo=tzutc()), 'clientType': 'Background', 'companyName': 'CRONUS USA, Inc.', 'totalTimeInMS': 4.3996},\n {'timestamp': datetime.datetime(2020, 9, 3, 9, 22, 34, 431727, tzinfo=tzutc()), 'clientType': 'Background', 'companyName': 'CRONUS USA, Inc.', 'totalTimeInMS': 13.1957},\n {'timestamp': datetime.datetime(2020, 9, 3, 9, 21, 4, 1971, tzinfo=tzutc()), 'clientType': 'Background', 'companyName': 'CRONUS USA, Inc.', 'totalTimeInMS': 6.618},\n {'timestamp': datetime.datetime(2020, 9, 3, 9, 19, 33, 516535, tzinfo=tzutc()), 'clientType': 'Background', 'companyName': 'CRONUS USA, Inc.', 'totalTimeInMS': 4.156},\n {'timestamp': datetime.datetime(2020, 9, 3, 9, 18, 2, 735723, tzinfo=tzutc()), 'clientType': 'Background', 'companyName': 'CRONUS USA, Inc.', 'totalTimeInMS': 4.1817},\n {'timestamp': datetime.datetime(2020, 9, 3, 9, 16, 31, 755434, tzinfo=tzutc()), 'clientType': 'Background', 'companyName': 'CRONUS USA, Inc.', 'totalTimeInMS': 4.0502},\n {'timestamp': datetime.datetime(2020, 9, 3, 9, 15, 1, 310163, tzinfo=tzutc()), 'clientType': 'Background', 'companyName': 'CRONUS USA, Inc.', 'totalTimeInMS': 5.4758},\n {'timestamp': datetime.datetime(2020, 9, 3, 9, 13, 30, 803924, tzinfo=tzutc()), 'clientType': 'Background', 'companyName': 'CRONUS USA, Inc.', 'totalTimeInMS': 7.1922},\n {'timestamp': datetime.datetime(2020, 9, 3, 9, 12, 0, 66613, tzinfo=tzutc()), 'clientType': 'Background', 'companyName': 'CRONUS USA, Inc.', 'totalTimeInMS': 4.3704},\n {'timestamp': datetime.datetime(2020, 9, 3, 9, 10, 29, 16694, tzinfo=tzutc()), 'clientType': 'Background', 'companyName': 'CRONUS USA, Inc.', 'totalTimeInMS': 10.7737},\n {'timestamp': datetime.datetime(2020, 9, 3, 9, 9, 10, 615809, tzinfo=tzutc()), 'clientType': 'Background', 'companyName': 'CRONUS USA, Inc.', 'totalTimeInMS': 4.0457},\n {'timestamp': datetime.datetime(2020, 9, 3, 9, 9, 1, 573133, tzinfo=tzutc()), 'clientType': 'Background', 'companyName': 'CRONUS USA, Inc.', 'totalTimeInMS': 4.2168},\n {'timestamp': datetime.datetime(2020, 9, 3, 9, 8, 58, 570391, tzinfo=tzutc()), 'clientType': 'Background', 'companyName': 'CRONUS USA, Inc.', 'totalTimeInMS': 10.6628},\n {'timestamp': datetime.datetime(2020, 9, 3, 9, 7, 28, 78648, tzinfo=tzutc()), 'clientType': 'Background', 'companyName': 'CRONUS USA, Inc.', 'totalTimeInMS': 4.9263},\n {'timestamp': datetime.datetime(2020, 9, 3, 9, 5, 57, 244591, tzinfo=tzutc()), 'clientType': 'Background', 'companyName': 'CRONUS USA, Inc.', 'totalTimeInMS': 10.3942},\n {'timestamp': datetime.datetime(2020, 9, 3, 9, 4, 26, 143506, tzinfo=tzutc()), 'clientType': 'Background', 'companyName': 'CRONUS USA, Inc.', 'totalTimeInMS': 4.1373},\n {'timestamp': datetime.datetime(2020, 9, 3, 9, 2, 55, 662813, tzinfo=tzutc()), 'clientType': 'Background', 'companyName': 'CRONUS USA, Inc.', 'totalTimeInMS': 4.1878},\n {'timestamp': datetime.datetime(2020, 9, 3, 9, 1, 25, 262869, tzinfo=tzutc()), 'clientType': 'Background', 'companyName': 'CRONUS USA, Inc.', 'totalTimeInMS': 5.6998},\n {'timestamp': datetime.datetime(2020, 9, 3, 8, 59, 54, 174976, tzinfo=tzutc()), 'clientType': 'Background', 'companyName': 'CRONUS USA, Inc.', 'totalTimeInMS': 3.9375},\n {'timestamp': datetime.datetime(2020, 9, 3, 8, 58, 23, 125393, tzinfo=tzutc()), 'clientType': 'Background', 'companyName': 'CRONUS USA, Inc.', 'totalTimeInMS': 4.2864},\n {'timestamp': datetime.datetime(2020, 9, 3, 8, 56, 52, 521781, tzinfo=tzutc()), 'clientType': 'Background', 'companyName': 'CRONUS USA, Inc.', 'totalTimeInMS': 4.1345},\n {'timestamp': datetime.datetime(2020, 9, 3, 8, 55, 8, 808624, tzinfo=tzutc()), 'clientType': 'Background', 'companyName': 'CRONUS USA, Inc.', 'totalTimeInMS': 4.0946},\n {'timestamp': datetime.datetime(2020, 9, 3, 8, 53, 37, 928208, tzinfo=tzutc()), 'clientType': 'Background', 'companyName': 'CRONUS USA, Inc.', 'totalTimeInMS': 3.8707},\n {'timestamp': datetime.datetime(2020, 9, 3, 8, 52, 6, 930961, tzinfo=tzutc()), 'clientType': 'Background', 'companyName': 'CRONUS USA, Inc.', 'totalTimeInMS': 4.2821},\n {'timestamp': datetime.datetime(2020, 9, 3, 8, 50, 36, 494087, tzinfo=tzutc()), 'clientType': 'Background', 'companyName': 'CRONUS USA, Inc.', 'totalTimeInMS': 4.2751},\n {'timestamp': datetime.datetime(2020, 9, 3, 8, 49, 5, 427968, tzinfo=tzutc()), 'clientType': 'Background', 'companyName': 'CRONUS USA, Inc.', 'totalTimeInMS': 9.824},\n {'timestamp': datetime.datetime(2020, 9, 3, 8, 47, 34, 686224, tzinfo=tzutc()), 'clientType': 'Background', 'companyName': 'CRONUS USA, Inc.', 'totalTimeInMS': 4.163},\n {'timestamp': datetime.datetime(2020, 9, 3, 8, 46, 3, 610945, tzinfo=tzutc()), 'clientType': 'Background', 'companyName': 'CRONUS USA, Inc.', 'totalTimeInMS': 4.2292},\n {'timestamp': datetime.datetime(2020, 9, 3, 8, 44, 33, 168392, tzinfo=tzutc()), 'clientType': 'Background', 'companyName': 'CRONUS USA, Inc.', 'totalTimeInMS': 3.9615},\n {'timestamp': datetime.datetime(2020, 9, 3, 8, 43, 2, 794582, tzinfo=tzutc()), 'clientType': 'Background', 'companyName': 'CRONUS USA, Inc.', 'totalTimeInMS': 4.0648},\n {'timestamp': datetime.datetime(2020, 9, 3, 8, 41, 32, 45922, tzinfo=tzutc()), 'clientType': 'Background', 'companyName': 'CRONUS USA, Inc.', 'totalTimeInMS': 4.4663},\n {'timestamp': datetime.datetime(2020, 9, 3, 8, 40, 0, 990287, tzinfo=tzutc()), 'clientType': 'Background', 'companyName': 'CRONUS USA, Inc.', 'totalTimeInMS': 4.4347},\n {'timestamp': datetime.datetime(2020, 9, 3, 8, 38, 30, 534281, tzinfo=tzutc()), 'clientType': 'Background', 'companyName': 'CRONUS USA, Inc.', 'totalTimeInMS': 4.3686},\n {'timestamp': datetime.datetime(2020, 9, 3, 8, 37, 0, 84122, tzinfo=tzutc()), 'clientType': 'Background', 'companyName': 'CRONUS USA, Inc.', 'totalTimeInMS': 4.1417},\n {'timestamp': datetime.datetime(2020, 9, 3, 8, 35, 29, 376036, tzinfo=tzutc()), 'clientType': 'Background', 'companyName': 'CRONUS USA, Inc.', 'totalTimeInMS': 4.3359},\n {'timestamp': datetime.datetime(2020, 9, 3, 8, 33, 58, 291318, tzinfo=tzutc()), 'clientType': 'Background', 'companyName': 'CRONUS USA, Inc.', 'totalTimeInMS': 9.7654},\n {'timestamp': datetime.datetime(2020, 9, 3, 8, 32, 27, 906928, tzinfo=tzutc()), 'clientType': 'Background', 'companyName': 'CRONUS USA, Inc.', 'totalTimeInMS': 4.2483},\n {'timestamp': datetime.datetime(2020, 9, 3, 8, 30, 57, 548760, tzinfo=tzutc()), 'clientType': 'Background', 'companyName': 'CRONUS USA, Inc.', 'totalTimeInMS': 4.3867},\n {'timestamp': datetime.datetime(2020, 9, 3, 8, 29, 26, 721207, tzinfo=tzutc()), 'clientType': 'Background', 'companyName': 'CRONUS USA, Inc.', 'totalTimeInMS': 10.0482},\n {'timestamp': datetime.datetime(2020, 9, 3, 8, 27, 52, 726973, tzinfo=tzutc()), 'clientType': 'Background', 'companyName': 'CRONUS USA, Inc.', 'totalTimeInMS': 4.2562},\n {'timestamp': datetime.datetime(2020, 9, 3, 8, 26, 22, 207073, tzinfo=tzutc()), 'clientType': 'Background', 'companyName': 'CRONUS USA, Inc.', 'totalTimeInMS': 7.1468},\n {'timestamp': datetime.datetime(2020, 9, 3, 8, 24, 51, 712324, tzinfo=tzutc()), 'clientType': 'Background', 'companyName': 'CRONUS USA, Inc.', 'totalTimeInMS': 10.3808},\n {'timestamp': datetime.datetime(2020, 9, 3, 8, 23, 20, 849819, tzinfo=tzutc()), 'clientType': 'Background', 'companyName': 'CRONUS USA, Inc.', 'totalTimeInMS': 11.7601},\n {'timestamp': datetime.datetime(2020, 9, 3, 8, 21, 49, 736765, tzinfo=tzutc()), 'clientType': 'Background', 'companyName': 'CRONUS USA, Inc.', 'totalTimeInMS': 3.8991},\n {'timestamp': datetime.datetime(2020, 9, 3, 8, 20, 19, 346456, tzinfo=tzutc()), 'clientType': 'Background', 'companyName': 'CRONUS USA, Inc.', 'totalTimeInMS': 3.8751},\n {'timestamp': datetime.datetime(2020, 9, 3, 8, 18, 48, 846962, tzinfo=tzutc()), 'clientType': 'Background', 'companyName': 'CRONUS USA, Inc.', 'totalTimeInMS': 4.5493},\n {'timestamp': datetime.datetime(2020, 9, 3, 8, 17, 18, 85699, tzinfo=tzutc()), 'clientType': 'Background', 'companyName': 'CRONUS USA, Inc.', 'totalTimeInMS': 13.6279},\n {'timestamp': datetime.datetime(2020, 9, 3, 8, 15, 47, 20636, tzinfo=tzutc()), 'clientType': 'Background', 'companyName': 'CRONUS USA, Inc.', 'totalTimeInMS': 4.1489},\n {'timestamp': datetime.datetime(2020, 9, 3, 8, 14, 16, 655844, tzinfo=tzutc()), 'clientType': 'Background', 'companyName': 'CRONUS USA, Inc.', 'totalTimeInMS': 4.1005},\n {'timestamp': datetime.datetime(2020, 9, 3, 8, 12, 46, 270965, tzinfo=tzutc()), 'clientType': 'Background', 'companyName': 'CRONUS USA, Inc.', 'totalTimeInMS': 4.2571},\n {'timestamp': datetime.datetime(2020, 9, 3, 8, 11, 15, 524950, tzinfo=tzutc()), 'clientType': 'Background', 'companyName': 'CRONUS USA, Inc.', 'totalTimeInMS': 4.1238},\n {'timestamp': datetime.datetime(2020, 9, 3, 8, 9, 44, 24975, tzinfo=tzutc()), 'clientType': 'Background', 'companyName': 'CRONUS USA, Inc.', 'totalTimeInMS': 7.1975},\n {'timestamp': datetime.datetime(2020, 9, 3, 8, 7, 59, 136866, tzinfo=tzutc()), 'clientType': 'Background', 'companyName': 'CRONUS USA, Inc.', 'totalTimeInMS': 4.4229},\n {'timestamp': datetime.datetime(2020, 9, 3, 8, 6, 28, 736731, tzinfo=tzutc()), 'clientType': 'Background', 'companyName': 'CRONUS USA, Inc.', 'totalTimeInMS': 3.7692},\n {'timestamp': datetime.datetime(2020, 9, 3, 8, 4, 57, 998579, tzinfo=tzutc()), 'clientType': 'Background', 'companyName': 'CRONUS USA, Inc.', 'totalTimeInMS': 4.1315},\n {'timestamp': datetime.datetime(2020, 9, 3, 8, 3, 26, 821200, tzinfo=tzutc()), 'clientType': 'Background', 'companyName': 'CRONUS USA, Inc.', 'totalTimeInMS': 4.3415},\n {'timestamp': datetime.datetime(2020, 9, 3, 8, 1, 56, 296767, tzinfo=tzutc()), 'clientType': 'Background', 'companyName': 'CRONUS USA, Inc.', 'totalTimeInMS': 10.1028},\n {'timestamp': datetime.datetime(2020, 9, 3, 8, 0, 25, 883319, tzinfo=tzutc()), 'clientType': 'Background', 'companyName': 'CRONUS USA, Inc.', 'totalTimeInMS': 4.5014},\n {'timestamp': datetime.datetime(2020, 9, 3, 7, 58, 55, 127233, tzinfo=tzutc()), 'clientType': 'Background', 'companyName': 'CRONUS USA, Inc.', 'totalTimeInMS': 3.9696},\n {'timestamp': datetime.datetime(2020, 9, 3, 7, 57, 24, 97367, tzinfo=tzutc()), 'clientType': 'Background', 'companyName': 'CRONUS USA, Inc.', 'totalTimeInMS': 3.8011},\n {'timestamp': datetime.datetime(2020, 9, 3, 7, 55, 53, 807262, tzinfo=tzutc()), 'clientType': 'Background', 'companyName': 'CRONUS USA, Inc.', 'totalTimeInMS': 10.7311},\n {'timestamp': datetime.datetime(2020, 9, 3, 7, 54, 23, 384147, tzinfo=tzutc()), 'clientType': 'Background', 'companyName': 'CRONUS USA, Inc.', 'totalTimeInMS': 4.1693},\n {'timestamp': datetime.datetime(2020, 9, 3, 7, 52, 52, 602501, tzinfo=tzutc()), 'clientType': 'Background', 'companyName': 'CRONUS USA, Inc.', 'totalTimeInMS': 4.4187},\n {'timestamp': datetime.datetime(2020, 9, 3, 7, 51, 21, 619925, tzinfo=tzutc()), 'clientType': 'Background', 'companyName': 'CRONUS USA, Inc.', 'totalTimeInMS': 4.203},\n {'timestamp': datetime.datetime(2020, 9, 3, 7, 49, 51, 227334, tzinfo=tzutc()), 'clientType': 'Background', 'companyName': 'CRONUS USA, Inc.', 'totalTimeInMS': 4.6095},\n {'timestamp': datetime.datetime(2020, 9, 3, 7, 48, 20, 276375, tzinfo=tzutc()), 'clientType': 'Background', 'companyName': 'CRONUS USA, Inc.', 'totalTimeInMS': 4.1397},\n {'timestamp': datetime.datetime(2020, 9, 3, 7, 46, 49, 516686, tzinfo=tzutc()), 'clientType': 'Background', 'companyName': 'CRONUS USA, Inc.', 'totalTimeInMS': 4.5561},\n {'timestamp': datetime.datetime(2020, 9, 3, 7, 45, 18, 444789, tzinfo=tzutc()), 'clientType': 'Background', 'companyName': 'CRONUS USA, Inc.', 'totalTimeInMS': 4.6366},\n {'timestamp': datetime.datetime(2020, 9, 3, 7, 43, 47, 714887, tzinfo=tzutc()), 'clientType': 'Background', 'companyName': 'CRONUS USA, Inc.', 'totalTimeInMS': 4.1065},\n {'timestamp': datetime.datetime(2020, 9, 3, 7, 42, 17, 630860, tzinfo=tzutc()), 'clientType': 'Background', 'companyName': 'CRONUS USA, Inc.', 'totalTimeInMS': 8.4761},\n {'timestamp': datetime.datetime(2020, 9, 3, 7, 40, 46, 467664, tzinfo=tzutc()), 'clientType': 'Background', 'companyName': 'CRONUS USA, Inc.', 'totalTimeInMS': 4.8424},\n {'timestamp': datetime.datetime(2020, 9, 3, 7, 39, 14, 686159, tzinfo=tzutc()), 'clientType': 'Background', 'companyName': 'CRONUS USA, Inc.', 'totalTimeInMS': 10.6526},\n {'timestamp': datetime.datetime(2020, 9, 3, 7, 37, 44, 215132, tzinfo=tzutc()), 'clientType': 'Background', 'companyName': 'CRONUS USA, Inc.', 'totalTimeInMS': 4.2862},\n {'timestamp': datetime.datetime(2020, 9, 3, 7, 36, 13, 788627, tzinfo=tzutc()), 'clientType': 'Background', 'companyName': 'CRONUS USA, Inc.', 'totalTimeInMS': 11.0434},\n {'timestamp': datetime.datetime(2020, 9, 3, 7, 34, 42, 864109, tzinfo=tzutc()), 'clientType': 'Background', 'companyName': 'CRONUS USA, Inc.', 'totalTimeInMS': 9.7561},\n {'timestamp': datetime.datetime(2020, 9, 3, 7, 33, 11, 802850, tzinfo=tzutc()), 'clientType': 'Background', 'companyName': 'CRONUS USA, Inc.', 'totalTimeInMS': 4.6147},\n {'timestamp': datetime.datetime(2020, 9, 3, 7, 31, 41, 303379, tzinfo=tzutc()), 'clientType': 'Background', 'companyName': 'CRONUS USA, Inc.', 'totalTimeInMS': 4.2221},\n {'timestamp': datetime.datetime(2020, 9, 3, 7, 30, 10, 974139, tzinfo=tzutc()), 'clientType': 'Background', 'companyName': 'CRONUS USA, Inc.', 'totalTimeInMS': 4.0193},\n {'timestamp': datetime.datetime(2020, 9, 3, 7, 28, 40, 1878, tzinfo=tzutc()), 'clientType': 'Background', 'companyName': 'CRONUS USA, Inc.', 'totalTimeInMS': 12.1361},\n {'timestamp': datetime.datetime(2020, 9, 3, 7, 27, 8, 746784, tzinfo=tzutc()), 'clientType': 'Background', 'companyName': 'CRONUS USA, Inc.', 'totalTimeInMS': 3.7806},\n {'timestamp': datetime.datetime(2020, 9, 3, 7, 25, 22, 800613, tzinfo=tzutc()), 'clientType': 'Background', 'companyName': 'CRONUS USA, Inc.', 'totalTimeInMS': 7.0619},\n {'timestamp': datetime.datetime(2020, 9, 3, 7, 23, 52, 519573, tzinfo=tzutc()), 'clientType': 'Background', 'companyName': 'CRONUS USA, Inc.', 'totalTimeInMS': 9.7086},\n {'timestamp': datetime.datetime(2020, 9, 3, 7, 22, 21, 696692, tzinfo=tzutc()), 'clientType': 'Background', 'companyName': 'CRONUS USA, Inc.', 'totalTimeInMS': 4.3059},\n {'timestamp': datetime.datetime(2020, 9, 3, 7, 20, 50, 48796, tzinfo=tzutc()), 'clientType': 'Background', 'companyName': 'CRONUS USA, Inc.', 'totalTimeInMS': 12.8949},\n {'timestamp': datetime.datetime(2020, 9, 3, 7, 19, 19, 640427, tzinfo=tzutc()), 'clientType': 'Background', 'companyName': 'CRONUS USA, Inc.', 'totalTimeInMS': 9.4339},\n {'timestamp': datetime.datetime(2020, 9, 3, 7, 17, 49, 311329, tzinfo=tzutc()), 'clientType': 'Background', 'companyName': 'CRONUS USA, Inc.', 'totalTimeInMS': 4.2427},\n {'timestamp': datetime.datetime(2020, 9, 3, 7, 16, 18, 625569, tzinfo=tzutc()), 'clientType': 'Background', 'companyName': 'CRONUS USA, Inc.', 'totalTimeInMS': 4.0587},\n {'timestamp': datetime.datetime(2020, 9, 3, 7, 14, 47, 308953, tzinfo=tzutc()), 'clientType': 'Background', 'companyName': 'CRONUS USA, Inc.', 'totalTimeInMS': 4.275},\n {'timestamp': datetime.datetime(2020, 9, 3, 7, 13, 16, 965551, tzinfo=tzutc()), 'clientType': 'Background', 'companyName': 'CRONUS USA, Inc.', 'totalTimeInMS': 4.9665},\n {'timestamp': datetime.datetime(2020, 9, 3, 7, 11, 46, 581315, tzinfo=tzutc()), 'clientType': 'Background', 'companyName': 'CRONUS USA, Inc.', 'totalTimeInMS': 11.9667},\n {'timestamp': datetime.datetime(2020, 9, 3, 7, 10, 16, 338962, tzinfo=tzutc()), 'clientType': 'Background', 'companyName': 'CRONUS USA, Inc.', 'totalTimeInMS': 12.1521},\n {'timestamp': datetime.datetime(2020, 9, 3, 7, 8, 45, 307809, tzinfo=tzutc()), 'clientType': 'Background', 'companyName': 'CRONUS USA, Inc.', 'totalTimeInMS': 4.5657}]",
                        "text/html": ""
                    },
                    "metadata": {}
                }
            ],
            "execution_count": 16
        },
        {
            "cell_type": "code",
            "source": [
                "%%kql\r\n",
                "let _aadTenantId = aadTenantId;\r\n",
                "let _environmentName = environmentName;\r\n",
                "traces\r\n",
                "| where 1==1 \r\n",
                "    and customDimensions.aadTenantId == _aadTenantId\r\n",
                "    and customDimensions.environmentName == _environmentName\r\n",
                "    and customDimensions.eventId == 'RT0004'\r\n",
                "    and timestamp > ago(1d)\r\n",
                "| extend clientType = tostring( customDimensions.clientType )\r\n",
                "| summarize count=count() by clientType, bin(timestamp, 1h)\r\n",
                "| render timechart title= 'Number of successful logins the last day (shown by client/session type)'"
            ],
            "metadata": {
                "azdata_cell_guid": "21e5d398-4a06-4ab9-a0e3-6e6263725dec"
            },
            "outputs": [
                {
                    "output_type": "display_data",
                    "data": {
                        "text/plain": "<IPython.core.display.HTML object>",
                        "text/html": "<html>\n        <head>\n            \n            \n        </head>\n        <body>\n            <div><p style='padding: 10px; color: #3a87ad; background-color: #d9edf7; border-color: #bce9f1'>&nbsp;*&nbsp;962fbf96-f15e-4d37-8f91-13cae96f4b3e@applicationinsights</p></div>\n        </body>\n        </html>"
                    },
                    "metadata": {}
                },
                {
                    "output_type": "display_data",
                    "data": {
                        "application/vnd.plotly.v1+json": {
                            "config": {
                                "plotlyServerURL": "https://plot.ly"
                            },
                            "data": [
                                {
                                    "line": {
                                        "color": "rgb(31, 118, 179)",
                                        "width": 1
                                    },
                                    "name": "Background:count",
                                    "opacity": 0.8,
                                    "type": "scatter",
                                    "x": [
                                        "2020-09-02T12:00:00+00:00",
                                        "2020-09-02T13:00:00+00:00",
                                        "2020-09-02T14:00:00+00:00",
                                        "2020-09-02T15:00:00+00:00",
                                        "2020-09-02T16:00:00+00:00",
                                        "2020-09-02T17:00:00+00:00",
                                        "2020-09-02T18:00:00+00:00",
                                        "2020-09-02T19:00:00+00:00",
                                        "2020-09-02T20:00:00+00:00",
                                        "2020-09-02T21:00:00+00:00",
                                        "2020-09-02T22:00:00+00:00",
                                        "2020-09-02T23:00:00+00:00",
                                        "2020-09-03T00:00:00+00:00",
                                        "2020-09-03T01:00:00+00:00",
                                        "2020-09-03T02:00:00+00:00",
                                        "2020-09-03T03:00:00+00:00",
                                        "2020-09-03T04:00:00+00:00",
                                        "2020-09-03T05:00:00+00:00",
                                        "2020-09-03T06:00:00+00:00",
                                        "2020-09-03T07:00:00+00:00",
                                        "2020-09-03T08:00:00+00:00",
                                        "2020-09-03T09:00:00+00:00",
                                        "2020-09-03T10:00:00+00:00",
                                        "2020-09-03T11:00:00+00:00"
                                    ],
                                    "y": [
                                        34,
                                        40,
                                        40,
                                        40,
                                        39,
                                        40,
                                        39,
                                        40,
                                        39,
                                        40,
                                        39,
                                        39,
                                        40,
                                        39,
                                        40,
                                        39,
                                        40,
                                        39,
                                        40,
                                        39,
                                        40,
                                        20,
                                        3,
                                        3
                                    ]
                                }
                            ],
                            "layout": {
                                "showlegend": true,
                                "template": {
                                    "data": {
                                        "bar": [
                                            {
                                                "error_x": {
                                                    "color": "#2a3f5f"
                                                },
                                                "error_y": {
                                                    "color": "#2a3f5f"
                                                },
                                                "marker": {
                                                    "line": {
                                                        "color": "#E5ECF6",
                                                        "width": 0.5
                                                    }
                                                },
                                                "type": "bar"
                                            }
                                        ],
                                        "barpolar": [
                                            {
                                                "marker": {
                                                    "line": {
                                                        "color": "#E5ECF6",
                                                        "width": 0.5
                                                    }
                                                },
                                                "type": "barpolar"
                                            }
                                        ],
                                        "carpet": [
                                            {
                                                "aaxis": {
                                                    "endlinecolor": "#2a3f5f",
                                                    "gridcolor": "white",
                                                    "linecolor": "white",
                                                    "minorgridcolor": "white",
                                                    "startlinecolor": "#2a3f5f"
                                                },
                                                "baxis": {
                                                    "endlinecolor": "#2a3f5f",
                                                    "gridcolor": "white",
                                                    "linecolor": "white",
                                                    "minorgridcolor": "white",
                                                    "startlinecolor": "#2a3f5f"
                                                },
                                                "type": "carpet"
                                            }
                                        ],
                                        "choropleth": [
                                            {
                                                "colorbar": {
                                                    "outlinewidth": 0,
                                                    "ticks": ""
                                                },
                                                "type": "choropleth"
                                            }
                                        ],
                                        "contour": [
                                            {
                                                "colorbar": {
                                                    "outlinewidth": 0,
                                                    "ticks": ""
                                                },
                                                "colorscale": [
                                                    [
                                                        0,
                                                        "#0d0887"
                                                    ],
                                                    [
                                                        0.1111111111111111,
                                                        "#46039f"
                                                    ],
                                                    [
                                                        0.2222222222222222,
                                                        "#7201a8"
                                                    ],
                                                    [
                                                        0.3333333333333333,
                                                        "#9c179e"
                                                    ],
                                                    [
                                                        0.4444444444444444,
                                                        "#bd3786"
                                                    ],
                                                    [
                                                        0.5555555555555556,
                                                        "#d8576b"
                                                    ],
                                                    [
                                                        0.6666666666666666,
                                                        "#ed7953"
                                                    ],
                                                    [
                                                        0.7777777777777778,
                                                        "#fb9f3a"
                                                    ],
                                                    [
                                                        0.8888888888888888,
                                                        "#fdca26"
                                                    ],
                                                    [
                                                        1,
                                                        "#f0f921"
                                                    ]
                                                ],
                                                "type": "contour"
                                            }
                                        ],
                                        "contourcarpet": [
                                            {
                                                "colorbar": {
                                                    "outlinewidth": 0,
                                                    "ticks": ""
                                                },
                                                "type": "contourcarpet"
                                            }
                                        ],
                                        "heatmap": [
                                            {
                                                "colorbar": {
                                                    "outlinewidth": 0,
                                                    "ticks": ""
                                                },
                                                "colorscale": [
                                                    [
                                                        0,
                                                        "#0d0887"
                                                    ],
                                                    [
                                                        0.1111111111111111,
                                                        "#46039f"
                                                    ],
                                                    [
                                                        0.2222222222222222,
                                                        "#7201a8"
                                                    ],
                                                    [
                                                        0.3333333333333333,
                                                        "#9c179e"
                                                    ],
                                                    [
                                                        0.4444444444444444,
                                                        "#bd3786"
                                                    ],
                                                    [
                                                        0.5555555555555556,
                                                        "#d8576b"
                                                    ],
                                                    [
                                                        0.6666666666666666,
                                                        "#ed7953"
                                                    ],
                                                    [
                                                        0.7777777777777778,
                                                        "#fb9f3a"
                                                    ],
                                                    [
                                                        0.8888888888888888,
                                                        "#fdca26"
                                                    ],
                                                    [
                                                        1,
                                                        "#f0f921"
                                                    ]
                                                ],
                                                "type": "heatmap"
                                            }
                                        ],
                                        "heatmapgl": [
                                            {
                                                "colorbar": {
                                                    "outlinewidth": 0,
                                                    "ticks": ""
                                                },
                                                "colorscale": [
                                                    [
                                                        0,
                                                        "#0d0887"
                                                    ],
                                                    [
                                                        0.1111111111111111,
                                                        "#46039f"
                                                    ],
                                                    [
                                                        0.2222222222222222,
                                                        "#7201a8"
                                                    ],
                                                    [
                                                        0.3333333333333333,
                                                        "#9c179e"
                                                    ],
                                                    [
                                                        0.4444444444444444,
                                                        "#bd3786"
                                                    ],
                                                    [
                                                        0.5555555555555556,
                                                        "#d8576b"
                                                    ],
                                                    [
                                                        0.6666666666666666,
                                                        "#ed7953"
                                                    ],
                                                    [
                                                        0.7777777777777778,
                                                        "#fb9f3a"
                                                    ],
                                                    [
                                                        0.8888888888888888,
                                                        "#fdca26"
                                                    ],
                                                    [
                                                        1,
                                                        "#f0f921"
                                                    ]
                                                ],
                                                "type": "heatmapgl"
                                            }
                                        ],
                                        "histogram": [
                                            {
                                                "marker": {
                                                    "colorbar": {
                                                        "outlinewidth": 0,
                                                        "ticks": ""
                                                    }
                                                },
                                                "type": "histogram"
                                            }
                                        ],
                                        "histogram2d": [
                                            {
                                                "colorbar": {
                                                    "outlinewidth": 0,
                                                    "ticks": ""
                                                },
                                                "colorscale": [
                                                    [
                                                        0,
                                                        "#0d0887"
                                                    ],
                                                    [
                                                        0.1111111111111111,
                                                        "#46039f"
                                                    ],
                                                    [
                                                        0.2222222222222222,
                                                        "#7201a8"
                                                    ],
                                                    [
                                                        0.3333333333333333,
                                                        "#9c179e"
                                                    ],
                                                    [
                                                        0.4444444444444444,
                                                        "#bd3786"
                                                    ],
                                                    [
                                                        0.5555555555555556,
                                                        "#d8576b"
                                                    ],
                                                    [
                                                        0.6666666666666666,
                                                        "#ed7953"
                                                    ],
                                                    [
                                                        0.7777777777777778,
                                                        "#fb9f3a"
                                                    ],
                                                    [
                                                        0.8888888888888888,
                                                        "#fdca26"
                                                    ],
                                                    [
                                                        1,
                                                        "#f0f921"
                                                    ]
                                                ],
                                                "type": "histogram2d"
                                            }
                                        ],
                                        "histogram2dcontour": [
                                            {
                                                "colorbar": {
                                                    "outlinewidth": 0,
                                                    "ticks": ""
                                                },
                                                "colorscale": [
                                                    [
                                                        0,
                                                        "#0d0887"
                                                    ],
                                                    [
                                                        0.1111111111111111,
                                                        "#46039f"
                                                    ],
                                                    [
                                                        0.2222222222222222,
                                                        "#7201a8"
                                                    ],
                                                    [
                                                        0.3333333333333333,
                                                        "#9c179e"
                                                    ],
                                                    [
                                                        0.4444444444444444,
                                                        "#bd3786"
                                                    ],
                                                    [
                                                        0.5555555555555556,
                                                        "#d8576b"
                                                    ],
                                                    [
                                                        0.6666666666666666,
                                                        "#ed7953"
                                                    ],
                                                    [
                                                        0.7777777777777778,
                                                        "#fb9f3a"
                                                    ],
                                                    [
                                                        0.8888888888888888,
                                                        "#fdca26"
                                                    ],
                                                    [
                                                        1,
                                                        "#f0f921"
                                                    ]
                                                ],
                                                "type": "histogram2dcontour"
                                            }
                                        ],
                                        "mesh3d": [
                                            {
                                                "colorbar": {
                                                    "outlinewidth": 0,
                                                    "ticks": ""
                                                },
                                                "type": "mesh3d"
                                            }
                                        ],
                                        "parcoords": [
                                            {
                                                "line": {
                                                    "colorbar": {
                                                        "outlinewidth": 0,
                                                        "ticks": ""
                                                    }
                                                },
                                                "type": "parcoords"
                                            }
                                        ],
                                        "pie": [
                                            {
                                                "automargin": true,
                                                "type": "pie"
                                            }
                                        ],
                                        "scatter": [
                                            {
                                                "marker": {
                                                    "colorbar": {
                                                        "outlinewidth": 0,
                                                        "ticks": ""
                                                    }
                                                },
                                                "type": "scatter"
                                            }
                                        ],
                                        "scatter3d": [
                                            {
                                                "line": {
                                                    "colorbar": {
                                                        "outlinewidth": 0,
                                                        "ticks": ""
                                                    }
                                                },
                                                "marker": {
                                                    "colorbar": {
                                                        "outlinewidth": 0,
                                                        "ticks": ""
                                                    }
                                                },
                                                "type": "scatter3d"
                                            }
                                        ],
                                        "scattercarpet": [
                                            {
                                                "marker": {
                                                    "colorbar": {
                                                        "outlinewidth": 0,
                                                        "ticks": ""
                                                    }
                                                },
                                                "type": "scattercarpet"
                                            }
                                        ],
                                        "scattergeo": [
                                            {
                                                "marker": {
                                                    "colorbar": {
                                                        "outlinewidth": 0,
                                                        "ticks": ""
                                                    }
                                                },
                                                "type": "scattergeo"
                                            }
                                        ],
                                        "scattergl": [
                                            {
                                                "marker": {
                                                    "colorbar": {
                                                        "outlinewidth": 0,
                                                        "ticks": ""
                                                    }
                                                },
                                                "type": "scattergl"
                                            }
                                        ],
                                        "scattermapbox": [
                                            {
                                                "marker": {
                                                    "colorbar": {
                                                        "outlinewidth": 0,
                                                        "ticks": ""
                                                    }
                                                },
                                                "type": "scattermapbox"
                                            }
                                        ],
                                        "scatterpolar": [
                                            {
                                                "marker": {
                                                    "colorbar": {
                                                        "outlinewidth": 0,
                                                        "ticks": ""
                                                    }
                                                },
                                                "type": "scatterpolar"
                                            }
                                        ],
                                        "scatterpolargl": [
                                            {
                                                "marker": {
                                                    "colorbar": {
                                                        "outlinewidth": 0,
                                                        "ticks": ""
                                                    }
                                                },
                                                "type": "scatterpolargl"
                                            }
                                        ],
                                        "scatterternary": [
                                            {
                                                "marker": {
                                                    "colorbar": {
                                                        "outlinewidth": 0,
                                                        "ticks": ""
                                                    }
                                                },
                                                "type": "scatterternary"
                                            }
                                        ],
                                        "surface": [
                                            {
                                                "colorbar": {
                                                    "outlinewidth": 0,
                                                    "ticks": ""
                                                },
                                                "colorscale": [
                                                    [
                                                        0,
                                                        "#0d0887"
                                                    ],
                                                    [
                                                        0.1111111111111111,
                                                        "#46039f"
                                                    ],
                                                    [
                                                        0.2222222222222222,
                                                        "#7201a8"
                                                    ],
                                                    [
                                                        0.3333333333333333,
                                                        "#9c179e"
                                                    ],
                                                    [
                                                        0.4444444444444444,
                                                        "#bd3786"
                                                    ],
                                                    [
                                                        0.5555555555555556,
                                                        "#d8576b"
                                                    ],
                                                    [
                                                        0.6666666666666666,
                                                        "#ed7953"
                                                    ],
                                                    [
                                                        0.7777777777777778,
                                                        "#fb9f3a"
                                                    ],
                                                    [
                                                        0.8888888888888888,
                                                        "#fdca26"
                                                    ],
                                                    [
                                                        1,
                                                        "#f0f921"
                                                    ]
                                                ],
                                                "type": "surface"
                                            }
                                        ],
                                        "table": [
                                            {
                                                "cells": {
                                                    "fill": {
                                                        "color": "#EBF0F8"
                                                    },
                                                    "line": {
                                                        "color": "white"
                                                    }
                                                },
                                                "header": {
                                                    "fill": {
                                                        "color": "#C8D4E3"
                                                    },
                                                    "line": {
                                                        "color": "white"
                                                    }
                                                },
                                                "type": "table"
                                            }
                                        ]
                                    },
                                    "layout": {
                                        "annotationdefaults": {
                                            "arrowcolor": "#2a3f5f",
                                            "arrowhead": 0,
                                            "arrowwidth": 1
                                        },
                                        "coloraxis": {
                                            "colorbar": {
                                                "outlinewidth": 0,
                                                "ticks": ""
                                            }
                                        },
                                        "colorscale": {
                                            "diverging": [
                                                [
                                                    0,
                                                    "#8e0152"
                                                ],
                                                [
                                                    0.1,
                                                    "#c51b7d"
                                                ],
                                                [
                                                    0.2,
                                                    "#de77ae"
                                                ],
                                                [
                                                    0.3,
                                                    "#f1b6da"
                                                ],
                                                [
                                                    0.4,
                                                    "#fde0ef"
                                                ],
                                                [
                                                    0.5,
                                                    "#f7f7f7"
                                                ],
                                                [
                                                    0.6,
                                                    "#e6f5d0"
                                                ],
                                                [
                                                    0.7,
                                                    "#b8e186"
                                                ],
                                                [
                                                    0.8,
                                                    "#7fbc41"
                                                ],
                                                [
                                                    0.9,
                                                    "#4d9221"
                                                ],
                                                [
                                                    1,
                                                    "#276419"
                                                ]
                                            ],
                                            "sequential": [
                                                [
                                                    0,
                                                    "#0d0887"
                                                ],
                                                [
                                                    0.1111111111111111,
                                                    "#46039f"
                                                ],
                                                [
                                                    0.2222222222222222,
                                                    "#7201a8"
                                                ],
                                                [
                                                    0.3333333333333333,
                                                    "#9c179e"
                                                ],
                                                [
                                                    0.4444444444444444,
                                                    "#bd3786"
                                                ],
                                                [
                                                    0.5555555555555556,
                                                    "#d8576b"
                                                ],
                                                [
                                                    0.6666666666666666,
                                                    "#ed7953"
                                                ],
                                                [
                                                    0.7777777777777778,
                                                    "#fb9f3a"
                                                ],
                                                [
                                                    0.8888888888888888,
                                                    "#fdca26"
                                                ],
                                                [
                                                    1,
                                                    "#f0f921"
                                                ]
                                            ],
                                            "sequentialminus": [
                                                [
                                                    0,
                                                    "#0d0887"
                                                ],
                                                [
                                                    0.1111111111111111,
                                                    "#46039f"
                                                ],
                                                [
                                                    0.2222222222222222,
                                                    "#7201a8"
                                                ],
                                                [
                                                    0.3333333333333333,
                                                    "#9c179e"
                                                ],
                                                [
                                                    0.4444444444444444,
                                                    "#bd3786"
                                                ],
                                                [
                                                    0.5555555555555556,
                                                    "#d8576b"
                                                ],
                                                [
                                                    0.6666666666666666,
                                                    "#ed7953"
                                                ],
                                                [
                                                    0.7777777777777778,
                                                    "#fb9f3a"
                                                ],
                                                [
                                                    0.8888888888888888,
                                                    "#fdca26"
                                                ],
                                                [
                                                    1,
                                                    "#f0f921"
                                                ]
                                            ]
                                        },
                                        "colorway": [
                                            "#636efa",
                                            "#EF553B",
                                            "#00cc96",
                                            "#ab63fa",
                                            "#FFA15A",
                                            "#19d3f3",
                                            "#FF6692",
                                            "#B6E880",
                                            "#FF97FF",
                                            "#FECB52"
                                        ],
                                        "font": {
                                            "color": "#2a3f5f"
                                        },
                                        "geo": {
                                            "bgcolor": "white",
                                            "lakecolor": "white",
                                            "landcolor": "#E5ECF6",
                                            "showlakes": true,
                                            "showland": true,
                                            "subunitcolor": "white"
                                        },
                                        "hoverlabel": {
                                            "align": "left"
                                        },
                                        "hovermode": "closest",
                                        "mapbox": {
                                            "style": "light"
                                        },
                                        "paper_bgcolor": "white",
                                        "plot_bgcolor": "#E5ECF6",
                                        "polar": {
                                            "angularaxis": {
                                                "gridcolor": "white",
                                                "linecolor": "white",
                                                "ticks": ""
                                            },
                                            "bgcolor": "#E5ECF6",
                                            "radialaxis": {
                                                "gridcolor": "white",
                                                "linecolor": "white",
                                                "ticks": ""
                                            }
                                        },
                                        "scene": {
                                            "xaxis": {
                                                "backgroundcolor": "#E5ECF6",
                                                "gridcolor": "white",
                                                "gridwidth": 2,
                                                "linecolor": "white",
                                                "showbackground": true,
                                                "ticks": "",
                                                "zerolinecolor": "white"
                                            },
                                            "yaxis": {
                                                "backgroundcolor": "#E5ECF6",
                                                "gridcolor": "white",
                                                "gridwidth": 2,
                                                "linecolor": "white",
                                                "showbackground": true,
                                                "ticks": "",
                                                "zerolinecolor": "white"
                                            },
                                            "zaxis": {
                                                "backgroundcolor": "#E5ECF6",
                                                "gridcolor": "white",
                                                "gridwidth": 2,
                                                "linecolor": "white",
                                                "showbackground": true,
                                                "ticks": "",
                                                "zerolinecolor": "white"
                                            }
                                        },
                                        "shapedefaults": {
                                            "line": {
                                                "color": "#2a3f5f"
                                            }
                                        },
                                        "ternary": {
                                            "aaxis": {
                                                "gridcolor": "white",
                                                "linecolor": "white",
                                                "ticks": ""
                                            },
                                            "baxis": {
                                                "gridcolor": "white",
                                                "linecolor": "white",
                                                "ticks": ""
                                            },
                                            "bgcolor": "#E5ECF6",
                                            "caxis": {
                                                "gridcolor": "white",
                                                "linecolor": "white",
                                                "ticks": ""
                                            }
                                        },
                                        "title": {
                                            "x": 0.05
                                        },
                                        "xaxis": {
                                            "automargin": true,
                                            "gridcolor": "white",
                                            "linecolor": "white",
                                            "ticks": "",
                                            "title": {
                                                "standoff": 15
                                            },
                                            "zerolinecolor": "white",
                                            "zerolinewidth": 2
                                        },
                                        "yaxis": {
                                            "automargin": true,
                                            "gridcolor": "white",
                                            "linecolor": "white",
                                            "ticks": "",
                                            "title": {
                                                "standoff": 15
                                            },
                                            "zerolinecolor": "white",
                                            "zerolinewidth": 2
                                        }
                                    }
                                },
                                "title": {
                                    "text": "Number of successful logins the last day (shown by client/session type)"
                                },
                                "xaxis": {
                                    "autorange": true,
                                    "title": {
                                        "text": "timestamp"
                                    },
                                    "type": "date"
                                },
                                "yaxis": {
                                    "ticksuffix": "",
                                    "title": {
                                        "text": "count"
                                    },
                                    "type": "linear"
                                }
                            }
                        }
                    },
                    "metadata": {}
                },
                {
                    "output_type": "display_data",
                    "data": {
                        "text/plain": "<IPython.core.display.HTML object>",
                        "text/html": "<html>\n        <head>\n            \n            \n        </head>\n        <body>\n            <div><p style='padding: 10px; color: #3a87ad; background-color: #d9edf7; border-color: #bce9f1'>Done&nbsp;(00:00.948):&nbsp;24&nbsp;records</p></div>\n        </body>\n        </html>"
                    },
                    "metadata": {}
                },
                {
                    "output_type": "execute_result",
                    "execution_count": 17,
                    "data": {
                        "text/plain": "[{'clientType': 'Background', 'timestamp': datetime.datetime(2020, 9, 2, 13, 0, tzinfo=tzutc()), 'count': 40},\n {'clientType': 'Background', 'timestamp': datetime.datetime(2020, 9, 2, 16, 0, tzinfo=tzutc()), 'count': 39},\n {'clientType': 'Background', 'timestamp': datetime.datetime(2020, 9, 2, 17, 0, tzinfo=tzutc()), 'count': 40},\n {'clientType': 'Background', 'timestamp': datetime.datetime(2020, 9, 2, 18, 0, tzinfo=tzutc()), 'count': 39},\n {'clientType': 'Background', 'timestamp': datetime.datetime(2020, 9, 3, 7, 0, tzinfo=tzutc()), 'count': 39},\n {'clientType': 'Background', 'timestamp': datetime.datetime(2020, 9, 3, 8, 0, tzinfo=tzutc()), 'count': 40},\n {'clientType': 'Background', 'timestamp': datetime.datetime(2020, 9, 3, 9, 0, tzinfo=tzutc()), 'count': 20},\n {'clientType': 'Background', 'timestamp': datetime.datetime(2020, 9, 2, 19, 0, tzinfo=tzutc()), 'count': 40},\n {'clientType': 'Background', 'timestamp': datetime.datetime(2020, 9, 2, 20, 0, tzinfo=tzutc()), 'count': 39},\n {'clientType': 'Background', 'timestamp': datetime.datetime(2020, 9, 2, 21, 0, tzinfo=tzutc()), 'count': 40},\n {'clientType': 'Background', 'timestamp': datetime.datetime(2020, 9, 2, 22, 0, tzinfo=tzutc()), 'count': 39},\n {'clientType': 'Background', 'timestamp': datetime.datetime(2020, 9, 2, 12, 0, tzinfo=tzutc()), 'count': 34},\n {'clientType': 'Background', 'timestamp': datetime.datetime(2020, 9, 2, 23, 0, tzinfo=tzutc()), 'count': 39},\n {'clientType': 'Background', 'timestamp': datetime.datetime(2020, 9, 3, 0, 0, tzinfo=tzutc()), 'count': 40},\n {'clientType': 'Background', 'timestamp': datetime.datetime(2020, 9, 2, 15, 0, tzinfo=tzutc()), 'count': 40},\n {'clientType': 'Background', 'timestamp': datetime.datetime(2020, 9, 3, 4, 0, tzinfo=tzutc()), 'count': 40},\n {'clientType': 'Background', 'timestamp': datetime.datetime(2020, 9, 3, 5, 0, tzinfo=tzutc()), 'count': 39},\n {'clientType': 'Background', 'timestamp': datetime.datetime(2020, 9, 3, 6, 0, tzinfo=tzutc()), 'count': 40},\n {'clientType': 'Background', 'timestamp': datetime.datetime(2020, 9, 3, 10, 0, tzinfo=tzutc()), 'count': 3},\n {'clientType': 'Background', 'timestamp': datetime.datetime(2020, 9, 3, 1, 0, tzinfo=tzutc()), 'count': 39},\n {'clientType': 'Background', 'timestamp': datetime.datetime(2020, 9, 3, 2, 0, tzinfo=tzutc()), 'count': 40},\n {'clientType': 'Background', 'timestamp': datetime.datetime(2020, 9, 3, 3, 0, tzinfo=tzutc()), 'count': 39},\n {'clientType': 'Background', 'timestamp': datetime.datetime(2020, 9, 3, 11, 0, tzinfo=tzutc()), 'count': 3},\n {'clientType': 'Background', 'timestamp': datetime.datetime(2020, 9, 2, 14, 0, tzinfo=tzutc()), 'count': 40}]",
                        "text/html": ""
                    },
                    "metadata": {}
                }
            ],
            "execution_count": 17
        },
        {
            "cell_type": "code",
            "source": [
                "%%kql\r\n",
                "let _aadTenantId = aadTenantId;\r\n",
                "let _environmentName = environmentName;\r\n",
                "traces\r\n",
                "| where 1==1 \r\n",
                "    and customDimensions.aadTenantId == _aadTenantId\r\n",
                "    and customDimensions.environmentName == _environmentName\r\n",
                "    and customDimensions.eventId in ('RT0001', 'RT0002', 'RT0004')\r\n",
                "    and timestamp > ago(1d)\r\n",
                "| extend attemptType = case(\r\n",
                "    customDimensions.eventId == 'RT0001', 'Failure before open company' ,\r\n",
                "    customDimensions.eventId == 'RT0002', 'Failure in open company trigger' ,\r\n",
                "    customDimensions.eventId == 'RT0004', 'Successful login' , \r\n",
                "    'Unknown reason'\r\n",
                ")\r\n",
                "| summarize count=count() by attemptType, bin(timestamp, 1h)\r\n",
                "| render timechart title= 'Number of login attempts the last day (shown by success/failure)'"
            ],
            "metadata": {
                "azdata_cell_guid": "5a1bb5e1-4d74-4ff3-938c-e04c989977fd"
            },
            "outputs": [
                {
                    "output_type": "display_data",
                    "data": {
                        "text/plain": "<IPython.core.display.HTML object>",
                        "text/html": "<html>\n        <head>\n            \n            \n        </head>\n        <body>\n            <div><p style='padding: 10px; color: #3a87ad; background-color: #d9edf7; border-color: #bce9f1'>&nbsp;*&nbsp;962fbf96-f15e-4d37-8f91-13cae96f4b3e@applicationinsights</p></div>\n        </body>\n        </html>"
                    },
                    "metadata": {}
                },
                {
                    "output_type": "display_data",
                    "data": {
                        "application/vnd.plotly.v1+json": {
                            "config": {
                                "plotlyServerURL": "https://plot.ly"
                            },
                            "data": [
                                {
                                    "line": {
                                        "color": "rgb(31, 118, 179)",
                                        "width": 1
                                    },
                                    "name": "Successful login:count",
                                    "opacity": 0.8,
                                    "type": "scatter",
                                    "x": [
                                        "2020-09-02T12:00:00+00:00",
                                        "2020-09-02T13:00:00+00:00",
                                        "2020-09-02T14:00:00+00:00",
                                        "2020-09-02T15:00:00+00:00",
                                        "2020-09-02T16:00:00+00:00",
                                        "2020-09-02T17:00:00+00:00",
                                        "2020-09-02T18:00:00+00:00",
                                        "2020-09-02T19:00:00+00:00",
                                        "2020-09-02T20:00:00+00:00",
                                        "2020-09-02T21:00:00+00:00",
                                        "2020-09-02T22:00:00+00:00",
                                        "2020-09-02T23:00:00+00:00",
                                        "2020-09-03T00:00:00+00:00",
                                        "2020-09-03T01:00:00+00:00",
                                        "2020-09-03T02:00:00+00:00",
                                        "2020-09-03T03:00:00+00:00",
                                        "2020-09-03T04:00:00+00:00",
                                        "2020-09-03T05:00:00+00:00",
                                        "2020-09-03T06:00:00+00:00",
                                        "2020-09-03T07:00:00+00:00",
                                        "2020-09-03T08:00:00+00:00",
                                        "2020-09-03T09:00:00+00:00",
                                        "2020-09-03T10:00:00+00:00",
                                        "2020-09-03T11:00:00+00:00"
                                    ],
                                    "y": [
                                        34,
                                        40,
                                        40,
                                        40,
                                        39,
                                        40,
                                        39,
                                        40,
                                        39,
                                        40,
                                        39,
                                        39,
                                        40,
                                        39,
                                        40,
                                        39,
                                        40,
                                        39,
                                        40,
                                        39,
                                        40,
                                        20,
                                        3,
                                        3
                                    ]
                                }
                            ],
                            "layout": {
                                "showlegend": true,
                                "template": {
                                    "data": {
                                        "bar": [
                                            {
                                                "error_x": {
                                                    "color": "#2a3f5f"
                                                },
                                                "error_y": {
                                                    "color": "#2a3f5f"
                                                },
                                                "marker": {
                                                    "line": {
                                                        "color": "#E5ECF6",
                                                        "width": 0.5
                                                    }
                                                },
                                                "type": "bar"
                                            }
                                        ],
                                        "barpolar": [
                                            {
                                                "marker": {
                                                    "line": {
                                                        "color": "#E5ECF6",
                                                        "width": 0.5
                                                    }
                                                },
                                                "type": "barpolar"
                                            }
                                        ],
                                        "carpet": [
                                            {
                                                "aaxis": {
                                                    "endlinecolor": "#2a3f5f",
                                                    "gridcolor": "white",
                                                    "linecolor": "white",
                                                    "minorgridcolor": "white",
                                                    "startlinecolor": "#2a3f5f"
                                                },
                                                "baxis": {
                                                    "endlinecolor": "#2a3f5f",
                                                    "gridcolor": "white",
                                                    "linecolor": "white",
                                                    "minorgridcolor": "white",
                                                    "startlinecolor": "#2a3f5f"
                                                },
                                                "type": "carpet"
                                            }
                                        ],
                                        "choropleth": [
                                            {
                                                "colorbar": {
                                                    "outlinewidth": 0,
                                                    "ticks": ""
                                                },
                                                "type": "choropleth"
                                            }
                                        ],
                                        "contour": [
                                            {
                                                "colorbar": {
                                                    "outlinewidth": 0,
                                                    "ticks": ""
                                                },
                                                "colorscale": [
                                                    [
                                                        0,
                                                        "#0d0887"
                                                    ],
                                                    [
                                                        0.1111111111111111,
                                                        "#46039f"
                                                    ],
                                                    [
                                                        0.2222222222222222,
                                                        "#7201a8"
                                                    ],
                                                    [
                                                        0.3333333333333333,
                                                        "#9c179e"
                                                    ],
                                                    [
                                                        0.4444444444444444,
                                                        "#bd3786"
                                                    ],
                                                    [
                                                        0.5555555555555556,
                                                        "#d8576b"
                                                    ],
                                                    [
                                                        0.6666666666666666,
                                                        "#ed7953"
                                                    ],
                                                    [
                                                        0.7777777777777778,
                                                        "#fb9f3a"
                                                    ],
                                                    [
                                                        0.8888888888888888,
                                                        "#fdca26"
                                                    ],
                                                    [
                                                        1,
                                                        "#f0f921"
                                                    ]
                                                ],
                                                "type": "contour"
                                            }
                                        ],
                                        "contourcarpet": [
                                            {
                                                "colorbar": {
                                                    "outlinewidth": 0,
                                                    "ticks": ""
                                                },
                                                "type": "contourcarpet"
                                            }
                                        ],
                                        "heatmap": [
                                            {
                                                "colorbar": {
                                                    "outlinewidth": 0,
                                                    "ticks": ""
                                                },
                                                "colorscale": [
                                                    [
                                                        0,
                                                        "#0d0887"
                                                    ],
                                                    [
                                                        0.1111111111111111,
                                                        "#46039f"
                                                    ],
                                                    [
                                                        0.2222222222222222,
                                                        "#7201a8"
                                                    ],
                                                    [
                                                        0.3333333333333333,
                                                        "#9c179e"
                                                    ],
                                                    [
                                                        0.4444444444444444,
                                                        "#bd3786"
                                                    ],
                                                    [
                                                        0.5555555555555556,
                                                        "#d8576b"
                                                    ],
                                                    [
                                                        0.6666666666666666,
                                                        "#ed7953"
                                                    ],
                                                    [
                                                        0.7777777777777778,
                                                        "#fb9f3a"
                                                    ],
                                                    [
                                                        0.8888888888888888,
                                                        "#fdca26"
                                                    ],
                                                    [
                                                        1,
                                                        "#f0f921"
                                                    ]
                                                ],
                                                "type": "heatmap"
                                            }
                                        ],
                                        "heatmapgl": [
                                            {
                                                "colorbar": {
                                                    "outlinewidth": 0,
                                                    "ticks": ""
                                                },
                                                "colorscale": [
                                                    [
                                                        0,
                                                        "#0d0887"
                                                    ],
                                                    [
                                                        0.1111111111111111,
                                                        "#46039f"
                                                    ],
                                                    [
                                                        0.2222222222222222,
                                                        "#7201a8"
                                                    ],
                                                    [
                                                        0.3333333333333333,
                                                        "#9c179e"
                                                    ],
                                                    [
                                                        0.4444444444444444,
                                                        "#bd3786"
                                                    ],
                                                    [
                                                        0.5555555555555556,
                                                        "#d8576b"
                                                    ],
                                                    [
                                                        0.6666666666666666,
                                                        "#ed7953"
                                                    ],
                                                    [
                                                        0.7777777777777778,
                                                        "#fb9f3a"
                                                    ],
                                                    [
                                                        0.8888888888888888,
                                                        "#fdca26"
                                                    ],
                                                    [
                                                        1,
                                                        "#f0f921"
                                                    ]
                                                ],
                                                "type": "heatmapgl"
                                            }
                                        ],
                                        "histogram": [
                                            {
                                                "marker": {
                                                    "colorbar": {
                                                        "outlinewidth": 0,
                                                        "ticks": ""
                                                    }
                                                },
                                                "type": "histogram"
                                            }
                                        ],
                                        "histogram2d": [
                                            {
                                                "colorbar": {
                                                    "outlinewidth": 0,
                                                    "ticks": ""
                                                },
                                                "colorscale": [
                                                    [
                                                        0,
                                                        "#0d0887"
                                                    ],
                                                    [
                                                        0.1111111111111111,
                                                        "#46039f"
                                                    ],
                                                    [
                                                        0.2222222222222222,
                                                        "#7201a8"
                                                    ],
                                                    [
                                                        0.3333333333333333,
                                                        "#9c179e"
                                                    ],
                                                    [
                                                        0.4444444444444444,
                                                        "#bd3786"
                                                    ],
                                                    [
                                                        0.5555555555555556,
                                                        "#d8576b"
                                                    ],
                                                    [
                                                        0.6666666666666666,
                                                        "#ed7953"
                                                    ],
                                                    [
                                                        0.7777777777777778,
                                                        "#fb9f3a"
                                                    ],
                                                    [
                                                        0.8888888888888888,
                                                        "#fdca26"
                                                    ],
                                                    [
                                                        1,
                                                        "#f0f921"
                                                    ]
                                                ],
                                                "type": "histogram2d"
                                            }
                                        ],
                                        "histogram2dcontour": [
                                            {
                                                "colorbar": {
                                                    "outlinewidth": 0,
                                                    "ticks": ""
                                                },
                                                "colorscale": [
                                                    [
                                                        0,
                                                        "#0d0887"
                                                    ],
                                                    [
                                                        0.1111111111111111,
                                                        "#46039f"
                                                    ],
                                                    [
                                                        0.2222222222222222,
                                                        "#7201a8"
                                                    ],
                                                    [
                                                        0.3333333333333333,
                                                        "#9c179e"
                                                    ],
                                                    [
                                                        0.4444444444444444,
                                                        "#bd3786"
                                                    ],
                                                    [
                                                        0.5555555555555556,
                                                        "#d8576b"
                                                    ],
                                                    [
                                                        0.6666666666666666,
                                                        "#ed7953"
                                                    ],
                                                    [
                                                        0.7777777777777778,
                                                        "#fb9f3a"
                                                    ],
                                                    [
                                                        0.8888888888888888,
                                                        "#fdca26"
                                                    ],
                                                    [
                                                        1,
                                                        "#f0f921"
                                                    ]
                                                ],
                                                "type": "histogram2dcontour"
                                            }
                                        ],
                                        "mesh3d": [
                                            {
                                                "colorbar": {
                                                    "outlinewidth": 0,
                                                    "ticks": ""
                                                },
                                                "type": "mesh3d"
                                            }
                                        ],
                                        "parcoords": [
                                            {
                                                "line": {
                                                    "colorbar": {
                                                        "outlinewidth": 0,
                                                        "ticks": ""
                                                    }
                                                },
                                                "type": "parcoords"
                                            }
                                        ],
                                        "pie": [
                                            {
                                                "automargin": true,
                                                "type": "pie"
                                            }
                                        ],
                                        "scatter": [
                                            {
                                                "marker": {
                                                    "colorbar": {
                                                        "outlinewidth": 0,
                                                        "ticks": ""
                                                    }
                                                },
                                                "type": "scatter"
                                            }
                                        ],
                                        "scatter3d": [
                                            {
                                                "line": {
                                                    "colorbar": {
                                                        "outlinewidth": 0,
                                                        "ticks": ""
                                                    }
                                                },
                                                "marker": {
                                                    "colorbar": {
                                                        "outlinewidth": 0,
                                                        "ticks": ""
                                                    }
                                                },
                                                "type": "scatter3d"
                                            }
                                        ],
                                        "scattercarpet": [
                                            {
                                                "marker": {
                                                    "colorbar": {
                                                        "outlinewidth": 0,
                                                        "ticks": ""
                                                    }
                                                },
                                                "type": "scattercarpet"
                                            }
                                        ],
                                        "scattergeo": [
                                            {
                                                "marker": {
                                                    "colorbar": {
                                                        "outlinewidth": 0,
                                                        "ticks": ""
                                                    }
                                                },
                                                "type": "scattergeo"
                                            }
                                        ],
                                        "scattergl": [
                                            {
                                                "marker": {
                                                    "colorbar": {
                                                        "outlinewidth": 0,
                                                        "ticks": ""
                                                    }
                                                },
                                                "type": "scattergl"
                                            }
                                        ],
                                        "scattermapbox": [
                                            {
                                                "marker": {
                                                    "colorbar": {
                                                        "outlinewidth": 0,
                                                        "ticks": ""
                                                    }
                                                },
                                                "type": "scattermapbox"
                                            }
                                        ],
                                        "scatterpolar": [
                                            {
                                                "marker": {
                                                    "colorbar": {
                                                        "outlinewidth": 0,
                                                        "ticks": ""
                                                    }
                                                },
                                                "type": "scatterpolar"
                                            }
                                        ],
                                        "scatterpolargl": [
                                            {
                                                "marker": {
                                                    "colorbar": {
                                                        "outlinewidth": 0,
                                                        "ticks": ""
                                                    }
                                                },
                                                "type": "scatterpolargl"
                                            }
                                        ],
                                        "scatterternary": [
                                            {
                                                "marker": {
                                                    "colorbar": {
                                                        "outlinewidth": 0,
                                                        "ticks": ""
                                                    }
                                                },
                                                "type": "scatterternary"
                                            }
                                        ],
                                        "surface": [
                                            {
                                                "colorbar": {
                                                    "outlinewidth": 0,
                                                    "ticks": ""
                                                },
                                                "colorscale": [
                                                    [
                                                        0,
                                                        "#0d0887"
                                                    ],
                                                    [
                                                        0.1111111111111111,
                                                        "#46039f"
                                                    ],
                                                    [
                                                        0.2222222222222222,
                                                        "#7201a8"
                                                    ],
                                                    [
                                                        0.3333333333333333,
                                                        "#9c179e"
                                                    ],
                                                    [
                                                        0.4444444444444444,
                                                        "#bd3786"
                                                    ],
                                                    [
                                                        0.5555555555555556,
                                                        "#d8576b"
                                                    ],
                                                    [
                                                        0.6666666666666666,
                                                        "#ed7953"
                                                    ],
                                                    [
                                                        0.7777777777777778,
                                                        "#fb9f3a"
                                                    ],
                                                    [
                                                        0.8888888888888888,
                                                        "#fdca26"
                                                    ],
                                                    [
                                                        1,
                                                        "#f0f921"
                                                    ]
                                                ],
                                                "type": "surface"
                                            }
                                        ],
                                        "table": [
                                            {
                                                "cells": {
                                                    "fill": {
                                                        "color": "#EBF0F8"
                                                    },
                                                    "line": {
                                                        "color": "white"
                                                    }
                                                },
                                                "header": {
                                                    "fill": {
                                                        "color": "#C8D4E3"
                                                    },
                                                    "line": {
                                                        "color": "white"
                                                    }
                                                },
                                                "type": "table"
                                            }
                                        ]
                                    },
                                    "layout": {
                                        "annotationdefaults": {
                                            "arrowcolor": "#2a3f5f",
                                            "arrowhead": 0,
                                            "arrowwidth": 1
                                        },
                                        "coloraxis": {
                                            "colorbar": {
                                                "outlinewidth": 0,
                                                "ticks": ""
                                            }
                                        },
                                        "colorscale": {
                                            "diverging": [
                                                [
                                                    0,
                                                    "#8e0152"
                                                ],
                                                [
                                                    0.1,
                                                    "#c51b7d"
                                                ],
                                                [
                                                    0.2,
                                                    "#de77ae"
                                                ],
                                                [
                                                    0.3,
                                                    "#f1b6da"
                                                ],
                                                [
                                                    0.4,
                                                    "#fde0ef"
                                                ],
                                                [
                                                    0.5,
                                                    "#f7f7f7"
                                                ],
                                                [
                                                    0.6,
                                                    "#e6f5d0"
                                                ],
                                                [
                                                    0.7,
                                                    "#b8e186"
                                                ],
                                                [
                                                    0.8,
                                                    "#7fbc41"
                                                ],
                                                [
                                                    0.9,
                                                    "#4d9221"
                                                ],
                                                [
                                                    1,
                                                    "#276419"
                                                ]
                                            ],
                                            "sequential": [
                                                [
                                                    0,
                                                    "#0d0887"
                                                ],
                                                [
                                                    0.1111111111111111,
                                                    "#46039f"
                                                ],
                                                [
                                                    0.2222222222222222,
                                                    "#7201a8"
                                                ],
                                                [
                                                    0.3333333333333333,
                                                    "#9c179e"
                                                ],
                                                [
                                                    0.4444444444444444,
                                                    "#bd3786"
                                                ],
                                                [
                                                    0.5555555555555556,
                                                    "#d8576b"
                                                ],
                                                [
                                                    0.6666666666666666,
                                                    "#ed7953"
                                                ],
                                                [
                                                    0.7777777777777778,
                                                    "#fb9f3a"
                                                ],
                                                [
                                                    0.8888888888888888,
                                                    "#fdca26"
                                                ],
                                                [
                                                    1,
                                                    "#f0f921"
                                                ]
                                            ],
                                            "sequentialminus": [
                                                [
                                                    0,
                                                    "#0d0887"
                                                ],
                                                [
                                                    0.1111111111111111,
                                                    "#46039f"
                                                ],
                                                [
                                                    0.2222222222222222,
                                                    "#7201a8"
                                                ],
                                                [
                                                    0.3333333333333333,
                                                    "#9c179e"
                                                ],
                                                [
                                                    0.4444444444444444,
                                                    "#bd3786"
                                                ],
                                                [
                                                    0.5555555555555556,
                                                    "#d8576b"
                                                ],
                                                [
                                                    0.6666666666666666,
                                                    "#ed7953"
                                                ],
                                                [
                                                    0.7777777777777778,
                                                    "#fb9f3a"
                                                ],
                                                [
                                                    0.8888888888888888,
                                                    "#fdca26"
                                                ],
                                                [
                                                    1,
                                                    "#f0f921"
                                                ]
                                            ]
                                        },
                                        "colorway": [
                                            "#636efa",
                                            "#EF553B",
                                            "#00cc96",
                                            "#ab63fa",
                                            "#FFA15A",
                                            "#19d3f3",
                                            "#FF6692",
                                            "#B6E880",
                                            "#FF97FF",
                                            "#FECB52"
                                        ],
                                        "font": {
                                            "color": "#2a3f5f"
                                        },
                                        "geo": {
                                            "bgcolor": "white",
                                            "lakecolor": "white",
                                            "landcolor": "#E5ECF6",
                                            "showlakes": true,
                                            "showland": true,
                                            "subunitcolor": "white"
                                        },
                                        "hoverlabel": {
                                            "align": "left"
                                        },
                                        "hovermode": "closest",
                                        "mapbox": {
                                            "style": "light"
                                        },
                                        "paper_bgcolor": "white",
                                        "plot_bgcolor": "#E5ECF6",
                                        "polar": {
                                            "angularaxis": {
                                                "gridcolor": "white",
                                                "linecolor": "white",
                                                "ticks": ""
                                            },
                                            "bgcolor": "#E5ECF6",
                                            "radialaxis": {
                                                "gridcolor": "white",
                                                "linecolor": "white",
                                                "ticks": ""
                                            }
                                        },
                                        "scene": {
                                            "xaxis": {
                                                "backgroundcolor": "#E5ECF6",
                                                "gridcolor": "white",
                                                "gridwidth": 2,
                                                "linecolor": "white",
                                                "showbackground": true,
                                                "ticks": "",
                                                "zerolinecolor": "white"
                                            },
                                            "yaxis": {
                                                "backgroundcolor": "#E5ECF6",
                                                "gridcolor": "white",
                                                "gridwidth": 2,
                                                "linecolor": "white",
                                                "showbackground": true,
                                                "ticks": "",
                                                "zerolinecolor": "white"
                                            },
                                            "zaxis": {
                                                "backgroundcolor": "#E5ECF6",
                                                "gridcolor": "white",
                                                "gridwidth": 2,
                                                "linecolor": "white",
                                                "showbackground": true,
                                                "ticks": "",
                                                "zerolinecolor": "white"
                                            }
                                        },
                                        "shapedefaults": {
                                            "line": {
                                                "color": "#2a3f5f"
                                            }
                                        },
                                        "ternary": {
                                            "aaxis": {
                                                "gridcolor": "white",
                                                "linecolor": "white",
                                                "ticks": ""
                                            },
                                            "baxis": {
                                                "gridcolor": "white",
                                                "linecolor": "white",
                                                "ticks": ""
                                            },
                                            "bgcolor": "#E5ECF6",
                                            "caxis": {
                                                "gridcolor": "white",
                                                "linecolor": "white",
                                                "ticks": ""
                                            }
                                        },
                                        "title": {
                                            "x": 0.05
                                        },
                                        "xaxis": {
                                            "automargin": true,
                                            "gridcolor": "white",
                                            "linecolor": "white",
                                            "ticks": "",
                                            "title": {
                                                "standoff": 15
                                            },
                                            "zerolinecolor": "white",
                                            "zerolinewidth": 2
                                        },
                                        "yaxis": {
                                            "automargin": true,
                                            "gridcolor": "white",
                                            "linecolor": "white",
                                            "ticks": "",
                                            "title": {
                                                "standoff": 15
                                            },
                                            "zerolinecolor": "white",
                                            "zerolinewidth": 2
                                        }
                                    }
                                },
                                "title": {
                                    "text": "Number of login attempts the last day (shown by success/failure)"
                                },
                                "xaxis": {
                                    "autorange": true,
                                    "title": {
                                        "text": "timestamp"
                                    },
                                    "type": "date"
                                },
                                "yaxis": {
                                    "ticksuffix": "",
                                    "title": {
                                        "text": "count"
                                    },
                                    "type": "linear"
                                }
                            }
                        }
                    },
                    "metadata": {}
                },
                {
                    "output_type": "display_data",
                    "data": {
                        "text/plain": "<IPython.core.display.HTML object>",
                        "text/html": "<html>\n        <head>\n            \n            \n        </head>\n        <body>\n            <div><p style='padding: 10px; color: #3a87ad; background-color: #d9edf7; border-color: #bce9f1'>Done&nbsp;(00:00.773):&nbsp;24&nbsp;records</p></div>\n        </body>\n        </html>"
                    },
                    "metadata": {}
                },
                {
                    "output_type": "execute_result",
                    "execution_count": 18,
                    "data": {
                        "text/plain": "[{'attemptType': 'Successful login', 'timestamp': datetime.datetime(2020, 9, 2, 12, 0, tzinfo=tzutc()), 'count': 34},\n {'attemptType': 'Successful login', 'timestamp': datetime.datetime(2020, 9, 2, 13, 0, tzinfo=tzutc()), 'count': 40},\n {'attemptType': 'Successful login', 'timestamp': datetime.datetime(2020, 9, 2, 16, 0, tzinfo=tzutc()), 'count': 39},\n {'attemptType': 'Successful login', 'timestamp': datetime.datetime(2020, 9, 2, 17, 0, tzinfo=tzutc()), 'count': 40},\n {'attemptType': 'Successful login', 'timestamp': datetime.datetime(2020, 9, 2, 18, 0, tzinfo=tzutc()), 'count': 39},\n {'attemptType': 'Successful login', 'timestamp': datetime.datetime(2020, 9, 2, 19, 0, tzinfo=tzutc()), 'count': 40},\n {'attemptType': 'Successful login', 'timestamp': datetime.datetime(2020, 9, 2, 20, 0, tzinfo=tzutc()), 'count': 39},\n {'attemptType': 'Successful login', 'timestamp': datetime.datetime(2020, 9, 2, 21, 0, tzinfo=tzutc()), 'count': 40},\n {'attemptType': 'Successful login', 'timestamp': datetime.datetime(2020, 9, 2, 23, 0, tzinfo=tzutc()), 'count': 39},\n {'attemptType': 'Successful login', 'timestamp': datetime.datetime(2020, 9, 3, 0, 0, tzinfo=tzutc()), 'count': 40},\n {'attemptType': 'Successful login', 'timestamp': datetime.datetime(2020, 9, 2, 15, 0, tzinfo=tzutc()), 'count': 40},\n {'attemptType': 'Successful login', 'timestamp': datetime.datetime(2020, 9, 3, 7, 0, tzinfo=tzutc()), 'count': 39},\n {'attemptType': 'Successful login', 'timestamp': datetime.datetime(2020, 9, 3, 8, 0, tzinfo=tzutc()), 'count': 40},\n {'attemptType': 'Successful login', 'timestamp': datetime.datetime(2020, 9, 3, 9, 0, tzinfo=tzutc()), 'count': 20},\n {'attemptType': 'Successful login', 'timestamp': datetime.datetime(2020, 9, 3, 4, 0, tzinfo=tzutc()), 'count': 40},\n {'attemptType': 'Successful login', 'timestamp': datetime.datetime(2020, 9, 3, 5, 0, tzinfo=tzutc()), 'count': 39},\n {'attemptType': 'Successful login', 'timestamp': datetime.datetime(2020, 9, 3, 6, 0, tzinfo=tzutc()), 'count': 40},\n {'attemptType': 'Successful login', 'timestamp': datetime.datetime(2020, 9, 3, 10, 0, tzinfo=tzutc()), 'count': 3},\n {'attemptType': 'Successful login', 'timestamp': datetime.datetime(2020, 9, 3, 1, 0, tzinfo=tzutc()), 'count': 39},\n {'attemptType': 'Successful login', 'timestamp': datetime.datetime(2020, 9, 3, 2, 0, tzinfo=tzutc()), 'count': 40},\n {'attemptType': 'Successful login', 'timestamp': datetime.datetime(2020, 9, 3, 3, 0, tzinfo=tzutc()), 'count': 39},\n {'attemptType': 'Successful login', 'timestamp': datetime.datetime(2020, 9, 2, 22, 0, tzinfo=tzutc()), 'count': 39},\n {'attemptType': 'Successful login', 'timestamp': datetime.datetime(2020, 9, 3, 11, 0, tzinfo=tzutc()), 'count': 3},\n {'attemptType': 'Successful login', 'timestamp': datetime.datetime(2020, 9, 2, 14, 0, tzinfo=tzutc()), 'count': 40}]",
                        "text/html": ""
                    },
                    "metadata": {}
                }
            ],
            "execution_count": 18
        }
    ]
}